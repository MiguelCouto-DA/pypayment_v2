{
 "cells": [
  {
   "cell_type": "code",
   "execution_count": 181,
   "outputs": [],
   "source": [
    "#%load_ext lab_black"
   ],
   "metadata": {
    "collapsed": false
   }
  },
  {
   "cell_type": "code",
   "execution_count": 182,
   "outputs": [],
   "source": [
    "## Importing all needed libraries and modules\n",
    "## Setting up BigQuery access credentials for SQL parsing of reporting data\n",
    "from google.cloud import bigquery\n",
    "from google.oauth2 import service_account\n",
    "import pandas_gbq\n",
    "import pandas as pd\n",
    "import numpy as np\n",
    "import os\n",
    "import warnings\n",
    "\n",
    "pd.set_option('display.max_columns', None)\n",
    "warnings.filterwarnings('ignore')\n",
    "\n",
    "credentials = service_account.Credentials.from_service_account_file(\n",
    "    \"/Users/miguelcouto/Downloads/zattoo-dataeng-e5f45785174f.json\"\n",
    ")\n",
    "\n",
    "project_id = \"zattoo-dataeng\"\n",
    "client = bigquery.Client(credentials=credentials, project=project_id)"
   ],
   "metadata": {
    "collapsed": false
   }
  },
  {
   "cell_type": "code",
   "execution_count": 183,
   "metadata": {},
   "outputs": [],
   "source": [
    "## SQL query that will create the main reporting dataframe\n",
    "sql_calcs = \"\"\"\n",
    "select mt.transaction_id,\n",
    "       mt.zuid,\n",
    "       mt.payment_method,\n",
    "       mt.currency,\n",
    "       mt.exchange_rate_eur_to_chf,\n",
    "       mt.sku,\n",
    "       product_offer_view.length as product_length,\n",
    "       product_service_view.classification as product_class,\n",
    "       mt.type_of_transaction,\n",
    "       case\n",
    "           when mt.country_name = 'Germany' then 'Germany'\n",
    "           when mt.country_name = 'Austria' then 'Austria'\n",
    "           else 'Switzerland' end                   as country_name,\n",
    "       c.countrycode                                as country_code,\n",
    "       mt.new_booking_net_chf,\n",
    "       mt.renewal_booking_net_chf,\n",
    "       mt.new_booking_net_eur,\n",
    "       mt.renewal_booking_net_eur,\n",
    "       mt.transaction_date,\n",
    "       mt.term_start,\n",
    "       mt.term_end,\n",
    "       product_service_view.zuya_account_permission as product_group_finance,\n",
    "       mt.vat_eur,\n",
    "       mt.vat_chf,\n",
    "       mt.vat_percentage,\n",
    "       mt.store_fees_chf,\n",
    "       mt.store_fees_eur\n",
    "from b2c_middleware.middlelayer_transactions mt\n",
    "         left join dim.countries c on c.name = mt.country_name\n",
    "         LEFT JOIN b2c_middleware_import.product_product_view AS product_product_view\n",
    "                   ON mt.sku = product_product_view.sku\n",
    "                       AND DATE(mt.transaction_date) = product_product_view.inserted_at_date\n",
    "         LEFT JOIN b2c_middleware_import.product_subscriptionproduct_view AS product_subscriptionproduct_view\n",
    "                   ON product_product_view.id = product_subscriptionproduct_view.id\n",
    "                       AND\n",
    "                      product_product_view.inserted_at_date = product_subscriptionproduct_view.inserted_at_date\n",
    "         LEFT JOIN b2c_middleware_import.product_offer_view AS product_offer_view\n",
    "                   ON product_subscriptionproduct_view.offer_id = product_offer_view.id\n",
    "                       AND product_subscriptionproduct_view.inserted_at_date = product_offer_view.inserted_at_date\n",
    "         LEFT JOIN b2c_middleware_import.product_service_view AS product_service_view\n",
    "                   ON product_offer_view.service_id = product_service_view.id\n",
    "                       AND product_offer_view.inserted_at_date = product_service_view.inserted_at_date\n",
    "where true\n",
    "  and mt.app_shop_id = 'datatrans'\n",
    "  and mt.transaction_date >= '2022-03-01 00:00:00'\n",
    "  and mt.transaction_date <= '2022-03-31 23:59:59'\n",
    "           \"\"\""
   ]
  },
  {
   "cell_type": "code",
   "execution_count": 184,
   "outputs": [],
   "source": [
    "## Prepare dataframe\n",
    "df = pandas_gbq.read_gbq(sql_calcs, project_id=project_id, progress_bar_type=None)\n",
    "\n",
    "## List of transaction types (new, renewal and refund) to be included in the dataframe\n",
    "type_trans_lst = [\"new_sale\",\n",
    "                  \"renewal\",\n",
    "                  \"refund\"\n",
    "                  ]"
   ],
   "metadata": {
    "collapsed": false
   }
  },
  {
   "cell_type": "code",
   "execution_count": 185,
   "outputs": [],
   "source": [
    "## Parsing date columns and converting them to datetime\n",
    "parse_dates = [\"term_start\", \"term_end\"]\n",
    "reporting_df = df[df[\"type_of_transaction\"].isin(type_trans_lst)].copy()\n",
    "\n",
    "for date in parse_dates:\n",
    "    reporting_df[date] = pd.to_datetime(reporting_df[date]).dt.tz_convert(None)"
   ],
   "metadata": {
    "collapsed": false
   }
  },
  {
   "cell_type": "code",
   "execution_count": 186,
   "outputs": [],
   "source": [
    "## Finance Subs reporting will happen once at end of each month and for that the reporting_month will be defined based on the mode of the transaction_date\n",
    "reporting_month = reporting_df['transaction_date'].mode().dt.to_period('M').dt.strftime('%Y-%m')[0]\n",
    "reporting_df['reporting_month'] = reporting_month"
   ],
   "metadata": {
    "collapsed": false
   }
  },
  {
   "cell_type": "code",
   "execution_count": 187,
   "metadata": {},
   "outputs": [],
   "source": [
    "## Calculate total_booking_net_eur/chf columns\n",
    "reporting_df[\"total_booking_net_chf\"] = (\n",
    "        reporting_df[\"new_booking_net_chf\"] + reporting_df[\"renewal_booking_net_chf\"]\n",
    ")\n",
    "reporting_df[\"total_booking_net_eur\"] = (\n",
    "        reporting_df[\"new_booking_net_eur\"] + reporting_df[\"renewal_booking_net_eur\"]\n",
    ")"
   ]
  },
  {
   "cell_type": "code",
   "execution_count": 188,
   "metadata": {},
   "outputs": [],
   "source": [
    "## Calculate product_length_months (the max number of months that each transaction_id is in - e.g., transaction_id 36385353 is a 1 month sub that started on\n",
    "## 23.03.22 18:45, which means product_length_months = 2 (March and April))\n",
    "reporting_df[\"product_length_months\"] = (\n",
    "        (reporting_df[\"term_end\"].dt.year - reporting_df[\"term_start\"].dt.year) * 12\n",
    "        + (reporting_df[\"term_end\"].dt.month - reporting_df[\"term_start\"].dt.month)\n",
    "        + 1\n",
    ")"
   ]
  },
  {
   "cell_type": "code",
   "execution_count": 189,
   "outputs": [],
   "source": [
    "## Some transactions have a weird behavior (probably refunds issued manually by Support), therefore product_length_months needs to be cleaned\n",
    "reporting_df[\"product_length_months\"][reporting_df[\"product_length_months\"] < 0] = 0"
   ],
   "metadata": {
    "collapsed": false
   }
  },
  {
   "cell_type": "code",
   "execution_count": 190,
   "outputs": [],
   "source": [
    "## Replacing product_length_months for exceptions where value is 2 instead of 1\n",
    "shorter_subs = (reporting_df['term_end'] - reporting_df['term_start']).dt.days <= 30\n",
    "shorter_subs_replacer = reporting_df[shorter_subs][\n",
    "    (reporting_df[\"product_length_months\"] == 2) & ((reporting_df['term_end']).dt.day == 1)].index.to_list()\n",
    "reporting_df[\"product_length_months\"].loc[shorter_subs_replacer] = 1"
   ],
   "metadata": {
    "collapsed": false
   }
  },
  {
   "cell_type": "code",
   "execution_count": 191,
   "metadata": {},
   "outputs": [],
   "source": [
    "## Reseting index\n",
    "reporting_df = reporting_df.reindex(reporting_df.index.repeat(reporting_df[\"product_length_months\"]))"
   ]
  },
  {
   "cell_type": "code",
   "execution_count": 192,
   "metadata": {},
   "outputs": [],
   "source": [
    "## Adding revenue_month_number (same logic as product_length_months but it iterates each month and adds +1)\n",
    "reporting_df[\"revenue_month_number\"] = reporting_df.groupby([\"transaction_id\"]).cumcount() + 1"
   ]
  },
  {
   "cell_type": "code",
   "execution_count": 193,
   "metadata": {},
   "outputs": [],
   "source": [
    "## Add revenue_month_date (same as revenue_month_number but with date for month begin)\n",
    "reporting_df[\"revenue_month_date\"] = reporting_df[\"term_start\"].to_numpy().astype(\"datetime64[M]\")\n",
    "reporting_df[\"revenue_month_date\"][reporting_df[\"type_of_transaction\"] == \"refund\"] = (\n",
    "    reporting_df[\"transaction_date\"].to_numpy().astype(\"datetime64[M]\")\n",
    ")\n",
    "\n",
    "reporting_df[\"revenue_month_date\"] = reporting_df.apply(\n",
    "    lambda x: x[\"revenue_month_date\"]\n",
    "              + pd.offsets.MonthEnd(x[\"revenue_month_number\"])\n",
    "              + pd.offsets.MonthBegin(-1),\n",
    "    axis=1,\n",
    ")\n",
    "\n",
    "reporting_df[\"product_term_length\"] = reporting_df[\"revenue_month_date\"].apply(\n",
    "    lambda t: pd.Period(t, freq=\"S\").days_in_month\n",
    ")\n",
    "\n",
    "reporting_df[\"product_term_length\"][reporting_df[\"term_start\"] > reporting_df[\"revenue_month_date\"]] = (\n",
    "                                                                                                               reporting_df[\n",
    "                                                                                                                   \"term_start\"].dt.daysinmonth -\n",
    "                                                                                                               reporting_df[\n",
    "                                                                                                                   \"term_start\"].dt.day\n",
    "                                                                                                       ) + 1"
   ]
  },
  {
   "cell_type": "code",
   "execution_count": 194,
   "metadata": {},
   "outputs": [],
   "source": [
    "## Reseting index\n",
    "reporting_df.reset_index(drop=True, inplace=True)"
   ]
  },
  {
   "cell_type": "code",
   "execution_count": 195,
   "metadata": {},
   "outputs": [],
   "source": [
    "## Set active_sub_month_end = 1 by default\n",
    "# reporting_df[\"active_sub_month_end\"] = 1\n",
    "\n",
    "## Get last indices of each transaction_id group\n",
    "last_idxs = (\n",
    "        len(reporting_df)\n",
    "        - np.unique(\n",
    "    reporting_df.transaction_id.values[::-1],\n",
    "    return_index=1,\n",
    ")[1]\n",
    "        - 1\n",
    ")\n",
    "#\n",
    "# reporting_df[\"active_sub_month_end\"].iloc[last_idxs] = 0\n",
    "#\n",
    "# ## Mark all one transaction subscriptions as 1\n",
    "# reporting_df[\"active_sub_month_end\"][\n",
    "#     (reporting_df[\"revenue_month_number\"] <= 1) & (reporting_df[\"product_length_months\"] <= 1)\n",
    "#     ] = 1\n",
    "#\n",
    "# ## Mark all refund transactions as -1\n",
    "# reporting_df[\"active_sub_month_end\"][reporting_df[\"type_of_transaction\"] == \"refund\"] = -1"
   ]
  },
  {
   "cell_type": "code",
   "execution_count": 196,
   "outputs": [],
   "source": [
    "# ## Active_sub_content follows the same logic as active_sub_month_end except it doesn't count the last month\n",
    "# reporting_df[\"active_sub_content\"] = reporting_df.active_sub_month_end\n",
    "#\n",
    "# reporting_df.loc[reporting_df.groupby('transaction_id')['active_sub_content'].tail(2).index, 'active_sub_content'] = 0"
   ],
   "metadata": {
    "collapsed": false
   }
  },
  {
   "cell_type": "code",
   "execution_count": 197,
   "metadata": {},
   "outputs": [],
   "source": [
    "## Fix last position of product_term_length per transaction_id\n",
    "reporting_df[\"product_term_length\"].iloc[last_idxs] = (\n",
    "        reporting_df[\"term_end\"].iloc[last_idxs] -\n",
    "        reporting_df[\"revenue_month_date\"].iloc[last_idxs]\n",
    ").dt.days"
   ]
  },
  {
   "cell_type": "code",
   "execution_count": 198,
   "metadata": {},
   "outputs": [],
   "source": [
    "## Fix to tackle dynamic term_end for refunds (same as product_length_months)\n",
    "reporting_df[\"product_term_length\"][reporting_df[\"product_term_length\"] < 0] = 0"
   ]
  },
  {
   "cell_type": "code",
   "execution_count": 199,
   "metadata": {},
   "outputs": [],
   "source": [
    "## Total_days of product_term_length per transaction_id\n",
    "reporting_df[\"total_days\"] = reporting_df.groupby(\"transaction_id\")[\"product_term_length\"].transform(\n",
    "    \"sum\"\n",
    ")"
   ]
  },
  {
   "cell_type": "code",
   "execution_count": 200,
   "outputs": [],
   "source": [
    "## Marking 1 day transactions correctly\n",
    "reporting_df['total_days'][reporting_df['sku'].str.contains('1day')] = 1\n",
    "reporting_df['product_term_length'][reporting_df['sku'].str.contains('1day')] = 1"
   ],
   "metadata": {
    "collapsed": false
   }
  },
  {
   "cell_type": "code",
   "execution_count": 201,
   "outputs": [
    {
     "data": {
      "text/plain": "        transaction_id      zuid    payment_method currency  \\\n2638          36229957  21939397       credit_card      CHF   \n2821          36235455  30225669  postfinance_card      CHF   \n2991    34285273_29692   6347306            paypal      CHF   \n2992    34285273_29692   6347306            paypal      CHF   \n2993    34285273_29692   6347306            paypal      CHF   \n...                ...       ...               ...      ...   \n249715        36461399     76343       credit_card      CHF   \n249716        36461399     76343       credit_card      CHF   \n249717        36461399     76343       credit_card      CHF   \n263753        36294727  13772200            paypal      CHF   \n263754        36294727  13772200            paypal      CHF   \n\n        exchange_rate_eur_to_chf                        sku  product_length  \\\n2638                     1.00837  zattoo_web_hiq_swiss_12mo             365   \n2821                     1.00837  zattoo_web_hiq_swiss_12mo             365   \n2991                     1.09540  zattoo_web_hiq_swiss_12mo             365   \n2992                     1.09540  zattoo_web_hiq_swiss_12mo             365   \n2993                     1.09540  zattoo_web_hiq_swiss_12mo             365   \n...                          ...                        ...             ...   \n249715                   1.00837  zattoo_web_hiq_swiss_12mo             365   \n249716                   1.00837  zattoo_web_hiq_swiss_12mo             365   \n249717                   1.00837  zattoo_web_hiq_swiss_12mo             365   \n263753                   1.00837  zattoo_web_hiq_swiss_12mo             365   \n263754                   1.00837  zattoo_web_hiq_swiss_12mo             365   \n\n       product_class type_of_transaction country_name country_code  \\\n2638         premium            new_sale  Switzerland           CH   \n2821         premium            new_sale  Switzerland           CH   \n2991         premium              refund  Switzerland           CH   \n2992         premium              refund  Switzerland           CH   \n2993         premium              refund  Switzerland           CH   \n...              ...                 ...          ...          ...   \n249715       premium             renewal  Switzerland           CH   \n249716       premium             renewal  Switzerland           CH   \n249717       premium             renewal  Switzerland           CH   \n263753       premium             renewal  Switzerland           CH   \n263754       premium             renewal  Switzerland           CH   \n\n        new_booking_net_chf  renewal_booking_net_chf  new_booking_net_eur  \\\n2638             111.420613                 0.000000           110.495763   \n2821             111.420613                 0.000000           110.495763   \n2991               0.000000               -40.956360             0.000000   \n2992               0.000000               -40.956360             0.000000   \n2993               0.000000               -40.956360             0.000000   \n...                     ...                      ...                  ...   \n249715             0.000000               111.420613             0.000000   \n249716             0.000000               111.420613             0.000000   \n249717             0.000000               111.420613             0.000000   \n263753             0.000000               111.420613             0.000000   \n263754             0.000000               111.420613             0.000000   \n\n        renewal_booking_net_eur    transaction_date          term_start  \\\n2638                   0.000000 2022-03-10 13:10:49 2022-03-10 13:10:49   \n2821                   0.000000 2022-03-10 21:45:35 2022-03-10 21:45:35   \n2991                 -37.389410 2022-03-31 07:37:12 2021-10-11 18:05:25   \n2992                 -37.389410 2022-03-31 07:37:12 2021-10-11 18:05:25   \n2993                 -37.389410 2022-03-31 07:37:12 2021-10-11 18:05:25   \n...                         ...                 ...                 ...   \n249715               110.495763 2022-03-30 13:58:25 2022-03-31 07:40:56   \n249716               110.495763 2022-03-30 13:58:25 2022-03-31 07:40:56   \n249717               110.495763 2022-03-30 13:58:25 2022-03-31 07:40:56   \n263753               110.495763 2022-03-16 04:02:41 2022-03-17 14:34:40   \n263754               110.495763 2022-03-16 04:02:41 2022-03-17 14:34:40   \n\n                  term_end product_group_finance   vat_eur   vat_chf  \\\n2638   2022-03-11 20:40:53              base_hiq  8.508174  8.579387   \n2821   2022-03-11 17:23:52              base_hiq  8.508174  8.579387   \n2991   2022-03-30 18:07:37              base_hiq -2.878985 -3.153640   \n2992   2022-03-30 18:07:37              base_hiq -2.878985 -3.153640   \n2993   2022-03-30 18:07:37              base_hiq -2.878985 -3.153640   \n...                    ...                   ...       ...       ...   \n249715 2022-09-27 15:48:14              base_hiq  8.508174  8.579387   \n249716 2022-09-27 15:48:14              base_hiq  8.508174  8.579387   \n249717 2022-09-27 15:48:14              base_hiq  8.508174  8.579387   \n263753 2022-04-21 23:50:39              base_hiq  8.508174  8.579387   \n263754 2022-04-21 23:50:39              base_hiq  8.508174  8.579387   \n\n        vat_percentage  store_fees_chf  store_fees_eur reporting_month  \\\n2638               7.7             0.0             0.0         2022-03   \n2821               7.7             0.0             0.0         2022-03   \n2991               7.7             0.0             0.0         2022-03   \n2992               7.7             0.0             0.0         2022-03   \n2993               7.7             0.0             0.0         2022-03   \n...                ...             ...             ...             ...   \n249715             7.7             0.0             0.0         2022-03   \n249716             7.7             0.0             0.0         2022-03   \n249717             7.7             0.0             0.0         2022-03   \n263753             7.7             0.0             0.0         2022-03   \n263754             7.7             0.0             0.0         2022-03   \n\n        total_booking_net_chf  total_booking_net_eur  product_length_months  \\\n2638               111.420613             110.495763                      1   \n2821               111.420613             110.495763                      1   \n2991               -40.956360             -37.389410                      6   \n2992               -40.956360             -37.389410                      6   \n2993               -40.956360             -37.389410                      6   \n...                       ...                    ...                    ...   \n249715             111.420613             110.495763                      7   \n249716             111.420613             110.495763                      7   \n249717             111.420613             110.495763                      7   \n263753             111.420613             110.495763                      2   \n263754             111.420613             110.495763                      2   \n\n        revenue_month_number revenue_month_date  product_term_length  \\\n2638                       1         2022-03-01                   10   \n2821                       1         2022-03-01                   10   \n2991                       1         2022-03-01                   31   \n2992                       2         2022-04-01                   30   \n2993                       3         2022-05-01                   31   \n...                      ...                ...                  ...   \n249715                     5         2022-07-01                   31   \n249716                     6         2022-08-01                   31   \n249717                     7         2022-09-01                   26   \n263753                     1         2022-03-01                   15   \n263754                     2         2022-04-01                   20   \n\n        total_days  max_revenue_month_number  \n2638            10                         1  \n2821            10                         1  \n2991           153                         6  \n2992           153                         6  \n2993           153                         6  \n...            ...                       ...  \n249715         180                         7  \n249716         180                         7  \n249717         180                         7  \n263753          35                         2  \n263754          35                         2  \n\n[642 rows x 33 columns]",
      "text/html": "<div>\n<style scoped>\n    .dataframe tbody tr th:only-of-type {\n        vertical-align: middle;\n    }\n\n    .dataframe tbody tr th {\n        vertical-align: top;\n    }\n\n    .dataframe thead th {\n        text-align: right;\n    }\n</style>\n<table border=\"1\" class=\"dataframe\">\n  <thead>\n    <tr style=\"text-align: right;\">\n      <th></th>\n      <th>transaction_id</th>\n      <th>zuid</th>\n      <th>payment_method</th>\n      <th>currency</th>\n      <th>exchange_rate_eur_to_chf</th>\n      <th>sku</th>\n      <th>product_length</th>\n      <th>product_class</th>\n      <th>type_of_transaction</th>\n      <th>country_name</th>\n      <th>country_code</th>\n      <th>new_booking_net_chf</th>\n      <th>renewal_booking_net_chf</th>\n      <th>new_booking_net_eur</th>\n      <th>renewal_booking_net_eur</th>\n      <th>transaction_date</th>\n      <th>term_start</th>\n      <th>term_end</th>\n      <th>product_group_finance</th>\n      <th>vat_eur</th>\n      <th>vat_chf</th>\n      <th>vat_percentage</th>\n      <th>store_fees_chf</th>\n      <th>store_fees_eur</th>\n      <th>reporting_month</th>\n      <th>total_booking_net_chf</th>\n      <th>total_booking_net_eur</th>\n      <th>product_length_months</th>\n      <th>revenue_month_number</th>\n      <th>revenue_month_date</th>\n      <th>product_term_length</th>\n      <th>total_days</th>\n      <th>max_revenue_month_number</th>\n    </tr>\n  </thead>\n  <tbody>\n    <tr>\n      <th>2638</th>\n      <td>36229957</td>\n      <td>21939397</td>\n      <td>credit_card</td>\n      <td>CHF</td>\n      <td>1.00837</td>\n      <td>zattoo_web_hiq_swiss_12mo</td>\n      <td>365</td>\n      <td>premium</td>\n      <td>new_sale</td>\n      <td>Switzerland</td>\n      <td>CH</td>\n      <td>111.420613</td>\n      <td>0.000000</td>\n      <td>110.495763</td>\n      <td>0.000000</td>\n      <td>2022-03-10 13:10:49</td>\n      <td>2022-03-10 13:10:49</td>\n      <td>2022-03-11 20:40:53</td>\n      <td>base_hiq</td>\n      <td>8.508174</td>\n      <td>8.579387</td>\n      <td>7.7</td>\n      <td>0.0</td>\n      <td>0.0</td>\n      <td>2022-03</td>\n      <td>111.420613</td>\n      <td>110.495763</td>\n      <td>1</td>\n      <td>1</td>\n      <td>2022-03-01</td>\n      <td>10</td>\n      <td>10</td>\n      <td>1</td>\n    </tr>\n    <tr>\n      <th>2821</th>\n      <td>36235455</td>\n      <td>30225669</td>\n      <td>postfinance_card</td>\n      <td>CHF</td>\n      <td>1.00837</td>\n      <td>zattoo_web_hiq_swiss_12mo</td>\n      <td>365</td>\n      <td>premium</td>\n      <td>new_sale</td>\n      <td>Switzerland</td>\n      <td>CH</td>\n      <td>111.420613</td>\n      <td>0.000000</td>\n      <td>110.495763</td>\n      <td>0.000000</td>\n      <td>2022-03-10 21:45:35</td>\n      <td>2022-03-10 21:45:35</td>\n      <td>2022-03-11 17:23:52</td>\n      <td>base_hiq</td>\n      <td>8.508174</td>\n      <td>8.579387</td>\n      <td>7.7</td>\n      <td>0.0</td>\n      <td>0.0</td>\n      <td>2022-03</td>\n      <td>111.420613</td>\n      <td>110.495763</td>\n      <td>1</td>\n      <td>1</td>\n      <td>2022-03-01</td>\n      <td>10</td>\n      <td>10</td>\n      <td>1</td>\n    </tr>\n    <tr>\n      <th>2991</th>\n      <td>34285273_29692</td>\n      <td>6347306</td>\n      <td>paypal</td>\n      <td>CHF</td>\n      <td>1.09540</td>\n      <td>zattoo_web_hiq_swiss_12mo</td>\n      <td>365</td>\n      <td>premium</td>\n      <td>refund</td>\n      <td>Switzerland</td>\n      <td>CH</td>\n      <td>0.000000</td>\n      <td>-40.956360</td>\n      <td>0.000000</td>\n      <td>-37.389410</td>\n      <td>2022-03-31 07:37:12</td>\n      <td>2021-10-11 18:05:25</td>\n      <td>2022-03-30 18:07:37</td>\n      <td>base_hiq</td>\n      <td>-2.878985</td>\n      <td>-3.153640</td>\n      <td>7.7</td>\n      <td>0.0</td>\n      <td>0.0</td>\n      <td>2022-03</td>\n      <td>-40.956360</td>\n      <td>-37.389410</td>\n      <td>6</td>\n      <td>1</td>\n      <td>2022-03-01</td>\n      <td>31</td>\n      <td>153</td>\n      <td>6</td>\n    </tr>\n    <tr>\n      <th>2992</th>\n      <td>34285273_29692</td>\n      <td>6347306</td>\n      <td>paypal</td>\n      <td>CHF</td>\n      <td>1.09540</td>\n      <td>zattoo_web_hiq_swiss_12mo</td>\n      <td>365</td>\n      <td>premium</td>\n      <td>refund</td>\n      <td>Switzerland</td>\n      <td>CH</td>\n      <td>0.000000</td>\n      <td>-40.956360</td>\n      <td>0.000000</td>\n      <td>-37.389410</td>\n      <td>2022-03-31 07:37:12</td>\n      <td>2021-10-11 18:05:25</td>\n      <td>2022-03-30 18:07:37</td>\n      <td>base_hiq</td>\n      <td>-2.878985</td>\n      <td>-3.153640</td>\n      <td>7.7</td>\n      <td>0.0</td>\n      <td>0.0</td>\n      <td>2022-03</td>\n      <td>-40.956360</td>\n      <td>-37.389410</td>\n      <td>6</td>\n      <td>2</td>\n      <td>2022-04-01</td>\n      <td>30</td>\n      <td>153</td>\n      <td>6</td>\n    </tr>\n    <tr>\n      <th>2993</th>\n      <td>34285273_29692</td>\n      <td>6347306</td>\n      <td>paypal</td>\n      <td>CHF</td>\n      <td>1.09540</td>\n      <td>zattoo_web_hiq_swiss_12mo</td>\n      <td>365</td>\n      <td>premium</td>\n      <td>refund</td>\n      <td>Switzerland</td>\n      <td>CH</td>\n      <td>0.000000</td>\n      <td>-40.956360</td>\n      <td>0.000000</td>\n      <td>-37.389410</td>\n      <td>2022-03-31 07:37:12</td>\n      <td>2021-10-11 18:05:25</td>\n      <td>2022-03-30 18:07:37</td>\n      <td>base_hiq</td>\n      <td>-2.878985</td>\n      <td>-3.153640</td>\n      <td>7.7</td>\n      <td>0.0</td>\n      <td>0.0</td>\n      <td>2022-03</td>\n      <td>-40.956360</td>\n      <td>-37.389410</td>\n      <td>6</td>\n      <td>3</td>\n      <td>2022-05-01</td>\n      <td>31</td>\n      <td>153</td>\n      <td>6</td>\n    </tr>\n    <tr>\n      <th>...</th>\n      <td>...</td>\n      <td>...</td>\n      <td>...</td>\n      <td>...</td>\n      <td>...</td>\n      <td>...</td>\n      <td>...</td>\n      <td>...</td>\n      <td>...</td>\n      <td>...</td>\n      <td>...</td>\n      <td>...</td>\n      <td>...</td>\n      <td>...</td>\n      <td>...</td>\n      <td>...</td>\n      <td>...</td>\n      <td>...</td>\n      <td>...</td>\n      <td>...</td>\n      <td>...</td>\n      <td>...</td>\n      <td>...</td>\n      <td>...</td>\n      <td>...</td>\n      <td>...</td>\n      <td>...</td>\n      <td>...</td>\n      <td>...</td>\n      <td>...</td>\n      <td>...</td>\n      <td>...</td>\n      <td>...</td>\n    </tr>\n    <tr>\n      <th>249715</th>\n      <td>36461399</td>\n      <td>76343</td>\n      <td>credit_card</td>\n      <td>CHF</td>\n      <td>1.00837</td>\n      <td>zattoo_web_hiq_swiss_12mo</td>\n      <td>365</td>\n      <td>premium</td>\n      <td>renewal</td>\n      <td>Switzerland</td>\n      <td>CH</td>\n      <td>0.000000</td>\n      <td>111.420613</td>\n      <td>0.000000</td>\n      <td>110.495763</td>\n      <td>2022-03-30 13:58:25</td>\n      <td>2022-03-31 07:40:56</td>\n      <td>2022-09-27 15:48:14</td>\n      <td>base_hiq</td>\n      <td>8.508174</td>\n      <td>8.579387</td>\n      <td>7.7</td>\n      <td>0.0</td>\n      <td>0.0</td>\n      <td>2022-03</td>\n      <td>111.420613</td>\n      <td>110.495763</td>\n      <td>7</td>\n      <td>5</td>\n      <td>2022-07-01</td>\n      <td>31</td>\n      <td>180</td>\n      <td>7</td>\n    </tr>\n    <tr>\n      <th>249716</th>\n      <td>36461399</td>\n      <td>76343</td>\n      <td>credit_card</td>\n      <td>CHF</td>\n      <td>1.00837</td>\n      <td>zattoo_web_hiq_swiss_12mo</td>\n      <td>365</td>\n      <td>premium</td>\n      <td>renewal</td>\n      <td>Switzerland</td>\n      <td>CH</td>\n      <td>0.000000</td>\n      <td>111.420613</td>\n      <td>0.000000</td>\n      <td>110.495763</td>\n      <td>2022-03-30 13:58:25</td>\n      <td>2022-03-31 07:40:56</td>\n      <td>2022-09-27 15:48:14</td>\n      <td>base_hiq</td>\n      <td>8.508174</td>\n      <td>8.579387</td>\n      <td>7.7</td>\n      <td>0.0</td>\n      <td>0.0</td>\n      <td>2022-03</td>\n      <td>111.420613</td>\n      <td>110.495763</td>\n      <td>7</td>\n      <td>6</td>\n      <td>2022-08-01</td>\n      <td>31</td>\n      <td>180</td>\n      <td>7</td>\n    </tr>\n    <tr>\n      <th>249717</th>\n      <td>36461399</td>\n      <td>76343</td>\n      <td>credit_card</td>\n      <td>CHF</td>\n      <td>1.00837</td>\n      <td>zattoo_web_hiq_swiss_12mo</td>\n      <td>365</td>\n      <td>premium</td>\n      <td>renewal</td>\n      <td>Switzerland</td>\n      <td>CH</td>\n      <td>0.000000</td>\n      <td>111.420613</td>\n      <td>0.000000</td>\n      <td>110.495763</td>\n      <td>2022-03-30 13:58:25</td>\n      <td>2022-03-31 07:40:56</td>\n      <td>2022-09-27 15:48:14</td>\n      <td>base_hiq</td>\n      <td>8.508174</td>\n      <td>8.579387</td>\n      <td>7.7</td>\n      <td>0.0</td>\n      <td>0.0</td>\n      <td>2022-03</td>\n      <td>111.420613</td>\n      <td>110.495763</td>\n      <td>7</td>\n      <td>7</td>\n      <td>2022-09-01</td>\n      <td>26</td>\n      <td>180</td>\n      <td>7</td>\n    </tr>\n    <tr>\n      <th>263753</th>\n      <td>36294727</td>\n      <td>13772200</td>\n      <td>paypal</td>\n      <td>CHF</td>\n      <td>1.00837</td>\n      <td>zattoo_web_hiq_swiss_12mo</td>\n      <td>365</td>\n      <td>premium</td>\n      <td>renewal</td>\n      <td>Switzerland</td>\n      <td>CH</td>\n      <td>0.000000</td>\n      <td>111.420613</td>\n      <td>0.000000</td>\n      <td>110.495763</td>\n      <td>2022-03-16 04:02:41</td>\n      <td>2022-03-17 14:34:40</td>\n      <td>2022-04-21 23:50:39</td>\n      <td>base_hiq</td>\n      <td>8.508174</td>\n      <td>8.579387</td>\n      <td>7.7</td>\n      <td>0.0</td>\n      <td>0.0</td>\n      <td>2022-03</td>\n      <td>111.420613</td>\n      <td>110.495763</td>\n      <td>2</td>\n      <td>1</td>\n      <td>2022-03-01</td>\n      <td>15</td>\n      <td>35</td>\n      <td>2</td>\n    </tr>\n    <tr>\n      <th>263754</th>\n      <td>36294727</td>\n      <td>13772200</td>\n      <td>paypal</td>\n      <td>CHF</td>\n      <td>1.00837</td>\n      <td>zattoo_web_hiq_swiss_12mo</td>\n      <td>365</td>\n      <td>premium</td>\n      <td>renewal</td>\n      <td>Switzerland</td>\n      <td>CH</td>\n      <td>0.000000</td>\n      <td>111.420613</td>\n      <td>0.000000</td>\n      <td>110.495763</td>\n      <td>2022-03-16 04:02:41</td>\n      <td>2022-03-17 14:34:40</td>\n      <td>2022-04-21 23:50:39</td>\n      <td>base_hiq</td>\n      <td>8.508174</td>\n      <td>8.579387</td>\n      <td>7.7</td>\n      <td>0.0</td>\n      <td>0.0</td>\n      <td>2022-03</td>\n      <td>111.420613</td>\n      <td>110.495763</td>\n      <td>2</td>\n      <td>2</td>\n      <td>2022-04-01</td>\n      <td>20</td>\n      <td>35</td>\n      <td>2</td>\n    </tr>\n  </tbody>\n</table>\n<p>642 rows × 33 columns</p>\n</div>"
     },
     "execution_count": 201,
     "metadata": {},
     "output_type": "execute_result"
    }
   ],
   "source": [
    "## Get 12mo subs that didn't stay for 12 months for posterior treatment of exception\n",
    "reporting_df['max_revenue_month_number'] = reporting_df.groupby(['transaction_id'])['revenue_month_number'].transform(\n",
    "    max)\n",
    "\n",
    "reporting_df[(reporting_df.sku.str.contains('zattoo_web_hiq_swiss_12mo')) & (reporting_df.max_revenue_month_number < 13)]"
   ],
   "metadata": {
    "collapsed": false
   }
  },
  {
   "cell_type": "code",
   "execution_count": 202,
   "outputs": [
    {
     "data": {
      "text/plain": "      transaction_id      zuid  payment_method currency  \\\n93397       36207685  30460469  postfinance_ef      CHF   \n\n       exchange_rate_eur_to_chf                       sku  product_length  \\\n93397                   1.00837  zattoo_web_hiq_swiss_1mo              31   \n\n      product_class type_of_transaction country_name country_code  \\\n93397       premium             renewal  Switzerland           CH   \n\n       new_booking_net_chf  renewal_booking_net_chf  new_booking_net_eur  \\\n93397                  0.0                11.142061                  0.0   \n\n       renewal_booking_net_eur    transaction_date          term_start  \\\n93397                11.049576 2022-03-08 13:21:08 2022-04-08 12:50:35   \n\n                 term_end product_group_finance   vat_eur   vat_chf  \\\n93397 2022-04-09 18:35:10              base_hiq  0.850817  0.857939   \n\n       vat_percentage  store_fees_chf  store_fees_eur reporting_month  \\\n93397             7.7             0.0             0.0         2022-03   \n\n       total_booking_net_chf  total_booking_net_eur  product_length_months  \\\n93397              11.142061              11.049576                      1   \n\n       revenue_month_number revenue_month_date  product_term_length  \\\n93397                     1         2022-04-01                    8   \n\n       total_days  max_revenue_month_number  \n93397           8                         1  ",
      "text/html": "<div>\n<style scoped>\n    .dataframe tbody tr th:only-of-type {\n        vertical-align: middle;\n    }\n\n    .dataframe tbody tr th {\n        vertical-align: top;\n    }\n\n    .dataframe thead th {\n        text-align: right;\n    }\n</style>\n<table border=\"1\" class=\"dataframe\">\n  <thead>\n    <tr style=\"text-align: right;\">\n      <th></th>\n      <th>transaction_id</th>\n      <th>zuid</th>\n      <th>payment_method</th>\n      <th>currency</th>\n      <th>exchange_rate_eur_to_chf</th>\n      <th>sku</th>\n      <th>product_length</th>\n      <th>product_class</th>\n      <th>type_of_transaction</th>\n      <th>country_name</th>\n      <th>country_code</th>\n      <th>new_booking_net_chf</th>\n      <th>renewal_booking_net_chf</th>\n      <th>new_booking_net_eur</th>\n      <th>renewal_booking_net_eur</th>\n      <th>transaction_date</th>\n      <th>term_start</th>\n      <th>term_end</th>\n      <th>product_group_finance</th>\n      <th>vat_eur</th>\n      <th>vat_chf</th>\n      <th>vat_percentage</th>\n      <th>store_fees_chf</th>\n      <th>store_fees_eur</th>\n      <th>reporting_month</th>\n      <th>total_booking_net_chf</th>\n      <th>total_booking_net_eur</th>\n      <th>product_length_months</th>\n      <th>revenue_month_number</th>\n      <th>revenue_month_date</th>\n      <th>product_term_length</th>\n      <th>total_days</th>\n      <th>max_revenue_month_number</th>\n    </tr>\n  </thead>\n  <tbody>\n    <tr>\n      <th>93397</th>\n      <td>36207685</td>\n      <td>30460469</td>\n      <td>postfinance_ef</td>\n      <td>CHF</td>\n      <td>1.00837</td>\n      <td>zattoo_web_hiq_swiss_1mo</td>\n      <td>31</td>\n      <td>premium</td>\n      <td>renewal</td>\n      <td>Switzerland</td>\n      <td>CH</td>\n      <td>0.0</td>\n      <td>11.142061</td>\n      <td>0.0</td>\n      <td>11.049576</td>\n      <td>2022-03-08 13:21:08</td>\n      <td>2022-04-08 12:50:35</td>\n      <td>2022-04-09 18:35:10</td>\n      <td>base_hiq</td>\n      <td>0.850817</td>\n      <td>0.857939</td>\n      <td>7.7</td>\n      <td>0.0</td>\n      <td>0.0</td>\n      <td>2022-03</td>\n      <td>11.142061</td>\n      <td>11.049576</td>\n      <td>1</td>\n      <td>1</td>\n      <td>2022-04-01</td>\n      <td>8</td>\n      <td>8</td>\n      <td>1</td>\n    </tr>\n  </tbody>\n</table>\n</div>"
     },
     "execution_count": 202,
     "metadata": {},
     "output_type": "execute_result"
    }
   ],
   "source": [
    "reporting_df[reporting_df['transaction_id'] == '36207685']"
   ],
   "metadata": {
    "collapsed": false
   }
  },
  {
   "cell_type": "code",
   "execution_count": 157,
   "outputs": [],
   "source": [
    "## Calculate total_revenue_net fields\n",
    "reporting_df[\"total_revenue_net_eur\"] = (\n",
    "        reporting_df[\"total_booking_net_eur\"] / reporting_df[\"total_days\"] * reporting_df[\"product_term_length\"]\n",
    ")\n",
    "\n",
    "reporting_df[\"total_revenue_net_chf\"] = (\n",
    "        reporting_df[\"total_booking_net_chf\"] / reporting_df[\"total_days\"] * reporting_df[\"product_term_length\"]\n",
    ")\n",
    "\n",
    "## Remove total_booking values from all lines of group except first\n",
    "reporting_df.loc[\n",
    "    reporting_df[\"revenue_month_number\"] > 1,\n",
    "    [\"total_booking_net_chf\", \"total_booking_net_eur\"],\n",
    "] = 0.0"
   ],
   "metadata": {
    "collapsed": false
   }
  },
  {
   "cell_type": "code",
   "execution_count": 158,
   "outputs": [],
   "source": [
    "## Adding units\n",
    "reporting_df['units'] = 1\n",
    "reporting_df['units'][reporting_df['type_of_transaction'] == 'refund'] = -1"
   ],
   "metadata": {
    "collapsed": false
   }
  },
  {
   "cell_type": "code",
   "execution_count": 159,
   "outputs": [],
   "source": [
    "## Remove following values from all lines of group except first. This is done to avoid future aggregation issues\n",
    "one_line_cols = [\"vat_eur\", 'vat_chf', 'payout_eur', 'payout_chf', 'sales_price_eur', 'sales_price_chf', 'fee_eur', 'fee_chf', 'new_booking_net_eur',\n",
    "                 'new_booking_net_chf', 'renewal_booking_net_eur',\n",
    "                 'renewal_booking_net_chf','store_fees_eur', 'store_fees_chf',\n",
    "                 'charge_eur', 'charge_chf',\n",
    "                 'vat_percentage',\n",
    "                 'avg_price_sales_per_sub', 'units']\n",
    "\n",
    "for col in one_line_cols:\n",
    "    reporting_df.loc[\n",
    "        reporting_df[\"revenue_month_number\"] > 1,\n",
    "        [col, \"total_booking_net_eur\"],\n",
    "    ] = 0.0"
   ],
   "metadata": {
    "collapsed": false
   }
  },
  {
   "cell_type": "code",
   "execution_count": 160,
   "metadata": {},
   "outputs": [],
   "source": [
    "## Prepare df_nocalcs for free trials and full discounts\n",
    "reporting_df_nocalcs = df[~df[\"type_of_transaction\"].isin(type_trans_lst)].copy()\n",
    "\n",
    "for date in parse_dates:\n",
    "    reporting_df_nocalcs[date] = pd.to_datetime(reporting_df_nocalcs[date]).dt.tz_convert(None)"
   ]
  },
  {
   "cell_type": "code",
   "execution_count": 161,
   "outputs": [],
   "source": [
    "# # NEW LINE! added on 2022-04-27\n",
    "# # Product_term_length fix for subscriptions < 31 days (1, 3, 7 days)\n",
    "# reporting_df['product_term_length'][reporting_df.sku.str.contains('day')] = (\n",
    "#         reporting_df.term_end - reporting_df.term_start).dt.days\n",
    "#\n",
    "# reporting_df['product_term_length'][reporting_df.sku.str.contains('days')] = (\n",
    "#         reporting_df.term_end - reporting_df.term_start).dt.days"
   ],
   "metadata": {
    "collapsed": false
   }
  },
  {
   "cell_type": "code",
   "execution_count": 162,
   "outputs": [],
   "source": [
    "# ## Total_days fix for subscriptions < 31 days (1, 3, 7 days)\n",
    "# reporting_df[\"total_days\"][\n",
    "#     (reporting_df.product_term_length != reporting_df.total_days) & (reporting_df['product_length_months'] <= 1)] = reporting_df[\"product_term_length\"][\n",
    "#     (reporting_df.product_term_length != reporting_df.total_days) & (reporting_df['product_length_months'] <= 1)]"
   ],
   "metadata": {
    "collapsed": false
   }
  },
  {
   "cell_type": "code",
   "execution_count": 163,
   "outputs": [],
   "source": [
    "## Extract list of transaction ids whose subscription float between one month and the other, and are 1, 3 or 7 days (== product_length < 31)\n",
    "trx_lst_more_1month_subs = reporting_df['transaction_id'][\n",
    "    (reporting_df[\"revenue_month_number\"] > 1) & (reporting_df.sku.str.contains('day'))]\n",
    "\n",
    "## This logic makes sure the days are allocated correctly for these very specific subscriptions\n",
    "reporting_df['product_term_length'][\n",
    "    (reporting_df.transaction_id.isin(trx_lst_more_1month_subs)) & (reporting_df.revenue_month_number == 1)] = - (\n",
    "        reporting_df.term_start - reporting_df.revenue_month_date.shift(1)).dt.days\n",
    "\n",
    "reporting_df['product_term_length'][\n",
    "    (reporting_df.transaction_id.isin(trx_lst_more_1month_subs)) & (reporting_df.revenue_month_number > 1)] = (\n",
    "        reporting_df.term_end - reporting_df.revenue_month_date).dt.days"
   ],
   "metadata": {
    "collapsed": false
   }
  },
  {
   "cell_type": "code",
   "execution_count": 164,
   "outputs": [],
   "source": [
    "## Fix those one line transactions that still have wrong product_term_length\n",
    "trx_id_counts = reporting_df['transaction_id'].value_counts(sort=False)\n",
    "check_length_mask = reporting_df[\n",
    "    reporting_df['transaction_id'].isin(trx_id_counts.index[trx_id_counts == 1])].index.to_list()\n",
    "\n",
    "reporting_df[\"product_term_length\"].loc[check_length_mask] = reporting_df[\n",
    "                                                                 'term_end'].dt.day - reporting_df.term_start.dt.day"
   ],
   "metadata": {
    "collapsed": false
   }
  },
  {
   "cell_type": "code",
   "execution_count": 165,
   "outputs": [],
   "source": [
    "## Calculate total_booking_net columns\n",
    "reporting_df_nocalcs[\"total_booking_net_chf\"] = (\n",
    "        reporting_df_nocalcs[\"new_booking_net_chf\"] + reporting_df_nocalcs[\"renewal_booking_net_chf\"]\n",
    ")\n",
    "reporting_df_nocalcs[\"total_booking_net_eur\"] = (\n",
    "        reporting_df_nocalcs[\"new_booking_net_eur\"] + reporting_df_nocalcs[\"renewal_booking_net_eur\"]\n",
    ")"
   ],
   "metadata": {
    "collapsed": false
   }
  },
  {
   "cell_type": "code",
   "execution_count": 166,
   "outputs": [],
   "source": [
    "## Calculating sales_prices                                                                                                     errors='ignore')\n",
    "reporting_df['sales_price_eur'] = reporting_df['total_booking_net_eur'] * (\n",
    "        1 + (reporting_df['vat_percentage'] / 100))\n",
    "reporting_df['sales_price_chf'] = reporting_df['total_booking_net_chf'] * (\n",
    "        1 + (reporting_df['vat_percentage'] / 100))"
   ],
   "metadata": {
    "collapsed": false
   }
  },
  {
   "cell_type": "code",
   "execution_count": 167,
   "outputs": [],
   "source": [
    "## Append dataframes\n",
    "reporting_df = reporting_df.append(reporting_df_nocalcs).reset_index(drop=True)\n",
    "\n",
    "## Convert revenue_month_date to date\n",
    "reporting_df[\"revenue_month_date\"] = pd.to_datetime(\n",
    "    reporting_df[\"revenue_month_date\"]\n",
    ").dt.date"
   ],
   "metadata": {
    "collapsed": false
   }
  },
  {
   "cell_type": "code",
   "execution_count": 168,
   "outputs": [],
   "source": [
    "## Adding logic for subscription_status and type_of_transaction\n",
    "reporting_df['subscription_status'] = ['trial' if v == 'free_trial' else 'full discount' if v == 'full_discount' else 'paid' if v == 'refund' else 'paid' for v in reporting_df['type_of_transaction']]\n",
    "\n",
    "reporting_df['type_of_transaction'] = ['charge' if v == 'renewal' else 'charge' if v == 'new_sale' else 'charge' if v == 'full_discount' else 'charge' if v == 'free_trial' else 'refund' for v in reporting_df['type_of_transaction']]\n",
    "\n",
    "# ## Set active_sub_month_end = 0 by default\n",
    "# reporting_df['active_sub_month_end'] = 0\n",
    "# reporting_df['active_sub_month_end'][\n",
    "#     (reporting_df['term_end'] > (reporting_df['revenue_month_date'] + pd.offsets.MonthBegin(1)))] = 1\n",
    "# reporting_df[\"active_sub_month_end\"][reporting_df[\"subscription_status\"] != \"paid\"] = 0\n",
    "#\n",
    "# ## Mark all refund transactions as 'active_sub_month_end'] * -1\n",
    "# reporting_df[\"active_sub_month_end\"][reporting_df[\"type_of_transaction\"] == \"refund\"] = reporting_df[\n",
    "#                                                                                             'active_sub_month_end'] * -1\n",
    "#\n",
    "# reporting_df.reset_index(drop=True, inplace=True)\n",
    "#\n",
    "# ## active_sub_content follows the same logic as active_sub_month_end except it doesn't count the last month\n",
    "# reporting_df[\"active_sub_content\"] = reporting_df.active_sub_month_end\n",
    "#\n",
    "# reporting_df[\"active_sub_content\"][(reporting_df[\"revenue_month_number\"] > reporting_df['product_length_months'])] = 0\n",
    "#\n",
    "# ## Total_days of product_term_length per transaction_id\n",
    "# reporting_df[\"total_days\"] = reporting_df.groupby([\"transaction_id\", 'type_of_transaction'])[\n",
    "#     \"product_term_length\"].transform(\"sum\")\n",
    "#\n",
    "# ## Fix active_sub_month_end for subscriptions with only 1 revenue month and length < 30 days\n",
    "#\n",
    "# ## IS THIS GONNA FIX THE ACTIVE_SUB COLUMNS ISSUE BEING EQUAL?\n",
    "# reporting_df['last_day_term_end'] = (pd.to_datetime(reporting_df['term_end'], format=\"%d\", unit='d')).dt.day\n",
    "# reporting_df['last_day_month'] = (\n",
    "#         pd.to_datetime(reporting_df['term_end'], format=\"%d\", unit='d') + pd.offsets.MonthEnd(n=1)).dt.day\n",
    "#\n",
    "# reporting_df[\"active_sub_month_end\"][reporting_df.last_day_term_end < reporting_df.last_day_month] = 0\n",
    "\n",
    "## TRYING WITH GOOGLE'S LOGIC\n",
    "## Set active_sub_month_end = 0 by default\n",
    "reporting_df['active_sub_month_end'] = 0\n",
    "# reporting_df['revenue_month_date'] = pd.to_datetime(reporting_df['revenue_month_date']).dt.date\n",
    "reporting_df['active_sub_month_end'][\n",
    "    (reporting_df['term_end'] > (reporting_df['revenue_month_date'] + pd.offsets.MonthBegin(1)))] = 1\n",
    "\n",
    "reporting_df[\"active_sub_month_end\"][reporting_df[\"type_of_transaction\"].str.lower() != \"charge\"] = reporting_df[\n",
    "                                                                                            'active_sub_month_end'] * -1\n",
    "\n",
    "reporting_df.reset_index(drop=True, inplace=True)\n",
    "\n",
    "## active_sub_content follows the same logic as active_sub_month_end except it doesn't count the last month\n",
    "reporting_df[\"active_sub_content\"] = reporting_df.active_sub_month_end\n",
    "\n",
    "reporting_df[\"active_sub_content\"][(reporting_df[\"revenue_month_number\"] > reporting_df['product_length_months'])] = 0\n",
    "\n",
    "## Total_days of product_term_length per transaction_id\n",
    "reporting_df[\"total_days\"] = reporting_df[reporting_df['type_of_transaction'].str.lower().isin(['charge', 'charge refund'])].groupby([\"transaction_id\", 'type_of_transaction'])[\n",
    "    \"product_term_length\"].transform(\"sum\")\n",
    "\n",
    "reporting_df['active_sub_content'][reporting_df['product_length_months'] == 0] = reporting_df['active_sub_month_end']"
   ],
   "metadata": {
    "collapsed": false
   }
  },
  {
   "cell_type": "code",
   "execution_count": 169,
   "outputs": [],
   "source": [
    "## Finance requested to include payout and charge calculations in datatrans too\n",
    "reporting_df['payout_eur'] = reporting_df['total_booking_net_eur'] + reporting_df['vat_eur']\n",
    "reporting_df['payout_chf'] = reporting_df['total_booking_net_chf'] + reporting_df['vat_chf']\n",
    "\n",
    "reporting_df['charge_eur'] = reporting_df['sales_price_eur'] - reporting_df['vat_eur']\n",
    "reporting_df['charge_chf'] = reporting_df['sales_price_chf'] - reporting_df['vat_chf']"
   ],
   "metadata": {
    "collapsed": false
   }
  },
  {
   "cell_type": "code",
   "execution_count": 170,
   "outputs": [],
   "source": [
    "## Standardizing the report so it's in line with Amazon, Google and Apple\n",
    "reporting_df['domestic_abroad'] = np.nan\n",
    "\n",
    "# reporting_df[['charge_chf', 'charge_eur', 'store_fees_percentage', 'payout_chf', 'fee_eur', 'fee_chf',\n",
    "#               'payout_eur']] = 0\n",
    "\n",
    "reporting_df[['store_fees_percentage', 'fee_eur', 'fee_chf']] = 0"
   ],
   "metadata": {
    "collapsed": false
   }
  },
  {
   "cell_type": "code",
   "execution_count": 171,
   "outputs": [],
   "source": [
    "## Final clean up\n",
    "reporting_df['revenue_month_date'] = pd.to_datetime(reporting_df['revenue_month_date'])\n",
    "reporting_df['buyer_country_code'] = reporting_df['country_code']\n",
    "reporting_df['country_code'] = pd.np.where(\n",
    "    reporting_df['country_name'] == 'Germany', 'DE', pd.np.where(reporting_df[\n",
    "                                                                        'country_name'] == \"Austria\", \"AT\", \"CH\"))\n",
    "\n",
    "reporting_df['product_group_finance'] = reporting_df['product_group_finance'].replace(\n",
    "    {'base_hiq': 'premium', 'base_ultimate': 'ultimate'})\n",
    "reporting_df['product_class'] = reporting_df['product_group_finance']\n",
    "\n",
    "## Finance prefers this columns to be empty\n",
    "reporting_df['product_group_finance'] = ''\n",
    "\n",
    "reporting_df['reporting_month'] = reporting_df['reporting_month'].replace(\n",
    "    {np.nan: reporting_month})\n",
    "\n",
    "reporting_df['product_length_months'] = pd.np.where(reporting_df['product_length'] == 1, 0,\n",
    "                                                 pd.np.where(reporting_df['product_length'] == 3, 0,\n",
    "                                                             pd.np.where(reporting_df['product_length'] == 7, 0,\n",
    "                                                                         pd.np.where(reporting_df['product_length'] == 31, 1,\n",
    "                                                                                     pd.np.where(reporting_df['product_length'] == 62, 2,\n",
    "                                                                                                 pd.np.where(reporting_df['product_length'] == 90, 3,\n",
    "                                                                                                             pd.np.where(reporting_df['product_length'] == 92, 3,\n",
    "                                                                                                                    pd.np.where(reporting_df['product_length'] == 365, 12,\n",
    "                                                                                                                    pd.np.where(reporting_df['product_length'] == 366, 12,\n",
    "                                                                                                                         1)))))))))\n",
    "\n",
    "## WILL THIS WORK? IF NOT REMOVE\n",
    "reporting_df[\"active_sub_content\"][(reporting_df[\"revenue_month_number\"] > reporting_df['product_length_months'])] = 0\n",
    "##\n",
    "reporting_df[\"active_sub_content\"][reporting_df[\"subscription_status\"] == \"trial\"] = 1\n",
    "reporting_df[\"active_sub_content\"][reporting_df[\"subscription_status\"] == \"full discount\"] = 1\n",
    "\n",
    "reporting_df['units'][reporting_df['subscription_status'] == 'trial'] = 1\n",
    "reporting_df['units'][reporting_df['subscription_status'] == 'full discount'] = 1\n",
    "\n",
    "reporting_df[\"revenue_month_number\"].replace(np.nan, 0, inplace=True)"
   ],
   "metadata": {
    "collapsed": false
   }
  },
  {
   "cell_type": "code",
   "execution_count": 172,
   "outputs": [],
   "source": [
    "## Reorder dataframe\n",
    "reporting_df = reporting_df[\n",
    "    [\n",
    "        'transaction_id',\n",
    "        'transaction_date',\n",
    "        'term_end',\n",
    "        'reporting_month',\n",
    "        'country_name',\n",
    "        'country_code',\n",
    "        'buyer_country_code',\n",
    "        'currency',\n",
    "        'sku',\n",
    "        'subscription_status',\n",
    "        'type_of_transaction',\n",
    "        'payment_method',\n",
    "        'product_class',\n",
    "        'product_group_finance',\n",
    "        'product_length',\n",
    "        'product_length_months',\n",
    "        'product_term_length',\n",
    "        'domestic_abroad',\n",
    "        'vat_percentage',\n",
    "        'exchange_rate_eur_to_chf',\n",
    "        'store_fees_eur',\n",
    "        'store_fees_chf',\n",
    "        'store_fees_percentage',\n",
    "        'units',\n",
    "        'charge_eur',\n",
    "        'sales_price_eur',\n",
    "        'fee_eur',\n",
    "        'vat_eur',\n",
    "        'new_booking_net_eur',\n",
    "        'renewal_booking_net_eur',\n",
    "        'payout_eur',\n",
    "        'total_revenue_net_eur',\n",
    "        'charge_chf',\n",
    "        'sales_price_chf',\n",
    "        'fee_chf',\n",
    "        'vat_chf',\n",
    "        'new_booking_net_chf',\n",
    "        'renewal_booking_net_chf',\n",
    "        'payout_chf',\n",
    "        'total_revenue_net_chf',\n",
    "        'revenue_month_number',\n",
    "        'revenue_month_date',\n",
    "        'active_sub_month_end',\n",
    "        'active_sub_content'\n",
    "    ]\n",
    "]\n",
    "\n",
    "## Define BQ table schema\n",
    "bq_schema = [\n",
    "    {\"name\": \"transaction_id\", \"type\": \"STRING\"},\n",
    "    {\"name\": \"transaction_date\", \"type\": \"TIMESTAMP\"},\n",
    "    {\"name\": \"term_end\", \"type\": \"TIMESTAMP\"},\n",
    "    {\"name\": \"reporting_month\", \"type\": \"STRING\"},\n",
    "    {\"name\": \"country_name\", \"type\": \"STRING\"},\n",
    "    {\"name\": \"country_code\", \"type\": \"STRING\"},\n",
    "    {\"name\": \"buyer_country_code\", \"type\": \"STRING\"},\n",
    "    {\"name\": \"currency\", \"type\": \"STRING\"},\n",
    "    {\"name\": \"sku\", \"type\": \"STRING\"},\n",
    "    {\"name\": \"subscription_status\", \"type\": \"STRING\"},\n",
    "    {\"name\": \"type_of_transaction\", \"type\": \"STRING\"},\n",
    "    {\"name\": \"payment_method\", \"type\": \"STRING\"},\n",
    "    {\"name\": \"product_class\", \"type\": \"STRING\"},\n",
    "    {\"name\": \"product_group_finance\", \"type\": \"STRING\"},\n",
    "    {\"name\": \"product_length\", \"type\": \"INTEGER\"},\n",
    "    {\"name\": \"product_length_months\", \"type\": \"INTEGER\"},\n",
    "    {\"name\": \"product_term_length\", \"type\": \"INTEGER\"},\n",
    "    {\"name\": \"domestic_abroad\", \"type\": \"STRING\"},\n",
    "    {\"name\": \"vat_percentage\", \"type\": \"FLOAT\"},\n",
    "    {\"name\": \"exchange_rate_eur_to_chf\", \"type\": \"FLOAT\"},\n",
    "    {\"name\": \"store_fees_eur\", \"type\": \"INTEGER\"},\n",
    "    {\"name\": \"store_fees_chf\", \"type\": \"INTEGER\"},\n",
    "    {\"name\": \"store_fees_percentage\", \"type\": \"INTEGER\"},\n",
    "    {\"name\": \"units\", \"type\": \"INTEGER\"},\n",
    "    {\"name\": \"charge_eur\", \"type\": \"FLOAT\"},\n",
    "    {\"name\": \"sales_price_eur\", \"type\": \"FLOAT\"},\n",
    "    {\"name\": \"fee_eur\", \"type\": \"FLOAT\"},\n",
    "    {\"name\": \"vat_eur\", \"type\": \"FLOAT\"},\n",
    "    {\"name\": \"new_booking_net_eur\", \"type\": \"FLOAT\"},\n",
    "    {\"name\": \"renewal_booking_net_eur\", \"type\": \"FLOAT\"},\n",
    "    {\"name\": \"payout_eur\", \"type\": \"FLOAT\"},\n",
    "    {\"name\": \"total_revenue_net_eur\", \"type\": \"FLOAT\"},\n",
    "    {\"name\": \"charge_chf\", \"type\": \"FLOAT\"},\n",
    "    {\"name\": \"sales_price_chf\", \"type\": \"FLOAT\"},\n",
    "    {\"name\": \"fee_chf\", \"type\": \"FLOAT\"},\n",
    "    {\"name\": \"vat_chf\", \"type\": \"FLOAT\"},\n",
    "    {\"name\": \"new_booking_net_chf\", \"type\": \"FLOAT\"},\n",
    "    {\"name\": \"renewal_booking_net_chf\", \"type\": \"FLOAT\"},\n",
    "    {\"name\": \"payout_chf\", \"type\": \"FLOAT\"},\n",
    "    {\"name\": \"total_revenue_net_chf\", \"type\": \"FLOAT\"},\n",
    "    {\"name\": \"revenue_month_number\", \"type\": \"INTEGER\"},\n",
    "    {\"name\": \"revenue_month_date\", \"type\": \"TIMESTAMP\"},\n",
    "    {\"name\": \"active_sub_month_end\", \"type\": \"INTEGER\"},\n",
    "    {\"name\": \"active_sub_content\", \"type\": \"INTEGER\"}\n",
    "]"
   ],
   "metadata": {
    "collapsed": false
   }
  },
  {
   "cell_type": "code",
   "execution_count": 173,
   "outputs": [],
   "source": [
    "# ## Export to csv\n",
    "# path = r\"/Users/miguelcouto/Desktop/\"\n",
    "#\n",
    "# reporting_df.to_csv(os.path.join(path, fr'subs_reporting_datatrans{reporting_month.replace(\"-\", \"_\")}.csv'))"
   ],
   "metadata": {
    "collapsed": false
   }
  },
  {
   "cell_type": "code",
   "execution_count": 174,
   "outputs": [],
   "source": [
    "# ## Export to BQ table\n",
    "# pandas_gbq.to_gbq(\n",
    "#     dataframe=reporting_df,\n",
    "#     destination_table=f\"finance.subs_reporting_datatrans{reporting_month.replace('-', '')}\",\n",
    "#     project_id=\"zattoo-dataeng\",\n",
    "#     if_exists=\"replace\",\n",
    "#     progress_bar=None,\n",
    "#     table_schema=bq_schema,\n",
    "# )"
   ],
   "metadata": {
    "collapsed": false
   }
  },
  {
   "cell_type": "code",
   "execution_count": 176,
   "outputs": [
    {
     "data": {
      "text/plain": "       transaction_id    transaction_date            term_end reporting_month  \\\n218455       36207685 2022-03-08 13:21:08 2022-04-09 18:35:10         2022-03   \n\n       country_name country_code buyer_country_code currency  \\\n218455  Switzerland           CH                 CH      CHF   \n\n                             sku subscription_status type_of_transaction  \\\n218455  zattoo_web_hiq_swiss_1mo                paid              charge   \n\n        payment_method product_class product_group_finance  product_length  \\\n218455  postfinance_ef       premium                                    31   \n\n        product_length_months  product_term_length  domestic_abroad  \\\n218455                      1                  1.0              NaN   \n\n        vat_percentage  exchange_rate_eur_to_chf  store_fees_eur  \\\n218455             7.7                   1.00837             0.0   \n\n        store_fees_chf  store_fees_percentage  units  charge_eur  \\\n218455             0.0                      0    1.0   11.049576   \n\n        sales_price_eur  fee_eur   vat_eur  new_booking_net_eur  \\\n218455        11.900394        0  0.850817                  0.0   \n\n        renewal_booking_net_eur  payout_eur  total_revenue_net_eur  \\\n218455                11.049576   11.900394              11.049576   \n\n        charge_chf  sales_price_chf  fee_chf   vat_chf  new_booking_net_chf  \\\n218455   11.142061             12.0        0  0.857939                  0.0   \n\n        renewal_booking_net_chf  payout_chf  total_revenue_net_chf  \\\n218455                11.142061        12.0              11.142061   \n\n        revenue_month_number revenue_month_date  active_sub_month_end  \\\n218455                   1.0         2022-04-01                     0   \n\n        active_sub_content  \n218455                   0  ",
      "text/html": "<div>\n<style scoped>\n    .dataframe tbody tr th:only-of-type {\n        vertical-align: middle;\n    }\n\n    .dataframe tbody tr th {\n        vertical-align: top;\n    }\n\n    .dataframe thead th {\n        text-align: right;\n    }\n</style>\n<table border=\"1\" class=\"dataframe\">\n  <thead>\n    <tr style=\"text-align: right;\">\n      <th></th>\n      <th>transaction_id</th>\n      <th>transaction_date</th>\n      <th>term_end</th>\n      <th>reporting_month</th>\n      <th>country_name</th>\n      <th>country_code</th>\n      <th>buyer_country_code</th>\n      <th>currency</th>\n      <th>sku</th>\n      <th>subscription_status</th>\n      <th>type_of_transaction</th>\n      <th>payment_method</th>\n      <th>product_class</th>\n      <th>product_group_finance</th>\n      <th>product_length</th>\n      <th>product_length_months</th>\n      <th>product_term_length</th>\n      <th>domestic_abroad</th>\n      <th>vat_percentage</th>\n      <th>exchange_rate_eur_to_chf</th>\n      <th>store_fees_eur</th>\n      <th>store_fees_chf</th>\n      <th>store_fees_percentage</th>\n      <th>units</th>\n      <th>charge_eur</th>\n      <th>sales_price_eur</th>\n      <th>fee_eur</th>\n      <th>vat_eur</th>\n      <th>new_booking_net_eur</th>\n      <th>renewal_booking_net_eur</th>\n      <th>payout_eur</th>\n      <th>total_revenue_net_eur</th>\n      <th>charge_chf</th>\n      <th>sales_price_chf</th>\n      <th>fee_chf</th>\n      <th>vat_chf</th>\n      <th>new_booking_net_chf</th>\n      <th>renewal_booking_net_chf</th>\n      <th>payout_chf</th>\n      <th>total_revenue_net_chf</th>\n      <th>revenue_month_number</th>\n      <th>revenue_month_date</th>\n      <th>active_sub_month_end</th>\n      <th>active_sub_content</th>\n    </tr>\n  </thead>\n  <tbody>\n    <tr>\n      <th>218455</th>\n      <td>36207685</td>\n      <td>2022-03-08 13:21:08</td>\n      <td>2022-04-09 18:35:10</td>\n      <td>2022-03</td>\n      <td>Switzerland</td>\n      <td>CH</td>\n      <td>CH</td>\n      <td>CHF</td>\n      <td>zattoo_web_hiq_swiss_1mo</td>\n      <td>paid</td>\n      <td>charge</td>\n      <td>postfinance_ef</td>\n      <td>premium</td>\n      <td></td>\n      <td>31</td>\n      <td>1</td>\n      <td>1.0</td>\n      <td>NaN</td>\n      <td>7.7</td>\n      <td>1.00837</td>\n      <td>0.0</td>\n      <td>0.0</td>\n      <td>0</td>\n      <td>1.0</td>\n      <td>11.049576</td>\n      <td>11.900394</td>\n      <td>0</td>\n      <td>0.850817</td>\n      <td>0.0</td>\n      <td>11.049576</td>\n      <td>11.900394</td>\n      <td>11.049576</td>\n      <td>11.142061</td>\n      <td>12.0</td>\n      <td>0</td>\n      <td>0.857939</td>\n      <td>0.0</td>\n      <td>11.142061</td>\n      <td>12.0</td>\n      <td>11.142061</td>\n      <td>1.0</td>\n      <td>2022-04-01</td>\n      <td>0</td>\n      <td>0</td>\n    </tr>\n  </tbody>\n</table>\n</div>"
     },
     "execution_count": 176,
     "metadata": {},
     "output_type": "execute_result"
    }
   ],
   "source": [
    "reporting_df[reporting_df.transaction_id == '36207685']"
   ],
   "metadata": {
    "collapsed": false
   }
  },
  {
   "cell_type": "code",
   "execution_count": 177,
   "outputs": [
    {
     "data": {
      "text/plain": "        transaction_id    transaction_date            term_end  \\\n239124  28132976_29587 2022-03-22 08:13:24 2022-03-21 14:24:13   \n239125  28132976_29587 2022-03-22 08:13:24 2022-03-21 14:24:13   \n239126  28132976_29587 2022-03-22 08:13:24 2022-03-21 14:24:13   \n239127  28132976_29587 2022-03-22 08:13:24 2022-03-21 14:24:13   \n239128  28132976_29587 2022-03-22 08:13:24 2022-03-21 14:24:13   \n239129  28132976_29587 2022-03-22 08:13:24 2022-03-21 14:24:13   \n239130  28132976_29587 2022-03-22 08:13:24 2022-03-21 14:24:13   \n239131  28132976_29587 2022-03-22 08:13:24 2022-03-21 14:24:13   \n239132  28132976_29587 2022-03-22 08:13:24 2022-03-21 14:24:13   \n239133  28132976_29587 2022-03-22 08:13:24 2022-03-21 14:24:13   \n239134  28132976_29587 2022-03-22 08:13:24 2022-03-21 14:24:13   \n239135  28132976_29587 2022-03-22 08:13:24 2022-03-21 14:24:13   \n239136  28132976_29587 2022-03-22 08:13:24 2022-03-21 14:24:13   \n\n       reporting_month country_name country_code buyer_country_code currency  \\\n239124         2022-03  Switzerland           CH                 CH      CHF   \n239125         2022-03  Switzerland           CH                 CH      CHF   \n239126         2022-03  Switzerland           CH                 CH      CHF   \n239127         2022-03  Switzerland           CH                 CH      CHF   \n239128         2022-03  Switzerland           CH                 CH      CHF   \n239129         2022-03  Switzerland           CH                 CH      CHF   \n239130         2022-03  Switzerland           CH                 CH      CHF   \n239131         2022-03  Switzerland           CH                 CH      CHF   \n239132         2022-03  Switzerland           CH                 CH      CHF   \n239133         2022-03  Switzerland           CH                 CH      CHF   \n239134         2022-03  Switzerland           CH                 CH      CHF   \n239135         2022-03  Switzerland           CH                 CH      CHF   \n239136         2022-03  Switzerland           CH                 CH      CHF   \n\n                              sku subscription_status type_of_transaction  \\\n239124  zattoo_web_hiq_swiss_12mo                paid              refund   \n239125  zattoo_web_hiq_swiss_12mo                paid              refund   \n239126  zattoo_web_hiq_swiss_12mo                paid              refund   \n239127  zattoo_web_hiq_swiss_12mo                paid              refund   \n239128  zattoo_web_hiq_swiss_12mo                paid              refund   \n239129  zattoo_web_hiq_swiss_12mo                paid              refund   \n239130  zattoo_web_hiq_swiss_12mo                paid              refund   \n239131  zattoo_web_hiq_swiss_12mo                paid              refund   \n239132  zattoo_web_hiq_swiss_12mo                paid              refund   \n239133  zattoo_web_hiq_swiss_12mo                paid              refund   \n239134  zattoo_web_hiq_swiss_12mo                paid              refund   \n239135  zattoo_web_hiq_swiss_12mo                paid              refund   \n239136  zattoo_web_hiq_swiss_12mo                paid              refund   \n\n       payment_method product_class product_group_finance  product_length  \\\n239124    credit_card       premium                                   365   \n239125    credit_card       premium                                   365   \n239126    credit_card       premium                                   365   \n239127    credit_card       premium                                   365   \n239128    credit_card       premium                                   365   \n239129    credit_card       premium                                   365   \n239130    credit_card       premium                                   365   \n239131    credit_card       premium                                   365   \n239132    credit_card       premium                                   365   \n239133    credit_card       premium                                   365   \n239134    credit_card       premium                                   365   \n239135    credit_card       premium                                   365   \n239136    credit_card       premium                                   365   \n\n        product_length_months  product_term_length  domestic_abroad  \\\n239124                     12                 31.0              NaN   \n239125                     12                 30.0              NaN   \n239126                     12                 31.0              NaN   \n239127                     12                 30.0              NaN   \n239128                     12                 31.0              NaN   \n239129                     12                 31.0              NaN   \n239130                     12                 30.0              NaN   \n239131                     12                 31.0              NaN   \n239132                     12                 30.0              NaN   \n239133                     12                 31.0              NaN   \n239134                     12                 31.0              NaN   \n239135                     12                 28.0              NaN   \n239136                     12                  0.0              NaN   \n\n        vat_percentage  exchange_rate_eur_to_chf  store_fees_eur  \\\n239124             7.7                    1.0931             0.0   \n239125             0.0                    1.0931             0.0   \n239126             0.0                    1.0931             0.0   \n239127             0.0                    1.0931             0.0   \n239128             0.0                    1.0931             0.0   \n239129             0.0                    1.0931             0.0   \n239130             0.0                    1.0931             0.0   \n239131             0.0                    1.0931             0.0   \n239132             0.0                    1.0931             0.0   \n239133             0.0                    1.0931             0.0   \n239134             0.0                    1.0931             0.0   \n239135             0.0                    1.0931             0.0   \n239136             0.0                    1.0931             0.0   \n\n        store_fees_chf  store_fees_percentage  units  charge_eur  \\\n239124             0.0                      0   -1.0    -0.28031   \n239125             0.0                      0    0.0     0.00000   \n239126             0.0                      0    0.0     0.00000   \n239127             0.0                      0    0.0     0.00000   \n239128             0.0                      0    0.0     0.00000   \n239129             0.0                      0    0.0     0.00000   \n239130             0.0                      0    0.0     0.00000   \n239131             0.0                      0    0.0     0.00000   \n239132             0.0                      0    0.0     0.00000   \n239133             0.0                      0    0.0     0.00000   \n239134             0.0                      0    0.0     0.00000   \n239135             0.0                      0    0.0     0.00000   \n239136             0.0                      0    0.0     0.00000   \n\n        sales_price_eur  fee_eur   vat_eur  new_booking_net_eur  \\\n239124        -0.301894        0 -0.021584             -0.28031   \n239125         0.000000        0  0.000000              0.00000   \n239126         0.000000        0  0.000000              0.00000   \n239127         0.000000        0  0.000000              0.00000   \n239128         0.000000        0  0.000000              0.00000   \n239129         0.000000        0  0.000000              0.00000   \n239130         0.000000        0  0.000000              0.00000   \n239131         0.000000        0  0.000000              0.00000   \n239132         0.000000        0  0.000000              0.00000   \n239133         0.000000        0  0.000000              0.00000   \n239134         0.000000        0  0.000000              0.00000   \n239135         0.000000        0  0.000000              0.00000   \n239136         0.000000        0  0.000000              0.00000   \n\n        renewal_booking_net_eur  payout_eur  total_revenue_net_eur  \\\n239124                      0.0   -0.301894              -0.023807   \n239125                      0.0    0.000000              -0.023039   \n239126                      0.0    0.000000              -0.023807   \n239127                      0.0    0.000000              -0.023039   \n239128                      0.0    0.000000              -0.023807   \n239129                      0.0    0.000000              -0.023807   \n239130                      0.0    0.000000              -0.023039   \n239131                      0.0    0.000000              -0.023807   \n239132                      0.0    0.000000              -0.023039   \n239133                      0.0    0.000000              -0.023807   \n239134                      0.0    0.000000              -0.023807   \n239135                      0.0    0.000000              -0.021503   \n239136                      0.0    0.000000              -0.000000   \n\n        charge_chf  sales_price_chf  fee_chf   vat_chf  new_booking_net_chf  \\\n239124   -0.306407            -0.33        0 -0.023593            -0.306407   \n239125    0.000000             0.00        0  0.000000             0.000000   \n239126    0.000000             0.00        0  0.000000             0.000000   \n239127    0.000000             0.00        0  0.000000             0.000000   \n239128    0.000000             0.00        0  0.000000             0.000000   \n239129    0.000000             0.00        0  0.000000             0.000000   \n239130    0.000000             0.00        0  0.000000             0.000000   \n239131    0.000000             0.00        0  0.000000             0.000000   \n239132    0.000000             0.00        0  0.000000             0.000000   \n239133    0.000000             0.00        0  0.000000             0.000000   \n239134    0.000000             0.00        0  0.000000             0.000000   \n239135    0.000000             0.00        0  0.000000             0.000000   \n239136    0.000000             0.00        0  0.000000             0.000000   \n\n        renewal_booking_net_chf  payout_chf  total_revenue_net_chf  \\\n239124                      0.0       -0.33              -0.026024   \n239125                      0.0        0.00              -0.025184   \n239126                      0.0        0.00              -0.026024   \n239127                      0.0        0.00              -0.025184   \n239128                      0.0        0.00              -0.026024   \n239129                      0.0        0.00              -0.026024   \n239130                      0.0        0.00              -0.025184   \n239131                      0.0        0.00              -0.026024   \n239132                      0.0        0.00              -0.025184   \n239133                      0.0        0.00              -0.026024   \n239134                      0.0        0.00              -0.026024   \n239135                      0.0        0.00              -0.023505   \n239136                      0.0        0.00              -0.000000   \n\n        revenue_month_number revenue_month_date  active_sub_month_end  \\\n239124                   1.0         2022-03-01                     0   \n239125                   2.0         2022-04-01                     0   \n239126                   3.0         2022-05-01                     0   \n239127                   4.0         2022-06-01                     0   \n239128                   5.0         2022-07-01                     0   \n239129                   6.0         2022-08-01                     0   \n239130                   7.0         2022-09-01                     0   \n239131                   8.0         2022-10-01                     0   \n239132                   9.0         2022-11-01                     0   \n239133                  10.0         2022-12-01                     0   \n239134                  11.0         2023-01-01                     0   \n239135                  12.0         2023-02-01                     0   \n239136                  13.0         2023-03-01                     0   \n\n        active_sub_content  \n239124                   0  \n239125                   0  \n239126                   0  \n239127                   0  \n239128                   0  \n239129                   0  \n239130                   0  \n239131                   0  \n239132                   0  \n239133                   0  \n239134                   0  \n239135                   0  \n239136                   0  ",
      "text/html": "<div>\n<style scoped>\n    .dataframe tbody tr th:only-of-type {\n        vertical-align: middle;\n    }\n\n    .dataframe tbody tr th {\n        vertical-align: top;\n    }\n\n    .dataframe thead th {\n        text-align: right;\n    }\n</style>\n<table border=\"1\" class=\"dataframe\">\n  <thead>\n    <tr style=\"text-align: right;\">\n      <th></th>\n      <th>transaction_id</th>\n      <th>transaction_date</th>\n      <th>term_end</th>\n      <th>reporting_month</th>\n      <th>country_name</th>\n      <th>country_code</th>\n      <th>buyer_country_code</th>\n      <th>currency</th>\n      <th>sku</th>\n      <th>subscription_status</th>\n      <th>type_of_transaction</th>\n      <th>payment_method</th>\n      <th>product_class</th>\n      <th>product_group_finance</th>\n      <th>product_length</th>\n      <th>product_length_months</th>\n      <th>product_term_length</th>\n      <th>domestic_abroad</th>\n      <th>vat_percentage</th>\n      <th>exchange_rate_eur_to_chf</th>\n      <th>store_fees_eur</th>\n      <th>store_fees_chf</th>\n      <th>store_fees_percentage</th>\n      <th>units</th>\n      <th>charge_eur</th>\n      <th>sales_price_eur</th>\n      <th>fee_eur</th>\n      <th>vat_eur</th>\n      <th>new_booking_net_eur</th>\n      <th>renewal_booking_net_eur</th>\n      <th>payout_eur</th>\n      <th>total_revenue_net_eur</th>\n      <th>charge_chf</th>\n      <th>sales_price_chf</th>\n      <th>fee_chf</th>\n      <th>vat_chf</th>\n      <th>new_booking_net_chf</th>\n      <th>renewal_booking_net_chf</th>\n      <th>payout_chf</th>\n      <th>total_revenue_net_chf</th>\n      <th>revenue_month_number</th>\n      <th>revenue_month_date</th>\n      <th>active_sub_month_end</th>\n      <th>active_sub_content</th>\n    </tr>\n  </thead>\n  <tbody>\n    <tr>\n      <th>239124</th>\n      <td>28132976_29587</td>\n      <td>2022-03-22 08:13:24</td>\n      <td>2022-03-21 14:24:13</td>\n      <td>2022-03</td>\n      <td>Switzerland</td>\n      <td>CH</td>\n      <td>CH</td>\n      <td>CHF</td>\n      <td>zattoo_web_hiq_swiss_12mo</td>\n      <td>paid</td>\n      <td>refund</td>\n      <td>credit_card</td>\n      <td>premium</td>\n      <td></td>\n      <td>365</td>\n      <td>12</td>\n      <td>31.0</td>\n      <td>NaN</td>\n      <td>7.7</td>\n      <td>1.0931</td>\n      <td>0.0</td>\n      <td>0.0</td>\n      <td>0</td>\n      <td>-1.0</td>\n      <td>-0.28031</td>\n      <td>-0.301894</td>\n      <td>0</td>\n      <td>-0.021584</td>\n      <td>-0.28031</td>\n      <td>0.0</td>\n      <td>-0.301894</td>\n      <td>-0.023807</td>\n      <td>-0.306407</td>\n      <td>-0.33</td>\n      <td>0</td>\n      <td>-0.023593</td>\n      <td>-0.306407</td>\n      <td>0.0</td>\n      <td>-0.33</td>\n      <td>-0.026024</td>\n      <td>1.0</td>\n      <td>2022-03-01</td>\n      <td>0</td>\n      <td>0</td>\n    </tr>\n    <tr>\n      <th>239125</th>\n      <td>28132976_29587</td>\n      <td>2022-03-22 08:13:24</td>\n      <td>2022-03-21 14:24:13</td>\n      <td>2022-03</td>\n      <td>Switzerland</td>\n      <td>CH</td>\n      <td>CH</td>\n      <td>CHF</td>\n      <td>zattoo_web_hiq_swiss_12mo</td>\n      <td>paid</td>\n      <td>refund</td>\n      <td>credit_card</td>\n      <td>premium</td>\n      <td></td>\n      <td>365</td>\n      <td>12</td>\n      <td>30.0</td>\n      <td>NaN</td>\n      <td>0.0</td>\n      <td>1.0931</td>\n      <td>0.0</td>\n      <td>0.0</td>\n      <td>0</td>\n      <td>0.0</td>\n      <td>0.00000</td>\n      <td>0.000000</td>\n      <td>0</td>\n      <td>0.000000</td>\n      <td>0.00000</td>\n      <td>0.0</td>\n      <td>0.000000</td>\n      <td>-0.023039</td>\n      <td>0.000000</td>\n      <td>0.00</td>\n      <td>0</td>\n      <td>0.000000</td>\n      <td>0.000000</td>\n      <td>0.0</td>\n      <td>0.00</td>\n      <td>-0.025184</td>\n      <td>2.0</td>\n      <td>2022-04-01</td>\n      <td>0</td>\n      <td>0</td>\n    </tr>\n    <tr>\n      <th>239126</th>\n      <td>28132976_29587</td>\n      <td>2022-03-22 08:13:24</td>\n      <td>2022-03-21 14:24:13</td>\n      <td>2022-03</td>\n      <td>Switzerland</td>\n      <td>CH</td>\n      <td>CH</td>\n      <td>CHF</td>\n      <td>zattoo_web_hiq_swiss_12mo</td>\n      <td>paid</td>\n      <td>refund</td>\n      <td>credit_card</td>\n      <td>premium</td>\n      <td></td>\n      <td>365</td>\n      <td>12</td>\n      <td>31.0</td>\n      <td>NaN</td>\n      <td>0.0</td>\n      <td>1.0931</td>\n      <td>0.0</td>\n      <td>0.0</td>\n      <td>0</td>\n      <td>0.0</td>\n      <td>0.00000</td>\n      <td>0.000000</td>\n      <td>0</td>\n      <td>0.000000</td>\n      <td>0.00000</td>\n      <td>0.0</td>\n      <td>0.000000</td>\n      <td>-0.023807</td>\n      <td>0.000000</td>\n      <td>0.00</td>\n      <td>0</td>\n      <td>0.000000</td>\n      <td>0.000000</td>\n      <td>0.0</td>\n      <td>0.00</td>\n      <td>-0.026024</td>\n      <td>3.0</td>\n      <td>2022-05-01</td>\n      <td>0</td>\n      <td>0</td>\n    </tr>\n    <tr>\n      <th>239127</th>\n      <td>28132976_29587</td>\n      <td>2022-03-22 08:13:24</td>\n      <td>2022-03-21 14:24:13</td>\n      <td>2022-03</td>\n      <td>Switzerland</td>\n      <td>CH</td>\n      <td>CH</td>\n      <td>CHF</td>\n      <td>zattoo_web_hiq_swiss_12mo</td>\n      <td>paid</td>\n      <td>refund</td>\n      <td>credit_card</td>\n      <td>premium</td>\n      <td></td>\n      <td>365</td>\n      <td>12</td>\n      <td>30.0</td>\n      <td>NaN</td>\n      <td>0.0</td>\n      <td>1.0931</td>\n      <td>0.0</td>\n      <td>0.0</td>\n      <td>0</td>\n      <td>0.0</td>\n      <td>0.00000</td>\n      <td>0.000000</td>\n      <td>0</td>\n      <td>0.000000</td>\n      <td>0.00000</td>\n      <td>0.0</td>\n      <td>0.000000</td>\n      <td>-0.023039</td>\n      <td>0.000000</td>\n      <td>0.00</td>\n      <td>0</td>\n      <td>0.000000</td>\n      <td>0.000000</td>\n      <td>0.0</td>\n      <td>0.00</td>\n      <td>-0.025184</td>\n      <td>4.0</td>\n      <td>2022-06-01</td>\n      <td>0</td>\n      <td>0</td>\n    </tr>\n    <tr>\n      <th>239128</th>\n      <td>28132976_29587</td>\n      <td>2022-03-22 08:13:24</td>\n      <td>2022-03-21 14:24:13</td>\n      <td>2022-03</td>\n      <td>Switzerland</td>\n      <td>CH</td>\n      <td>CH</td>\n      <td>CHF</td>\n      <td>zattoo_web_hiq_swiss_12mo</td>\n      <td>paid</td>\n      <td>refund</td>\n      <td>credit_card</td>\n      <td>premium</td>\n      <td></td>\n      <td>365</td>\n      <td>12</td>\n      <td>31.0</td>\n      <td>NaN</td>\n      <td>0.0</td>\n      <td>1.0931</td>\n      <td>0.0</td>\n      <td>0.0</td>\n      <td>0</td>\n      <td>0.0</td>\n      <td>0.00000</td>\n      <td>0.000000</td>\n      <td>0</td>\n      <td>0.000000</td>\n      <td>0.00000</td>\n      <td>0.0</td>\n      <td>0.000000</td>\n      <td>-0.023807</td>\n      <td>0.000000</td>\n      <td>0.00</td>\n      <td>0</td>\n      <td>0.000000</td>\n      <td>0.000000</td>\n      <td>0.0</td>\n      <td>0.00</td>\n      <td>-0.026024</td>\n      <td>5.0</td>\n      <td>2022-07-01</td>\n      <td>0</td>\n      <td>0</td>\n    </tr>\n    <tr>\n      <th>239129</th>\n      <td>28132976_29587</td>\n      <td>2022-03-22 08:13:24</td>\n      <td>2022-03-21 14:24:13</td>\n      <td>2022-03</td>\n      <td>Switzerland</td>\n      <td>CH</td>\n      <td>CH</td>\n      <td>CHF</td>\n      <td>zattoo_web_hiq_swiss_12mo</td>\n      <td>paid</td>\n      <td>refund</td>\n      <td>credit_card</td>\n      <td>premium</td>\n      <td></td>\n      <td>365</td>\n      <td>12</td>\n      <td>31.0</td>\n      <td>NaN</td>\n      <td>0.0</td>\n      <td>1.0931</td>\n      <td>0.0</td>\n      <td>0.0</td>\n      <td>0</td>\n      <td>0.0</td>\n      <td>0.00000</td>\n      <td>0.000000</td>\n      <td>0</td>\n      <td>0.000000</td>\n      <td>0.00000</td>\n      <td>0.0</td>\n      <td>0.000000</td>\n      <td>-0.023807</td>\n      <td>0.000000</td>\n      <td>0.00</td>\n      <td>0</td>\n      <td>0.000000</td>\n      <td>0.000000</td>\n      <td>0.0</td>\n      <td>0.00</td>\n      <td>-0.026024</td>\n      <td>6.0</td>\n      <td>2022-08-01</td>\n      <td>0</td>\n      <td>0</td>\n    </tr>\n    <tr>\n      <th>239130</th>\n      <td>28132976_29587</td>\n      <td>2022-03-22 08:13:24</td>\n      <td>2022-03-21 14:24:13</td>\n      <td>2022-03</td>\n      <td>Switzerland</td>\n      <td>CH</td>\n      <td>CH</td>\n      <td>CHF</td>\n      <td>zattoo_web_hiq_swiss_12mo</td>\n      <td>paid</td>\n      <td>refund</td>\n      <td>credit_card</td>\n      <td>premium</td>\n      <td></td>\n      <td>365</td>\n      <td>12</td>\n      <td>30.0</td>\n      <td>NaN</td>\n      <td>0.0</td>\n      <td>1.0931</td>\n      <td>0.0</td>\n      <td>0.0</td>\n      <td>0</td>\n      <td>0.0</td>\n      <td>0.00000</td>\n      <td>0.000000</td>\n      <td>0</td>\n      <td>0.000000</td>\n      <td>0.00000</td>\n      <td>0.0</td>\n      <td>0.000000</td>\n      <td>-0.023039</td>\n      <td>0.000000</td>\n      <td>0.00</td>\n      <td>0</td>\n      <td>0.000000</td>\n      <td>0.000000</td>\n      <td>0.0</td>\n      <td>0.00</td>\n      <td>-0.025184</td>\n      <td>7.0</td>\n      <td>2022-09-01</td>\n      <td>0</td>\n      <td>0</td>\n    </tr>\n    <tr>\n      <th>239131</th>\n      <td>28132976_29587</td>\n      <td>2022-03-22 08:13:24</td>\n      <td>2022-03-21 14:24:13</td>\n      <td>2022-03</td>\n      <td>Switzerland</td>\n      <td>CH</td>\n      <td>CH</td>\n      <td>CHF</td>\n      <td>zattoo_web_hiq_swiss_12mo</td>\n      <td>paid</td>\n      <td>refund</td>\n      <td>credit_card</td>\n      <td>premium</td>\n      <td></td>\n      <td>365</td>\n      <td>12</td>\n      <td>31.0</td>\n      <td>NaN</td>\n      <td>0.0</td>\n      <td>1.0931</td>\n      <td>0.0</td>\n      <td>0.0</td>\n      <td>0</td>\n      <td>0.0</td>\n      <td>0.00000</td>\n      <td>0.000000</td>\n      <td>0</td>\n      <td>0.000000</td>\n      <td>0.00000</td>\n      <td>0.0</td>\n      <td>0.000000</td>\n      <td>-0.023807</td>\n      <td>0.000000</td>\n      <td>0.00</td>\n      <td>0</td>\n      <td>0.000000</td>\n      <td>0.000000</td>\n      <td>0.0</td>\n      <td>0.00</td>\n      <td>-0.026024</td>\n      <td>8.0</td>\n      <td>2022-10-01</td>\n      <td>0</td>\n      <td>0</td>\n    </tr>\n    <tr>\n      <th>239132</th>\n      <td>28132976_29587</td>\n      <td>2022-03-22 08:13:24</td>\n      <td>2022-03-21 14:24:13</td>\n      <td>2022-03</td>\n      <td>Switzerland</td>\n      <td>CH</td>\n      <td>CH</td>\n      <td>CHF</td>\n      <td>zattoo_web_hiq_swiss_12mo</td>\n      <td>paid</td>\n      <td>refund</td>\n      <td>credit_card</td>\n      <td>premium</td>\n      <td></td>\n      <td>365</td>\n      <td>12</td>\n      <td>30.0</td>\n      <td>NaN</td>\n      <td>0.0</td>\n      <td>1.0931</td>\n      <td>0.0</td>\n      <td>0.0</td>\n      <td>0</td>\n      <td>0.0</td>\n      <td>0.00000</td>\n      <td>0.000000</td>\n      <td>0</td>\n      <td>0.000000</td>\n      <td>0.00000</td>\n      <td>0.0</td>\n      <td>0.000000</td>\n      <td>-0.023039</td>\n      <td>0.000000</td>\n      <td>0.00</td>\n      <td>0</td>\n      <td>0.000000</td>\n      <td>0.000000</td>\n      <td>0.0</td>\n      <td>0.00</td>\n      <td>-0.025184</td>\n      <td>9.0</td>\n      <td>2022-11-01</td>\n      <td>0</td>\n      <td>0</td>\n    </tr>\n    <tr>\n      <th>239133</th>\n      <td>28132976_29587</td>\n      <td>2022-03-22 08:13:24</td>\n      <td>2022-03-21 14:24:13</td>\n      <td>2022-03</td>\n      <td>Switzerland</td>\n      <td>CH</td>\n      <td>CH</td>\n      <td>CHF</td>\n      <td>zattoo_web_hiq_swiss_12mo</td>\n      <td>paid</td>\n      <td>refund</td>\n      <td>credit_card</td>\n      <td>premium</td>\n      <td></td>\n      <td>365</td>\n      <td>12</td>\n      <td>31.0</td>\n      <td>NaN</td>\n      <td>0.0</td>\n      <td>1.0931</td>\n      <td>0.0</td>\n      <td>0.0</td>\n      <td>0</td>\n      <td>0.0</td>\n      <td>0.00000</td>\n      <td>0.000000</td>\n      <td>0</td>\n      <td>0.000000</td>\n      <td>0.00000</td>\n      <td>0.0</td>\n      <td>0.000000</td>\n      <td>-0.023807</td>\n      <td>0.000000</td>\n      <td>0.00</td>\n      <td>0</td>\n      <td>0.000000</td>\n      <td>0.000000</td>\n      <td>0.0</td>\n      <td>0.00</td>\n      <td>-0.026024</td>\n      <td>10.0</td>\n      <td>2022-12-01</td>\n      <td>0</td>\n      <td>0</td>\n    </tr>\n    <tr>\n      <th>239134</th>\n      <td>28132976_29587</td>\n      <td>2022-03-22 08:13:24</td>\n      <td>2022-03-21 14:24:13</td>\n      <td>2022-03</td>\n      <td>Switzerland</td>\n      <td>CH</td>\n      <td>CH</td>\n      <td>CHF</td>\n      <td>zattoo_web_hiq_swiss_12mo</td>\n      <td>paid</td>\n      <td>refund</td>\n      <td>credit_card</td>\n      <td>premium</td>\n      <td></td>\n      <td>365</td>\n      <td>12</td>\n      <td>31.0</td>\n      <td>NaN</td>\n      <td>0.0</td>\n      <td>1.0931</td>\n      <td>0.0</td>\n      <td>0.0</td>\n      <td>0</td>\n      <td>0.0</td>\n      <td>0.00000</td>\n      <td>0.000000</td>\n      <td>0</td>\n      <td>0.000000</td>\n      <td>0.00000</td>\n      <td>0.0</td>\n      <td>0.000000</td>\n      <td>-0.023807</td>\n      <td>0.000000</td>\n      <td>0.00</td>\n      <td>0</td>\n      <td>0.000000</td>\n      <td>0.000000</td>\n      <td>0.0</td>\n      <td>0.00</td>\n      <td>-0.026024</td>\n      <td>11.0</td>\n      <td>2023-01-01</td>\n      <td>0</td>\n      <td>0</td>\n    </tr>\n    <tr>\n      <th>239135</th>\n      <td>28132976_29587</td>\n      <td>2022-03-22 08:13:24</td>\n      <td>2022-03-21 14:24:13</td>\n      <td>2022-03</td>\n      <td>Switzerland</td>\n      <td>CH</td>\n      <td>CH</td>\n      <td>CHF</td>\n      <td>zattoo_web_hiq_swiss_12mo</td>\n      <td>paid</td>\n      <td>refund</td>\n      <td>credit_card</td>\n      <td>premium</td>\n      <td></td>\n      <td>365</td>\n      <td>12</td>\n      <td>28.0</td>\n      <td>NaN</td>\n      <td>0.0</td>\n      <td>1.0931</td>\n      <td>0.0</td>\n      <td>0.0</td>\n      <td>0</td>\n      <td>0.0</td>\n      <td>0.00000</td>\n      <td>0.000000</td>\n      <td>0</td>\n      <td>0.000000</td>\n      <td>0.00000</td>\n      <td>0.0</td>\n      <td>0.000000</td>\n      <td>-0.021503</td>\n      <td>0.000000</td>\n      <td>0.00</td>\n      <td>0</td>\n      <td>0.000000</td>\n      <td>0.000000</td>\n      <td>0.0</td>\n      <td>0.00</td>\n      <td>-0.023505</td>\n      <td>12.0</td>\n      <td>2023-02-01</td>\n      <td>0</td>\n      <td>0</td>\n    </tr>\n    <tr>\n      <th>239136</th>\n      <td>28132976_29587</td>\n      <td>2022-03-22 08:13:24</td>\n      <td>2022-03-21 14:24:13</td>\n      <td>2022-03</td>\n      <td>Switzerland</td>\n      <td>CH</td>\n      <td>CH</td>\n      <td>CHF</td>\n      <td>zattoo_web_hiq_swiss_12mo</td>\n      <td>paid</td>\n      <td>refund</td>\n      <td>credit_card</td>\n      <td>premium</td>\n      <td></td>\n      <td>365</td>\n      <td>12</td>\n      <td>0.0</td>\n      <td>NaN</td>\n      <td>0.0</td>\n      <td>1.0931</td>\n      <td>0.0</td>\n      <td>0.0</td>\n      <td>0</td>\n      <td>0.0</td>\n      <td>0.00000</td>\n      <td>0.000000</td>\n      <td>0</td>\n      <td>0.000000</td>\n      <td>0.00000</td>\n      <td>0.0</td>\n      <td>0.000000</td>\n      <td>-0.000000</td>\n      <td>0.000000</td>\n      <td>0.00</td>\n      <td>0</td>\n      <td>0.000000</td>\n      <td>0.000000</td>\n      <td>0.0</td>\n      <td>0.00</td>\n      <td>-0.000000</td>\n      <td>13.0</td>\n      <td>2023-03-01</td>\n      <td>0</td>\n      <td>0</td>\n    </tr>\n  </tbody>\n</table>\n</div>"
     },
     "execution_count": 177,
     "metadata": {},
     "output_type": "execute_result"
    }
   ],
   "source": [
    "reporting_df[reporting_df.transaction_id == '28132976_29587']"
   ],
   "metadata": {
    "collapsed": false
   }
  },
  {
   "cell_type": "code",
   "execution_count": 175,
   "outputs": [],
   "source": [
    "## Export to BQ table\n",
    "pandas_gbq.to_gbq(\n",
    "    dataframe=reporting_df,\n",
    "    # destination_table=f\"finance.subs_reporting_datatrans_fix\",\n",
    "    # destination_table=f\"temp.subs_reporting_datatrans_fix1\",\n",
    "    destination_table=f\"temp.subs_reporting_datatrans_fix6\",\n",
    "    project_id=\"zattoo-dataeng\",\n",
    "    if_exists=\"replace\",\n",
    "    progress_bar=None,\n",
    "    table_schema=bq_schema,\n",
    ")"
   ],
   "metadata": {
    "collapsed": false
   }
  }
 ],
 "metadata": {
  "kernelspec": {
   "display_name": "Python 3",
   "language": "python",
   "name": "python3"
  },
  "language_info": {
   "codemirror_mode": {
    "name": "ipython",
    "version": 3
   },
   "file_extension": ".py",
   "mimetype": "text/x-python",
   "name": "python",
   "nbconvert_exporter": "python",
   "pygments_lexer": "ipython3",
   "version": "3.9.4"
  }
 },
 "nbformat": 4,
 "nbformat_minor": 4
}

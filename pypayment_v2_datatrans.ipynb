{
 "cells": [
  {
   "cell_type": "code",
   "execution_count": 2,
   "outputs": [],
   "source": [
    "#%load_ext lab_black"
   ],
   "metadata": {
    "collapsed": false,
    "pycharm": {
     "name": "#%%\n"
    }
   }
  },
  {
   "cell_type": "code",
   "execution_count": 3,
   "outputs": [],
   "source": [
    "## Importing all needed libraries and modules\n",
    "## Setting up BigQuery access credentials for SQL parsing of reporting data\n",
    "from google.cloud import bigquery\n",
    "from google.oauth2 import service_account\n",
    "import pandas_gbq\n",
    "import pandas as pd\n",
    "import numpy as np\n",
    "import os\n",
    "import warnings\n",
    "\n",
    "pd.set_option('display.max_columns', None)\n",
    "warnings.filterwarnings('ignore')\n",
    "\n",
    "credentials = service_account.Credentials.from_service_account_file(\n",
    "    \"/Users/miguelcouto/Downloads/zattoo-dataeng-e5f45785174f.json\"\n",
    ")\n",
    "\n",
    "project_id = \"zattoo-dataeng\"\n",
    "client = bigquery.Client(credentials=credentials, project=project_id)"
   ],
   "metadata": {
    "collapsed": false,
    "pycharm": {
     "name": "#%%\n"
    }
   }
  },
  {
   "cell_type": "code",
   "execution_count": 4,
   "metadata": {
    "pycharm": {
     "name": "#%%\n"
    }
   },
   "outputs": [],
   "source": [
    "## SQL query that will create the main reporting dataframe\n",
    "sql_calcs = \"\"\"\n",
    "select mt.transaction_id,\n",
    "       mt.zuid,\n",
    "       mt.payment_method,\n",
    "       mt.currency,\n",
    "       mt.exchange_rate_eur_to_chf,\n",
    "       mt.sku,\n",
    "       product_offer_view.length as product_length,\n",
    "       product_service_view.classification as product_class,\n",
    "       mt.type_of_transaction,\n",
    "       case\n",
    "           when mt.country_name = 'Germany' then 'Germany'\n",
    "           when mt.country_name = 'Austria' then 'Austria'\n",
    "           else 'Switzerland' end                   as country_name,\n",
    "       c.countrycode                                as country_code,\n",
    "       mt.new_booking_net_chf,\n",
    "       mt.renewal_booking_net_chf,\n",
    "       mt.new_booking_net_eur,\n",
    "       mt.renewal_booking_net_eur,\n",
    "       mt.transaction_date,\n",
    "       mt.term_start,\n",
    "       mt.term_end,\n",
    "       product_service_view.zuya_account_permission as product_group_finance,\n",
    "       mt.vat_eur,\n",
    "       mt.vat_chf,\n",
    "       mt.vat_percentage,\n",
    "       mt.store_fees_chf,\n",
    "       mt.store_fees_eur\n",
    "from b2c_middleware.middlelayer_transactions mt\n",
    "         left join dim.countries c on c.name = mt.country_name\n",
    "         LEFT JOIN b2c_middleware_import.product_product_view AS product_product_view\n",
    "                   ON mt.sku = product_product_view.sku\n",
    "                       AND DATE(mt.transaction_date) = product_product_view.inserted_at_date\n",
    "         LEFT JOIN b2c_middleware_import.product_subscriptionproduct_view AS product_subscriptionproduct_view\n",
    "                   ON product_product_view.id = product_subscriptionproduct_view.id\n",
    "                       AND\n",
    "                      product_product_view.inserted_at_date = product_subscriptionproduct_view.inserted_at_date\n",
    "         LEFT JOIN b2c_middleware_import.product_offer_view AS product_offer_view\n",
    "                   ON product_subscriptionproduct_view.offer_id = product_offer_view.id\n",
    "                       AND product_subscriptionproduct_view.inserted_at_date = product_offer_view.inserted_at_date\n",
    "         LEFT JOIN b2c_middleware_import.product_service_view AS product_service_view\n",
    "                   ON product_offer_view.service_id = product_service_view.id\n",
    "                       AND product_offer_view.inserted_at_date = product_service_view.inserted_at_date\n",
    "where true\n",
    "  and mt.app_shop_id = 'datatrans'\n",
    "  and mt.transaction_date >= '2022-03-01 00:00:00'\n",
    "  and mt.transaction_date <= '2022-03-31 23:59:59'\n",
    "-- Due to discrepancies, we will NOT be including refunds for now in datatrans\n",
    "  and mt.type_of_transaction != 'refund'\n",
    "           \"\"\""
   ]
  },
  {
   "cell_type": "code",
   "execution_count": 5,
   "outputs": [],
   "source": [
    "## Prepare dataframe\n",
    "df = pandas_gbq.read_gbq(sql_calcs, project_id=project_id, progress_bar_type=None)\n",
    "\n",
    "## List of transaction types (new and renewal) to be included in the dataframe (as mentioned before refunds will NOT be included in datatrans for now)\n",
    "type_trans_lst = [\"new_sale\",\n",
    "                  \"renewal\",\n",
    "                  # \"refund\"\n",
    "                  ]"
   ],
   "metadata": {
    "collapsed": false,
    "pycharm": {
     "name": "#%%\n"
    }
   }
  },
  {
   "cell_type": "code",
   "execution_count": 6,
   "outputs": [],
   "source": [
    "## Parsing date columns and converting them to datetime\n",
    "parse_dates = [\"term_start\", \"term_end\"]\n",
    "reporting_df = df[df[\"type_of_transaction\"].isin(type_trans_lst)].copy()\n",
    "\n",
    "for date in parse_dates:\n",
    "    reporting_df[date] = pd.to_datetime(reporting_df[date]).dt.tz_convert(None)"
   ],
   "metadata": {
    "collapsed": false,
    "pycharm": {
     "name": "#%%\n"
    }
   }
  },
  {
   "cell_type": "code",
   "execution_count": 7,
   "outputs": [],
   "source": [
    "## Finance Subs reporting will happen once at end of each month and for that the reporting_month will be defined based on the mode of the transaction_date\n",
    "reporting_month = reporting_df['transaction_date'].mode().dt.to_period('M').dt.strftime('%Y-%m')[0]\n",
    "reporting_df['reporting_month'] = reporting_month"
   ],
   "metadata": {
    "collapsed": false,
    "pycharm": {
     "name": "#%%\n"
    }
   }
  },
  {
   "cell_type": "code",
   "execution_count": 8,
   "metadata": {
    "pycharm": {
     "name": "#%%\n"
    }
   },
   "outputs": [],
   "source": [
    "## Calculate total_booking_net_eur/chf columns\n",
    "reporting_df[\"total_booking_net_chf\"] = (\n",
    "        reporting_df[\"new_booking_net_chf\"] + reporting_df[\"renewal_booking_net_chf\"]\n",
    ")\n",
    "reporting_df[\"total_booking_net_eur\"] = (\n",
    "        reporting_df[\"new_booking_net_eur\"] + reporting_df[\"renewal_booking_net_eur\"]\n",
    ")"
   ]
  },
  {
   "cell_type": "code",
   "execution_count": 9,
   "metadata": {
    "pycharm": {
     "name": "#%%\n"
    }
   },
   "outputs": [],
   "source": [
    "## Calculate product_length_months (the max number of months that each transaction_id is in - e.g., transaction_id 36385353 is a 1 month sub that started on\n",
    "## 23.03.22 18:45, which means product_length_months = 2 (March and April))\n",
    "reporting_df[\"product_length_months\"] = (\n",
    "        (reporting_df[\"term_end\"].dt.year - reporting_df[\"term_start\"].dt.year) * 12\n",
    "        + (reporting_df[\"term_end\"].dt.month - reporting_df[\"term_start\"].dt.month)\n",
    "        + 1\n",
    ")"
   ]
  },
  {
   "cell_type": "code",
   "execution_count": 10,
   "outputs": [],
   "source": [
    "## Some transactions have a weird behavior (probably refunds issued manually by Support), therefore product_length_months needs to be cleaned\n",
    "reporting_df[\"product_length_months\"][reporting_df[\"product_length_months\"] < 0] = 0"
   ],
   "metadata": {
    "collapsed": false,
    "pycharm": {
     "name": "#%%\n"
    }
   }
  },
  {
   "cell_type": "code",
   "execution_count": 11,
   "outputs": [],
   "source": [
    "## Replacing product_length_months for exceptions where value is 2 instead of 1\n",
    "shorter_subs = (reporting_df['term_end'] - reporting_df['term_start']).dt.days <= 30\n",
    "shorter_subs_replacer = reporting_df[shorter_subs][\n",
    "    (reporting_df[\"product_length_months\"] == 2) & ((reporting_df['term_end']).dt.day == 1)].index.to_list()\n",
    "reporting_df[\"product_length_months\"].loc[shorter_subs_replacer] = 1"
   ],
   "metadata": {
    "collapsed": false,
    "pycharm": {
     "name": "#%%\n"
    }
   }
  },
  {
   "cell_type": "code",
   "execution_count": 12,
   "metadata": {
    "pycharm": {
     "name": "#%%\n"
    }
   },
   "outputs": [],
   "source": [
    "## Reseting index\n",
    "reporting_df = reporting_df.reindex(reporting_df.index.repeat(reporting_df[\"product_length_months\"]))"
   ]
  },
  {
   "cell_type": "code",
   "execution_count": 13,
   "metadata": {
    "pycharm": {
     "name": "#%%\n"
    }
   },
   "outputs": [],
   "source": [
    "## Adding revenue_month_number (same logic as product_length_months but it iterates each month and adds +1)\n",
    "reporting_df[\"revenue_month_number\"] = reporting_df.groupby([\"transaction_id\"]).cumcount() + 1"
   ]
  },
  {
   "cell_type": "code",
   "execution_count": 14,
   "metadata": {
    "pycharm": {
     "name": "#%%\n"
    }
   },
   "outputs": [],
   "source": [
    "## Add revenue_month_date (same as revenue_month_number but with date for month begin)\n",
    "reporting_df[\"revenue_month_date\"] = reporting_df[\"term_start\"].to_numpy().astype(\"datetime64[M]\")\n",
    "reporting_df[\"revenue_month_date\"][reporting_df[\"type_of_transaction\"] == \"refund\"] = (\n",
    "    reporting_df[\"transaction_date\"].to_numpy().astype(\"datetime64[M]\")\n",
    ")\n",
    "\n",
    "reporting_df[\"revenue_month_date\"] = reporting_df.apply(\n",
    "    lambda x: x[\"revenue_month_date\"]\n",
    "              + pd.offsets.MonthEnd(x[\"revenue_month_number\"])\n",
    "              + pd.offsets.MonthBegin(-1),\n",
    "    axis=1,\n",
    ")\n",
    "\n",
    "reporting_df[\"product_term_length\"] = reporting_df[\"revenue_month_date\"].apply(\n",
    "    lambda t: pd.Period(t, freq=\"S\").days_in_month\n",
    ")\n",
    "\n",
    "reporting_df[\"product_term_length\"][reporting_df[\"term_start\"] > reporting_df[\"revenue_month_date\"]] = (\n",
    "                                                                                                               reporting_df[\n",
    "                                                                                                                   \"term_start\"].dt.daysinmonth -\n",
    "                                                                                                               reporting_df[\n",
    "                                                                                                                   \"term_start\"].dt.day\n",
    "                                                                                                       ) + 1"
   ]
  },
  {
   "cell_type": "code",
   "execution_count": 15,
   "metadata": {
    "pycharm": {
     "name": "#%%\n"
    }
   },
   "outputs": [],
   "source": [
    "## Reseting index\n",
    "reporting_df.reset_index(drop=True, inplace=True)"
   ]
  },
  {
   "cell_type": "code",
   "execution_count": 16,
   "metadata": {
    "pycharm": {
     "name": "#%%\n"
    }
   },
   "outputs": [],
   "source": [
    "## Set active_sub_month_end = 1 by default\n",
    "reporting_df[\"active_sub_month_end\"] = 1\n",
    "\n",
    "## Get last indices of each transaction_id group\n",
    "last_idxs = (\n",
    "        len(reporting_df)\n",
    "        - np.unique(\n",
    "    reporting_df.transaction_id.values[::-1],\n",
    "    return_index=1,\n",
    ")[1]\n",
    "        - 1\n",
    ")\n",
    "\n",
    "reporting_df[\"active_sub_month_end\"].iloc[last_idxs] = 0\n",
    "\n",
    "## Mark all one transaction subscriptions as 1\n",
    "reporting_df[\"active_sub_month_end\"][\n",
    "    (reporting_df[\"revenue_month_number\"] <= 1) & (reporting_df[\"product_length_months\"] <= 1)\n",
    "    ] = 1\n",
    "\n",
    "## Mark all refund transactions as -1\n",
    "reporting_df[\"active_sub_month_end\"][reporting_df[\"type_of_transaction\"] == \"refund\"] = -1"
   ]
  },
  {
   "cell_type": "code",
   "execution_count": 17,
   "outputs": [],
   "source": [
    "## Active_sub_content follows the same logic as active_sub_month_end except it doesn't count the last month\n",
    "reporting_df[\"active_sub_content\"] = reporting_df.active_sub_month_end\n",
    "\n",
    "reporting_df.loc[reporting_df.groupby('transaction_id')['active_sub_content'].tail(2).index, 'active_sub_content'] = 0"
   ],
   "metadata": {
    "collapsed": false,
    "pycharm": {
     "name": "#%%\n"
    }
   }
  },
  {
   "cell_type": "code",
   "execution_count": 18,
   "metadata": {
    "pycharm": {
     "name": "#%%\n"
    }
   },
   "outputs": [],
   "source": [
    "## Fix last position of product_term_length per transaction_id\n",
    "reporting_df[\"product_term_length\"].iloc[last_idxs] = (\n",
    "        reporting_df[\"term_end\"].iloc[last_idxs] -\n",
    "        reporting_df[\"revenue_month_date\"].iloc[last_idxs]\n",
    ").dt.days"
   ]
  },
  {
   "cell_type": "code",
   "execution_count": 19,
   "metadata": {
    "pycharm": {
     "name": "#%%\n"
    }
   },
   "outputs": [],
   "source": [
    "## Fix to tackle dynamic term_end for refunds (same as product_length_months)\n",
    "reporting_df[\"product_term_length\"][reporting_df[\"product_term_length\"] < 0] = 0"
   ]
  },
  {
   "cell_type": "code",
   "execution_count": 20,
   "metadata": {
    "pycharm": {
     "name": "#%%\n"
    }
   },
   "outputs": [],
   "source": [
    "## Total_days of product_term_length per transaction_id\n",
    "reporting_df[\"total_days\"] = reporting_df.groupby(\"transaction_id\")[\"product_term_length\"].transform(\n",
    "    \"sum\"\n",
    ")"
   ]
  },
  {
   "cell_type": "code",
   "execution_count": 21,
   "outputs": [],
   "source": [
    "## Get 12mo subs that didn't stay for 12 months for posterior treatment of exception\n",
    "reporting_df['max_revenue_month_number'] = reporting_df.groupby(['transaction_id'])['revenue_month_number'].transform(\n",
    "    max)\n",
    "\n",
    "# reporting_df[(reporting_df.sku.str.contains('zattoo_web_hiq_swiss_12mo')) & (reporting_df.max_revenue_month_number < 13)]"
   ],
   "metadata": {
    "collapsed": false,
    "pycharm": {
     "name": "#%%\n"
    }
   }
  },
  {
   "cell_type": "code",
   "execution_count": 22,
   "outputs": [],
   "source": [
    "## NEW LINE! added on 2022-04-27\n",
    "## Product_term_length fix for subscriptions < 31 days (1, 3, 7 days)\n",
    "reporting_df['product_term_length'][reporting_df.sku.str.contains('day')] = (\n",
    "        reporting_df.term_end - reporting_df.term_start).dt.days"
   ],
   "metadata": {
    "collapsed": false,
    "pycharm": {
     "name": "#%%\n"
    }
   }
  },
  {
   "cell_type": "code",
   "execution_count": 23,
   "outputs": [],
   "source": [
    "## Total_days fix for subscriptions < 31 days (1, 3, 7 days)\n",
    "reporting_df[\"total_days\"][\n",
    "    (reporting_df.product_term_length != reporting_df.total_days) & (reporting_df['product_length_months'] <= 1)] = reporting_df[\"product_term_length\"][\n",
    "    (reporting_df.product_term_length != reporting_df.total_days) & (reporting_df['product_length_months'] <= 1)]"
   ],
   "metadata": {
    "collapsed": false,
    "pycharm": {
     "name": "#%%\n"
    }
   }
  },
  {
   "cell_type": "code",
   "execution_count": 24,
   "metadata": {
    "pycharm": {
     "name": "#%%\n"
    }
   },
   "outputs": [],
   "source": [
    "## Calculate total_revenue_net fields\n",
    "reporting_df[\"total_revenue_net_eur\"] = (\n",
    "        reporting_df[\"total_booking_net_eur\"] / reporting_df[\"total_days\"] * reporting_df[\"product_term_length\"]\n",
    ")\n",
    "\n",
    "reporting_df[\"total_revenue_net_chf\"] = (\n",
    "        reporting_df[\"total_booking_net_chf\"] / reporting_df[\"total_days\"] * reporting_df[\"product_term_length\"]\n",
    ")\n",
    "\n",
    "## Remove total_booking values from all lines of group except first\n",
    "reporting_df.loc[\n",
    "    reporting_df[\"revenue_month_number\"] > 1,\n",
    "    [\"total_booking_net_chf\", \"total_booking_net_eur\"],\n",
    "] = 0.0"
   ]
  },
  {
   "cell_type": "code",
   "execution_count": 25,
   "outputs": [],
   "source": [
    "## Remove following values from all lines of group except first. This is done to avoid future aggregation issues\n",
    "one_line_cols = [\"vat_eur\", 'vat_chf', 'payout_eur', 'payout_chf', 'sales_price_eur', 'sales_price_chf', 'fee_eur', 'fee_chf', 'new_booking_net_eur',\n",
    "                 'new_booking_net_chf', 'renewal_booking_net_eur',\n",
    "                 'renewal_booking_net_chf','store_fees_eur', 'store_fees_chf',\n",
    "                 'charge_eur', 'charge_chf',\n",
    "                 'vat_percentage',\n",
    "                 'avg_price_sales_per_sub', 'units']\n",
    "\n",
    "for col in one_line_cols:\n",
    "    reporting_df.loc[\n",
    "        reporting_df[\"revenue_month_number\"] > 1,\n",
    "        [col, \"total_booking_net_eur\"],\n",
    "    ] = 0.0"
   ],
   "metadata": {
    "collapsed": false,
    "pycharm": {
     "name": "#%%\n"
    }
   }
  },
  {
   "cell_type": "code",
   "execution_count": 26,
   "metadata": {
    "pycharm": {
     "name": "#%%\n"
    }
   },
   "outputs": [],
   "source": [
    "## Prepare df_nocalcs for free trials and full discounts\n",
    "reporting_df_nocalcs = df[~df[\"type_of_transaction\"].isin(type_trans_lst)].copy()\n",
    "\n",
    "for date in parse_dates:\n",
    "    reporting_df_nocalcs[date] = pd.to_datetime(reporting_df_nocalcs[date]).dt.tz_convert(None)"
   ]
  },
  {
   "cell_type": "code",
   "execution_count": 27,
   "outputs": [],
   "source": [
    "## Extract list of transaction ids whose subscription float between one month and the other, and are 1, 3 or 7 days (== product_length < 31)\n",
    "trx_lst_more_1month_subs = reporting_df['transaction_id'][\n",
    "    (reporting_df[\"revenue_month_number\"] > 1) & (reporting_df.sku.str.contains('day'))]\n",
    "\n",
    "## This logic makes sure the days are allocated correctly for these very specific subscriptions\n",
    "reporting_df['product_term_length'][\n",
    "    (reporting_df.transaction_id.isin(trx_lst_more_1month_subs)) & (reporting_df.revenue_month_number == 1)] = - (\n",
    "        reporting_df.term_start - reporting_df.revenue_month_date.shift(1)).dt.days\n",
    "\n",
    "reporting_df['product_term_length'][\n",
    "    (reporting_df.transaction_id.isin(trx_lst_more_1month_subs)) & (reporting_df.revenue_month_number > 1)] = (\n",
    "        reporting_df.term_end - reporting_df.revenue_month_date).dt.days"
   ],
   "metadata": {
    "collapsed": false,
    "pycharm": {
     "name": "#%%\n"
    }
   }
  },
  {
   "cell_type": "code",
   "execution_count": 28,
   "outputs": [],
   "source": [
    "## Fix active_sub_month_end for subscriptions with only 1 revenue month and length < 30 days\n",
    "reporting_df['last_day_term_end'] = (pd.to_datetime(reporting_df['term_end'], format=\"%d\", unit='d')).dt.day\n",
    "reporting_df['last_day_month'] = (\n",
    "        pd.to_datetime(reporting_df['term_end'], format=\"%d\", unit='d') + pd.offsets.MonthEnd(n=1)).dt.day\n",
    "\n",
    "reporting_df[\"active_sub_month_end\"][reporting_df.last_day_term_end < reporting_df.last_day_month] = 0"
   ],
   "metadata": {
    "collapsed": false,
    "pycharm": {
     "name": "#%%\n"
    }
   }
  },
  {
   "cell_type": "code",
   "execution_count": 29,
   "outputs": [],
   "source": [
    "## Fix those one line transactions that still have wrong product_term_length\n",
    "trx_id_counts = reporting_df['transaction_id'].value_counts(sort=False)\n",
    "check_length_mask = reporting_df[\n",
    "    reporting_df['transaction_id'].isin(trx_id_counts.index[trx_id_counts == 1])].index.to_list()\n",
    "\n",
    "reporting_df[\"product_term_length\"].loc[check_length_mask] = reporting_df[\n",
    "                                                                 'term_end'].dt.day - reporting_df.term_start.dt.day"
   ],
   "metadata": {
    "collapsed": false,
    "pycharm": {
     "name": "#%%\n"
    }
   }
  },
  {
   "cell_type": "code",
   "execution_count": 30,
   "outputs": [
    {
     "data": {
      "text/plain": "[230,\n 231,\n 232,\n 233,\n 234,\n 235,\n 236,\n 237,\n 238,\n 239,\n 240,\n 241,\n 242,\n 243,\n 244,\n 245,\n 246,\n 247,\n 248,\n 249,\n 250,\n 251,\n 252,\n 253,\n 254,\n 255,\n 256,\n 257,\n 456,\n 897,\n 1572,\n 3233,\n 3247,\n 3749,\n 4844,\n 4861,\n 5808,\n 5901,\n 5902,\n 5903,\n 5904,\n 5905,\n 5906,\n 5907,\n 5908,\n 5909,\n 5910,\n 5911,\n 5940,\n 6027,\n 6042,\n 6595,\n 6938,\n 6972,\n 7029,\n 7116,\n 8109,\n 8184,\n 9480,\n 9517,\n 10251,\n 10252,\n 10253,\n 10254,\n 10255,\n 10256,\n 10257,\n 10258,\n 10259,\n 10260,\n 10261,\n 10262,\n 10263,\n 10264,\n 10265,\n 10266,\n 10267,\n 10268,\n 10269,\n 10270,\n 10271,\n 10272,\n 10273,\n 10274,\n 10275,\n 10276,\n 10277,\n 10278,\n 10279,\n 11232,\n 11449,\n 12298,\n 12655,\n 14104,\n 14811,\n 14902,\n 14994,\n 15183,\n 15485,\n 15710,\n 15711,\n 16331,\n 16384,\n 16832,\n 16833,\n 16834,\n 16835,\n 16836,\n 16837,\n 16838,\n 16839,\n 16840,\n 16841,\n 16842,\n 16843,\n 16844,\n 16845,\n 16846,\n 16847,\n 16848,\n 16849,\n 16850,\n 16851,\n 16852,\n 16853,\n 16854,\n 16855,\n 16856,\n 16857,\n 16858,\n 16859,\n 16860,\n 16861,\n 16862,\n 16863,\n 16864,\n 16865,\n 16866,\n 16867,\n 16868,\n 16869,\n 16870,\n 16871,\n 16872,\n 16873,\n 16874,\n 16875,\n 16876,\n 16877,\n 16878,\n 16879,\n 16880,\n 16881,\n 16882,\n 16883,\n 16884,\n 16885,\n 16886,\n 16887,\n 16888,\n 16889,\n 16890,\n 16891,\n 16892,\n 16893,\n 16894,\n 16911,\n 16928,\n 19109,\n 19132,\n 20363,\n 21134,\n 22727,\n 23450,\n 24321,\n 25592,\n 28013,\n 28420,\n 28421,\n 28422,\n 28423,\n 28424,\n 28425,\n 28426,\n 28427,\n 28428,\n 28429,\n 28430,\n 29096,\n 30495,\n 32485,\n 33642,\n 33741,\n 33742,\n 33743,\n 33832,\n 34649,\n 37098,\n 37469,\n 38860,\n 38861,\n 39344,\n 40834,\n 40835,\n 40836,\n 40837,\n 40838,\n 40839,\n 40840,\n 40841,\n 40842,\n 40843,\n 40844,\n 40845,\n 40846,\n 40847,\n 40848,\n 40849,\n 40850,\n 41395,\n 42574,\n 45427,\n 45455,\n 45808,\n 47150,\n 47537,\n 48400,\n 48594,\n 48623,\n 48624,\n 49878,\n 51265,\n 51322,\n 51721,\n 52326,\n 52348,\n 52349,\n 52350,\n 52351,\n 52352,\n 52353,\n 52354,\n 52355,\n 52356,\n 52357,\n 52358,\n 52359,\n 52360,\n 52361,\n 52362,\n 52363,\n 52364,\n 52365,\n 52366,\n 52367,\n 52368,\n 52369,\n 52370,\n 52371,\n 52372,\n 52385,\n 54277,\n 54368,\n 55025,\n 55026,\n 55027,\n 55068,\n 55069,\n 55351,\n 55760,\n 56126,\n 56711,\n 56828,\n 57819,\n 57930,\n 58477,\n 59372,\n 60032,\n 60095,\n 60802,\n 61103,\n 62376,\n 62778,\n 64255,\n 66126,\n 66374,\n 66408,\n 66617,\n 68583,\n 68592,\n 68593,\n 68594,\n 68595,\n 68596,\n 68597,\n 68598,\n 68599,\n 68600,\n 68601,\n 68602,\n 68603,\n 68604,\n 68605,\n 68606,\n 68607,\n 68608,\n 69112,\n 69829,\n 71117,\n 71569,\n 72918,\n 73073,\n 73132,\n 73343,\n 73994,\n 74057,\n 74144,\n 74745,\n 75440,\n 76159,\n 76404,\n 76792,\n 76941,\n 77137,\n 78977,\n 78984,\n 79091,\n 79148,\n 79173,\n 79336,\n 80215,\n 81575,\n 81576,\n 81577,\n 81578,\n 81579,\n 82177,\n 82200,\n 82544,\n 82653,\n 83592,\n 84089,\n 84180,\n 84399,\n 84612,\n 84613,\n 85466,\n 85467,\n 85468,\n 85469,\n 85470,\n 85471,\n 85472,\n 85473,\n 85474,\n 85475,\n 85476,\n 85719,\n 86234,\n 87830,\n 88025,\n 88094,\n 88099,\n 88144,\n 88717,\n 88822,\n 89257,\n 90432,\n 90515,\n 92178,\n 92806,\n 93093,\n 93930,\n 93931,\n 93932,\n 93948,\n 93949,\n 93950,\n 93951,\n 93952,\n 93953,\n 93954,\n 93955,\n 93956,\n 93957,\n 93958,\n 93959,\n 93960,\n 93961,\n 93962,\n 93963,\n 93964,\n 93965,\n 93966,\n 93967,\n 93968,\n 93969,\n 99148,\n 99459,\n 100697,\n 100698,\n 100699,\n 101964,\n 101981,\n 103624,\n 103794,\n 103805,\n 103808,\n 103817,\n 103987,\n 104066,\n 104727,\n 105032,\n 105187,\n 105532,\n 105881,\n 106212,\n 106213,\n 106214,\n 106215,\n 106216,\n 106217,\n 106218,\n 106219,\n 106220,\n 106221,\n 107324,\n 108943,\n 109114,\n 109207,\n 109286,\n 109367,\n 109986,\n 110583,\n 110646,\n 111393,\n 111394,\n 111395,\n 111396,\n 111397,\n 111398,\n 111399,\n 111400,\n 111401,\n 111416,\n 111485,\n 111590,\n 113005,\n 114186,\n 114191,\n 114234,\n 114317,\n 114620,\n 114633,\n 115086,\n 115227,\n 115404,\n 115437,\n 115498,\n 115979,\n 116092,\n 116655,\n 117090,\n 117313,\n 117496,\n 117824,\n 118173,\n 118413,\n 118505,\n 119488,\n 121203,\n 121250,\n 121251,\n 121252,\n 121253,\n 121254,\n 121255,\n 121256,\n 121257,\n 121258,\n 121259,\n 121260,\n 121806,\n 122059,\n 122345,\n 123164,\n 123165,\n 123166,\n 123167,\n 123168,\n 123169,\n 123170,\n 123171,\n 123172,\n 123173,\n 123174,\n 123175,\n 123176,\n 123177,\n 123178,\n 123179,\n 123180,\n 123181,\n 123182,\n 123183,\n 123184,\n 123185,\n 123186,\n 123187,\n 123188,\n 123189,\n 123190,\n 123191,\n 124486,\n 125187,\n 125372,\n 125407,\n 125470,\n 125615,\n 125730,\n 126778,\n 127117,\n 127628,\n 127893,\n 128266,\n 128996,\n 129046,\n 129093,\n 129100,\n 129113,\n 129182,\n 129183,\n 129184,\n 132001,\n 132014,\n 132301,\n 132302,\n 132303,\n 132304,\n 132305,\n 132306,\n 132307,\n 132308,\n 132309,\n 132310,\n 132311,\n 132312,\n 132313,\n 132314,\n 132315,\n 132316,\n 132317,\n 132318,\n 132319,\n 132320,\n 132321,\n 132322,\n 132323,\n 132324,\n 135832,\n 135833,\n 135834,\n 135835,\n 135836,\n 135942,\n 136177,\n 136178,\n 136179,\n 136180,\n 136181,\n 136182,\n 136183,\n 136510,\n 138765,\n 138941,\n 138944,\n 138961,\n 139680,\n 139809,\n 140266,\n 140621,\n 140786,\n 141243,\n 141868,\n 143042,\n 143043,\n 144878,\n 145233,\n 145720,\n 145721,\n 145980,\n 146448,\n 146449,\n 146450,\n 146451,\n 146452,\n 146453,\n 146454,\n 146455,\n 146456,\n 146457,\n 146458,\n 146459,\n 146794,\n 146915,\n 148472,\n 149503,\n 149504,\n 149505,\n 149506,\n 149507,\n 149508,\n 149509,\n 149510,\n 149511,\n 149512,\n 149513,\n 149514,\n 149517,\n 152273,\n 153316,\n 153317,\n 153318,\n 153319,\n 153320,\n 153321,\n 153322,\n 153323,\n 153324,\n 153325,\n 153326,\n 153327,\n 153328,\n 153329,\n 153330,\n 153331,\n 153332,\n 153333,\n 153334,\n 153335,\n 153336,\n 153337,\n 153338,\n 153339,\n 153340,\n 153341,\n 153342,\n 153343,\n 153396,\n 153401,\n 154844,\n 155548,\n 155559,\n 156305,\n 156872,\n 157047,\n 157138,\n 158021,\n 158586,\n 159037,\n 159494,\n 159575,\n 159712,\n 160063,\n 160326,\n 160397,\n 160630,\n 161117,\n 162220,\n 162303,\n 162316,\n 163729,\n 164731,\n 165057,\n 165126,\n 165133,\n 167194,\n 167785,\n 168367,\n 168544,\n 169523,\n 171799,\n 173792,\n 173930,\n 174206,\n 174207,\n 174208,\n 174209,\n 174210,\n 174211,\n 174212,\n 174213,\n 174214,\n 174215,\n 174216,\n 174217,\n 174218,\n 174219,\n 174220,\n 174221,\n 174222,\n 174223,\n 174224,\n 174225,\n 174226,\n 174369,\n 174545,\n 174556,\n 174702,\n 175709,\n 176628,\n 177815,\n 178398,\n 178843,\n 179013,\n 179026,\n 179065,\n 179072,\n 179172,\n 182250,\n 182329,\n 182372,\n 182465,\n 182538,\n 184961,\n 184962,\n 184963,\n 184964,\n 184965,\n 184966,\n 184967,\n 184968,\n 184969,\n 184970,\n 184971,\n 184972,\n 184973,\n 184974,\n 184975,\n 184976,\n 184977,\n 184978,\n 185888,\n 186335,\n 186356,\n 186515,\n 187484,\n 188067,\n 188483,\n 188586,\n 188737,\n 188738,\n 190559,\n 192506,\n 194248,\n 194365,\n 196596,\n 196597,\n 196598,\n 198166,\n 200149,\n 200217,\n 200222,\n 200281,\n 200344,\n 200559,\n 201866,\n 202986,\n 203148,\n 204889,\n 205484,\n 206515,\n 206516,\n 206517,\n 206518,\n 206519,\n 206520,\n 206521,\n 206522,\n 206523,\n 206524,\n 206525,\n 206526,\n 206527,\n 206528,\n 206734,\n 207777,\n 207778,\n 207779,\n 207780,\n 207781,\n 207782,\n 207783,\n 207784,\n 207785,\n 207786,\n 207787,\n 207788,\n 207789,\n 207790,\n 207791,\n 207792,\n 207793,\n 207794,\n 207795,\n 210388,\n 210693,\n 210870,\n 210979,\n 212492,\n 212493,\n 212494,\n 212495,\n 212496,\n 212497,\n 212498,\n 212499,\n 212500,\n 213151,\n 213610,\n 214072,\n 214651,\n 217300,\n 217421,\n 217502,\n 217545,\n 217678,\n 220579,\n 220608,\n 220906,\n 220977,\n 221026,\n 221087,\n 221128,\n 223997,\n 224004,\n 224075,\n 224510,\n 225873,\n 226038,\n 226273,\n 226313,\n 226421,\n 226744,\n 227197,\n 227198,\n 227199,\n 227356,\n 227445,\n 227485,\n 227486,\n 227487,\n 227488,\n 227489,\n 227490,\n 227491,\n 227492,\n 227493,\n 227494,\n 227495,\n 228113,\n 228890,\n 229123,\n 230601,\n 230667,\n 231300,\n 231943,\n 232305,\n 232650,\n 234049,\n 235111,\n 235905,\n 236159,\n 236180,\n 236297,\n 236352,\n 237821,\n 237864,\n 237893,\n 239438,\n 239451,\n 239858,\n 239992,\n 240069,\n 240386,\n 240942,\n 240956,\n 241372,\n 242150,\n 242233,\n 244514,\n 244772,\n 244773,\n 244774,\n 244804,\n 244823,\n 247379,\n 247393,\n 247511,\n 247979,\n 248290,\n 248311,\n 248362,\n 249077,\n 250560,\n 250561,\n 250562,\n 250563,\n 250564,\n 250565,\n 250566,\n 250567,\n 250568,\n 250569,\n 250570,\n 250571,\n 250572,\n 250573,\n 250574,\n 250575,\n 250576,\n 250577,\n 250578,\n 250579,\n 250580,\n 250581,\n 250582,\n 250583,\n 250584,\n 250585,\n 250586,\n 250587,\n 250588,\n 250589,\n 250590,\n 250591,\n 250592,\n 250593,\n 250594,\n 250595,\n 250596,\n 250597,\n 250598,\n 250599,\n 250600,\n 250601,\n 250602,\n 250603,\n 250604,\n 250605,\n 250606,\n 250607,\n 250608,\n 250609,\n 250610,\n 250611,\n 251774,\n 252504,\n 252695,\n 254875,\n 254876,\n 254877,\n 254878,\n 254879,\n 254880,\n 254881,\n 254882,\n 254883,\n 254884,\n 254885,\n 254886,\n 254887,\n 254888,\n 254889,\n 254890,\n 254891,\n 254892,\n 254893,\n 254932,\n 254999,\n 255098,\n 255115,\n 255714,\n 257183,\n 258570,\n 258577,\n 258895,\n 259607,\n 259608,\n 259609,\n 260448,\n 261436,\n 261437,\n 261438,\n 261439,\n 261440,\n 261441,\n 261442,\n 261443,\n 261444,\n ...]"
     },
     "execution_count": 30,
     "metadata": {},
     "output_type": "execute_result"
    }
   ],
   "source": [
    "check_length_mask"
   ],
   "metadata": {
    "collapsed": false,
    "pycharm": {
     "name": "#%%\n"
    }
   }
  },
  {
   "cell_type": "code",
   "execution_count": 100,
   "outputs": [],
   "source": [
    "## Calculate total_booking_net columns\n",
    "reporting_df_nocalcs[\"total_booking_net_chf\"] = (\n",
    "        reporting_df_nocalcs[\"new_booking_net_chf\"] + reporting_df_nocalcs[\"renewal_booking_net_chf\"]\n",
    ")\n",
    "reporting_df_nocalcs[\"total_booking_net_eur\"] = (\n",
    "        reporting_df_nocalcs[\"new_booking_net_eur\"] + reporting_df_nocalcs[\"renewal_booking_net_eur\"]\n",
    ")"
   ],
   "metadata": {
    "collapsed": false,
    "pycharm": {
     "name": "#%%\n"
    }
   }
  },
  {
   "cell_type": "code",
   "execution_count": 101,
   "outputs": [],
   "source": [
    "## Calculating sales_prices                                                                                                     errors='ignore')\n",
    "reporting_df['sales_price_eur'] = reporting_df['total_booking_net_eur'] * (\n",
    "        1 + (reporting_df['vat_percentage'] / 100))\n",
    "reporting_df['sales_price_chf'] = reporting_df['total_booking_net_chf'] * (\n",
    "        1 + (reporting_df['vat_percentage'] / 100))"
   ],
   "metadata": {
    "collapsed": false,
    "pycharm": {
     "name": "#%%\n"
    }
   }
  },
  {
   "cell_type": "code",
   "execution_count": 103,
   "outputs": [],
   "source": [
    "## Append dataframes\n",
    "reporting_df = reporting_df.append(reporting_df_nocalcs).reset_index(drop=True)\n",
    "\n",
    "## Convert revenue_month_date to date\n",
    "reporting_df[\"revenue_month_date\"] = pd.to_datetime(\n",
    "    reporting_df[\"revenue_month_date\"]\n",
    ").dt.date"
   ],
   "metadata": {
    "collapsed": false,
    "pycharm": {
     "name": "#%%\n"
    }
   }
  },
  {
   "cell_type": "code",
   "execution_count": 104,
   "outputs": [],
   "source": [
    "## Standardizing the report so it's in line with Amazon, Google and Apple\n",
    "reporting_df[['domestic_abroad', 'subscription_status']] = np.nan\n",
    "\n",
    "reporting_df[['charge_chf', 'charge_eur', 'units', 'store_fees_percentage', 'payout_chf', 'fee_eur', 'fee_chf',\n",
    "              'payout_eur']] = 0"
   ],
   "metadata": {
    "collapsed": false,
    "pycharm": {
     "name": "#%%\n"
    }
   }
  },
  {
   "cell_type": "code",
   "execution_count": 105,
   "outputs": [],
   "source": [
    "## Reorder dataframe\n",
    "reporting_df = reporting_df[\n",
    "    [\n",
    "        'transaction_id',\n",
    "        'transaction_date',\n",
    "        'term_end',\n",
    "        'reporting_month',\n",
    "        'country_name',\n",
    "        'country_code',\n",
    "        'currency',\n",
    "        'sku',\n",
    "        'subscription_status',\n",
    "        'type_of_transaction',\n",
    "        'payment_method',\n",
    "        'product_class',\n",
    "        'product_group_finance',\n",
    "        'product_length',\n",
    "        'product_length_months',\n",
    "        'product_term_length',\n",
    "        'domestic_abroad',\n",
    "        'vat_percentage',\n",
    "        'exchange_rate_eur_to_chf',\n",
    "        'store_fees_eur',\n",
    "        'store_fees_chf',\n",
    "        'store_fees_percentage',\n",
    "        'units',\n",
    "        'charge_eur',\n",
    "        'sales_price_eur',\n",
    "        'fee_eur',\n",
    "        'vat_eur',\n",
    "        'new_booking_net_eur',\n",
    "        'renewal_booking_net_eur',\n",
    "        'payout_eur',\n",
    "        'total_revenue_net_eur',\n",
    "        'charge_chf',\n",
    "        'sales_price_chf',\n",
    "        'fee_chf',\n",
    "        'vat_chf',\n",
    "        'new_booking_net_chf',\n",
    "        'renewal_booking_net_chf',\n",
    "        'payout_chf',\n",
    "        'total_revenue_net_chf',\n",
    "        'revenue_month_number',\n",
    "        'revenue_month_date',\n",
    "        'active_sub_month_end',\n",
    "        'active_sub_content'\n",
    "    ]\n",
    "]\n",
    "\n",
    "## Define BQ table schema\n",
    "bq_schema = [\n",
    "    {\"name\": \"transaction_id\", \"type\": \"STRING\"},\n",
    "    {\"name\": \"transaction_date\", \"type\": \"TIMESTAMP\"},\n",
    "    {\"name\": \"term_end\", \"type\": \"TIMESTAMP\"},\n",
    "    {\"name\": \"reporting_month\", \"type\": \"STRING\"},\n",
    "    {\"name\": \"country_name\", \"type\": \"STRING\"},\n",
    "    {\"name\": \"country_code\", \"type\": \"STRING\"},\n",
    "    {\"name\": \"currency\", \"type\": \"STRING\"},\n",
    "    {\"name\": \"sku\", \"type\": \"STRING\"},\n",
    "    {\"name\": \"subscription_status\", \"type\": \"STRING\"},\n",
    "    {\"name\": \"type_of_transaction\", \"type\": \"STRING\"},\n",
    "    {\"name\": \"payment_method\", \"type\": \"STRING\"},\n",
    "    {\"name\": \"product_class\", \"type\": \"STRING\"},\n",
    "    {\"name\": \"product_group_finance\", \"type\": \"STRING\"},\n",
    "    {\"name\": \"product_length\", \"type\": \"INTEGER\"},\n",
    "    {\"name\": \"product_length_months\", \"type\": \"INTEGER\"},\n",
    "    {\"name\": \"product_term_length\", \"type\": \"INTEGER\"},\n",
    "    {\"name\": \"domestic_abroad\", \"type\": \"STRING\"},\n",
    "    {\"name\": \"vat_percentage\", \"type\": \"FLOAT\"},\n",
    "    {\"name\": \"exchange_rate_eur_to_chf\", \"type\": \"FLOAT\"},\n",
    "    {\"name\": \"store_fees_eur\", \"type\": \"INTEGER\"},\n",
    "    {\"name\": \"store_fees_chf\", \"type\": \"INTEGER\"},\n",
    "    {\"name\": \"store_fees_percentage\", \"type\": \"INTEGER\"},\n",
    "    {\"name\": \"units\", \"type\": \"INTEGER\"},\n",
    "    {\"name\": \"charge_eur\", \"type\": \"FLOAT\"},\n",
    "    {\"name\": \"sales_price_eur\", \"type\": \"FLOAT\"},\n",
    "    {\"name\": \"fee_eur\", \"type\": \"FLOAT\"},\n",
    "    {\"name\": \"vat_eur\", \"type\": \"FLOAT\"},\n",
    "    {\"name\": \"new_booking_net_eur\", \"type\": \"FLOAT\"},\n",
    "    {\"name\": \"renewal_booking_net_eur\", \"type\": \"FLOAT\"},\n",
    "    {\"name\": \"payout_eur\", \"type\": \"FLOAT\"},\n",
    "    {\"name\": \"total_revenue_net_eur\", \"type\": \"FLOAT\"},\n",
    "    {\"name\": \"charge_chf\", \"type\": \"FLOAT\"},\n",
    "    {\"name\": \"sales_price_chf\", \"type\": \"FLOAT\"},\n",
    "    {\"name\": \"fee_chf\", \"type\": \"FLOAT\"},\n",
    "    {\"name\": \"vat_chf\", \"type\": \"FLOAT\"},\n",
    "    {\"name\": \"new_booking_net_chf\", \"type\": \"FLOAT\"},\n",
    "    {\"name\": \"renewal_booking_net_chf\", \"type\": \"FLOAT\"},\n",
    "    {\"name\": \"payout_chf\", \"type\": \"FLOAT\"},\n",
    "    {\"name\": \"total_revenue_net_chf\", \"type\": \"FLOAT\"},\n",
    "    {\"name\": \"revenue_month_number\", \"type\": \"INTEGER\"},\n",
    "    {\"name\": \"revenue_month_date\", \"type\": \"STRING\"},\n",
    "    {\"name\": \"active_sub_month_end\", \"type\": \"INTEGER\"},\n",
    "    {\"name\": \"active_sub_content\", \"type\": \"INTEGER\"}\n",
    "]"
   ],
   "metadata": {
    "collapsed": false,
    "pycharm": {
     "name": "#%%\n"
    }
   }
  },
  {
   "cell_type": "code",
   "execution_count": 106,
   "outputs": [],
   "source": [
    "## Export to csv\n",
    "path = r\"/Users/miguelcouto/Desktop/\"\n",
    "\n",
    "reporting_df.to_csv(os.path.join(path, fr'subs_reporting_datatrans{reporting_month.replace(\"-\", \"_\")}.csv'))"
   ],
   "metadata": {
    "collapsed": false,
    "pycharm": {
     "name": "#%%\n"
    }
   }
  },
  {
   "cell_type": "code",
   "execution_count": 107,
   "outputs": [],
   "source": [
    "## Export to BQ table\n",
    "pandas_gbq.to_gbq(\n",
    "    dataframe=reporting_df,\n",
    "    destination_table=f\"finance.subs_reporting_datatrans{reporting_month.replace('-', '')}\",\n",
    "    project_id=\"zattoo-dataeng\",\n",
    "    if_exists=\"replace\",\n",
    "    progress_bar=None,\n",
    "    table_schema=bq_schema,\n",
    ")"
   ],
   "metadata": {
    "collapsed": false,
    "pycharm": {
     "name": "#%%\n"
    }
   }
  }
 ],
 "metadata": {
  "kernelspec": {
   "display_name": "Python 3",
   "language": "python",
   "name": "python3"
  },
  "language_info": {
   "codemirror_mode": {
    "name": "ipython",
    "version": 3
   },
   "file_extension": ".py",
   "mimetype": "text/x-python",
   "name": "python",
   "nbconvert_exporter": "python",
   "pygments_lexer": "ipython3",
   "version": "3.9.4"
  }
 },
 "nbformat": 4,
 "nbformat_minor": 4
}
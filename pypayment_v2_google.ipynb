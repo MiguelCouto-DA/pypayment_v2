{
 "cells": [
  {
   "cell_type": "code",
   "execution_count": 355,
   "outputs": [],
   "source": [
    "#%load_ext lab_black"
   ],
   "metadata": {
    "collapsed": false,
    "pycharm": {
     "name": "#%%\n"
    }
   }
  },
  {
   "cell_type": "code",
   "execution_count": 356,
   "outputs": [],
   "source": [
    "## Importing all needed libraries and modules\n",
    "## Setting up BigQuery access credentials for SQL parsing of reporting data\n",
    "from google.cloud import bigquery\n",
    "from google.oauth2 import service_account\n",
    "import pandas_gbq\n",
    "import pandas as pd\n",
    "import numpy as np\n",
    "import os\n",
    "import warnings\n",
    "import datetime\n",
    "\n",
    "pd.set_option('display.max_columns', None)\n",
    "warnings.filterwarnings('ignore')\n",
    "\n",
    "credentials = service_account.Credentials.from_service_account_file(\n",
    "    \"/Users/miguelcouto/Downloads/zattoo-dataeng-e5f45785174f.json\"\n",
    ")\n",
    "\n",
    "project_id = \"zattoo-dataeng\"\n",
    "client = bigquery.Client(credentials=credentials, project=project_id)"
   ],
   "metadata": {
    "collapsed": false,
    "pycharm": {
     "name": "#%%\n"
    }
   }
  },
  {
   "cell_type": "code",
   "execution_count": 357,
   "outputs": [],
   "source": [
    "## Prepare dataframe\n",
    "df = pd.read_csv('/Users/miguelcouto/PycharmProjects/pypayment_v2/raw/google/PlayApps_202203.csv')"
   ],
   "metadata": {
    "collapsed": false,
    "pycharm": {
     "name": "#%%\n"
    }
   }
  },
  {
   "cell_type": "code",
   "execution_count": 358,
   "outputs": [],
   "source": [
    "## Renaming and reordering the dataframe so it keeps consistency with the reports from the other app shops\n",
    "reporting_df = df[\n",
    "    ['Description', 'Transaction Date', 'Transaction Time', 'Tax Type', 'Transaction Type',\n",
    "     'Refund Type', 'Product Title', 'Sku Id', 'Buyer Country',\n",
    "     'Buyer Currency', 'Amount (Buyer Currency)', 'Currency Conversion Rate',\n",
    "     'Merchant Currency', 'Amount (Merchant Currency)', 'Offer ID']]\n",
    "\n",
    "reporting_df.rename({'Description': 'description',\n",
    "                     'Transaction Time': 'transaction_time',\n",
    "                     'Transaction Date': 'transaction_date',\n",
    "                     'Transaction Type': 'type_of_transaction',\n",
    "                     'Tax Type': 'tax_type',\n",
    "                     'Refund Type': 'refund_type',\n",
    "                     'Product Title': 'product_title',\n",
    "                     'Sku Id': 'vendor_sku',\n",
    "                     'Buyer Country': 'buyer_country_code',\n",
    "                     'Buyer Currency': 'buyer_currency',\n",
    "                     'Merchant Currency': 'merchant_currency',\n",
    "                     'Currency Conversion Rate': 'currency_conversion_rate',\n",
    "                     'Amount (Buyer Currency)': 'payout_buyer_currency',\n",
    "                     'Amount (Merchant Currency)': 'payout_chf',\n",
    "                     'Offer ID': 'offer_id',\n",
    "                     },\n",
    "                    axis=1, inplace=True)\n",
    "\n",
    "## Converting date columns to datetime and getting rid of unnecessary columns\n",
    "reporting_df['transaction_date'] = pd.to_datetime(df['Transaction Date'])\n",
    "reporting_df['transaction_time'] = pd.to_timedelta(df['Transaction Time'])\n",
    "\n",
    "reporting_df['transaction_date'] = pd.to_datetime(reporting_df['transaction_date'] + reporting_df['transaction_time'],\n",
    "                                                  format='%m-%d-%Y%H:%M:%S')\n",
    "\n",
    "reporting_df.drop('transaction_time', inplace=True, axis=1)"
   ],
   "metadata": {
    "collapsed": false,
    "pycharm": {
     "name": "#%%\n"
    }
   }
  },
  {
   "cell_type": "code",
   "execution_count": 359,
   "outputs": [],
   "source": [
    "## We only report DE, CH, AT. Everything except DACH goes to CH attributed abroad in the column domestic_abroad.\n",
    "reporting_df['domestic_abroad'] = pd.np.where(\n",
    "    reporting_df['buyer_country_code'].str.lower() == 'de', 'domestic',\n",
    "    pd.np.where(reporting_df['buyer_country_code'].str.lower() == 'at', 'domestic',\n",
    "                pd.np.where(reporting_df['buyer_country_code'].str.lower() == 'ch', 'domestic', 'abroad')))\n",
    "\n",
    "reporting_df['country_code_clean'] = pd.np.where(\n",
    "    reporting_df['buyer_country_code'].str.lower() == 'de', 'DE',\n",
    "    pd.np.where(reporting_df['buyer_country_code'].str.lower() == 'at', 'AT',\n",
    "                pd.np.where(reporting_df['buyer_country_code'].str.lower() == 'ch', 'CH', 'CH')))"
   ],
   "metadata": {
    "collapsed": false,
    "pycharm": {
     "name": "#%%\n"
    }
   }
  },
  {
   "cell_type": "code",
   "execution_count": 360,
   "outputs": [],
   "source": [
    "# ## Build join to dim.countries and get country_names\n",
    "# dim_countries = \"\"\"\n",
    "# select distinct countrycode as country_code,\n",
    "#                 name as country_name\n",
    "# from dim.countries\n",
    "# ;\n",
    "# \"\"\"\n",
    "#\n",
    "# df_countries = pandas_gbq.read_gbq(dim_countries, project_id=project_id, progress_bar_type=None)\n",
    "#\n",
    "# reporting_df = reporting_df.merge(df_countries, how='left', left_on='country_code_clean', right_on='country_code')"
   ],
   "metadata": {
    "collapsed": false,
    "pycharm": {
     "name": "#%%\n"
    }
   }
  },
  {
   "cell_type": "code",
   "execution_count": 361,
   "outputs": [],
   "source": [
    "## Finance Subs reporting will happen once at end of each month and for that the reporting_month will be defined based on the mode of the transaction_date.\n",
    "reporting_df['reporting_month'] = reporting_df['transaction_date'].dt.to_period('M').dt.strftime('%Y-%m')\n",
    "reporting_month = reporting_df.reporting_month.mode()\n",
    "reporting_df['reporting_month'] = reporting_df['reporting_month'].apply(lambda x: reporting_month)"
   ],
   "metadata": {
    "collapsed": false,
    "pycharm": {
     "name": "#%%\n"
    }
   }
  },
  {
   "cell_type": "code",
   "execution_count": 362,
   "outputs": [],
   "source": [
    "## Adding payment_method column\n",
    "reporting_df['payment_method'] = 'google'"
   ],
   "metadata": {
    "collapsed": false,
    "pycharm": {
     "name": "#%%\n"
    }
   }
  },
  {
   "cell_type": "code",
   "execution_count": 363,
   "outputs": [],
   "source": [
    "## SQL query to enrich the dataframe with more specific product data (class, detailed class, length)\n",
    "skus_list = str(set(reporting_df['vendor_sku'].to_list()))\n",
    "\n",
    "skus_expand = f\"\"\"select distinct rlv.SKU as sku,\n",
    "                rlv.product_class,\n",
    "                rlv.detailed_product_class,\n",
    "                rlv.product_length\n",
    "from b2c_middleware.reporting_layer_view rlv\n",
    "where true\n",
    "  and rlv.SKU in ({skus_list[1:-1]})\n",
    "  and rlv.app_shop_id = 'google'\n",
    "  and rlv.product_class is not null\n",
    "  and rlv.detailed_product_class is not null\n",
    "  ;\"\"\"\n",
    "\n",
    "df_skus_expand = pandas_gbq.read_gbq(skus_expand, project_id=project_id, progress_bar_type=None)\n",
    "\n",
    "reporting_df = reporting_df.merge(df_skus_expand, how='left',\n",
    "                                  left_on='vendor_sku', right_on='sku').drop('vendor_sku', axis=1)"
   ],
   "metadata": {
    "collapsed": false,
    "pycharm": {
     "name": "#%%\n"
    }
   }
  },
  {
   "cell_type": "code",
   "execution_count": 364,
   "outputs": [],
   "source": [
    "## Adding units column\n",
    "reporting_df['units'] = pd.np.where(\n",
    "    reporting_df['type_of_transaction'].str.lower() == 'charge', 1,\n",
    "    pd.np.where(reporting_df['type_of_transaction'].str.lower() == 'charge refund', -1, 0))"
   ],
   "metadata": {
    "collapsed": false,
    "pycharm": {
     "name": "#%%\n"
    }
   }
  },
  {
   "cell_type": "code",
   "execution_count": 365,
   "outputs": [],
   "source": [
    "## Creating product_length_months column\n",
    "reporting_df['product_length_months'] = reporting_df['product_length']\n",
    "\n",
    "reporting_df['product_length_months'] = reporting_df['product_length'].replace(\n",
    "    {31: 1, 92: 3, 365: 12})"
   ],
   "metadata": {
    "collapsed": false,
    "pycharm": {
     "name": "#%%\n"
    }
   }
  },
  {
   "cell_type": "code",
   "execution_count": 366,
   "outputs": [],
   "source": [
    "## Enriching google with data from our datamarts which already has a lot of clean business logic\n",
    "trxs_list = str(set(reporting_df['description'].to_list()))\n",
    "\n",
    "trxs_expand = f\"\"\"\n",
    "select rlv.transaction_id,\n",
    "       rlv.term_end,\n",
    "       pav.latest_receipt_orderid,\n",
    "       rlv.creation_time,\n",
    "       rlv.store_fees_applicable_percentage as store_fees_percentage,\n",
    "       rlv.vat_percentage,\n",
    "--        pe_eur.exchange_rate                 as exchange_rate_eur_to_chf,\n",
    "--        rlv.vat_eur,\n",
    "--        rlv.vat_chf,\n",
    "--        rlv.new_booking_net_chf,\n",
    "--        rlv.new_booking_net_EUR,\n",
    "--        rlv.renewal_booking_net_CHF,\n",
    "--        rlv.renewal_booking_net_EUR,\n",
    "       rlv.is_renewal\n",
    "from b2c_middleware.middlelayer_androidtransaction rlv\n",
    "         left join b2c_middleware_import.payment_androidtransaction_view pav\n",
    "                   on pav.id = rlv.transaction_id\n",
    "         LEFT JOIN b2c_middleware_import.payment_exchangerate pe\n",
    "                   ON pe.from_currency = rlv.currency\n",
    "                       AND DATE_TRUNC(pe.day, MONTH) =\n",
    "                           DATE_TRUNC(DATE(rlv.creation_time), MONTH)\n",
    "         LEFT JOIN b2c_middleware_import.payment_exchangerate pe_eur\n",
    "                   ON pe_eur.from_currency = 'EUR'\n",
    "                       AND DATE_TRUNC(pe_eur.day, MONTH) =\n",
    "                           DATE_TRUNC(DATE(rlv.creation_time), MONTH)\n",
    "where true\n",
    "  AND pe.day >= DATE('2008-08-01')\n",
    "  AND pe_eur.day >= DATE('2008-08-01')\n",
    "  and pav.latest_receipt_orderid in ({trxs_list[1:-1]})\n",
    "\"\"\"\n",
    "\n",
    "df_trxs_expand = pandas_gbq.read_gbq(trxs_expand, project_id=project_id, progress_bar_type=None)\n",
    "\n",
    "reporting_df = reporting_df.merge(df_trxs_expand, how='left',\n",
    "                                  left_on='description', right_on='latest_receipt_orderid').drop(\n",
    "    'latest_receipt_orderid', axis=1)\n",
    "\n",
    "reporting_df.drop_duplicates(subset=[\"description\", 'type_of_transaction'], inplace=True)"
   ],
   "metadata": {
    "collapsed": false,
    "pycharm": {
     "name": "#%%\n"
    }
   }
  },
  {
   "cell_type": "code",
   "execution_count": 367,
   "outputs": [],
   "source": [
    "## Lowering caps for uniformity\n",
    "reporting_df.rename({'new_booking_net_EUR': 'new_booking_net_eur',\n",
    "                     'renewal_booking_net_CHF': 'renewal_booking_net_chf',\n",
    "                     'renewal_booking_net_EUR': 'renewal_booking_net_eur',\n",
    "                     },\n",
    "                    axis=1, inplace=True)"
   ],
   "metadata": {
    "collapsed": false,
    "pycharm": {
     "name": "#%%\n"
    }
   }
  },
  {
   "cell_type": "code",
   "execution_count": 368,
   "outputs": [],
   "source": [
    "## 12M subs in DE and AT should be allocated to CH + abroad\n",
    "reporting_df['domestic_abroad'][(reporting_df['product_length_months'] == 12) & (\n",
    "    reporting_df['buyer_country_code'].str.lower().isin(['de', 'at']))] = 'abroad'\n",
    "\n",
    "reporting_df['country_code_clean'][\n",
    "    (reporting_df['product_length_months'] == 12) & (\n",
    "        reporting_df['buyer_country_code'].str.lower().isin(['de', 'at']))] = 'CH'"
   ],
   "metadata": {
    "collapsed": false,
    "pycharm": {
     "name": "#%%\n"
    }
   }
  },
  {
   "cell_type": "code",
   "execution_count": 369,
   "outputs": [],
   "source": [
    "## Build join to dim.countries and get country_names\n",
    "dim_countries = \"\"\"\n",
    "select distinct countrycode as country_code,\n",
    "                name as country_name\n",
    "from dim.countries\n",
    ";\n",
    "\"\"\"\n",
    "\n",
    "df_countries = pandas_gbq.read_gbq(dim_countries, project_id=project_id, progress_bar_type=None)\n",
    "\n",
    "reporting_df = reporting_df.merge(df_countries, how='left', left_on='country_code_clean', right_on='country_code')"
   ],
   "metadata": {
    "collapsed": false,
    "pycharm": {
     "name": "#%%\n"
    }
   }
  },
  {
   "cell_type": "code",
   "execution_count": 370,
   "outputs": [],
   "source": [
    "## Calculating VAT from google instead of getting them from our datamarts because google has its own exchange rates\n",
    "df_vat_chf = reporting_df[(reporting_df['type_of_transaction'].str.lower().isin(['tax', 'tax refund']))].groupby('transaction_id')[\n",
    "    'payout_chf'].sum().reset_index()\n",
    "\n",
    "df_vat_chf.rename({'payout_chf': 'vat_chf'\n",
    "                   },\n",
    "                  axis=1, inplace=True)\n",
    "\n",
    "reporting_df = reporting_df.merge(df_vat_chf, how='left', left_on='transaction_id', right_on='transaction_id')\n",
    "\n",
    "df_vat_buyer_currency = reporting_df[(reporting_df['type_of_transaction'].str.lower().isin(['tax', 'tax refund']))].groupby('transaction_id')[\n",
    "    'payout_buyer_currency'].sum().reset_index()\n",
    "\n",
    "df_vat_buyer_currency.rename({'payout_buyer_currency': 'vat_buyer_currency'\n",
    "                              },\n",
    "                             axis=1, inplace=True)\n",
    "\n",
    "reporting_df = reporting_df.merge(df_vat_buyer_currency, how='left', left_on='transaction_id',\n",
    "                                  right_on='transaction_id')"
   ],
   "metadata": {
    "collapsed": false,
    "pycharm": {
     "name": "#%%\n"
    }
   }
  },
  {
   "cell_type": "code",
   "execution_count": 371,
   "outputs": [],
   "source": [
    "## Calculating google fee refund\n",
    "df_fee_chf = reporting_df[(reporting_df['type_of_transaction'].str.lower().isin(['google fee refund', 'google fee']))].groupby(\n",
    "    'transaction_id')['payout_chf'].sum().reset_index()\n",
    "\n",
    "df_fee_chf.rename({'payout_chf': 'fee_chf'\n",
    "                   },\n",
    "                  axis=1, inplace=True)\n",
    "\n",
    "reporting_df = reporting_df.merge(df_fee_chf, how='left', left_on='transaction_id', right_on='transaction_id')\n",
    "\n",
    "df_fee_buyer_currency = reporting_df[(reporting_df['type_of_transaction'].str.lower().isin(['google fee refund', 'google fee']))].groupby(\n",
    "    'transaction_id')['payout_buyer_currency'].sum().reset_index()\n",
    "\n",
    "df_fee_buyer_currency.rename({'payout_buyer_currency': 'fee_buyer_currency'\n",
    "                              },\n",
    "                             axis=1, inplace=True)\n",
    "\n",
    "reporting_df = reporting_df.merge(df_fee_buyer_currency, how='left', left_on='transaction_id',\n",
    "                                  right_on='transaction_id')"
   ],
   "metadata": {
    "collapsed": false,
    "pycharm": {
     "name": "#%%\n"
    }
   }
  },
  {
   "cell_type": "code",
   "execution_count": 372,
   "outputs": [],
   "source": [
    "## Calculating net bookings from google instead of getting them from our datamarts because google has its own exchange rates\n",
    "df_net_booking_chf = reporting_df[(reporting_df['type_of_transaction'].str.lower().isin(\n",
    "    ['google fee refund', 'google fee', 'charge', 'charge refund']))].groupby('transaction_id')[\n",
    "    'payout_chf'].sum().reset_index()\n",
    "\n",
    "df_net_booking_chf.rename({'payout_chf': 'net_booking_chf'\n",
    "                           },\n",
    "                          axis=1, inplace=True)\n",
    "\n",
    "reporting_df = reporting_df.merge(df_net_booking_chf, how='left', left_on='transaction_id', right_on='transaction_id')\n",
    "\n",
    "df_net_booking_buyer_currency = reporting_df[(reporting_df['type_of_transaction'].str.lower().isin(\n",
    "    ['google fee refund', 'google fee', 'charge', 'charge refund']))].groupby('transaction_id')[\n",
    "    'payout_buyer_currency'].sum().reset_index()\n",
    "\n",
    "df_net_booking_buyer_currency.rename({'payout_buyer_currency': 'net_booking_buyer_currency'\n",
    "                                      },\n",
    "                                     axis=1, inplace=True)\n",
    "\n",
    "reporting_df = reporting_df.merge(df_net_booking_buyer_currency, how='left', left_on='transaction_id',\n",
    "                                  right_on='transaction_id')"
   ],
   "metadata": {
    "collapsed": false,
    "pycharm": {
     "name": "#%%\n"
    }
   }
  },
  {
   "cell_type": "code",
   "execution_count": 373,
   "outputs": [],
   "source": [
    "## Calculating sales price from google instead of getting them from our datamarts because google has its own exchange rates\n",
    "reporting_df['sales_price_chf'] = reporting_df['payout_chf'] - reporting_df['fee_chf']\n",
    "\n",
    "reporting_df['sales_price_buyer_currency'] = reporting_df['payout_buyer_currency'] - reporting_df['fee_buyer_currency']"
   ],
   "metadata": {
    "collapsed": false,
    "pycharm": {
     "name": "#%%\n"
    }
   }
  },
  {
   "cell_type": "code",
   "execution_count": 374,
   "outputs": [],
   "source": [
    "## Calculating charge from google instead of getting them from our datamarts because google has its own exchange rates\n",
    "reporting_df['charge_chf'] = reporting_df['sales_price_chf'] - reporting_df['vat_chf']\n",
    "\n",
    "reporting_df['charge_buyer_currency'] = reporting_df['sales_price_buyer_currency'] - reporting_df['vat_buyer_currency']"
   ],
   "metadata": {
    "collapsed": false,
    "pycharm": {
     "name": "#%%\n"
    }
   }
  },
  {
   "cell_type": "code",
   "execution_count": 375,
   "outputs": [],
   "source": [
    "## avg_price_sales_per_sub calculation\n",
    "reporting_df['avg_price_sales_per_sub_chf'] = reporting_df['sales_price_chf'] / reporting_df['units']\n",
    "\n",
    "reporting_df['avg_price_sales_per_sub_buyer_currency'] = reporting_df['sales_price_buyer_currency'] / reporting_df['units']"
   ],
   "metadata": {
    "collapsed": false,
    "pycharm": {
     "name": "#%%\n"
    }
   }
  },
  {
   "cell_type": "code",
   "execution_count": 376,
   "outputs": [],
   "source": [
    "## Removing UTC timezone from term_end\n",
    "reporting_df['term_end'] = pd.to_datetime(reporting_df['term_end'])\n",
    "\n",
    "reporting_df['term_end'] = reporting_df['term_end'].dt.strftime('%Y-%m-%d %H:%M:%S')\n",
    "\n",
    "reporting_df['term_end'] = pd.to_datetime(reporting_df['term_end'])"
   ],
   "metadata": {
    "collapsed": false,
    "pycharm": {
     "name": "#%%\n"
    }
   }
  },
  {
   "cell_type": "code",
   "execution_count": 377,
   "outputs": [],
   "source": [
    "## Adding artificially created term_end_date based on initial transaction_date\n",
    "reporting_df['term_end'][reporting_df['term_end'].isna()] = reporting_df['transaction_date'] + reporting_df['product_length'].astype('timedelta64[ns]')"
   ],
   "metadata": {
    "collapsed": false,
    "pycharm": {
     "name": "#%%\n"
    }
   }
  },
  {
   "cell_type": "code",
   "execution_count": 378,
   "outputs": [],
   "source": [
    "## Calculate product_term_length_months\n",
    "reporting_df[\"product_term_length_months\"] = (\n",
    "        (reporting_df[\"term_end\"].dt.year - reporting_df[\"transaction_date\"].dt.year) * 12\n",
    "        + (reporting_df[\"term_end\"].dt.month - reporting_df[\"transaction_date\"].dt.month)\n",
    "        + 1\n",
    ")\n",
    "\n",
    "## A bit of housekeeping\n",
    "reporting_df[\"product_term_length_months\"][reporting_df[\"product_term_length_months\"] < 0] = 0"
   ],
   "metadata": {
    "collapsed": false,
    "pycharm": {
     "name": "#%%\n"
    }
   }
  },
  {
   "cell_type": "code",
   "execution_count": 379,
   "outputs": [],
   "source": [
    "## Replacing product_term_length_months for exceptions where value is 2 instead of 1\n",
    "shorter_subs = (reporting_df['term_end'] - reporting_df['transaction_date']).dt.days <= 30\n",
    "shorter_subs_replacer = reporting_df[shorter_subs][\n",
    "    (reporting_df[\"product_term_length_months\"] == 2) & ((reporting_df['term_end']).dt.day == 1)].index.to_list()\n",
    "reporting_df[\"product_term_length_months\"].loc[shorter_subs_replacer] = 1"
   ],
   "metadata": {
    "collapsed": false,
    "pycharm": {
     "name": "#%%\n"
    }
   }
  },
  {
   "cell_type": "code",
   "execution_count": 380,
   "outputs": [],
   "source": [
    "## Cleaning up a bit\n",
    "reporting_df.replace(np.inf, 0, inplace=True)\n",
    "reporting_df.replace(-np.inf, 0, inplace=True)"
   ],
   "metadata": {
    "collapsed": false,
    "pycharm": {
     "name": "#%%\n"
    }
   }
  },
  {
   "cell_type": "code",
   "execution_count": 381,
   "outputs": [],
   "source": [
    "## Adding revenue_month_number - this will help in further calculations\n",
    "reporting_df = reporting_df.loc[reporting_df.index.repeat(reporting_df['product_term_length_months'])].reset_index(\n",
    "    drop=True)\n",
    "reporting_df['revenue_month_number'] = 1\n",
    "reporting_df['revenue_month_number'] = reporting_df.groupby([\"transaction_id\", 'type_of_transaction'])[\n",
    "    'revenue_month_number'].cumsum()"
   ],
   "metadata": {
    "collapsed": false,
    "pycharm": {
     "name": "#%%\n"
    }
   }
  },
  {
   "cell_type": "code",
   "execution_count": 382,
   "outputs": [],
   "source": [
    "## Adding max_month_date to tackle the specifications of active_sub_month_end\n",
    "reporting_df['max_month_date'] = reporting_df.groupby([reporting_df['term_end'].dt.to_period('M'), 'type_of_transaction'])[\n",
    "    'term_end'].transform('max')\n",
    "reporting_df['max_month_date'] = reporting_df['max_month_date'].dt.normalize() + pd.Timedelta('23:59:59')"
   ],
   "metadata": {
    "collapsed": false,
    "pycharm": {
     "name": "#%%\n"
    }
   }
  },
  {
   "cell_type": "code",
   "execution_count": 383,
   "outputs": [],
   "source": [
    "## Get last indices of each transaction_id group\n",
    "last_idxs_charges = (\n",
    "        len(reporting_df[reporting_df['type_of_transaction'] == 'charge'])\n",
    "        - np.unique(\n",
    "    reporting_df['transaction_id'][reporting_df['type_of_transaction'] == 'charge'].values[::-1],\n",
    "    return_index=1,\n",
    ")[1]\n",
    "        - 1\n",
    ")\n",
    "\n",
    "## Add revenue_month_date\n",
    "reporting_df[\"revenue_month_date\"] = reporting_df[\"transaction_date\"].to_numpy().astype(\"datetime64[M]\")\n",
    "reporting_df[\"revenue_month_date\"][reporting_df[\"type_of_transaction\"] == \"refund\"] = (\n",
    "    reporting_df[\"transaction_date\"].to_numpy().astype(\"datetime64[M]\")\n",
    ")\n",
    "\n",
    "reporting_df[\"revenue_month_date\"] = reporting_df.apply(\n",
    "    lambda x: x[\"revenue_month_date\"]\n",
    "              + pd.offsets.MonthEnd(x[\"revenue_month_number\"])\n",
    "              + pd.offsets.MonthBegin(-1),\n",
    "    axis=1,\n",
    ")\n",
    "\n",
    "reporting_df[\"product_term_length\"] = reporting_df[\"revenue_month_date\"].apply(\n",
    "    lambda t: pd.Period(t, freq=\"S\").days_in_month\n",
    ")\n",
    "\n",
    "reporting_df[\"product_term_length\"][reporting_df[\"transaction_date\"] > reporting_df[\"revenue_month_date\"]] = (\n",
    "                                                                                                                     reporting_df[\n",
    "                                                                                                                         \"transaction_date\"].dt.daysinmonth -\n",
    "                                                                                                                     reporting_df[\n",
    "                                                                                                                         \"transaction_date\"].dt.day\n",
    "                                                                                                             ) + 1\n",
    "\n",
    "## Fix last position of product_term_length per transaction_id for charges\n",
    "reporting_df[\"product_term_length\"].iloc[last_idxs_charges] = (\n",
    "        reporting_df[\"term_end\"].iloc[last_idxs_charges] -\n",
    "        reporting_df[\"revenue_month_date\"].iloc[last_idxs_charges]\n",
    ").dt.days\n",
    "\n",
    "reporting_df = reporting_df[reporting_df['product_term_length'] > 0]\n",
    "\n",
    "last_idxs = (\n",
    "        len(reporting_df)\n",
    "        - np.unique(\n",
    "    reporting_df['transaction_id'].values[::-1],\n",
    "    return_index=1,\n",
    ")[1]\n",
    "        - 1\n",
    ")\n",
    "\n",
    "reporting_df[\"product_term_length\"].iloc[last_idxs] = (\n",
    "        reporting_df[\"term_end\"].iloc[last_idxs] -\n",
    "        reporting_df[\"revenue_month_date\"].iloc[last_idxs]\n",
    ").dt.days"
   ],
   "metadata": {
    "collapsed": false,
    "pycharm": {
     "name": "#%%\n"
    }
   }
  },
  {
   "cell_type": "code",
   "execution_count": 384,
   "outputs": [],
   "source": [
    "# reporting_df[\"active_sub_month_end\"] = 1\n",
    "#\n",
    "# reporting_df[\"active_sub_month_end\"].iloc[last_idxs] = 0\n",
    "#\n",
    "# reporting_df[\"active_sub_month_end\"][\n",
    "#     (reporting_df[\"revenue_month_number\"] == reporting_df['product_term_length_months']) & (\n",
    "#             reporting_df[\"term_end\"] < reporting_df['max_month_date'])\n",
    "#     ] = 0\n",
    "\n",
    "## Set active_sub_month_end = 0 by default\n",
    "reporting_df['active_sub_month_end'] = 0\n",
    "reporting_df['active_sub_month_end'][\n",
    "    (reporting_df['term_end'] > (reporting_df['revenue_month_date'] + pd.offsets.MonthBegin(1)))] = 1\n",
    "reporting_df[\"active_sub_month_end\"][reporting_df[\"type_of_transaction\"] == \"trial\"] = 0\n",
    "\n",
    "## mark all one transaction subscriptions as 1\n",
    "# reporting_df[\"active_sub_month_end\"][\n",
    "#     (reporting_df[\"revenue_month_number\"] <= 1) & (reporting_df[\"product_term_length_months\"] <= 1)\n",
    "#     ] = 1\n",
    "\n",
    "## Mark all refund transactions as 'active_sub_month_end'] * -1\n",
    "reporting_df[\"active_sub_month_end\"][reporting_df[\"type_of_transaction\"] != \"charge\"] = reporting_df[\n",
    "                                                                                            'active_sub_month_end'] * -1\n",
    "\n",
    "reporting_df.reset_index(drop=True, inplace=True)"
   ],
   "metadata": {
    "collapsed": false,
    "pycharm": {
     "name": "#%%\n"
    }
   }
  },
  {
   "cell_type": "code",
   "execution_count": 385,
   "outputs": [],
   "source": [
    "## active_sub_content follows the same logic as active_sub_month_end except it doesn't count the last month\n",
    "reporting_df[\"active_sub_content\"] = reporting_df.active_sub_month_end\n",
    "\n",
    "reporting_df[\"active_sub_content\"][(reporting_df[\"revenue_month_number\"] > reporting_df['product_length_months'])] = 0\n",
    "\n",
    "reporting_df[\"active_sub_content\"][reporting_df[\"type_of_transaction\"] == \"trial\"] = 0\n",
    "\n",
    "## Total_days of product_term_length per transaction_id\n",
    "reporting_df[\"total_days\"] = reporting_df.groupby([\"transaction_id\", 'type_of_transaction'])[\n",
    "    \"product_term_length\"].transform(\"sum\")"
   ],
   "metadata": {
    "collapsed": false,
    "pycharm": {
     "name": "#%%\n"
    }
   }
  },
  {
   "cell_type": "code",
   "execution_count": 386,
   "outputs": [],
   "source": [
    "## Adding product_term_length_months\n",
    "reporting_df['product_term_length_months'] = reporting_df.groupby([\"transaction_id\", 'type_of_transaction'])[\n",
    "    'revenue_month_number'].transform('max')"
   ],
   "metadata": {
    "collapsed": false,
    "pycharm": {
     "name": "#%%\n"
    }
   }
  },
  {
   "cell_type": "code",
   "execution_count": 387,
   "outputs": [],
   "source": [
    "## Calculate total_revenue_net fields\n",
    "reporting_df[\"total_revenue_net_chf\"] = (\n",
    "        reporting_df[\"net_booking_chf\"] / reporting_df[\"total_days\"] * reporting_df[\"product_term_length\"]\n",
    ")\n",
    "\n",
    "reporting_df[\"total_revenue_net_buyer_currency\"] = (\n",
    "        reporting_df[\"net_booking_buyer_currency\"] / reporting_df[\"total_days\"] * reporting_df[\"product_term_length\"]\n",
    ")"
   ],
   "metadata": {
    "collapsed": false,
    "pycharm": {
     "name": "#%%\n"
    }
   }
  },
  {
   "cell_type": "code",
   "execution_count": 388,
   "outputs": [],
   "source": [
    "## Remove values from all lines of cols group except first\n",
    "one_line_cols = [\"vat_eur\", 'vat_chf', 'payout_eur', 'payout_chf', 'sales_price_eur', 'sales_price_chf', 'fee_eur',\n",
    "                 'fee_chf', 'new_booking_net_eur',\n",
    "                 'new_booking_net_chf', 'renewal_booking_net_eur',\n",
    "                 'renewal_booking_net_chf', 'store_fees_eur', 'store_fees_chf',\n",
    "                 'charge_eur', 'charge_chf',\n",
    "                 'vat_percentage',\n",
    "                 'avg_price_sales_per_sub',\n",
    "                 'units'\n",
    "                 ]\n",
    "\n",
    "for col in one_line_cols:\n",
    "    reporting_df.loc[\n",
    "        reporting_df[\"revenue_month_number\"] > 1,\n",
    "        [col],\n",
    "    ] = 0.0"
   ],
   "metadata": {
    "collapsed": false,
    "pycharm": {
     "name": "#%%\n"
    }
   }
  },
  {
   "cell_type": "code",
   "execution_count": 389,
   "outputs": [],
   "source": [
    "## Standardizing the report\n",
    "reporting_df[['product_group_finance']] = ''\n",
    "\n",
    "reporting_df[['currency', 'subscription_status']] = np.nan\n",
    "\n",
    "reporting_df[\n",
    "    ['store_fees_eur', 'store_fees_percentage', 'store_fees_percentage', 'store_fees_chf', 'renewal_booking_net_eur',\n",
    "     'renewal_booking_net_chf', 'exchange_rate_eur_to_chf', 'total_revenue_net_eur']] = 0"
   ],
   "metadata": {
    "collapsed": false,
    "pycharm": {
     "name": "#%%\n"
    }
   }
  },
  {
   "cell_type": "code",
   "execution_count": 390,
   "outputs": [],
   "source": [
    "## Reorder dataframe\n",
    "reporting_df = reporting_df[\n",
    "    [\n",
    "        'transaction_id',\n",
    "        'transaction_date',\n",
    "        'term_end',\n",
    "        'reporting_month',\n",
    "        'country_name',\n",
    "        'country_code',\n",
    "        'currency',\n",
    "        'sku',\n",
    "        'subscription_status',\n",
    "        'type_of_transaction',\n",
    "        'payment_method',\n",
    "        'product_class',\n",
    "        'product_group_finance',\n",
    "        'product_length',\n",
    "        'product_length_months',\n",
    "        'product_term_length',\n",
    "        'domestic_abroad',\n",
    "        'vat_percentage',\n",
    "        'exchange_rate_eur_to_chf',\n",
    "        'store_fees_eur',\n",
    "        'store_fees_chf',\n",
    "        'store_fees_percentage',\n",
    "        'units',\n",
    "        'charge_eur',\n",
    "        'sales_price_eur',\n",
    "        'fee_eur',\n",
    "        'vat_eur',\n",
    "        'new_booking_net_eur',\n",
    "        'renewal_booking_net_eur',\n",
    "        'payout_eur',\n",
    "        'total_revenue_net_eur',\n",
    "        'charge_chf',\n",
    "        'sales_price_chf',\n",
    "        'fee_chf',\n",
    "        'vat_chf',\n",
    "        'new_booking_net_chf',\n",
    "        'renewal_booking_net_chf',\n",
    "        'payout_chf',\n",
    "        'total_revenue_net_chf',\n",
    "        'revenue_month_number',\n",
    "        'revenue_month_date',\n",
    "        'active_sub_month_end',\n",
    "        'active_sub_content'\n",
    "    ]\n",
    "]\n",
    "\n",
    "## Define BQ table schema\n",
    "bq_schema = [\n",
    "    {\"name\": \"transaction_id\", \"type\": \"STRING\"},\n",
    "    {\"name\": \"transaction_date\", \"type\": \"TIMESTAMP\"},\n",
    "    {\"name\": \"term_end\", \"type\": \"TIMESTAMP\"},\n",
    "    {\"name\": \"reporting_month\", \"type\": \"STRING\"},\n",
    "    {\"name\": \"country_name\", \"type\": \"STRING\"},\n",
    "    {\"name\": \"country_code\", \"type\": \"STRING\"},\n",
    "    {\"name\": \"currency\", \"type\": \"STRING\"},\n",
    "    {\"name\": \"sku\", \"type\": \"STRING\"},\n",
    "    {\"name\": \"subscription_status\", \"type\": \"STRING\"},\n",
    "    {\"name\": \"type_of_transaction\", \"type\": \"STRING\"},\n",
    "    {\"name\": \"payment_method\", \"type\": \"STRING\"},\n",
    "    {\"name\": \"product_class\", \"type\": \"STRING\"},\n",
    "    {\"name\": \"product_group_finance\", \"type\": \"STRING\"},\n",
    "    {\"name\": \"product_length\", \"type\": \"INTEGER\"},\n",
    "    {\"name\": \"product_length_months\", \"type\": \"INTEGER\"},\n",
    "    {\"name\": \"product_term_length\", \"type\": \"INTEGER\"},\n",
    "    {\"name\": \"domestic_abroad\", \"type\": \"STRING\"},\n",
    "    {\"name\": \"vat_percentage\", \"type\": \"FLOAT\"},\n",
    "    {\"name\": \"exchange_rate_eur_to_chf\", \"type\": \"FLOAT\"},\n",
    "    {\"name\": \"store_fees_eur\", \"type\": \"INTEGER\"},\n",
    "    {\"name\": \"store_fees_chf\", \"type\": \"INTEGER\"},\n",
    "    {\"name\": \"store_fees_percentage\", \"type\": \"INTEGER\"},\n",
    "    {\"name\": \"units\", \"type\": \"INTEGER\"},\n",
    "    {\"name\": \"charge_eur\", \"type\": \"FLOAT\"},\n",
    "    {\"name\": \"sales_price_eur\", \"type\": \"FLOAT\"},\n",
    "    {\"name\": \"fee_eur\", \"type\": \"FLOAT\"},\n",
    "    {\"name\": \"vat_eur\", \"type\": \"FLOAT\"},\n",
    "    {\"name\": \"new_booking_net_eur\", \"type\": \"FLOAT\"},\n",
    "    {\"name\": \"renewal_booking_net_eur\", \"type\": \"FLOAT\"},\n",
    "    {\"name\": \"payout_eur\", \"type\": \"FLOAT\"},\n",
    "    {\"name\": \"total_revenue_net_eur\", \"type\": \"FLOAT\"},\n",
    "    {\"name\": \"charge_chf\", \"type\": \"FLOAT\"},\n",
    "    {\"name\": \"sales_price_chf\", \"type\": \"FLOAT\"},\n",
    "    {\"name\": \"fee_chf\", \"type\": \"FLOAT\"},\n",
    "    {\"name\": \"vat_chf\", \"type\": \"FLOAT\"},\n",
    "    {\"name\": \"new_booking_net_chf\", \"type\": \"FLOAT\"},\n",
    "    {\"name\": \"renewal_booking_net_chf\", \"type\": \"FLOAT\"},\n",
    "    {\"name\": \"payout_chf\", \"type\": \"FLOAT\"},\n",
    "    {\"name\": \"total_revenue_net_chf\", \"type\": \"FLOAT\"},\n",
    "    {\"name\": \"revenue_month_number\", \"type\": \"INTEGER\"},\n",
    "    {\"name\": \"revenue_month_date\", \"type\": \"STRING\"},\n",
    "    {\"name\": \"active_sub_month_end\", \"type\": \"INTEGER\"},\n",
    "    {\"name\": \"active_sub_content\", \"type\": \"INTEGER\"}\n",
    "]"
   ],
   "metadata": {
    "collapsed": false,
    "pycharm": {
     "name": "#%%\n"
    }
   }
  },
  {
   "cell_type": "code",
   "execution_count": 393,
   "outputs": [
    {
     "data": {
      "text/plain": "       transaction_id    transaction_date            term_end reporting_month  \\\n0          36122802.0 2022-03-01 12:00:15 2022-03-28 10:59:53         2022-03   \n1          36122767.0 2022-03-01 12:01:17 2022-04-01 11:01:04         2022-03   \n2          36122769.0 2022-03-01 12:01:49 2022-04-01 11:01:29         2022-03   \n3          36122753.0 2022-03-01 12:05:50 2022-04-01 11:05:39         2022-03   \n4          36122753.0 2022-03-01 12:05:50 2022-04-01 11:05:39         2022-03   \n...               ...                 ...                 ...             ...   \n73570      36479792.0 2022-03-31 11:59:39 2022-05-01 09:59:28         2022-03   \n73571      36479792.0 2022-03-31 11:59:39 2022-05-01 09:59:28         2022-03   \n73572      36479789.0 2022-03-31 11:59:42 2022-05-01 09:59:33         2022-03   \n73573      36479789.0 2022-03-31 11:59:42 2022-05-01 09:59:33         2022-03   \n73574      36479789.0 2022-03-31 11:59:42 2022-05-01 09:59:33         2022-03   \n\n      country_name country_code  currency  \\\n0          Germany           DE       NaN   \n1          Germany           DE       NaN   \n2          Germany           DE       NaN   \n3      Switzerland           CH       NaN   \n4      Switzerland           CH       NaN   \n...            ...          ...       ...   \n73570      Germany           DE       NaN   \n73571      Germany           DE       NaN   \n73572      Germany           DE       NaN   \n73573      Germany           DE       NaN   \n73574      Germany           DE       NaN   \n\n                                           sku  subscription_status  \\\n0      com.zattoo.android.de.1399.10.freetrial                  NaN   \n1       com.zattoo.android.de.999.10.freetrial                  NaN   \n2       com.zattoo.android.de.999.10.freetrial                  NaN   \n3      com.zattoo.android.ch.2000.10.freetrial                  NaN   \n4      com.zattoo.android.ch.2000.10.freetrial                  NaN   \n...                                        ...                  ...   \n73570   com.zattoo.android.de.999.10.freetrial                  NaN   \n73571   com.zattoo.android.de.999.10.freetrial                  NaN   \n73572  com.zattoo.android.de.1399.10.freetrial                  NaN   \n73573  com.zattoo.android.de.1399.10.freetrial                  NaN   \n73574  com.zattoo.android.de.1399.10.freetrial                  NaN   \n\n      type_of_transaction payment_method product_class product_group_finance  \\\n0                  Charge         google      ultimate                         \n1                  Charge         google       premium                         \n2                  Charge         google       premium                         \n3                  Charge         google      ultimate                         \n4              Google fee         google      ultimate                         \n...                   ...            ...           ...                   ...   \n73570              Charge         google       premium                         \n73571              Charge         google       premium                         \n73572              Charge         google      ultimate                         \n73573              Charge         google      ultimate                         \n73574              Charge         google      ultimate                         \n\n       product_length  product_length_months  product_term_length  \\\n0                  31                      1                   27   \n1                  31                      1                   31   \n2                  31                      1                   31   \n3                  31                      1                   31   \n4                  31                      1                   31   \n...               ...                    ...                  ...   \n73570              31                      1                   30   \n73571              31                      1                    0   \n73572              31                      1                    1   \n73573              31                      1                   30   \n73574              31                      1                    0   \n\n      domestic_abroad  vat_percentage  exchange_rate_eur_to_chf  \\\n0            domestic            19.0                         0   \n1            domestic            19.0                         0   \n2            domestic            19.0                         0   \n3            domestic             7.7                         0   \n4            domestic             7.7                         0   \n...               ...             ...                       ...   \n73570        domestic             0.0                         0   \n73571        domestic             0.0                         0   \n73572        domestic            19.0                         0   \n73573        domestic             0.0                         0   \n73574        domestic             0.0                         0   \n\n       store_fees_eur  store_fees_chf  store_fees_percentage  units  \\\n0                   0               0                      0      1   \n1                   0               0                      0      1   \n2                   0               0                      0      1   \n3                   0               0                      0      1   \n4                   0               0                      0      0   \n...               ...             ...                    ...    ...   \n73570               0               0                      0      0   \n73571               0               0                      0      0   \n73572               0               0                      0      1   \n73573               0               0                      0      0   \n73574               0               0                      0      0   \n\n       charge_eur  sales_price_eur  fee_eur  vat_eur  new_booking_net_eur  \\\n0             NaN              NaN      NaN      NaN                  NaN   \n1             NaN              NaN      NaN      NaN                  NaN   \n2             NaN              NaN      NaN      NaN                  NaN   \n3             NaN              NaN      NaN      NaN                  NaN   \n4             NaN              NaN      NaN      NaN                  NaN   \n...           ...              ...      ...      ...                  ...   \n73570         0.0              0.0      0.0      0.0                  0.0   \n73571         0.0              0.0      0.0      0.0                  0.0   \n73572         NaN              NaN      NaN      NaN                  NaN   \n73573         0.0              0.0      0.0      0.0                  0.0   \n73574         0.0              0.0      0.0      0.0                  0.0   \n\n       renewal_booking_net_eur  payout_eur  total_revenue_net_eur  charge_chf  \\\n0                            0         NaN                      0         NaN   \n1                            0         NaN                      0         NaN   \n2                            0         NaN                      0         NaN   \n3                            0         NaN                      0       19.93   \n4                            0         NaN                      0       -1.43   \n...                        ...         ...                    ...         ...   \n73570                        0         0.0                      0        0.00   \n73571                        0         0.0                      0        0.00   \n73572                        0         NaN                      0         NaN   \n73573                        0         0.0                      0        0.00   \n73574                        0         0.0                      0        0.00   \n\n       sales_price_chf  fee_chf  vat_chf  new_booking_net_chf  \\\n0                  NaN      NaN      NaN                  NaN   \n1                  NaN      NaN      NaN                  NaN   \n2                  NaN      NaN      NaN                  NaN   \n3                21.36    -2.79     1.43                  NaN   \n4                 0.00    -2.79     1.43                  NaN   \n...                ...      ...      ...                  ...   \n73570             0.00     0.00     0.00                  0.0   \n73571             0.00     0.00     0.00                  0.0   \n73572              NaN      NaN      NaN                  NaN   \n73573             0.00     0.00     0.00                  0.0   \n73574             0.00     0.00     0.00                  0.0   \n\n       renewal_booking_net_chf  payout_chf  total_revenue_net_chf  \\\n0                            0       10.28              10.280000   \n1                            0        7.33               7.330000   \n2                            0        7.33               7.330000   \n3                            0       18.57              15.780000   \n4                            0       -2.79              15.780000   \n...                        ...         ...                    ...   \n73570                        0        0.00               7.064516   \n73571                        0        0.00               0.000000   \n73572                        0       10.24               0.330323   \n73573                        0        0.00               9.909677   \n73574                        0        0.00               0.000000   \n\n       revenue_month_number revenue_month_date  active_sub_month_end  \\\n0                         1         2022-03-01                     0   \n1                         1         2022-03-01                    -1   \n2                         1         2022-03-01                    -1   \n3                         1         2022-03-01                    -1   \n4                         1         2022-03-01                    -1   \n...                     ...                ...                   ...   \n73570                     2         2022-04-01                    -1   \n73571                     3         2022-05-01                     0   \n73572                     1         2022-03-01                    -1   \n73573                     2         2022-04-01                    -1   \n73574                     3         2022-05-01                     0   \n\n       active_sub_content  \n0                       0  \n1                      -1  \n2                      -1  \n3                      -1  \n4                      -1  \n...                   ...  \n73570                   0  \n73571                   0  \n73572                  -1  \n73573                   0  \n73574                   0  \n\n[73575 rows x 43 columns]",
      "text/html": "<div>\n<style scoped>\n    .dataframe tbody tr th:only-of-type {\n        vertical-align: middle;\n    }\n\n    .dataframe tbody tr th {\n        vertical-align: top;\n    }\n\n    .dataframe thead th {\n        text-align: right;\n    }\n</style>\n<table border=\"1\" class=\"dataframe\">\n  <thead>\n    <tr style=\"text-align: right;\">\n      <th></th>\n      <th>transaction_id</th>\n      <th>transaction_date</th>\n      <th>term_end</th>\n      <th>reporting_month</th>\n      <th>country_name</th>\n      <th>country_code</th>\n      <th>currency</th>\n      <th>sku</th>\n      <th>subscription_status</th>\n      <th>type_of_transaction</th>\n      <th>payment_method</th>\n      <th>product_class</th>\n      <th>product_group_finance</th>\n      <th>product_length</th>\n      <th>product_length_months</th>\n      <th>product_term_length</th>\n      <th>domestic_abroad</th>\n      <th>vat_percentage</th>\n      <th>exchange_rate_eur_to_chf</th>\n      <th>store_fees_eur</th>\n      <th>store_fees_chf</th>\n      <th>store_fees_percentage</th>\n      <th>units</th>\n      <th>charge_eur</th>\n      <th>sales_price_eur</th>\n      <th>fee_eur</th>\n      <th>vat_eur</th>\n      <th>new_booking_net_eur</th>\n      <th>renewal_booking_net_eur</th>\n      <th>payout_eur</th>\n      <th>total_revenue_net_eur</th>\n      <th>charge_chf</th>\n      <th>sales_price_chf</th>\n      <th>fee_chf</th>\n      <th>vat_chf</th>\n      <th>new_booking_net_chf</th>\n      <th>renewal_booking_net_chf</th>\n      <th>payout_chf</th>\n      <th>total_revenue_net_chf</th>\n      <th>revenue_month_number</th>\n      <th>revenue_month_date</th>\n      <th>active_sub_month_end</th>\n      <th>active_sub_content</th>\n    </tr>\n  </thead>\n  <tbody>\n    <tr>\n      <th>0</th>\n      <td>36122802.0</td>\n      <td>2022-03-01 12:00:15</td>\n      <td>2022-03-28 10:59:53</td>\n      <td>2022-03</td>\n      <td>Germany</td>\n      <td>DE</td>\n      <td>NaN</td>\n      <td>com.zattoo.android.de.1399.10.freetrial</td>\n      <td>NaN</td>\n      <td>Charge</td>\n      <td>google</td>\n      <td>ultimate</td>\n      <td></td>\n      <td>31</td>\n      <td>1</td>\n      <td>27</td>\n      <td>domestic</td>\n      <td>19.0</td>\n      <td>0</td>\n      <td>0</td>\n      <td>0</td>\n      <td>0</td>\n      <td>1</td>\n      <td>NaN</td>\n      <td>NaN</td>\n      <td>NaN</td>\n      <td>NaN</td>\n      <td>NaN</td>\n      <td>0</td>\n      <td>NaN</td>\n      <td>0</td>\n      <td>NaN</td>\n      <td>NaN</td>\n      <td>NaN</td>\n      <td>NaN</td>\n      <td>NaN</td>\n      <td>0</td>\n      <td>10.28</td>\n      <td>10.280000</td>\n      <td>1</td>\n      <td>2022-03-01</td>\n      <td>0</td>\n      <td>0</td>\n    </tr>\n    <tr>\n      <th>1</th>\n      <td>36122767.0</td>\n      <td>2022-03-01 12:01:17</td>\n      <td>2022-04-01 11:01:04</td>\n      <td>2022-03</td>\n      <td>Germany</td>\n      <td>DE</td>\n      <td>NaN</td>\n      <td>com.zattoo.android.de.999.10.freetrial</td>\n      <td>NaN</td>\n      <td>Charge</td>\n      <td>google</td>\n      <td>premium</td>\n      <td></td>\n      <td>31</td>\n      <td>1</td>\n      <td>31</td>\n      <td>domestic</td>\n      <td>19.0</td>\n      <td>0</td>\n      <td>0</td>\n      <td>0</td>\n      <td>0</td>\n      <td>1</td>\n      <td>NaN</td>\n      <td>NaN</td>\n      <td>NaN</td>\n      <td>NaN</td>\n      <td>NaN</td>\n      <td>0</td>\n      <td>NaN</td>\n      <td>0</td>\n      <td>NaN</td>\n      <td>NaN</td>\n      <td>NaN</td>\n      <td>NaN</td>\n      <td>NaN</td>\n      <td>0</td>\n      <td>7.33</td>\n      <td>7.330000</td>\n      <td>1</td>\n      <td>2022-03-01</td>\n      <td>-1</td>\n      <td>-1</td>\n    </tr>\n    <tr>\n      <th>2</th>\n      <td>36122769.0</td>\n      <td>2022-03-01 12:01:49</td>\n      <td>2022-04-01 11:01:29</td>\n      <td>2022-03</td>\n      <td>Germany</td>\n      <td>DE</td>\n      <td>NaN</td>\n      <td>com.zattoo.android.de.999.10.freetrial</td>\n      <td>NaN</td>\n      <td>Charge</td>\n      <td>google</td>\n      <td>premium</td>\n      <td></td>\n      <td>31</td>\n      <td>1</td>\n      <td>31</td>\n      <td>domestic</td>\n      <td>19.0</td>\n      <td>0</td>\n      <td>0</td>\n      <td>0</td>\n      <td>0</td>\n      <td>1</td>\n      <td>NaN</td>\n      <td>NaN</td>\n      <td>NaN</td>\n      <td>NaN</td>\n      <td>NaN</td>\n      <td>0</td>\n      <td>NaN</td>\n      <td>0</td>\n      <td>NaN</td>\n      <td>NaN</td>\n      <td>NaN</td>\n      <td>NaN</td>\n      <td>NaN</td>\n      <td>0</td>\n      <td>7.33</td>\n      <td>7.330000</td>\n      <td>1</td>\n      <td>2022-03-01</td>\n      <td>-1</td>\n      <td>-1</td>\n    </tr>\n    <tr>\n      <th>3</th>\n      <td>36122753.0</td>\n      <td>2022-03-01 12:05:50</td>\n      <td>2022-04-01 11:05:39</td>\n      <td>2022-03</td>\n      <td>Switzerland</td>\n      <td>CH</td>\n      <td>NaN</td>\n      <td>com.zattoo.android.ch.2000.10.freetrial</td>\n      <td>NaN</td>\n      <td>Charge</td>\n      <td>google</td>\n      <td>ultimate</td>\n      <td></td>\n      <td>31</td>\n      <td>1</td>\n      <td>31</td>\n      <td>domestic</td>\n      <td>7.7</td>\n      <td>0</td>\n      <td>0</td>\n      <td>0</td>\n      <td>0</td>\n      <td>1</td>\n      <td>NaN</td>\n      <td>NaN</td>\n      <td>NaN</td>\n      <td>NaN</td>\n      <td>NaN</td>\n      <td>0</td>\n      <td>NaN</td>\n      <td>0</td>\n      <td>19.93</td>\n      <td>21.36</td>\n      <td>-2.79</td>\n      <td>1.43</td>\n      <td>NaN</td>\n      <td>0</td>\n      <td>18.57</td>\n      <td>15.780000</td>\n      <td>1</td>\n      <td>2022-03-01</td>\n      <td>-1</td>\n      <td>-1</td>\n    </tr>\n    <tr>\n      <th>4</th>\n      <td>36122753.0</td>\n      <td>2022-03-01 12:05:50</td>\n      <td>2022-04-01 11:05:39</td>\n      <td>2022-03</td>\n      <td>Switzerland</td>\n      <td>CH</td>\n      <td>NaN</td>\n      <td>com.zattoo.android.ch.2000.10.freetrial</td>\n      <td>NaN</td>\n      <td>Google fee</td>\n      <td>google</td>\n      <td>ultimate</td>\n      <td></td>\n      <td>31</td>\n      <td>1</td>\n      <td>31</td>\n      <td>domestic</td>\n      <td>7.7</td>\n      <td>0</td>\n      <td>0</td>\n      <td>0</td>\n      <td>0</td>\n      <td>0</td>\n      <td>NaN</td>\n      <td>NaN</td>\n      <td>NaN</td>\n      <td>NaN</td>\n      <td>NaN</td>\n      <td>0</td>\n      <td>NaN</td>\n      <td>0</td>\n      <td>-1.43</td>\n      <td>0.00</td>\n      <td>-2.79</td>\n      <td>1.43</td>\n      <td>NaN</td>\n      <td>0</td>\n      <td>-2.79</td>\n      <td>15.780000</td>\n      <td>1</td>\n      <td>2022-03-01</td>\n      <td>-1</td>\n      <td>-1</td>\n    </tr>\n    <tr>\n      <th>...</th>\n      <td>...</td>\n      <td>...</td>\n      <td>...</td>\n      <td>...</td>\n      <td>...</td>\n      <td>...</td>\n      <td>...</td>\n      <td>...</td>\n      <td>...</td>\n      <td>...</td>\n      <td>...</td>\n      <td>...</td>\n      <td>...</td>\n      <td>...</td>\n      <td>...</td>\n      <td>...</td>\n      <td>...</td>\n      <td>...</td>\n      <td>...</td>\n      <td>...</td>\n      <td>...</td>\n      <td>...</td>\n      <td>...</td>\n      <td>...</td>\n      <td>...</td>\n      <td>...</td>\n      <td>...</td>\n      <td>...</td>\n      <td>...</td>\n      <td>...</td>\n      <td>...</td>\n      <td>...</td>\n      <td>...</td>\n      <td>...</td>\n      <td>...</td>\n      <td>...</td>\n      <td>...</td>\n      <td>...</td>\n      <td>...</td>\n      <td>...</td>\n      <td>...</td>\n      <td>...</td>\n      <td>...</td>\n    </tr>\n    <tr>\n      <th>73570</th>\n      <td>36479792.0</td>\n      <td>2022-03-31 11:59:39</td>\n      <td>2022-05-01 09:59:28</td>\n      <td>2022-03</td>\n      <td>Germany</td>\n      <td>DE</td>\n      <td>NaN</td>\n      <td>com.zattoo.android.de.999.10.freetrial</td>\n      <td>NaN</td>\n      <td>Charge</td>\n      <td>google</td>\n      <td>premium</td>\n      <td></td>\n      <td>31</td>\n      <td>1</td>\n      <td>30</td>\n      <td>domestic</td>\n      <td>0.0</td>\n      <td>0</td>\n      <td>0</td>\n      <td>0</td>\n      <td>0</td>\n      <td>0</td>\n      <td>0.0</td>\n      <td>0.0</td>\n      <td>0.0</td>\n      <td>0.0</td>\n      <td>0.0</td>\n      <td>0</td>\n      <td>0.0</td>\n      <td>0</td>\n      <td>0.00</td>\n      <td>0.00</td>\n      <td>0.00</td>\n      <td>0.00</td>\n      <td>0.0</td>\n      <td>0</td>\n      <td>0.00</td>\n      <td>7.064516</td>\n      <td>2</td>\n      <td>2022-04-01</td>\n      <td>-1</td>\n      <td>0</td>\n    </tr>\n    <tr>\n      <th>73571</th>\n      <td>36479792.0</td>\n      <td>2022-03-31 11:59:39</td>\n      <td>2022-05-01 09:59:28</td>\n      <td>2022-03</td>\n      <td>Germany</td>\n      <td>DE</td>\n      <td>NaN</td>\n      <td>com.zattoo.android.de.999.10.freetrial</td>\n      <td>NaN</td>\n      <td>Charge</td>\n      <td>google</td>\n      <td>premium</td>\n      <td></td>\n      <td>31</td>\n      <td>1</td>\n      <td>0</td>\n      <td>domestic</td>\n      <td>0.0</td>\n      <td>0</td>\n      <td>0</td>\n      <td>0</td>\n      <td>0</td>\n      <td>0</td>\n      <td>0.0</td>\n      <td>0.0</td>\n      <td>0.0</td>\n      <td>0.0</td>\n      <td>0.0</td>\n      <td>0</td>\n      <td>0.0</td>\n      <td>0</td>\n      <td>0.00</td>\n      <td>0.00</td>\n      <td>0.00</td>\n      <td>0.00</td>\n      <td>0.0</td>\n      <td>0</td>\n      <td>0.00</td>\n      <td>0.000000</td>\n      <td>3</td>\n      <td>2022-05-01</td>\n      <td>0</td>\n      <td>0</td>\n    </tr>\n    <tr>\n      <th>73572</th>\n      <td>36479789.0</td>\n      <td>2022-03-31 11:59:42</td>\n      <td>2022-05-01 09:59:33</td>\n      <td>2022-03</td>\n      <td>Germany</td>\n      <td>DE</td>\n      <td>NaN</td>\n      <td>com.zattoo.android.de.1399.10.freetrial</td>\n      <td>NaN</td>\n      <td>Charge</td>\n      <td>google</td>\n      <td>ultimate</td>\n      <td></td>\n      <td>31</td>\n      <td>1</td>\n      <td>1</td>\n      <td>domestic</td>\n      <td>19.0</td>\n      <td>0</td>\n      <td>0</td>\n      <td>0</td>\n      <td>0</td>\n      <td>1</td>\n      <td>NaN</td>\n      <td>NaN</td>\n      <td>NaN</td>\n      <td>NaN</td>\n      <td>NaN</td>\n      <td>0</td>\n      <td>NaN</td>\n      <td>0</td>\n      <td>NaN</td>\n      <td>NaN</td>\n      <td>NaN</td>\n      <td>NaN</td>\n      <td>NaN</td>\n      <td>0</td>\n      <td>10.24</td>\n      <td>0.330323</td>\n      <td>1</td>\n      <td>2022-03-01</td>\n      <td>-1</td>\n      <td>-1</td>\n    </tr>\n    <tr>\n      <th>73573</th>\n      <td>36479789.0</td>\n      <td>2022-03-31 11:59:42</td>\n      <td>2022-05-01 09:59:33</td>\n      <td>2022-03</td>\n      <td>Germany</td>\n      <td>DE</td>\n      <td>NaN</td>\n      <td>com.zattoo.android.de.1399.10.freetrial</td>\n      <td>NaN</td>\n      <td>Charge</td>\n      <td>google</td>\n      <td>ultimate</td>\n      <td></td>\n      <td>31</td>\n      <td>1</td>\n      <td>30</td>\n      <td>domestic</td>\n      <td>0.0</td>\n      <td>0</td>\n      <td>0</td>\n      <td>0</td>\n      <td>0</td>\n      <td>0</td>\n      <td>0.0</td>\n      <td>0.0</td>\n      <td>0.0</td>\n      <td>0.0</td>\n      <td>0.0</td>\n      <td>0</td>\n      <td>0.0</td>\n      <td>0</td>\n      <td>0.00</td>\n      <td>0.00</td>\n      <td>0.00</td>\n      <td>0.00</td>\n      <td>0.0</td>\n      <td>0</td>\n      <td>0.00</td>\n      <td>9.909677</td>\n      <td>2</td>\n      <td>2022-04-01</td>\n      <td>-1</td>\n      <td>0</td>\n    </tr>\n    <tr>\n      <th>73574</th>\n      <td>36479789.0</td>\n      <td>2022-03-31 11:59:42</td>\n      <td>2022-05-01 09:59:33</td>\n      <td>2022-03</td>\n      <td>Germany</td>\n      <td>DE</td>\n      <td>NaN</td>\n      <td>com.zattoo.android.de.1399.10.freetrial</td>\n      <td>NaN</td>\n      <td>Charge</td>\n      <td>google</td>\n      <td>ultimate</td>\n      <td></td>\n      <td>31</td>\n      <td>1</td>\n      <td>0</td>\n      <td>domestic</td>\n      <td>0.0</td>\n      <td>0</td>\n      <td>0</td>\n      <td>0</td>\n      <td>0</td>\n      <td>0</td>\n      <td>0.0</td>\n      <td>0.0</td>\n      <td>0.0</td>\n      <td>0.0</td>\n      <td>0.0</td>\n      <td>0</td>\n      <td>0.0</td>\n      <td>0</td>\n      <td>0.00</td>\n      <td>0.00</td>\n      <td>0.00</td>\n      <td>0.00</td>\n      <td>0.0</td>\n      <td>0</td>\n      <td>0.00</td>\n      <td>0.000000</td>\n      <td>3</td>\n      <td>2022-05-01</td>\n      <td>0</td>\n      <td>0</td>\n    </tr>\n  </tbody>\n</table>\n<p>73575 rows × 43 columns</p>\n</div>"
     },
     "execution_count": 393,
     "metadata": {},
     "output_type": "execute_result"
    }
   ],
   "source": [
    "reporting_df"
   ],
   "metadata": {
    "collapsed": false,
    "pycharm": {
     "name": "#%%\n"
    }
   }
  },
  {
   "cell_type": "code",
   "execution_count": 394,
   "outputs": [],
   "source": [
    "## Export to csv\n",
    "path = r\"/Users/miguelcouto/Desktop/\"\n",
    "\n",
    "reporting_df.to_csv(os.path.join(path, fr'subs_reporting_google{reporting_month[0].replace(\"-\", \"_\")}.csv'))"
   ],
   "metadata": {
    "collapsed": false,
    "pycharm": {
     "name": "#%%\n"
    }
   }
  },
  {
   "cell_type": "code",
   "execution_count": 395,
   "outputs": [],
   "source": [
    "## Export to BQ table\n",
    "pandas_gbq.to_gbq(\n",
    "    dataframe=reporting_df,\n",
    "    destination_table=f\"finance.subs_reporting_google{reporting_month[0].replace('-', '')}\",\n",
    "    project_id=\"zattoo-dataeng\",\n",
    "    if_exists=\"replace\",\n",
    "    progress_bar=None,\n",
    "    table_schema=bq_schema,\n",
    ")"
   ],
   "metadata": {
    "collapsed": false,
    "pycharm": {
     "name": "#%%\n"
    }
   }
  }
 ],
 "metadata": {
  "kernelspec": {
   "display_name": "Python 3",
   "language": "python",
   "name": "python3"
  },
  "language_info": {
   "codemirror_mode": {
    "name": "ipython",
    "version": 3
   },
   "file_extension": ".py",
   "mimetype": "text/x-python",
   "name": "python",
   "nbconvert_exporter": "python",
   "pygments_lexer": "ipython3",
   "version": "3.9.4"
  }
 },
 "nbformat": 4,
 "nbformat_minor": 4
}
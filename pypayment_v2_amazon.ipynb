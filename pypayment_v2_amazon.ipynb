{
 "cells": [
  {
   "cell_type": "code",
   "execution_count": 799,
   "outputs": [],
   "source": [
    "#%load_ext lab_black"
   ],
   "metadata": {
    "collapsed": false,
    "pycharm": {
     "name": "#%%\n"
    }
   }
  },
  {
   "cell_type": "code",
   "execution_count": 800,
   "outputs": [],
   "source": [
    "from google.cloud import bigquery\n",
    "from google.oauth2 import service_account\n",
    "import pandas_gbq\n",
    "import pandas as pd\n",
    "import numpy as np\n",
    "import os\n",
    "import warnings\n",
    "import datetime\n",
    "\n",
    "pd.set_option('display.max_columns', None)\n",
    "warnings.filterwarnings('ignore')\n",
    "\n",
    "credentials = service_account.Credentials.from_service_account_file(\n",
    "    \"/Users/miguelcouto/Downloads/zattoo-dataeng-e5f45785174f.json\"\n",
    ")\n",
    "\n",
    "project_id = \"zattoo-dataeng\"\n",
    "client = bigquery.Client(credentials=credentials, project=project_id)"
   ],
   "metadata": {
    "collapsed": false,
    "pycharm": {
     "name": "#%%\n"
    }
   }
  },
  {
   "cell_type": "code",
   "execution_count": 801,
   "outputs": [],
   "source": [
    "## prepare dataframe\n",
    "df = pd.read_csv('/Users/miguelcouto/PycharmProjects/pypayment_v2/raw/amazon/sales-2022-03-00000.csv')"
   ],
   "metadata": {
    "collapsed": false,
    "pycharm": {
     "name": "#%%\n"
    }
   }
  },
  {
   "cell_type": "code",
   "execution_count": 802,
   "outputs": [],
   "source": [
    "## I've manually renamed zattoo_amazon_firetv_hiq_german_1mo_90day_freetrial to zattoo_amazon_firetv_hiq_german_90days_freetrial - is that future proof?\n",
    "df['Vendor SKU'].replace(\n",
    "    {'zattoo_amazon_firetv_hiq_german_1mo_90day_freetrial': 'zattoo_amazon_firetv_hiq_german_90days_freetrial'},\n",
    "    inplace=True)"
   ],
   "metadata": {
    "collapsed": false,
    "pycharm": {
     "name": "#%%\n"
    }
   }
  },
  {
   "cell_type": "code",
   "execution_count": 803,
   "outputs": [],
   "source": [
    "reporting_df = df[\n",
    "    ['Transaction ID', 'Transaction Time', 'Transaction Type', 'Country/Region Code', 'Vendor SKU',\n",
    "     'In-App Subscription Term',\n",
    "     'In-App Subscription Status (Trial / Paid)', 'Sales Price (Marketplace Currency)',\n",
    "     'Estimated Earnings (Marketplace Currency)',\n",
    "     'Units']]\n",
    "\n",
    "reporting_df.rename({'Transaction ID': 'vendor_trx_id',\n",
    "                     'Transaction Time': 'transaction_time',\n",
    "                     'Transaction Type': 'transaction_type',\n",
    "                     'Country/Region Code': 'country_code',\n",
    "                     'Vendor SKU': 'vendor_sku',\n",
    "                     'In-App Subscription Term': 'subscription_term',\n",
    "                     'In-App Subscription Status (Trial / Paid)': 'subscription_status',\n",
    "                     'Sales Price (Marketplace Currency)': 'sales_price',\n",
    "                     'Estimated Earnings (Marketplace Currency)': 'earnings',\n",
    "                     'Units': 'units',\n",
    "                     },\n",
    "                    axis=1, inplace=True)\n",
    "\n",
    "reporting_df['subscription_status'] = reporting_df['subscription_status'].str.lower()\n",
    "reporting_df['transaction_type'] = reporting_df['transaction_type'].str.lower()"
   ],
   "metadata": {
    "collapsed": false,
    "pycharm": {
     "name": "#%%\n"
    }
   }
  },
  {
   "cell_type": "code",
   "execution_count": 804,
   "outputs": [],
   "source": [
    "reporting_df = reporting_df[pd.isna(reporting_df['subscription_status']) == False]"
   ],
   "metadata": {
    "collapsed": false,
    "pycharm": {
     "name": "#%%\n"
    }
   }
  },
  {
   "cell_type": "code",
   "execution_count": 805,
   "outputs": [],
   "source": [
    "reporting_df['country_name'] = reporting_df['country_code'].replace(\n",
    "    'DE', 'Germany').replace('CH', 'Switzerland').replace('AT', 'Austria')\n",
    "\n",
    "reporting_df['country_name'].replace(\n",
    "    'Switzerland', 'Germany', inplace=True)"
   ],
   "metadata": {
    "collapsed": false,
    "pycharm": {
     "name": "#%%\n"
    }
   }
  },
  {
   "cell_type": "code",
   "execution_count": 806,
   "outputs": [],
   "source": [
    "reporting_df['transaction_date'] = pd.to_datetime(reporting_df['transaction_time'].str[:-4], format='%Y-%m-%d %H:%M:%S')\n",
    "reporting_df.drop('transaction_time', axis=1, inplace=True)"
   ],
   "metadata": {
    "collapsed": false,
    "pycharm": {
     "name": "#%%\n"
    }
   }
  },
  {
   "cell_type": "code",
   "execution_count": 807,
   "outputs": [],
   "source": [
    "reporting_df['reporting_month'] = reporting_df['transaction_date'].dt.to_period('M').dt.strftime('%Y-%m')\n",
    "reporting_month = reporting_df.reporting_month.mode()\n",
    "reporting_df['reporting_month'] = reporting_df['reporting_month'].apply(lambda x: reporting_month)\n",
    "\n",
    "## for amazon we report with 1month delay, therefore reporting month should be month + 1\n",
    "reporting_df['reporting_month'] = pd.to_datetime(reporting_df['reporting_month'])\n",
    "reporting_df['reporting_month'] = (reporting_df['reporting_month'] + pd.offsets.MonthBegin(1)).dt.strftime('%Y-%m')\n",
    "reporting_month = reporting_df['reporting_month'].unique()[0]"
   ],
   "metadata": {
    "collapsed": false,
    "pycharm": {
     "name": "#%%\n"
    }
   }
  },
  {
   "cell_type": "code",
   "execution_count": 808,
   "outputs": [],
   "source": [
    "reporting_df['payment_method'] = 'amazon'"
   ],
   "metadata": {
    "collapsed": false,
    "pycharm": {
     "name": "#%%\n"
    }
   }
  },
  {
   "cell_type": "code",
   "execution_count": 809,
   "outputs": [],
   "source": [
    "reporting_df['currency'] = reporting_df['country_name'].apply(lambda x: 'CHF' if x == 'Switzerland' else 'EUR')"
   ],
   "metadata": {
    "collapsed": false,
    "pycharm": {
     "name": "#%%\n"
    }
   }
  },
  {
   "cell_type": "code",
   "execution_count": 810,
   "outputs": [],
   "source": [
    "payment_amazon = \"\"\"\n",
    "select distinct\n",
    "       pav.termsku,\n",
    "       pav.term,\n",
    "       pav.productid\n",
    "from b2c_middleware_import.payment_amazontransaction_view pav\n",
    "\"\"\"\n",
    "\n",
    "df_skus = pandas_gbq.read_gbq(payment_amazon, project_id=project_id, progress_bar_type=None)"
   ],
   "metadata": {
    "collapsed": false,
    "pycharm": {
     "name": "#%%\n"
    }
   }
  },
  {
   "cell_type": "code",
   "execution_count": 811,
   "outputs": [],
   "source": [
    "reporting_df = reporting_df[\n",
    "    ['vendor_trx_id', 'country_name', 'country_code', 'vendor_sku', 'subscription_status', 'transaction_type',\n",
    "     'sales_price',\n",
    "     'earnings', 'units',\n",
    "     'transaction_date',\n",
    "     'reporting_month',\n",
    "     'payment_method', 'currency']].merge(df_skus[['termsku', 'productid', 'term']], how='left',\n",
    "                                          left_on='vendor_sku', right_on='termsku')\n",
    "\n",
    "reporting_df.rename({'productid': 'sku'}, axis=1, inplace=True)\n",
    "\n",
    "reporting_df['sku'][reporting_df['sku'].isnull()] = reporting_df['vendor_sku'][reporting_df['sku'].isnull()]\n",
    "\n",
    "# reporting_df.drop(['vendor_sku', 'termsku'], axis=1, inplace=True)\n",
    "reporting_df.drop(['termsku'], axis=1, inplace=True)"
   ],
   "metadata": {
    "collapsed": false,
    "pycharm": {
     "name": "#%%\n"
    }
   }
  },
  {
   "cell_type": "code",
   "execution_count": 812,
   "outputs": [],
   "source": [
    "## some SKUs like do not have 'term' data, therefore it needs to be manually written\n",
    "reporting_df.term.fillna('1 Month', inplace=True)"
   ],
   "metadata": {
    "collapsed": false,
    "pycharm": {
     "name": "#%%\n"
    }
   }
  },
  {
   "cell_type": "code",
   "execution_count": 813,
   "outputs": [],
   "source": [
    "skus_list = str(set(reporting_df['sku'].to_list()))\n",
    "\n",
    "skus_expand = f\"\"\"select distinct rlv.SKU as sku,\n",
    "                rlv.product_class,\n",
    "                rlv.detailed_product_class,\n",
    "                rlv.product_length\n",
    "from b2c_middleware.reporting_layer_view rlv\n",
    "where true\n",
    "  and rlv.SKU in ({skus_list[1:-1]})\n",
    "  and rlv.product_class is not null\n",
    "  and rlv.detailed_product_class is not null\n",
    "  ;\"\"\"\n",
    "\n",
    "df_skus_expand = pandas_gbq.read_gbq(skus_expand, project_id=project_id, progress_bar_type=None)\n",
    "\n",
    "reporting_df = reporting_df.merge(df_skus_expand, how='left',\n",
    "                                  left_on='sku', right_on='sku')"
   ],
   "metadata": {
    "collapsed": false,
    "pycharm": {
     "name": "#%%\n"
    }
   }
  },
  {
   "cell_type": "code",
   "execution_count": 814,
   "outputs": [],
   "source": [
    "reporting_df['avg_price_sales_per_sub'] = reporting_df['sales_price'] / reporting_df['units']"
   ],
   "metadata": {
    "collapsed": false,
    "pycharm": {
     "name": "#%%\n"
    }
   }
  },
  {
   "cell_type": "code",
   "execution_count": 815,
   "outputs": [],
   "source": [
    "reporting_df['product_length_months'] = reporting_df['term'].replace(\n",
    "    {'1 Month': 1, '2 Months': 2, '3 Months': 3, '6 Months': 6, '12 Months': 12, '1 Year': 12})"
   ],
   "metadata": {
    "collapsed": false,
    "pycharm": {
     "name": "#%%\n"
    }
   }
  },
  {
   "cell_type": "code",
   "execution_count": 816,
   "outputs": [],
   "source": [
    "temp_vat_df = reporting_df[['vendor_trx_id', 'country_code', 'sales_price', 'transaction_date', 'currency']]\n",
    "temp_vat_df['sales_price_cents'] = temp_vat_df['sales_price'] * 100\n",
    "\n",
    "## define BQ table schema\n",
    "bq_schema_vat = [\n",
    "    {\"name\": \"vendor_trx_id\", \"type\": \"INTEGER\"},\n",
    "    {\"name\": \"country_code\", \"type\": \"STRING\"},\n",
    "    {\"name\": \"sales_price_cents\", \"type\": \"INTEGER\"},\n",
    "    {\"name\": \"transaction_date\", \"type\": \"TIMESTAMP\"},\n",
    "    {\"name\": \"currency\", \"type\": \"STRING\"},\n",
    "]\n",
    "\n",
    "## export to BQ table\n",
    "pandas_gbq.to_gbq(\n",
    "    dataframe=temp_vat_df,\n",
    "    destination_table=\"temp.vat_amazon_pypayment_v2\",\n",
    "    project_id=\"zattoo-dataeng\",\n",
    "    if_exists=\"replace\",\n",
    "    progress_bar=None,\n",
    "    table_schema=bq_schema_vat,\n",
    ")"
   ],
   "metadata": {
    "collapsed": false,
    "pycharm": {
     "name": "#%%\n"
    }
   }
  },
  {
   "cell_type": "code",
   "execution_count": 817,
   "outputs": [],
   "source": [
    "vat_expand = \"\"\"\n",
    "select vendor_trx_id,\n",
    "       transaction_date,\n",
    "--        udf.vat_chf(pe.from_currency,\n",
    "--                    vat.rate,\n",
    "--                    pe.exchange_rate,\n",
    "--                    pe.from_currency_quantity,\n",
    "--                    py2.sales_price_cents\n",
    "--            )\n",
    "--                             AS vat_CHF,\n",
    "--        udf.vat_eur(pe.from_currency,\n",
    "--                    vat.rate,\n",
    "--                    pe.exchange_rate,\n",
    "--                    pe_eur.from_currency_quantity,\n",
    "--                    pe_eur.exchange_rate,\n",
    "--                    py2.sales_price_cents\n",
    "--            )\n",
    "--                             AS vat_EUR,\n",
    "       vat.rate / 100       AS vat_percentage,\n",
    "       pe_eur.exchange_rate AS exchange_rate_eur_to_chf\n",
    "FROM temp.vat_amazon_pypayment_v2 py2\n",
    "         LEFT JOIN b2c_middleware_import.payment_exchangerate pe\n",
    "                   ON pe.from_currency = py2.currency\n",
    "                       AND DATE_TRUNC(pe.day, MONTH) =\n",
    "                           DATE_TRUNC(DATE(py2.transaction_date), MONTH)\n",
    "         LEFT JOIN b2c_middleware_import.payment_exchangerate pe_eur\n",
    "                   ON pe_eur.from_currency = 'EUR'\n",
    "                       AND DATE_TRUNC(pe_eur.day, MONTH) =\n",
    "                           DATE_TRUNC(DATE(py2.transaction_date), MONTH)\n",
    "         LEFT JOIN b2c_middleware_import.payment_vat_view vat\n",
    "                   ON vat.country = py2.country_code\n",
    "                       AND vat.created_at_date = DATE(py2.transaction_date)\n",
    "where true\n",
    "  AND pe.day >= DATE('2008-08-01')\n",
    "  AND pe_eur.day >= DATE('2008-08-01')\n",
    "  AND vat.created_at_date >= DATE('2008-08-01')\n",
    ";\n",
    "\"\"\"\n",
    "\n",
    "df_vat_expand = pandas_gbq.read_gbq(vat_expand, project_id=project_id, progress_bar_type=None)"
   ],
   "metadata": {
    "collapsed": false,
    "pycharm": {
     "name": "#%%\n"
    }
   }
  },
  {
   "cell_type": "code",
   "execution_count": 818,
   "outputs": [],
   "source": [
    "reporting_df = reporting_df.merge(\n",
    "    df_vat_expand[['transaction_date', 'vendor_trx_id', 'vat_percentage', 'exchange_rate_eur_to_chf']], how='left',\n",
    "    left_on=['vendor_trx_id', pd.to_datetime(reporting_df['transaction_date'], utc=True)],\n",
    "    right_on=['vendor_trx_id',\n",
    "              pd.to_datetime(df_vat_expand['transaction_date'], utc=True)]).drop(\n",
    "    ['transaction_date_y', 'key_1'], axis=1)"
   ],
   "metadata": {
    "collapsed": false,
    "pycharm": {
     "name": "#%%\n"
    }
   }
  },
  {
   "cell_type": "code",
   "execution_count": 819,
   "outputs": [],
   "source": [
    "reporting_df.rename({'transaction_date_x': 'transaction_date',\n",
    "                     },\n",
    "                    axis=1, inplace=True)"
   ],
   "metadata": {
    "collapsed": false,
    "pycharm": {
     "name": "#%%\n"
    }
   }
  },
  {
   "cell_type": "code",
   "execution_count": 820,
   "outputs": [],
   "source": [
    "## We don't book VAT for Amazon, bc they do it. If we do include VAT though, that could lead to issues. Keep the columns, but set all VAT values to zero (vat_percent, vat_eur, vat_chf)\n",
    "reporting_df[['vat_percentage', 'vat_eur', 'vat_chf']] = 0"
   ],
   "metadata": {
    "collapsed": false,
    "pycharm": {
     "name": "#%%\n"
    }
   }
  },
  {
   "cell_type": "code",
   "execution_count": 821,
   "outputs": [],
   "source": [
    "## Amazon's \"Sales price\" is OUR \"Charge\"\n",
    "reporting_df['charge_eur'] = reporting_df['sales_price']\n",
    "\n",
    "reporting_df['store_fees'] = 15\n",
    "reporting_df['domestic_abroad'] = 'domestic'\n",
    "\n",
    "reporting_df['sales_price_eur'] = round(reporting_df['charge_eur'] + (\n",
    "        reporting_df['charge_eur'] * (reporting_df['vat_percentage'] / 100)), 2)\n",
    "reporting_df['fee_eur'] = reporting_df['sales_price'] - abs(reporting_df['earnings'])\n",
    "\n",
    "# reporting_df['vat_eur'] = reporting_df['charge_eur'] * (reporting_df['vat_percentage'] / 100)\n",
    "\n",
    "reporting_df['net_booking_eur'] = reporting_df['earnings']\n",
    "\n",
    "reporting_df['payout_eur'] = reporting_df['sales_price_eur'] - reporting_df['fee_eur']\n",
    "# reporting_df['payout_eur'] = reporting_df['net_booking_eur']"
   ],
   "metadata": {
    "collapsed": false,
    "pycharm": {
     "name": "#%%\n"
    }
   }
  },
  {
   "cell_type": "code",
   "execution_count": 822,
   "outputs": [],
   "source": [
    "reporting_df['detailed_product_class'] = reporting_df[\"detailed_product_class\"].fillna(reporting_df[\"product_class\"])\n",
    "reporting_df['detailed_product_class'].replace({'base_hiq': 'premium',\n",
    "                                                'base_ultimate': 'ultimate'}, inplace=True)\n",
    "\n",
    "reporting_df.drop('product_class', inplace=True, axis=1)\n",
    "reporting_df.rename({'detailed_product_class': 'product_class'\n",
    "                     },\n",
    "                    axis=1, inplace=True)"
   ],
   "metadata": {
    "collapsed": false,
    "pycharm": {
     "name": "#%%\n"
    }
   }
  },
  {
   "cell_type": "code",
   "execution_count": 823,
   "outputs": [],
   "source": [
    "reporting_df.replace(np.inf, 0, inplace=True)\n",
    "reporting_df.replace(-np.inf, 0, inplace=True)"
   ],
   "metadata": {
    "collapsed": false,
    "pycharm": {
     "name": "#%%\n"
    }
   }
  },
  {
   "cell_type": "code",
   "execution_count": 824,
   "outputs": [],
   "source": [
    "reporting_df_negs = reporting_df[reporting_df['transaction_type'] != 'charge']\n",
    "\n",
    "reporting_df.drop(reporting_df[reporting_df['transaction_type'] != 'charge'].index, inplace=True)"
   ],
   "metadata": {
    "collapsed": false,
    "pycharm": {
     "name": "#%%\n"
    }
   }
  },
  {
   "cell_type": "code",
   "execution_count": 825,
   "outputs": [],
   "source": [
    "cols = ['sales_price_eur', 'sales_price', 'units', 'avg_price_sales_per_sub', 'charge_eur', 'fee_eur', 'vat_eur',\n",
    "        'payout_eur']\n",
    "reporting_df_negs[cols] = - reporting_df_negs[cols]"
   ],
   "metadata": {
    "collapsed": false,
    "pycharm": {
     "name": "#%%\n"
    }
   }
  },
  {
   "cell_type": "code",
   "execution_count": 826,
   "outputs": [],
   "source": [
    "reporting_df = pd.concat([reporting_df, reporting_df_negs])"
   ],
   "metadata": {
    "collapsed": false,
    "pycharm": {
     "name": "#%%\n"
    }
   }
  },
  {
   "cell_type": "code",
   "execution_count": 827,
   "outputs": [],
   "source": [
    "reporting_df['product_length'] = pd.np.where(\n",
    "    reporting_df['vendor_sku'].str.contains(\"1mo\"), 31, pd.np.where(reporting_df[\n",
    "                                                                        'vendor_sku'] == \"zattoo_amazon_firetv_hiq_german_freetrial_2mo\",\n",
    "                                                                    31,\n",
    "                                                                    pd.np.where(\n",
    "                                                                        reporting_df['vendor_sku'].str.contains(\"_2mo\"),\n",
    "                                                                        62,\n",
    "                                                                        pd.np.where(\n",
    "                                                                            reporting_df['vendor_sku'].str.contains(\n",
    "                                                                                \"3mo\"),\n",
    "                                                                            90, pd.np.where(\n",
    "                                                                                reporting_df['vendor_sku'].str.contains(\n",
    "                                                                                    \"12mo\"), 365,\n",
    "                                                                                pd.np.where(reporting_df[\n",
    "                                                                                                'vendor_sku'] == \"zattoo_amazon_firetv_hiq_german_90days_freetrial\",\n",
    "                                                                                            31,\n",
    "                                                                                            reporting_df[\n",
    "                                                                                                'product_length']))))))"
   ],
   "metadata": {
    "collapsed": false,
    "pycharm": {
     "name": "#%%\n"
    }
   }
  },
  {
   "cell_type": "code",
   "execution_count": 828,
   "outputs": [],
   "source": [
    "## adding artificially created term_end_date based on initial transaction_date\n",
    "reporting_df['term_end'] = reporting_df['transaction_date'] + reporting_df['product_length'].astype('timedelta64[D]')"
   ],
   "metadata": {
    "collapsed": false,
    "pycharm": {
     "name": "#%%\n"
    }
   }
  },
  {
   "cell_type": "code",
   "execution_count": 829,
   "outputs": [],
   "source": [
    "## calculate product_term_length_months\n",
    "reporting_df[\"product_term_length_months\"] = (\n",
    "        (reporting_df[\"term_end\"].dt.year - reporting_df[\"transaction_date\"].dt.year) * 12\n",
    "        + (reporting_df[\"term_end\"].dt.month - reporting_df[\"transaction_date\"].dt.month)\n",
    "        + 1\n",
    ")"
   ],
   "metadata": {
    "collapsed": false,
    "pycharm": {
     "name": "#%%\n"
    }
   }
  },
  {
   "cell_type": "code",
   "execution_count": 830,
   "outputs": [],
   "source": [
    "reporting_df[\"product_term_length_months\"][reporting_df[\"product_term_length_months\"] < 0] = 0"
   ],
   "metadata": {
    "collapsed": false,
    "pycharm": {
     "name": "#%%\n"
    }
   }
  },
  {
   "cell_type": "code",
   "execution_count": 831,
   "outputs": [],
   "source": [
    "## replacing product_term_length_months for exceptions where value is 2 instead of 1\n",
    "shorter_subs = (reporting_df['term_end'] - reporting_df['transaction_date']).dt.days <= 30\n",
    "shorter_subs_replacer = reporting_df[shorter_subs][\n",
    "    (reporting_df[\"product_term_length_months\"] == 2) & ((reporting_df['term_end']).dt.day == 1)].index.to_list()\n",
    "reporting_df[\"product_term_length_months\"].loc[shorter_subs_replacer] = 1"
   ],
   "metadata": {
    "collapsed": false,
    "pycharm": {
     "name": "#%%\n"
    }
   }
  },
  {
   "cell_type": "code",
   "execution_count": 832,
   "outputs": [],
   "source": [
    "reporting_df = reporting_df.loc[reporting_df.index.repeat(reporting_df['product_term_length_months'])].reset_index(\n",
    "    drop=True)\n",
    "reporting_df['revenue_month_number'] = 1\n",
    "reporting_df['revenue_month_number'] = reporting_df.groupby([\"vendor_trx_id\", 'transaction_type'])[\n",
    "    'revenue_month_number'].cumsum()"
   ],
   "metadata": {
    "collapsed": false,
    "pycharm": {
     "name": "#%%\n"
    }
   }
  },
  {
   "cell_type": "code",
   "execution_count": 833,
   "outputs": [],
   "source": [
    "## adding max_month_date to tackle the specifications of active_sub_month_end\n",
    "reporting_df['max_month_date'] = reporting_df.groupby([reporting_df['term_end'].dt.to_period('M'), 'transaction_type'])['term_end'].transform('max')\n",
    "reporting_df['max_month_date'] = reporting_df['max_month_date'].dt.normalize() + pd.Timedelta('23:59:59')"
   ],
   "metadata": {
    "collapsed": false,
    "pycharm": {
     "name": "#%%\n"
    }
   }
  },
  {
   "cell_type": "code",
   "execution_count": 834,
   "outputs": [],
   "source": [
    "## get last indices of each transaction_id group\n",
    "last_idxs_charges = (\n",
    "        len(reporting_df[reporting_df['transaction_type'] == 'charge'])\n",
    "        - np.unique(\n",
    "    reporting_df['vendor_trx_id'][reporting_df['transaction_type'] == 'charge'].values[::-1],\n",
    "    return_index=1,\n",
    ")[1]\n",
    "        - 1\n",
    ")\n",
    "\n",
    "## add revenue_month_date\n",
    "reporting_df[\"revenue_month_date\"] = reporting_df[\"transaction_date\"].to_numpy().astype(\"datetime64[M]\")\n",
    "reporting_df[\"revenue_month_date\"][reporting_df[\"transaction_type\"] == \"refund\"] = (\n",
    "    reporting_df[\"transaction_date\"].to_numpy().astype(\"datetime64[M]\")\n",
    ")\n",
    "\n",
    "reporting_df[\"revenue_month_date\"] = reporting_df.apply(\n",
    "    lambda x: x[\"revenue_month_date\"]\n",
    "              + pd.offsets.MonthEnd(x[\"revenue_month_number\"])\n",
    "              + pd.offsets.MonthBegin(-1),\n",
    "    axis=1,\n",
    ")\n",
    "\n",
    "reporting_df[\"product_term_length\"] = reporting_df[\"revenue_month_date\"].apply(\n",
    "    lambda t: pd.Period(t, freq=\"S\").days_in_month\n",
    ")\n",
    "\n",
    "reporting_df[\"product_term_length\"][reporting_df[\"transaction_date\"] > reporting_df[\"revenue_month_date\"]] = (\n",
    "                                                                                                                     reporting_df[\n",
    "                                                                                                                         \"transaction_date\"].dt.daysinmonth -\n",
    "                                                                                                                     reporting_df[\n",
    "                                                                                                                         \"transaction_date\"].dt.day\n",
    "                                                                                                             ) + 1\n",
    "\n",
    "# ## fix last position of product_term_length per transaction_id for charges\n",
    "reporting_df[\"product_term_length\"].iloc[last_idxs_charges] = (\n",
    "        reporting_df[\"term_end\"].iloc[last_idxs_charges] -\n",
    "        reporting_df[\"revenue_month_date\"].iloc[last_idxs_charges]\n",
    ").dt.days\n",
    "\n",
    "reporting_df = reporting_df[reporting_df['product_term_length'] > 0]\n",
    "\n",
    "last_idxs = (\n",
    "        len(reporting_df)\n",
    "        - np.unique(\n",
    "    reporting_df['vendor_trx_id'].values[::-1],\n",
    "    return_index=1,\n",
    ")[1]\n",
    "        - 1\n",
    ")\n",
    "\n",
    "reporting_df[\"product_term_length\"].iloc[last_idxs] = (\n",
    "        reporting_df[\"term_end\"].iloc[last_idxs] -\n",
    "        reporting_df[\"revenue_month_date\"].iloc[last_idxs]\n",
    ").dt.days"
   ],
   "metadata": {
    "collapsed": false,
    "pycharm": {
     "name": "#%%\n"
    }
   }
  },
  {
   "cell_type": "code",
   "execution_count": 835,
   "outputs": [],
   "source": [
    "## set active_sub_month_end = 1 by default\n",
    "reporting_df[\"active_sub_month_end\"] = 1\n",
    "\n",
    "reporting_df[\"active_sub_month_end\"].iloc[last_idxs] = 0\n",
    "\n",
    "reporting_df[\"active_sub_month_end\"][\n",
    "    (reporting_df[\"revenue_month_number\"] == reporting_df['product_term_length_months']) & (reporting_df[\"term_end\"] < reporting_df['max_month_date'])\n",
    "    ] = 0\n",
    "\n",
    "## mark all one transaction subscriptions as 1\n",
    "reporting_df[\"active_sub_month_end\"][\n",
    "    (reporting_df[\"revenue_month_number\"] <= 1) & (reporting_df[\"product_term_length_months\"] <= 1)\n",
    "    ] = 1\n",
    "\n",
    "## mark all refund transactions as -1\n",
    "reporting_df[\"active_sub_month_end\"][reporting_df[\"transaction_type\"] != \"charge\"] = -1"
   ],
   "metadata": {
    "collapsed": false,
    "pycharm": {
     "name": "#%%\n"
    }
   }
  },
  {
   "cell_type": "code",
   "execution_count": 836,
   "outputs": [],
   "source": [
    "## reseting index\n",
    "reporting_df.reset_index(drop=True, inplace=True)"
   ],
   "metadata": {
    "collapsed": false,
    "pycharm": {
     "name": "#%%\n"
    }
   }
  },
  {
   "cell_type": "code",
   "execution_count": 837,
   "outputs": [],
   "source": [
    "## active_sub_content follows the same logic as active_sub_month_end except it doesn't count the last month\n",
    "reporting_df[\"active_sub_content\"] = reporting_df.active_sub_month_end\n",
    "\n",
    "reporting_df.loc[reporting_df.groupby([\"vendor_trx_id\", 'transaction_type'])['active_sub_content'].tail(\n",
    "    1).index, 'active_sub_content'] = 0\n",
    "\n",
    "## total_days of product_term_length per transaction_id\n",
    "reporting_df[\"total_days\"] = reporting_df.groupby([\"vendor_trx_id\", 'transaction_type'])[\n",
    "    \"product_term_length\"].transform(\"sum\")"
   ],
   "metadata": {
    "collapsed": false,
    "pycharm": {
     "name": "#%%\n"
    }
   }
  },
  {
   "cell_type": "code",
   "execution_count": 838,
   "outputs": [
    {
     "data": {
      "text/plain": "        vendor_trx_id    transaction_date transaction_type  \\\n17505  84052165761142 2022-03-19 21:10:23           charge   \n17506  84052165761142 2022-03-19 21:10:23           charge   \n17507  84052165761142 2022-03-19 21:10:23           charge   \n17508  84052165761142 2022-03-19 21:10:23           charge   \n45720  84052165761142 2022-03-25 02:23:36       chargeback   \n45721  84052165761142 2022-03-25 02:23:36       chargeback   \n45722  84052165761142 2022-03-25 02:23:36       chargeback   \n45723  84052165761142 2022-03-25 02:23:36       chargeback   \n\n                 term_end  active_sub_month_end  active_sub_content  \n17505 2022-06-17 21:10:23                     1                   1  \n17506 2022-06-17 21:10:23                     1                   1  \n17507 2022-06-17 21:10:23                     1                   1  \n17508 2022-06-17 21:10:23                     0                   0  \n45720 2022-06-23 02:23:36                    -1                  -1  \n45721 2022-06-23 02:23:36                    -1                  -1  \n45722 2022-06-23 02:23:36                    -1                  -1  \n45723 2022-06-23 02:23:36                    -1                   0  ",
      "text/html": "<div>\n<style scoped>\n    .dataframe tbody tr th:only-of-type {\n        vertical-align: middle;\n    }\n\n    .dataframe tbody tr th {\n        vertical-align: top;\n    }\n\n    .dataframe thead th {\n        text-align: right;\n    }\n</style>\n<table border=\"1\" class=\"dataframe\">\n  <thead>\n    <tr style=\"text-align: right;\">\n      <th></th>\n      <th>vendor_trx_id</th>\n      <th>transaction_date</th>\n      <th>transaction_type</th>\n      <th>term_end</th>\n      <th>active_sub_month_end</th>\n      <th>active_sub_content</th>\n    </tr>\n  </thead>\n  <tbody>\n    <tr>\n      <th>17505</th>\n      <td>84052165761142</td>\n      <td>2022-03-19 21:10:23</td>\n      <td>charge</td>\n      <td>2022-06-17 21:10:23</td>\n      <td>1</td>\n      <td>1</td>\n    </tr>\n    <tr>\n      <th>17506</th>\n      <td>84052165761142</td>\n      <td>2022-03-19 21:10:23</td>\n      <td>charge</td>\n      <td>2022-06-17 21:10:23</td>\n      <td>1</td>\n      <td>1</td>\n    </tr>\n    <tr>\n      <th>17507</th>\n      <td>84052165761142</td>\n      <td>2022-03-19 21:10:23</td>\n      <td>charge</td>\n      <td>2022-06-17 21:10:23</td>\n      <td>1</td>\n      <td>1</td>\n    </tr>\n    <tr>\n      <th>17508</th>\n      <td>84052165761142</td>\n      <td>2022-03-19 21:10:23</td>\n      <td>charge</td>\n      <td>2022-06-17 21:10:23</td>\n      <td>0</td>\n      <td>0</td>\n    </tr>\n    <tr>\n      <th>45720</th>\n      <td>84052165761142</td>\n      <td>2022-03-25 02:23:36</td>\n      <td>chargeback</td>\n      <td>2022-06-23 02:23:36</td>\n      <td>-1</td>\n      <td>-1</td>\n    </tr>\n    <tr>\n      <th>45721</th>\n      <td>84052165761142</td>\n      <td>2022-03-25 02:23:36</td>\n      <td>chargeback</td>\n      <td>2022-06-23 02:23:36</td>\n      <td>-1</td>\n      <td>-1</td>\n    </tr>\n    <tr>\n      <th>45722</th>\n      <td>84052165761142</td>\n      <td>2022-03-25 02:23:36</td>\n      <td>chargeback</td>\n      <td>2022-06-23 02:23:36</td>\n      <td>-1</td>\n      <td>-1</td>\n    </tr>\n    <tr>\n      <th>45723</th>\n      <td>84052165761142</td>\n      <td>2022-03-25 02:23:36</td>\n      <td>chargeback</td>\n      <td>2022-06-23 02:23:36</td>\n      <td>-1</td>\n      <td>0</td>\n    </tr>\n  </tbody>\n</table>\n</div>"
     },
     "execution_count": 838,
     "metadata": {},
     "output_type": "execute_result"
    }
   ],
   "source": [
    "reporting_df[['vendor_trx_id', 'transaction_date','transaction_type', 'term_end', 'active_sub_month_end', 'active_sub_content']][reporting_df['vendor_trx_id'] == 84052165761142]"
   ],
   "metadata": {
    "collapsed": false,
    "pycharm": {
     "name": "#%%\n"
    }
   }
  },
  {
   "cell_type": "code",
   "execution_count": 839,
   "outputs": [],
   "source": [
    "reporting_df['product_term_length_months'] = reporting_df.groupby([\"vendor_trx_id\", 'transaction_type'])[\n",
    "    'revenue_month_number'].transform('max')"
   ],
   "metadata": {
    "collapsed": false,
    "pycharm": {
     "name": "#%%\n"
    }
   }
  },
  {
   "cell_type": "code",
   "execution_count": 840,
   "outputs": [],
   "source": [
    "## calculate total_revenue_net fields\n",
    "reporting_df[\"total_revenue_net_eur\"] = (\n",
    "        reporting_df[\"net_booking_eur\"] / reporting_df[\"total_days\"] * reporting_df[\"product_term_length\"]\n",
    ")"
   ],
   "metadata": {
    "collapsed": false,
    "pycharm": {
     "name": "#%%\n"
    }
   }
  },
  {
   "cell_type": "code",
   "execution_count": 841,
   "outputs": [],
   "source": [
    "## remove VAT values from all lines of group except first\n",
    "one_line_cols = [\"vat_eur\", 'payout_eur', 'sales_price_eur', 'store_fees', 'charge_eur', 'vat_percentage',\n",
    "            'avg_price_sales_per_sub', 'sales_price', 'units']\n",
    "\n",
    "for col in one_line_cols:\n",
    "    reporting_df.loc[\n",
    "        reporting_df[\"revenue_month_number\"] > 1,\n",
    "        [col],\n",
    "    ] = 0.0"
   ],
   "metadata": {
    "collapsed": false,
    "pycharm": {
     "name": "#%%\n"
    }
   }
  },
  {
   "cell_type": "code",
   "execution_count": 842,
   "outputs": [],
   "source": [
    "## calculating CHF columns\n",
    "reporting_df['charge_chf'] = reporting_df['charge_eur'] * reporting_df['exchange_rate_eur_to_chf']\n",
    "reporting_df['sales_price_chf'] = reporting_df['sales_price_eur'] * reporting_df['exchange_rate_eur_to_chf']\n",
    "reporting_df['fee_chf'] = reporting_df['fee_eur'] * reporting_df['exchange_rate_eur_to_chf']\n",
    "# reporting_df['vat_chf'] = reporting_df['vat_eur'] * reporting_df['exchange_rate_eur_to_chf']\n",
    "reporting_df['net_booking_chf'] = reporting_df['net_booking_eur'] * reporting_df['exchange_rate_eur_to_chf']\n",
    "reporting_df['payout_chf'] = reporting_df['payout_eur'] * reporting_df['exchange_rate_eur_to_chf']\n",
    "reporting_df['payout_chf'] = reporting_df['payout_eur'] * reporting_df['exchange_rate_eur_to_chf']\n",
    "reporting_df[\"total_revenue_net_chf\"] = (\n",
    "        reporting_df[\"net_booking_chf\"] / reporting_df[\"total_days\"] * reporting_df[\"product_term_length\"]\n",
    ")"
   ],
   "metadata": {
    "collapsed": false,
    "pycharm": {
     "name": "#%%\n"
    }
   }
  },
  {
   "cell_type": "code",
   "execution_count": 843,
   "outputs": [],
   "source": [
    "## reorder dataframe\n",
    "reporting_df = reporting_df[\n",
    "    [\n",
    "        'vendor_trx_id',\n",
    "        'transaction_date',\n",
    "        'term_end',\n",
    "        'reporting_month',\n",
    "        'country_name',\n",
    "        # 'country_code',\n",
    "        'currency',\n",
    "        # 'vendor_sku',\n",
    "        'sku',\n",
    "        'subscription_status',\n",
    "        'transaction_type',\n",
    "        'payment_method',\n",
    "        'product_class',\n",
    "        # 'term',\n",
    "        'product_length',\n",
    "        'product_length_months',\n",
    "        'product_term_length',\n",
    "        # 'product_term_length_months',\n",
    "        'domestic_abroad',\n",
    "        'vat_percentage',\n",
    "        'exchange_rate_eur_to_chf',\n",
    "        'store_fees',\n",
    "        'units',\n",
    "        # 'sales_price',\n",
    "        # 'earnings',\n",
    "        # 'avg_price_sales_per_sub',\n",
    "        'charge_eur',\n",
    "        'sales_price_eur',\n",
    "        'fee_eur',\n",
    "        'vat_eur',\n",
    "        'net_booking_eur',\n",
    "        'payout_eur',\n",
    "        'total_revenue_net_eur',\n",
    "        'charge_chf',\n",
    "        'sales_price_chf',\n",
    "        'fee_chf',\n",
    "        'vat_chf',\n",
    "        'net_booking_chf',\n",
    "        'payout_chf',\n",
    "        'total_revenue_net_chf',\n",
    "        'revenue_month_number',\n",
    "        'revenue_month_date',\n",
    "        # 'total_days',\n",
    "        'active_sub_month_end',\n",
    "        'active_sub_content'\n",
    "    ]\n",
    "]\n",
    "\n",
    "## define BQ table schema\n",
    "bq_schema = [\n",
    "    {\"name\": \"vendor_trx_id\", \"type\": \"STRING\"},\n",
    "    {\"name\": \"transaction_date\", \"type\": \"TIMESTAMP\"},\n",
    "    {\"name\": \"term_end\", \"type\": \"TIMESTAMP\"},\n",
    "    {\"name\": \"reporting_month\", \"type\": \"STRING\"},\n",
    "    {\"name\": \"country_name\", \"type\": \"STRING\"},\n",
    "    {\"name\": \"currency\", \"type\": \"STRING\"},\n",
    "    {\"name\": \"sku\", \"type\": \"STRING\"},\n",
    "    {\"name\": \"subscription_status\", \"type\": \"STRING\"},\n",
    "    {\"name\": \"transaction_type\", \"type\": \"STRING\"},\n",
    "    {\"name\": \"payment_method\", \"type\": \"STRING\"},\n",
    "    {\"name\": \"product_class\", \"type\": \"STRING\"},\n",
    "    {\"name\": \"product_length\", \"type\": \"INTEGER\"},\n",
    "    {\"name\": \"product_length_months\", \"type\": \"INTEGER\"},\n",
    "    {\"name\": \"product_term_length\", \"type\": \"INTEGER\"},\n",
    "    {\"name\": \"product_term_length\", \"type\": \"INTEGER\"},\n",
    "    {\"name\": \"domestic_abroad\", \"type\": \"STRING\"},\n",
    "    {\"name\": \"vat_percentage\", \"type\": \"FLOAT\"},\n",
    "    {\"name\": \"exchange_rate_eur_to_chf\", \"type\": \"FLOAT\"},\n",
    "    {\"name\": \"store_fees\", \"type\": \"INTEGER\"},\n",
    "    {\"name\": \"units\", \"type\": \"INTEGER\"},\n",
    "    {\"name\": \"charge_eur\", \"type\": \"FLOAT\"},\n",
    "    {\"name\": \"sales_price_eur\", \"type\": \"FLOAT\"},\n",
    "    {\"name\": \"fee_eur\", \"type\": \"FLOAT\"},\n",
    "    {\"name\": \"vat_eur\", \"type\": \"FLOAT\"},\n",
    "    {\"name\": \"net_booking_eur\", \"type\": \"FLOAT\"},\n",
    "    {\"name\": \"payout_eur\", \"type\": \"FLOAT\"},\n",
    "    {\"name\": \"total_revenue_net_eur\", \"type\": \"FLOAT\"},\n",
    "    {\"name\": \"charge_chf\", \"type\": \"FLOAT\"},\n",
    "    {\"name\": \"sales_price_chf\", \"type\": \"FLOAT\"},\n",
    "    {\"name\": \"fee_chf\", \"type\": \"FLOAT\"},\n",
    "    {\"name\": \"vat_chf\", \"type\": \"FLOAT\"},\n",
    "    {\"name\": \"net_booking_chf\", \"type\": \"FLOAT\"},\n",
    "    {\"name\": \"payout_chf\", \"type\": \"FLOAT\"},\n",
    "    {\"name\": \"total_revenue_net_chf\", \"type\": \"FLOAT\"},\n",
    "    {\"name\": \"revenue_month_number\", \"type\": \"INTEGER\"},\n",
    "    {\"name\": \"revenue_month_date\", \"type\": \"TIMESTAMP\"},\n",
    "    {\"name\": \"active_sub_month_end\", \"type\": \"INTEGER\"},\n",
    "    {\"name\": \"active_sub_content\", \"type\": \"INTEGER\"}\n",
    "]"
   ],
   "metadata": {
    "collapsed": false,
    "pycharm": {
     "name": "#%%\n"
    }
   }
  },
  {
   "cell_type": "code",
   "execution_count": 860,
   "outputs": [],
   "source": [
    "## export to csv\n",
    "path = r\"/Users/miguelcouto/Desktop/\"\n",
    "\n",
    "reporting_df.to_csv(os.path.join(path, fr'subs_reporting_amazon{reporting_month.replace(\"-\", \"_\")}.csv'))"
   ],
   "metadata": {
    "collapsed": false,
    "pycharm": {
     "name": "#%%\n"
    }
   }
  },
  {
   "cell_type": "code",
   "execution_count": 857,
   "outputs": [],
   "source": [
    "## export to BQ table\n",
    "pandas_gbq.to_gbq(\n",
    "    dataframe=reporting_df,\n",
    "    destination_table=f\"temp.subs_reporting_amazon{reporting_month.replace('-', '')}\",\n",
    "    project_id=\"zattoo-dataeng\",\n",
    "    if_exists=\"replace\",\n",
    "    progress_bar=None,\n",
    "    table_schema=bq_schema,\n",
    ")"
   ],
   "metadata": {
    "collapsed": false,
    "pycharm": {
     "name": "#%%\n"
    }
   }
  }
 ],
 "metadata": {
  "kernelspec": {
   "display_name": "Python 3",
   "language": "python",
   "name": "python3"
  },
  "language_info": {
   "codemirror_mode": {
    "name": "ipython",
    "version": 3
   },
   "file_extension": ".py",
   "mimetype": "text/x-python",
   "name": "python",
   "nbconvert_exporter": "python",
   "pygments_lexer": "ipython3",
   "version": "3.9.4"
  }
 },
 "nbformat": 4,
 "nbformat_minor": 4
}
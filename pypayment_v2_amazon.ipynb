{
 "cells": [
  {
   "cell_type": "code",
   "execution_count": 92,
   "outputs": [],
   "source": [
    "#%load_ext lab_black"
   ],
   "metadata": {
    "collapsed": false,
    "pycharm": {
     "name": "#%%\n"
    }
   }
  },
  {
   "cell_type": "code",
   "execution_count": 93,
   "outputs": [],
   "source": [
    "## Importing all needed libraries and modules\n",
    "## Setting up BigQuery access credentials for SQL parsing of reporting data\n",
    "from google.cloud import bigquery\n",
    "from google.oauth2 import service_account\n",
    "import pandas_gbq\n",
    "import pandas as pd\n",
    "import numpy as np\n",
    "import os\n",
    "import warnings\n",
    "import datetime\n",
    "\n",
    "pd.set_option('display.max_columns', None)\n",
    "warnings.filterwarnings('ignore')\n",
    "\n",
    "credentials = service_account.Credentials.from_service_account_file(\n",
    "    \"/Users/miguelcouto/Downloads/zattoo-dataeng-e5f45785174f.json\"\n",
    ")\n",
    "\n",
    "project_id = \"zattoo-dataeng\"\n",
    "client = bigquery.Client(credentials=credentials, project=project_id)"
   ],
   "metadata": {
    "collapsed": false,
    "pycharm": {
     "name": "#%%\n"
    }
   }
  },
  {
   "cell_type": "code",
   "execution_count": 94,
   "outputs": [],
   "source": [
    "## Prepare dataframe\n",
    "## Amazon data is very poor and will require a lot of transformations and the code will include Finance logic\n",
    "df = pd.read_csv('/Users/miguelcouto/PycharmProjects/pypayment_v2/raw/amazon/2022-03_amazon.csv')"
   ],
   "metadata": {
    "collapsed": false,
    "pycharm": {
     "name": "#%%\n"
    }
   }
  },
  {
   "cell_type": "code",
   "execution_count": 95,
   "outputs": [],
   "source": [
    "## I've manually renamed zattoo_amazon_firetv_hiq_german_1mo_90day_freetrial to zattoo_amazon_firetv_hiq_german_90days_freetrial. The objective is to be able to\n",
    "## join with b2c_middleware_import.payment_amazontransaction_view and enrich the original Amazon sales report\n",
    "df['Vendor SKU'].replace(\n",
    "    {'zattoo_amazon_firetv_hiq_german_1mo_90day_freetrial': 'zattoo_amazon_firetv_hiq_german_90days_freetrial'},\n",
    "    inplace=True)"
   ],
   "metadata": {
    "collapsed": false,
    "pycharm": {
     "name": "#%%\n"
    }
   }
  },
  {
   "cell_type": "code",
   "execution_count": 96,
   "outputs": [],
   "source": [
    "## Renaming and reordering the dataframe so it keeps consistency with the reports from the other app shops\n",
    "reporting_df = df[\n",
    "    ['Transaction ID', 'Transaction Time', 'Transaction Type', 'Country/Region Code', 'Vendor SKU',\n",
    "     'In-App Subscription Term',\n",
    "     'In-App Subscription Status (Trial / Paid)', 'Sales Price (Marketplace Currency)',\n",
    "     'Estimated Earnings (Marketplace Currency)',\n",
    "     'Units']]\n",
    "\n",
    "reporting_df.rename({'Transaction ID': 'transaction_id',\n",
    "                     'Transaction Time': 'transaction_time',\n",
    "                     'Transaction Type': 'type_of_transaction',\n",
    "                     'Country/Region Code': 'country_code',\n",
    "                     'Vendor SKU': 'vendor_sku',\n",
    "                     'In-App Subscription Term': 'subscription_term',\n",
    "                     'In-App Subscription Status (Trial / Paid)': 'subscription_status',\n",
    "                     'Sales Price (Marketplace Currency)': 'sales_price',\n",
    "                     'Estimated Earnings (Marketplace Currency)': 'earnings',\n",
    "                     'Units': 'units',\n",
    "                     },\n",
    "                    axis=1, inplace=True)\n",
    "\n",
    "reporting_df['subscription_status'] = reporting_df['subscription_status'].str.lower()\n",
    "reporting_df['type_of_transaction'] = reporting_df['type_of_transaction'].str.lower()\n",
    "reporting_df['buyer_country_code'] = reporting_df['country_code']"
   ],
   "metadata": {
    "collapsed": false,
    "pycharm": {
     "name": "#%%\n"
    }
   }
  },
  {
   "cell_type": "code",
   "execution_count": 97,
   "outputs": [],
   "source": [
    "## Filtering out invalid transactions\n",
    "reporting_df = reporting_df[pd.isna(reporting_df['subscription_status']) == False]"
   ],
   "metadata": {
    "collapsed": false,
    "pycharm": {
     "name": "#%%\n"
    }
   }
  },
  {
   "cell_type": "code",
   "execution_count": 98,
   "outputs": [],
   "source": [
    "## Cleaning up country names based on codes\n",
    "reporting_df['country_name'] = reporting_df['country_code'].replace(\n",
    "    'DE', 'Germany').replace('CH', 'Switzerland').replace('AT', 'Austria')\n",
    "\n",
    "reporting_df['country_name'].replace(\n",
    "    'Switzerland', 'Germany', inplace=True)"
   ],
   "metadata": {
    "collapsed": false,
    "pycharm": {
     "name": "#%%\n"
    }
   }
  },
  {
   "cell_type": "code",
   "execution_count": 99,
   "outputs": [],
   "source": [
    "## Converting date columns to datetime\n",
    "reporting_df['transaction_date'] = pd.to_datetime(reporting_df['transaction_time'].str[:-4], format='%Y-%m-%d %H:%M:%S')\n",
    "reporting_df.drop('transaction_time', axis=1, inplace=True)"
   ],
   "metadata": {
    "collapsed": false,
    "pycharm": {
     "name": "#%%\n"
    }
   }
  },
  {
   "cell_type": "code",
   "execution_count": 100,
   "outputs": [],
   "source": [
    "## Finance Subs reporting will happen once at end of each month and for that the reporting_month will be defined based on the mode of the transaction_date.\n",
    "## For amazon we report with 1month delay, therefore reporting_month should be month + 1\n",
    "reporting_df['reporting_month'] = reporting_df['transaction_date'].dt.to_period('M').dt.strftime('%Y-%m')\n",
    "reporting_month = reporting_df.reporting_month.mode()\n",
    "reporting_df['reporting_month'] = reporting_df['reporting_month'].apply(lambda x: reporting_month)\n",
    "\n",
    "reporting_df['reporting_month'] = pd.to_datetime(reporting_df['reporting_month'])\n",
    "reporting_df['reporting_month'] = (reporting_df['reporting_month'] + pd.offsets.MonthBegin(1)).dt.strftime('%Y-%m')\n",
    "reporting_month = reporting_df.reporting_month.mode()"
   ],
   "metadata": {
    "collapsed": false,
    "pycharm": {
     "name": "#%%\n"
    }
   }
  },
  {
   "cell_type": "code",
   "execution_count": 101,
   "outputs": [],
   "source": [
    "## Adding payment_method column\n",
    "reporting_df['payment_method'] = 'amazon'"
   ],
   "metadata": {
    "collapsed": false,
    "pycharm": {
     "name": "#%%\n"
    }
   }
  },
  {
   "cell_type": "code",
   "execution_count": 102,
   "outputs": [],
   "source": [
    "## Cleaning up currencies based on country\n",
    "reporting_df['currency'] = reporting_df['country_name'].apply(lambda x: 'CHF' if x == 'Switzerland' else 'EUR')"
   ],
   "metadata": {
    "collapsed": false,
    "pycharm": {
     "name": "#%%\n"
    }
   }
  },
  {
   "cell_type": "code",
   "execution_count": 103,
   "outputs": [],
   "source": [
    "## SQL query to enrich the dataframe with more specific product data (term, sku, productid)\n",
    "## Note: termsku == 'Vendor SKU' in Amazon's sales report\n",
    "payment_amazon = \"\"\"\n",
    "select distinct\n",
    "       pav.termsku,\n",
    "       pav.term,\n",
    "       pav.productid\n",
    "from b2c_middleware_import.payment_amazontransaction_view pav\n",
    "\"\"\"\n",
    "\n",
    "df_skus = pandas_gbq.read_gbq(payment_amazon, project_id=project_id, progress_bar_type=None)"
   ],
   "metadata": {
    "collapsed": false,
    "pycharm": {
     "name": "#%%\n"
    }
   }
  },
  {
   "cell_type": "code",
   "execution_count": 104,
   "outputs": [],
   "source": [
    "## Merging df_skus to reporting_df to get enriched data\n",
    "reporting_df = reporting_df[\n",
    "    ['transaction_id', 'country_name', 'country_code', 'buyer_country_code', 'vendor_sku', 'subscription_status', 'type_of_transaction',\n",
    "     'sales_price',\n",
    "     'earnings', 'units',\n",
    "     'transaction_date',\n",
    "     'reporting_month',\n",
    "     'payment_method', 'currency']].merge(df_skus[['termsku', 'productid', 'term']], how='left',\n",
    "                                          left_on='vendor_sku', right_on='termsku')\n",
    "\n",
    "reporting_df.rename({'productid': 'sku'}, axis=1, inplace=True)\n",
    "\n",
    "reporting_df['sku'][reporting_df['sku'].isnull()] = reporting_df['vendor_sku'][reporting_df['sku'].isnull()]\n",
    "reporting_df.drop(['termsku'], axis=1, inplace=True)"
   ],
   "metadata": {
    "collapsed": false,
    "pycharm": {
     "name": "#%%\n"
    }
   }
  },
  {
   "cell_type": "code",
   "execution_count": 105,
   "outputs": [],
   "source": [
    "## Some SKUs do not have 'term' data, therefore it needs to be manually written\n",
    "reporting_df.term.fillna('1 Month', inplace=True)"
   ],
   "metadata": {
    "collapsed": false,
    "pycharm": {
     "name": "#%%\n"
    }
   }
  },
  {
   "cell_type": "code",
   "execution_count": 106,
   "outputs": [],
   "source": [
    "## SQL query to enrich the dataframe with more specific product data (class, detailed class, length)\n",
    "skus_list = str(set(reporting_df['sku'].to_list()))\n",
    "\n",
    "skus_expand = f\"\"\"select distinct rlv.SKU as sku,\n",
    "                rlv.product_class,\n",
    "                rlv.detailed_product_class,\n",
    "                rlv.product_length\n",
    "from b2c_middleware.reporting_layer_view rlv\n",
    "where true\n",
    "  and rlv.SKU in ({skus_list[1:-1]})\n",
    "  and rlv.app_shop_id = 'amazon'\n",
    "  and rlv.product_class is not null\n",
    "  and rlv.detailed_product_class is not null\n",
    "  ;\"\"\"\n",
    "\n",
    "df_skus_expand = pandas_gbq.read_gbq(skus_expand, project_id=project_id, progress_bar_type=None)\n",
    "\n",
    "## Merging df_skus_expand to reporting_df to get enriched data\n",
    "reporting_df = reporting_df.merge(df_skus_expand, how='left',\n",
    "                                  left_on='sku', right_on='sku')"
   ],
   "metadata": {
    "collapsed": false,
    "pycharm": {
     "name": "#%%\n"
    }
   }
  },
  {
   "cell_type": "code",
   "execution_count": 107,
   "outputs": [],
   "source": [
    "## avg_price_sales_per_sub calculation\n",
    "reporting_df['avg_price_sales_per_sub'] = reporting_df['sales_price'] / reporting_df['units']"
   ],
   "metadata": {
    "collapsed": false,
    "pycharm": {
     "name": "#%%\n"
    }
   }
  },
  {
   "cell_type": "code",
   "execution_count": 108,
   "outputs": [],
   "source": [
    "## Replacing product_length_months string with integers\n",
    "reporting_df['product_length_months'] = reporting_df['term'].replace(\n",
    "    {'1 Month': 1, '2 Months': 2, '3 Months': 3, '6 Months': 6, '12 Months': 12, '1 Year': 12})"
   ],
   "metadata": {
    "collapsed": false,
    "pycharm": {
     "name": "#%%\n"
    }
   }
  },
  {
   "cell_type": "code",
   "execution_count": 109,
   "outputs": [],
   "source": [
    "## To get more VAT data a temp_vat_df is created to later be joined with b2c_middleware_import.payment_exchangerate and enrich the dataframe\n",
    "temp_vat_df = reporting_df[['transaction_id', 'country_code', 'sales_price', 'transaction_date', 'currency']]\n",
    "temp_vat_df['sales_price_cents'] = temp_vat_df['sales_price'] * 100\n",
    "\n",
    "## Define BQ table schema\n",
    "bq_schema_vat = [\n",
    "    {\"name\": \"transaction_id\", \"type\": \"INTEGER\"},\n",
    "    {\"name\": \"country_code\", \"type\": \"STRING\"},\n",
    "    {\"name\": \"sales_price_cents\", \"type\": \"INTEGER\"},\n",
    "    {\"name\": \"transaction_date\", \"type\": \"TIMESTAMP\"},\n",
    "    {\"name\": \"currency\", \"type\": \"STRING\"},\n",
    "]\n",
    "\n",
    "## Export to BQ table\n",
    "pandas_gbq.to_gbq(\n",
    "    dataframe=temp_vat_df,\n",
    "    destination_table=\"temp.vat_amazon_pypayment_v2\",\n",
    "    project_id=\"zattoo-dataeng\",\n",
    "    if_exists=\"replace\",\n",
    "    progress_bar=None,\n",
    "    table_schema=bq_schema_vat,\n",
    ")"
   ],
   "metadata": {
    "collapsed": false,
    "pycharm": {
     "name": "#%%\n"
    }
   }
  },
  {
   "cell_type": "code",
   "execution_count": 110,
   "outputs": [],
   "source": [
    "## SQL query to enrich the dataframe with more specific product data (vat_percentage, exchange_rate_eur_to_chf)\n",
    "vat_expand = \"\"\"\n",
    "select transaction_id,\n",
    "       transaction_date,\n",
    "--        udf.vat_chf(pe.from_currency,\n",
    "--                    vat.rate,\n",
    "--                    pe.exchange_rate,\n",
    "--                    pe.from_currency_quantity,\n",
    "--                    py2.sales_price_cents\n",
    "--            )\n",
    "--                             AS vat_CHF,\n",
    "--        udf.vat_eur(pe.from_currency,\n",
    "--                    vat.rate,\n",
    "--                    pe.exchange_rate,\n",
    "--                    pe_eur.from_currency_quantity,\n",
    "--                    pe_eur.exchange_rate,\n",
    "--                    py2.sales_price_cents\n",
    "--            )\n",
    "--                             AS vat_EUR,\n",
    "       vat.rate / 100       AS vat_percentage,\n",
    "       pe_eur.exchange_rate AS exchange_rate_eur_to_chf\n",
    "FROM temp.vat_amazon_pypayment_v2 py2\n",
    "         LEFT JOIN b2c_middleware_import.payment_exchangerate pe\n",
    "                   ON pe.from_currency = py2.currency\n",
    "                       AND DATE_TRUNC(pe.day, MONTH) =\n",
    "                           DATE_TRUNC(DATE(py2.transaction_date), MONTH)\n",
    "         LEFT JOIN b2c_middleware_import.payment_exchangerate pe_eur\n",
    "                   ON pe_eur.from_currency = 'EUR'\n",
    "                       AND DATE_TRUNC(pe_eur.day, MONTH) =\n",
    "                           DATE_TRUNC(DATE(py2.transaction_date), MONTH)\n",
    "         LEFT JOIN b2c_middleware_import.payment_vat_view vat\n",
    "                   ON vat.country = py2.country_code\n",
    "                       AND vat.created_at_date = DATE(py2.transaction_date)\n",
    "where true\n",
    "  AND pe.day >= DATE('2008-08-01')\n",
    "  AND pe_eur.day >= DATE('2008-08-01')\n",
    "  AND vat.created_at_date >= DATE('2008-08-01')\n",
    ";\n",
    "\"\"\"\n",
    "\n",
    "df_vat_expand = pandas_gbq.read_gbq(vat_expand, project_id=project_id, progress_bar_type=None)"
   ],
   "metadata": {
    "collapsed": false,
    "pycharm": {
     "name": "#%%\n"
    }
   }
  },
  {
   "cell_type": "code",
   "execution_count": 111,
   "outputs": [],
   "source": [
    "## Merging df_vat_expand to reporting_df to get enriched VAT data\n",
    "reporting_df = reporting_df.merge(\n",
    "    df_vat_expand[['transaction_date', 'transaction_id', 'vat_percentage', 'exchange_rate_eur_to_chf']], how='left',\n",
    "    left_on=['transaction_id', pd.to_datetime(reporting_df['transaction_date'], utc=True)],\n",
    "    right_on=['transaction_id',\n",
    "              pd.to_datetime(df_vat_expand['transaction_date'], utc=True)]).drop(\n",
    "    ['transaction_date_y', 'key_1'], axis=1)\n",
    "\n",
    "reporting_df.rename({'transaction_date_x': 'transaction_date',\n",
    "                     },\n",
    "                    axis=1, inplace=True)"
   ],
   "metadata": {
    "collapsed": false,
    "pycharm": {
     "name": "#%%\n"
    }
   }
  },
  {
   "cell_type": "code",
   "execution_count": 112,
   "outputs": [],
   "source": [
    "## We don't book VAT for Amazon, because they do it. If we do include VAT though, that could lead to issues. Keep the columns, but set all VAT values to zero\n",
    "## (vat_percent, vat_eur, vat_chf)\n",
    "reporting_df[['vat_percentage', 'vat_eur', 'vat_chf']] = 0"
   ],
   "metadata": {
    "collapsed": false,
    "pycharm": {
     "name": "#%%\n"
    }
   }
  },
  {
   "cell_type": "code",
   "execution_count": 113,
   "outputs": [],
   "source": [
    "## Amazon's \"Sales price\" is OUR \"Charge\"\n",
    "reporting_df['charge_eur'] = reporting_df['sales_price']\n",
    "\n",
    "## Adding more manual fields\n",
    "reporting_df['store_fees_percentage'] = 15\n",
    "reporting_df['domestic_abroad'] = 'domestic'\n",
    "\n",
    "## And extra calculations\n",
    "reporting_df['sales_price_eur'] = round(reporting_df['charge_eur'] + (\n",
    "        reporting_df['charge_eur'] * (reporting_df['vat_percentage'] / 100)), 2)\n",
    "reporting_df['fee_eur'] = reporting_df['sales_price'] - abs(reporting_df['earnings'])\n",
    "\n",
    "## Luckily our net booking is earnings in Amazon's sales report\n",
    "reporting_df['new_booking_net_eur'] = reporting_df['earnings']\n",
    "reporting_df['payout_eur'] = reporting_df['sales_price_eur'] - reporting_df['fee_eur']"
   ],
   "metadata": {
    "collapsed": false,
    "pycharm": {
     "name": "#%%\n"
    }
   }
  },
  {
   "cell_type": "code",
   "execution_count": 114,
   "outputs": [],
   "source": [
    "## Decided to add a more detailed product that also aligns with the Finance product class\n",
    "reporting_df['detailed_product_class'] = reporting_df[\"detailed_product_class\"].fillna(reporting_df[\"product_class\"])\n",
    "reporting_df['detailed_product_class'].replace({'base_hiq': 'premium',\n",
    "                                                'base_ultimate': 'ultimate'}, inplace=True)\n",
    "\n",
    "reporting_df.drop('product_class', inplace=True, axis=1)\n",
    "reporting_df.rename({'detailed_product_class': 'product_class'\n",
    "                     },\n",
    "                    axis=1, inplace=True)"
   ],
   "metadata": {
    "collapsed": false,
    "pycharm": {
     "name": "#%%\n"
    }
   }
  },
  {
   "cell_type": "code",
   "execution_count": 115,
   "outputs": [],
   "source": [
    "## Cleaning up a bit\n",
    "reporting_df.replace(np.inf, 0, inplace=True)\n",
    "reporting_df.replace(-np.inf, 0, inplace=True)"
   ],
   "metadata": {
    "collapsed": false,
    "pycharm": {
     "name": "#%%\n"
    }
   }
  },
  {
   "cell_type": "code",
   "execution_count": 116,
   "outputs": [],
   "source": [
    "## And taking care of inverting the values for refunds and chargebacks\n",
    "reporting_df_negs = reporting_df[reporting_df['type_of_transaction'] != 'charge']\n",
    "\n",
    "reporting_df.drop(reporting_df[reporting_df['type_of_transaction'] != 'charge'].index, inplace=True)\n",
    "\n",
    "cols = ['sales_price_eur', 'sales_price', 'units', 'avg_price_sales_per_sub', 'charge_eur', 'fee_eur', 'vat_eur',\n",
    "        'payout_eur']\n",
    "\n",
    "## Exactly here is where the negative magic happens\n",
    "reporting_df_negs[cols] = - reporting_df_negs[cols]\n",
    "\n",
    "reporting_df = pd.concat([reporting_df, reporting_df_negs])"
   ],
   "metadata": {
    "collapsed": false,
    "pycharm": {
     "name": "#%%\n"
    }
   }
  },
  {
   "cell_type": "code",
   "execution_count": 117,
   "outputs": [],
   "source": [
    "## Product lengths also need to be manually treated as there's not enough detailed data in the reports\n",
    "reporting_df['product_length'] = pd.np.where(\n",
    "    reporting_df['vendor_sku'].str.contains(\"1mo\"), 31, pd.np.where(reporting_df[\n",
    "                                                                        'vendor_sku'] == \"zattoo_amazon_firetv_hiq_german_freetrial_2mo\",\n",
    "                                                                    31,\n",
    "                                                                    pd.np.where(\n",
    "                                                                        reporting_df['vendor_sku'].str.contains(\"_2mo\"),\n",
    "                                                                        62,\n",
    "                                                                        pd.np.where(\n",
    "                                                                            reporting_df['vendor_sku'].str.contains(\n",
    "                                                                                \"3mo\"),\n",
    "                                                                            90, pd.np.where(\n",
    "                                                                                reporting_df['vendor_sku'].str.contains(\n",
    "                                                                                    \"12mo\"), 365,\n",
    "                                                                                pd.np.where(reporting_df[\n",
    "                                                                                                'vendor_sku'] == \"zattoo_amazon_firetv_hiq_german_90days_freetrial\",\n",
    "                                                                                            31,\n",
    "                                                                                            reporting_df[\n",
    "                                                                                                'product_length']))))))"
   ],
   "metadata": {
    "collapsed": false,
    "pycharm": {
     "name": "#%%\n"
    }
   }
  },
  {
   "cell_type": "code",
   "execution_count": 118,
   "outputs": [],
   "source": [
    "## Adding artificially created term_end_date based on initial transaction_date\n",
    "reporting_df['term_end'] = reporting_df['transaction_date'] + reporting_df['product_length'].astype('timedelta64[D]')"
   ],
   "metadata": {
    "collapsed": false,
    "pycharm": {
     "name": "#%%\n"
    }
   }
  },
  {
   "cell_type": "code",
   "execution_count": 119,
   "outputs": [],
   "source": [
    "## Calculate product_term_length_months\n",
    "reporting_df[\"product_term_length_months\"] = (\n",
    "        (reporting_df[\"term_end\"].dt.year - reporting_df[\"transaction_date\"].dt.year) * 12\n",
    "        + (reporting_df[\"term_end\"].dt.month - reporting_df[\"transaction_date\"].dt.month)\n",
    "        + 1\n",
    ")\n",
    "\n",
    "## A bit of housekeeping\n",
    "reporting_df[\"product_term_length_months\"][reporting_df[\"product_term_length_months\"] < 0] = 0"
   ],
   "metadata": {
    "collapsed": false,
    "pycharm": {
     "name": "#%%\n"
    }
   }
  },
  {
   "cell_type": "code",
   "execution_count": 120,
   "outputs": [],
   "source": [
    "## Replacing product_term_length_months for exceptions where value is 2 instead of 1\n",
    "shorter_subs = (reporting_df['term_end'] - reporting_df['transaction_date']).dt.days <= 30\n",
    "shorter_subs_replacer = reporting_df[shorter_subs][\n",
    "    (reporting_df[\"product_term_length_months\"] == 2) & ((reporting_df['term_end']).dt.day == 1)].index.to_list()\n",
    "reporting_df[\"product_term_length_months\"].loc[shorter_subs_replacer] = 1"
   ],
   "metadata": {
    "collapsed": false,
    "pycharm": {
     "name": "#%%\n"
    }
   }
  },
  {
   "cell_type": "code",
   "execution_count": 121,
   "outputs": [],
   "source": [
    "## Adding revenue_month_number - this will help in further calculations\n",
    "reporting_df = reporting_df.loc[reporting_df.index.repeat(reporting_df['product_term_length_months'])].reset_index(\n",
    "    drop=True)\n",
    "reporting_df['revenue_month_number'] = 1\n",
    "reporting_df['revenue_month_number'] = reporting_df.groupby([\"transaction_id\", 'type_of_transaction'])[\n",
    "    'revenue_month_number'].cumsum()"
   ],
   "metadata": {
    "collapsed": false,
    "pycharm": {
     "name": "#%%\n"
    }
   }
  },
  {
   "cell_type": "code",
   "execution_count": 122,
   "outputs": [],
   "source": [
    "## Adding max_month_date to tackle the specifications of active_sub_month_end\n",
    "reporting_df['max_month_date'] = reporting_df.groupby([reporting_df['term_end'].dt.to_period('M'), 'type_of_transaction'])[\n",
    "    'term_end'].transform('max')\n",
    "reporting_df['max_month_date'] = reporting_df['max_month_date'].dt.normalize() + pd.Timedelta('23:59:59')"
   ],
   "metadata": {
    "collapsed": false,
    "pycharm": {
     "name": "#%%\n"
    }
   }
  },
  {
   "cell_type": "code",
   "execution_count": 123,
   "outputs": [],
   "source": [
    "## Get last indices of each transaction_id group\n",
    "last_idxs_charges = (\n",
    "        len(reporting_df[reporting_df['type_of_transaction'] == 'charge'])\n",
    "        - np.unique(\n",
    "    reporting_df['transaction_id'][reporting_df['type_of_transaction'] == 'charge'].values[::-1],\n",
    "    return_index=1,\n",
    ")[1]\n",
    "        - 1\n",
    ")\n",
    "\n",
    "## Add revenue_month_date\n",
    "reporting_df[\"revenue_month_date\"] = reporting_df[\"transaction_date\"].to_numpy().astype(\"datetime64[M]\")\n",
    "reporting_df[\"revenue_month_date\"][reporting_df[\"type_of_transaction\"] == \"refund\"] = (\n",
    "    reporting_df[\"transaction_date\"].to_numpy().astype(\"datetime64[M]\")\n",
    ")\n",
    "\n",
    "reporting_df[\"revenue_month_date\"] = reporting_df.apply(\n",
    "    lambda x: x[\"revenue_month_date\"]\n",
    "              + pd.offsets.MonthEnd(x[\"revenue_month_number\"])\n",
    "              + pd.offsets.MonthBegin(-1),\n",
    "    axis=1,\n",
    ")\n",
    "\n",
    "## Add product_term_length\n",
    "reporting_df[\"product_term_length\"] = reporting_df[\"revenue_month_date\"].apply(\n",
    "    lambda t: pd.Period(t, freq=\"S\").days_in_month\n",
    ")\n",
    "\n",
    "reporting_df[\"product_term_length\"][reporting_df[\"transaction_date\"] > reporting_df[\"revenue_month_date\"]] = (\n",
    "                                                                                                                     reporting_df[\n",
    "                                                                                                                         \"transaction_date\"].dt.daysinmonth -\n",
    "                                                                                                                     reporting_df[\n",
    "                                                                                                                         \"transaction_date\"].dt.day\n",
    "                                                                                                             ) + 1\n",
    "\n",
    "## Fix last position of product_term_length per transaction_id for charges\n",
    "reporting_df[\"product_term_length\"].iloc[last_idxs_charges] = (\n",
    "        reporting_df[\"term_end\"].iloc[last_idxs_charges] -\n",
    "        reporting_df[\"revenue_month_date\"].iloc[last_idxs_charges]\n",
    ").dt.days\n",
    "\n",
    "reporting_df = reporting_df[reporting_df['product_term_length'] > 0]\n",
    "\n",
    "last_idxs = (\n",
    "        len(reporting_df)\n",
    "        - np.unique(\n",
    "    reporting_df['transaction_id'].values[::-1],\n",
    "    return_index=1,\n",
    ")[1]\n",
    "        - 1\n",
    ")\n",
    "\n",
    "reporting_df[\"product_term_length\"].iloc[last_idxs] = (\n",
    "        reporting_df[\"term_end\"].iloc[last_idxs] -\n",
    "        reporting_df[\"revenue_month_date\"].iloc[last_idxs]\n",
    ").dt.days"
   ],
   "metadata": {
    "collapsed": false,
    "pycharm": {
     "name": "#%%\n"
    }
   }
  },
  {
   "cell_type": "code",
   "execution_count": 124,
   "outputs": [],
   "source": [
    "# reporting_df[\"active_sub_month_end\"] = 1\n",
    "#\n",
    "# reporting_df[\"active_sub_month_end\"].iloc[last_idxs] = 0\n",
    "#\n",
    "# reporting_df[\"active_sub_month_end\"][\n",
    "#     (reporting_df[\"revenue_month_number\"] == reporting_df['product_term_length_months']) & (\n",
    "#             reporting_df[\"term_end\"] < reporting_df['max_month_date'])\n",
    "#     ] = 0\n",
    "\n",
    "## Set active_sub_month_end = 0 by default\n",
    "reporting_df['active_sub_month_end'] = 0\n",
    "reporting_df['active_sub_month_end'][\n",
    "    (reporting_df['term_end'] > (reporting_df['revenue_month_date'] + pd.offsets.MonthBegin(1)))] = 1\n",
    "reporting_df[\"active_sub_month_end\"][reporting_df[\"type_of_transaction\"] == \"trial\"] = 0\n",
    "\n",
    "## mark all one transaction subscriptions as 1\n",
    "# reporting_df[\"active_sub_month_end\"][\n",
    "#     (reporting_df[\"revenue_month_number\"] <= 1) & (reporting_df[\"product_term_length_months\"] <= 1)\n",
    "#     ] = 1\n",
    "\n",
    "## Mark all refund transactions as 'active_sub_month_end'] * -1\n",
    "reporting_df[\"active_sub_month_end\"][reporting_df[\"type_of_transaction\"] != \"charge\"] = reporting_df[\n",
    "                                                                                            'active_sub_month_end'] * -1\n",
    "\n",
    "reporting_df.reset_index(drop=True, inplace=True)"
   ],
   "metadata": {
    "collapsed": false,
    "pycharm": {
     "name": "#%%\n"
    }
   }
  },
  {
   "cell_type": "code",
   "execution_count": 125,
   "outputs": [],
   "source": [
    "## active_sub_content follows the same logic as active_sub_month_end except it doesn't count the last month\n",
    "reporting_df[\"active_sub_content\"] = reporting_df.active_sub_month_end\n",
    "\n",
    "reporting_df[\"active_sub_content\"][(reporting_df[\"revenue_month_number\"] > reporting_df['product_length_months'])] = 0\n",
    "\n",
    "reporting_df[\"active_sub_content\"][reporting_df[\"type_of_transaction\"] == \"trial\"] = 0\n",
    "\n",
    "## Total_days of product_term_length per transaction_id\n",
    "reporting_df[\"total_days\"] = reporting_df.groupby([\"transaction_id\", 'type_of_transaction'])[\n",
    "    \"product_term_length\"].transform(\"sum\")"
   ],
   "metadata": {
    "collapsed": false,
    "pycharm": {
     "name": "#%%\n"
    }
   }
  },
  {
   "cell_type": "code",
   "execution_count": 126,
   "outputs": [],
   "source": [
    "## Amazon is reported with one month delay, therefore a quick fix of adding 1 month to all dates in revenue_month_date. This would shift everything by exactly one month and more than it has to be\n",
    "reporting_df[\"revenue_month_date\"] = reporting_df[\"revenue_month_date\"] + pd.offsets.MonthBegin(1)"
   ],
   "metadata": {
    "collapsed": false,
    "pycharm": {
     "name": "#%%\n"
    }
   }
  },
  {
   "cell_type": "code",
   "execution_count": 127,
   "outputs": [],
   "source": [
    "## Adding product_term_length_months\n",
    "reporting_df['product_term_length_months'] = reporting_df.groupby([\"transaction_id\", 'type_of_transaction'])[\n",
    "    'revenue_month_number'].transform('max')"
   ],
   "metadata": {
    "collapsed": false,
    "pycharm": {
     "name": "#%%\n"
    }
   }
  },
  {
   "cell_type": "code",
   "execution_count": 128,
   "outputs": [],
   "source": [
    "## Calculate total_revenue_net fields\n",
    "reporting_df[\"total_revenue_net_eur\"] = (\n",
    "        reporting_df[\"new_booking_net_eur\"] / reporting_df[\"total_days\"] * reporting_df[\"product_term_length\"]\n",
    ")"
   ],
   "metadata": {
    "collapsed": false,
    "pycharm": {
     "name": "#%%\n"
    }
   }
  },
  {
   "cell_type": "code",
   "execution_count": 129,
   "outputs": [],
   "source": [
    "## Remove values from all lines of cols group except first\n",
    "one_line_cols = [\"vat_eur\", 'vat_chf', 'payout_eur', 'payout_chf', 'sales_price_eur', 'sales_price_chf', 'fee_eur',\n",
    "                 'fee_chf', 'new_booking_net_eur',\n",
    "                 'new_booking_net_chf', 'renewal_booking_net_eur',\n",
    "                 'renewal_booking_net_chf', 'store_fees_eur', 'store_fees_chf',\n",
    "                 'charge_eur', 'charge_chf',\n",
    "                 'vat_percentage',\n",
    "                 'avg_price_sales_per_sub',\n",
    "                 'units'\n",
    "                 ]\n",
    "\n",
    "for col in one_line_cols:\n",
    "    reporting_df.loc[\n",
    "        reporting_df[\"revenue_month_number\"] > 1,\n",
    "        [col],\n",
    "    ] = 0.0"
   ],
   "metadata": {
    "collapsed": false,
    "pycharm": {
     "name": "#%%\n"
    }
   }
  },
  {
   "cell_type": "code",
   "execution_count": 130,
   "outputs": [],
   "source": [
    "## Calculating CHF columns\n",
    "reporting_df['charge_chf'] = reporting_df['charge_eur'] * reporting_df['exchange_rate_eur_to_chf']\n",
    "reporting_df['sales_price_chf'] = reporting_df['sales_price_eur'] * reporting_df['exchange_rate_eur_to_chf']\n",
    "reporting_df['fee_chf'] = reporting_df['fee_eur'] * reporting_df['exchange_rate_eur_to_chf']\n",
    "reporting_df['new_booking_net_chf'] = reporting_df['new_booking_net_eur'] * reporting_df['exchange_rate_eur_to_chf']\n",
    "reporting_df['payout_chf'] = reporting_df['payout_eur'] * reporting_df['exchange_rate_eur_to_chf']\n",
    "reporting_df['payout_chf'] = reporting_df['payout_eur'] * reporting_df['exchange_rate_eur_to_chf']\n",
    "reporting_df[\"total_revenue_net_chf\"] = (\n",
    "        reporting_df[\"new_booking_net_chf\"] / reporting_df[\"total_days\"] * reporting_df[\"product_term_length\"]\n",
    ")"
   ],
   "metadata": {
    "collapsed": false,
    "pycharm": {
     "name": "#%%\n"
    }
   }
  },
  {
   "cell_type": "code",
   "execution_count": 131,
   "outputs": [],
   "source": [
    "## Standardizing the report\n",
    "reporting_df[['product_group_finance']] = ''\n",
    "\n",
    "reporting_df[\n",
    "    ['store_fees_eur', 'store_fees_percentage', 'store_fees_percentage', 'store_fees_chf', 'renewal_booking_net_eur',\n",
    "     'renewal_booking_net_chf']] = 0"
   ],
   "metadata": {
    "collapsed": false,
    "pycharm": {
     "name": "#%%\n"
    }
   }
  },
  {
   "cell_type": "code",
   "execution_count": 132,
   "outputs": [],
   "source": [
    "## Final clean up\n",
    "reporting_df['revenue_month_date'] = pd.to_datetime(reporting_df['revenue_month_date'])"
   ],
   "metadata": {
    "collapsed": false,
    "pycharm": {
     "name": "#%%\n"
    }
   }
  },
  {
   "cell_type": "code",
   "execution_count": 133,
   "outputs": [],
   "source": [
    "## Reorder dataframe\n",
    "reporting_df = reporting_df[\n",
    "    [\n",
    "        'transaction_id',\n",
    "        'transaction_date',\n",
    "        'term_end',\n",
    "        'reporting_month',\n",
    "        'country_name',\n",
    "        'country_code',\n",
    "        'buyer_country_code',\n",
    "        'currency',\n",
    "        'sku',\n",
    "        'subscription_status',\n",
    "        'type_of_transaction',\n",
    "        'payment_method',\n",
    "        'product_class',\n",
    "        'product_group_finance',\n",
    "        'product_length',\n",
    "        'product_length_months',\n",
    "        'product_term_length',\n",
    "        'domestic_abroad',\n",
    "        'vat_percentage',\n",
    "        'exchange_rate_eur_to_chf',\n",
    "        'store_fees_eur',\n",
    "        'store_fees_chf',\n",
    "        'store_fees_percentage',\n",
    "        'units',\n",
    "        'charge_eur',\n",
    "        'sales_price_eur',\n",
    "        'fee_eur',\n",
    "        'vat_eur',\n",
    "        'new_booking_net_eur',\n",
    "        'renewal_booking_net_eur',\n",
    "        'payout_eur',\n",
    "        'total_revenue_net_eur',\n",
    "        'charge_chf',\n",
    "        'sales_price_chf',\n",
    "        'fee_chf',\n",
    "        'vat_chf',\n",
    "        'new_booking_net_chf',\n",
    "        'renewal_booking_net_chf',\n",
    "        'payout_chf',\n",
    "        'total_revenue_net_chf',\n",
    "        'revenue_month_number',\n",
    "        'revenue_month_date',\n",
    "        'active_sub_month_end',\n",
    "        'active_sub_content'\n",
    "    ]\n",
    "]\n",
    "\n",
    "## Define BQ table schema\n",
    "bq_schema = [\n",
    "    {\"name\": \"transaction_id\", \"type\": \"STRING\"},\n",
    "    {\"name\": \"transaction_date\", \"type\": \"TIMESTAMP\"},\n",
    "    {\"name\": \"term_end\", \"type\": \"TIMESTAMP\"},\n",
    "    {\"name\": \"reporting_month\", \"type\": \"STRING\"},\n",
    "    {\"name\": \"country_name\", \"type\": \"STRING\"},\n",
    "    {\"name\": \"country_code\", \"type\": \"STRING\"},\n",
    "    {\"name\": \"buyer_country_code\", \"type\": \"STRING\"},\n",
    "    {\"name\": \"currency\", \"type\": \"STRING\"},\n",
    "    {\"name\": \"sku\", \"type\": \"STRING\"},\n",
    "    {\"name\": \"subscription_status\", \"type\": \"STRING\"},\n",
    "    {\"name\": \"type_of_transaction\", \"type\": \"STRING\"},\n",
    "    {\"name\": \"payment_method\", \"type\": \"STRING\"},\n",
    "    {\"name\": \"product_class\", \"type\": \"STRING\"},\n",
    "    {\"name\": \"product_group_finance\", \"type\": \"STRING\"},\n",
    "    {\"name\": \"product_length\", \"type\": \"INTEGER\"},\n",
    "    {\"name\": \"product_length_months\", \"type\": \"INTEGER\"},\n",
    "    {\"name\": \"product_term_length\", \"type\": \"INTEGER\"},\n",
    "    {\"name\": \"domestic_abroad\", \"type\": \"STRING\"},\n",
    "    {\"name\": \"vat_percentage\", \"type\": \"FLOAT\"},\n",
    "    {\"name\": \"exchange_rate_eur_to_chf\", \"type\": \"FLOAT\"},\n",
    "    {\"name\": \"store_fees_eur\", \"type\": \"INTEGER\"},\n",
    "    {\"name\": \"store_fees_chf\", \"type\": \"INTEGER\"},\n",
    "    {\"name\": \"store_fees_percentage\", \"type\": \"INTEGER\"},\n",
    "    {\"name\": \"units\", \"type\": \"INTEGER\"},\n",
    "    {\"name\": \"charge_eur\", \"type\": \"FLOAT\"},\n",
    "    {\"name\": \"sales_price_eur\", \"type\": \"FLOAT\"},\n",
    "    {\"name\": \"fee_eur\", \"type\": \"FLOAT\"},\n",
    "    {\"name\": \"vat_eur\", \"type\": \"FLOAT\"},\n",
    "    {\"name\": \"new_booking_net_eur\", \"type\": \"FLOAT\"},\n",
    "    {\"name\": \"renewal_booking_net_eur\", \"type\": \"FLOAT\"},\n",
    "    {\"name\": \"payout_eur\", \"type\": \"FLOAT\"},\n",
    "    {\"name\": \"total_revenue_net_eur\", \"type\": \"FLOAT\"},\n",
    "    {\"name\": \"charge_chf\", \"type\": \"FLOAT\"},\n",
    "    {\"name\": \"sales_price_chf\", \"type\": \"FLOAT\"},\n",
    "    {\"name\": \"fee_chf\", \"type\": \"FLOAT\"},\n",
    "    {\"name\": \"vat_chf\", \"type\": \"FLOAT\"},\n",
    "    {\"name\": \"new_booking_net_chf\", \"type\": \"FLOAT\"},\n",
    "    {\"name\": \"renewal_booking_net_chf\", \"type\": \"FLOAT\"},\n",
    "    {\"name\": \"payout_chf\", \"type\": \"FLOAT\"},\n",
    "    {\"name\": \"total_revenue_net_chf\", \"type\": \"FLOAT\"},\n",
    "    {\"name\": \"revenue_month_number\", \"type\": \"INTEGER\"},\n",
    "    {\"name\": \"revenue_month_date\", \"type\": \"TIMESTAMP\"},\n",
    "    {\"name\": \"active_sub_month_end\", \"type\": \"INTEGER\"},\n",
    "    {\"name\": \"active_sub_content\", \"type\": \"INTEGER\"}\n",
    "]"
   ],
   "metadata": {
    "collapsed": false,
    "pycharm": {
     "name": "#%%\n"
    }
   }
  },
  {
   "cell_type": "code",
   "execution_count": 134,
   "outputs": [],
   "source": [
    "## Export to csv\n",
    "path = r\"/Users/miguelcouto/Desktop/\"\n",
    "\n",
    "reporting_df.to_csv(os.path.join(path, fr'subs_reporting_amazon{reporting_month[0].replace(\"-\", \"_\")}.csv'))"
   ],
   "metadata": {
    "collapsed": false,
    "pycharm": {
     "name": "#%%\n"
    }
   }
  },
  {
   "cell_type": "code",
   "execution_count": 135,
   "outputs": [],
   "source": [
    "## Export to BQ table\n",
    "pandas_gbq.to_gbq(\n",
    "    dataframe=reporting_df,\n",
    "    destination_table=f\"finance.subs_reporting_amazon{reporting_month[0].replace('-', '')}\",\n",
    "    project_id=\"zattoo-dataeng\",\n",
    "    if_exists=\"replace\",\n",
    "    progress_bar=None,\n",
    "    table_schema=bq_schema,\n",
    ")"
   ],
   "metadata": {
    "collapsed": false,
    "pycharm": {
     "name": "#%%\n"
    }
   }
  }
 ],
 "metadata": {
  "kernelspec": {
   "display_name": "Python 3",
   "language": "python",
   "name": "python3"
  },
  "language_info": {
   "codemirror_mode": {
    "name": "ipython",
    "version": 3
   },
   "file_extension": ".py",
   "mimetype": "text/x-python",
   "name": "python",
   "nbconvert_exporter": "python",
   "pygments_lexer": "ipython3",
   "version": "3.9.4"
  }
 },
 "nbformat": 4,
 "nbformat_minor": 4
}
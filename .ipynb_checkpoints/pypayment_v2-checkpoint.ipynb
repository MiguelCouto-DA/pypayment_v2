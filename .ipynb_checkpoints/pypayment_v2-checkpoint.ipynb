{
 "cells": [
  {
   "cell_type": "code",
   "execution_count": 123,
   "metadata": {},
   "outputs": [
    {
     "name": "stdout",
     "output_type": "stream",
     "text": [
      "The lab_black extension is already loaded. To reload it, use:\n",
      "  %reload_ext lab_black\n"
     ]
    }
   ],
   "source": [
    "%load_ext lab_black"
   ]
  },
  {
   "cell_type": "code",
   "execution_count": 127,
   "metadata": {},
   "outputs": [],
   "source": [
    "from google.cloud import bigquery\n",
    "from google.oauth2 import service_account\n",
    "import pandas_gbq\n",
    "import pandas as pd\n",
    "import numpy as np\n",
    "import os\n",
    "import warnings\n",
    "\n",
    "warnings.filterwarnings('ignore')\n",
    "\n",
    "credentials = service_account.Credentials.from_service_account_file(\n",
    "    \"/Users/miguelcouto/Downloads/zattoo-dataeng-e5f45785174f.json\"\n",
    ")\n",
    "\n",
    "project_id = \"zattoo-dataeng\"\n",
    "client = bigquery.Client(credentials=credentials, project=project_id)"
   ]
  },
  {
   "cell_type": "code",
   "execution_count": 128,
   "metadata": {},
   "outputs": [],
   "source": [
    "sql_calcs = \"\"\"\n",
    "   select mt.transaction_id,\n",
    "       mt.zuid,\n",
    "       mt.payment_method,\n",
    "       mt.sku,\n",
    "       mt.type_of_transaction,\n",
    "       case\n",
    "           when mt.country_name = 'Germany' then 'Germany'\n",
    "           when mt.country_name = 'Austria' then 'Austria'\n",
    "           else 'Switzerland' end as country_name,\n",
    "       mt.new_booking_net_CHF,\n",
    "       mt.renewal_booking_net_CHF,\n",
    "       mt.new_booking_net_EUR,\n",
    "       mt.renewal_booking_net_EUR,\n",
    "       mt.transaction_date,\n",
    "       mt.term_start,\n",
    "       mt.term_end,\n",
    "       product_service_view.zuya_account_permission as product_group_finance\n",
    "from b2c_middleware.middlelayer_transactions mt\n",
    "         LEFT JOIN b2c_middleware_import.product_product_view AS product_product_view\n",
    "                   ON mt.sku = product_product_view.sku\n",
    "                       AND DATE(mt.transaction_date) = product_product_view.inserted_at_date\n",
    "         LEFT JOIN b2c_middleware_import.product_subscriptionproduct_view AS product_subscriptionproduct_view\n",
    "                   ON product_product_view.id = product_subscriptionproduct_view.id\n",
    "                       AND\n",
    "                      product_product_view.inserted_at_date = product_subscriptionproduct_view.inserted_at_date\n",
    "         LEFT JOIN b2c_middleware_import.product_offer_view AS product_offer_view\n",
    "                   ON product_subscriptionproduct_view.offer_id = product_offer_view.id\n",
    "                       AND product_subscriptionproduct_view.inserted_at_date = product_offer_view.inserted_at_date\n",
    "         LEFT JOIN b2c_middleware_import.product_service_view AS product_service_view\n",
    "                   ON product_offer_view.service_id = product_service_view.id\n",
    "                       AND product_offer_view.inserted_at_date = product_service_view.inserted_at_date\n",
    "where true\n",
    "  and mt.app_shop_id = 'datatrans'\n",
    "  and mt.transaction_date >= '2022-02-01 00:00:00'\n",
    "  and mt.transaction_date <= '2022-02-28 23:59:59'\n",
    "           \"\"\""
   ]
  },
  {
   "cell_type": "code",
   "execution_count": 129,
   "metadata": {},
   "outputs": [],
   "source": [
    "## prepare dataframe\n",
    "df = pandas_gbq.read_gbq(sql_calcs, project_id=project_id, progress_bar_type=None, credentials=credentials)\n",
    "type_trans_lst = [\"new_sale\", \"renewal\", \"refund\"]\n",
    "\n",
    "parse_dates = [\"term_start\", \"term_end\"]\n",
    "mt_df = df[df[\"type_of_transaction\"].isin(type_trans_lst)].copy()\n",
    "\n",
    "for date in parse_dates:\n",
    "    mt_df[date] = pd.to_datetime(mt_df[date]).dt.tz_convert(None)"
   ]
  },
  {
   "cell_type": "code",
   "execution_count": 130,
   "metadata": {},
   "outputs": [],
   "source": [
    "## calculate total_booking_net columns\n",
    "mt_df[\"total_booking_net_CHF\"] = (\n",
    "        mt_df[\"new_booking_net_CHF\"] + mt_df[\"renewal_booking_net_CHF\"]\n",
    ")\n",
    "mt_df[\"total_booking_net_EUR\"] = (\n",
    "        mt_df[\"new_booking_net_EUR\"] + mt_df[\"renewal_booking_net_EUR\"]\n",
    ")"
   ]
  },
  {
   "cell_type": "code",
   "execution_count": 131,
   "metadata": {},
   "outputs": [],
   "source": [
    "## drop unnecessary columns\n",
    "mt_df.drop(\n",
    "    [\n",
    "        \"new_booking_net_EUR\",\n",
    "        \"new_booking_net_CHF\",\n",
    "        \"renewal_booking_net_CHF\",\n",
    "        \"renewal_booking_net_EUR\",\n",
    "    ],\n",
    "    axis=1,\n",
    "    inplace=True,\n",
    ")"
   ]
  },
  {
   "cell_type": "code",
   "execution_count": 132,
   "metadata": {},
   "outputs": [],
   "source": [
    "## calculate product_term_length_months\n",
    "mt_df[\"product_term_length_months\"] = (\n",
    "        (mt_df[\"term_end\"].dt.year - mt_df[\"term_start\"].dt.year) * 12\n",
    "        + (mt_df[\"term_end\"].dt.month - mt_df[\"term_start\"].dt.month)\n",
    "        + 1\n",
    ")\n",
    "\n",
    "mt_df[\"product_term_length_months\"][mt_df[\"product_term_length_months\"] < 0] = 0"
   ]
  },
  {
   "cell_type": "code",
   "execution_count": 133,
   "metadata": {},
   "outputs": [],
   "source": [
    "## reseting index\n",
    "mt_df = mt_df.reindex(mt_df.index.repeat(mt_df[\"product_term_length_months\"]))"
   ]
  },
  {
   "cell_type": "code",
   "execution_count": 134,
   "metadata": {},
   "outputs": [],
   "source": [
    "## add revenue_month_number\n",
    "mt_df[\"revenue_month_number\"] = mt_df.groupby([\"transaction_id\"]).cumcount() + 1"
   ]
  },
  {
   "cell_type": "code",
   "execution_count": 135,
   "outputs": [
    {
     "data": {
      "text/plain": "       transaction_id      zuid payment_method  \\\n0            35804150   9968015         paypal   \n0            35804150   9968015         paypal   \n1            35804293  30253928         paypal   \n1            35804293  30253928         paypal   \n2            35804319  30254161         paypal   \n...               ...       ...            ...   \n122154       35817318  30254117         klarna   \n122155       35893326  29242160         paypal   \n122155       35893326  29242160         paypal   \n122156       35817492  30255408    credit_card   \n122156       35817492  30255408    credit_card   \n\n                                         sku type_of_transaction country_name  \\\n0              zattoo_web_polish_german_1_mo            new_sale      Germany   \n0              zattoo_web_polish_german_1_mo            new_sale      Germany   \n1              zattoo_web_polish_german_1_mo            new_sale      Germany   \n1              zattoo_web_polish_german_1_mo            new_sale      Germany   \n2              zattoo_web_polish_german_1_mo            new_sale      Germany   \n...                                      ...                 ...          ...   \n122154          zattoo_web_cirkus_german_1mo             renewal      Germany   \n122155  zattoo_web_russian_bundle_german_1mo             renewal      Germany   \n122155  zattoo_web_russian_bundle_german_1mo             renewal      Germany   \n122156        zattoo_web_cirkus_austrian_1mo             renewal      Austria   \n122156        zattoo_web_cirkus_austrian_1mo             renewal      Austria   \n\n          transaction_date          term_start            term_end  \\\n0      2022-02-04 06:17:26 2022-02-05 16:21:57 2022-03-08 16:21:57   \n0      2022-02-04 06:17:26 2022-02-05 16:21:57 2022-03-08 16:21:57   \n1      2022-02-04 06:26:54 2022-02-05 20:16:55 2022-03-08 20:16:55   \n1      2022-02-04 06:26:54 2022-02-05 20:16:55 2022-03-08 20:16:55   \n2      2022-02-04 06:28:47 2022-02-05 21:27:04 2022-03-08 21:27:04   \n...                    ...                 ...                 ...   \n122154 2022-02-05 08:41:24 2022-02-06 14:05:33 2022-03-09 14:05:33   \n122155 2022-02-11 09:08:58 2022-02-12 11:34:12 2022-03-15 11:34:12   \n122155 2022-02-11 09:08:58 2022-02-12 11:34:12 2022-03-15 11:34:12   \n122156 2022-02-05 08:51:31 2022-02-06 19:33:48 2022-03-09 19:33:48   \n122156 2022-02-05 08:51:31 2022-02-06 19:33:48 2022-03-09 19:33:48   \n\n       product_group_finance  total_booking_net_CHF  total_booking_net_EUR  \\\n0                     polish               6.933677               6.638655   \n0                     polish               6.933677               6.638655   \n1                     polish               6.933677               6.638655   \n1                     polish               6.933677               6.638655   \n2                     polish               6.933677               6.638655   \n...                      ...                    ...                    ...   \n122154                cirkus               3.501946               3.352941   \n122155               russian               9.566719               9.159664   \n122155               russian               9.566719               9.159664   \n122156                cirkus               3.472763               3.325000   \n122156                cirkus               3.472763               3.325000   \n\n        product_term_length_months  revenue_month_number  \n0                                2                     1  \n0                                2                     2  \n1                                2                     1  \n1                                2                     2  \n2                                2                     1  \n...                            ...                   ...  \n122154                           2                     2  \n122155                           2                     1  \n122155                           2                     2  \n122156                           2                     1  \n122156                           2                     2  \n\n[238029 rows x 14 columns]",
      "text/html": "<div>\n<style scoped>\n    .dataframe tbody tr th:only-of-type {\n        vertical-align: middle;\n    }\n\n    .dataframe tbody tr th {\n        vertical-align: top;\n    }\n\n    .dataframe thead th {\n        text-align: right;\n    }\n</style>\n<table border=\"1\" class=\"dataframe\">\n  <thead>\n    <tr style=\"text-align: right;\">\n      <th></th>\n      <th>transaction_id</th>\n      <th>zuid</th>\n      <th>payment_method</th>\n      <th>sku</th>\n      <th>type_of_transaction</th>\n      <th>country_name</th>\n      <th>transaction_date</th>\n      <th>term_start</th>\n      <th>term_end</th>\n      <th>product_group_finance</th>\n      <th>total_booking_net_CHF</th>\n      <th>total_booking_net_EUR</th>\n      <th>product_term_length_months</th>\n      <th>revenue_month_number</th>\n    </tr>\n  </thead>\n  <tbody>\n    <tr>\n      <th>0</th>\n      <td>35804150</td>\n      <td>9968015</td>\n      <td>paypal</td>\n      <td>zattoo_web_polish_german_1_mo</td>\n      <td>new_sale</td>\n      <td>Germany</td>\n      <td>2022-02-04 06:17:26</td>\n      <td>2022-02-05 16:21:57</td>\n      <td>2022-03-08 16:21:57</td>\n      <td>polish</td>\n      <td>6.933677</td>\n      <td>6.638655</td>\n      <td>2</td>\n      <td>1</td>\n    </tr>\n    <tr>\n      <th>0</th>\n      <td>35804150</td>\n      <td>9968015</td>\n      <td>paypal</td>\n      <td>zattoo_web_polish_german_1_mo</td>\n      <td>new_sale</td>\n      <td>Germany</td>\n      <td>2022-02-04 06:17:26</td>\n      <td>2022-02-05 16:21:57</td>\n      <td>2022-03-08 16:21:57</td>\n      <td>polish</td>\n      <td>6.933677</td>\n      <td>6.638655</td>\n      <td>2</td>\n      <td>2</td>\n    </tr>\n    <tr>\n      <th>1</th>\n      <td>35804293</td>\n      <td>30253928</td>\n      <td>paypal</td>\n      <td>zattoo_web_polish_german_1_mo</td>\n      <td>new_sale</td>\n      <td>Germany</td>\n      <td>2022-02-04 06:26:54</td>\n      <td>2022-02-05 20:16:55</td>\n      <td>2022-03-08 20:16:55</td>\n      <td>polish</td>\n      <td>6.933677</td>\n      <td>6.638655</td>\n      <td>2</td>\n      <td>1</td>\n    </tr>\n    <tr>\n      <th>1</th>\n      <td>35804293</td>\n      <td>30253928</td>\n      <td>paypal</td>\n      <td>zattoo_web_polish_german_1_mo</td>\n      <td>new_sale</td>\n      <td>Germany</td>\n      <td>2022-02-04 06:26:54</td>\n      <td>2022-02-05 20:16:55</td>\n      <td>2022-03-08 20:16:55</td>\n      <td>polish</td>\n      <td>6.933677</td>\n      <td>6.638655</td>\n      <td>2</td>\n      <td>2</td>\n    </tr>\n    <tr>\n      <th>2</th>\n      <td>35804319</td>\n      <td>30254161</td>\n      <td>paypal</td>\n      <td>zattoo_web_polish_german_1_mo</td>\n      <td>new_sale</td>\n      <td>Germany</td>\n      <td>2022-02-04 06:28:47</td>\n      <td>2022-02-05 21:27:04</td>\n      <td>2022-03-08 21:27:04</td>\n      <td>polish</td>\n      <td>6.933677</td>\n      <td>6.638655</td>\n      <td>2</td>\n      <td>1</td>\n    </tr>\n    <tr>\n      <th>...</th>\n      <td>...</td>\n      <td>...</td>\n      <td>...</td>\n      <td>...</td>\n      <td>...</td>\n      <td>...</td>\n      <td>...</td>\n      <td>...</td>\n      <td>...</td>\n      <td>...</td>\n      <td>...</td>\n      <td>...</td>\n      <td>...</td>\n      <td>...</td>\n    </tr>\n    <tr>\n      <th>122154</th>\n      <td>35817318</td>\n      <td>30254117</td>\n      <td>klarna</td>\n      <td>zattoo_web_cirkus_german_1mo</td>\n      <td>renewal</td>\n      <td>Germany</td>\n      <td>2022-02-05 08:41:24</td>\n      <td>2022-02-06 14:05:33</td>\n      <td>2022-03-09 14:05:33</td>\n      <td>cirkus</td>\n      <td>3.501946</td>\n      <td>3.352941</td>\n      <td>2</td>\n      <td>2</td>\n    </tr>\n    <tr>\n      <th>122155</th>\n      <td>35893326</td>\n      <td>29242160</td>\n      <td>paypal</td>\n      <td>zattoo_web_russian_bundle_german_1mo</td>\n      <td>renewal</td>\n      <td>Germany</td>\n      <td>2022-02-11 09:08:58</td>\n      <td>2022-02-12 11:34:12</td>\n      <td>2022-03-15 11:34:12</td>\n      <td>russian</td>\n      <td>9.566719</td>\n      <td>9.159664</td>\n      <td>2</td>\n      <td>1</td>\n    </tr>\n    <tr>\n      <th>122155</th>\n      <td>35893326</td>\n      <td>29242160</td>\n      <td>paypal</td>\n      <td>zattoo_web_russian_bundle_german_1mo</td>\n      <td>renewal</td>\n      <td>Germany</td>\n      <td>2022-02-11 09:08:58</td>\n      <td>2022-02-12 11:34:12</td>\n      <td>2022-03-15 11:34:12</td>\n      <td>russian</td>\n      <td>9.566719</td>\n      <td>9.159664</td>\n      <td>2</td>\n      <td>2</td>\n    </tr>\n    <tr>\n      <th>122156</th>\n      <td>35817492</td>\n      <td>30255408</td>\n      <td>credit_card</td>\n      <td>zattoo_web_cirkus_austrian_1mo</td>\n      <td>renewal</td>\n      <td>Austria</td>\n      <td>2022-02-05 08:51:31</td>\n      <td>2022-02-06 19:33:48</td>\n      <td>2022-03-09 19:33:48</td>\n      <td>cirkus</td>\n      <td>3.472763</td>\n      <td>3.325000</td>\n      <td>2</td>\n      <td>1</td>\n    </tr>\n    <tr>\n      <th>122156</th>\n      <td>35817492</td>\n      <td>30255408</td>\n      <td>credit_card</td>\n      <td>zattoo_web_cirkus_austrian_1mo</td>\n      <td>renewal</td>\n      <td>Austria</td>\n      <td>2022-02-05 08:51:31</td>\n      <td>2022-02-06 19:33:48</td>\n      <td>2022-03-09 19:33:48</td>\n      <td>cirkus</td>\n      <td>3.472763</td>\n      <td>3.325000</td>\n      <td>2</td>\n      <td>2</td>\n    </tr>\n  </tbody>\n</table>\n<p>238029 rows × 14 columns</p>\n</div>"
     },
     "execution_count": 135,
     "metadata": {},
     "output_type": "execute_result"
    }
   ],
   "source": [
    "mt_df"
   ],
   "metadata": {
    "collapsed": false,
    "pycharm": {
     "name": "#%%\n"
    }
   }
  },
  {
   "cell_type": "code",
   "execution_count": 136,
   "metadata": {},
   "outputs": [],
   "source": [
    "## add revenue_month_date\n",
    "mt_df[\"revenue_month_date\"] = mt_df[\"term_start\"].to_numpy().astype(\"datetime64[M]\")\n",
    "mt_df[\"revenue_month_date\"][mt_df[\"type_of_transaction\"] == \"refund\"] = (\n",
    "    mt_df[\"transaction_date\"].to_numpy().astype(\"datetime64[M]\")\n",
    ")\n",
    "\n",
    "mt_df[\"revenue_month_date\"] = mt_df.apply(\n",
    "    lambda x: x[\"revenue_month_date\"]\n",
    "              + pd.offsets.MonthEnd(x[\"revenue_month_number\"])\n",
    "              + pd.offsets.MonthBegin(-1),\n",
    "    axis=1,\n",
    ")\n",
    "\n",
    "## commenting out as we now have product_service_view.zuya_account_permission available\n",
    "mt_df[\"product_group_finance\"] = np.nan\n",
    "\n",
    "mt_df[\"product_term_length\"] = mt_df[\"revenue_month_date\"].apply(\n",
    "    lambda t: pd.Period(t, freq=\"S\").days_in_month\n",
    ")"
   ]
  },
  {
   "cell_type": "code",
   "execution_count": 137,
   "metadata": {},
   "outputs": [],
   "source": [
    "## reseting index\n",
    "mt_df.reset_index(drop=True, inplace=True)"
   ]
  },
  {
   "cell_type": "code",
   "execution_count": 138,
   "metadata": {},
   "outputs": [],
   "source": [
    "## set active_sub_content = 1 by default\n",
    "mt_df[\"active_sub_content\"] = 1\n",
    "\n",
    "## get last indices of each transaction_id group\n",
    "last_idxs = (\n",
    "        len(mt_df)\n",
    "        - np.unique(\n",
    "    mt_df.transaction_id.values[::-1],\n",
    "    return_index=1,\n",
    ")[1]\n",
    "        - 1\n",
    ")\n",
    "\n",
    "mt_df[\"active_sub_content\"].iloc[last_idxs] = 0\n",
    "\n",
    "## mark all one transaction subscriptions as 1\n",
    "mt_df[\"active_sub_content\"][\n",
    "    (mt_df[\"revenue_month_number\"] <= 1) & (mt_df[\"product_term_length_months\"] <= 1)\n",
    "    ] = 1\n",
    "\n",
    "## mark all refund transactions as -1\n",
    "mt_df[\"active_sub_content\"][mt_df[\"type_of_transaction\"] == \"refund\"] = -1\n",
    "\n",
    "## mark all subscriptions with only 1 transaction as i\n",
    "mt_df[\"active_sub_content\"][mt_df[\"type_of_transaction\"] == \"refund\"] = -1"
   ]
  },
  {
   "cell_type": "code",
   "execution_count": 139,
   "metadata": {},
   "outputs": [],
   "source": [
    "## fix last position of product_term_length per transaction_id\n",
    "mt_df[\"product_term_length\"].iloc[last_idxs] = (\n",
    "                                                       mt_df[\"term_end\"].iloc[last_idxs] -\n",
    "                                                       mt_df[\"revenue_month_date\"].iloc[last_idxs]\n",
    "                                               ).dt.days + 1"
   ]
  },
  {
   "cell_type": "code",
   "execution_count": 140,
   "metadata": {},
   "outputs": [],
   "source": [
    "## TEMP FIX to tackle dynamic term_end for refunds\n",
    "mt_df[\"product_term_length\"][mt_df[\"product_term_length\"] < 0] = 0"
   ]
  },
  {
   "cell_type": "code",
   "execution_count": 141,
   "metadata": {},
   "outputs": [],
   "source": [
    "## total_days of product_term_length per transaction_id\n",
    "mt_df[\"total_days\"] = mt_df.groupby(\"transaction_id\")[\"product_term_length\"].transform(\n",
    "    \"sum\"\n",
    ")"
   ]
  },
  {
   "cell_type": "code",
   "execution_count": 142,
   "metadata": {},
   "outputs": [],
   "source": [
    "## calculate total_revenue_net fields\n",
    "mt_df[\"total_revenue_net_EUR\"] = (\n",
    "        mt_df[\"total_booking_net_EUR\"] / mt_df[\"total_days\"] * mt_df[\"product_term_length\"]\n",
    ")\n",
    "\n",
    "mt_df[\"total_revenue_net_CHF\"] = (\n",
    "        mt_df[\"total_booking_net_CHF\"] / mt_df[\"total_days\"] * mt_df[\"product_term_length\"]\n",
    ")\n",
    "\n",
    "## remove total_booking values from all lines of group except first\n",
    "mt_df.loc[\n",
    "    mt_df[\"revenue_month_number\"] > 1,\n",
    "    [\"total_booking_net_CHF\", \"total_booking_net_EUR\"],\n",
    "] = 0.0"
   ]
  },
  {
   "cell_type": "code",
   "execution_count": 143,
   "metadata": {},
   "outputs": [],
   "source": [
    "## drop total_days column\n",
    "mt_df.drop(\n",
    "    [\"total_days\"],\n",
    "    axis=1,\n",
    "    inplace=True,\n",
    ")\n",
    "\n",
    "## reorder dataframe\n",
    "mt_df = mt_df[\n",
    "    [\n",
    "        \"transaction_id\",\n",
    "        \"zuid\",\n",
    "        \"payment_method\",\n",
    "        \"sku\",\n",
    "        \"type_of_transaction\",\n",
    "        \"country_name\",\n",
    "        \"transaction_date\",\n",
    "        \"total_booking_net_CHF\",\n",
    "        \"total_booking_net_EUR\",\n",
    "        \"term_start\",\n",
    "        \"term_end\",\n",
    "        \"product_term_length\",\n",
    "        #        \"total_days\",\n",
    "        \"product_term_length_months\",\n",
    "        \"product_group_finance\",\n",
    "        \"revenue_month_number\",\n",
    "        \"revenue_month_date\",\n",
    "        \"total_revenue_net_EUR\",\n",
    "        \"total_revenue_net_CHF\",\n",
    "        \"active_sub_content\",\n",
    "    ]\n",
    "]"
   ]
  },
  {
   "cell_type": "code",
   "execution_count": 144,
   "metadata": {},
   "outputs": [],
   "source": [
    "## prepare df_nocalcs for free trials and full discounts\n",
    "mt_df_nocalcs = df[~df[\"type_of_transaction\"].isin(type_trans_lst)].copy()\n",
    "\n",
    "for date in parse_dates:\n",
    "    mt_df_nocalcs[date] = pd.to_datetime(mt_df_nocalcs[date]).dt.tz_convert(None)"
   ]
  },
  {
   "cell_type": "code",
   "execution_count": 145,
   "metadata": {},
   "outputs": [],
   "source": [
    "## calculate total_booking_net columns\n",
    "mt_df_nocalcs[\"total_booking_net_CHF\"] = (\n",
    "        mt_df_nocalcs[\"new_booking_net_CHF\"] + mt_df_nocalcs[\"renewal_booking_net_CHF\"]\n",
    ")\n",
    "mt_df_nocalcs[\"total_booking_net_EUR\"] = (\n",
    "        mt_df_nocalcs[\"new_booking_net_EUR\"] + mt_df_nocalcs[\"renewal_booking_net_EUR\"]\n",
    ")"
   ]
  },
  {
   "cell_type": "code",
   "execution_count": 146,
   "metadata": {},
   "outputs": [],
   "source": [
    "## drop unnecessary columns\n",
    "mt_df_nocalcs.drop(\n",
    "    [\n",
    "        \"new_booking_net_EUR\",\n",
    "        \"new_booking_net_CHF\",\n",
    "        \"renewal_booking_net_CHF\",\n",
    "        \"renewal_booking_net_EUR\",\n",
    "    ],\n",
    "    axis=1,\n",
    "    inplace=True,\n",
    ")"
   ]
  },
  {
   "cell_type": "code",
   "execution_count": 147,
   "metadata": {},
   "outputs": [],
   "source": [
    "## append dataframes\n",
    "mt_df_final = mt_df.append(mt_df_nocalcs).reset_index(drop=True)\n",
    "\n",
    "## convert revenue_month_date to date\n",
    "mt_df_final[\"revenue_month_date\"] = pd.to_datetime(\n",
    "    mt_df_final[\"revenue_month_date\"]\n",
    ").dt.date"
   ]
  },
  {
   "cell_type": "code",
   "execution_count": 148,
   "metadata": {},
   "outputs": [],
   "source": [
    "## define table schema\n",
    "bq_schema = [\n",
    "    {\"name\": \"transaction_id\", \"type\": \"STRING\"},\n",
    "    {\"name\": \"zuid\", \"type\": \"INTEGER\"},\n",
    "    {\"name\": \"payment_method\", \"type\": \"STRING\"},\n",
    "    {\"name\": \"sku\", \"type\": \"STRING\"},\n",
    "    {\"name\": \"type_of_transaction\", \"type\": \"STRING\"},\n",
    "    {\"name\": \"transaction_date\", \"type\": \"TIMESTAMP\"},\n",
    "    {\"name\": \"country_name\", \"type\": \"STRING\"},\n",
    "    {\"name\": \"total_booking_net_CHF\", \"type\": \"FLOAT\"},\n",
    "    {\"name\": \"total_booking_net_EUR\", \"type\": \"FLOAT\"},\n",
    "    {\"name\": \"term_start\", \"type\": \"TIMESTAMP\"},\n",
    "    {\"name\": \"term_end\", \"type\": \"TIMESTAMP\"},\n",
    "    {\"name\": \"product_term_length\", \"type\": \"INTEGER\"},\n",
    "    {\"name\": \"product_term_length_months\", \"type\": \"INTEGER\"},\n",
    "    {\"name\": \"product_group_finance\", \"type\": \"STRING\"},\n",
    "    {\"name\": \"revenue_month_number\", \"type\": \"INTEGER\"},\n",
    "    {\"name\": \"revenue_month_date\", \"type\": \"DATE\"},\n",
    "    {\"name\": \"total_revenue_net_EUR\", \"type\": \"FLOAT\"},\n",
    "    {\"name\": \"total_revenue_net_CHF\", \"type\": \"FLOAT\"},\n",
    "    {\"name\": \"active_sub_content\", \"type\": \"INTEGER\"},\n",
    "]"
   ]
  },
  {
   "cell_type": "code",
   "execution_count": 150,
   "metadata": {},
   "outputs": [],
   "source": [
    "## export to BQ table\n",
    "pandas_gbq.to_gbq(\n",
    "    dataframe=mt_df_final,\n",
    "    destination_table=\"temp.pypayment_v2_022022\",\n",
    "    project_id=\"zattoo-dataeng\",\n",
    "    if_exists=\"replace\",\n",
    "    progress_bar=None,\n",
    "    table_schema=bq_schema,\n",
    "    credentials=credentials\n",
    ")"
   ]
  },
  {
   "cell_type": "code",
   "execution_count": 151,
   "metadata": {
    "pycharm": {
     "name": "#%%\n"
    }
   },
   "outputs": [
    {
     "name": "stdout",
     "output_type": "stream",
     "text": [
      "-----------\n",
      "JOB FINISHED\n"
     ]
    }
   ],
   "source": [
    "## export to csv\n",
    "path = r\"/Users/miguelcouto/Desktop/\"\n",
    "\n",
    "mt_df_final.to_csv(os.path.join(path, r\"pypayment_v2_022022.csv\"))\n",
    "\n",
    "print(\"-----------\")\n",
    "print(\"JOB FINISHED\")"
   ]
  }
 ],
 "metadata": {
  "kernelspec": {
   "display_name": "Python 3",
   "language": "python",
   "name": "python3"
  },
  "language_info": {
   "codemirror_mode": {
    "name": "ipython",
    "version": 3
   },
   "file_extension": ".py",
   "mimetype": "text/x-python",
   "name": "python",
   "nbconvert_exporter": "python",
   "pygments_lexer": "ipython3",
   "version": "3.9.4"
  }
 },
 "nbformat": 4,
 "nbformat_minor": 4
}
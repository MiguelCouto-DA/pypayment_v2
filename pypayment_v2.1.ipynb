{
 "cells": [
  {
   "cell_type": "code",
   "execution_count": 1,
   "outputs": [],
   "source": [
    "#%load_ext lab_black"
   ],
   "metadata": {
    "collapsed": false,
    "pycharm": {
     "name": "#%%\n"
    }
   }
  },
  {
   "cell_type": "code",
   "execution_count": 2,
   "outputs": [],
   "source": [
    "from google.cloud import bigquery\n",
    "from google.oauth2 import service_account\n",
    "import pandas_gbq\n",
    "import pandas as pd\n",
    "import numpy as np\n",
    "import os\n",
    "import warnings\n",
    "\n",
    "pd.set_option('display.max_columns', None)\n",
    "warnings.filterwarnings('ignore')\n",
    "\n",
    "credentials = service_account.Credentials.from_service_account_file(\n",
    "    \"/Users/miguelcouto/Downloads/zattoo-dataeng-e5f45785174f.json\"\n",
    ")\n",
    "\n",
    "project_id = \"zattoo-dataeng\"\n",
    "client = bigquery.Client(credentials=credentials, project=project_id)"
   ],
   "metadata": {
    "collapsed": false,
    "pycharm": {
     "name": "#%%\n"
    }
   }
  },
  {
   "cell_type": "code",
   "execution_count": 3,
   "metadata": {
    "pycharm": {
     "name": "#%%\n"
    }
   },
   "outputs": [],
   "source": [
    "sql_calcs = \"\"\"\n",
    "select mt.transaction_id,\n",
    "       mt.zuid,\n",
    "       mt.payment_method,\n",
    "       mt.sku,\n",
    "       mt.type_of_transaction,\n",
    "       case\n",
    "           when mt.country_name = 'Germany' then 'Germany'\n",
    "           when mt.country_name = 'Austria' then 'Austria'\n",
    "           else 'Switzerland' end as country_name,\n",
    "       mt.new_booking_net_CHF,\n",
    "       mt.renewal_booking_net_CHF,\n",
    "       mt.new_booking_net_EUR,\n",
    "       mt.renewal_booking_net_EUR,\n",
    "       mt.transaction_date,\n",
    "       mt.term_start,\n",
    "       mt.term_end,\n",
    "       product_service_view.zuya_account_permission as product_group_finance,\n",
    "       mt.vat_eur,\n",
    "       mt.vat_chf\n",
    "from b2c_middleware.middlelayer_transactions mt\n",
    "         LEFT JOIN b2c_middleware_import.product_product_view AS product_product_view\n",
    "                   ON mt.sku = product_product_view.sku\n",
    "                       AND DATE(mt.transaction_date) = product_product_view.inserted_at_date\n",
    "         LEFT JOIN b2c_middleware_import.product_subscriptionproduct_view AS product_subscriptionproduct_view\n",
    "                   ON product_product_view.id = product_subscriptionproduct_view.id\n",
    "                       AND\n",
    "                      product_product_view.inserted_at_date = product_subscriptionproduct_view.inserted_at_date\n",
    "         LEFT JOIN b2c_middleware_import.product_offer_view AS product_offer_view\n",
    "                   ON product_subscriptionproduct_view.offer_id = product_offer_view.id\n",
    "                       AND product_subscriptionproduct_view.inserted_at_date = product_offer_view.inserted_at_date\n",
    "         LEFT JOIN b2c_middleware_import.product_service_view AS product_service_view\n",
    "                   ON product_offer_view.service_id = product_service_view.id\n",
    "                       AND product_offer_view.inserted_at_date = product_service_view.inserted_at_date\n",
    "where true\n",
    "  and mt.app_shop_id = 'amazon'\n",
    "  and mt.transaction_date >= '2022-02-01 00:00:00'\n",
    "  and mt.transaction_date <= '2022-02-28 23:59:59'\n",
    "-- NEW LINE! added on 2022-04-27\n",
    " -- and mt.type_of_transaction != 'refund'\n",
    "           \"\"\""
   ]
  },
  {
   "cell_type": "code",
   "execution_count": 4,
   "outputs": [],
   "source": [
    "## prepare dataframe\n",
    "df = pandas_gbq.read_gbq(sql_calcs, project_id=project_id, progress_bar_type=None)\n",
    "type_trans_lst = [\"new_sale\", \"renewal\", \"refund\"]"
   ],
   "metadata": {
    "collapsed": false,
    "pycharm": {
     "name": "#%%\n"
    }
   }
  },
  {
   "cell_type": "code",
   "execution_count": 5,
   "outputs": [],
   "source": [
    "parse_dates = [\"term_start\", \"term_end\"]\n",
    "mt_df = df[df[\"type_of_transaction\"].isin(type_trans_lst)].copy()\n",
    "\n",
    "for date in parse_dates:\n",
    "    mt_df[date] = pd.to_datetime(mt_df[date]).dt.tz_convert(None)"
   ],
   "metadata": {
    "collapsed": false,
    "pycharm": {
     "name": "#%%\n"
    }
   }
  },
  {
   "cell_type": "code",
   "execution_count": 6,
   "metadata": {
    "pycharm": {
     "name": "#%%\n"
    }
   },
   "outputs": [],
   "source": [
    "## calculate total_booking_net columns\n",
    "mt_df[\"total_booking_net_CHF\"] = (\n",
    "        mt_df[\"new_booking_net_CHF\"] + mt_df[\"renewal_booking_net_CHF\"]\n",
    ")\n",
    "mt_df[\"total_booking_net_EUR\"] = (\n",
    "        mt_df[\"new_booking_net_EUR\"] + mt_df[\"renewal_booking_net_EUR\"]\n",
    ")"
   ]
  },
  {
   "cell_type": "code",
   "execution_count": 7,
   "metadata": {
    "pycharm": {
     "name": "#%%\n"
    }
   },
   "outputs": [],
   "source": [
    "## drop unnecessary columns\n",
    "mt_df.drop(\n",
    "    [\n",
    "        \"new_booking_net_EUR\",\n",
    "        \"new_booking_net_CHF\",\n",
    "        \"renewal_booking_net_CHF\",\n",
    "        \"renewal_booking_net_EUR\",\n",
    "    ],\n",
    "    axis=1,\n",
    "    inplace=True,\n",
    ")"
   ]
  },
  {
   "cell_type": "code",
   "execution_count": 8,
   "metadata": {
    "pycharm": {
     "name": "#%%\n"
    }
   },
   "outputs": [],
   "source": [
    "## calculate product_term_length_months\n",
    "mt_df[\"product_term_length_months\"] = (\n",
    "        (mt_df[\"term_end\"].dt.year - mt_df[\"term_start\"].dt.year) * 12\n",
    "        + (mt_df[\"term_end\"].dt.month - mt_df[\"term_start\"].dt.month)\n",
    "        + 1\n",
    ")"
   ]
  },
  {
   "cell_type": "code",
   "execution_count": 9,
   "outputs": [],
   "source": [
    "mt_df[\"product_term_length_months\"][mt_df[\"product_term_length_months\"] < 0] = 0"
   ],
   "metadata": {
    "collapsed": false,
    "pycharm": {
     "name": "#%%\n"
    }
   }
  },
  {
   "cell_type": "code",
   "execution_count": 10,
   "outputs": [],
   "source": [
    "## replacing product_term_length_months for exceptions where value is 2 instead of 1\n",
    "shorter_subs = (mt_df['term_end'] - mt_df['term_start']).dt.days <= 30\n",
    "shorter_subs_replacer = mt_df[shorter_subs][\n",
    "    (mt_df[\"product_term_length_months\"] == 2) & ((mt_df['term_end']).dt.day == 1)].index.to_list()\n",
    "mt_df[\"product_term_length_months\"].loc[shorter_subs_replacer] = 1"
   ],
   "metadata": {
    "collapsed": false,
    "pycharm": {
     "name": "#%%\n"
    }
   }
  },
  {
   "cell_type": "code",
   "execution_count": 11,
   "metadata": {
    "pycharm": {
     "name": "#%%\n"
    }
   },
   "outputs": [],
   "source": [
    "## reseting index\n",
    "mt_df = mt_df.reindex(mt_df.index.repeat(mt_df[\"product_term_length_months\"]))"
   ]
  },
  {
   "cell_type": "code",
   "execution_count": 12,
   "metadata": {
    "pycharm": {
     "name": "#%%\n"
    }
   },
   "outputs": [],
   "source": [
    "## add revenue_month_number\n",
    "mt_df[\"revenue_month_number\"] = mt_df.groupby([\"transaction_id\"]).cumcount() + 1"
   ]
  },
  {
   "cell_type": "code",
   "execution_count": 13,
   "metadata": {
    "pycharm": {
     "name": "#%%\n"
    }
   },
   "outputs": [],
   "source": [
    "## add revenue_month_date\n",
    "mt_df[\"revenue_month_date\"] = mt_df[\"term_start\"].to_numpy().astype(\"datetime64[M]\")\n",
    "mt_df[\"revenue_month_date\"][mt_df[\"type_of_transaction\"] == \"refund\"] = (\n",
    "    mt_df[\"transaction_date\"].to_numpy().astype(\"datetime64[M]\")\n",
    ")\n",
    "\n",
    "mt_df[\"revenue_month_date\"] = mt_df.apply(\n",
    "    lambda x: x[\"revenue_month_date\"]\n",
    "              + pd.offsets.MonthEnd(x[\"revenue_month_number\"])\n",
    "              + pd.offsets.MonthBegin(-1),\n",
    "    axis=1,\n",
    ")\n",
    "\n",
    "## NEW LINE! commenting out as we now have product_service_view.zuya_account_permission available\n",
    "# mt_df[\"product_group_finance\"] = np.nan\n",
    "\n",
    "mt_df[\"product_term_length\"] = mt_df[\"revenue_month_date\"].apply(\n",
    "    lambda t: pd.Period(t, freq=\"S\").days_in_month\n",
    ")\n",
    "\n",
    "mt_df[\"product_term_length\"][mt_df[\"term_start\"] > mt_df[\"revenue_month_date\"]] = (\n",
    "                                                                                          mt_df[\n",
    "                                                                                              \"term_start\"].dt.daysinmonth -\n",
    "                                                                                          mt_df[\"term_start\"].dt.day\n",
    "                                                                                  ) + 1"
   ]
  },
  {
   "cell_type": "code",
   "execution_count": 14,
   "metadata": {
    "pycharm": {
     "name": "#%%\n"
    }
   },
   "outputs": [],
   "source": [
    "## reseting index\n",
    "mt_df.reset_index(drop=True, inplace=True)"
   ]
  },
  {
   "cell_type": "code",
   "execution_count": 15,
   "metadata": {
    "pycharm": {
     "name": "#%%\n"
    }
   },
   "outputs": [],
   "source": [
    "## set active_sub_month_end = 1 by default\n",
    "mt_df[\"active_sub_month_end\"] = 1\n",
    "\n",
    "## get last indices of each transaction_id group\n",
    "last_idxs = (\n",
    "        len(mt_df)\n",
    "        - np.unique(\n",
    "    mt_df.transaction_id.values[::-1],\n",
    "    return_index=1,\n",
    ")[1]\n",
    "        - 1\n",
    ")\n",
    "\n",
    "mt_df[\"active_sub_month_end\"].iloc[last_idxs] = 0\n",
    "\n",
    "## mark all one transaction subscriptions as 1\n",
    "mt_df[\"active_sub_month_end\"][\n",
    "    (mt_df[\"revenue_month_number\"] <= 1) & (mt_df[\"product_term_length_months\"] <= 1)\n",
    "    ] = 1\n",
    "\n",
    "## mark all refund transactions as -1\n",
    "mt_df[\"active_sub_month_end\"][mt_df[\"type_of_transaction\"] == \"refund\"] = -1\n",
    "\n",
    "## mark all subscriptions with only 1 transaction as i\n",
    "mt_df[\"active_sub_month_end\"][mt_df[\"type_of_transaction\"] == \"refund\"] = -1"
   ]
  },
  {
   "cell_type": "code",
   "execution_count": 16,
   "outputs": [],
   "source": [
    "## active_sub_content follows the same logic as active_sub_month_end except it doesn't count the last month\n",
    "mt_df[\"active_sub_content\"] = mt_df.active_sub_month_end\n",
    "\n",
    "mt_df.loc[mt_df.groupby('transaction_id')['active_sub_content'].tail(2).index, 'active_sub_content'] = 0"
   ],
   "metadata": {
    "collapsed": false,
    "pycharm": {
     "name": "#%%\n"
    }
   }
  },
  {
   "cell_type": "code",
   "execution_count": 17,
   "metadata": {
    "pycharm": {
     "name": "#%%\n"
    }
   },
   "outputs": [],
   "source": [
    "## fix last position of product_term_length per transaction_id\n",
    "mt_df[\"product_term_length\"].iloc[last_idxs] = (\n",
    "        mt_df[\"term_end\"].iloc[last_idxs] -\n",
    "        mt_df[\"revenue_month_date\"].iloc[last_idxs]\n",
    ").dt.days"
   ]
  },
  {
   "cell_type": "code",
   "execution_count": 18,
   "metadata": {
    "pycharm": {
     "name": "#%%\n"
    }
   },
   "outputs": [],
   "source": [
    "## TEMP FIX to tackle dynamic term_end for refunds\n",
    "mt_df[\"product_term_length\"][mt_df[\"product_term_length\"] < 0] = 0"
   ]
  },
  {
   "cell_type": "code",
   "execution_count": 19,
   "metadata": {
    "pycharm": {
     "name": "#%%\n"
    }
   },
   "outputs": [],
   "source": [
    "## total_days of product_term_length per transaction_id\n",
    "mt_df[\"total_days\"] = mt_df.groupby(\"transaction_id\")[\"product_term_length\"].transform(\n",
    "    \"sum\"\n",
    ")"
   ]
  },
  {
   "cell_type": "code",
   "execution_count": 20,
   "outputs": [],
   "source": [
    "## get 12mo subs that didn't stay for 12 months for posterior treatment of exception\n",
    "mt_df['max_revenue_month_number'] = mt_df.groupby(['transaction_id'])['revenue_month_number'].transform(max)\n",
    "\n",
    "# mt_df[(mt_df.sku.str.contains('zattoo_web_hiq_swiss_12mo')) & (mt_df.max_revenue_month_number < 13)]"
   ],
   "metadata": {
    "collapsed": false,
    "pycharm": {
     "name": "#%%\n"
    }
   }
  },
  {
   "cell_type": "code",
   "execution_count": 21,
   "outputs": [],
   "source": [
    "## NEW LINE! added on 2022-04-27\n",
    "## product_term_length fix for subscriptions < 31 days (1, 3, 7 days)\n",
    "mt_df['product_term_length'][mt_df.sku.str.contains('day')] = (mt_df.term_end - mt_df.term_start).dt.days"
   ],
   "metadata": {
    "collapsed": false,
    "pycharm": {
     "name": "#%%\n"
    }
   }
  },
  {
   "cell_type": "code",
   "execution_count": 22,
   "outputs": [],
   "source": [
    "trx_lst = mt_df['transaction_id'][(mt_df.sku.str.contains('day')) & (mt_df['revenue_month_number'] > 1)].unique()"
   ],
   "metadata": {
    "collapsed": false,
    "pycharm": {
     "name": "#%%\n"
    }
   }
  },
  {
   "cell_type": "code",
   "execution_count": 23,
   "outputs": [],
   "source": [
    "## total_days fix for subscriptions < 31 days (1, 3, 7 days)\n",
    "mt_df[\"total_days\"][(mt_df.product_term_length != mt_df.total_days) & (mt_df['product_term_length_months'] <= 1)] = mt_df[\"product_term_length\"][\n",
    "    (mt_df.product_term_length != mt_df.total_days) & (mt_df['product_term_length_months'] <= 1)]"
   ],
   "metadata": {
    "collapsed": false,
    "pycharm": {
     "name": "#%%\n"
    }
   }
  },
  {
   "cell_type": "code",
   "execution_count": 24,
   "outputs": [
    {
     "data": {
      "text/plain": "Empty DataFrame\nColumns: [transaction_id, zuid, payment_method, sku, type_of_transaction, country_name, transaction_date, term_start, term_end, product_group_finance, vat_eur, vat_chf, total_booking_net_CHF, total_booking_net_EUR, product_term_length_months, revenue_month_number, revenue_month_date, product_term_length, active_sub_month_end, active_sub_content, total_days, max_revenue_month_number]\nIndex: []",
      "text/html": "<div>\n<style scoped>\n    .dataframe tbody tr th:only-of-type {\n        vertical-align: middle;\n    }\n\n    .dataframe tbody tr th {\n        vertical-align: top;\n    }\n\n    .dataframe thead th {\n        text-align: right;\n    }\n</style>\n<table border=\"1\" class=\"dataframe\">\n  <thead>\n    <tr style=\"text-align: right;\">\n      <th></th>\n      <th>transaction_id</th>\n      <th>zuid</th>\n      <th>payment_method</th>\n      <th>sku</th>\n      <th>type_of_transaction</th>\n      <th>country_name</th>\n      <th>transaction_date</th>\n      <th>term_start</th>\n      <th>term_end</th>\n      <th>product_group_finance</th>\n      <th>vat_eur</th>\n      <th>vat_chf</th>\n      <th>total_booking_net_CHF</th>\n      <th>total_booking_net_EUR</th>\n      <th>product_term_length_months</th>\n      <th>revenue_month_number</th>\n      <th>revenue_month_date</th>\n      <th>product_term_length</th>\n      <th>active_sub_month_end</th>\n      <th>active_sub_content</th>\n      <th>total_days</th>\n      <th>max_revenue_month_number</th>\n    </tr>\n  </thead>\n  <tbody>\n  </tbody>\n</table>\n</div>"
     },
     "execution_count": 24,
     "metadata": {},
     "output_type": "execute_result"
    }
   ],
   "source": [
    "mt_df[mt_df['transaction_id'] == '36062887']"
   ],
   "metadata": {
    "collapsed": false,
    "pycharm": {
     "name": "#%%\n"
    }
   }
  },
  {
   "cell_type": "code",
   "execution_count": 25,
   "metadata": {
    "pycharm": {
     "name": "#%%\n"
    }
   },
   "outputs": [],
   "source": [
    "## calculate total_revenue_net fields\n",
    "mt_df[\"total_revenue_net_EUR\"] = (\n",
    "        mt_df[\"total_booking_net_EUR\"] / mt_df[\"total_days\"] * mt_df[\"product_term_length\"]\n",
    ")\n",
    "\n",
    "mt_df[\"total_revenue_net_CHF\"] = (\n",
    "        mt_df[\"total_booking_net_CHF\"] / mt_df[\"total_days\"] * mt_df[\"product_term_length\"]\n",
    ")\n",
    "\n",
    "## remove total_booking values from all lines of group except first\n",
    "mt_df.loc[\n",
    "    mt_df[\"revenue_month_number\"] > 1,\n",
    "    [\"total_booking_net_CHF\", \"total_booking_net_EUR\"],\n",
    "] = 0.0"
   ]
  },
  {
   "cell_type": "code",
   "execution_count": 26,
   "outputs": [],
   "source": [
    "## remove VAT values from all lines of group except first\n",
    "vat_cols = [\"vat_chf\", \"vat_eur\"]\n",
    "\n",
    "for col in vat_cols:\n",
    "    mt_df.loc[\n",
    "        mt_df[\"revenue_month_number\"] > 1,\n",
    "        [col, \"total_booking_net_EUR\"],\n",
    "    ] = 0.0"
   ],
   "metadata": {
    "collapsed": false,
    "pycharm": {
     "name": "#%%\n"
    }
   }
  },
  {
   "cell_type": "code",
   "execution_count": 27,
   "metadata": {
    "pycharm": {
     "name": "#%%\n"
    }
   },
   "outputs": [],
   "source": [
    "## prepare df_nocalcs for free trials and full discounts\n",
    "mt_df_nocalcs = df[~df[\"type_of_transaction\"].isin(type_trans_lst)].copy()\n",
    "\n",
    "for date in parse_dates:\n",
    "    mt_df_nocalcs[date] = pd.to_datetime(mt_df_nocalcs[date]).dt.tz_convert(None)"
   ]
  },
  {
   "cell_type": "code",
   "execution_count": 28,
   "metadata": {
    "pycharm": {
     "name": "#%%\n"
    }
   },
   "outputs": [],
   "source": [
    "## calculate total_booking_net columns\n",
    "mt_df_nocalcs[\"total_booking_net_CHF\"] = (\n",
    "        mt_df_nocalcs[\"new_booking_net_CHF\"] + mt_df_nocalcs[\"renewal_booking_net_CHF\"]\n",
    ")\n",
    "mt_df_nocalcs[\"total_booking_net_EUR\"] = (\n",
    "        mt_df_nocalcs[\"new_booking_net_EUR\"] + mt_df_nocalcs[\"renewal_booking_net_EUR\"]\n",
    ")"
   ]
  },
  {
   "cell_type": "code",
   "execution_count": 29,
   "outputs": [],
   "source": [
    "## adding vat_percentage to calculate sales_price\n",
    "mt_df['vat_eur_percentage'] = (mt_df['vat_eur'] / mt_df['total_booking_net_EUR']).astype(float, errors='ignore')\n",
    "mt_df['vat_chf_percentage'] = (mt_df['vat_chf'] / mt_df['total_booking_net_CHF']).astype(float, errors='ignore')\n",
    "\n",
    "mt_df['sales_price_eur'] = mt_df['total_booking_net_EUR'] * (\n",
    "        1 + mt_df['vat_eur_percentage'])\n",
    "mt_df['sales_price_chf'] = mt_df['total_booking_net_CHF'] * (\n",
    "        1 + mt_df['vat_chf_percentage'])"
   ],
   "metadata": {
    "collapsed": false,
    "pycharm": {
     "name": "#%%\n"
    }
   }
  },
  {
   "cell_type": "code",
   "execution_count": 30,
   "metadata": {
    "pycharm": {
     "name": "#%%\n"
    }
   },
   "outputs": [],
   "source": [
    "## append dataframes\n",
    "mt_df_final = mt_df.append(mt_df_nocalcs).reset_index(drop=True)\n",
    "\n",
    "## convert revenue_month_date to date\n",
    "mt_df_final[\"revenue_month_date\"] = pd.to_datetime(\n",
    "    mt_df_final[\"revenue_month_date\"]\n",
    ").dt.date"
   ]
  },
  {
   "cell_type": "code",
   "execution_count": 31,
   "outputs": [],
   "source": [
    "## extract list of transaction ids whose subscription float between one month and the other, and are 1, 3 or 7 days (== product_length < 31)\n",
    "trx_lst_more_1month_subs = mt_df['transaction_id'][\n",
    "    (mt_df[\"revenue_month_number\"] > 1) & (mt_df.sku.str.contains('day'))]\n",
    "\n",
    "## this logic makes sure the days are allocated correctly for these very specific subscriptions\n",
    "mt_df['product_term_length'][\n",
    "    (mt_df.transaction_id.isin(trx_lst_more_1month_subs)) & (mt_df.revenue_month_number == 1)] = - (\n",
    "        mt_df.term_start - mt_df.revenue_month_date.shift(1)).dt.days\n",
    "\n",
    "mt_df['product_term_length'][\n",
    "    (mt_df.transaction_id.isin(trx_lst_more_1month_subs)) & (mt_df.revenue_month_number > 1)] = (\n",
    "        mt_df.term_end - mt_df.revenue_month_date).dt.days"
   ],
   "metadata": {
    "collapsed": false,
    "pycharm": {
     "name": "#%%\n"
    }
   }
  },
  {
   "cell_type": "code",
   "execution_count": 32,
   "outputs": [],
   "source": [
    "## fix active_sub_month_end for subscriptions with only 1 revenue month and length < 30 days\n",
    "mt_df['last_day_term_end'] = (pd.to_datetime(mt_df['term_end'], format=\"%d\", unit='d')).dt.day\n",
    "mt_df['last_day_month'] = (pd.to_datetime(mt_df['term_end'], format=\"%d\", unit='d')+ pd.offsets.MonthEnd(n=1)).dt.day\n",
    "\n",
    "mt_df[\"active_sub_month_end\"][mt_df.last_day_term_end < mt_df.last_day_month] = 0"
   ],
   "metadata": {
    "collapsed": false,
    "pycharm": {
     "name": "#%%\n"
    }
   }
  },
  {
   "cell_type": "code",
   "execution_count": 33,
   "outputs": [],
   "source": [
    "## fix those one line transactions that still have wrong product_term_length\n",
    "trx_id_counts = mt_df['transaction_id'].value_counts(sort=False)\n",
    "check_length_mask = mt_df[mt_df['transaction_id'].isin(trx_id_counts.index[trx_id_counts == 1])].index.to_list()\n",
    "\n",
    "mt_df[\"product_term_length\"].loc[check_length_mask] = mt_df['term_end'].dt.day - mt_df.term_start.dt.day"
   ],
   "metadata": {
    "collapsed": false,
    "pycharm": {
     "name": "#%%\n"
    }
   }
  },
  {
   "cell_type": "code",
   "execution_count": 34,
   "outputs": [],
   "source": [
    "## reorder dataframe\n",
    "mt_df = mt_df[\n",
    "    [\n",
    "        \"transaction_id\",\n",
    "        \"zuid\",\n",
    "        \"payment_method\",\n",
    "        \"sku\",\n",
    "        \"type_of_transaction\",\n",
    "        \"country_name\",\n",
    "        \"transaction_date\",\n",
    "        \"total_booking_net_CHF\",\n",
    "        \"total_booking_net_EUR\",\n",
    "        \"vat_chf\",\n",
    "        \"vat_eur\",\n",
    "        \"term_start\",\n",
    "        \"term_end\",\n",
    "        \"product_term_length\",\n",
    "        \"product_term_length_months\",\n",
    "        \"product_group_finance\",\n",
    "        \"revenue_month_number\",\n",
    "        \"revenue_month_date\",\n",
    "        \"total_revenue_net_EUR\",\n",
    "        \"total_revenue_net_CHF\",\n",
    "        \"sales_price_eur\",\n",
    "        \"sales_price_chf\",\n",
    "        \"active_sub_month_end\",\n",
    "    ]\n",
    "]\n",
    "\n",
    "## define BQ table schema\n",
    "bq_schema = [\n",
    "    {\"name\": \"transaction_id\", \"type\": \"STRING\"},\n",
    "    {\"name\": \"zuid\", \"type\": \"INTEGER\"},\n",
    "    {\"name\": \"payment_method\", \"type\": \"STRING\"},\n",
    "    {\"name\": \"sku\", \"type\": \"STRING\"},\n",
    "    {\"name\": \"type_of_transaction\", \"type\": \"STRING\"},\n",
    "    {\"name\": \"transaction_date\", \"type\": \"TIMESTAMP\"},\n",
    "    {\"name\": \"country_name\", \"type\": \"STRING\"},\n",
    "    {\"name\": \"total_booking_net_CHF\", \"type\": \"FLOAT\"},\n",
    "    {\"name\": \"total_booking_net_EUR\", \"type\": \"FLOAT\"},\n",
    "    {\"name\": \"vat_chf\", \"type\": \"FLOAT\"},\n",
    "    {\"name\": \"vat_eur\", \"type\": \"FLOAT\"},\n",
    "    {\"name\": \"term_start\", \"type\": \"TIMESTAMP\"},\n",
    "    {\"name\": \"term_end\", \"type\": \"TIMESTAMP\"},\n",
    "    {\"name\": \"product_term_length\", \"type\": \"INTEGER\"},\n",
    "    {\"name\": \"product_term_length_months\", \"type\": \"INTEGER\"},\n",
    "    {\"name\": \"product_group_finance\", \"type\": \"STRING\"},\n",
    "    {\"name\": \"revenue_month_number\", \"type\": \"INTEGER\"},\n",
    "    {\"name\": \"revenue_month_date\", \"type\": \"DATE\"},\n",
    "    {\"name\": \"total_revenue_net_EUR\", \"type\": \"FLOAT\"},\n",
    "    {\"name\": \"total_revenue_net_CHF\", \"type\": \"FLOAT\"},\n",
    "    {\"name\": \"sales_price_eur\", \"type\": \"FLOAT\"},\n",
    "    {\"name\": \"sales_price_chf\", \"type\": \"FLOAT\"},\n",
    "    {\"name\": \"active_sub_month_end\", \"type\": \"INTEGER\"},\n",
    "]"
   ],
   "metadata": {
    "collapsed": false,
    "pycharm": {
     "name": "#%%\n"
    }
   }
  },
  {
   "cell_type": "code",
   "execution_count": 182,
   "outputs": [],
   "source": [
    "## export to BQ table\n",
    "pandas_gbq.to_gbq(\n",
    "    dataframe=mt_df_final,\n",
    "    destination_table=\"temp.pypayment_v2_amazon_022022\",\n",
    "    project_id=\"zattoo-dataeng\",\n",
    "    if_exists=\"replace\",\n",
    "    progress_bar=None,\n",
    "    table_schema=bq_schema,\n",
    ")"
   ],
   "metadata": {
    "collapsed": false,
    "pycharm": {
     "name": "#%%\n"
    }
   }
  },
  {
   "cell_type": "code",
   "execution_count": 35,
   "outputs": [
    {
     "data": {
      "text/plain": "  transaction_id      zuid payment_method  \\\n0     34833988_4  29807511         amazon   \n1     34833988_4  29807511         amazon   \n2    24139431_15  28567399         amazon   \n3    24139431_15  28567399         amazon   \n4     35623652_2  30295233         amazon   \n\n                                                sku type_of_transaction  \\\n0            zattoo_amazon_firetv_ultimate_austrian             renewal   \n1            zattoo_amazon_firetv_ultimate_austrian             renewal   \n2            zattoo_amazon_firetv_ultimate_austrian             renewal   \n3            zattoo_amazon_firetv_ultimate_austrian             renewal   \n4  zattoo_amazon_firetv_ultimate_austrian_freetrial            new_sale   \n\n  country_name    transaction_date          term_start            term_end  \\\n0      Austria 2022-02-20 09:16:19 2022-02-20 09:16:19 2022-03-23 09:16:18   \n1      Austria 2022-02-20 09:16:19 2022-02-20 09:16:19 2022-03-23 09:16:18   \n2      Austria 2022-02-20 13:25:00 2022-02-20 13:25:00 2022-03-23 13:24:59   \n3      Austria 2022-02-20 13:25:00 2022-02-20 13:25:00 2022-03-23 13:24:59   \n4      Austria 2022-02-20 17:25:51 2022-02-20 17:25:51 2022-03-23 17:25:50   \n\n  product_group_finance   vat_eur   vat_chf  total_booking_net_CHF  \\\n0         base_ultimate  2.998333  3.131579              11.089777   \n1         base_ultimate  0.000000  0.000000               0.000000   \n2         base_ultimate  2.998333  3.131579              11.089777   \n3         base_ultimate  0.000000  0.000000               0.000000   \n4         base_ultimate  2.998333  3.131579              11.089777   \n\n   total_booking_net_EUR  product_term_length_months  revenue_month_number  \\\n0              12.491667                         2.0                   1.0   \n1               0.000000                         2.0                   2.0   \n2              12.491667                         2.0                   1.0   \n3               0.000000                         2.0                   2.0   \n4              12.491667                         2.0                   1.0   \n\n  revenue_month_date  product_term_length  active_sub_month_end  \\\n0         2022-02-01                  9.0                   1.0   \n1         2022-03-01                 22.0                   0.0   \n2         2022-02-01                  9.0                   1.0   \n3         2022-03-01                 22.0                   0.0   \n4         2022-02-01                  9.0                   1.0   \n\n   active_sub_content  total_days  max_revenue_month_number  \\\n0                 0.0        31.0                       2.0   \n1                 0.0        31.0                       2.0   \n2                 0.0        31.0                       2.0   \n3                 0.0        31.0                       2.0   \n4                 0.0        31.0                       2.0   \n\n   total_revenue_net_EUR  total_revenue_net_CHF  vat_eur_percentage  \\\n0               3.626613               3.219613            0.240027   \n1               8.865054               7.870164                 NaN   \n2               3.626613               3.219613            0.240027   \n3               8.865054               7.870164                 NaN   \n4               3.626613               3.219613            0.240027   \n\n   vat_chf_percentage  sales_price_eur  sales_price_chf  new_booking_net_CHF  \\\n0            0.282384            15.49        14.221356                  NaN   \n1                 NaN              NaN              NaN                  NaN   \n2            0.282384            15.49        14.221356                  NaN   \n3                 NaN              NaN              NaN                  NaN   \n4            0.282384            15.49        14.221356                  NaN   \n\n   renewal_booking_net_CHF  new_booking_net_EUR  renewal_booking_net_EUR  \n0                      NaN                  NaN                      NaN  \n1                      NaN                  NaN                      NaN  \n2                      NaN                  NaN                      NaN  \n3                      NaN                  NaN                      NaN  \n4                      NaN                  NaN                      NaN  ",
      "text/html": "<div>\n<style scoped>\n    .dataframe tbody tr th:only-of-type {\n        vertical-align: middle;\n    }\n\n    .dataframe tbody tr th {\n        vertical-align: top;\n    }\n\n    .dataframe thead th {\n        text-align: right;\n    }\n</style>\n<table border=\"1\" class=\"dataframe\">\n  <thead>\n    <tr style=\"text-align: right;\">\n      <th></th>\n      <th>transaction_id</th>\n      <th>zuid</th>\n      <th>payment_method</th>\n      <th>sku</th>\n      <th>type_of_transaction</th>\n      <th>country_name</th>\n      <th>transaction_date</th>\n      <th>term_start</th>\n      <th>term_end</th>\n      <th>product_group_finance</th>\n      <th>vat_eur</th>\n      <th>vat_chf</th>\n      <th>total_booking_net_CHF</th>\n      <th>total_booking_net_EUR</th>\n      <th>product_term_length_months</th>\n      <th>revenue_month_number</th>\n      <th>revenue_month_date</th>\n      <th>product_term_length</th>\n      <th>active_sub_month_end</th>\n      <th>active_sub_content</th>\n      <th>total_days</th>\n      <th>max_revenue_month_number</th>\n      <th>total_revenue_net_EUR</th>\n      <th>total_revenue_net_CHF</th>\n      <th>vat_eur_percentage</th>\n      <th>vat_chf_percentage</th>\n      <th>sales_price_eur</th>\n      <th>sales_price_chf</th>\n      <th>new_booking_net_CHF</th>\n      <th>renewal_booking_net_CHF</th>\n      <th>new_booking_net_EUR</th>\n      <th>renewal_booking_net_EUR</th>\n    </tr>\n  </thead>\n  <tbody>\n    <tr>\n      <th>0</th>\n      <td>34833988_4</td>\n      <td>29807511</td>\n      <td>amazon</td>\n      <td>zattoo_amazon_firetv_ultimate_austrian</td>\n      <td>renewal</td>\n      <td>Austria</td>\n      <td>2022-02-20 09:16:19</td>\n      <td>2022-02-20 09:16:19</td>\n      <td>2022-03-23 09:16:18</td>\n      <td>base_ultimate</td>\n      <td>2.998333</td>\n      <td>3.131579</td>\n      <td>11.089777</td>\n      <td>12.491667</td>\n      <td>2.0</td>\n      <td>1.0</td>\n      <td>2022-02-01</td>\n      <td>9.0</td>\n      <td>1.0</td>\n      <td>0.0</td>\n      <td>31.0</td>\n      <td>2.0</td>\n      <td>3.626613</td>\n      <td>3.219613</td>\n      <td>0.240027</td>\n      <td>0.282384</td>\n      <td>15.49</td>\n      <td>14.221356</td>\n      <td>NaN</td>\n      <td>NaN</td>\n      <td>NaN</td>\n      <td>NaN</td>\n    </tr>\n    <tr>\n      <th>1</th>\n      <td>34833988_4</td>\n      <td>29807511</td>\n      <td>amazon</td>\n      <td>zattoo_amazon_firetv_ultimate_austrian</td>\n      <td>renewal</td>\n      <td>Austria</td>\n      <td>2022-02-20 09:16:19</td>\n      <td>2022-02-20 09:16:19</td>\n      <td>2022-03-23 09:16:18</td>\n      <td>base_ultimate</td>\n      <td>0.000000</td>\n      <td>0.000000</td>\n      <td>0.000000</td>\n      <td>0.000000</td>\n      <td>2.0</td>\n      <td>2.0</td>\n      <td>2022-03-01</td>\n      <td>22.0</td>\n      <td>0.0</td>\n      <td>0.0</td>\n      <td>31.0</td>\n      <td>2.0</td>\n      <td>8.865054</td>\n      <td>7.870164</td>\n      <td>NaN</td>\n      <td>NaN</td>\n      <td>NaN</td>\n      <td>NaN</td>\n      <td>NaN</td>\n      <td>NaN</td>\n      <td>NaN</td>\n      <td>NaN</td>\n    </tr>\n    <tr>\n      <th>2</th>\n      <td>24139431_15</td>\n      <td>28567399</td>\n      <td>amazon</td>\n      <td>zattoo_amazon_firetv_ultimate_austrian</td>\n      <td>renewal</td>\n      <td>Austria</td>\n      <td>2022-02-20 13:25:00</td>\n      <td>2022-02-20 13:25:00</td>\n      <td>2022-03-23 13:24:59</td>\n      <td>base_ultimate</td>\n      <td>2.998333</td>\n      <td>3.131579</td>\n      <td>11.089777</td>\n      <td>12.491667</td>\n      <td>2.0</td>\n      <td>1.0</td>\n      <td>2022-02-01</td>\n      <td>9.0</td>\n      <td>1.0</td>\n      <td>0.0</td>\n      <td>31.0</td>\n      <td>2.0</td>\n      <td>3.626613</td>\n      <td>3.219613</td>\n      <td>0.240027</td>\n      <td>0.282384</td>\n      <td>15.49</td>\n      <td>14.221356</td>\n      <td>NaN</td>\n      <td>NaN</td>\n      <td>NaN</td>\n      <td>NaN</td>\n    </tr>\n    <tr>\n      <th>3</th>\n      <td>24139431_15</td>\n      <td>28567399</td>\n      <td>amazon</td>\n      <td>zattoo_amazon_firetv_ultimate_austrian</td>\n      <td>renewal</td>\n      <td>Austria</td>\n      <td>2022-02-20 13:25:00</td>\n      <td>2022-02-20 13:25:00</td>\n      <td>2022-03-23 13:24:59</td>\n      <td>base_ultimate</td>\n      <td>0.000000</td>\n      <td>0.000000</td>\n      <td>0.000000</td>\n      <td>0.000000</td>\n      <td>2.0</td>\n      <td>2.0</td>\n      <td>2022-03-01</td>\n      <td>22.0</td>\n      <td>0.0</td>\n      <td>0.0</td>\n      <td>31.0</td>\n      <td>2.0</td>\n      <td>8.865054</td>\n      <td>7.870164</td>\n      <td>NaN</td>\n      <td>NaN</td>\n      <td>NaN</td>\n      <td>NaN</td>\n      <td>NaN</td>\n      <td>NaN</td>\n      <td>NaN</td>\n      <td>NaN</td>\n    </tr>\n    <tr>\n      <th>4</th>\n      <td>35623652_2</td>\n      <td>30295233</td>\n      <td>amazon</td>\n      <td>zattoo_amazon_firetv_ultimate_austrian_freetrial</td>\n      <td>new_sale</td>\n      <td>Austria</td>\n      <td>2022-02-20 17:25:51</td>\n      <td>2022-02-20 17:25:51</td>\n      <td>2022-03-23 17:25:50</td>\n      <td>base_ultimate</td>\n      <td>2.998333</td>\n      <td>3.131579</td>\n      <td>11.089777</td>\n      <td>12.491667</td>\n      <td>2.0</td>\n      <td>1.0</td>\n      <td>2022-02-01</td>\n      <td>9.0</td>\n      <td>1.0</td>\n      <td>0.0</td>\n      <td>31.0</td>\n      <td>2.0</td>\n      <td>3.626613</td>\n      <td>3.219613</td>\n      <td>0.240027</td>\n      <td>0.282384</td>\n      <td>15.49</td>\n      <td>14.221356</td>\n      <td>NaN</td>\n      <td>NaN</td>\n      <td>NaN</td>\n      <td>NaN</td>\n    </tr>\n  </tbody>\n</table>\n</div>"
     },
     "execution_count": 35,
     "metadata": {},
     "output_type": "execute_result"
    }
   ],
   "source": [
    "mt_df_final.head()"
   ],
   "metadata": {
    "collapsed": false,
    "pycharm": {
     "name": "#%%\n"
    }
   }
  },
  {
   "cell_type": "code",
   "execution_count": 183,
   "outputs": [],
   "source": [
    "## export to csv\n",
    "path = r\"/Users/miguelcouto/Desktop/\"\n",
    "\n",
    "mt_df_final.to_csv(os.path.join(path, r\"pypayment_v2_amazon_022022.csv\"))"
   ],
   "metadata": {
    "collapsed": false,
    "pycharm": {
     "name": "#%%\n"
    }
   }
  },
  {
   "cell_type": "code",
   "execution_count": 37,
   "outputs": [
    {
     "data": {
      "text/plain": "     transaction_id     zuid payment_method                        sku  \\\n5296       36948491  3348617    credit_card  zattoo_web_hiq_swiss_12mo   \n5297       36948491  3348617    credit_card  zattoo_web_hiq_swiss_12mo   \n5298       36948491  3348617    credit_card  zattoo_web_hiq_swiss_12mo   \n5299       36948491  3348617    credit_card  zattoo_web_hiq_swiss_12mo   \n5300       36948491  3348617    credit_card  zattoo_web_hiq_swiss_12mo   \n5301       36948491  3348617    credit_card  zattoo_web_hiq_swiss_12mo   \n5302       36948491  3348617    credit_card  zattoo_web_hiq_swiss_12mo   \n5303       36948491  3348617    credit_card  zattoo_web_hiq_swiss_12mo   \n5304       36948491  3348617    credit_card  zattoo_web_hiq_swiss_12mo   \n5305       36948491  3348617    credit_card  zattoo_web_hiq_swiss_12mo   \n5306       36948491  3348617    credit_card  zattoo_web_hiq_swiss_12mo   \n5307       36948491  3348617    credit_card  zattoo_web_hiq_swiss_12mo   \n5308       36948491  3348617    credit_card  zattoo_web_hiq_swiss_12mo   \n\n     type_of_transaction country_name    transaction_date  \\\n5296            new_sale  Switzerland 2022-05-13 17:06:52   \n5297            new_sale  Switzerland 2022-05-13 17:06:52   \n5298            new_sale  Switzerland 2022-05-13 17:06:52   \n5299            new_sale  Switzerland 2022-05-13 17:06:52   \n5300            new_sale  Switzerland 2022-05-13 17:06:52   \n5301            new_sale  Switzerland 2022-05-13 17:06:52   \n5302            new_sale  Switzerland 2022-05-13 17:06:52   \n5303            new_sale  Switzerland 2022-05-13 17:06:52   \n5304            new_sale  Switzerland 2022-05-13 17:06:52   \n5305            new_sale  Switzerland 2022-05-13 17:06:52   \n5306            new_sale  Switzerland 2022-05-13 17:06:52   \n5307            new_sale  Switzerland 2022-05-13 17:06:52   \n5308            new_sale  Switzerland 2022-05-13 17:06:52   \n\n      total_booking_net_CHF  total_booking_net_EUR   vat_chf   vat_eur  \\\n5296             111.420613             107.532247  8.579387  8.279983   \n5297               0.000000               0.000000  0.000000  0.000000   \n5298               0.000000               0.000000  0.000000  0.000000   \n5299               0.000000               0.000000  0.000000  0.000000   \n5300               0.000000               0.000000  0.000000  0.000000   \n5301               0.000000               0.000000  0.000000  0.000000   \n5302               0.000000               0.000000  0.000000  0.000000   \n5303               0.000000               0.000000  0.000000  0.000000   \n5304               0.000000               0.000000  0.000000  0.000000   \n5305               0.000000               0.000000  0.000000  0.000000   \n5306               0.000000               0.000000  0.000000  0.000000   \n5307               0.000000               0.000000  0.000000  0.000000   \n5308               0.000000               0.000000  0.000000  0.000000   \n\n              term_start            term_end  product_term_length  \\\n5296 2022-05-13 17:06:52 2023-05-13 17:06:52                   19   \n5297 2022-05-13 17:06:52 2023-05-13 17:06:52                   30   \n5298 2022-05-13 17:06:52 2023-05-13 17:06:52                   31   \n5299 2022-05-13 17:06:52 2023-05-13 17:06:52                   31   \n5300 2022-05-13 17:06:52 2023-05-13 17:06:52                   30   \n5301 2022-05-13 17:06:52 2023-05-13 17:06:52                   31   \n5302 2022-05-13 17:06:52 2023-05-13 17:06:52                   30   \n5303 2022-05-13 17:06:52 2023-05-13 17:06:52                   31   \n5304 2022-05-13 17:06:52 2023-05-13 17:06:52                   31   \n5305 2022-05-13 17:06:52 2023-05-13 17:06:52                   28   \n5306 2022-05-13 17:06:52 2023-05-13 17:06:52                   31   \n5307 2022-05-13 17:06:52 2023-05-13 17:06:52                   30   \n5308 2022-05-13 17:06:52 2023-05-13 17:06:52                   12   \n\n      product_term_length_months product_group_finance  revenue_month_number  \\\n5296                          13              base_hiq                     1   \n5297                          13              base_hiq                     2   \n5298                          13              base_hiq                     3   \n5299                          13              base_hiq                     4   \n5300                          13              base_hiq                     5   \n5301                          13              base_hiq                     6   \n5302                          13              base_hiq                     7   \n5303                          13              base_hiq                     8   \n5304                          13              base_hiq                     9   \n5305                          13              base_hiq                    10   \n5306                          13              base_hiq                    11   \n5307                          13              base_hiq                    12   \n5308                          13              base_hiq                    13   \n\n     revenue_month_date  total_revenue_net_EUR  total_revenue_net_CHF  \\\n5296         2022-05-01               5.597569               5.799977   \n5297         2022-06-01               8.838267               9.157859   \n5298         2022-07-01               9.132876               9.463121   \n5299         2022-08-01               9.132876               9.463121   \n5300         2022-09-01               8.838267               9.157859   \n5301         2022-10-01               9.132876               9.463121   \n5302         2022-11-01               8.838267               9.157859   \n5303         2022-12-01               9.132876               9.463121   \n5304         2023-01-01               9.132876               9.463121   \n5305         2023-02-01               8.249049               8.547335   \n5306         2023-03-01               9.132876               9.463121   \n5307         2023-04-01               8.838267               9.157859   \n5308         2023-05-01               3.535307               3.663143   \n\n      sales_price_eur  sales_price_chf  active_sub_month_end  \n5296        115.81223            120.0                     0  \n5297              NaN              NaN                     0  \n5298              NaN              NaN                     0  \n5299              NaN              NaN                     0  \n5300              NaN              NaN                     0  \n5301              NaN              NaN                     0  \n5302              NaN              NaN                     0  \n5303              NaN              NaN                     0  \n5304              NaN              NaN                     0  \n5305              NaN              NaN                     0  \n5306              NaN              NaN                     0  \n5307              NaN              NaN                     0  \n5308              NaN              NaN                     0  ",
      "text/html": "<div>\n<style scoped>\n    .dataframe tbody tr th:only-of-type {\n        vertical-align: middle;\n    }\n\n    .dataframe tbody tr th {\n        vertical-align: top;\n    }\n\n    .dataframe thead th {\n        text-align: right;\n    }\n</style>\n<table border=\"1\" class=\"dataframe\">\n  <thead>\n    <tr style=\"text-align: right;\">\n      <th></th>\n      <th>transaction_id</th>\n      <th>zuid</th>\n      <th>payment_method</th>\n      <th>sku</th>\n      <th>type_of_transaction</th>\n      <th>country_name</th>\n      <th>transaction_date</th>\n      <th>total_booking_net_CHF</th>\n      <th>total_booking_net_EUR</th>\n      <th>vat_chf</th>\n      <th>vat_eur</th>\n      <th>term_start</th>\n      <th>term_end</th>\n      <th>product_term_length</th>\n      <th>product_term_length_months</th>\n      <th>product_group_finance</th>\n      <th>revenue_month_number</th>\n      <th>revenue_month_date</th>\n      <th>total_revenue_net_EUR</th>\n      <th>total_revenue_net_CHF</th>\n      <th>sales_price_eur</th>\n      <th>sales_price_chf</th>\n      <th>active_sub_month_end</th>\n    </tr>\n  </thead>\n  <tbody>\n    <tr>\n      <th>5296</th>\n      <td>36948491</td>\n      <td>3348617</td>\n      <td>credit_card</td>\n      <td>zattoo_web_hiq_swiss_12mo</td>\n      <td>new_sale</td>\n      <td>Switzerland</td>\n      <td>2022-05-13 17:06:52</td>\n      <td>111.420613</td>\n      <td>107.532247</td>\n      <td>8.579387</td>\n      <td>8.279983</td>\n      <td>2022-05-13 17:06:52</td>\n      <td>2023-05-13 17:06:52</td>\n      <td>19</td>\n      <td>13</td>\n      <td>base_hiq</td>\n      <td>1</td>\n      <td>2022-05-01</td>\n      <td>5.597569</td>\n      <td>5.799977</td>\n      <td>115.81223</td>\n      <td>120.0</td>\n      <td>0</td>\n    </tr>\n    <tr>\n      <th>5297</th>\n      <td>36948491</td>\n      <td>3348617</td>\n      <td>credit_card</td>\n      <td>zattoo_web_hiq_swiss_12mo</td>\n      <td>new_sale</td>\n      <td>Switzerland</td>\n      <td>2022-05-13 17:06:52</td>\n      <td>0.000000</td>\n      <td>0.000000</td>\n      <td>0.000000</td>\n      <td>0.000000</td>\n      <td>2022-05-13 17:06:52</td>\n      <td>2023-05-13 17:06:52</td>\n      <td>30</td>\n      <td>13</td>\n      <td>base_hiq</td>\n      <td>2</td>\n      <td>2022-06-01</td>\n      <td>8.838267</td>\n      <td>9.157859</td>\n      <td>NaN</td>\n      <td>NaN</td>\n      <td>0</td>\n    </tr>\n    <tr>\n      <th>5298</th>\n      <td>36948491</td>\n      <td>3348617</td>\n      <td>credit_card</td>\n      <td>zattoo_web_hiq_swiss_12mo</td>\n      <td>new_sale</td>\n      <td>Switzerland</td>\n      <td>2022-05-13 17:06:52</td>\n      <td>0.000000</td>\n      <td>0.000000</td>\n      <td>0.000000</td>\n      <td>0.000000</td>\n      <td>2022-05-13 17:06:52</td>\n      <td>2023-05-13 17:06:52</td>\n      <td>31</td>\n      <td>13</td>\n      <td>base_hiq</td>\n      <td>3</td>\n      <td>2022-07-01</td>\n      <td>9.132876</td>\n      <td>9.463121</td>\n      <td>NaN</td>\n      <td>NaN</td>\n      <td>0</td>\n    </tr>\n    <tr>\n      <th>5299</th>\n      <td>36948491</td>\n      <td>3348617</td>\n      <td>credit_card</td>\n      <td>zattoo_web_hiq_swiss_12mo</td>\n      <td>new_sale</td>\n      <td>Switzerland</td>\n      <td>2022-05-13 17:06:52</td>\n      <td>0.000000</td>\n      <td>0.000000</td>\n      <td>0.000000</td>\n      <td>0.000000</td>\n      <td>2022-05-13 17:06:52</td>\n      <td>2023-05-13 17:06:52</td>\n      <td>31</td>\n      <td>13</td>\n      <td>base_hiq</td>\n      <td>4</td>\n      <td>2022-08-01</td>\n      <td>9.132876</td>\n      <td>9.463121</td>\n      <td>NaN</td>\n      <td>NaN</td>\n      <td>0</td>\n    </tr>\n    <tr>\n      <th>5300</th>\n      <td>36948491</td>\n      <td>3348617</td>\n      <td>credit_card</td>\n      <td>zattoo_web_hiq_swiss_12mo</td>\n      <td>new_sale</td>\n      <td>Switzerland</td>\n      <td>2022-05-13 17:06:52</td>\n      <td>0.000000</td>\n      <td>0.000000</td>\n      <td>0.000000</td>\n      <td>0.000000</td>\n      <td>2022-05-13 17:06:52</td>\n      <td>2023-05-13 17:06:52</td>\n      <td>30</td>\n      <td>13</td>\n      <td>base_hiq</td>\n      <td>5</td>\n      <td>2022-09-01</td>\n      <td>8.838267</td>\n      <td>9.157859</td>\n      <td>NaN</td>\n      <td>NaN</td>\n      <td>0</td>\n    </tr>\n    <tr>\n      <th>5301</th>\n      <td>36948491</td>\n      <td>3348617</td>\n      <td>credit_card</td>\n      <td>zattoo_web_hiq_swiss_12mo</td>\n      <td>new_sale</td>\n      <td>Switzerland</td>\n      <td>2022-05-13 17:06:52</td>\n      <td>0.000000</td>\n      <td>0.000000</td>\n      <td>0.000000</td>\n      <td>0.000000</td>\n      <td>2022-05-13 17:06:52</td>\n      <td>2023-05-13 17:06:52</td>\n      <td>31</td>\n      <td>13</td>\n      <td>base_hiq</td>\n      <td>6</td>\n      <td>2022-10-01</td>\n      <td>9.132876</td>\n      <td>9.463121</td>\n      <td>NaN</td>\n      <td>NaN</td>\n      <td>0</td>\n    </tr>\n    <tr>\n      <th>5302</th>\n      <td>36948491</td>\n      <td>3348617</td>\n      <td>credit_card</td>\n      <td>zattoo_web_hiq_swiss_12mo</td>\n      <td>new_sale</td>\n      <td>Switzerland</td>\n      <td>2022-05-13 17:06:52</td>\n      <td>0.000000</td>\n      <td>0.000000</td>\n      <td>0.000000</td>\n      <td>0.000000</td>\n      <td>2022-05-13 17:06:52</td>\n      <td>2023-05-13 17:06:52</td>\n      <td>30</td>\n      <td>13</td>\n      <td>base_hiq</td>\n      <td>7</td>\n      <td>2022-11-01</td>\n      <td>8.838267</td>\n      <td>9.157859</td>\n      <td>NaN</td>\n      <td>NaN</td>\n      <td>0</td>\n    </tr>\n    <tr>\n      <th>5303</th>\n      <td>36948491</td>\n      <td>3348617</td>\n      <td>credit_card</td>\n      <td>zattoo_web_hiq_swiss_12mo</td>\n      <td>new_sale</td>\n      <td>Switzerland</td>\n      <td>2022-05-13 17:06:52</td>\n      <td>0.000000</td>\n      <td>0.000000</td>\n      <td>0.000000</td>\n      <td>0.000000</td>\n      <td>2022-05-13 17:06:52</td>\n      <td>2023-05-13 17:06:52</td>\n      <td>31</td>\n      <td>13</td>\n      <td>base_hiq</td>\n      <td>8</td>\n      <td>2022-12-01</td>\n      <td>9.132876</td>\n      <td>9.463121</td>\n      <td>NaN</td>\n      <td>NaN</td>\n      <td>0</td>\n    </tr>\n    <tr>\n      <th>5304</th>\n      <td>36948491</td>\n      <td>3348617</td>\n      <td>credit_card</td>\n      <td>zattoo_web_hiq_swiss_12mo</td>\n      <td>new_sale</td>\n      <td>Switzerland</td>\n      <td>2022-05-13 17:06:52</td>\n      <td>0.000000</td>\n      <td>0.000000</td>\n      <td>0.000000</td>\n      <td>0.000000</td>\n      <td>2022-05-13 17:06:52</td>\n      <td>2023-05-13 17:06:52</td>\n      <td>31</td>\n      <td>13</td>\n      <td>base_hiq</td>\n      <td>9</td>\n      <td>2023-01-01</td>\n      <td>9.132876</td>\n      <td>9.463121</td>\n      <td>NaN</td>\n      <td>NaN</td>\n      <td>0</td>\n    </tr>\n    <tr>\n      <th>5305</th>\n      <td>36948491</td>\n      <td>3348617</td>\n      <td>credit_card</td>\n      <td>zattoo_web_hiq_swiss_12mo</td>\n      <td>new_sale</td>\n      <td>Switzerland</td>\n      <td>2022-05-13 17:06:52</td>\n      <td>0.000000</td>\n      <td>0.000000</td>\n      <td>0.000000</td>\n      <td>0.000000</td>\n      <td>2022-05-13 17:06:52</td>\n      <td>2023-05-13 17:06:52</td>\n      <td>28</td>\n      <td>13</td>\n      <td>base_hiq</td>\n      <td>10</td>\n      <td>2023-02-01</td>\n      <td>8.249049</td>\n      <td>8.547335</td>\n      <td>NaN</td>\n      <td>NaN</td>\n      <td>0</td>\n    </tr>\n    <tr>\n      <th>5306</th>\n      <td>36948491</td>\n      <td>3348617</td>\n      <td>credit_card</td>\n      <td>zattoo_web_hiq_swiss_12mo</td>\n      <td>new_sale</td>\n      <td>Switzerland</td>\n      <td>2022-05-13 17:06:52</td>\n      <td>0.000000</td>\n      <td>0.000000</td>\n      <td>0.000000</td>\n      <td>0.000000</td>\n      <td>2022-05-13 17:06:52</td>\n      <td>2023-05-13 17:06:52</td>\n      <td>31</td>\n      <td>13</td>\n      <td>base_hiq</td>\n      <td>11</td>\n      <td>2023-03-01</td>\n      <td>9.132876</td>\n      <td>9.463121</td>\n      <td>NaN</td>\n      <td>NaN</td>\n      <td>0</td>\n    </tr>\n    <tr>\n      <th>5307</th>\n      <td>36948491</td>\n      <td>3348617</td>\n      <td>credit_card</td>\n      <td>zattoo_web_hiq_swiss_12mo</td>\n      <td>new_sale</td>\n      <td>Switzerland</td>\n      <td>2022-05-13 17:06:52</td>\n      <td>0.000000</td>\n      <td>0.000000</td>\n      <td>0.000000</td>\n      <td>0.000000</td>\n      <td>2022-05-13 17:06:52</td>\n      <td>2023-05-13 17:06:52</td>\n      <td>30</td>\n      <td>13</td>\n      <td>base_hiq</td>\n      <td>12</td>\n      <td>2023-04-01</td>\n      <td>8.838267</td>\n      <td>9.157859</td>\n      <td>NaN</td>\n      <td>NaN</td>\n      <td>0</td>\n    </tr>\n    <tr>\n      <th>5308</th>\n      <td>36948491</td>\n      <td>3348617</td>\n      <td>credit_card</td>\n      <td>zattoo_web_hiq_swiss_12mo</td>\n      <td>new_sale</td>\n      <td>Switzerland</td>\n      <td>2022-05-13 17:06:52</td>\n      <td>0.000000</td>\n      <td>0.000000</td>\n      <td>0.000000</td>\n      <td>0.000000</td>\n      <td>2022-05-13 17:06:52</td>\n      <td>2023-05-13 17:06:52</td>\n      <td>12</td>\n      <td>13</td>\n      <td>base_hiq</td>\n      <td>13</td>\n      <td>2023-05-01</td>\n      <td>3.535307</td>\n      <td>3.663143</td>\n      <td>NaN</td>\n      <td>NaN</td>\n      <td>0</td>\n    </tr>\n  </tbody>\n</table>\n</div>"
     },
     "execution_count": 37,
     "metadata": {},
     "output_type": "execute_result"
    }
   ],
   "source": [
    "mt_df[(mt_df.sku.str.contains('zattoo_web_hiq_swiss_12mo')) & (mt_df.transaction_id == '36948491')]"
   ],
   "metadata": {
    "collapsed": false,
    "pycharm": {
     "name": "#%%\n"
    }
   }
  }
 ],
 "metadata": {
  "kernelspec": {
   "display_name": "Python 3",
   "language": "python",
   "name": "python3"
  },
  "language_info": {
   "codemirror_mode": {
    "name": "ipython",
    "version": 3
   },
   "file_extension": ".py",
   "mimetype": "text/x-python",
   "name": "python",
   "nbconvert_exporter": "python",
   "pygments_lexer": "ipython3",
   "version": "3.9.4"
  }
 },
 "nbformat": 4,
 "nbformat_minor": 4
}
{
 "cells": [
  {
   "cell_type": "code",
   "execution_count": 1,
   "outputs": [],
   "source": [
    "#%load_ext lab_black"
   ],
   "metadata": {
    "collapsed": false,
    "pycharm": {
     "name": "#%%\n"
    }
   }
  },
  {
   "cell_type": "code",
   "execution_count": 2,
   "outputs": [],
   "source": [
    "## Importing all needed libraries and modules\n",
    "## Setting up BigQuery access credentials for SQL parsing of reporting data\n",
    "from google.cloud import bigquery\n",
    "from google.oauth2 import service_account\n",
    "import pandas_gbq\n",
    "import pandas as pd\n",
    "import numpy as np\n",
    "import os\n",
    "import warnings\n",
    "import datetime\n",
    "\n",
    "pd.set_option('display.max_columns', None)\n",
    "warnings.filterwarnings('ignore')\n",
    "\n",
    "credentials = service_account.Credentials.from_service_account_file(\n",
    "    \"/Users/miguelcouto/Downloads/zattoo-dataeng-e5f45785174f.json\"\n",
    ")\n",
    "\n",
    "project_id = \"zattoo-dataeng\"\n",
    "client = bigquery.Client(credentials=credentials, project=project_id)"
   ],
   "metadata": {
    "collapsed": false,
    "pycharm": {
     "name": "#%%\n"
    }
   }
  },
  {
   "cell_type": "code",
   "execution_count": 3,
   "outputs": [],
   "source": [
    "## Prepare dataframe\n",
    "## Amazon data is very poor and will require a lot of transformations and the code will include Finance logic\n",
    "reporting_df = pd.read_csv('/Users/miguelcouto/PycharmProjects/pypayment_v2/raw/wholesale/2022-03_wholesale.csv')\n",
    "\n",
    "reporting_month = reporting_df['reporting_month'].unique()\n",
    "\n",
    "reporting_df['buyer_country_code'] = reporting_df['country_code']\n",
    "\n",
    "reporting_df.replace(np.nan, 0, inplace=True)"
   ],
   "metadata": {
    "collapsed": false,
    "pycharm": {
     "name": "#%%\n"
    }
   }
  },
  {
   "cell_type": "code",
   "execution_count": 4,
   "outputs": [],
   "source": [
    "## Reorder dataframe\n",
    "reporting_df = reporting_df[\n",
    "    [\n",
    "        'transaction_id',\n",
    "        'transaction_date',\n",
    "        'term_end',\n",
    "        'reporting_month',\n",
    "        'country_name',\n",
    "        'country_code',\n",
    "        'buyer_country_code',\n",
    "        'currency',\n",
    "        'sku',\n",
    "        'subscription_status',\n",
    "        'type_of_transaction',\n",
    "        'payment_method',\n",
    "        'product_class',\n",
    "        'product_group_finance',\n",
    "        'product_length',\n",
    "        'product_length_months',\n",
    "        'product_term_length',\n",
    "        'domestic_abroad',\n",
    "        'vat_percentage',\n",
    "        'exchange_rate_eur_to_chf',\n",
    "        'store_fees_eur',\n",
    "        'store_fees_chf',\n",
    "        'store_fees_percentage',\n",
    "        'units',\n",
    "        'charge_eur',\n",
    "        'sales_price_eur',\n",
    "        'fee_eur',\n",
    "        'vat_eur',\n",
    "        'new_booking_net_eur',\n",
    "        'renewal_booking_net_eur',\n",
    "        'payout_eur',\n",
    "        'total_revenue_net_eur',\n",
    "        'charge_chf',\n",
    "        'sales_price_chf',\n",
    "        'fee_chf',\n",
    "        'vat_chf',\n",
    "        'new_booking_net_chf',\n",
    "        'renewal_booking_net_chf',\n",
    "        'payout_chf',\n",
    "        'total_revenue_net_chf',\n",
    "        'revenue_month_number',\n",
    "        'revenue_month_date',\n",
    "        'active_sub_month_end',\n",
    "        'active_sub_content'\n",
    "    ]\n",
    "]\n",
    "\n",
    "## Define BQ table schema\n",
    "bq_schema = [\n",
    "    {\"name\": \"transaction_id\", \"type\": \"STRING\"},\n",
    "    {\"name\": \"transaction_date\", \"type\": \"TIMESTAMP\"},\n",
    "    {\"name\": \"term_end\", \"type\": \"TIMESTAMP\"},\n",
    "    {\"name\": \"reporting_month\", \"type\": \"STRING\"},\n",
    "    {\"name\": \"country_name\", \"type\": \"STRING\"},\n",
    "    {\"name\": \"country_code\", \"type\": \"STRING\"},\n",
    "    {\"name\": \"buyer_country_code\", \"type\": \"STRING\"},\n",
    "    {\"name\": \"currency\", \"type\": \"STRING\"},\n",
    "    {\"name\": \"sku\", \"type\": \"STRING\"},\n",
    "    {\"name\": \"subscription_status\", \"type\": \"STRING\"},\n",
    "    {\"name\": \"type_of_transaction\", \"type\": \"STRING\"},\n",
    "    {\"name\": \"payment_method\", \"type\": \"STRING\"},\n",
    "    {\"name\": \"product_class\", \"type\": \"STRING\"},\n",
    "    {\"name\": \"product_group_finance\", \"type\": \"STRING\"},\n",
    "    {\"name\": \"product_length\", \"type\": \"INTEGER\"},\n",
    "    {\"name\": \"product_length_months\", \"type\": \"INTEGER\"},\n",
    "    {\"name\": \"product_term_length\", \"type\": \"INTEGER\"},\n",
    "    {\"name\": \"domestic_abroad\", \"type\": \"STRING\"},\n",
    "    {\"name\": \"vat_percentage\", \"type\": \"FLOAT\"},\n",
    "    {\"name\": \"exchange_rate_eur_to_chf\", \"type\": \"FLOAT\"},\n",
    "    {\"name\": \"store_fees_eur\", \"type\": \"INTEGER\"},\n",
    "    {\"name\": \"store_fees_chf\", \"type\": \"INTEGER\"},\n",
    "    {\"name\": \"store_fees_percentage\", \"type\": \"INTEGER\"},\n",
    "    {\"name\": \"units\", \"type\": \"INTEGER\"},\n",
    "    {\"name\": \"charge_eur\", \"type\": \"FLOAT\"},\n",
    "    {\"name\": \"sales_price_eur\", \"type\": \"FLOAT\"},\n",
    "    {\"name\": \"fee_eur\", \"type\": \"FLOAT\"},\n",
    "    {\"name\": \"vat_eur\", \"type\": \"FLOAT\"},\n",
    "    {\"name\": \"new_booking_net_eur\", \"type\": \"FLOAT\"},\n",
    "    {\"name\": \"renewal_booking_net_eur\", \"type\": \"FLOAT\"},\n",
    "    {\"name\": \"payout_eur\", \"type\": \"FLOAT\"},\n",
    "    {\"name\": \"total_revenue_net_eur\", \"type\": \"FLOAT\"},\n",
    "    {\"name\": \"charge_chf\", \"type\": \"FLOAT\"},\n",
    "    {\"name\": \"sales_price_chf\", \"type\": \"FLOAT\"},\n",
    "    {\"name\": \"fee_chf\", \"type\": \"FLOAT\"},\n",
    "    {\"name\": \"vat_chf\", \"type\": \"FLOAT\"},\n",
    "    {\"name\": \"new_booking_net_chf\", \"type\": \"FLOAT\"},\n",
    "    {\"name\": \"renewal_booking_net_chf\", \"type\": \"FLOAT\"},\n",
    "    {\"name\": \"payout_chf\", \"type\": \"FLOAT\"},\n",
    "    {\"name\": \"total_revenue_net_chf\", \"type\": \"FLOAT\"},\n",
    "    {\"name\": \"revenue_month_number\", \"type\": \"INTEGER\"},\n",
    "    {\"name\": \"revenue_month_date\", \"type\": \"TIMESTAMP\"},\n",
    "    {\"name\": \"active_sub_month_end\", \"type\": \"INTEGER\"},\n",
    "    {\"name\": \"active_sub_content\", \"type\": \"INTEGER\"}\n",
    "]"
   ],
   "metadata": {
    "collapsed": false,
    "pycharm": {
     "name": "#%%\n"
    }
   }
  },
  {
   "cell_type": "code",
   "execution_count": 5,
   "outputs": [],
   "source": [
    "## Export to BQ table\n",
    "pandas_gbq.to_gbq(\n",
    "    dataframe=reporting_df,\n",
    "    destination_table=f\"finance.subs_reporting_wholesale{reporting_month[0].replace('-', '')}\",\n",
    "    project_id=\"zattoo-dataeng\",\n",
    "    if_exists=\"replace\",\n",
    "    progress_bar=None,\n",
    "    table_schema=bq_schema,\n",
    ")"
   ],
   "metadata": {
    "collapsed": false,
    "pycharm": {
     "name": "#%%\n"
    }
   }
  }
 ],
 "metadata": {
  "kernelspec": {
   "display_name": "Python 3",
   "language": "python",
   "name": "python3"
  },
  "language_info": {
   "codemirror_mode": {
    "name": "ipython",
    "version": 3
   },
   "file_extension": ".py",
   "mimetype": "text/x-python",
   "name": "python",
   "nbconvert_exporter": "python",
   "pygments_lexer": "ipython3",
   "version": "3.9.4"
  }
 },
 "nbformat": 4,
 "nbformat_minor": 4
}
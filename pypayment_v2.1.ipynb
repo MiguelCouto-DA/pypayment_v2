{
 "cells": [
  {
   "cell_type": "code",
   "execution_count": 919,
   "outputs": [],
   "source": [
    "#%load_ext lab_black"
   ],
   "metadata": {
    "collapsed": false,
    "pycharm": {
     "name": "#%%\n"
    }
   }
  },
  {
   "cell_type": "code",
   "execution_count": 920,
   "outputs": [],
   "source": [
    "from google.cloud import bigquery\n",
    "from google.oauth2 import service_account\n",
    "import pandas_gbq\n",
    "import pandas as pd\n",
    "import numpy as np\n",
    "import os\n",
    "import warnings\n",
    "\n",
    "pd.set_option('display.max_columns', None)\n",
    "warnings.filterwarnings('ignore')\n",
    "\n",
    "credentials = service_account.Credentials.from_service_account_file(\n",
    "    \"/Users/miguelcouto/Downloads/zattoo-dataeng-e5f45785174f.json\"\n",
    ")\n",
    "\n",
    "project_id = \"zattoo-dataeng\"\n",
    "client = bigquery.Client(credentials=credentials, project=project_id)"
   ],
   "metadata": {
    "collapsed": false,
    "pycharm": {
     "name": "#%%\n"
    }
   }
  },
  {
   "cell_type": "code",
   "execution_count": 921,
   "metadata": {
    "pycharm": {
     "name": "#%%\n"
    }
   },
   "outputs": [],
   "source": [
    "sql_calcs = \"\"\"\n",
    "select mt.transaction_id,\n",
    "       mt.zuid,\n",
    "       mt.payment_method,\n",
    "       mt.sku,\n",
    "       mt.type_of_transaction,\n",
    "       case\n",
    "           when mt.country_name = 'Germany' then 'Germany'\n",
    "           when mt.country_name = 'Austria' then 'Austria'\n",
    "           else 'Switzerland' end as country_name,\n",
    "       mt.new_booking_net_CHF,\n",
    "       mt.renewal_booking_net_CHF,\n",
    "       mt.new_booking_net_EUR,\n",
    "       mt.renewal_booking_net_EUR,\n",
    "       mt.transaction_date,\n",
    "       mt.term_start,\n",
    "       mt.term_end,\n",
    "       product_service_view.zuya_account_permission as product_group_finance,\n",
    "       mt.vat_eur,\n",
    "       mt.vat_chf\n",
    "from b2c_middleware.middlelayer_transactions mt\n",
    "         LEFT JOIN b2c_middleware_import.product_product_view AS product_product_view\n",
    "                   ON mt.sku = product_product_view.sku\n",
    "                       AND DATE(mt.transaction_date) = product_product_view.inserted_at_date\n",
    "         LEFT JOIN b2c_middleware_import.product_subscriptionproduct_view AS product_subscriptionproduct_view\n",
    "                   ON product_product_view.id = product_subscriptionproduct_view.id\n",
    "                       AND\n",
    "                      product_product_view.inserted_at_date = product_subscriptionproduct_view.inserted_at_date\n",
    "         LEFT JOIN b2c_middleware_import.product_offer_view AS product_offer_view\n",
    "                   ON product_subscriptionproduct_view.offer_id = product_offer_view.id\n",
    "                       AND product_subscriptionproduct_view.inserted_at_date = product_offer_view.inserted_at_date\n",
    "         LEFT JOIN b2c_middleware_import.product_service_view AS product_service_view\n",
    "                   ON product_offer_view.service_id = product_service_view.id\n",
    "                       AND product_offer_view.inserted_at_date = product_service_view.inserted_at_date\n",
    "where true\n",
    "  and mt.app_shop_id = 'datatrans'\n",
    "  and mt.transaction_date >= '2022-02-01 00:00:00'\n",
    "  and mt.transaction_date <= '2022-02-28 23:59:59'\n",
    "-- NEW LINE! added on 2022-04-27\n",
    "  and mt.type_of_transaction != 'refund'\n",
    "           \"\"\""
   ]
  },
  {
   "cell_type": "code",
   "execution_count": 922,
   "outputs": [],
   "source": [
    "## prepare dataframe\n",
    "df = pandas_gbq.read_gbq(sql_calcs, project_id=project_id, progress_bar_type=None)\n",
    "type_trans_lst = [\"new_sale\", \"renewal\", \"refund\"]"
   ],
   "metadata": {
    "collapsed": false,
    "pycharm": {
     "name": "#%%\n"
    }
   }
  },
  {
   "cell_type": "code",
   "execution_count": 923,
   "outputs": [],
   "source": [
    "parse_dates = [\"term_start\", \"term_end\"]\n",
    "mt_df = df[df[\"type_of_transaction\"].isin(type_trans_lst)].copy()\n",
    "\n",
    "for date in parse_dates:\n",
    "    mt_df[date] = pd.to_datetime(mt_df[date]).dt.tz_convert(None)"
   ],
   "metadata": {
    "collapsed": false,
    "pycharm": {
     "name": "#%%\n"
    }
   }
  },
  {
   "cell_type": "code",
   "execution_count": 924,
   "metadata": {
    "pycharm": {
     "name": "#%%\n"
    }
   },
   "outputs": [],
   "source": [
    "## calculate total_booking_net columns\n",
    "mt_df[\"total_booking_net_CHF\"] = (\n",
    "        mt_df[\"new_booking_net_CHF\"] + mt_df[\"renewal_booking_net_CHF\"]\n",
    ")\n",
    "mt_df[\"total_booking_net_EUR\"] = (\n",
    "        mt_df[\"new_booking_net_EUR\"] + mt_df[\"renewal_booking_net_EUR\"]\n",
    ")"
   ]
  },
  {
   "cell_type": "code",
   "execution_count": 925,
   "metadata": {
    "pycharm": {
     "name": "#%%\n"
    }
   },
   "outputs": [],
   "source": [
    "## drop unnecessary columns\n",
    "mt_df.drop(\n",
    "    [\n",
    "        \"new_booking_net_EUR\",\n",
    "        \"new_booking_net_CHF\",\n",
    "        \"renewal_booking_net_CHF\",\n",
    "        \"renewal_booking_net_EUR\",\n",
    "    ],\n",
    "    axis=1,\n",
    "    inplace=True,\n",
    ")"
   ]
  },
  {
   "cell_type": "code",
   "execution_count": 926,
   "metadata": {
    "pycharm": {
     "name": "#%%\n"
    }
   },
   "outputs": [],
   "source": [
    "## calculate product_term_length_months\n",
    "mt_df[\"product_term_length_months\"] = (\n",
    "        (mt_df[\"term_end\"].dt.year - mt_df[\"term_start\"].dt.year) * 12\n",
    "        + (mt_df[\"term_end\"].dt.month - mt_df[\"term_start\"].dt.month)\n",
    "        + 1\n",
    ")"
   ]
  },
  {
   "cell_type": "code",
   "execution_count": 927,
   "outputs": [],
   "source": [
    "mt_df[\"product_term_length_months\"][mt_df[\"product_term_length_months\"] < 0] = 0"
   ],
   "metadata": {
    "collapsed": false,
    "pycharm": {
     "name": "#%%\n"
    }
   }
  },
  {
   "cell_type": "code",
   "execution_count": 928,
   "outputs": [],
   "source": [
    "## replacing product_term_length_months for exceptions where value is 2 instead of 1\n",
    "shorter_subs = (mt_df['term_end'] - mt_df['term_start']).dt.days <= 30\n",
    "shorter_subs_replacer = mt_df[shorter_subs][\n",
    "    (mt_df[\"product_term_length_months\"] == 2) & ((mt_df['term_end']).dt.day == 1)].index.to_list()\n",
    "mt_df[\"product_term_length_months\"].loc[shorter_subs_replacer] = 1"
   ],
   "metadata": {
    "collapsed": false,
    "pycharm": {
     "name": "#%%\n"
    }
   }
  },
  {
   "cell_type": "code",
   "execution_count": 929,
   "metadata": {
    "pycharm": {
     "name": "#%%\n"
    }
   },
   "outputs": [],
   "source": [
    "## reseting index\n",
    "mt_df = mt_df.reindex(mt_df.index.repeat(mt_df[\"product_term_length_months\"]))"
   ]
  },
  {
   "cell_type": "code",
   "execution_count": 930,
   "metadata": {
    "pycharm": {
     "name": "#%%\n"
    }
   },
   "outputs": [],
   "source": [
    "## add revenue_month_number\n",
    "mt_df[\"revenue_month_number\"] = mt_df.groupby([\"transaction_id\"]).cumcount() + 1"
   ]
  },
  {
   "cell_type": "code",
   "execution_count": 931,
   "metadata": {
    "pycharm": {
     "name": "#%%\n"
    }
   },
   "outputs": [],
   "source": [
    "## add revenue_month_date\n",
    "mt_df[\"revenue_month_date\"] = mt_df[\"term_start\"].to_numpy().astype(\"datetime64[M]\")\n",
    "mt_df[\"revenue_month_date\"][mt_df[\"type_of_transaction\"] == \"refund\"] = (\n",
    "    mt_df[\"transaction_date\"].to_numpy().astype(\"datetime64[M]\")\n",
    ")\n",
    "\n",
    "mt_df[\"revenue_month_date\"] = mt_df.apply(\n",
    "    lambda x: x[\"revenue_month_date\"]\n",
    "              + pd.offsets.MonthEnd(x[\"revenue_month_number\"])\n",
    "              + pd.offsets.MonthBegin(-1),\n",
    "    axis=1,\n",
    ")\n",
    "\n",
    "## NEW LINE! commenting out as we now have product_service_view.zuya_account_permission available\n",
    "# mt_df[\"product_group_finance\"] = np.nan\n",
    "\n",
    "mt_df[\"product_term_length\"] = mt_df[\"revenue_month_date\"].apply(\n",
    "    lambda t: pd.Period(t, freq=\"S\").days_in_month\n",
    ")\n",
    "\n",
    "mt_df[\"product_term_length\"][mt_df[\"term_start\"] > mt_df[\"revenue_month_date\"]] = (\n",
    "                                                                                          mt_df[\n",
    "                                                                                              \"term_start\"].dt.daysinmonth -\n",
    "                                                                                          mt_df[\"term_start\"].dt.day\n",
    "                                                                                  ) + 1"
   ]
  },
  {
   "cell_type": "code",
   "execution_count": 932,
   "metadata": {
    "pycharm": {
     "name": "#%%\n"
    }
   },
   "outputs": [],
   "source": [
    "## reseting index\n",
    "mt_df.reset_index(drop=True, inplace=True)"
   ]
  },
  {
   "cell_type": "code",
   "execution_count": 933,
   "metadata": {
    "pycharm": {
     "name": "#%%\n"
    }
   },
   "outputs": [],
   "source": [
    "## set active_sub_month_end = 1 by default\n",
    "mt_df[\"active_sub_month_end\"] = 1\n",
    "\n",
    "## get last indices of each transaction_id group\n",
    "last_idxs = (\n",
    "        len(mt_df)\n",
    "        - np.unique(\n",
    "    mt_df.transaction_id.values[::-1],\n",
    "    return_index=1,\n",
    ")[1]\n",
    "        - 1\n",
    ")\n",
    "\n",
    "mt_df[\"active_sub_month_end\"].iloc[last_idxs] = 0\n",
    "\n",
    "## mark all one transaction subscriptions as 1\n",
    "mt_df[\"active_sub_month_end\"][\n",
    "    (mt_df[\"revenue_month_number\"] <= 1) & (mt_df[\"product_term_length_months\"] <= 1)\n",
    "    ] = 1\n",
    "\n",
    "## mark all refund transactions as -1\n",
    "mt_df[\"active_sub_month_end\"][mt_df[\"type_of_transaction\"] == \"refund\"] = -1\n",
    "\n",
    "## mark all subscriptions with only 1 transaction as i\n",
    "mt_df[\"active_sub_month_end\"][mt_df[\"type_of_transaction\"] == \"refund\"] = -1"
   ]
  },
  {
   "cell_type": "code",
   "execution_count": 934,
   "outputs": [],
   "source": [
    "## active_sub_content follows the same logic as active_sub_month_end except it doesn't count the last month\n",
    "mt_df[\"active_sub_content\"] = mt_df.active_sub_month_end\n",
    "\n",
    "mt_df.loc[mt_df.groupby('transaction_id')['active_sub_content'].tail(2).index, 'active_sub_content'] = 0"
   ],
   "metadata": {
    "collapsed": false,
    "pycharm": {
     "name": "#%%\n"
    }
   }
  },
  {
   "cell_type": "code",
   "execution_count": 935,
   "metadata": {
    "pycharm": {
     "name": "#%%\n"
    }
   },
   "outputs": [],
   "source": [
    "## fix last position of product_term_length per transaction_id\n",
    "mt_df[\"product_term_length\"].iloc[last_idxs] = (\n",
    "        mt_df[\"term_end\"].iloc[last_idxs] -\n",
    "        mt_df[\"revenue_month_date\"].iloc[last_idxs]\n",
    ").dt.days"
   ]
  },
  {
   "cell_type": "code",
   "execution_count": 936,
   "metadata": {
    "pycharm": {
     "name": "#%%\n"
    }
   },
   "outputs": [],
   "source": [
    "## TEMP FIX to tackle dynamic term_end for refunds\n",
    "mt_df[\"product_term_length\"][mt_df[\"product_term_length\"] < 0] = 0"
   ]
  },
  {
   "cell_type": "code",
   "execution_count": 937,
   "metadata": {
    "pycharm": {
     "name": "#%%\n"
    }
   },
   "outputs": [],
   "source": [
    "## total_days of product_term_length per transaction_id\n",
    "mt_df[\"total_days\"] = mt_df.groupby(\"transaction_id\")[\"product_term_length\"].transform(\n",
    "    \"sum\"\n",
    ")"
   ]
  },
  {
   "cell_type": "code",
   "execution_count": 963,
   "outputs": [
    {
     "data": {
      "text/plain": "       transaction_id      zuid    payment_method                        sku  \\\n2581         35774006     24277       credit_card  zattoo_web_hiq_swiss_12mo   \n27178        35777879  28714967       credit_card  zattoo_web_hiq_swiss_12mo   \n27179        35777879  28714967       credit_card  zattoo_web_hiq_swiss_12mo   \n27180        35777879  28714967       credit_card  zattoo_web_hiq_swiss_12mo   \n27181        35777879  28714967       credit_card  zattoo_web_hiq_swiss_12mo   \n27221        35777946  25960645            paypal  zattoo_web_hiq_swiss_12mo   \n27248        35832660  25475690            paypal  zattoo_web_hiq_swiss_12mo   \n27249        35832660  25475690            paypal  zattoo_web_hiq_swiss_12mo   \n27250        35832660  25475690            paypal  zattoo_web_hiq_swiss_12mo   \n27368        35777940  16261409            paypal  zattoo_web_hiq_swiss_12mo   \n27694        35834292     47825       credit_card  zattoo_web_hiq_swiss_12mo   \n27695        35834292     47825       credit_card  zattoo_web_hiq_swiss_12mo   \n27696        35834292     47825       credit_card  zattoo_web_hiq_swiss_12mo   \n27697        35834292     47825       credit_card  zattoo_web_hiq_swiss_12mo   \n28517        35777962   5713610       credit_card  zattoo_web_hiq_swiss_12mo   \n28518        35777962   5713610       credit_card  zattoo_web_hiq_swiss_12mo   \n28519        35777962   5713610       credit_card  zattoo_web_hiq_swiss_12mo   \n71008        35940720   2267793            paypal  zattoo_web_hiq_swiss_12mo   \n71009        35940720   2267793            paypal  zattoo_web_hiq_swiss_12mo   \n71010        35940720   2267793            paypal  zattoo_web_hiq_swiss_12mo   \n77450        36050165  24545309       credit_card  zattoo_web_hiq_swiss_12mo   \n77451        36050165  24545309       credit_card  zattoo_web_hiq_swiss_12mo   \n77491        36050169  26502615            paypal  zattoo_web_hiq_swiss_12mo   \n77492        36050169  26502615            paypal  zattoo_web_hiq_swiss_12mo   \n77493        36050169  26502615            paypal  zattoo_web_hiq_swiss_12mo   \n83543        36100194  30329636       credit_card  zattoo_web_hiq_swiss_12mo   \n83544        36100194  30329636       credit_card  zattoo_web_hiq_swiss_12mo   \n101440       36028316   4213939  postfinance_card  zattoo_web_hiq_swiss_12mo   \n101441       36028316   4213939  postfinance_card  zattoo_web_hiq_swiss_12mo   \n101442       36028316   4213939  postfinance_card  zattoo_web_hiq_swiss_12mo   \n101443       36028316   4213939  postfinance_card  zattoo_web_hiq_swiss_12mo   \n107205       35881953  30367114       credit_card  zattoo_web_hiq_swiss_12mo   \n107297       35884162  28134112       credit_card  zattoo_web_hiq_swiss_12mo   \n121772       35966387    195013            paypal  zattoo_web_hiq_swiss_12mo   \n121773       35966387    195013            paypal  zattoo_web_hiq_swiss_12mo   \n121774       35966387    195013            paypal  zattoo_web_hiq_swiss_12mo   \n137482       35811849  15053078       credit_card  zattoo_web_hiq_swiss_12mo   \n137483       35811849  15053078       credit_card  zattoo_web_hiq_swiss_12mo   \n137718       35913283   7087532  postfinance_card  zattoo_web_hiq_swiss_12mo   \n137719       35913283   7087532  postfinance_card  zattoo_web_hiq_swiss_12mo   \n138591       35802413  25952940       credit_card  zattoo_web_hiq_swiss_12mo   \n139927       35980649    364870            paypal  zattoo_web_hiq_swiss_12mo   \n139928       35980649    364870            paypal  zattoo_web_hiq_swiss_12mo   \n139955       35984466  21857259            paypal  zattoo_web_hiq_swiss_12mo   \n161213       35901031   2507800            paypal  zattoo_web_hiq_swiss_12mo   \n161214       35901031   2507800            paypal  zattoo_web_hiq_swiss_12mo   \n161215       35901031   2507800            paypal  zattoo_web_hiq_swiss_12mo   \n161216       35901031   2507800            paypal  zattoo_web_hiq_swiss_12mo   \n164352       36010125  30358491       credit_card  zattoo_web_hiq_swiss_12mo   \n202900       35864749  11371556            paypal  zattoo_web_hiq_swiss_12mo   \n205102       35839743   4121853            paypal  zattoo_web_hiq_swiss_12mo   \n205103       35839743   4121853            paypal  zattoo_web_hiq_swiss_12mo   \n205104       35839743   4121853            paypal  zattoo_web_hiq_swiss_12mo   \n212835       36065401  29044226       credit_card  zattoo_web_hiq_swiss_12mo   \n212836       36065401  29044226       credit_card  zattoo_web_hiq_swiss_12mo   \n216314       35894171  22961385            paypal  zattoo_web_hiq_swiss_12mo   \n216367       35890200  30220878       credit_card  zattoo_web_hiq_swiss_12mo   \n216602       35890280  30220878       credit_card  zattoo_web_hiq_swiss_12mo   \n\n       type_of_transaction country_name    transaction_date  \\\n2581              new_sale  Switzerland 2022-02-01 18:38:41   \n27178              renewal  Switzerland 2022-02-02 04:02:12   \n27179              renewal  Switzerland 2022-02-02 04:02:12   \n27180              renewal  Switzerland 2022-02-02 04:02:12   \n27181              renewal  Switzerland 2022-02-02 04:02:12   \n27221              renewal  Switzerland 2022-02-02 04:06:38   \n27248              renewal  Switzerland 2022-02-06 13:26:24   \n27249              renewal  Switzerland 2022-02-06 13:26:24   \n27250              renewal  Switzerland 2022-02-06 13:26:24   \n27368              renewal  Switzerland 2022-02-02 04:06:05   \n27694              renewal  Switzerland 2022-02-06 16:39:38   \n27695              renewal  Switzerland 2022-02-06 16:39:38   \n27696              renewal  Switzerland 2022-02-06 16:39:38   \n27697              renewal  Switzerland 2022-02-06 16:39:38   \n28517              renewal  Switzerland 2022-02-02 04:07:23   \n28518              renewal  Switzerland 2022-02-02 04:07:23   \n28519              renewal  Switzerland 2022-02-02 04:07:23   \n71008              renewal  Switzerland 2022-02-15 04:04:26   \n71009              renewal  Switzerland 2022-02-15 04:04:26   \n71010              renewal  Switzerland 2022-02-15 04:04:26   \n77450              renewal  Switzerland 2022-02-24 04:10:38   \n77451              renewal  Switzerland 2022-02-24 04:10:38   \n77491              renewal  Switzerland 2022-02-24 04:11:04   \n77492              renewal  Switzerland 2022-02-24 04:11:04   \n77493              renewal  Switzerland 2022-02-24 04:11:04   \n83543             new_sale  Switzerland 2022-02-27 20:00:32   \n83544             new_sale  Switzerland 2022-02-27 20:00:32   \n101440             renewal  Switzerland 2022-02-22 04:15:28   \n101441             renewal  Switzerland 2022-02-22 04:15:28   \n101442             renewal  Switzerland 2022-02-22 04:15:28   \n101443             renewal  Switzerland 2022-02-22 04:15:28   \n107205            new_sale  Switzerland 2022-02-10 11:12:03   \n107297            new_sale  Switzerland 2022-02-10 17:13:09   \n121772             renewal  Switzerland 2022-02-17 04:02:48   \n121773             renewal  Switzerland 2022-02-17 04:02:48   \n121774             renewal  Switzerland 2022-02-17 04:02:48   \n137482            new_sale  Switzerland 2022-02-04 22:02:37   \n137483            new_sale  Switzerland 2022-02-04 22:02:37   \n137718             renewal  Switzerland 2022-02-13 04:06:44   \n137719             renewal  Switzerland 2022-02-13 04:06:44   \n138591             renewal  Switzerland 2022-02-04 04:08:57   \n139927             renewal  Switzerland 2022-02-18 04:02:56   \n139928             renewal  Switzerland 2022-02-18 04:02:56   \n139955             renewal  Switzerland 2022-02-18 08:27:34   \n161213             renewal  Switzerland 2022-02-12 04:04:17   \n161214             renewal  Switzerland 2022-02-12 04:04:17   \n161215             renewal  Switzerland 2022-02-12 04:04:17   \n161216             renewal  Switzerland 2022-02-12 04:04:17   \n164352            new_sale  Switzerland 2022-02-20 12:16:33   \n202900             renewal  Switzerland 2022-02-09 04:03:42   \n205102             renewal  Switzerland 2022-02-07 04:04:16   \n205103             renewal  Switzerland 2022-02-07 04:04:16   \n205104             renewal  Switzerland 2022-02-07 04:04:16   \n212835             renewal  Switzerland 2022-02-25 04:14:25   \n212836             renewal  Switzerland 2022-02-25 04:14:25   \n216314            new_sale  Switzerland 2022-02-11 10:07:05   \n216367            new_sale  Switzerland 2022-02-11 05:41:57   \n216602             renewal  Switzerland 2022-02-11 05:47:11   \n\n                term_start            term_end product_group_finance  \\\n2581   2022-03-04 17:06:59 2022-03-04 19:41:38              base_hiq   \n27178  2022-02-03 20:52:18 2022-05-10 13:37:59              base_hiq   \n27179  2022-02-03 20:52:18 2022-05-10 13:37:59              base_hiq   \n27180  2022-02-03 20:52:18 2022-05-10 13:37:59              base_hiq   \n27181  2022-02-03 20:52:18 2022-05-10 13:37:59              base_hiq   \n27221  2022-02-02 06:02:28 2022-02-02 06:02:28              base_hiq   \n27248  2022-02-07 14:35:59 2022-04-23 09:22:58              base_hiq   \n27249  2022-02-07 14:35:59 2022-04-23 09:22:58              base_hiq   \n27250  2022-02-07 14:35:59 2022-04-23 09:22:58              base_hiq   \n27368  2022-02-02 14:29:32 2022-02-02 14:29:32              base_hiq   \n27694  2022-02-11 19:03:09 2022-05-13 19:14:29              base_hiq   \n27695  2022-02-11 19:03:09 2022-05-13 19:14:29              base_hiq   \n27696  2022-02-11 19:03:09 2022-05-13 19:14:29              base_hiq   \n27697  2022-02-11 19:03:09 2022-05-13 19:14:29              base_hiq   \n28517  2022-02-03 19:35:49 2022-04-06 17:34:58              base_hiq   \n28518  2022-02-03 19:35:49 2022-04-06 17:34:58              base_hiq   \n28519  2022-02-03 19:35:49 2022-04-06 17:34:58              base_hiq   \n71008  2022-02-16 08:26:09 2022-04-12 19:38:08              base_hiq   \n71009  2022-02-16 08:26:09 2022-04-12 19:38:08              base_hiq   \n71010  2022-02-16 08:26:09 2022-04-12 19:38:08              base_hiq   \n77450  2022-02-25 19:34:35 2022-03-04 13:18:51              base_hiq   \n77451  2022-02-25 19:34:35 2022-03-04 13:18:51              base_hiq   \n77491  2022-02-25 21:24:31 2022-04-04 13:43:50              base_hiq   \n77492  2022-02-25 21:24:31 2022-04-04 13:43:50              base_hiq   \n77493  2022-02-25 21:24:31 2022-04-04 13:43:50              base_hiq   \n83543  2022-03-01 20:24:18 2022-04-25 18:38:44              base_hiq   \n83544  2022-03-01 20:24:18 2022-04-25 18:38:44              base_hiq   \n101440 2022-02-23 18:36:05 2022-05-01 15:16:51              base_hiq   \n101441 2022-02-23 18:36:05 2022-05-01 15:16:51              base_hiq   \n101442 2022-02-23 18:36:05 2022-05-01 15:16:51              base_hiq   \n101443 2022-02-23 18:36:05 2022-05-01 15:16:51              base_hiq   \n107205 2022-02-10 11:12:03 2022-02-23 15:06:48              base_hiq   \n107297 2022-02-10 17:13:09 2022-02-15 17:14:10              base_hiq   \n121772 2022-02-18 19:12:33 2022-04-13 19:15:11              base_hiq   \n121773 2022-02-18 19:12:33 2022-04-13 19:15:11              base_hiq   \n121774 2022-02-18 19:12:33 2022-04-13 19:15:11              base_hiq   \n137482 2022-02-04 22:02:37 2022-03-11 15:31:37              base_hiq   \n137483 2022-02-04 22:02:37 2022-03-11 15:31:37              base_hiq   \n137718 2022-02-14 22:12:47 2022-03-31 18:45:07              base_hiq   \n137719 2022-02-14 22:12:47 2022-03-31 18:45:07              base_hiq   \n138591 2022-02-05 20:26:51 2022-02-25 11:11:17              base_hiq   \n139927 2022-02-19 13:54:20 2022-03-03 13:20:43              base_hiq   \n139928 2022-02-19 13:54:20 2022-03-03 13:20:43              base_hiq   \n139955 2022-02-18 08:29:16 2022-02-18 08:29:16              base_hiq   \n161213 2022-02-13 23:32:25 2022-05-21 19:19:25              base_hiq   \n161214 2022-02-13 23:32:25 2022-05-21 19:19:25              base_hiq   \n161215 2022-02-13 23:32:25 2022-05-21 19:19:25              base_hiq   \n161216 2022-02-13 23:32:25 2022-05-21 19:19:25              base_hiq   \n164352 2022-02-20 12:16:33 2022-02-21 11:42:06              base_hiq   \n202900 2022-02-09 10:41:51 2022-02-09 10:41:51              base_hiq   \n205102 2022-02-08 18:23:13 2022-04-17 20:32:36              base_hiq   \n205103 2022-02-08 18:23:13 2022-04-17 20:32:36              base_hiq   \n205104 2022-02-08 18:23:13 2022-04-17 20:32:36              base_hiq   \n212835 2022-02-26 16:17:27 2022-03-10 08:58:29              base_hiq   \n212836 2022-02-26 16:17:27 2022-03-10 08:58:29              base_hiq   \n216314 2022-02-11 12:40:58 2022-02-11 12:40:58              base_hiq   \n216367 2022-02-16 16:52:40 2022-02-16 16:52:40              base_hiq   \n216602 2022-02-16 16:52:40 2022-02-16 16:52:40              base_hiq   \n\n         vat_eur   vat_chf  total_booking_net_CHF  total_booking_net_EUR  \\\n2581    8.214342  8.579387             111.420613             106.679764   \n27178   8.214342  8.579387             111.420613             106.679764   \n27179   8.214342  8.579387             111.420613             106.679764   \n27180   8.214342  8.579387             111.420613             106.679764   \n27181   8.214342  8.579387             111.420613             106.679764   \n27221   8.214342  8.579387             111.420613             106.679764   \n27248   8.214342  8.579387             111.420613             106.679764   \n27249   8.214342  8.579387             111.420613             106.679764   \n27250   8.214342  8.579387             111.420613             106.679764   \n27368   8.214342  8.579387             111.420613             106.679764   \n27694   8.214342  8.579387             111.420613             106.679764   \n27695   8.214342  8.579387             111.420613             106.679764   \n27696   8.214342  8.579387             111.420613             106.679764   \n27697   8.214342  8.579387             111.420613             106.679764   \n28517   8.214342  8.579387             111.420613             106.679764   \n28518   8.214342  8.579387             111.420613             106.679764   \n28519   8.214342  8.579387             111.420613             106.679764   \n71008   8.214342  8.579387             111.420613             106.679764   \n71009   8.214342  8.579387             111.420613             106.679764   \n71010   8.214342  8.579387             111.420613             106.679764   \n77450   8.214342  8.579387             111.420613             106.679764   \n77451   8.214342  8.579387             111.420613             106.679764   \n77491   8.214342  8.579387             111.420613             106.679764   \n77492   8.214342  8.579387             111.420613             106.679764   \n77493   8.214342  8.579387             111.420613             106.679764   \n83543   8.214342  8.579387             111.420613             106.679764   \n83544   8.214342  8.579387             111.420613             106.679764   \n101440  8.214342  8.579387             111.420613             106.679764   \n101441  8.214342  8.579387             111.420613             106.679764   \n101442  8.214342  8.579387             111.420613             106.679764   \n101443  8.214342  8.579387             111.420613             106.679764   \n107205  8.214342  8.579387             111.420613             106.679764   \n107297  8.214342  8.579387             111.420613             106.679764   \n121772  8.214342  8.579387             111.420613             106.679764   \n121773  8.214342  8.579387             111.420613             106.679764   \n121774  8.214342  8.579387             111.420613             106.679764   \n137482  8.214342  8.579387             111.420613             106.679764   \n137483  8.214342  8.579387             111.420613             106.679764   \n137718  8.214342  8.579387             111.420613             106.679764   \n137719  8.214342  8.579387             111.420613             106.679764   \n138591  8.214342  8.579387             111.420613             106.679764   \n139927  8.214342  8.579387             111.420613             106.679764   \n139928  8.214342  8.579387             111.420613             106.679764   \n139955  8.214342  8.579387             111.420613             106.679764   \n161213  8.214342  8.579387             111.420613             106.679764   \n161214  8.214342  8.579387             111.420613             106.679764   \n161215  8.214342  8.579387             111.420613             106.679764   \n161216  8.214342  8.579387             111.420613             106.679764   \n164352  8.214342  8.579387             111.420613             106.679764   \n202900  8.214342  8.579387             111.420613             106.679764   \n205102  8.214342  8.579387             111.420613             106.679764   \n205103  8.214342  8.579387             111.420613             106.679764   \n205104  8.214342  8.579387             111.420613             106.679764   \n212835  8.214342  8.579387             111.420613             106.679764   \n212836  8.214342  8.579387             111.420613             106.679764   \n216314  8.214342  8.579387             111.420613             106.679764   \n216367  8.214342  8.579387             111.420613             106.679764   \n216602  8.214342  8.579387             111.420613             106.679764   \n\n        product_term_length_months  revenue_month_number revenue_month_date  \\\n2581                             1                     1         2022-03-01   \n27178                            4                     1         2022-02-01   \n27179                            4                     2         2022-03-01   \n27180                            4                     3         2022-04-01   \n27181                            4                     4         2022-05-01   \n27221                            1                     1         2022-02-01   \n27248                            3                     1         2022-02-01   \n27249                            3                     2         2022-03-01   \n27250                            3                     3         2022-04-01   \n27368                            1                     1         2022-02-01   \n27694                            4                     1         2022-02-01   \n27695                            4                     2         2022-03-01   \n27696                            4                     3         2022-04-01   \n27697                            4                     4         2022-05-01   \n28517                            3                     1         2022-02-01   \n28518                            3                     2         2022-03-01   \n28519                            3                     3         2022-04-01   \n71008                            3                     1         2022-02-01   \n71009                            3                     2         2022-03-01   \n71010                            3                     3         2022-04-01   \n77450                            2                     1         2022-02-01   \n77451                            2                     2         2022-03-01   \n77491                            3                     1         2022-02-01   \n77492                            3                     2         2022-03-01   \n77493                            3                     3         2022-04-01   \n83543                            2                     1         2022-03-01   \n83544                            2                     2         2022-04-01   \n101440                           4                     1         2022-02-01   \n101441                           4                     2         2022-03-01   \n101442                           4                     3         2022-04-01   \n101443                           4                     4         2022-05-01   \n107205                           1                     1         2022-02-01   \n107297                           1                     1         2022-02-01   \n121772                           3                     1         2022-02-01   \n121773                           3                     2         2022-03-01   \n121774                           3                     3         2022-04-01   \n137482                           2                     1         2022-02-01   \n137483                           2                     2         2022-03-01   \n137718                           2                     1         2022-02-01   \n137719                           2                     2         2022-03-01   \n138591                           1                     1         2022-02-01   \n139927                           2                     1         2022-02-01   \n139928                           2                     2         2022-03-01   \n139955                           1                     1         2022-02-01   \n161213                           4                     1         2022-02-01   \n161214                           4                     2         2022-03-01   \n161215                           4                     3         2022-04-01   \n161216                           4                     4         2022-05-01   \n164352                           1                     1         2022-02-01   \n202900                           1                     1         2022-02-01   \n205102                           3                     1         2022-02-01   \n205103                           3                     2         2022-03-01   \n205104                           3                     3         2022-04-01   \n212835                           2                     1         2022-02-01   \n212836                           2                     2         2022-03-01   \n216314                           1                     1         2022-02-01   \n216367                           1                     1         2022-02-01   \n216602                           1                     1         2022-02-01   \n\n        product_term_length  active_sub_month_end  active_sub_content  \\\n2581                      3                     1                   0   \n27178                    26                     1                   1   \n27179                    31                     1                   1   \n27180                    30                     1                   0   \n27181                     9                     0                   0   \n27221                     1                     1                   0   \n27248                    22                     1                   1   \n27249                    31                     1                   0   \n27250                    22                     0                   0   \n27368                     1                     1                   0   \n27694                    18                     1                   1   \n27695                    31                     1                   1   \n27696                    30                     1                   0   \n27697                    12                     0                   0   \n28517                    26                     1                   1   \n28518                    31                     1                   0   \n28519                     5                     0                   0   \n71008                    13                     1                   1   \n71009                    31                     1                   0   \n71010                    11                     0                   0   \n77450                     4                     1                   0   \n77451                     3                     0                   0   \n77491                     4                     1                   1   \n77492                    31                     1                   0   \n77493                     3                     0                   0   \n83543                    31                     1                   0   \n83544                    24                     0                   0   \n101440                    6                     1                   1   \n101441                   31                     1                   1   \n101442                   30                     1                   0   \n101443                    0                     0                   0   \n107205                   22                     1                   0   \n107297                   14                     1                   0   \n121772                   11                     1                   1   \n121773                   31                     1                   0   \n121774                   12                     0                   0   \n137482                   25                     1                   0   \n137483                   10                     0                   0   \n137718                   15                     1                   0   \n137719                   30                     0                   0   \n138591                   24                     1                   0   \n139927                   10                     1                   0   \n139928                    2                     0                   0   \n139955                   17                     1                   0   \n161213                   16                     1                   1   \n161214                   31                     1                   1   \n161215                   30                     1                   0   \n161216                   20                     0                   0   \n164352                   20                     1                   0   \n202900                    8                     1                   0   \n205102                   21                     1                   1   \n205103                   31                     1                   0   \n205104                   16                     0                   0   \n212835                    3                     1                   0   \n212836                    9                     0                   0   \n216314                   10                     1                   0   \n216367                   15                     1                   0   \n216602                   15                     1                   0   \n\n        total_days  max_revenue_month_number  \n2581             3                         1  \n27178           96                         4  \n27179           96                         4  \n27180           96                         4  \n27181           96                         4  \n27221            1                         1  \n27248           75                         3  \n27249           75                         3  \n27250           75                         3  \n27368            1                         1  \n27694           91                         4  \n27695           91                         4  \n27696           91                         4  \n27697           91                         4  \n28517           62                         3  \n28518           62                         3  \n28519           62                         3  \n71008           55                         3  \n71009           55                         3  \n71010           55                         3  \n77450            7                         2  \n77451            7                         2  \n77491           38                         3  \n77492           38                         3  \n77493           38                         3  \n83543           55                         2  \n83544           55                         2  \n101440          67                         4  \n101441          67                         4  \n101442          67                         4  \n101443          67                         4  \n107205          22                         1  \n107297          14                         1  \n121772          54                         3  \n121773          54                         3  \n121774          54                         3  \n137482          35                         2  \n137483          35                         2  \n137718          45                         2  \n137719          45                         2  \n138591          24                         1  \n139927          12                         2  \n139928          12                         2  \n139955          17                         1  \n161213          97                         4  \n161214          97                         4  \n161215          97                         4  \n161216          97                         4  \n164352          20                         1  \n202900           8                         1  \n205102          68                         3  \n205103          68                         3  \n205104          68                         3  \n212835          12                         2  \n212836          12                         2  \n216314          10                         1  \n216367          15                         1  \n216602          15                         1  ",
      "text/html": "<div>\n<style scoped>\n    .dataframe tbody tr th:only-of-type {\n        vertical-align: middle;\n    }\n\n    .dataframe tbody tr th {\n        vertical-align: top;\n    }\n\n    .dataframe thead th {\n        text-align: right;\n    }\n</style>\n<table border=\"1\" class=\"dataframe\">\n  <thead>\n    <tr style=\"text-align: right;\">\n      <th></th>\n      <th>transaction_id</th>\n      <th>zuid</th>\n      <th>payment_method</th>\n      <th>sku</th>\n      <th>type_of_transaction</th>\n      <th>country_name</th>\n      <th>transaction_date</th>\n      <th>term_start</th>\n      <th>term_end</th>\n      <th>product_group_finance</th>\n      <th>vat_eur</th>\n      <th>vat_chf</th>\n      <th>total_booking_net_CHF</th>\n      <th>total_booking_net_EUR</th>\n      <th>product_term_length_months</th>\n      <th>revenue_month_number</th>\n      <th>revenue_month_date</th>\n      <th>product_term_length</th>\n      <th>active_sub_month_end</th>\n      <th>active_sub_content</th>\n      <th>total_days</th>\n      <th>max_revenue_month_number</th>\n    </tr>\n  </thead>\n  <tbody>\n    <tr>\n      <th>2581</th>\n      <td>35774006</td>\n      <td>24277</td>\n      <td>credit_card</td>\n      <td>zattoo_web_hiq_swiss_12mo</td>\n      <td>new_sale</td>\n      <td>Switzerland</td>\n      <td>2022-02-01 18:38:41</td>\n      <td>2022-03-04 17:06:59</td>\n      <td>2022-03-04 19:41:38</td>\n      <td>base_hiq</td>\n      <td>8.214342</td>\n      <td>8.579387</td>\n      <td>111.420613</td>\n      <td>106.679764</td>\n      <td>1</td>\n      <td>1</td>\n      <td>2022-03-01</td>\n      <td>3</td>\n      <td>1</td>\n      <td>0</td>\n      <td>3</td>\n      <td>1</td>\n    </tr>\n    <tr>\n      <th>27178</th>\n      <td>35777879</td>\n      <td>28714967</td>\n      <td>credit_card</td>\n      <td>zattoo_web_hiq_swiss_12mo</td>\n      <td>renewal</td>\n      <td>Switzerland</td>\n      <td>2022-02-02 04:02:12</td>\n      <td>2022-02-03 20:52:18</td>\n      <td>2022-05-10 13:37:59</td>\n      <td>base_hiq</td>\n      <td>8.214342</td>\n      <td>8.579387</td>\n      <td>111.420613</td>\n      <td>106.679764</td>\n      <td>4</td>\n      <td>1</td>\n      <td>2022-02-01</td>\n      <td>26</td>\n      <td>1</td>\n      <td>1</td>\n      <td>96</td>\n      <td>4</td>\n    </tr>\n    <tr>\n      <th>27179</th>\n      <td>35777879</td>\n      <td>28714967</td>\n      <td>credit_card</td>\n      <td>zattoo_web_hiq_swiss_12mo</td>\n      <td>renewal</td>\n      <td>Switzerland</td>\n      <td>2022-02-02 04:02:12</td>\n      <td>2022-02-03 20:52:18</td>\n      <td>2022-05-10 13:37:59</td>\n      <td>base_hiq</td>\n      <td>8.214342</td>\n      <td>8.579387</td>\n      <td>111.420613</td>\n      <td>106.679764</td>\n      <td>4</td>\n      <td>2</td>\n      <td>2022-03-01</td>\n      <td>31</td>\n      <td>1</td>\n      <td>1</td>\n      <td>96</td>\n      <td>4</td>\n    </tr>\n    <tr>\n      <th>27180</th>\n      <td>35777879</td>\n      <td>28714967</td>\n      <td>credit_card</td>\n      <td>zattoo_web_hiq_swiss_12mo</td>\n      <td>renewal</td>\n      <td>Switzerland</td>\n      <td>2022-02-02 04:02:12</td>\n      <td>2022-02-03 20:52:18</td>\n      <td>2022-05-10 13:37:59</td>\n      <td>base_hiq</td>\n      <td>8.214342</td>\n      <td>8.579387</td>\n      <td>111.420613</td>\n      <td>106.679764</td>\n      <td>4</td>\n      <td>3</td>\n      <td>2022-04-01</td>\n      <td>30</td>\n      <td>1</td>\n      <td>0</td>\n      <td>96</td>\n      <td>4</td>\n    </tr>\n    <tr>\n      <th>27181</th>\n      <td>35777879</td>\n      <td>28714967</td>\n      <td>credit_card</td>\n      <td>zattoo_web_hiq_swiss_12mo</td>\n      <td>renewal</td>\n      <td>Switzerland</td>\n      <td>2022-02-02 04:02:12</td>\n      <td>2022-02-03 20:52:18</td>\n      <td>2022-05-10 13:37:59</td>\n      <td>base_hiq</td>\n      <td>8.214342</td>\n      <td>8.579387</td>\n      <td>111.420613</td>\n      <td>106.679764</td>\n      <td>4</td>\n      <td>4</td>\n      <td>2022-05-01</td>\n      <td>9</td>\n      <td>0</td>\n      <td>0</td>\n      <td>96</td>\n      <td>4</td>\n    </tr>\n    <tr>\n      <th>27221</th>\n      <td>35777946</td>\n      <td>25960645</td>\n      <td>paypal</td>\n      <td>zattoo_web_hiq_swiss_12mo</td>\n      <td>renewal</td>\n      <td>Switzerland</td>\n      <td>2022-02-02 04:06:38</td>\n      <td>2022-02-02 06:02:28</td>\n      <td>2022-02-02 06:02:28</td>\n      <td>base_hiq</td>\n      <td>8.214342</td>\n      <td>8.579387</td>\n      <td>111.420613</td>\n      <td>106.679764</td>\n      <td>1</td>\n      <td>1</td>\n      <td>2022-02-01</td>\n      <td>1</td>\n      <td>1</td>\n      <td>0</td>\n      <td>1</td>\n      <td>1</td>\n    </tr>\n    <tr>\n      <th>27248</th>\n      <td>35832660</td>\n      <td>25475690</td>\n      <td>paypal</td>\n      <td>zattoo_web_hiq_swiss_12mo</td>\n      <td>renewal</td>\n      <td>Switzerland</td>\n      <td>2022-02-06 13:26:24</td>\n      <td>2022-02-07 14:35:59</td>\n      <td>2022-04-23 09:22:58</td>\n      <td>base_hiq</td>\n      <td>8.214342</td>\n      <td>8.579387</td>\n      <td>111.420613</td>\n      <td>106.679764</td>\n      <td>3</td>\n      <td>1</td>\n      <td>2022-02-01</td>\n      <td>22</td>\n      <td>1</td>\n      <td>1</td>\n      <td>75</td>\n      <td>3</td>\n    </tr>\n    <tr>\n      <th>27249</th>\n      <td>35832660</td>\n      <td>25475690</td>\n      <td>paypal</td>\n      <td>zattoo_web_hiq_swiss_12mo</td>\n      <td>renewal</td>\n      <td>Switzerland</td>\n      <td>2022-02-06 13:26:24</td>\n      <td>2022-02-07 14:35:59</td>\n      <td>2022-04-23 09:22:58</td>\n      <td>base_hiq</td>\n      <td>8.214342</td>\n      <td>8.579387</td>\n      <td>111.420613</td>\n      <td>106.679764</td>\n      <td>3</td>\n      <td>2</td>\n      <td>2022-03-01</td>\n      <td>31</td>\n      <td>1</td>\n      <td>0</td>\n      <td>75</td>\n      <td>3</td>\n    </tr>\n    <tr>\n      <th>27250</th>\n      <td>35832660</td>\n      <td>25475690</td>\n      <td>paypal</td>\n      <td>zattoo_web_hiq_swiss_12mo</td>\n      <td>renewal</td>\n      <td>Switzerland</td>\n      <td>2022-02-06 13:26:24</td>\n      <td>2022-02-07 14:35:59</td>\n      <td>2022-04-23 09:22:58</td>\n      <td>base_hiq</td>\n      <td>8.214342</td>\n      <td>8.579387</td>\n      <td>111.420613</td>\n      <td>106.679764</td>\n      <td>3</td>\n      <td>3</td>\n      <td>2022-04-01</td>\n      <td>22</td>\n      <td>0</td>\n      <td>0</td>\n      <td>75</td>\n      <td>3</td>\n    </tr>\n    <tr>\n      <th>27368</th>\n      <td>35777940</td>\n      <td>16261409</td>\n      <td>paypal</td>\n      <td>zattoo_web_hiq_swiss_12mo</td>\n      <td>renewal</td>\n      <td>Switzerland</td>\n      <td>2022-02-02 04:06:05</td>\n      <td>2022-02-02 14:29:32</td>\n      <td>2022-02-02 14:29:32</td>\n      <td>base_hiq</td>\n      <td>8.214342</td>\n      <td>8.579387</td>\n      <td>111.420613</td>\n      <td>106.679764</td>\n      <td>1</td>\n      <td>1</td>\n      <td>2022-02-01</td>\n      <td>1</td>\n      <td>1</td>\n      <td>0</td>\n      <td>1</td>\n      <td>1</td>\n    </tr>\n    <tr>\n      <th>27694</th>\n      <td>35834292</td>\n      <td>47825</td>\n      <td>credit_card</td>\n      <td>zattoo_web_hiq_swiss_12mo</td>\n      <td>renewal</td>\n      <td>Switzerland</td>\n      <td>2022-02-06 16:39:38</td>\n      <td>2022-02-11 19:03:09</td>\n      <td>2022-05-13 19:14:29</td>\n      <td>base_hiq</td>\n      <td>8.214342</td>\n      <td>8.579387</td>\n      <td>111.420613</td>\n      <td>106.679764</td>\n      <td>4</td>\n      <td>1</td>\n      <td>2022-02-01</td>\n      <td>18</td>\n      <td>1</td>\n      <td>1</td>\n      <td>91</td>\n      <td>4</td>\n    </tr>\n    <tr>\n      <th>27695</th>\n      <td>35834292</td>\n      <td>47825</td>\n      <td>credit_card</td>\n      <td>zattoo_web_hiq_swiss_12mo</td>\n      <td>renewal</td>\n      <td>Switzerland</td>\n      <td>2022-02-06 16:39:38</td>\n      <td>2022-02-11 19:03:09</td>\n      <td>2022-05-13 19:14:29</td>\n      <td>base_hiq</td>\n      <td>8.214342</td>\n      <td>8.579387</td>\n      <td>111.420613</td>\n      <td>106.679764</td>\n      <td>4</td>\n      <td>2</td>\n      <td>2022-03-01</td>\n      <td>31</td>\n      <td>1</td>\n      <td>1</td>\n      <td>91</td>\n      <td>4</td>\n    </tr>\n    <tr>\n      <th>27696</th>\n      <td>35834292</td>\n      <td>47825</td>\n      <td>credit_card</td>\n      <td>zattoo_web_hiq_swiss_12mo</td>\n      <td>renewal</td>\n      <td>Switzerland</td>\n      <td>2022-02-06 16:39:38</td>\n      <td>2022-02-11 19:03:09</td>\n      <td>2022-05-13 19:14:29</td>\n      <td>base_hiq</td>\n      <td>8.214342</td>\n      <td>8.579387</td>\n      <td>111.420613</td>\n      <td>106.679764</td>\n      <td>4</td>\n      <td>3</td>\n      <td>2022-04-01</td>\n      <td>30</td>\n      <td>1</td>\n      <td>0</td>\n      <td>91</td>\n      <td>4</td>\n    </tr>\n    <tr>\n      <th>27697</th>\n      <td>35834292</td>\n      <td>47825</td>\n      <td>credit_card</td>\n      <td>zattoo_web_hiq_swiss_12mo</td>\n      <td>renewal</td>\n      <td>Switzerland</td>\n      <td>2022-02-06 16:39:38</td>\n      <td>2022-02-11 19:03:09</td>\n      <td>2022-05-13 19:14:29</td>\n      <td>base_hiq</td>\n      <td>8.214342</td>\n      <td>8.579387</td>\n      <td>111.420613</td>\n      <td>106.679764</td>\n      <td>4</td>\n      <td>4</td>\n      <td>2022-05-01</td>\n      <td>12</td>\n      <td>0</td>\n      <td>0</td>\n      <td>91</td>\n      <td>4</td>\n    </tr>\n    <tr>\n      <th>28517</th>\n      <td>35777962</td>\n      <td>5713610</td>\n      <td>credit_card</td>\n      <td>zattoo_web_hiq_swiss_12mo</td>\n      <td>renewal</td>\n      <td>Switzerland</td>\n      <td>2022-02-02 04:07:23</td>\n      <td>2022-02-03 19:35:49</td>\n      <td>2022-04-06 17:34:58</td>\n      <td>base_hiq</td>\n      <td>8.214342</td>\n      <td>8.579387</td>\n      <td>111.420613</td>\n      <td>106.679764</td>\n      <td>3</td>\n      <td>1</td>\n      <td>2022-02-01</td>\n      <td>26</td>\n      <td>1</td>\n      <td>1</td>\n      <td>62</td>\n      <td>3</td>\n    </tr>\n    <tr>\n      <th>28518</th>\n      <td>35777962</td>\n      <td>5713610</td>\n      <td>credit_card</td>\n      <td>zattoo_web_hiq_swiss_12mo</td>\n      <td>renewal</td>\n      <td>Switzerland</td>\n      <td>2022-02-02 04:07:23</td>\n      <td>2022-02-03 19:35:49</td>\n      <td>2022-04-06 17:34:58</td>\n      <td>base_hiq</td>\n      <td>8.214342</td>\n      <td>8.579387</td>\n      <td>111.420613</td>\n      <td>106.679764</td>\n      <td>3</td>\n      <td>2</td>\n      <td>2022-03-01</td>\n      <td>31</td>\n      <td>1</td>\n      <td>0</td>\n      <td>62</td>\n      <td>3</td>\n    </tr>\n    <tr>\n      <th>28519</th>\n      <td>35777962</td>\n      <td>5713610</td>\n      <td>credit_card</td>\n      <td>zattoo_web_hiq_swiss_12mo</td>\n      <td>renewal</td>\n      <td>Switzerland</td>\n      <td>2022-02-02 04:07:23</td>\n      <td>2022-02-03 19:35:49</td>\n      <td>2022-04-06 17:34:58</td>\n      <td>base_hiq</td>\n      <td>8.214342</td>\n      <td>8.579387</td>\n      <td>111.420613</td>\n      <td>106.679764</td>\n      <td>3</td>\n      <td>3</td>\n      <td>2022-04-01</td>\n      <td>5</td>\n      <td>0</td>\n      <td>0</td>\n      <td>62</td>\n      <td>3</td>\n    </tr>\n    <tr>\n      <th>71008</th>\n      <td>35940720</td>\n      <td>2267793</td>\n      <td>paypal</td>\n      <td>zattoo_web_hiq_swiss_12mo</td>\n      <td>renewal</td>\n      <td>Switzerland</td>\n      <td>2022-02-15 04:04:26</td>\n      <td>2022-02-16 08:26:09</td>\n      <td>2022-04-12 19:38:08</td>\n      <td>base_hiq</td>\n      <td>8.214342</td>\n      <td>8.579387</td>\n      <td>111.420613</td>\n      <td>106.679764</td>\n      <td>3</td>\n      <td>1</td>\n      <td>2022-02-01</td>\n      <td>13</td>\n      <td>1</td>\n      <td>1</td>\n      <td>55</td>\n      <td>3</td>\n    </tr>\n    <tr>\n      <th>71009</th>\n      <td>35940720</td>\n      <td>2267793</td>\n      <td>paypal</td>\n      <td>zattoo_web_hiq_swiss_12mo</td>\n      <td>renewal</td>\n      <td>Switzerland</td>\n      <td>2022-02-15 04:04:26</td>\n      <td>2022-02-16 08:26:09</td>\n      <td>2022-04-12 19:38:08</td>\n      <td>base_hiq</td>\n      <td>8.214342</td>\n      <td>8.579387</td>\n      <td>111.420613</td>\n      <td>106.679764</td>\n      <td>3</td>\n      <td>2</td>\n      <td>2022-03-01</td>\n      <td>31</td>\n      <td>1</td>\n      <td>0</td>\n      <td>55</td>\n      <td>3</td>\n    </tr>\n    <tr>\n      <th>71010</th>\n      <td>35940720</td>\n      <td>2267793</td>\n      <td>paypal</td>\n      <td>zattoo_web_hiq_swiss_12mo</td>\n      <td>renewal</td>\n      <td>Switzerland</td>\n      <td>2022-02-15 04:04:26</td>\n      <td>2022-02-16 08:26:09</td>\n      <td>2022-04-12 19:38:08</td>\n      <td>base_hiq</td>\n      <td>8.214342</td>\n      <td>8.579387</td>\n      <td>111.420613</td>\n      <td>106.679764</td>\n      <td>3</td>\n      <td>3</td>\n      <td>2022-04-01</td>\n      <td>11</td>\n      <td>0</td>\n      <td>0</td>\n      <td>55</td>\n      <td>3</td>\n    </tr>\n    <tr>\n      <th>77450</th>\n      <td>36050165</td>\n      <td>24545309</td>\n      <td>credit_card</td>\n      <td>zattoo_web_hiq_swiss_12mo</td>\n      <td>renewal</td>\n      <td>Switzerland</td>\n      <td>2022-02-24 04:10:38</td>\n      <td>2022-02-25 19:34:35</td>\n      <td>2022-03-04 13:18:51</td>\n      <td>base_hiq</td>\n      <td>8.214342</td>\n      <td>8.579387</td>\n      <td>111.420613</td>\n      <td>106.679764</td>\n      <td>2</td>\n      <td>1</td>\n      <td>2022-02-01</td>\n      <td>4</td>\n      <td>1</td>\n      <td>0</td>\n      <td>7</td>\n      <td>2</td>\n    </tr>\n    <tr>\n      <th>77451</th>\n      <td>36050165</td>\n      <td>24545309</td>\n      <td>credit_card</td>\n      <td>zattoo_web_hiq_swiss_12mo</td>\n      <td>renewal</td>\n      <td>Switzerland</td>\n      <td>2022-02-24 04:10:38</td>\n      <td>2022-02-25 19:34:35</td>\n      <td>2022-03-04 13:18:51</td>\n      <td>base_hiq</td>\n      <td>8.214342</td>\n      <td>8.579387</td>\n      <td>111.420613</td>\n      <td>106.679764</td>\n      <td>2</td>\n      <td>2</td>\n      <td>2022-03-01</td>\n      <td>3</td>\n      <td>0</td>\n      <td>0</td>\n      <td>7</td>\n      <td>2</td>\n    </tr>\n    <tr>\n      <th>77491</th>\n      <td>36050169</td>\n      <td>26502615</td>\n      <td>paypal</td>\n      <td>zattoo_web_hiq_swiss_12mo</td>\n      <td>renewal</td>\n      <td>Switzerland</td>\n      <td>2022-02-24 04:11:04</td>\n      <td>2022-02-25 21:24:31</td>\n      <td>2022-04-04 13:43:50</td>\n      <td>base_hiq</td>\n      <td>8.214342</td>\n      <td>8.579387</td>\n      <td>111.420613</td>\n      <td>106.679764</td>\n      <td>3</td>\n      <td>1</td>\n      <td>2022-02-01</td>\n      <td>4</td>\n      <td>1</td>\n      <td>1</td>\n      <td>38</td>\n      <td>3</td>\n    </tr>\n    <tr>\n      <th>77492</th>\n      <td>36050169</td>\n      <td>26502615</td>\n      <td>paypal</td>\n      <td>zattoo_web_hiq_swiss_12mo</td>\n      <td>renewal</td>\n      <td>Switzerland</td>\n      <td>2022-02-24 04:11:04</td>\n      <td>2022-02-25 21:24:31</td>\n      <td>2022-04-04 13:43:50</td>\n      <td>base_hiq</td>\n      <td>8.214342</td>\n      <td>8.579387</td>\n      <td>111.420613</td>\n      <td>106.679764</td>\n      <td>3</td>\n      <td>2</td>\n      <td>2022-03-01</td>\n      <td>31</td>\n      <td>1</td>\n      <td>0</td>\n      <td>38</td>\n      <td>3</td>\n    </tr>\n    <tr>\n      <th>77493</th>\n      <td>36050169</td>\n      <td>26502615</td>\n      <td>paypal</td>\n      <td>zattoo_web_hiq_swiss_12mo</td>\n      <td>renewal</td>\n      <td>Switzerland</td>\n      <td>2022-02-24 04:11:04</td>\n      <td>2022-02-25 21:24:31</td>\n      <td>2022-04-04 13:43:50</td>\n      <td>base_hiq</td>\n      <td>8.214342</td>\n      <td>8.579387</td>\n      <td>111.420613</td>\n      <td>106.679764</td>\n      <td>3</td>\n      <td>3</td>\n      <td>2022-04-01</td>\n      <td>3</td>\n      <td>0</td>\n      <td>0</td>\n      <td>38</td>\n      <td>3</td>\n    </tr>\n    <tr>\n      <th>83543</th>\n      <td>36100194</td>\n      <td>30329636</td>\n      <td>credit_card</td>\n      <td>zattoo_web_hiq_swiss_12mo</td>\n      <td>new_sale</td>\n      <td>Switzerland</td>\n      <td>2022-02-27 20:00:32</td>\n      <td>2022-03-01 20:24:18</td>\n      <td>2022-04-25 18:38:44</td>\n      <td>base_hiq</td>\n      <td>8.214342</td>\n      <td>8.579387</td>\n      <td>111.420613</td>\n      <td>106.679764</td>\n      <td>2</td>\n      <td>1</td>\n      <td>2022-03-01</td>\n      <td>31</td>\n      <td>1</td>\n      <td>0</td>\n      <td>55</td>\n      <td>2</td>\n    </tr>\n    <tr>\n      <th>83544</th>\n      <td>36100194</td>\n      <td>30329636</td>\n      <td>credit_card</td>\n      <td>zattoo_web_hiq_swiss_12mo</td>\n      <td>new_sale</td>\n      <td>Switzerland</td>\n      <td>2022-02-27 20:00:32</td>\n      <td>2022-03-01 20:24:18</td>\n      <td>2022-04-25 18:38:44</td>\n      <td>base_hiq</td>\n      <td>8.214342</td>\n      <td>8.579387</td>\n      <td>111.420613</td>\n      <td>106.679764</td>\n      <td>2</td>\n      <td>2</td>\n      <td>2022-04-01</td>\n      <td>24</td>\n      <td>0</td>\n      <td>0</td>\n      <td>55</td>\n      <td>2</td>\n    </tr>\n    <tr>\n      <th>101440</th>\n      <td>36028316</td>\n      <td>4213939</td>\n      <td>postfinance_card</td>\n      <td>zattoo_web_hiq_swiss_12mo</td>\n      <td>renewal</td>\n      <td>Switzerland</td>\n      <td>2022-02-22 04:15:28</td>\n      <td>2022-02-23 18:36:05</td>\n      <td>2022-05-01 15:16:51</td>\n      <td>base_hiq</td>\n      <td>8.214342</td>\n      <td>8.579387</td>\n      <td>111.420613</td>\n      <td>106.679764</td>\n      <td>4</td>\n      <td>1</td>\n      <td>2022-02-01</td>\n      <td>6</td>\n      <td>1</td>\n      <td>1</td>\n      <td>67</td>\n      <td>4</td>\n    </tr>\n    <tr>\n      <th>101441</th>\n      <td>36028316</td>\n      <td>4213939</td>\n      <td>postfinance_card</td>\n      <td>zattoo_web_hiq_swiss_12mo</td>\n      <td>renewal</td>\n      <td>Switzerland</td>\n      <td>2022-02-22 04:15:28</td>\n      <td>2022-02-23 18:36:05</td>\n      <td>2022-05-01 15:16:51</td>\n      <td>base_hiq</td>\n      <td>8.214342</td>\n      <td>8.579387</td>\n      <td>111.420613</td>\n      <td>106.679764</td>\n      <td>4</td>\n      <td>2</td>\n      <td>2022-03-01</td>\n      <td>31</td>\n      <td>1</td>\n      <td>1</td>\n      <td>67</td>\n      <td>4</td>\n    </tr>\n    <tr>\n      <th>101442</th>\n      <td>36028316</td>\n      <td>4213939</td>\n      <td>postfinance_card</td>\n      <td>zattoo_web_hiq_swiss_12mo</td>\n      <td>renewal</td>\n      <td>Switzerland</td>\n      <td>2022-02-22 04:15:28</td>\n      <td>2022-02-23 18:36:05</td>\n      <td>2022-05-01 15:16:51</td>\n      <td>base_hiq</td>\n      <td>8.214342</td>\n      <td>8.579387</td>\n      <td>111.420613</td>\n      <td>106.679764</td>\n      <td>4</td>\n      <td>3</td>\n      <td>2022-04-01</td>\n      <td>30</td>\n      <td>1</td>\n      <td>0</td>\n      <td>67</td>\n      <td>4</td>\n    </tr>\n    <tr>\n      <th>101443</th>\n      <td>36028316</td>\n      <td>4213939</td>\n      <td>postfinance_card</td>\n      <td>zattoo_web_hiq_swiss_12mo</td>\n      <td>renewal</td>\n      <td>Switzerland</td>\n      <td>2022-02-22 04:15:28</td>\n      <td>2022-02-23 18:36:05</td>\n      <td>2022-05-01 15:16:51</td>\n      <td>base_hiq</td>\n      <td>8.214342</td>\n      <td>8.579387</td>\n      <td>111.420613</td>\n      <td>106.679764</td>\n      <td>4</td>\n      <td>4</td>\n      <td>2022-05-01</td>\n      <td>0</td>\n      <td>0</td>\n      <td>0</td>\n      <td>67</td>\n      <td>4</td>\n    </tr>\n    <tr>\n      <th>107205</th>\n      <td>35881953</td>\n      <td>30367114</td>\n      <td>credit_card</td>\n      <td>zattoo_web_hiq_swiss_12mo</td>\n      <td>new_sale</td>\n      <td>Switzerland</td>\n      <td>2022-02-10 11:12:03</td>\n      <td>2022-02-10 11:12:03</td>\n      <td>2022-02-23 15:06:48</td>\n      <td>base_hiq</td>\n      <td>8.214342</td>\n      <td>8.579387</td>\n      <td>111.420613</td>\n      <td>106.679764</td>\n      <td>1</td>\n      <td>1</td>\n      <td>2022-02-01</td>\n      <td>22</td>\n      <td>1</td>\n      <td>0</td>\n      <td>22</td>\n      <td>1</td>\n    </tr>\n    <tr>\n      <th>107297</th>\n      <td>35884162</td>\n      <td>28134112</td>\n      <td>credit_card</td>\n      <td>zattoo_web_hiq_swiss_12mo</td>\n      <td>new_sale</td>\n      <td>Switzerland</td>\n      <td>2022-02-10 17:13:09</td>\n      <td>2022-02-10 17:13:09</td>\n      <td>2022-02-15 17:14:10</td>\n      <td>base_hiq</td>\n      <td>8.214342</td>\n      <td>8.579387</td>\n      <td>111.420613</td>\n      <td>106.679764</td>\n      <td>1</td>\n      <td>1</td>\n      <td>2022-02-01</td>\n      <td>14</td>\n      <td>1</td>\n      <td>0</td>\n      <td>14</td>\n      <td>1</td>\n    </tr>\n    <tr>\n      <th>121772</th>\n      <td>35966387</td>\n      <td>195013</td>\n      <td>paypal</td>\n      <td>zattoo_web_hiq_swiss_12mo</td>\n      <td>renewal</td>\n      <td>Switzerland</td>\n      <td>2022-02-17 04:02:48</td>\n      <td>2022-02-18 19:12:33</td>\n      <td>2022-04-13 19:15:11</td>\n      <td>base_hiq</td>\n      <td>8.214342</td>\n      <td>8.579387</td>\n      <td>111.420613</td>\n      <td>106.679764</td>\n      <td>3</td>\n      <td>1</td>\n      <td>2022-02-01</td>\n      <td>11</td>\n      <td>1</td>\n      <td>1</td>\n      <td>54</td>\n      <td>3</td>\n    </tr>\n    <tr>\n      <th>121773</th>\n      <td>35966387</td>\n      <td>195013</td>\n      <td>paypal</td>\n      <td>zattoo_web_hiq_swiss_12mo</td>\n      <td>renewal</td>\n      <td>Switzerland</td>\n      <td>2022-02-17 04:02:48</td>\n      <td>2022-02-18 19:12:33</td>\n      <td>2022-04-13 19:15:11</td>\n      <td>base_hiq</td>\n      <td>8.214342</td>\n      <td>8.579387</td>\n      <td>111.420613</td>\n      <td>106.679764</td>\n      <td>3</td>\n      <td>2</td>\n      <td>2022-03-01</td>\n      <td>31</td>\n      <td>1</td>\n      <td>0</td>\n      <td>54</td>\n      <td>3</td>\n    </tr>\n    <tr>\n      <th>121774</th>\n      <td>35966387</td>\n      <td>195013</td>\n      <td>paypal</td>\n      <td>zattoo_web_hiq_swiss_12mo</td>\n      <td>renewal</td>\n      <td>Switzerland</td>\n      <td>2022-02-17 04:02:48</td>\n      <td>2022-02-18 19:12:33</td>\n      <td>2022-04-13 19:15:11</td>\n      <td>base_hiq</td>\n      <td>8.214342</td>\n      <td>8.579387</td>\n      <td>111.420613</td>\n      <td>106.679764</td>\n      <td>3</td>\n      <td>3</td>\n      <td>2022-04-01</td>\n      <td>12</td>\n      <td>0</td>\n      <td>0</td>\n      <td>54</td>\n      <td>3</td>\n    </tr>\n    <tr>\n      <th>137482</th>\n      <td>35811849</td>\n      <td>15053078</td>\n      <td>credit_card</td>\n      <td>zattoo_web_hiq_swiss_12mo</td>\n      <td>new_sale</td>\n      <td>Switzerland</td>\n      <td>2022-02-04 22:02:37</td>\n      <td>2022-02-04 22:02:37</td>\n      <td>2022-03-11 15:31:37</td>\n      <td>base_hiq</td>\n      <td>8.214342</td>\n      <td>8.579387</td>\n      <td>111.420613</td>\n      <td>106.679764</td>\n      <td>2</td>\n      <td>1</td>\n      <td>2022-02-01</td>\n      <td>25</td>\n      <td>1</td>\n      <td>0</td>\n      <td>35</td>\n      <td>2</td>\n    </tr>\n    <tr>\n      <th>137483</th>\n      <td>35811849</td>\n      <td>15053078</td>\n      <td>credit_card</td>\n      <td>zattoo_web_hiq_swiss_12mo</td>\n      <td>new_sale</td>\n      <td>Switzerland</td>\n      <td>2022-02-04 22:02:37</td>\n      <td>2022-02-04 22:02:37</td>\n      <td>2022-03-11 15:31:37</td>\n      <td>base_hiq</td>\n      <td>8.214342</td>\n      <td>8.579387</td>\n      <td>111.420613</td>\n      <td>106.679764</td>\n      <td>2</td>\n      <td>2</td>\n      <td>2022-03-01</td>\n      <td>10</td>\n      <td>0</td>\n      <td>0</td>\n      <td>35</td>\n      <td>2</td>\n    </tr>\n    <tr>\n      <th>137718</th>\n      <td>35913283</td>\n      <td>7087532</td>\n      <td>postfinance_card</td>\n      <td>zattoo_web_hiq_swiss_12mo</td>\n      <td>renewal</td>\n      <td>Switzerland</td>\n      <td>2022-02-13 04:06:44</td>\n      <td>2022-02-14 22:12:47</td>\n      <td>2022-03-31 18:45:07</td>\n      <td>base_hiq</td>\n      <td>8.214342</td>\n      <td>8.579387</td>\n      <td>111.420613</td>\n      <td>106.679764</td>\n      <td>2</td>\n      <td>1</td>\n      <td>2022-02-01</td>\n      <td>15</td>\n      <td>1</td>\n      <td>0</td>\n      <td>45</td>\n      <td>2</td>\n    </tr>\n    <tr>\n      <th>137719</th>\n      <td>35913283</td>\n      <td>7087532</td>\n      <td>postfinance_card</td>\n      <td>zattoo_web_hiq_swiss_12mo</td>\n      <td>renewal</td>\n      <td>Switzerland</td>\n      <td>2022-02-13 04:06:44</td>\n      <td>2022-02-14 22:12:47</td>\n      <td>2022-03-31 18:45:07</td>\n      <td>base_hiq</td>\n      <td>8.214342</td>\n      <td>8.579387</td>\n      <td>111.420613</td>\n      <td>106.679764</td>\n      <td>2</td>\n      <td>2</td>\n      <td>2022-03-01</td>\n      <td>30</td>\n      <td>0</td>\n      <td>0</td>\n      <td>45</td>\n      <td>2</td>\n    </tr>\n    <tr>\n      <th>138591</th>\n      <td>35802413</td>\n      <td>25952940</td>\n      <td>credit_card</td>\n      <td>zattoo_web_hiq_swiss_12mo</td>\n      <td>renewal</td>\n      <td>Switzerland</td>\n      <td>2022-02-04 04:08:57</td>\n      <td>2022-02-05 20:26:51</td>\n      <td>2022-02-25 11:11:17</td>\n      <td>base_hiq</td>\n      <td>8.214342</td>\n      <td>8.579387</td>\n      <td>111.420613</td>\n      <td>106.679764</td>\n      <td>1</td>\n      <td>1</td>\n      <td>2022-02-01</td>\n      <td>24</td>\n      <td>1</td>\n      <td>0</td>\n      <td>24</td>\n      <td>1</td>\n    </tr>\n    <tr>\n      <th>139927</th>\n      <td>35980649</td>\n      <td>364870</td>\n      <td>paypal</td>\n      <td>zattoo_web_hiq_swiss_12mo</td>\n      <td>renewal</td>\n      <td>Switzerland</td>\n      <td>2022-02-18 04:02:56</td>\n      <td>2022-02-19 13:54:20</td>\n      <td>2022-03-03 13:20:43</td>\n      <td>base_hiq</td>\n      <td>8.214342</td>\n      <td>8.579387</td>\n      <td>111.420613</td>\n      <td>106.679764</td>\n      <td>2</td>\n      <td>1</td>\n      <td>2022-02-01</td>\n      <td>10</td>\n      <td>1</td>\n      <td>0</td>\n      <td>12</td>\n      <td>2</td>\n    </tr>\n    <tr>\n      <th>139928</th>\n      <td>35980649</td>\n      <td>364870</td>\n      <td>paypal</td>\n      <td>zattoo_web_hiq_swiss_12mo</td>\n      <td>renewal</td>\n      <td>Switzerland</td>\n      <td>2022-02-18 04:02:56</td>\n      <td>2022-02-19 13:54:20</td>\n      <td>2022-03-03 13:20:43</td>\n      <td>base_hiq</td>\n      <td>8.214342</td>\n      <td>8.579387</td>\n      <td>111.420613</td>\n      <td>106.679764</td>\n      <td>2</td>\n      <td>2</td>\n      <td>2022-03-01</td>\n      <td>2</td>\n      <td>0</td>\n      <td>0</td>\n      <td>12</td>\n      <td>2</td>\n    </tr>\n    <tr>\n      <th>139955</th>\n      <td>35984466</td>\n      <td>21857259</td>\n      <td>paypal</td>\n      <td>zattoo_web_hiq_swiss_12mo</td>\n      <td>renewal</td>\n      <td>Switzerland</td>\n      <td>2022-02-18 08:27:34</td>\n      <td>2022-02-18 08:29:16</td>\n      <td>2022-02-18 08:29:16</td>\n      <td>base_hiq</td>\n      <td>8.214342</td>\n      <td>8.579387</td>\n      <td>111.420613</td>\n      <td>106.679764</td>\n      <td>1</td>\n      <td>1</td>\n      <td>2022-02-01</td>\n      <td>17</td>\n      <td>1</td>\n      <td>0</td>\n      <td>17</td>\n      <td>1</td>\n    </tr>\n    <tr>\n      <th>161213</th>\n      <td>35901031</td>\n      <td>2507800</td>\n      <td>paypal</td>\n      <td>zattoo_web_hiq_swiss_12mo</td>\n      <td>renewal</td>\n      <td>Switzerland</td>\n      <td>2022-02-12 04:04:17</td>\n      <td>2022-02-13 23:32:25</td>\n      <td>2022-05-21 19:19:25</td>\n      <td>base_hiq</td>\n      <td>8.214342</td>\n      <td>8.579387</td>\n      <td>111.420613</td>\n      <td>106.679764</td>\n      <td>4</td>\n      <td>1</td>\n      <td>2022-02-01</td>\n      <td>16</td>\n      <td>1</td>\n      <td>1</td>\n      <td>97</td>\n      <td>4</td>\n    </tr>\n    <tr>\n      <th>161214</th>\n      <td>35901031</td>\n      <td>2507800</td>\n      <td>paypal</td>\n      <td>zattoo_web_hiq_swiss_12mo</td>\n      <td>renewal</td>\n      <td>Switzerland</td>\n      <td>2022-02-12 04:04:17</td>\n      <td>2022-02-13 23:32:25</td>\n      <td>2022-05-21 19:19:25</td>\n      <td>base_hiq</td>\n      <td>8.214342</td>\n      <td>8.579387</td>\n      <td>111.420613</td>\n      <td>106.679764</td>\n      <td>4</td>\n      <td>2</td>\n      <td>2022-03-01</td>\n      <td>31</td>\n      <td>1</td>\n      <td>1</td>\n      <td>97</td>\n      <td>4</td>\n    </tr>\n    <tr>\n      <th>161215</th>\n      <td>35901031</td>\n      <td>2507800</td>\n      <td>paypal</td>\n      <td>zattoo_web_hiq_swiss_12mo</td>\n      <td>renewal</td>\n      <td>Switzerland</td>\n      <td>2022-02-12 04:04:17</td>\n      <td>2022-02-13 23:32:25</td>\n      <td>2022-05-21 19:19:25</td>\n      <td>base_hiq</td>\n      <td>8.214342</td>\n      <td>8.579387</td>\n      <td>111.420613</td>\n      <td>106.679764</td>\n      <td>4</td>\n      <td>3</td>\n      <td>2022-04-01</td>\n      <td>30</td>\n      <td>1</td>\n      <td>0</td>\n      <td>97</td>\n      <td>4</td>\n    </tr>\n    <tr>\n      <th>161216</th>\n      <td>35901031</td>\n      <td>2507800</td>\n      <td>paypal</td>\n      <td>zattoo_web_hiq_swiss_12mo</td>\n      <td>renewal</td>\n      <td>Switzerland</td>\n      <td>2022-02-12 04:04:17</td>\n      <td>2022-02-13 23:32:25</td>\n      <td>2022-05-21 19:19:25</td>\n      <td>base_hiq</td>\n      <td>8.214342</td>\n      <td>8.579387</td>\n      <td>111.420613</td>\n      <td>106.679764</td>\n      <td>4</td>\n      <td>4</td>\n      <td>2022-05-01</td>\n      <td>20</td>\n      <td>0</td>\n      <td>0</td>\n      <td>97</td>\n      <td>4</td>\n    </tr>\n    <tr>\n      <th>164352</th>\n      <td>36010125</td>\n      <td>30358491</td>\n      <td>credit_card</td>\n      <td>zattoo_web_hiq_swiss_12mo</td>\n      <td>new_sale</td>\n      <td>Switzerland</td>\n      <td>2022-02-20 12:16:33</td>\n      <td>2022-02-20 12:16:33</td>\n      <td>2022-02-21 11:42:06</td>\n      <td>base_hiq</td>\n      <td>8.214342</td>\n      <td>8.579387</td>\n      <td>111.420613</td>\n      <td>106.679764</td>\n      <td>1</td>\n      <td>1</td>\n      <td>2022-02-01</td>\n      <td>20</td>\n      <td>1</td>\n      <td>0</td>\n      <td>20</td>\n      <td>1</td>\n    </tr>\n    <tr>\n      <th>202900</th>\n      <td>35864749</td>\n      <td>11371556</td>\n      <td>paypal</td>\n      <td>zattoo_web_hiq_swiss_12mo</td>\n      <td>renewal</td>\n      <td>Switzerland</td>\n      <td>2022-02-09 04:03:42</td>\n      <td>2022-02-09 10:41:51</td>\n      <td>2022-02-09 10:41:51</td>\n      <td>base_hiq</td>\n      <td>8.214342</td>\n      <td>8.579387</td>\n      <td>111.420613</td>\n      <td>106.679764</td>\n      <td>1</td>\n      <td>1</td>\n      <td>2022-02-01</td>\n      <td>8</td>\n      <td>1</td>\n      <td>0</td>\n      <td>8</td>\n      <td>1</td>\n    </tr>\n    <tr>\n      <th>205102</th>\n      <td>35839743</td>\n      <td>4121853</td>\n      <td>paypal</td>\n      <td>zattoo_web_hiq_swiss_12mo</td>\n      <td>renewal</td>\n      <td>Switzerland</td>\n      <td>2022-02-07 04:04:16</td>\n      <td>2022-02-08 18:23:13</td>\n      <td>2022-04-17 20:32:36</td>\n      <td>base_hiq</td>\n      <td>8.214342</td>\n      <td>8.579387</td>\n      <td>111.420613</td>\n      <td>106.679764</td>\n      <td>3</td>\n      <td>1</td>\n      <td>2022-02-01</td>\n      <td>21</td>\n      <td>1</td>\n      <td>1</td>\n      <td>68</td>\n      <td>3</td>\n    </tr>\n    <tr>\n      <th>205103</th>\n      <td>35839743</td>\n      <td>4121853</td>\n      <td>paypal</td>\n      <td>zattoo_web_hiq_swiss_12mo</td>\n      <td>renewal</td>\n      <td>Switzerland</td>\n      <td>2022-02-07 04:04:16</td>\n      <td>2022-02-08 18:23:13</td>\n      <td>2022-04-17 20:32:36</td>\n      <td>base_hiq</td>\n      <td>8.214342</td>\n      <td>8.579387</td>\n      <td>111.420613</td>\n      <td>106.679764</td>\n      <td>3</td>\n      <td>2</td>\n      <td>2022-03-01</td>\n      <td>31</td>\n      <td>1</td>\n      <td>0</td>\n      <td>68</td>\n      <td>3</td>\n    </tr>\n    <tr>\n      <th>205104</th>\n      <td>35839743</td>\n      <td>4121853</td>\n      <td>paypal</td>\n      <td>zattoo_web_hiq_swiss_12mo</td>\n      <td>renewal</td>\n      <td>Switzerland</td>\n      <td>2022-02-07 04:04:16</td>\n      <td>2022-02-08 18:23:13</td>\n      <td>2022-04-17 20:32:36</td>\n      <td>base_hiq</td>\n      <td>8.214342</td>\n      <td>8.579387</td>\n      <td>111.420613</td>\n      <td>106.679764</td>\n      <td>3</td>\n      <td>3</td>\n      <td>2022-04-01</td>\n      <td>16</td>\n      <td>0</td>\n      <td>0</td>\n      <td>68</td>\n      <td>3</td>\n    </tr>\n    <tr>\n      <th>212835</th>\n      <td>36065401</td>\n      <td>29044226</td>\n      <td>credit_card</td>\n      <td>zattoo_web_hiq_swiss_12mo</td>\n      <td>renewal</td>\n      <td>Switzerland</td>\n      <td>2022-02-25 04:14:25</td>\n      <td>2022-02-26 16:17:27</td>\n      <td>2022-03-10 08:58:29</td>\n      <td>base_hiq</td>\n      <td>8.214342</td>\n      <td>8.579387</td>\n      <td>111.420613</td>\n      <td>106.679764</td>\n      <td>2</td>\n      <td>1</td>\n      <td>2022-02-01</td>\n      <td>3</td>\n      <td>1</td>\n      <td>0</td>\n      <td>12</td>\n      <td>2</td>\n    </tr>\n    <tr>\n      <th>212836</th>\n      <td>36065401</td>\n      <td>29044226</td>\n      <td>credit_card</td>\n      <td>zattoo_web_hiq_swiss_12mo</td>\n      <td>renewal</td>\n      <td>Switzerland</td>\n      <td>2022-02-25 04:14:25</td>\n      <td>2022-02-26 16:17:27</td>\n      <td>2022-03-10 08:58:29</td>\n      <td>base_hiq</td>\n      <td>8.214342</td>\n      <td>8.579387</td>\n      <td>111.420613</td>\n      <td>106.679764</td>\n      <td>2</td>\n      <td>2</td>\n      <td>2022-03-01</td>\n      <td>9</td>\n      <td>0</td>\n      <td>0</td>\n      <td>12</td>\n      <td>2</td>\n    </tr>\n    <tr>\n      <th>216314</th>\n      <td>35894171</td>\n      <td>22961385</td>\n      <td>paypal</td>\n      <td>zattoo_web_hiq_swiss_12mo</td>\n      <td>new_sale</td>\n      <td>Switzerland</td>\n      <td>2022-02-11 10:07:05</td>\n      <td>2022-02-11 12:40:58</td>\n      <td>2022-02-11 12:40:58</td>\n      <td>base_hiq</td>\n      <td>8.214342</td>\n      <td>8.579387</td>\n      <td>111.420613</td>\n      <td>106.679764</td>\n      <td>1</td>\n      <td>1</td>\n      <td>2022-02-01</td>\n      <td>10</td>\n      <td>1</td>\n      <td>0</td>\n      <td>10</td>\n      <td>1</td>\n    </tr>\n    <tr>\n      <th>216367</th>\n      <td>35890200</td>\n      <td>30220878</td>\n      <td>credit_card</td>\n      <td>zattoo_web_hiq_swiss_12mo</td>\n      <td>new_sale</td>\n      <td>Switzerland</td>\n      <td>2022-02-11 05:41:57</td>\n      <td>2022-02-16 16:52:40</td>\n      <td>2022-02-16 16:52:40</td>\n      <td>base_hiq</td>\n      <td>8.214342</td>\n      <td>8.579387</td>\n      <td>111.420613</td>\n      <td>106.679764</td>\n      <td>1</td>\n      <td>1</td>\n      <td>2022-02-01</td>\n      <td>15</td>\n      <td>1</td>\n      <td>0</td>\n      <td>15</td>\n      <td>1</td>\n    </tr>\n    <tr>\n      <th>216602</th>\n      <td>35890280</td>\n      <td>30220878</td>\n      <td>credit_card</td>\n      <td>zattoo_web_hiq_swiss_12mo</td>\n      <td>renewal</td>\n      <td>Switzerland</td>\n      <td>2022-02-11 05:47:11</td>\n      <td>2022-02-16 16:52:40</td>\n      <td>2022-02-16 16:52:40</td>\n      <td>base_hiq</td>\n      <td>8.214342</td>\n      <td>8.579387</td>\n      <td>111.420613</td>\n      <td>106.679764</td>\n      <td>1</td>\n      <td>1</td>\n      <td>2022-02-01</td>\n      <td>15</td>\n      <td>1</td>\n      <td>0</td>\n      <td>15</td>\n      <td>1</td>\n    </tr>\n  </tbody>\n</table>\n</div>"
     },
     "execution_count": 963,
     "metadata": {},
     "output_type": "execute_result"
    }
   ],
   "source": [
    "## get 12mo subs that didn't stay for 12 months for posterior treatment of exception\n",
    "mt_df['max_revenue_month_number'] = mt_df.groupby(['transaction_id'])['revenue_month_number'].transform(max)\n",
    "\n",
    "mt_df[(mt_df.sku.str.contains('zattoo_web_hiq_swiss_12mo')) & (mt_df.max_revenue_month_number < 13)]"
   ],
   "metadata": {
    "collapsed": false,
    "pycharm": {
     "name": "#%%\n"
    }
   }
  },
  {
   "cell_type": "code",
   "execution_count": 889,
   "outputs": [],
   "source": [
    "## NEW LINE! added on 2022-04-27\n",
    "## product_term_length fix for subscriptions < 31 days (1, 3, 7 days)\n",
    "mt_df['product_term_length'][mt_df.sku.str.contains('day')] = (mt_df.term_end - mt_df.term_start).dt.days"
   ],
   "metadata": {
    "collapsed": false,
    "pycharm": {
     "name": "#%%\n"
    }
   }
  },
  {
   "cell_type": "code",
   "execution_count": 890,
   "outputs": [],
   "source": [
    "trx_lst = mt_df['transaction_id'][(mt_df.sku.str.contains('day')) & (mt_df['revenue_month_number'] > 1)].unique()"
   ],
   "metadata": {
    "collapsed": false,
    "pycharm": {
     "name": "#%%\n"
    }
   }
  },
  {
   "cell_type": "code",
   "execution_count": 891,
   "outputs": [],
   "source": [
    "## total_days fix for subscriptions < 31 days (1, 3, 7 days)\n",
    "mt_df[\"total_days\"][(mt_df.product_term_length != mt_df.total_days) & (mt_df['product_term_length_months'] <= 1)] = mt_df[\"product_term_length\"][\n",
    "    (mt_df.product_term_length != mt_df.total_days) & (mt_df['product_term_length_months'] <= 1)]"
   ],
   "metadata": {
    "collapsed": false,
    "pycharm": {
     "name": "#%%\n"
    }
   }
  },
  {
   "cell_type": "code",
   "execution_count": 892,
   "metadata": {
    "pycharm": {
     "name": "#%%\n"
    }
   },
   "outputs": [],
   "source": [
    "## calculate total_revenue_net fields\n",
    "mt_df[\"total_revenue_net_EUR\"] = (\n",
    "        mt_df[\"total_booking_net_EUR\"] / mt_df[\"total_days\"] * mt_df[\"product_term_length\"]\n",
    ")\n",
    "\n",
    "mt_df[\"total_revenue_net_CHF\"] = (\n",
    "        mt_df[\"total_booking_net_CHF\"] / mt_df[\"total_days\"] * mt_df[\"product_term_length\"]\n",
    ")\n",
    "\n",
    "## remove total_booking values from all lines of group except first\n",
    "mt_df.loc[\n",
    "    mt_df[\"revenue_month_number\"] > 1,\n",
    "    [\"total_booking_net_CHF\", \"total_booking_net_EUR\"],\n",
    "] = 0.0"
   ]
  },
  {
   "cell_type": "code",
   "execution_count": 893,
   "outputs": [],
   "source": [
    "## remove VAT values from all lines of group except first\n",
    "vat_cols = [\"vat_chf\", \"vat_eur\"]\n",
    "\n",
    "for col in vat_cols:\n",
    "    mt_df.loc[\n",
    "        mt_df[\"revenue_month_number\"] > 1,\n",
    "        [col, \"total_booking_net_EUR\"],\n",
    "    ] = 0.0"
   ],
   "metadata": {
    "collapsed": false,
    "pycharm": {
     "name": "#%%\n"
    }
   }
  },
  {
   "cell_type": "code",
   "execution_count": 894,
   "metadata": {
    "pycharm": {
     "name": "#%%\n"
    }
   },
   "outputs": [],
   "source": [
    "## prepare df_nocalcs for free trials and full discounts\n",
    "mt_df_nocalcs = df[~df[\"type_of_transaction\"].isin(type_trans_lst)].copy()\n",
    "\n",
    "for date in parse_dates:\n",
    "    mt_df_nocalcs[date] = pd.to_datetime(mt_df_nocalcs[date]).dt.tz_convert(None)"
   ]
  },
  {
   "cell_type": "code",
   "execution_count": 895,
   "metadata": {
    "pycharm": {
     "name": "#%%\n"
    }
   },
   "outputs": [],
   "source": [
    "## calculate total_booking_net columns\n",
    "mt_df_nocalcs[\"total_booking_net_CHF\"] = (\n",
    "        mt_df_nocalcs[\"new_booking_net_CHF\"] + mt_df_nocalcs[\"renewal_booking_net_CHF\"]\n",
    ")\n",
    "mt_df_nocalcs[\"total_booking_net_EUR\"] = (\n",
    "        mt_df_nocalcs[\"new_booking_net_EUR\"] + mt_df_nocalcs[\"renewal_booking_net_EUR\"]\n",
    ")"
   ]
  },
  {
   "cell_type": "code",
   "execution_count": 896,
   "outputs": [],
   "source": [
    "## adding vat_percentage to calculate sales_price\n",
    "mt_df['vat_eur_percentage'] = (mt_df['vat_eur'] / mt_df['total_booking_net_EUR']).astype(float, errors='ignore')\n",
    "mt_df['vat_chf_percentage'] = (mt_df['vat_chf'] / mt_df['total_booking_net_CHF']).astype(float, errors='ignore')\n",
    "\n",
    "mt_df['sales_price_eur'] = mt_df['total_booking_net_EUR'] * (\n",
    "        1 + mt_df['vat_eur_percentage'])\n",
    "mt_df['sales_price_chf'] = mt_df['total_booking_net_CHF'] * (\n",
    "        1 + mt_df['vat_chf_percentage'])"
   ],
   "metadata": {
    "collapsed": false,
    "pycharm": {
     "name": "#%%\n"
    }
   }
  },
  {
   "cell_type": "code",
   "execution_count": 897,
   "metadata": {
    "pycharm": {
     "name": "#%%\n"
    }
   },
   "outputs": [],
   "source": [
    "## append dataframes\n",
    "mt_df_final = mt_df.append(mt_df_nocalcs).reset_index(drop=True)\n",
    "\n",
    "## convert revenue_month_date to date\n",
    "mt_df_final[\"revenue_month_date\"] = pd.to_datetime(\n",
    "    mt_df_final[\"revenue_month_date\"]\n",
    ").dt.date"
   ]
  },
  {
   "cell_type": "code",
   "execution_count": 898,
   "outputs": [],
   "source": [
    "## extract list of transaction ids whose subscription float between one month and the other, and are 1, 3 or 7 days (== product_length < 31)\n",
    "trx_lst_more_1month_subs = mt_df['transaction_id'][\n",
    "    (mt_df[\"revenue_month_number\"] > 1) & (mt_df.sku.str.contains('day'))]\n",
    "\n",
    "## this logic makes sure the days are allocated correctly for these very specific subscriptions\n",
    "mt_df['product_term_length'][\n",
    "    (mt_df.transaction_id.isin(trx_lst_more_1month_subs)) & (mt_df.revenue_month_number == 1)] = - (\n",
    "        mt_df.term_start - mt_df.revenue_month_date.shift(1)).dt.days\n",
    "\n",
    "mt_df['product_term_length'][\n",
    "    (mt_df.transaction_id.isin(trx_lst_more_1month_subs)) & (mt_df.revenue_month_number > 1)] = (\n",
    "        mt_df.term_end - mt_df.revenue_month_date).dt.days"
   ],
   "metadata": {
    "collapsed": false,
    "pycharm": {
     "name": "#%%\n"
    }
   }
  },
  {
   "cell_type": "code",
   "execution_count": 899,
   "outputs": [],
   "source": [
    "## fix active_sub_month_end for subscriptions with only 1 revenue month and length < 30 days\n",
    "mt_df['last_day_term_end'] = (pd.to_datetime(mt_df['term_end'], format=\"%d\", unit='d')).dt.day\n",
    "mt_df['last_day_month'] = (pd.to_datetime(mt_df['term_end'], format=\"%d\", unit='d')+ pd.offsets.MonthEnd(n=1)).dt.day\n",
    "\n",
    "mt_df[\"active_sub_month_end\"][mt_df.last_day_term_end < mt_df.last_day_month] = 0"
   ],
   "metadata": {
    "collapsed": false,
    "pycharm": {
     "name": "#%%\n"
    }
   }
  },
  {
   "cell_type": "code",
   "execution_count": 900,
   "outputs": [],
   "source": [
    "## fix those one line transactions that still have wrong product_term_length\n",
    "trx_id_counts = mt_df['transaction_id'].value_counts(sort=False)\n",
    "check_length_mask = mt_df[mt_df['transaction_id'].isin(trx_id_counts.index[trx_id_counts == 1])].index.to_list()\n",
    "\n",
    "mt_df[\"product_term_length\"].loc[check_length_mask] = mt_df['term_end'].dt.day - mt_df.term_start.dt.day"
   ],
   "metadata": {
    "collapsed": false,
    "pycharm": {
     "name": "#%%\n"
    }
   }
  },
  {
   "cell_type": "code",
   "execution_count": 901,
   "outputs": [],
   "source": [
    "## reorder dataframe\n",
    "mt_df = mt_df[\n",
    "    [\n",
    "        \"transaction_id\",\n",
    "        \"zuid\",\n",
    "        \"payment_method\",\n",
    "        \"sku\",\n",
    "        \"type_of_transaction\",\n",
    "        \"country_name\",\n",
    "        \"transaction_date\",\n",
    "        \"total_booking_net_CHF\",\n",
    "        \"total_booking_net_EUR\",\n",
    "        \"vat_chf\",\n",
    "        \"vat_eur\",\n",
    "        \"term_start\",\n",
    "        \"term_end\",\n",
    "        \"product_term_length\",\n",
    "        \"product_term_length_months\",\n",
    "        \"product_group_finance\",\n",
    "        \"revenue_month_number\",\n",
    "        \"revenue_month_date\",\n",
    "        \"total_revenue_net_EUR\",\n",
    "        \"total_revenue_net_CHF\",\n",
    "        \"sales_price_eur\",\n",
    "        \"sales_price_chf\",\n",
    "        \"active_sub_month_end\",\n",
    "    ]\n",
    "]\n",
    "\n",
    "## define BQ table schema\n",
    "bq_schema = [\n",
    "    {\"name\": \"transaction_id\", \"type\": \"STRING\"},\n",
    "    {\"name\": \"zuid\", \"type\": \"INTEGER\"},\n",
    "    {\"name\": \"payment_method\", \"type\": \"STRING\"},\n",
    "    {\"name\": \"sku\", \"type\": \"STRING\"},\n",
    "    {\"name\": \"type_of_transaction\", \"type\": \"STRING\"},\n",
    "    {\"name\": \"transaction_date\", \"type\": \"TIMESTAMP\"},\n",
    "    {\"name\": \"country_name\", \"type\": \"STRING\"},\n",
    "    {\"name\": \"total_booking_net_CHF\", \"type\": \"FLOAT\"},\n",
    "    {\"name\": \"total_booking_net_EUR\", \"type\": \"FLOAT\"},\n",
    "    {\"name\": \"vat_chf\", \"type\": \"FLOAT\"},\n",
    "    {\"name\": \"vat_eur\", \"type\": \"FLOAT\"},\n",
    "    {\"name\": \"term_start\", \"type\": \"TIMESTAMP\"},\n",
    "    {\"name\": \"term_end\", \"type\": \"TIMESTAMP\"},\n",
    "    {\"name\": \"product_term_length\", \"type\": \"INTEGER\"},\n",
    "    {\"name\": \"product_term_length_months\", \"type\": \"INTEGER\"},\n",
    "    {\"name\": \"product_group_finance\", \"type\": \"STRING\"},\n",
    "    {\"name\": \"revenue_month_number\", \"type\": \"INTEGER\"},\n",
    "    {\"name\": \"revenue_month_date\", \"type\": \"DATE\"},\n",
    "    {\"name\": \"total_revenue_net_EUR\", \"type\": \"FLOAT\"},\n",
    "    {\"name\": \"total_revenue_net_CHF\", \"type\": \"FLOAT\"},\n",
    "    {\"name\": \"sales_price_eur\", \"type\": \"FLOAT\"},\n",
    "    {\"name\": \"sales_price_chf\", \"type\": \"FLOAT\"},\n",
    "    {\"name\": \"active_sub_month_end\", \"type\": \"INTEGER\"},\n",
    "]"
   ],
   "metadata": {
    "collapsed": false,
    "pycharm": {
     "name": "#%%\n"
    }
   }
  },
  {
   "cell_type": "code",
   "execution_count": 902,
   "outputs": [],
   "source": [
    "## export to BQ table\n",
    "pandas_gbq.to_gbq(\n",
    "    dataframe=mt_df_final,\n",
    "    destination_table=\"temp.pypayment_v2_1_022022\",\n",
    "    project_id=\"zattoo-dataeng\",\n",
    "    if_exists=\"replace\",\n",
    "    progress_bar=None,\n",
    "    table_schema=bq_schema,\n",
    ")"
   ],
   "metadata": {
    "collapsed": false,
    "pycharm": {
     "name": "#%%\n"
    }
   }
  },
  {
   "cell_type": "code",
   "execution_count": 903,
   "outputs": [],
   "source": [
    "## export to csv\n",
    "path = r\"/Users/miguelcouto/Desktop/\"\n",
    "\n",
    "mt_df_final.to_csv(os.path.join(path, r\"pypayment_v2_1_022022.csv\"))"
   ],
   "metadata": {
    "collapsed": false,
    "pycharm": {
     "name": "#%%\n"
    }
   }
  }
 ],
 "metadata": {
  "kernelspec": {
   "display_name": "Python 3",
   "language": "python",
   "name": "python3"
  },
  "language_info": {
   "codemirror_mode": {
    "name": "ipython",
    "version": 3
   },
   "file_extension": ".py",
   "mimetype": "text/x-python",
   "name": "python",
   "nbconvert_exporter": "python",
   "pygments_lexer": "ipython3",
   "version": "3.9.4"
  }
 },
 "nbformat": 4,
 "nbformat_minor": 4
}
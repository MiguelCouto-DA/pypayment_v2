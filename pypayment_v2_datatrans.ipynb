{
 "cells": [
  {
   "cell_type": "code",
   "execution_count": 48,
   "outputs": [],
   "source": [
    "#%load_ext lab_black"
   ],
   "metadata": {
    "collapsed": false,
    "pycharm": {
     "name": "#%%\n"
    }
   }
  },
  {
   "cell_type": "code",
   "execution_count": 49,
   "outputs": [],
   "source": [
    "from google.cloud import bigquery\n",
    "from google.oauth2 import service_account\n",
    "import pandas_gbq\n",
    "import pandas as pd\n",
    "import numpy as np\n",
    "import os\n",
    "import warnings\n",
    "\n",
    "pd.set_option('display.max_columns', None)\n",
    "warnings.filterwarnings('ignore')\n",
    "\n",
    "credentials = service_account.Credentials.from_service_account_file(\n",
    "    \"/Users/miguelcouto/Downloads/zattoo-dataeng-e5f45785174f.json\"\n",
    ")\n",
    "\n",
    "project_id = \"zattoo-dataeng\"\n",
    "client = bigquery.Client(credentials=credentials, project=project_id)"
   ],
   "metadata": {
    "collapsed": false,
    "pycharm": {
     "name": "#%%\n"
    }
   }
  },
  {
   "cell_type": "code",
   "execution_count": 50,
   "metadata": {
    "pycharm": {
     "name": "#%%\n"
    }
   },
   "outputs": [],
   "source": [
    "sql_calcs = \"\"\"\n",
    "select mt.transaction_id,\n",
    "       mt.zuid,\n",
    "       mt.payment_method,\n",
    "       mt.sku,\n",
    "       mt.type_of_transaction,\n",
    "       case\n",
    "           when mt.country_name = 'Germany' then 'Germany'\n",
    "           when mt.country_name = 'Austria' then 'Austria'\n",
    "           else 'Switzerland' end                   as country_name,\n",
    "       mt.new_booking_net_chf,\n",
    "       mt.renewal_booking_net_chf,\n",
    "       mt.new_booking_net_eur,\n",
    "       mt.renewal_booking_net_eur,\n",
    "       mt.transaction_date,\n",
    "       mt.term_start,\n",
    "       mt.term_end,\n",
    "       product_service_view.zuya_account_permission as product_group_finance,\n",
    "       mt.vat_eur,\n",
    "       mt.vat_chf,\n",
    "       mt.store_fees_chf,\n",
    "       mt.store_fees_eur\n",
    "from b2c_middleware.middlelayer_transactions mt\n",
    "         LEFT JOIN b2c_middleware_import.product_product_view AS product_product_view\n",
    "                   ON mt.sku = product_product_view.sku\n",
    "                       AND DATE(mt.transaction_date) = product_product_view.inserted_at_date\n",
    "         LEFT JOIN b2c_middleware_import.product_subscriptionproduct_view AS product_subscriptionproduct_view\n",
    "                   ON product_product_view.id = product_subscriptionproduct_view.id\n",
    "                       AND\n",
    "                      product_product_view.inserted_at_date = product_subscriptionproduct_view.inserted_at_date\n",
    "         LEFT JOIN b2c_middleware_import.product_offer_view AS product_offer_view\n",
    "                   ON product_subscriptionproduct_view.offer_id = product_offer_view.id\n",
    "                       AND product_subscriptionproduct_view.inserted_at_date = product_offer_view.inserted_at_date\n",
    "         LEFT JOIN b2c_middleware_import.product_service_view AS product_service_view\n",
    "                   ON product_offer_view.service_id = product_service_view.id\n",
    "                       AND product_offer_view.inserted_at_date = product_service_view.inserted_at_date\n",
    "where true\n",
    "  and mt.app_shop_id = 'amazon'\n",
    "  and mt.transaction_date >= '2022-02-01 00:00:00'\n",
    "  and mt.transaction_date <= '2022-02-28 23:59:59'\n",
    "-- NEW LINE! added on 2022-04-27\n",
    " -- and mt.type_of_transaction != 'refund'\n",
    "           \"\"\""
   ]
  },
  {
   "cell_type": "code",
   "execution_count": 51,
   "outputs": [],
   "source": [
    "## prepare dataframe\n",
    "df = pandas_gbq.read_gbq(sql_calcs, project_id=project_id, progress_bar_type=None)\n",
    "type_trans_lst = [\"new_sale\", \"renewal\", \"refund\"]"
   ],
   "metadata": {
    "collapsed": false,
    "pycharm": {
     "name": "#%%\n"
    }
   }
  },
  {
   "cell_type": "code",
   "execution_count": 52,
   "outputs": [],
   "source": [
    "parse_dates = [\"term_start\", \"term_end\"]\n",
    "reporting_df = df[df[\"type_of_transaction\"].isin(type_trans_lst)].copy()\n",
    "\n",
    "for date in parse_dates:\n",
    "    reporting_df[date] = pd.to_datetime(reporting_df[date]).dt.tz_convert(None)"
   ],
   "metadata": {
    "collapsed": false,
    "pycharm": {
     "name": "#%%\n"
    }
   }
  },
  {
   "cell_type": "code",
   "execution_count": 53,
   "outputs": [],
   "source": [
    "reporting_month = reporting_df['transaction_date'].mode().dt.to_period('M').dt.strftime('%Y-%m')[0]"
   ],
   "metadata": {
    "collapsed": false,
    "pycharm": {
     "name": "#%%\n"
    }
   }
  },
  {
   "cell_type": "code",
   "execution_count": 54,
   "metadata": {
    "pycharm": {
     "name": "#%%\n"
    }
   },
   "outputs": [],
   "source": [
    "## calculate total_booking_net columns\n",
    "reporting_df[\"total_booking_net_chf\"] = (\n",
    "        reporting_df[\"new_booking_net_chf\"] + reporting_df[\"renewal_booking_net_chf\"]\n",
    ")\n",
    "reporting_df[\"total_booking_net_eur\"] = (\n",
    "        reporting_df[\"new_booking_net_eur\"] + reporting_df[\"renewal_booking_net_eur\"]\n",
    ")"
   ]
  },
  {
   "cell_type": "code",
   "execution_count": 55,
   "metadata": {
    "pycharm": {
     "name": "#%%\n"
    }
   },
   "outputs": [],
   "source": [
    "## drop unnecessary columns\n",
    "reporting_df.drop(\n",
    "    [\n",
    "        \"new_booking_net_eur\",\n",
    "        \"new_booking_net_chf\",\n",
    "        \"renewal_booking_net_chf\",\n",
    "        \"renewal_booking_net_eur\",\n",
    "    ],\n",
    "    axis=1,\n",
    "    inplace=True,\n",
    ")"
   ]
  },
  {
   "cell_type": "code",
   "execution_count": 56,
   "metadata": {
    "pycharm": {
     "name": "#%%\n"
    }
   },
   "outputs": [],
   "source": [
    "## calculate product_term_length_months\n",
    "reporting_df[\"product_term_length_months\"] = (\n",
    "        (reporting_df[\"term_end\"].dt.year - reporting_df[\"term_start\"].dt.year) * 12\n",
    "        + (reporting_df[\"term_end\"].dt.month - reporting_df[\"term_start\"].dt.month)\n",
    "        + 1\n",
    ")"
   ]
  },
  {
   "cell_type": "code",
   "execution_count": 57,
   "outputs": [],
   "source": [
    "reporting_df[\"product_term_length_months\"][reporting_df[\"product_term_length_months\"] < 0] = 0"
   ],
   "metadata": {
    "collapsed": false,
    "pycharm": {
     "name": "#%%\n"
    }
   }
  },
  {
   "cell_type": "code",
   "execution_count": 58,
   "outputs": [],
   "source": [
    "## replacing product_term_length_months for exceptions where value is 2 instead of 1\n",
    "shorter_subs = (reporting_df['term_end'] - reporting_df['term_start']).dt.days <= 30\n",
    "shorter_subs_replacer = reporting_df[shorter_subs][\n",
    "    (reporting_df[\"product_term_length_months\"] == 2) & ((reporting_df['term_end']).dt.day == 1)].index.to_list()\n",
    "reporting_df[\"product_term_length_months\"].loc[shorter_subs_replacer] = 1"
   ],
   "metadata": {
    "collapsed": false,
    "pycharm": {
     "name": "#%%\n"
    }
   }
  },
  {
   "cell_type": "code",
   "execution_count": 59,
   "metadata": {
    "pycharm": {
     "name": "#%%\n"
    }
   },
   "outputs": [],
   "source": [
    "## reseting index\n",
    "reporting_df = reporting_df.reindex(reporting_df.index.repeat(reporting_df[\"product_term_length_months\"]))"
   ]
  },
  {
   "cell_type": "code",
   "execution_count": 60,
   "metadata": {
    "pycharm": {
     "name": "#%%\n"
    }
   },
   "outputs": [],
   "source": [
    "## add revenue_month_number\n",
    "reporting_df[\"revenue_month_number\"] = reporting_df.groupby([\"transaction_id\"]).cumcount() + 1"
   ]
  },
  {
   "cell_type": "code",
   "execution_count": 61,
   "metadata": {
    "pycharm": {
     "name": "#%%\n"
    }
   },
   "outputs": [],
   "source": [
    "## add revenue_month_date\n",
    "reporting_df[\"revenue_month_date\"] = reporting_df[\"term_start\"].to_numpy().astype(\"datetime64[M]\")\n",
    "reporting_df[\"revenue_month_date\"][reporting_df[\"type_of_transaction\"] == \"refund\"] = (\n",
    "    reporting_df[\"transaction_date\"].to_numpy().astype(\"datetime64[M]\")\n",
    ")\n",
    "\n",
    "reporting_df[\"revenue_month_date\"] = reporting_df.apply(\n",
    "    lambda x: x[\"revenue_month_date\"]\n",
    "              + pd.offsets.MonthEnd(x[\"revenue_month_number\"])\n",
    "              + pd.offsets.MonthBegin(-1),\n",
    "    axis=1,\n",
    ")\n",
    "\n",
    "## NEW LINE! commenting out as we now have product_service_view.zuya_account_permission available\n",
    "# reporting_df[\"product_group_finance\"] = np.nan\n",
    "\n",
    "reporting_df[\"product_term_length\"] = reporting_df[\"revenue_month_date\"].apply(\n",
    "    lambda t: pd.Period(t, freq=\"S\").days_in_month\n",
    ")\n",
    "\n",
    "reporting_df[\"product_term_length\"][reporting_df[\"term_start\"] > reporting_df[\"revenue_month_date\"]] = (\n",
    "                                                                                          reporting_df[\n",
    "                                                                                              \"term_start\"].dt.daysinmonth -\n",
    "                                                                                          reporting_df[\"term_start\"].dt.day\n",
    "                                                                                  ) + 1"
   ]
  },
  {
   "cell_type": "code",
   "execution_count": 62,
   "metadata": {
    "pycharm": {
     "name": "#%%\n"
    }
   },
   "outputs": [],
   "source": [
    "## reseting index\n",
    "reporting_df.reset_index(drop=True, inplace=True)"
   ]
  },
  {
   "cell_type": "code",
   "execution_count": 63,
   "metadata": {
    "pycharm": {
     "name": "#%%\n"
    }
   },
   "outputs": [],
   "source": [
    "## set active_sub_month_end = 1 by default\n",
    "reporting_df[\"active_sub_month_end\"] = 1\n",
    "\n",
    "## get last indices of each transaction_id group\n",
    "last_idxs = (\n",
    "        len(reporting_df)\n",
    "        - np.unique(\n",
    "    reporting_df.transaction_id.values[::-1],\n",
    "    return_index=1,\n",
    ")[1]\n",
    "        - 1\n",
    ")\n",
    "\n",
    "reporting_df[\"active_sub_month_end\"].iloc[last_idxs] = 0\n",
    "\n",
    "## mark all one transaction subscriptions as 1\n",
    "reporting_df[\"active_sub_month_end\"][\n",
    "    (reporting_df[\"revenue_month_number\"] <= 1) & (reporting_df[\"product_term_length_months\"] <= 1)\n",
    "    ] = 1\n",
    "\n",
    "## mark all refund transactions as -1\n",
    "reporting_df[\"active_sub_month_end\"][reporting_df[\"type_of_transaction\"] == \"refund\"] = -1\n",
    "\n",
    "## mark all subscriptions with only 1 transaction as i\n",
    "reporting_df[\"active_sub_month_end\"][reporting_df[\"type_of_transaction\"] == \"refund\"] = -1"
   ]
  },
  {
   "cell_type": "code",
   "execution_count": 64,
   "outputs": [],
   "source": [
    "## active_sub_content follows the same logic as active_sub_month_end except it doesn't count the last month\n",
    "reporting_df[\"active_sub_content\"] = reporting_df.active_sub_month_end\n",
    "\n",
    "reporting_df.loc[reporting_df.groupby('transaction_id')['active_sub_content'].tail(2).index, 'active_sub_content'] = 0"
   ],
   "metadata": {
    "collapsed": false,
    "pycharm": {
     "name": "#%%\n"
    }
   }
  },
  {
   "cell_type": "code",
   "execution_count": 65,
   "metadata": {
    "pycharm": {
     "name": "#%%\n"
    }
   },
   "outputs": [],
   "source": [
    "## fix last position of product_term_length per transaction_id\n",
    "reporting_df[\"product_term_length\"].iloc[last_idxs] = (\n",
    "        reporting_df[\"term_end\"].iloc[last_idxs] -\n",
    "        reporting_df[\"revenue_month_date\"].iloc[last_idxs]\n",
    ").dt.days"
   ]
  },
  {
   "cell_type": "code",
   "execution_count": 66,
   "metadata": {
    "pycharm": {
     "name": "#%%\n"
    }
   },
   "outputs": [],
   "source": [
    "## TEMP FIX to tackle dynamic term_end for refunds\n",
    "reporting_df[\"product_term_length\"][reporting_df[\"product_term_length\"] < 0] = 0"
   ]
  },
  {
   "cell_type": "code",
   "execution_count": 67,
   "metadata": {
    "pycharm": {
     "name": "#%%\n"
    }
   },
   "outputs": [],
   "source": [
    "## total_days of product_term_length per transaction_id\n",
    "reporting_df[\"total_days\"] = reporting_df.groupby(\"transaction_id\")[\"product_term_length\"].transform(\n",
    "    \"sum\"\n",
    ")"
   ]
  },
  {
   "cell_type": "code",
   "execution_count": 68,
   "outputs": [],
   "source": [
    "## get 12mo subs that didn't stay for 12 months for posterior treatment of exception\n",
    "reporting_df['max_revenue_month_number'] = reporting_df.groupby(['transaction_id'])['revenue_month_number'].transform(max)\n",
    "\n",
    "# reporting_df[(reporting_df.sku.str.contains('zattoo_web_hiq_swiss_12mo')) & (reporting_df.max_revenue_month_number < 13)]"
   ],
   "metadata": {
    "collapsed": false,
    "pycharm": {
     "name": "#%%\n"
    }
   }
  },
  {
   "cell_type": "code",
   "execution_count": 69,
   "outputs": [],
   "source": [
    "## NEW LINE! added on 2022-04-27\n",
    "## product_term_length fix for subscriptions < 31 days (1, 3, 7 days)\n",
    "reporting_df['product_term_length'][reporting_df.sku.str.contains('day')] = (reporting_df.term_end - reporting_df.term_start).dt.days"
   ],
   "metadata": {
    "collapsed": false,
    "pycharm": {
     "name": "#%%\n"
    }
   }
  },
  {
   "cell_type": "code",
   "execution_count": 70,
   "outputs": [],
   "source": [
    "trx_lst = reporting_df['transaction_id'][(reporting_df.sku.str.contains('day')) & (reporting_df['revenue_month_number'] > 1)].unique()"
   ],
   "metadata": {
    "collapsed": false,
    "pycharm": {
     "name": "#%%\n"
    }
   }
  },
  {
   "cell_type": "code",
   "execution_count": 71,
   "outputs": [],
   "source": [
    "## total_days fix for subscriptions < 31 days (1, 3, 7 days)\n",
    "reporting_df[\"total_days\"][(reporting_df.product_term_length != reporting_df.total_days) & (reporting_df['product_term_length_months'] <= 1)] = reporting_df[\"product_term_length\"][\n",
    "    (reporting_df.product_term_length != reporting_df.total_days) & (reporting_df['product_term_length_months'] <= 1)]"
   ],
   "metadata": {
    "collapsed": false,
    "pycharm": {
     "name": "#%%\n"
    }
   }
  },
  {
   "cell_type": "code",
   "execution_count": 72,
   "metadata": {
    "pycharm": {
     "name": "#%%\n"
    }
   },
   "outputs": [],
   "source": [
    "## calculate total_revenue_net fields\n",
    "reporting_df[\"total_revenue_net_eur\"] = (\n",
    "        reporting_df[\"total_booking_net_eur\"] / reporting_df[\"total_days\"] * reporting_df[\"product_term_length\"]\n",
    ")\n",
    "\n",
    "reporting_df[\"total_revenue_net_chf\"] = (\n",
    "        reporting_df[\"total_booking_net_chf\"] / reporting_df[\"total_days\"] * reporting_df[\"product_term_length\"]\n",
    ")\n",
    "\n",
    "## remove total_booking values from all lines of group except first\n",
    "reporting_df.loc[\n",
    "    reporting_df[\"revenue_month_number\"] > 1,\n",
    "    [\"total_booking_net_chf\", \"total_booking_net_eur\"],\n",
    "] = 0.0"
   ]
  },
  {
   "cell_type": "code",
   "execution_count": 73,
   "outputs": [],
   "source": [
    "## remove VAT values from all lines of group except first\n",
    "vat_cols = [\"vat_chf\", \"vat_eur\"]\n",
    "\n",
    "for col in vat_cols:\n",
    "    reporting_df.loc[\n",
    "        reporting_df[\"revenue_month_number\"] > 1,\n",
    "        [col, \"total_booking_net_eur\"],\n",
    "    ] = 0.0"
   ],
   "metadata": {
    "collapsed": false,
    "pycharm": {
     "name": "#%%\n"
    }
   }
  },
  {
   "cell_type": "code",
   "execution_count": 74,
   "metadata": {
    "pycharm": {
     "name": "#%%\n"
    }
   },
   "outputs": [],
   "source": [
    "## prepare df_nocalcs for free trials and full discounts\n",
    "reporting_df_nocalcs = df[~df[\"type_of_transaction\"].isin(type_trans_lst)].copy()\n",
    "\n",
    "for date in parse_dates:\n",
    "    reporting_df_nocalcs[date] = pd.to_datetime(reporting_df_nocalcs[date]).dt.tz_convert(None)"
   ]
  },
  {
   "cell_type": "code",
   "execution_count": 75,
   "outputs": [],
   "source": [
    "## extract list of transaction ids whose subscription float between one month and the other, and are 1, 3 or 7 days (== product_length < 31)\n",
    "trx_lst_more_1month_subs = reporting_df['transaction_id'][\n",
    "    (reporting_df[\"revenue_month_number\"] > 1) & (reporting_df.sku.str.contains('day'))]\n",
    "\n",
    "## this logic makes sure the days are allocated correctly for these very specific subscriptions\n",
    "reporting_df['product_term_length'][\n",
    "    (reporting_df.transaction_id.isin(trx_lst_more_1month_subs)) & (reporting_df.revenue_month_number == 1)] = - (\n",
    "        reporting_df.term_start - reporting_df.revenue_month_date.shift(1)).dt.days\n",
    "\n",
    "reporting_df['product_term_length'][\n",
    "    (reporting_df.transaction_id.isin(trx_lst_more_1month_subs)) & (reporting_df.revenue_month_number > 1)] = (\n",
    "        reporting_df.term_end - reporting_df.revenue_month_date).dt.days"
   ],
   "metadata": {
    "collapsed": false,
    "pycharm": {
     "name": "#%%\n"
    }
   }
  },
  {
   "cell_type": "code",
   "execution_count": 76,
   "outputs": [],
   "source": [
    "## fix active_sub_month_end for subscriptions with only 1 revenue month and length < 30 days\n",
    "reporting_df['last_day_term_end'] = (pd.to_datetime(reporting_df['term_end'], format=\"%d\", unit='d')).dt.day\n",
    "reporting_df['last_day_month'] = (pd.to_datetime(reporting_df['term_end'], format=\"%d\", unit='d') + pd.offsets.MonthEnd(n=1)).dt.day\n",
    "\n",
    "reporting_df[\"active_sub_month_end\"][reporting_df.last_day_term_end < reporting_df.last_day_month] = 0"
   ],
   "metadata": {
    "collapsed": false,
    "pycharm": {
     "name": "#%%\n"
    }
   }
  },
  {
   "cell_type": "code",
   "execution_count": 77,
   "outputs": [],
   "source": [
    "## fix those one line transactions that still have wrong product_term_length\n",
    "trx_id_counts = reporting_df['transaction_id'].value_counts(sort=False)\n",
    "check_length_mask = reporting_df[reporting_df['transaction_id'].isin(trx_id_counts.index[trx_id_counts == 1])].index.to_list()\n",
    "\n",
    "reporting_df[\"product_term_length\"].loc[check_length_mask] = reporting_df['term_end'].dt.day - reporting_df.term_start.dt.day"
   ],
   "metadata": {
    "collapsed": false,
    "pycharm": {
     "name": "#%%\n"
    }
   }
  },
  {
   "cell_type": "code",
   "execution_count": 78,
   "outputs": [],
   "source": [
    "## calculate total_booking_net columns\n",
    "reporting_df_nocalcs[\"total_booking_net_chf\"] = (\n",
    "        reporting_df_nocalcs[\"new_booking_net_chf\"] + reporting_df_nocalcs[\"renewal_booking_net_chf\"]\n",
    ")\n",
    "reporting_df_nocalcs[\"total_booking_net_eur\"] = (\n",
    "        reporting_df_nocalcs[\"new_booking_net_eur\"] + reporting_df_nocalcs[\"renewal_booking_net_eur\"]\n",
    ")"
   ],
   "metadata": {
    "collapsed": false,
    "pycharm": {
     "name": "#%%\n"
    }
   }
  },
  {
   "cell_type": "code",
   "execution_count": 79,
   "outputs": [],
   "source": [
    "## adding vat_percentage to calculate sales_price\n",
    "reporting_df['vat_eur_percentage'] = (reporting_df['vat_eur'] / reporting_df['total_booking_net_eur']).astype(float, errors='ignore')\n",
    "reporting_df['vat_chf_percentage'] = (reporting_df['vat_chf'] / reporting_df['total_booking_net_chf']).astype(float, errors='ignore')\n",
    "\n",
    "reporting_df['sales_price_eur'] = reporting_df['total_booking_net_eur'] * (\n",
    "        1 + reporting_df['vat_eur_percentage'])\n",
    "reporting_df['sales_price_chf'] = reporting_df['total_booking_net_chf'] * (\n",
    "        1 + reporting_df['vat_chf_percentage'])"
   ],
   "metadata": {
    "collapsed": false,
    "pycharm": {
     "name": "#%%\n"
    }
   }
  },
  {
   "cell_type": "code",
   "execution_count": 80,
   "outputs": [],
   "source": [
    "## append dataframes\n",
    "reporting_df = reporting_df.append(reporting_df_nocalcs).reset_index(drop=True)\n",
    "\n",
    "## convert revenue_month_date to date\n",
    "reporting_df[\"revenue_month_date\"] = pd.to_datetime(\n",
    "    reporting_df[\"revenue_month_date\"]\n",
    ").dt.date"
   ],
   "metadata": {
    "collapsed": false,
    "pycharm": {
     "name": "#%%\n"
    }
   }
  },
  {
   "cell_type": "code",
   "execution_count": 81,
   "outputs": [
    {
     "data": {
      "text/plain": "      transaction_id      zuid payment_method  \\\n0         35777722_1  30284071         amazon   \n1         33935525_6  29365165         amazon   \n2         33935525_6  29365165         amazon   \n3         36073433_1  27777727         amazon   \n4         36073433_1  27777727         amazon   \n...              ...       ...            ...   \n39293     35990352_1  30403967         amazon   \n39294     35985778_1  26848642         amazon   \n39295     35989551_1  29993902         amazon   \n39296     35989316_1  30403087         amazon   \n39297     35988704_1  30402880         amazon   \n\n                                                  sku type_of_transaction  \\\n0                  zattoo_amazon_firetv_cirkus_german            new_sale   \n1                  zattoo_amazon_firetv_cirkus_german             renewal   \n2                  zattoo_amazon_firetv_cirkus_german             renewal   \n3                zattoo_amazon_firetv_ultimate_german            new_sale   \n4                zattoo_amazon_firetv_ultimate_german            new_sale   \n...                                               ...                 ...   \n39293  zattoo_amazon_firetv_ultimate_german_freetrial          free_trial   \n39294  zattoo_amazon_firetv_ultimate_german_freetrial          free_trial   \n39295  zattoo_amazon_firetv_ultimate_german_freetrial          free_trial   \n39296  zattoo_amazon_firetv_ultimate_german_freetrial          free_trial   \n39297  zattoo_amazon_firetv_ultimate_german_freetrial          free_trial   \n\n      country_name    transaction_date          term_start  \\\n0          Germany 2022-02-02 01:43:16 2022-02-02 01:43:16   \n1          Germany 2022-02-17 06:03:22 2022-02-17 06:03:22   \n2          Germany 2022-02-17 06:03:22 2022-02-17 06:03:22   \n3          Germany 2022-02-25 18:21:53 2022-02-25 18:21:53   \n4          Germany 2022-02-25 18:21:53 2022-02-25 18:21:53   \n...            ...                 ...                 ...   \n39293      Germany 2022-02-18 19:57:42 2022-02-18 19:57:42   \n39294      Germany 2022-02-18 11:35:09 2022-02-18 11:35:09   \n39295      Germany 2022-02-18 19:12:43 2022-02-18 19:12:43   \n39296      Germany 2022-02-18 19:01:22 2022-02-18 19:01:22   \n39297      Germany 2022-02-18 18:21:16 2022-02-18 18:21:16   \n\n                 term_end product_group_finance   vat_eur   vat_chf  \\\n0     2022-02-15 15:32:38                cirkus  0.341681  0.356865   \n1     2022-03-20 06:03:21                cirkus  0.758403  0.792107   \n2     2022-03-20 06:03:21                cirkus  0.000000  0.000000   \n3     2022-03-28 18:21:53         base_ultimate  2.658403  2.776543   \n4     2022-03-28 18:21:53         base_ultimate  0.000000  0.000000   \n...                   ...                   ...       ...       ...   \n39293 2022-03-21 19:57:42         base_ultimate  0.000000  0.000000   \n39294 2022-03-21 11:35:09         base_ultimate  0.000000  0.000000   \n39295 2022-03-21 19:12:43         base_ultimate  0.000000  0.000000   \n39296 2022-03-21 19:01:22         base_ultimate  0.000000  0.000000   \n39297 2022-03-19 15:03:28         base_ultimate  0.000000  0.000000   \n\n       store_fees_chf  store_fees_eur  total_booking_net_chf  \\\n0            0.227135        0.217470               1.342851   \n1            0.502941        0.481541               3.501946   \n2            0.502941        0.481541               0.000000   \n3            1.763445        1.688412              10.436940   \n4            1.763445        1.688412               0.000000   \n...               ...             ...                    ...   \n39293        0.000000        0.000000               0.000000   \n39294        0.000000        0.000000               0.000000   \n39295        0.000000        0.000000               0.000000   \n39296        0.000000        0.000000               0.000000   \n39297        0.000000        0.000000               0.000000   \n\n       total_booking_net_eur  product_term_length_months  \\\n0                   1.285714                         1.0   \n1                   3.352941                         2.0   \n2                   0.000000                         2.0   \n3                   9.992857                         2.0   \n4                   0.000000                         2.0   \n...                      ...                         ...   \n39293               0.000000                         NaN   \n39294               0.000000                         NaN   \n39295               0.000000                         NaN   \n39296               0.000000                         NaN   \n39297               0.000000                         NaN   \n\n       revenue_month_number revenue_month_date  product_term_length  \\\n0                       1.0         2022-02-01                 13.0   \n1                       1.0         2022-02-01                 12.0   \n2                       2.0         2022-03-01                 19.0   \n3                       1.0         2022-02-01                  4.0   \n4                       2.0         2022-03-01                 27.0   \n...                     ...                ...                  ...   \n39293                   NaN                NaT                  NaN   \n39294                   NaN                NaT                  NaN   \n39295                   NaN                NaT                  NaN   \n39296                   NaN                NaT                  NaN   \n39297                   NaN                NaT                  NaN   \n\n       active_sub_month_end  active_sub_content  total_days  \\\n0                       0.0                 0.0        14.0   \n1                       0.0                 0.0        31.0   \n2                       0.0                 0.0        31.0   \n3                       0.0                 0.0        31.0   \n4                       0.0                 0.0        31.0   \n...                     ...                 ...         ...   \n39293                   NaN                 NaN         NaN   \n39294                   NaN                 NaN         NaN   \n39295                   NaN                 NaN         NaN   \n39296                   NaN                 NaN         NaN   \n39297                   NaN                 NaN         NaN   \n\n       max_revenue_month_number  total_revenue_net_eur  total_revenue_net_chf  \\\n0                           1.0               1.285714               1.342851   \n1                           2.0               1.297913               1.355592   \n2                           2.0               2.055028               2.146354   \n3                           2.0               1.289401               1.346702   \n4                           2.0               8.703456               9.090238   \n...                         ...                    ...                    ...   \n39293                       NaN                    NaN                    NaN   \n39294                       NaN                    NaN                    NaN   \n39295                       NaN                    NaN                    NaN   \n39296                       NaN                    NaN                    NaN   \n39297                       NaN                    NaN                    NaN   \n\n       last_day_term_end  last_day_month  vat_eur_percentage  \\\n0                   15.0            28.0            0.265752   \n1                   20.0            31.0            0.226190   \n2                   20.0            31.0                 NaN   \n3                   28.0            31.0            0.266030   \n4                   28.0            31.0                 NaN   \n...                  ...             ...                 ...   \n39293                NaN             NaN                 NaN   \n39294                NaN             NaN                 NaN   \n39295                NaN             NaN                 NaN   \n39296                NaN             NaN                 NaN   \n39297                NaN             NaN                 NaN   \n\n       vat_chf_percentage  sales_price_eur  sales_price_chf  \\\n0                0.265752         1.627395         1.699716   \n1                0.226190         4.111345         4.294053   \n2                     NaN              NaN              NaN   \n3                0.266030        12.651261        13.213483   \n4                     NaN              NaN              NaN   \n...                   ...              ...              ...   \n39293                 NaN              NaN              NaN   \n39294                 NaN              NaN              NaN   \n39295                 NaN              NaN              NaN   \n39296                 NaN              NaN              NaN   \n39297                 NaN              NaN              NaN   \n\n       new_booking_net_chf  renewal_booking_net_chf  new_booking_net_eur  \\\n0                      NaN                      NaN                  NaN   \n1                      NaN                      NaN                  NaN   \n2                      NaN                      NaN                  NaN   \n3                      NaN                      NaN                  NaN   \n4                      NaN                      NaN                  NaN   \n...                    ...                      ...                  ...   \n39293                  0.0                      0.0                  0.0   \n39294                  0.0                      0.0                  0.0   \n39295                  0.0                      0.0                  0.0   \n39296                  0.0                      0.0                  0.0   \n39297                  0.0                      0.0                  0.0   \n\n       renewal_booking_net_eur  \n0                          NaN  \n1                          NaN  \n2                          NaN  \n3                          NaN  \n4                          NaN  \n...                        ...  \n39293                      0.0  \n39294                      0.0  \n39295                      0.0  \n39296                      0.0  \n39297                      0.0  \n\n[39298 rows x 36 columns]",
      "text/html": "<div>\n<style scoped>\n    .dataframe tbody tr th:only-of-type {\n        vertical-align: middle;\n    }\n\n    .dataframe tbody tr th {\n        vertical-align: top;\n    }\n\n    .dataframe thead th {\n        text-align: right;\n    }\n</style>\n<table border=\"1\" class=\"dataframe\">\n  <thead>\n    <tr style=\"text-align: right;\">\n      <th></th>\n      <th>transaction_id</th>\n      <th>zuid</th>\n      <th>payment_method</th>\n      <th>sku</th>\n      <th>type_of_transaction</th>\n      <th>country_name</th>\n      <th>transaction_date</th>\n      <th>term_start</th>\n      <th>term_end</th>\n      <th>product_group_finance</th>\n      <th>vat_eur</th>\n      <th>vat_chf</th>\n      <th>store_fees_chf</th>\n      <th>store_fees_eur</th>\n      <th>total_booking_net_chf</th>\n      <th>total_booking_net_eur</th>\n      <th>product_term_length_months</th>\n      <th>revenue_month_number</th>\n      <th>revenue_month_date</th>\n      <th>product_term_length</th>\n      <th>active_sub_month_end</th>\n      <th>active_sub_content</th>\n      <th>total_days</th>\n      <th>max_revenue_month_number</th>\n      <th>total_revenue_net_eur</th>\n      <th>total_revenue_net_chf</th>\n      <th>last_day_term_end</th>\n      <th>last_day_month</th>\n      <th>vat_eur_percentage</th>\n      <th>vat_chf_percentage</th>\n      <th>sales_price_eur</th>\n      <th>sales_price_chf</th>\n      <th>new_booking_net_chf</th>\n      <th>renewal_booking_net_chf</th>\n      <th>new_booking_net_eur</th>\n      <th>renewal_booking_net_eur</th>\n    </tr>\n  </thead>\n  <tbody>\n    <tr>\n      <th>0</th>\n      <td>35777722_1</td>\n      <td>30284071</td>\n      <td>amazon</td>\n      <td>zattoo_amazon_firetv_cirkus_german</td>\n      <td>new_sale</td>\n      <td>Germany</td>\n      <td>2022-02-02 01:43:16</td>\n      <td>2022-02-02 01:43:16</td>\n      <td>2022-02-15 15:32:38</td>\n      <td>cirkus</td>\n      <td>0.341681</td>\n      <td>0.356865</td>\n      <td>0.227135</td>\n      <td>0.217470</td>\n      <td>1.342851</td>\n      <td>1.285714</td>\n      <td>1.0</td>\n      <td>1.0</td>\n      <td>2022-02-01</td>\n      <td>13.0</td>\n      <td>0.0</td>\n      <td>0.0</td>\n      <td>14.0</td>\n      <td>1.0</td>\n      <td>1.285714</td>\n      <td>1.342851</td>\n      <td>15.0</td>\n      <td>28.0</td>\n      <td>0.265752</td>\n      <td>0.265752</td>\n      <td>1.627395</td>\n      <td>1.699716</td>\n      <td>NaN</td>\n      <td>NaN</td>\n      <td>NaN</td>\n      <td>NaN</td>\n    </tr>\n    <tr>\n      <th>1</th>\n      <td>33935525_6</td>\n      <td>29365165</td>\n      <td>amazon</td>\n      <td>zattoo_amazon_firetv_cirkus_german</td>\n      <td>renewal</td>\n      <td>Germany</td>\n      <td>2022-02-17 06:03:22</td>\n      <td>2022-02-17 06:03:22</td>\n      <td>2022-03-20 06:03:21</td>\n      <td>cirkus</td>\n      <td>0.758403</td>\n      <td>0.792107</td>\n      <td>0.502941</td>\n      <td>0.481541</td>\n      <td>3.501946</td>\n      <td>3.352941</td>\n      <td>2.0</td>\n      <td>1.0</td>\n      <td>2022-02-01</td>\n      <td>12.0</td>\n      <td>0.0</td>\n      <td>0.0</td>\n      <td>31.0</td>\n      <td>2.0</td>\n      <td>1.297913</td>\n      <td>1.355592</td>\n      <td>20.0</td>\n      <td>31.0</td>\n      <td>0.226190</td>\n      <td>0.226190</td>\n      <td>4.111345</td>\n      <td>4.294053</td>\n      <td>NaN</td>\n      <td>NaN</td>\n      <td>NaN</td>\n      <td>NaN</td>\n    </tr>\n    <tr>\n      <th>2</th>\n      <td>33935525_6</td>\n      <td>29365165</td>\n      <td>amazon</td>\n      <td>zattoo_amazon_firetv_cirkus_german</td>\n      <td>renewal</td>\n      <td>Germany</td>\n      <td>2022-02-17 06:03:22</td>\n      <td>2022-02-17 06:03:22</td>\n      <td>2022-03-20 06:03:21</td>\n      <td>cirkus</td>\n      <td>0.000000</td>\n      <td>0.000000</td>\n      <td>0.502941</td>\n      <td>0.481541</td>\n      <td>0.000000</td>\n      <td>0.000000</td>\n      <td>2.0</td>\n      <td>2.0</td>\n      <td>2022-03-01</td>\n      <td>19.0</td>\n      <td>0.0</td>\n      <td>0.0</td>\n      <td>31.0</td>\n      <td>2.0</td>\n      <td>2.055028</td>\n      <td>2.146354</td>\n      <td>20.0</td>\n      <td>31.0</td>\n      <td>NaN</td>\n      <td>NaN</td>\n      <td>NaN</td>\n      <td>NaN</td>\n      <td>NaN</td>\n      <td>NaN</td>\n      <td>NaN</td>\n      <td>NaN</td>\n    </tr>\n    <tr>\n      <th>3</th>\n      <td>36073433_1</td>\n      <td>27777727</td>\n      <td>amazon</td>\n      <td>zattoo_amazon_firetv_ultimate_german</td>\n      <td>new_sale</td>\n      <td>Germany</td>\n      <td>2022-02-25 18:21:53</td>\n      <td>2022-02-25 18:21:53</td>\n      <td>2022-03-28 18:21:53</td>\n      <td>base_ultimate</td>\n      <td>2.658403</td>\n      <td>2.776543</td>\n      <td>1.763445</td>\n      <td>1.688412</td>\n      <td>10.436940</td>\n      <td>9.992857</td>\n      <td>2.0</td>\n      <td>1.0</td>\n      <td>2022-02-01</td>\n      <td>4.0</td>\n      <td>0.0</td>\n      <td>0.0</td>\n      <td>31.0</td>\n      <td>2.0</td>\n      <td>1.289401</td>\n      <td>1.346702</td>\n      <td>28.0</td>\n      <td>31.0</td>\n      <td>0.266030</td>\n      <td>0.266030</td>\n      <td>12.651261</td>\n      <td>13.213483</td>\n      <td>NaN</td>\n      <td>NaN</td>\n      <td>NaN</td>\n      <td>NaN</td>\n    </tr>\n    <tr>\n      <th>4</th>\n      <td>36073433_1</td>\n      <td>27777727</td>\n      <td>amazon</td>\n      <td>zattoo_amazon_firetv_ultimate_german</td>\n      <td>new_sale</td>\n      <td>Germany</td>\n      <td>2022-02-25 18:21:53</td>\n      <td>2022-02-25 18:21:53</td>\n      <td>2022-03-28 18:21:53</td>\n      <td>base_ultimate</td>\n      <td>0.000000</td>\n      <td>0.000000</td>\n      <td>1.763445</td>\n      <td>1.688412</td>\n      <td>0.000000</td>\n      <td>0.000000</td>\n      <td>2.0</td>\n      <td>2.0</td>\n      <td>2022-03-01</td>\n      <td>27.0</td>\n      <td>0.0</td>\n      <td>0.0</td>\n      <td>31.0</td>\n      <td>2.0</td>\n      <td>8.703456</td>\n      <td>9.090238</td>\n      <td>28.0</td>\n      <td>31.0</td>\n      <td>NaN</td>\n      <td>NaN</td>\n      <td>NaN</td>\n      <td>NaN</td>\n      <td>NaN</td>\n      <td>NaN</td>\n      <td>NaN</td>\n      <td>NaN</td>\n    </tr>\n    <tr>\n      <th>...</th>\n      <td>...</td>\n      <td>...</td>\n      <td>...</td>\n      <td>...</td>\n      <td>...</td>\n      <td>...</td>\n      <td>...</td>\n      <td>...</td>\n      <td>...</td>\n      <td>...</td>\n      <td>...</td>\n      <td>...</td>\n      <td>...</td>\n      <td>...</td>\n      <td>...</td>\n      <td>...</td>\n      <td>...</td>\n      <td>...</td>\n      <td>...</td>\n      <td>...</td>\n      <td>...</td>\n      <td>...</td>\n      <td>...</td>\n      <td>...</td>\n      <td>...</td>\n      <td>...</td>\n      <td>...</td>\n      <td>...</td>\n      <td>...</td>\n      <td>...</td>\n      <td>...</td>\n      <td>...</td>\n      <td>...</td>\n      <td>...</td>\n      <td>...</td>\n      <td>...</td>\n    </tr>\n    <tr>\n      <th>39293</th>\n      <td>35990352_1</td>\n      <td>30403967</td>\n      <td>amazon</td>\n      <td>zattoo_amazon_firetv_ultimate_german_freetrial</td>\n      <td>free_trial</td>\n      <td>Germany</td>\n      <td>2022-02-18 19:57:42</td>\n      <td>2022-02-18 19:57:42</td>\n      <td>2022-03-21 19:57:42</td>\n      <td>base_ultimate</td>\n      <td>0.000000</td>\n      <td>0.000000</td>\n      <td>0.000000</td>\n      <td>0.000000</td>\n      <td>0.000000</td>\n      <td>0.000000</td>\n      <td>NaN</td>\n      <td>NaN</td>\n      <td>NaT</td>\n      <td>NaN</td>\n      <td>NaN</td>\n      <td>NaN</td>\n      <td>NaN</td>\n      <td>NaN</td>\n      <td>NaN</td>\n      <td>NaN</td>\n      <td>NaN</td>\n      <td>NaN</td>\n      <td>NaN</td>\n      <td>NaN</td>\n      <td>NaN</td>\n      <td>NaN</td>\n      <td>0.0</td>\n      <td>0.0</td>\n      <td>0.0</td>\n      <td>0.0</td>\n    </tr>\n    <tr>\n      <th>39294</th>\n      <td>35985778_1</td>\n      <td>26848642</td>\n      <td>amazon</td>\n      <td>zattoo_amazon_firetv_ultimate_german_freetrial</td>\n      <td>free_trial</td>\n      <td>Germany</td>\n      <td>2022-02-18 11:35:09</td>\n      <td>2022-02-18 11:35:09</td>\n      <td>2022-03-21 11:35:09</td>\n      <td>base_ultimate</td>\n      <td>0.000000</td>\n      <td>0.000000</td>\n      <td>0.000000</td>\n      <td>0.000000</td>\n      <td>0.000000</td>\n      <td>0.000000</td>\n      <td>NaN</td>\n      <td>NaN</td>\n      <td>NaT</td>\n      <td>NaN</td>\n      <td>NaN</td>\n      <td>NaN</td>\n      <td>NaN</td>\n      <td>NaN</td>\n      <td>NaN</td>\n      <td>NaN</td>\n      <td>NaN</td>\n      <td>NaN</td>\n      <td>NaN</td>\n      <td>NaN</td>\n      <td>NaN</td>\n      <td>NaN</td>\n      <td>0.0</td>\n      <td>0.0</td>\n      <td>0.0</td>\n      <td>0.0</td>\n    </tr>\n    <tr>\n      <th>39295</th>\n      <td>35989551_1</td>\n      <td>29993902</td>\n      <td>amazon</td>\n      <td>zattoo_amazon_firetv_ultimate_german_freetrial</td>\n      <td>free_trial</td>\n      <td>Germany</td>\n      <td>2022-02-18 19:12:43</td>\n      <td>2022-02-18 19:12:43</td>\n      <td>2022-03-21 19:12:43</td>\n      <td>base_ultimate</td>\n      <td>0.000000</td>\n      <td>0.000000</td>\n      <td>0.000000</td>\n      <td>0.000000</td>\n      <td>0.000000</td>\n      <td>0.000000</td>\n      <td>NaN</td>\n      <td>NaN</td>\n      <td>NaT</td>\n      <td>NaN</td>\n      <td>NaN</td>\n      <td>NaN</td>\n      <td>NaN</td>\n      <td>NaN</td>\n      <td>NaN</td>\n      <td>NaN</td>\n      <td>NaN</td>\n      <td>NaN</td>\n      <td>NaN</td>\n      <td>NaN</td>\n      <td>NaN</td>\n      <td>NaN</td>\n      <td>0.0</td>\n      <td>0.0</td>\n      <td>0.0</td>\n      <td>0.0</td>\n    </tr>\n    <tr>\n      <th>39296</th>\n      <td>35989316_1</td>\n      <td>30403087</td>\n      <td>amazon</td>\n      <td>zattoo_amazon_firetv_ultimate_german_freetrial</td>\n      <td>free_trial</td>\n      <td>Germany</td>\n      <td>2022-02-18 19:01:22</td>\n      <td>2022-02-18 19:01:22</td>\n      <td>2022-03-21 19:01:22</td>\n      <td>base_ultimate</td>\n      <td>0.000000</td>\n      <td>0.000000</td>\n      <td>0.000000</td>\n      <td>0.000000</td>\n      <td>0.000000</td>\n      <td>0.000000</td>\n      <td>NaN</td>\n      <td>NaN</td>\n      <td>NaT</td>\n      <td>NaN</td>\n      <td>NaN</td>\n      <td>NaN</td>\n      <td>NaN</td>\n      <td>NaN</td>\n      <td>NaN</td>\n      <td>NaN</td>\n      <td>NaN</td>\n      <td>NaN</td>\n      <td>NaN</td>\n      <td>NaN</td>\n      <td>NaN</td>\n      <td>NaN</td>\n      <td>0.0</td>\n      <td>0.0</td>\n      <td>0.0</td>\n      <td>0.0</td>\n    </tr>\n    <tr>\n      <th>39297</th>\n      <td>35988704_1</td>\n      <td>30402880</td>\n      <td>amazon</td>\n      <td>zattoo_amazon_firetv_ultimate_german_freetrial</td>\n      <td>free_trial</td>\n      <td>Germany</td>\n      <td>2022-02-18 18:21:16</td>\n      <td>2022-02-18 18:21:16</td>\n      <td>2022-03-19 15:03:28</td>\n      <td>base_ultimate</td>\n      <td>0.000000</td>\n      <td>0.000000</td>\n      <td>0.000000</td>\n      <td>0.000000</td>\n      <td>0.000000</td>\n      <td>0.000000</td>\n      <td>NaN</td>\n      <td>NaN</td>\n      <td>NaT</td>\n      <td>NaN</td>\n      <td>NaN</td>\n      <td>NaN</td>\n      <td>NaN</td>\n      <td>NaN</td>\n      <td>NaN</td>\n      <td>NaN</td>\n      <td>NaN</td>\n      <td>NaN</td>\n      <td>NaN</td>\n      <td>NaN</td>\n      <td>NaN</td>\n      <td>NaN</td>\n      <td>0.0</td>\n      <td>0.0</td>\n      <td>0.0</td>\n      <td>0.0</td>\n    </tr>\n  </tbody>\n</table>\n<p>39298 rows × 36 columns</p>\n</div>"
     },
     "execution_count": 81,
     "metadata": {},
     "output_type": "execute_result"
    }
   ],
   "source": [
    "reporting_df"
   ],
   "metadata": {
    "collapsed": false,
    "pycharm": {
     "name": "#%%\n"
    }
   }
  },
  {
   "cell_type": "code",
   "execution_count": 45,
   "outputs": [
    {
     "ename": "KeyError",
     "evalue": "\"['charge_eur', 'units', 'product_length_months', 'product_class', 'vat_percentage', 'store_fees', 'net_booking_eur', 'transaction_type', 'reporting_month', 'currency', 'fee_eur', 'payout_eur', 'fee_chf', 'charge_chf', 'exchange_rate_eur_to_chf', 'vendor_trx_id', 'domestic_abroad', 'net_booking_chf', 'product_length', 'payout_chf', 'subscription_status'] not in index\"",
     "output_type": "error",
     "traceback": [
      "\u001B[0;31m---------------------------------------------------------------------------\u001B[0m",
      "\u001B[0;31mKeyError\u001B[0m                                  Traceback (most recent call last)",
      "\u001B[0;32m<ipython-input-45-43f23b960324>\u001B[0m in \u001B[0;36m<module>\u001B[0;34m\u001B[0m\n\u001B[1;32m      1\u001B[0m \u001B[0;31m## reorder dataframe\u001B[0m\u001B[0;34m\u001B[0m\u001B[0;34m\u001B[0m\u001B[0;34m\u001B[0m\u001B[0m\n\u001B[0;32m----> 2\u001B[0;31m reporting_df = reporting_df[\n\u001B[0m\u001B[1;32m      3\u001B[0m     [\n\u001B[1;32m      4\u001B[0m         \u001B[0;34m'vendor_trx_id'\u001B[0m\u001B[0;34m,\u001B[0m\u001B[0;34m\u001B[0m\u001B[0;34m\u001B[0m\u001B[0m\n\u001B[1;32m      5\u001B[0m         \u001B[0;34m'transaction_date'\u001B[0m\u001B[0;34m,\u001B[0m\u001B[0;34m\u001B[0m\u001B[0;34m\u001B[0m\u001B[0m\n",
      "\u001B[0;32m~/miniconda3/envs/pypayment_v2/lib/python3.9/site-packages/pandas/core/frame.py\u001B[0m in \u001B[0;36m__getitem__\u001B[0;34m(self, key)\u001B[0m\n\u001B[1;32m   3028\u001B[0m             \u001B[0;32mif\u001B[0m \u001B[0mis_iterator\u001B[0m\u001B[0;34m(\u001B[0m\u001B[0mkey\u001B[0m\u001B[0;34m)\u001B[0m\u001B[0;34m:\u001B[0m\u001B[0;34m\u001B[0m\u001B[0;34m\u001B[0m\u001B[0m\n\u001B[1;32m   3029\u001B[0m                 \u001B[0mkey\u001B[0m \u001B[0;34m=\u001B[0m \u001B[0mlist\u001B[0m\u001B[0;34m(\u001B[0m\u001B[0mkey\u001B[0m\u001B[0;34m)\u001B[0m\u001B[0;34m\u001B[0m\u001B[0;34m\u001B[0m\u001B[0m\n\u001B[0;32m-> 3030\u001B[0;31m             \u001B[0mindexer\u001B[0m \u001B[0;34m=\u001B[0m \u001B[0mself\u001B[0m\u001B[0;34m.\u001B[0m\u001B[0mloc\u001B[0m\u001B[0;34m.\u001B[0m\u001B[0m_get_listlike_indexer\u001B[0m\u001B[0;34m(\u001B[0m\u001B[0mkey\u001B[0m\u001B[0;34m,\u001B[0m \u001B[0maxis\u001B[0m\u001B[0;34m=\u001B[0m\u001B[0;36m1\u001B[0m\u001B[0;34m,\u001B[0m \u001B[0mraise_missing\u001B[0m\u001B[0;34m=\u001B[0m\u001B[0;32mTrue\u001B[0m\u001B[0;34m)\u001B[0m\u001B[0;34m[\u001B[0m\u001B[0;36m1\u001B[0m\u001B[0;34m]\u001B[0m\u001B[0;34m\u001B[0m\u001B[0;34m\u001B[0m\u001B[0m\n\u001B[0m\u001B[1;32m   3031\u001B[0m \u001B[0;34m\u001B[0m\u001B[0m\n\u001B[1;32m   3032\u001B[0m         \u001B[0;31m# take() does not accept boolean indexers\u001B[0m\u001B[0;34m\u001B[0m\u001B[0;34m\u001B[0m\u001B[0;34m\u001B[0m\u001B[0m\n",
      "\u001B[0;32m~/miniconda3/envs/pypayment_v2/lib/python3.9/site-packages/pandas/core/indexing.py\u001B[0m in \u001B[0;36m_get_listlike_indexer\u001B[0;34m(self, key, axis, raise_missing)\u001B[0m\n\u001B[1;32m   1264\u001B[0m             \u001B[0mkeyarr\u001B[0m\u001B[0;34m,\u001B[0m \u001B[0mindexer\u001B[0m\u001B[0;34m,\u001B[0m \u001B[0mnew_indexer\u001B[0m \u001B[0;34m=\u001B[0m \u001B[0max\u001B[0m\u001B[0;34m.\u001B[0m\u001B[0m_reindex_non_unique\u001B[0m\u001B[0;34m(\u001B[0m\u001B[0mkeyarr\u001B[0m\u001B[0;34m)\u001B[0m\u001B[0;34m\u001B[0m\u001B[0;34m\u001B[0m\u001B[0m\n\u001B[1;32m   1265\u001B[0m \u001B[0;34m\u001B[0m\u001B[0m\n\u001B[0;32m-> 1266\u001B[0;31m         \u001B[0mself\u001B[0m\u001B[0;34m.\u001B[0m\u001B[0m_validate_read_indexer\u001B[0m\u001B[0;34m(\u001B[0m\u001B[0mkeyarr\u001B[0m\u001B[0;34m,\u001B[0m \u001B[0mindexer\u001B[0m\u001B[0;34m,\u001B[0m \u001B[0maxis\u001B[0m\u001B[0;34m,\u001B[0m \u001B[0mraise_missing\u001B[0m\u001B[0;34m=\u001B[0m\u001B[0mraise_missing\u001B[0m\u001B[0;34m)\u001B[0m\u001B[0;34m\u001B[0m\u001B[0;34m\u001B[0m\u001B[0m\n\u001B[0m\u001B[1;32m   1267\u001B[0m         \u001B[0;32mreturn\u001B[0m \u001B[0mkeyarr\u001B[0m\u001B[0;34m,\u001B[0m \u001B[0mindexer\u001B[0m\u001B[0;34m\u001B[0m\u001B[0;34m\u001B[0m\u001B[0m\n\u001B[1;32m   1268\u001B[0m \u001B[0;34m\u001B[0m\u001B[0m\n",
      "\u001B[0;32m~/miniconda3/envs/pypayment_v2/lib/python3.9/site-packages/pandas/core/indexing.py\u001B[0m in \u001B[0;36m_validate_read_indexer\u001B[0;34m(self, key, indexer, axis, raise_missing)\u001B[0m\n\u001B[1;32m   1314\u001B[0m             \u001B[0;32mif\u001B[0m \u001B[0mraise_missing\u001B[0m\u001B[0;34m:\u001B[0m\u001B[0;34m\u001B[0m\u001B[0;34m\u001B[0m\u001B[0m\n\u001B[1;32m   1315\u001B[0m                 \u001B[0mnot_found\u001B[0m \u001B[0;34m=\u001B[0m \u001B[0mlist\u001B[0m\u001B[0;34m(\u001B[0m\u001B[0mset\u001B[0m\u001B[0;34m(\u001B[0m\u001B[0mkey\u001B[0m\u001B[0;34m)\u001B[0m \u001B[0;34m-\u001B[0m \u001B[0mset\u001B[0m\u001B[0;34m(\u001B[0m\u001B[0max\u001B[0m\u001B[0;34m)\u001B[0m\u001B[0;34m)\u001B[0m\u001B[0;34m\u001B[0m\u001B[0;34m\u001B[0m\u001B[0m\n\u001B[0;32m-> 1316\u001B[0;31m                 \u001B[0;32mraise\u001B[0m \u001B[0mKeyError\u001B[0m\u001B[0;34m(\u001B[0m\u001B[0;34mf\"{not_found} not in index\"\u001B[0m\u001B[0;34m)\u001B[0m\u001B[0;34m\u001B[0m\u001B[0;34m\u001B[0m\u001B[0m\n\u001B[0m\u001B[1;32m   1317\u001B[0m \u001B[0;34m\u001B[0m\u001B[0m\n\u001B[1;32m   1318\u001B[0m             \u001B[0mnot_found\u001B[0m \u001B[0;34m=\u001B[0m \u001B[0mkey\u001B[0m\u001B[0;34m[\u001B[0m\u001B[0mmissing_mask\u001B[0m\u001B[0;34m]\u001B[0m\u001B[0;34m\u001B[0m\u001B[0;34m\u001B[0m\u001B[0m\n",
      "\u001B[0;31mKeyError\u001B[0m: \"['charge_eur', 'units', 'product_length_months', 'product_class', 'vat_percentage', 'store_fees', 'net_booking_eur', 'transaction_type', 'reporting_month', 'currency', 'fee_eur', 'payout_eur', 'fee_chf', 'charge_chf', 'exchange_rate_eur_to_chf', 'vendor_trx_id', 'domestic_abroad', 'net_booking_chf', 'product_length', 'payout_chf', 'subscription_status'] not in index\""
     ]
    }
   ],
   "source": [
    "## reorder dataframe\n",
    "reporting_df = reporting_df[\n",
    "    [\n",
    "        'vendor_trx_id',\n",
    "        'transaction_date',\n",
    "        'term_end',\n",
    "        'reporting_month',\n",
    "        'country_name',\n",
    "        # 'country_code',\n",
    "        'currency',\n",
    "        # 'vendor_sku',\n",
    "        'sku',\n",
    "        'subscription_status',\n",
    "        'transaction_type',\n",
    "        'payment_method',\n",
    "        'product_class',\n",
    "        # 'term',\n",
    "        'product_length',\n",
    "        'product_length_months',\n",
    "        'product_term_length',\n",
    "        # 'product_term_length_months',\n",
    "        'domestic_abroad',\n",
    "        'vat_percentage',\n",
    "        'exchange_rate_eur_to_chf',\n",
    "        'store_fees',\n",
    "        'units',\n",
    "        # 'sales_price',\n",
    "        # 'earnings',\n",
    "        # 'avg_price_sales_per_sub',\n",
    "        'charge_eur',\n",
    "        'sales_price_eur',\n",
    "        'fee_eur',\n",
    "        'vat_eur',\n",
    "        'net_booking_eur',\n",
    "        'payout_eur',\n",
    "        'total_revenue_net_eur',\n",
    "        'charge_chf',\n",
    "        'sales_price_chf',\n",
    "        'fee_chf',\n",
    "        'vat_chf',\n",
    "        'net_booking_chf',\n",
    "        'payout_chf',\n",
    "        'total_revenue_net_chf',\n",
    "        'revenue_month_number',\n",
    "        'revenue_month_date',\n",
    "        # 'total_days',\n",
    "        'active_sub_month_end',\n",
    "        'active_sub_content'\n",
    "    ]\n",
    "]\n",
    "\n",
    "## define BQ table schema\n",
    "bq_schema = [\n",
    "    {\"name\": \"vendor_trx_id\", \"type\": \"STRING\"},\n",
    "    {\"name\": \"transaction_date\", \"type\": \"TIMESTAMP\"},\n",
    "    {\"name\": \"term_end\", \"type\": \"TIMESTAMP\"},\n",
    "    {\"name\": \"reporting_month\", \"type\": \"STRING\"},\n",
    "    {\"name\": \"country_name\", \"type\": \"STRING\"},\n",
    "    {\"name\": \"currency\", \"type\": \"STRING\"},\n",
    "    {\"name\": \"sku\", \"type\": \"STRING\"},\n",
    "    {\"name\": \"subscription_status\", \"type\": \"STRING\"},\n",
    "    {\"name\": \"transaction_type\", \"type\": \"STRING\"},\n",
    "    {\"name\": \"payment_method\", \"type\": \"STRING\"},\n",
    "    {\"name\": \"product_class\", \"type\": \"STRING\"},\n",
    "    {\"name\": \"product_length\", \"type\": \"INTEGER\"},\n",
    "    {\"name\": \"product_length_months\", \"type\": \"INTEGER\"},\n",
    "    {\"name\": \"product_term_length\", \"type\": \"INTEGER\"},\n",
    "    {\"name\": \"product_term_length\", \"type\": \"INTEGER\"},\n",
    "    {\"name\": \"domestic_abroad\", \"type\": \"STRING\"},\n",
    "    {\"name\": \"vat_percentage\", \"type\": \"FLOAT\"},\n",
    "    {\"name\": \"exchange_rate_eur_to_chf\", \"type\": \"FLOAT\"},\n",
    "    {\"name\": \"store_fees\", \"type\": \"INTEGER\"},\n",
    "    {\"name\": \"units\", \"type\": \"INTEGER\"},\n",
    "    {\"name\": \"charge_eur\", \"type\": \"FLOAT\"},\n",
    "    {\"name\": \"sales_price_eur\", \"type\": \"FLOAT\"},\n",
    "    {\"name\": \"fee_eur\", \"type\": \"FLOAT\"},\n",
    "    {\"name\": \"vat_eur\", \"type\": \"FLOAT\"},\n",
    "    {\"name\": \"net_booking_eur\", \"type\": \"FLOAT\"},\n",
    "    {\"name\": \"payout_eur\", \"type\": \"FLOAT\"},\n",
    "    {\"name\": \"total_revenue_net_eur\", \"type\": \"FLOAT\"},\n",
    "    {\"name\": \"charge_chf\", \"type\": \"FLOAT\"},\n",
    "    {\"name\": \"sales_price_chf\", \"type\": \"FLOAT\"},\n",
    "    {\"name\": \"fee_chf\", \"type\": \"FLOAT\"},\n",
    "    {\"name\": \"vat_chf\", \"type\": \"FLOAT\"},\n",
    "    {\"name\": \"net_booking_chf\", \"type\": \"FLOAT\"},\n",
    "    {\"name\": \"payout_chf\", \"type\": \"FLOAT\"},\n",
    "    {\"name\": \"total_revenue_net_chf\", \"type\": \"FLOAT\"},\n",
    "    {\"name\": \"revenue_month_number\", \"type\": \"INTEGER\"},\n",
    "    {\"name\": \"revenue_month_date\", \"type\": \"TIMESTAMP\"},\n",
    "    {\"name\": \"active_sub_month_end\", \"type\": \"INTEGER\"},\n",
    "    {\"name\": \"active_sub_content\", \"type\": \"INTEGER\"}\n",
    "]"
   ],
   "metadata": {
    "collapsed": false,
    "pycharm": {
     "name": "#%%\n"
    }
   }
  },
  {
   "cell_type": "code",
   "execution_count": 36,
   "outputs": [],
   "source": [
    "## export to csv\n",
    "path = r\"/Users/miguelcouto/Desktop/\"\n",
    "\n",
    "reporting_df.to_csv(os.path.join(path, r'f\"subs_reporting_datatrans{reporting_month.replace(\"-\", \"_\")}\".csv'))"
   ],
   "metadata": {
    "collapsed": false,
    "pycharm": {
     "name": "#%%\n"
    }
   }
  },
  {
   "cell_type": "code",
   "execution_count": 34,
   "outputs": [],
   "source": [
    "## export to BQ table\n",
    "pandas_gbq.to_gbq(\n",
    "    dataframe=reporting_df,\n",
    "    destination_table=f\"temp.subs_reporting_datatrans{reporting_month.replace('-', '')}\",\n",
    "    project_id=\"zattoo-dataeng\",\n",
    "    if_exists=\"replace\",\n",
    "    progress_bar=None,\n",
    "    table_schema=bq_schema,\n",
    ")"
   ],
   "metadata": {
    "collapsed": false,
    "pycharm": {
     "name": "#%%\n"
    }
   }
  }
 ],
 "metadata": {
  "kernelspec": {
   "display_name": "Python 3",
   "language": "python",
   "name": "python3"
  },
  "language_info": {
   "codemirror_mode": {
    "name": "ipython",
    "version": 3
   },
   "file_extension": ".py",
   "mimetype": "text/x-python",
   "name": "python",
   "nbconvert_exporter": "python",
   "pygments_lexer": "ipython3",
   "version": "3.9.4"
  }
 },
 "nbformat": 4,
 "nbformat_minor": 4
}
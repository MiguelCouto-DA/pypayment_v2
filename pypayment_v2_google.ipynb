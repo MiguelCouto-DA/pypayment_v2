{
 "cells": [
  {
   "cell_type": "code",
   "execution_count": 46,
   "outputs": [],
   "source": [
    "#%load_ext lab_black"
   ],
   "metadata": {
    "collapsed": false,
    "pycharm": {
     "name": "#%%\n"
    }
   }
  },
  {
   "cell_type": "code",
   "execution_count": 47,
   "outputs": [],
   "source": [
    "from google.cloud import bigquery\n",
    "from google.oauth2 import service_account\n",
    "import pandas_gbq\n",
    "import pandas as pd\n",
    "import numpy as np\n",
    "import os\n",
    "import warnings\n",
    "import datetime\n",
    "\n",
    "pd.set_option('display.max_columns', None)\n",
    "warnings.filterwarnings('ignore')\n",
    "\n",
    "credentials = service_account.Credentials.from_service_account_file(\n",
    "    \"/Users/miguelcouto/Downloads/zattoo-dataeng-e5f45785174f.json\"\n",
    ")\n",
    "\n",
    "project_id = \"zattoo-dataeng\"\n",
    "client = bigquery.Client(credentials=credentials, project=project_id)"
   ],
   "metadata": {
    "collapsed": false,
    "pycharm": {
     "name": "#%%\n"
    }
   }
  },
  {
   "cell_type": "code",
   "execution_count": 48,
   "outputs": [],
   "source": [
    "## prepare dataframe\n",
    "df = pd.read_csv('/Users/miguelcouto/PycharmProjects/pypayment_v2/raw/google/PlayApps_202203.csv')"
   ],
   "metadata": {
    "collapsed": false,
    "pycharm": {
     "name": "#%%\n"
    }
   }
  },
  {
   "cell_type": "code",
   "execution_count": 57,
   "outputs": [
    {
     "data": {
      "text/plain": "                        Description Transaction Date Transaction Time  \\\n0       GPA.3333-4676-4491-66844..6      Mar 1, 2022  12:00:15 AM PST   \n1      GPA.3371-1437-7980-50687..12      Mar 1, 2022  12:01:17 AM PST   \n2      GPA.3317-7462-8578-07752..34      Mar 1, 2022  12:01:49 AM PST   \n3       GPA.3374-2096-5561-16599..0      Mar 1, 2022  12:05:50 AM PST   \n4       GPA.3374-2096-5561-16599..0      Mar 1, 2022  12:05:50 AM PST   \n...                             ...              ...              ...   \n34381   GPA.3358-0330-0809-51678..2     Mar 31, 2022  11:55:52 PM PDT   \n34382   GPA.3358-0330-0809-51678..2     Mar 31, 2022  11:55:52 PM PDT   \n34383  GPA.3386-8907-9460-89855..34     Mar 31, 2022  11:56:15 PM PDT   \n34384   GPA.3372-1168-0058-27312..0     Mar 31, 2022  11:59:39 PM PDT   \n34385   GPA.3318-6376-6542-55283..4     Mar 31, 2022  11:59:42 PM PDT   \n\n              Tax Type Transaction Type Refund Type  \\\n0                  NaN           Charge         NaN   \n1                  NaN           Charge         NaN   \n2                  NaN           Charge         NaN   \n3                  NaN           Charge         NaN   \n4                  NaN       Google fee         NaN   \n...                ...              ...         ...   \n34381              NaN       Google fee         NaN   \n34382  Third-party Tax              Tax         NaN   \n34383              NaN           Charge         NaN   \n34384              NaN           Charge         NaN   \n34385              NaN           Charge         NaN   \n\n                                           Product Title         Product id  \\\n0      Zattoo ULTIMATE - 1 month (DE) (Zattoo - TV St...  com.zattoo.player   \n1      Zattoo PREMIUM - 1 Monat (Zattoo - TV Streamin...  com.zattoo.player   \n2      Zattoo PREMIUM - 1 Monat (Zattoo - TV Streamin...  com.zattoo.player   \n3      Zattoo ULTIMATE - 1 month (CH) (Zattoo - TV St...  com.zattoo.player   \n4      Zattoo ULTIMATE - 1 month (CH) (Zattoo - TV St...  com.zattoo.player   \n...                                                  ...                ...   \n34381  Zattoo PREMIUM - 12 Monate (CH) (Zattoo - TV S...  com.zattoo.player   \n34382  Zattoo PREMIUM - 12 Monate (CH) (Zattoo - TV S...  com.zattoo.player   \n34383  Zattoo PREMIUM - 1 Monat (Zattoo - TV Streamin...  com.zattoo.player   \n34384  Zattoo PREMIUM - 1 Monat (Zattoo - TV Streamin...  com.zattoo.player   \n34385  Zattoo ULTIMATE - 1 month (DE) (Zattoo - TV St...  com.zattoo.player   \n\n       Product Type                                   Sku Id Hardware  \\\n0                 1  com.zattoo.android.de.1399.10.freetrial      NaN   \n1                 1   com.zattoo.android.de.999.10.freetrial      NaN   \n2                 1   com.zattoo.android.de.999.10.freetrial      NaN   \n3                 1  com.zattoo.android.ch.2000.10.freetrial      NaN   \n4                 1  com.zattoo.android.ch.2000.10.freetrial      NaN   \n...             ...                                      ...      ...   \n34381             1            com.zattoo.android.ch.2016.30      NaN   \n34382             1            com.zattoo.android.ch.2016.30      NaN   \n34383             1   com.zattoo.android.de.999.10.freetrial      NaN   \n34384             1   com.zattoo.android.de.999.10.freetrial      NaN   \n34385             1  com.zattoo.android.de.1399.10.freetrial      NaN   \n\n      Buyer Country Buyer State Buyer Postal Code Buyer Currency  \\\n0                DE         NaN             73111            EUR   \n1                DE         NaN             26506            EUR   \n2                DE         NaN             71254            EUR   \n3                CH         NaN              2603            CHF   \n4                CH         NaN              2603            CHF   \n...             ...         ...               ...            ...   \n34381            CH         NaN            9050.0            CHF   \n34382            CH         NaN            9050.0            CHF   \n34383            DE         NaN           30926.0            EUR   \n34384            DE         NaN           66822.0            EUR   \n34385            DE         NaN           82256.0            EUR   \n\n       Amount (Buyer Currency)  Currency Conversion Rate Merchant Currency  \\\n0                        10.00                    1.0283               CHF   \n1                         7.13                    1.0283               CHF   \n2                         7.13                    1.0283               CHF   \n3                        18.57                    1.0000               CHF   \n4                        -2.79                    1.0000               CHF   \n...                        ...                       ...               ...   \n34381                   -16.71                    1.0000               CHF   \n34382                     8.58                    1.0000               CHF   \n34383                     7.13                    1.0235               CHF   \n34384                     7.13                    1.0235               CHF   \n34385                    10.00                    1.0235               CHF   \n\n       Amount (Merchant Currency) Base Plan ID   Offer ID transaction_date  \\\n0                           10.28          NaN        NaN       2022-03-01   \n1                            7.33          NaN        NaN       2022-03-01   \n2                            7.33          NaN        NaN       2022-03-01   \n3                           18.57          NaN        NaN       2022-03-01   \n4                           -2.79          NaN        NaN       2022-03-01   \n...                           ...          ...        ...              ...   \n34381                      -16.71          NaN        NaN       2022-03-31   \n34382                        8.58          NaN        NaN       2022-03-31   \n34383                        7.30          NaN        NaN       2022-03-31   \n34384                        7.30          p1m  freetrial       2022-03-31   \n34385                       10.24          NaN        NaN       2022-03-31   \n\n      transaction_time  \n0      0 days 12:00:15  \n1      0 days 12:01:17  \n2      0 days 12:01:49  \n3      0 days 12:05:50  \n4      0 days 12:05:50  \n...                ...  \n34381  0 days 11:55:52  \n34382  0 days 11:55:52  \n34383  0 days 11:56:15  \n34384  0 days 11:59:39  \n34385  0 days 11:59:42  \n\n[34386 rows x 23 columns]",
      "text/html": "<div>\n<style scoped>\n    .dataframe tbody tr th:only-of-type {\n        vertical-align: middle;\n    }\n\n    .dataframe tbody tr th {\n        vertical-align: top;\n    }\n\n    .dataframe thead th {\n        text-align: right;\n    }\n</style>\n<table border=\"1\" class=\"dataframe\">\n  <thead>\n    <tr style=\"text-align: right;\">\n      <th></th>\n      <th>Description</th>\n      <th>Transaction Date</th>\n      <th>Transaction Time</th>\n      <th>Tax Type</th>\n      <th>Transaction Type</th>\n      <th>Refund Type</th>\n      <th>Product Title</th>\n      <th>Product id</th>\n      <th>Product Type</th>\n      <th>Sku Id</th>\n      <th>Hardware</th>\n      <th>Buyer Country</th>\n      <th>Buyer State</th>\n      <th>Buyer Postal Code</th>\n      <th>Buyer Currency</th>\n      <th>Amount (Buyer Currency)</th>\n      <th>Currency Conversion Rate</th>\n      <th>Merchant Currency</th>\n      <th>Amount (Merchant Currency)</th>\n      <th>Base Plan ID</th>\n      <th>Offer ID</th>\n      <th>transaction_date</th>\n      <th>transaction_time</th>\n    </tr>\n  </thead>\n  <tbody>\n    <tr>\n      <th>0</th>\n      <td>GPA.3333-4676-4491-66844..6</td>\n      <td>Mar 1, 2022</td>\n      <td>12:00:15 AM PST</td>\n      <td>NaN</td>\n      <td>Charge</td>\n      <td>NaN</td>\n      <td>Zattoo ULTIMATE - 1 month (DE) (Zattoo - TV St...</td>\n      <td>com.zattoo.player</td>\n      <td>1</td>\n      <td>com.zattoo.android.de.1399.10.freetrial</td>\n      <td>NaN</td>\n      <td>DE</td>\n      <td>NaN</td>\n      <td>73111</td>\n      <td>EUR</td>\n      <td>10.00</td>\n      <td>1.0283</td>\n      <td>CHF</td>\n      <td>10.28</td>\n      <td>NaN</td>\n      <td>NaN</td>\n      <td>2022-03-01</td>\n      <td>0 days 12:00:15</td>\n    </tr>\n    <tr>\n      <th>1</th>\n      <td>GPA.3371-1437-7980-50687..12</td>\n      <td>Mar 1, 2022</td>\n      <td>12:01:17 AM PST</td>\n      <td>NaN</td>\n      <td>Charge</td>\n      <td>NaN</td>\n      <td>Zattoo PREMIUM - 1 Monat (Zattoo - TV Streamin...</td>\n      <td>com.zattoo.player</td>\n      <td>1</td>\n      <td>com.zattoo.android.de.999.10.freetrial</td>\n      <td>NaN</td>\n      <td>DE</td>\n      <td>NaN</td>\n      <td>26506</td>\n      <td>EUR</td>\n      <td>7.13</td>\n      <td>1.0283</td>\n      <td>CHF</td>\n      <td>7.33</td>\n      <td>NaN</td>\n      <td>NaN</td>\n      <td>2022-03-01</td>\n      <td>0 days 12:01:17</td>\n    </tr>\n    <tr>\n      <th>2</th>\n      <td>GPA.3317-7462-8578-07752..34</td>\n      <td>Mar 1, 2022</td>\n      <td>12:01:49 AM PST</td>\n      <td>NaN</td>\n      <td>Charge</td>\n      <td>NaN</td>\n      <td>Zattoo PREMIUM - 1 Monat (Zattoo - TV Streamin...</td>\n      <td>com.zattoo.player</td>\n      <td>1</td>\n      <td>com.zattoo.android.de.999.10.freetrial</td>\n      <td>NaN</td>\n      <td>DE</td>\n      <td>NaN</td>\n      <td>71254</td>\n      <td>EUR</td>\n      <td>7.13</td>\n      <td>1.0283</td>\n      <td>CHF</td>\n      <td>7.33</td>\n      <td>NaN</td>\n      <td>NaN</td>\n      <td>2022-03-01</td>\n      <td>0 days 12:01:49</td>\n    </tr>\n    <tr>\n      <th>3</th>\n      <td>GPA.3374-2096-5561-16599..0</td>\n      <td>Mar 1, 2022</td>\n      <td>12:05:50 AM PST</td>\n      <td>NaN</td>\n      <td>Charge</td>\n      <td>NaN</td>\n      <td>Zattoo ULTIMATE - 1 month (CH) (Zattoo - TV St...</td>\n      <td>com.zattoo.player</td>\n      <td>1</td>\n      <td>com.zattoo.android.ch.2000.10.freetrial</td>\n      <td>NaN</td>\n      <td>CH</td>\n      <td>NaN</td>\n      <td>2603</td>\n      <td>CHF</td>\n      <td>18.57</td>\n      <td>1.0000</td>\n      <td>CHF</td>\n      <td>18.57</td>\n      <td>NaN</td>\n      <td>NaN</td>\n      <td>2022-03-01</td>\n      <td>0 days 12:05:50</td>\n    </tr>\n    <tr>\n      <th>4</th>\n      <td>GPA.3374-2096-5561-16599..0</td>\n      <td>Mar 1, 2022</td>\n      <td>12:05:50 AM PST</td>\n      <td>NaN</td>\n      <td>Google fee</td>\n      <td>NaN</td>\n      <td>Zattoo ULTIMATE - 1 month (CH) (Zattoo - TV St...</td>\n      <td>com.zattoo.player</td>\n      <td>1</td>\n      <td>com.zattoo.android.ch.2000.10.freetrial</td>\n      <td>NaN</td>\n      <td>CH</td>\n      <td>NaN</td>\n      <td>2603</td>\n      <td>CHF</td>\n      <td>-2.79</td>\n      <td>1.0000</td>\n      <td>CHF</td>\n      <td>-2.79</td>\n      <td>NaN</td>\n      <td>NaN</td>\n      <td>2022-03-01</td>\n      <td>0 days 12:05:50</td>\n    </tr>\n    <tr>\n      <th>...</th>\n      <td>...</td>\n      <td>...</td>\n      <td>...</td>\n      <td>...</td>\n      <td>...</td>\n      <td>...</td>\n      <td>...</td>\n      <td>...</td>\n      <td>...</td>\n      <td>...</td>\n      <td>...</td>\n      <td>...</td>\n      <td>...</td>\n      <td>...</td>\n      <td>...</td>\n      <td>...</td>\n      <td>...</td>\n      <td>...</td>\n      <td>...</td>\n      <td>...</td>\n      <td>...</td>\n      <td>...</td>\n      <td>...</td>\n    </tr>\n    <tr>\n      <th>34381</th>\n      <td>GPA.3358-0330-0809-51678..2</td>\n      <td>Mar 31, 2022</td>\n      <td>11:55:52 PM PDT</td>\n      <td>NaN</td>\n      <td>Google fee</td>\n      <td>NaN</td>\n      <td>Zattoo PREMIUM - 12 Monate (CH) (Zattoo - TV S...</td>\n      <td>com.zattoo.player</td>\n      <td>1</td>\n      <td>com.zattoo.android.ch.2016.30</td>\n      <td>NaN</td>\n      <td>CH</td>\n      <td>NaN</td>\n      <td>9050.0</td>\n      <td>CHF</td>\n      <td>-16.71</td>\n      <td>1.0000</td>\n      <td>CHF</td>\n      <td>-16.71</td>\n      <td>NaN</td>\n      <td>NaN</td>\n      <td>2022-03-31</td>\n      <td>0 days 11:55:52</td>\n    </tr>\n    <tr>\n      <th>34382</th>\n      <td>GPA.3358-0330-0809-51678..2</td>\n      <td>Mar 31, 2022</td>\n      <td>11:55:52 PM PDT</td>\n      <td>Third-party Tax</td>\n      <td>Tax</td>\n      <td>NaN</td>\n      <td>Zattoo PREMIUM - 12 Monate (CH) (Zattoo - TV S...</td>\n      <td>com.zattoo.player</td>\n      <td>1</td>\n      <td>com.zattoo.android.ch.2016.30</td>\n      <td>NaN</td>\n      <td>CH</td>\n      <td>NaN</td>\n      <td>9050.0</td>\n      <td>CHF</td>\n      <td>8.58</td>\n      <td>1.0000</td>\n      <td>CHF</td>\n      <td>8.58</td>\n      <td>NaN</td>\n      <td>NaN</td>\n      <td>2022-03-31</td>\n      <td>0 days 11:55:52</td>\n    </tr>\n    <tr>\n      <th>34383</th>\n      <td>GPA.3386-8907-9460-89855..34</td>\n      <td>Mar 31, 2022</td>\n      <td>11:56:15 PM PDT</td>\n      <td>NaN</td>\n      <td>Charge</td>\n      <td>NaN</td>\n      <td>Zattoo PREMIUM - 1 Monat (Zattoo - TV Streamin...</td>\n      <td>com.zattoo.player</td>\n      <td>1</td>\n      <td>com.zattoo.android.de.999.10.freetrial</td>\n      <td>NaN</td>\n      <td>DE</td>\n      <td>NaN</td>\n      <td>30926.0</td>\n      <td>EUR</td>\n      <td>7.13</td>\n      <td>1.0235</td>\n      <td>CHF</td>\n      <td>7.30</td>\n      <td>NaN</td>\n      <td>NaN</td>\n      <td>2022-03-31</td>\n      <td>0 days 11:56:15</td>\n    </tr>\n    <tr>\n      <th>34384</th>\n      <td>GPA.3372-1168-0058-27312..0</td>\n      <td>Mar 31, 2022</td>\n      <td>11:59:39 PM PDT</td>\n      <td>NaN</td>\n      <td>Charge</td>\n      <td>NaN</td>\n      <td>Zattoo PREMIUM - 1 Monat (Zattoo - TV Streamin...</td>\n      <td>com.zattoo.player</td>\n      <td>1</td>\n      <td>com.zattoo.android.de.999.10.freetrial</td>\n      <td>NaN</td>\n      <td>DE</td>\n      <td>NaN</td>\n      <td>66822.0</td>\n      <td>EUR</td>\n      <td>7.13</td>\n      <td>1.0235</td>\n      <td>CHF</td>\n      <td>7.30</td>\n      <td>p1m</td>\n      <td>freetrial</td>\n      <td>2022-03-31</td>\n      <td>0 days 11:59:39</td>\n    </tr>\n    <tr>\n      <th>34385</th>\n      <td>GPA.3318-6376-6542-55283..4</td>\n      <td>Mar 31, 2022</td>\n      <td>11:59:42 PM PDT</td>\n      <td>NaN</td>\n      <td>Charge</td>\n      <td>NaN</td>\n      <td>Zattoo ULTIMATE - 1 month (DE) (Zattoo - TV St...</td>\n      <td>com.zattoo.player</td>\n      <td>1</td>\n      <td>com.zattoo.android.de.1399.10.freetrial</td>\n      <td>NaN</td>\n      <td>DE</td>\n      <td>NaN</td>\n      <td>82256.0</td>\n      <td>EUR</td>\n      <td>10.00</td>\n      <td>1.0235</td>\n      <td>CHF</td>\n      <td>10.24</td>\n      <td>NaN</td>\n      <td>NaN</td>\n      <td>2022-03-31</td>\n      <td>0 days 11:59:42</td>\n    </tr>\n  </tbody>\n</table>\n<p>34386 rows × 23 columns</p>\n</div>"
     },
     "execution_count": 57,
     "metadata": {},
     "output_type": "execute_result"
    }
   ],
   "source": [
    "df"
   ],
   "metadata": {
    "collapsed": false,
    "pycharm": {
     "name": "#%%\n"
    }
   }
  },
  {
   "cell_type": "code",
   "execution_count": 60,
   "outputs": [
    {
     "data": {
      "text/plain": "array(['Charge', 'Google fee', 'Tax', 'Charge refund',\n       'Google fee refund', 'Tax refund'], dtype=object)"
     },
     "execution_count": 60,
     "metadata": {},
     "output_type": "execute_result"
    }
   ],
   "source": [
    "df['Transaction Type'].unique()"
   ],
   "metadata": {
    "collapsed": false,
    "pycharm": {
     "name": "#%%\n"
    }
   }
  },
  {
   "cell_type": "code",
   "execution_count": 58,
   "outputs": [],
   "source": [
    "reporting_df = df[\n",
    "    ['Description', 'Transaction Date', 'Transaction Time', 'Tax Type', 'Transaction Type',\n",
    "       'Refund Type', 'Product Title', 'Sku Id', 'Buyer Country',\n",
    "       'Buyer Currency', 'Amount (Buyer Currency)', 'Currency Conversion Rate',\n",
    "       'Merchant Currency', 'Amount (Merchant Currency)', 'Offer ID']]\n",
    "\n",
    "reporting_df.rename({'Description': 'transaction_id',\n",
    "                     'Transaction Time': 'transaction_time',\n",
    "                     'Transaction Date': 'transaction_date',\n",
    "                     'Transaction Type': 'type_of_transaction',\n",
    "                     'Tax Type': 'tax_type',\n",
    "                     'Refund Type': 'refund_type',\n",
    "                     'Product Title': 'product_title',\n",
    "                     'Sku Id': 'vendor_sku',\n",
    "                     'Buyer Country': 'buyer_country_code',\n",
    "                     'Buyer Currency': 'buyer_currency',\n",
    "                     'Merchant Currency': 'merchant_currency',\n",
    "                     'Currency Conversion Rate': 'currency_conversion_rate',\n",
    "                     'Amount (Buyer Currency)': 'earnings_buyer_currency',\n",
    "                     'Amount (Merchant Currency)': 'earnings_chf',\n",
    "                     'Offer ID': 'offer_id',\n",
    "                     },\n",
    "                    axis=1, inplace=True)\n",
    "\n",
    "reporting_df['transaction_date'] = pd.to_datetime(df['Transaction Date'])\n",
    "reporting_df['transaction_time'] = pd.to_timedelta(df['Transaction Time'])\n",
    "\n",
    "# reporting_df['subscription_status'] = reporting_df['subscription_status'].str.lower()\n",
    "# reporting_df['type_of_transaction'] = reporting_df['type_of_transaction'].str.lower()"
   ],
   "metadata": {
    "collapsed": false,
    "pycharm": {
     "name": "#%%\n"
    }
   }
  },
  {
   "cell_type": "code",
   "execution_count": 59,
   "outputs": [
    {
     "data": {
      "text/plain": "                     transaction_id transaction_date transaction_time  \\\n0       GPA.3333-4676-4491-66844..6       2022-03-01  0 days 12:00:15   \n1      GPA.3371-1437-7980-50687..12       2022-03-01  0 days 12:01:17   \n2      GPA.3317-7462-8578-07752..34       2022-03-01  0 days 12:01:49   \n3       GPA.3374-2096-5561-16599..0       2022-03-01  0 days 12:05:50   \n4       GPA.3374-2096-5561-16599..0       2022-03-01  0 days 12:05:50   \n...                             ...              ...              ...   \n34381   GPA.3358-0330-0809-51678..2       2022-03-31  0 days 11:55:52   \n34382   GPA.3358-0330-0809-51678..2       2022-03-31  0 days 11:55:52   \n34383  GPA.3386-8907-9460-89855..34       2022-03-31  0 days 11:56:15   \n34384   GPA.3372-1168-0058-27312..0       2022-03-31  0 days 11:59:39   \n34385   GPA.3318-6376-6542-55283..4       2022-03-31  0 days 11:59:42   \n\n              tax_type type_of_transaction refund_type  \\\n0                  NaN              Charge         NaN   \n1                  NaN              Charge         NaN   \n2                  NaN              Charge         NaN   \n3                  NaN              Charge         NaN   \n4                  NaN          Google fee         NaN   \n...                ...                 ...         ...   \n34381              NaN          Google fee         NaN   \n34382  Third-party Tax                 Tax         NaN   \n34383              NaN              Charge         NaN   \n34384              NaN              Charge         NaN   \n34385              NaN              Charge         NaN   \n\n                                           product_title  \\\n0      Zattoo ULTIMATE - 1 month (DE) (Zattoo - TV St...   \n1      Zattoo PREMIUM - 1 Monat (Zattoo - TV Streamin...   \n2      Zattoo PREMIUM - 1 Monat (Zattoo - TV Streamin...   \n3      Zattoo ULTIMATE - 1 month (CH) (Zattoo - TV St...   \n4      Zattoo ULTIMATE - 1 month (CH) (Zattoo - TV St...   \n...                                                  ...   \n34381  Zattoo PREMIUM - 12 Monate (CH) (Zattoo - TV S...   \n34382  Zattoo PREMIUM - 12 Monate (CH) (Zattoo - TV S...   \n34383  Zattoo PREMIUM - 1 Monat (Zattoo - TV Streamin...   \n34384  Zattoo PREMIUM - 1 Monat (Zattoo - TV Streamin...   \n34385  Zattoo ULTIMATE - 1 month (DE) (Zattoo - TV St...   \n\n                                    vendor_sku buyer_country_code  \\\n0      com.zattoo.android.de.1399.10.freetrial                 DE   \n1       com.zattoo.android.de.999.10.freetrial                 DE   \n2       com.zattoo.android.de.999.10.freetrial                 DE   \n3      com.zattoo.android.ch.2000.10.freetrial                 CH   \n4      com.zattoo.android.ch.2000.10.freetrial                 CH   \n...                                        ...                ...   \n34381            com.zattoo.android.ch.2016.30                 CH   \n34382            com.zattoo.android.ch.2016.30                 CH   \n34383   com.zattoo.android.de.999.10.freetrial                 DE   \n34384   com.zattoo.android.de.999.10.freetrial                 DE   \n34385  com.zattoo.android.de.1399.10.freetrial                 DE   \n\n      buyer_currency  earnings_buyer_currency  currency_conversion_rate  \\\n0                EUR                    10.00                    1.0283   \n1                EUR                     7.13                    1.0283   \n2                EUR                     7.13                    1.0283   \n3                CHF                    18.57                    1.0000   \n4                CHF                    -2.79                    1.0000   \n...              ...                      ...                       ...   \n34381            CHF                   -16.71                    1.0000   \n34382            CHF                     8.58                    1.0000   \n34383            EUR                     7.13                    1.0235   \n34384            EUR                     7.13                    1.0235   \n34385            EUR                    10.00                    1.0235   \n\n      merchant_currency  earnings_chf   offer_id  \n0                   CHF         10.28        NaN  \n1                   CHF          7.33        NaN  \n2                   CHF          7.33        NaN  \n3                   CHF         18.57        NaN  \n4                   CHF         -2.79        NaN  \n...                 ...           ...        ...  \n34381               CHF        -16.71        NaN  \n34382               CHF          8.58        NaN  \n34383               CHF          7.30        NaN  \n34384               CHF          7.30  freetrial  \n34385               CHF         10.24        NaN  \n\n[34386 rows x 15 columns]",
      "text/html": "<div>\n<style scoped>\n    .dataframe tbody tr th:only-of-type {\n        vertical-align: middle;\n    }\n\n    .dataframe tbody tr th {\n        vertical-align: top;\n    }\n\n    .dataframe thead th {\n        text-align: right;\n    }\n</style>\n<table border=\"1\" class=\"dataframe\">\n  <thead>\n    <tr style=\"text-align: right;\">\n      <th></th>\n      <th>transaction_id</th>\n      <th>transaction_date</th>\n      <th>transaction_time</th>\n      <th>tax_type</th>\n      <th>type_of_transaction</th>\n      <th>refund_type</th>\n      <th>product_title</th>\n      <th>vendor_sku</th>\n      <th>buyer_country_code</th>\n      <th>buyer_currency</th>\n      <th>earnings_buyer_currency</th>\n      <th>currency_conversion_rate</th>\n      <th>merchant_currency</th>\n      <th>earnings_chf</th>\n      <th>offer_id</th>\n    </tr>\n  </thead>\n  <tbody>\n    <tr>\n      <th>0</th>\n      <td>GPA.3333-4676-4491-66844..6</td>\n      <td>2022-03-01</td>\n      <td>0 days 12:00:15</td>\n      <td>NaN</td>\n      <td>Charge</td>\n      <td>NaN</td>\n      <td>Zattoo ULTIMATE - 1 month (DE) (Zattoo - TV St...</td>\n      <td>com.zattoo.android.de.1399.10.freetrial</td>\n      <td>DE</td>\n      <td>EUR</td>\n      <td>10.00</td>\n      <td>1.0283</td>\n      <td>CHF</td>\n      <td>10.28</td>\n      <td>NaN</td>\n    </tr>\n    <tr>\n      <th>1</th>\n      <td>GPA.3371-1437-7980-50687..12</td>\n      <td>2022-03-01</td>\n      <td>0 days 12:01:17</td>\n      <td>NaN</td>\n      <td>Charge</td>\n      <td>NaN</td>\n      <td>Zattoo PREMIUM - 1 Monat (Zattoo - TV Streamin...</td>\n      <td>com.zattoo.android.de.999.10.freetrial</td>\n      <td>DE</td>\n      <td>EUR</td>\n      <td>7.13</td>\n      <td>1.0283</td>\n      <td>CHF</td>\n      <td>7.33</td>\n      <td>NaN</td>\n    </tr>\n    <tr>\n      <th>2</th>\n      <td>GPA.3317-7462-8578-07752..34</td>\n      <td>2022-03-01</td>\n      <td>0 days 12:01:49</td>\n      <td>NaN</td>\n      <td>Charge</td>\n      <td>NaN</td>\n      <td>Zattoo PREMIUM - 1 Monat (Zattoo - TV Streamin...</td>\n      <td>com.zattoo.android.de.999.10.freetrial</td>\n      <td>DE</td>\n      <td>EUR</td>\n      <td>7.13</td>\n      <td>1.0283</td>\n      <td>CHF</td>\n      <td>7.33</td>\n      <td>NaN</td>\n    </tr>\n    <tr>\n      <th>3</th>\n      <td>GPA.3374-2096-5561-16599..0</td>\n      <td>2022-03-01</td>\n      <td>0 days 12:05:50</td>\n      <td>NaN</td>\n      <td>Charge</td>\n      <td>NaN</td>\n      <td>Zattoo ULTIMATE - 1 month (CH) (Zattoo - TV St...</td>\n      <td>com.zattoo.android.ch.2000.10.freetrial</td>\n      <td>CH</td>\n      <td>CHF</td>\n      <td>18.57</td>\n      <td>1.0000</td>\n      <td>CHF</td>\n      <td>18.57</td>\n      <td>NaN</td>\n    </tr>\n    <tr>\n      <th>4</th>\n      <td>GPA.3374-2096-5561-16599..0</td>\n      <td>2022-03-01</td>\n      <td>0 days 12:05:50</td>\n      <td>NaN</td>\n      <td>Google fee</td>\n      <td>NaN</td>\n      <td>Zattoo ULTIMATE - 1 month (CH) (Zattoo - TV St...</td>\n      <td>com.zattoo.android.ch.2000.10.freetrial</td>\n      <td>CH</td>\n      <td>CHF</td>\n      <td>-2.79</td>\n      <td>1.0000</td>\n      <td>CHF</td>\n      <td>-2.79</td>\n      <td>NaN</td>\n    </tr>\n    <tr>\n      <th>...</th>\n      <td>...</td>\n      <td>...</td>\n      <td>...</td>\n      <td>...</td>\n      <td>...</td>\n      <td>...</td>\n      <td>...</td>\n      <td>...</td>\n      <td>...</td>\n      <td>...</td>\n      <td>...</td>\n      <td>...</td>\n      <td>...</td>\n      <td>...</td>\n      <td>...</td>\n    </tr>\n    <tr>\n      <th>34381</th>\n      <td>GPA.3358-0330-0809-51678..2</td>\n      <td>2022-03-31</td>\n      <td>0 days 11:55:52</td>\n      <td>NaN</td>\n      <td>Google fee</td>\n      <td>NaN</td>\n      <td>Zattoo PREMIUM - 12 Monate (CH) (Zattoo - TV S...</td>\n      <td>com.zattoo.android.ch.2016.30</td>\n      <td>CH</td>\n      <td>CHF</td>\n      <td>-16.71</td>\n      <td>1.0000</td>\n      <td>CHF</td>\n      <td>-16.71</td>\n      <td>NaN</td>\n    </tr>\n    <tr>\n      <th>34382</th>\n      <td>GPA.3358-0330-0809-51678..2</td>\n      <td>2022-03-31</td>\n      <td>0 days 11:55:52</td>\n      <td>Third-party Tax</td>\n      <td>Tax</td>\n      <td>NaN</td>\n      <td>Zattoo PREMIUM - 12 Monate (CH) (Zattoo - TV S...</td>\n      <td>com.zattoo.android.ch.2016.30</td>\n      <td>CH</td>\n      <td>CHF</td>\n      <td>8.58</td>\n      <td>1.0000</td>\n      <td>CHF</td>\n      <td>8.58</td>\n      <td>NaN</td>\n    </tr>\n    <tr>\n      <th>34383</th>\n      <td>GPA.3386-8907-9460-89855..34</td>\n      <td>2022-03-31</td>\n      <td>0 days 11:56:15</td>\n      <td>NaN</td>\n      <td>Charge</td>\n      <td>NaN</td>\n      <td>Zattoo PREMIUM - 1 Monat (Zattoo - TV Streamin...</td>\n      <td>com.zattoo.android.de.999.10.freetrial</td>\n      <td>DE</td>\n      <td>EUR</td>\n      <td>7.13</td>\n      <td>1.0235</td>\n      <td>CHF</td>\n      <td>7.30</td>\n      <td>NaN</td>\n    </tr>\n    <tr>\n      <th>34384</th>\n      <td>GPA.3372-1168-0058-27312..0</td>\n      <td>2022-03-31</td>\n      <td>0 days 11:59:39</td>\n      <td>NaN</td>\n      <td>Charge</td>\n      <td>NaN</td>\n      <td>Zattoo PREMIUM - 1 Monat (Zattoo - TV Streamin...</td>\n      <td>com.zattoo.android.de.999.10.freetrial</td>\n      <td>DE</td>\n      <td>EUR</td>\n      <td>7.13</td>\n      <td>1.0235</td>\n      <td>CHF</td>\n      <td>7.30</td>\n      <td>freetrial</td>\n    </tr>\n    <tr>\n      <th>34385</th>\n      <td>GPA.3318-6376-6542-55283..4</td>\n      <td>2022-03-31</td>\n      <td>0 days 11:59:42</td>\n      <td>NaN</td>\n      <td>Charge</td>\n      <td>NaN</td>\n      <td>Zattoo ULTIMATE - 1 month (DE) (Zattoo - TV St...</td>\n      <td>com.zattoo.android.de.1399.10.freetrial</td>\n      <td>DE</td>\n      <td>EUR</td>\n      <td>10.00</td>\n      <td>1.0235</td>\n      <td>CHF</td>\n      <td>10.24</td>\n      <td>NaN</td>\n    </tr>\n  </tbody>\n</table>\n<p>34386 rows × 15 columns</p>\n</div>"
     },
     "execution_count": 59,
     "metadata": {},
     "output_type": "execute_result"
    }
   ],
   "source": [
    "reporting_df"
   ],
   "metadata": {
    "collapsed": false,
    "pycharm": {
     "name": "#%%\n"
    }
   }
  },
  {
   "cell_type": "code",
   "execution_count": 1197,
   "outputs": [],
   "source": [
    "reporting_df = reporting_df[pd.isna(reporting_df['subscription_status']) == False]"
   ],
   "metadata": {
    "collapsed": false,
    "pycharm": {
     "name": "#%%\n"
    }
   }
  },
  {
   "cell_type": "code",
   "execution_count": 1198,
   "outputs": [],
   "source": [
    "## build join to dim.countries and get country_names\n",
    "\n",
    "reporting_df['country_name'] = reporting_df['country_code'].replace(\n",
    "    'DE', 'Germany').replace('CH', 'Switzerland').replace('AT', 'Austria')\n",
    "\n",
    "reporting_df['country_name'].replace(\n",
    "    'Switzerland', 'Germany', inplace=True)"
   ],
   "metadata": {
    "collapsed": false,
    "pycharm": {
     "name": "#%%\n"
    }
   }
  },
  {
   "cell_type": "code",
   "execution_count": 1199,
   "outputs": [],
   "source": [
    "reporting_df['transaction_date'] = pd.to_datetime(reporting_df['transaction_time'].str[:-4], format='%Y-%m-%d %H:%M:%S')\n",
    "reporting_df.drop('transaction_time', axis=1, inplace=True)"
   ],
   "metadata": {
    "collapsed": false,
    "pycharm": {
     "name": "#%%\n"
    }
   }
  },
  {
   "cell_type": "code",
   "execution_count": 61,
   "outputs": [],
   "source": [
    "reporting_df['reporting_month'] = reporting_df['transaction_date'].dt.to_period('M').dt.strftime('%Y-%m')\n",
    "reporting_month = reporting_df.reporting_month.mode()\n",
    "reporting_df['reporting_month'] = reporting_df['reporting_month'].apply(lambda x: reporting_month)"
   ],
   "metadata": {
    "collapsed": false,
    "pycharm": {
     "name": "#%%\n"
    }
   }
  },
  {
   "cell_type": "code",
   "execution_count": 1201,
   "outputs": [],
   "source": [
    "reporting_df['payment_method'] = 'google'"
   ],
   "metadata": {
    "collapsed": false,
    "pycharm": {
     "name": "#%%\n"
    }
   }
  },
  {
   "cell_type": "code",
   "execution_count": 1202,
   "outputs": [],
   "source": [
    "reporting_df['currency'] = reporting_df['country_name'].apply(lambda x: 'CHF' if x == 'Switzerland' else 'EUR')"
   ],
   "metadata": {
    "collapsed": false,
    "pycharm": {
     "name": "#%%\n"
    }
   }
  },
  {
   "cell_type": "code",
   "execution_count": 1203,
   "outputs": [],
   "source": [
    "payment_amazon = \"\"\"\n",
    "select distinct\n",
    "       pav.termsku,\n",
    "       pav.term,\n",
    "       pav.productid\n",
    "from b2c_middleware_import.payment_amazontransaction_view pav\n",
    "\"\"\"\n",
    "\n",
    "df_skus = pandas_gbq.read_gbq(payment_amazon, project_id=project_id, progress_bar_type=None)"
   ],
   "metadata": {
    "collapsed": false,
    "pycharm": {
     "name": "#%%\n"
    }
   }
  },
  {
   "cell_type": "code",
   "execution_count": 1204,
   "outputs": [],
   "source": [
    "reporting_df = reporting_df[\n",
    "    ['transaction_id', 'country_name', 'country_code', 'vendor_sku', 'subscription_status', 'type_of_transaction',\n",
    "     'sales_price',\n",
    "     'earnings', 'units',\n",
    "     'transaction_date',\n",
    "     'reporting_month',\n",
    "     'payment_method', 'currency']].merge(df_skus[['termsku', 'productid', 'term']], how='left',\n",
    "                                          left_on='vendor_sku', right_on='termsku')\n",
    "\n",
    "reporting_df.rename({'productid': 'sku'}, axis=1, inplace=True)\n",
    "\n",
    "reporting_df['sku'][reporting_df['sku'].isnull()] = reporting_df['vendor_sku'][reporting_df['sku'].isnull()]\n",
    "\n",
    "# reporting_df.drop(['vendor_sku', 'termsku'], axis=1, inplace=True)\n",
    "reporting_df.drop(['termsku'], axis=1, inplace=True)"
   ],
   "metadata": {
    "collapsed": false,
    "pycharm": {
     "name": "#%%\n"
    }
   }
  },
  {
   "cell_type": "code",
   "execution_count": 1205,
   "outputs": [],
   "source": [
    "## some SKUs like do not have 'term' data, therefore it needs to be manually written\n",
    "reporting_df.term.fillna('1 Month', inplace=True)"
   ],
   "metadata": {
    "collapsed": false,
    "pycharm": {
     "name": "#%%\n"
    }
   }
  },
  {
   "cell_type": "code",
   "execution_count": 1206,
   "outputs": [],
   "source": [
    "skus_list = str(set(reporting_df['sku'].to_list()))\n",
    "\n",
    "skus_expand = f\"\"\"select distinct rlv.SKU as sku,\n",
    "                rlv.product_class,\n",
    "                rlv.detailed_product_class,\n",
    "                rlv.product_length\n",
    "from b2c_middleware.reporting_layer_view rlv\n",
    "where true\n",
    "  and rlv.SKU in ({skus_list[1:-1]})\n",
    "  and rlv.product_class is not null\n",
    "  and rlv.detailed_product_class is not null\n",
    "  ;\"\"\"\n",
    "\n",
    "df_skus_expand = pandas_gbq.read_gbq(skus_expand, project_id=project_id, progress_bar_type=None)\n",
    "\n",
    "reporting_df = reporting_df.merge(df_skus_expand, how='left',\n",
    "                                  left_on='sku', right_on='sku')"
   ],
   "metadata": {
    "collapsed": false,
    "pycharm": {
     "name": "#%%\n"
    }
   }
  },
  {
   "cell_type": "code",
   "execution_count": 1207,
   "outputs": [],
   "source": [
    "reporting_df['avg_price_sales_per_sub'] = reporting_df['sales_price'] / reporting_df['units']"
   ],
   "metadata": {
    "collapsed": false,
    "pycharm": {
     "name": "#%%\n"
    }
   }
  },
  {
   "cell_type": "code",
   "execution_count": 1208,
   "outputs": [],
   "source": [
    "reporting_df['product_length_months'] = reporting_df['term'].replace(\n",
    "    {'1 Month': 1, '2 Months': 2, '3 Months': 3, '6 Months': 6, '12 Months': 12, '1 Year': 12})"
   ],
   "metadata": {
    "collapsed": false,
    "pycharm": {
     "name": "#%%\n"
    }
   }
  },
  {
   "cell_type": "code",
   "execution_count": 1209,
   "outputs": [],
   "source": [
    "temp_vat_df = reporting_df[['transaction_id', 'country_code', 'sales_price', 'transaction_date', 'currency']]\n",
    "temp_vat_df['sales_price_cents'] = temp_vat_df['sales_price'] * 100\n",
    "\n",
    "## define BQ table schema\n",
    "bq_schema_vat = [\n",
    "    {\"name\": \"transaction_id\", \"type\": \"INTEGER\"},\n",
    "    {\"name\": \"country_code\", \"type\": \"STRING\"},\n",
    "    {\"name\": \"sales_price_cents\", \"type\": \"INTEGER\"},\n",
    "    {\"name\": \"transaction_date\", \"type\": \"TIMESTAMP\"},\n",
    "    {\"name\": \"currency\", \"type\": \"STRING\"},\n",
    "]\n",
    "\n",
    "## export to BQ table\n",
    "pandas_gbq.to_gbq(\n",
    "    dataframe=temp_vat_df,\n",
    "    destination_table=\"temp.vat_amazon_pypayment_v2\",\n",
    "    project_id=\"zattoo-dataeng\",\n",
    "    if_exists=\"replace\",\n",
    "    progress_bar=None,\n",
    "    table_schema=bq_schema_vat,\n",
    ")"
   ],
   "metadata": {
    "collapsed": false,
    "pycharm": {
     "name": "#%%\n"
    }
   }
  },
  {
   "cell_type": "code",
   "execution_count": 1210,
   "outputs": [],
   "source": [
    "vat_expand = \"\"\"\n",
    "select transaction_id,\n",
    "       transaction_date,\n",
    "--        udf.vat_chf(pe.from_currency,\n",
    "--                    vat.rate,\n",
    "--                    pe.exchange_rate,\n",
    "--                    pe.from_currency_quantity,\n",
    "--                    py2.sales_price_cents\n",
    "--            )\n",
    "--                             AS vat_CHF,\n",
    "--        udf.vat_eur(pe.from_currency,\n",
    "--                    vat.rate,\n",
    "--                    pe.exchange_rate,\n",
    "--                    pe_eur.from_currency_quantity,\n",
    "--                    pe_eur.exchange_rate,\n",
    "--                    py2.sales_price_cents\n",
    "--            )\n",
    "--                             AS vat_EUR,\n",
    "       vat.rate / 100       AS vat_percentage,\n",
    "       pe_eur.exchange_rate AS exchange_rate_eur_to_chf\n",
    "FROM temp.vat_amazon_pypayment_v2 py2\n",
    "         LEFT JOIN b2c_middleware_import.payment_exchangerate pe\n",
    "                   ON pe.from_currency = py2.currency\n",
    "                       AND DATE_TRUNC(pe.day, MONTH) =\n",
    "                           DATE_TRUNC(DATE(py2.transaction_date), MONTH)\n",
    "         LEFT JOIN b2c_middleware_import.payment_exchangerate pe_eur\n",
    "                   ON pe_eur.from_currency = 'EUR'\n",
    "                       AND DATE_TRUNC(pe_eur.day, MONTH) =\n",
    "                           DATE_TRUNC(DATE(py2.transaction_date), MONTH)\n",
    "         LEFT JOIN b2c_middleware_import.payment_vat_view vat\n",
    "                   ON vat.country = py2.country_code\n",
    "                       AND vat.created_at_date = DATE(py2.transaction_date)\n",
    "where true\n",
    "  AND pe.day >= DATE('2008-08-01')\n",
    "  AND pe_eur.day >= DATE('2008-08-01')\n",
    "  AND vat.created_at_date >= DATE('2008-08-01')\n",
    ";\n",
    "\"\"\"\n",
    "\n",
    "df_vat_expand = pandas_gbq.read_gbq(vat_expand, project_id=project_id, progress_bar_type=None)"
   ],
   "metadata": {
    "collapsed": false,
    "pycharm": {
     "name": "#%%\n"
    }
   }
  },
  {
   "cell_type": "code",
   "execution_count": 1211,
   "outputs": [],
   "source": [
    "reporting_df = reporting_df.merge(\n",
    "    df_vat_expand[['transaction_date', 'transaction_id', 'vat_percentage', 'exchange_rate_eur_to_chf']], how='left',\n",
    "    left_on=['transaction_id', pd.to_datetime(reporting_df['transaction_date'], utc=True)],\n",
    "    right_on=['transaction_id',\n",
    "              pd.to_datetime(df_vat_expand['transaction_date'], utc=True)]).drop(\n",
    "    ['transaction_date_y', 'key_1'], axis=1)"
   ],
   "metadata": {
    "collapsed": false,
    "pycharm": {
     "name": "#%%\n"
    }
   }
  },
  {
   "cell_type": "code",
   "execution_count": 1212,
   "outputs": [],
   "source": [
    "reporting_df.rename({'transaction_date_x': 'transaction_date',\n",
    "                     },\n",
    "                    axis=1, inplace=True)"
   ],
   "metadata": {
    "collapsed": false,
    "pycharm": {
     "name": "#%%\n"
    }
   }
  },
  {
   "cell_type": "code",
   "execution_count": 1213,
   "outputs": [],
   "source": [
    "## We don't book VAT for Amazon, bc they do it. If we do include VAT though, that could lead to issues. Keep the columns, but set all VAT values to zero (vat_percent, vat_eur, vat_chf)\n",
    "reporting_df[['vat_percentage', 'vat_eur', 'vat_chf']] = 0"
   ],
   "metadata": {
    "collapsed": false,
    "pycharm": {
     "name": "#%%\n"
    }
   }
  },
  {
   "cell_type": "code",
   "execution_count": 1214,
   "outputs": [],
   "source": [
    "## Amazon's \"Sales price\" is OUR \"Charge\"\n",
    "reporting_df['charge_eur'] = reporting_df['sales_price']\n",
    "\n",
    "reporting_df['store_fees_percentage'] = 15\n",
    "reporting_df['domestic_abroad'] = 'domestic'\n",
    "\n",
    "reporting_df['sales_price_eur'] = round(reporting_df['charge_eur'] + (\n",
    "        reporting_df['charge_eur'] * (reporting_df['vat_percentage'] / 100)), 2)\n",
    "reporting_df['fee_eur'] = reporting_df['sales_price'] - abs(reporting_df['earnings'])\n",
    "\n",
    "# reporting_df['vat_eur'] = reporting_df['charge_eur'] * (reporting_df['vat_percentage'] / 100)\n",
    "\n",
    "reporting_df['new_booking_net_eur'] = reporting_df['earnings']\n",
    "\n",
    "reporting_df['payout_eur'] = reporting_df['sales_price_eur'] - reporting_df['fee_eur']\n",
    "# reporting_df['payout_eur'] = reporting_df['new_booking_net_eur']"
   ],
   "metadata": {
    "collapsed": false,
    "pycharm": {
     "name": "#%%\n"
    }
   }
  },
  {
   "cell_type": "code",
   "execution_count": 1215,
   "outputs": [],
   "source": [
    "reporting_df['detailed_product_class'] = reporting_df[\"detailed_product_class\"].fillna(reporting_df[\"product_class\"])\n",
    "reporting_df['detailed_product_class'].replace({'base_hiq': 'premium',\n",
    "                                                'base_ultimate': 'ultimate'}, inplace=True)\n",
    "\n",
    "reporting_df.drop('product_class', inplace=True, axis=1)\n",
    "reporting_df.rename({'detailed_product_class': 'product_class'\n",
    "                     },\n",
    "                    axis=1, inplace=True)"
   ],
   "metadata": {
    "collapsed": false,
    "pycharm": {
     "name": "#%%\n"
    }
   }
  },
  {
   "cell_type": "code",
   "execution_count": 1216,
   "outputs": [],
   "source": [
    "reporting_df.replace(np.inf, 0, inplace=True)\n",
    "reporting_df.replace(-np.inf, 0, inplace=True)"
   ],
   "metadata": {
    "collapsed": false,
    "pycharm": {
     "name": "#%%\n"
    }
   }
  },
  {
   "cell_type": "code",
   "execution_count": 1217,
   "outputs": [],
   "source": [
    "reporting_df_negs = reporting_df[reporting_df['type_of_transaction'] != 'charge']\n",
    "\n",
    "reporting_df.drop(reporting_df[reporting_df['type_of_transaction'] != 'charge'].index, inplace=True)"
   ],
   "metadata": {
    "collapsed": false,
    "pycharm": {
     "name": "#%%\n"
    }
   }
  },
  {
   "cell_type": "code",
   "execution_count": 1218,
   "outputs": [],
   "source": [
    "cols = ['sales_price_eur', 'sales_price', 'units', 'avg_price_sales_per_sub', 'charge_eur', 'fee_eur', 'vat_eur',\n",
    "        'payout_eur']\n",
    "reporting_df_negs[cols] = - reporting_df_negs[cols]"
   ],
   "metadata": {
    "collapsed": false,
    "pycharm": {
     "name": "#%%\n"
    }
   }
  },
  {
   "cell_type": "code",
   "execution_count": 1219,
   "outputs": [],
   "source": [
    "reporting_df = pd.concat([reporting_df, reporting_df_negs])"
   ],
   "metadata": {
    "collapsed": false,
    "pycharm": {
     "name": "#%%\n"
    }
   }
  },
  {
   "cell_type": "code",
   "execution_count": 1220,
   "outputs": [],
   "source": [
    "reporting_df['product_length'] = pd.np.where(\n",
    "    reporting_df['vendor_sku'].str.contains(\"1mo\"), 31, pd.np.where(reporting_df[\n",
    "                                                                        'vendor_sku'] == \"zattoo_amazon_firetv_hiq_german_freetrial_2mo\",\n",
    "                                                                    31,\n",
    "                                                                    pd.np.where(\n",
    "                                                                        reporting_df['vendor_sku'].str.contains(\"_2mo\"),\n",
    "                                                                        62,\n",
    "                                                                        pd.np.where(\n",
    "                                                                            reporting_df['vendor_sku'].str.contains(\n",
    "                                                                                \"3mo\"),\n",
    "                                                                            90, pd.np.where(\n",
    "                                                                                reporting_df['vendor_sku'].str.contains(\n",
    "                                                                                    \"12mo\"), 365,\n",
    "                                                                                pd.np.where(reporting_df[\n",
    "                                                                                                'vendor_sku'] == \"zattoo_amazon_firetv_hiq_german_90days_freetrial\",\n",
    "                                                                                            31,\n",
    "                                                                                            reporting_df[\n",
    "                                                                                                'product_length']))))))"
   ],
   "metadata": {
    "collapsed": false,
    "pycharm": {
     "name": "#%%\n"
    }
   }
  },
  {
   "cell_type": "code",
   "execution_count": 1221,
   "outputs": [],
   "source": [
    "## adding artificially created term_end_date based on initial transaction_date\n",
    "reporting_df['term_end'] = reporting_df['transaction_date'] + reporting_df['product_length'].astype('timedelta64[D]')"
   ],
   "metadata": {
    "collapsed": false,
    "pycharm": {
     "name": "#%%\n"
    }
   }
  },
  {
   "cell_type": "code",
   "execution_count": 1222,
   "outputs": [],
   "source": [
    "## calculate product_term_length_months\n",
    "reporting_df[\"product_term_length_months\"] = (\n",
    "        (reporting_df[\"term_end\"].dt.year - reporting_df[\"transaction_date\"].dt.year) * 12\n",
    "        + (reporting_df[\"term_end\"].dt.month - reporting_df[\"transaction_date\"].dt.month)\n",
    "        + 1\n",
    ")"
   ],
   "metadata": {
    "collapsed": false,
    "pycharm": {
     "name": "#%%\n"
    }
   }
  },
  {
   "cell_type": "code",
   "execution_count": 1223,
   "outputs": [],
   "source": [
    "reporting_df[\"product_term_length_months\"][reporting_df[\"product_term_length_months\"] < 0] = 0"
   ],
   "metadata": {
    "collapsed": false,
    "pycharm": {
     "name": "#%%\n"
    }
   }
  },
  {
   "cell_type": "code",
   "execution_count": 1224,
   "outputs": [],
   "source": [
    "## replacing product_term_length_months for exceptions where value is 2 instead of 1\n",
    "shorter_subs = (reporting_df['term_end'] - reporting_df['transaction_date']).dt.days <= 30\n",
    "shorter_subs_replacer = reporting_df[shorter_subs][\n",
    "    (reporting_df[\"product_term_length_months\"] == 2) & ((reporting_df['term_end']).dt.day == 1)].index.to_list()\n",
    "reporting_df[\"product_term_length_months\"].loc[shorter_subs_replacer] = 1"
   ],
   "metadata": {
    "collapsed": false,
    "pycharm": {
     "name": "#%%\n"
    }
   }
  },
  {
   "cell_type": "code",
   "execution_count": 1225,
   "outputs": [],
   "source": [
    "reporting_df = reporting_df.loc[reporting_df.index.repeat(reporting_df['product_term_length_months'])].reset_index(\n",
    "    drop=True)\n",
    "reporting_df['revenue_month_number'] = 1\n",
    "reporting_df['revenue_month_number'] = reporting_df.groupby([\"transaction_id\", 'type_of_transaction'])[\n",
    "    'revenue_month_number'].cumsum()"
   ],
   "metadata": {
    "collapsed": false,
    "pycharm": {
     "name": "#%%\n"
    }
   }
  },
  {
   "cell_type": "code",
   "execution_count": 1226,
   "outputs": [],
   "source": [
    "## adding max_month_date to tackle the specifications of active_sub_month_end\n",
    "reporting_df['max_month_date'] = reporting_df.groupby([reporting_df['term_end'].dt.to_period('M'), 'type_of_transaction'])[\n",
    "    'term_end'].transform('max')\n",
    "reporting_df['max_month_date'] = reporting_df['max_month_date'].dt.normalize() + pd.Timedelta('23:59:59')"
   ],
   "metadata": {
    "collapsed": false,
    "pycharm": {
     "name": "#%%\n"
    }
   }
  },
  {
   "cell_type": "code",
   "execution_count": 1227,
   "outputs": [],
   "source": [
    "## get last indices of each transaction_id group\n",
    "last_idxs_charges = (\n",
    "        len(reporting_df[reporting_df['type_of_transaction'] == 'charge'])\n",
    "        - np.unique(\n",
    "    reporting_df['transaction_id'][reporting_df['type_of_transaction'] == 'charge'].values[::-1],\n",
    "    return_index=1,\n",
    ")[1]\n",
    "        - 1\n",
    ")\n",
    "\n",
    "## add revenue_month_date\n",
    "reporting_df[\"revenue_month_date\"] = reporting_df[\"transaction_date\"].to_numpy().astype(\"datetime64[M]\")\n",
    "reporting_df[\"revenue_month_date\"][reporting_df[\"type_of_transaction\"] == \"refund\"] = (\n",
    "    reporting_df[\"transaction_date\"].to_numpy().astype(\"datetime64[M]\")\n",
    ")\n",
    "\n",
    "reporting_df[\"revenue_month_date\"] = reporting_df.apply(\n",
    "    lambda x: x[\"revenue_month_date\"]\n",
    "              + pd.offsets.MonthEnd(x[\"revenue_month_number\"])\n",
    "              + pd.offsets.MonthBegin(-1),\n",
    "    axis=1,\n",
    ")\n",
    "\n",
    "reporting_df[\"product_term_length\"] = reporting_df[\"revenue_month_date\"].apply(\n",
    "    lambda t: pd.Period(t, freq=\"S\").days_in_month\n",
    ")\n",
    "\n",
    "reporting_df[\"product_term_length\"][reporting_df[\"transaction_date\"] > reporting_df[\"revenue_month_date\"]] = (\n",
    "                                                                                                                     reporting_df[\n",
    "                                                                                                                         \"transaction_date\"].dt.daysinmonth -\n",
    "                                                                                                                     reporting_df[\n",
    "                                                                                                                         \"transaction_date\"].dt.day\n",
    "                                                                                                             ) + 1\n",
    "\n",
    "# ## fix last position of product_term_length per transaction_id for charges\n",
    "reporting_df[\"product_term_length\"].iloc[last_idxs_charges] = (\n",
    "        reporting_df[\"term_end\"].iloc[last_idxs_charges] -\n",
    "        reporting_df[\"revenue_month_date\"].iloc[last_idxs_charges]\n",
    ").dt.days\n",
    "\n",
    "reporting_df = reporting_df[reporting_df['product_term_length'] > 0]\n",
    "\n",
    "last_idxs = (\n",
    "        len(reporting_df)\n",
    "        - np.unique(\n",
    "    reporting_df['transaction_id'].values[::-1],\n",
    "    return_index=1,\n",
    ")[1]\n",
    "        - 1\n",
    ")\n",
    "\n",
    "reporting_df[\"product_term_length\"].iloc[last_idxs] = (\n",
    "        reporting_df[\"term_end\"].iloc[last_idxs] -\n",
    "        reporting_df[\"revenue_month_date\"].iloc[last_idxs]\n",
    ").dt.days"
   ],
   "metadata": {
    "collapsed": false,
    "pycharm": {
     "name": "#%%\n"
    }
   }
  },
  {
   "cell_type": "code",
   "execution_count": 1228,
   "outputs": [],
   "source": [
    "## set active_sub_month_end = 1 by default\n",
    "reporting_df[\"active_sub_month_end\"] = 1\n",
    "\n",
    "reporting_df[\"active_sub_month_end\"].iloc[last_idxs] = 0\n",
    "\n",
    "reporting_df[\"active_sub_month_end\"][\n",
    "    (reporting_df[\"revenue_month_number\"] == reporting_df['product_term_length_months']) & (\n",
    "            reporting_df[\"term_end\"] < reporting_df['max_month_date'])\n",
    "    ] = 0\n",
    "\n",
    "## mark all one transaction subscriptions as 1\n",
    "reporting_df[\"active_sub_month_end\"][\n",
    "    (reporting_df[\"revenue_month_number\"] <= 1) & (reporting_df[\"product_term_length_months\"] <= 1)\n",
    "    ] = 1\n",
    "\n",
    "## mark all refund transactions as -1\n",
    "reporting_df[\"active_sub_month_end\"][reporting_df[\"type_of_transaction\"] != \"charge\"] = -1"
   ],
   "metadata": {
    "collapsed": false,
    "pycharm": {
     "name": "#%%\n"
    }
   }
  },
  {
   "cell_type": "code",
   "execution_count": 1229,
   "outputs": [],
   "source": [
    "## reseting index\n",
    "reporting_df.reset_index(drop=True, inplace=True)"
   ],
   "metadata": {
    "collapsed": false,
    "pycharm": {
     "name": "#%%\n"
    }
   }
  },
  {
   "cell_type": "code",
   "execution_count": 1230,
   "outputs": [],
   "source": [
    "## active_sub_content follows the same logic as active_sub_month_end except it doesn't count the last month\n",
    "reporting_df[\"active_sub_content\"] = reporting_df.active_sub_month_end\n",
    "\n",
    "reporting_df.loc[reporting_df.groupby([\"transaction_id\", 'type_of_transaction'])['active_sub_content'].tail(\n",
    "    1).index, 'active_sub_content'] = 0\n",
    "\n",
    "reporting_df[\"active_sub_content\"][(reporting_df['type_of_transaction'] == 'charge') &\n",
    "                                   (reporting_df[\"revenue_month_number\"] > reporting_df['product_length_months'])] = 0\n",
    "\n",
    "## total_days of product_term_length per transaction_id\n",
    "reporting_df[\"total_days\"] = reporting_df.groupby([\"transaction_id\", 'type_of_transaction'])[\n",
    "    \"product_term_length\"].transform(\"sum\")"
   ],
   "metadata": {
    "collapsed": false,
    "pycharm": {
     "name": "#%%\n"
    }
   }
  },
  {
   "cell_type": "code",
   "execution_count": 1231,
   "outputs": [],
   "source": [
    "reporting_df['product_term_length_months'] = reporting_df.groupby([\"transaction_id\", 'type_of_transaction'])[\n",
    "    'revenue_month_number'].transform('max')"
   ],
   "metadata": {
    "collapsed": false,
    "pycharm": {
     "name": "#%%\n"
    }
   }
  },
  {
   "cell_type": "code",
   "execution_count": 1232,
   "outputs": [],
   "source": [
    "## calculate total_revenue_net fields\n",
    "reporting_df[\"total_revenue_net_eur\"] = (\n",
    "        reporting_df[\"new_booking_net_eur\"] / reporting_df[\"total_days\"] * reporting_df[\"product_term_length\"]\n",
    ")"
   ],
   "metadata": {
    "collapsed": false,
    "pycharm": {
     "name": "#%%\n"
    }
   }
  },
  {
   "cell_type": "code",
   "execution_count": 1233,
   "outputs": [],
   "source": [
    "## remove VAT values from all lines of group except first\n",
    "one_line_cols = [\"vat_eur\", 'payout_eur', 'sales_price_eur', 'fee_eur', 'fee_chf', 'new_booking_net_eur', 'store_fees',\n",
    "                 'charge_eur', 'vat_percentage',\n",
    "                 'avg_price_sales_per_sub', 'sales_price', 'units']\n",
    "\n",
    "for col in one_line_cols:\n",
    "    reporting_df.loc[\n",
    "        reporting_df[\"revenue_month_number\"] > 1,\n",
    "        [col],\n",
    "    ] = 0.0"
   ],
   "metadata": {
    "collapsed": false,
    "pycharm": {
     "name": "#%%\n"
    }
   }
  },
  {
   "cell_type": "code",
   "execution_count": 1234,
   "outputs": [],
   "source": [
    "## calculating CHF columns\n",
    "reporting_df['charge_chf'] = reporting_df['charge_eur'] * reporting_df['exchange_rate_eur_to_chf']\n",
    "reporting_df['sales_price_chf'] = reporting_df['sales_price_eur'] * reporting_df['exchange_rate_eur_to_chf']\n",
    "reporting_df['fee_chf'] = reporting_df['fee_eur'] * reporting_df['exchange_rate_eur_to_chf']\n",
    "# reporting_df['vat_chf'] = reporting_df['vat_eur'] * reporting_df['exchange_rate_eur_to_chf']\n",
    "reporting_df['new_booking_net_chf'] = reporting_df['new_booking_net_eur'] * reporting_df['exchange_rate_eur_to_chf']\n",
    "reporting_df['payout_chf'] = reporting_df['payout_eur'] * reporting_df['exchange_rate_eur_to_chf']\n",
    "reporting_df['payout_chf'] = reporting_df['payout_eur'] * reporting_df['exchange_rate_eur_to_chf']\n",
    "reporting_df[\"total_revenue_net_chf\"] = (\n",
    "        reporting_df[\"new_booking_net_chf\"] / reporting_df[\"total_days\"] * reporting_df[\"product_term_length\"]\n",
    ")"
   ],
   "metadata": {
    "collapsed": false,
    "pycharm": {
     "name": "#%%\n"
    }
   }
  },
  {
   "cell_type": "code",
   "execution_count": 1235,
   "outputs": [],
   "source": [
    "# ## standardizing the report\n",
    "reporting_df[['product_group_finance']] = ''\n",
    "\n",
    "reporting_df[['store_fees_eur', 'store_fees_percentage', 'units', 'store_fees_percentage', 'store_fees_chf', 'renewal_booking_net_eur', 'renewal_booking_net_chf']] = 0"
   ],
   "metadata": {
    "collapsed": false,
    "pycharm": {
     "name": "#%%\n"
    }
   }
  },
  {
   "cell_type": "code",
   "execution_count": 1236,
   "outputs": [],
   "source": [
    "## reorder dataframe\n",
    "reporting_df = reporting_df[\n",
    "    [\n",
    "        'transaction_id',\n",
    "        'transaction_date',\n",
    "        'term_end',\n",
    "        'reporting_month',\n",
    "        'country_name',\n",
    "        'currency',\n",
    "        'sku',\n",
    "        'subscription_status',\n",
    "        'type_of_transaction',\n",
    "        'payment_method',\n",
    "        'product_class',\n",
    "        'product_group_finance',\n",
    "        'product_length',\n",
    "        'product_length_months',\n",
    "        'product_term_length',\n",
    "        'domestic_abroad',\n",
    "        'vat_percentage',\n",
    "        'exchange_rate_eur_to_chf',\n",
    "        'store_fees_eur',\n",
    "        'store_fees_chf',\n",
    "        'store_fees_percentage',\n",
    "        'units',\n",
    "        'charge_eur',\n",
    "        'sales_price_eur',\n",
    "        'fee_eur',\n",
    "        'vat_eur',\n",
    "        'new_booking_net_eur',\n",
    "        'renewal_booking_net_eur',\n",
    "        'payout_eur',\n",
    "        'total_revenue_net_eur',\n",
    "        'charge_chf',\n",
    "        'sales_price_chf',\n",
    "        'fee_chf',\n",
    "        'vat_chf',\n",
    "        'new_booking_net_chf',\n",
    "        'renewal_booking_net_chf',\n",
    "        'payout_chf',\n",
    "        'total_revenue_net_chf',\n",
    "        'revenue_month_number',\n",
    "        'revenue_month_date',\n",
    "        'active_sub_month_end',\n",
    "        'active_sub_content'\n",
    "    ]\n",
    "]\n",
    "\n",
    "## define BQ table schema\n",
    "bq_schema = [\n",
    "    {\"name\": \"transaction_id\", \"type\": \"STRING\"},\n",
    "    {\"name\": \"transaction_date\", \"type\": \"TIMESTAMP\"},\n",
    "    {\"name\": \"term_end\", \"type\": \"TIMESTAMP\"},\n",
    "    {\"name\": \"reporting_month\", \"type\": \"STRING\"},\n",
    "    {\"name\": \"country_name\", \"type\": \"STRING\"},\n",
    "    {\"name\": \"currency\", \"type\": \"STRING\"},\n",
    "    {\"name\": \"sku\", \"type\": \"STRING\"},\n",
    "    {\"name\": \"subscription_status\", \"type\": \"STRING\"},\n",
    "    {\"name\": \"type_of_transaction\", \"type\": \"STRING\"},\n",
    "    {\"name\": \"payment_method\", \"type\": \"STRING\"},\n",
    "    {\"name\": \"product_class\", \"type\": \"STRING\"},\n",
    "    {\"name\": \"product_group_finance\", \"type\": \"STRING\"},\n",
    "    {\"name\": \"product_length\", \"type\": \"INTEGER\"},\n",
    "    {\"name\": \"product_length_months\", \"type\": \"INTEGER\"},\n",
    "    {\"name\": \"product_term_length\", \"type\": \"INTEGER\"},\n",
    "    {\"name\": \"domestic_abroad\", \"type\": \"STRING\"},\n",
    "    {\"name\": \"vat_percentage\", \"type\": \"FLOAT\"},\n",
    "    {\"name\": \"exchange_rate_eur_to_chf\", \"type\": \"FLOAT\"},\n",
    "    {\"name\": \"store_fees_eur\", \"type\": \"INTEGER\"},\n",
    "    {\"name\": \"store_fees_chf\", \"type\": \"INTEGER\"},\n",
    "    {\"name\": \"store_fees_percentage\", \"type\": \"INTEGER\"},\n",
    "    {\"name\": \"units\", \"type\": \"INTEGER\"},\n",
    "    {\"name\": \"charge_eur\", \"type\": \"FLOAT\"},\n",
    "    {\"name\": \"sales_price_eur\", \"type\": \"FLOAT\"},\n",
    "    {\"name\": \"fee_eur\", \"type\": \"FLOAT\"},\n",
    "    {\"name\": \"vat_eur\", \"type\": \"FLOAT\"},\n",
    "    {\"name\": \"new_booking_net_eur\", \"type\": \"FLOAT\"},\n",
    "    {\"name\": \"renewal_booking_net_eur\", \"type\": \"FLOAT\"},\n",
    "    {\"name\": \"payout_eur\", \"type\": \"FLOAT\"},\n",
    "    {\"name\": \"total_revenue_net_eur\", \"type\": \"FLOAT\"},\n",
    "    {\"name\": \"charge_chf\", \"type\": \"FLOAT\"},\n",
    "    {\"name\": \"sales_price_chf\", \"type\": \"FLOAT\"},\n",
    "    {\"name\": \"fee_chf\", \"type\": \"FLOAT\"},\n",
    "    {\"name\": \"vat_chf\", \"type\": \"FLOAT\"},\n",
    "    {\"name\": \"new_booking_net_chf\", \"type\": \"FLOAT\"},\n",
    "    {\"name\": \"renewal_booking_net_chf\", \"type\": \"FLOAT\"},\n",
    "    {\"name\": \"payout_chf\", \"type\": \"FLOAT\"},\n",
    "    {\"name\": \"total_revenue_net_chf\", \"type\": \"FLOAT\"},\n",
    "    {\"name\": \"revenue_month_number\", \"type\": \"INTEGER\"},\n",
    "    {\"name\": \"revenue_month_date\", \"type\": \"STRING\"},\n",
    "    {\"name\": \"active_sub_month_end\", \"type\": \"INTEGER\"},\n",
    "    {\"name\": \"active_sub_content\", \"type\": \"INTEGER\"}\n",
    "]"
   ],
   "metadata": {
    "collapsed": false,
    "pycharm": {
     "name": "#%%\n"
    }
   }
  },
  {
   "cell_type": "code",
   "execution_count": 1237,
   "outputs": [],
   "source": [
    "## export to csv\n",
    "path = r\"/Users/miguelcouto/Desktop/\"\n",
    "\n",
    "reporting_df.to_csv(os.path.join(path, fr'subs_reporting_amazon{reporting_month.replace(\"-\", \"_\")}.csv'))"
   ],
   "metadata": {
    "collapsed": false,
    "pycharm": {
     "name": "#%%\n"
    }
   }
  },
  {
   "cell_type": "code",
   "execution_count": 1238,
   "outputs": [],
   "source": [
    "## export to BQ table\n",
    "pandas_gbq.to_gbq(\n",
    "    dataframe=reporting_df,\n",
    "    destination_table=f\"finance.subs_reporting_google{reporting_month.replace('-', '')}\",\n",
    "    project_id=\"zattoo-dataeng\",\n",
    "    if_exists=\"replace\",\n",
    "    progress_bar=None,\n",
    "    table_schema=bq_schema,\n",
    ")"
   ],
   "metadata": {
    "collapsed": false,
    "pycharm": {
     "name": "#%%\n"
    }
   }
  }
 ],
 "metadata": {
  "kernelspec": {
   "display_name": "Python 3",
   "language": "python",
   "name": "python3"
  },
  "language_info": {
   "codemirror_mode": {
    "name": "ipython",
    "version": 3
   },
   "file_extension": ".py",
   "mimetype": "text/x-python",
   "name": "python",
   "nbconvert_exporter": "python",
   "pygments_lexer": "ipython3",
   "version": "3.9.4"
  }
 },
 "nbformat": 4,
 "nbformat_minor": 4
}
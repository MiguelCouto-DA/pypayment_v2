{
 "cells": [
  {
   "cell_type": "code",
   "execution_count": 203,
   "outputs": [],
   "source": [
    "#%load_ext lab_black"
   ],
   "metadata": {
    "collapsed": false,
    "pycharm": {
     "name": "#%%\n"
    }
   }
  },
  {
   "cell_type": "code",
   "execution_count": 204,
   "metadata": {
    "pycharm": {
     "name": "#%%\n"
    }
   },
   "outputs": [],
   "source": [
    "from google.cloud import bigquery\n",
    "from google.oauth2 import service_account\n",
    "import pandas_gbq\n",
    "import pandas as pd\n",
    "import numpy as np\n",
    "import os\n",
    "import warnings\n",
    "\n",
    "warnings.filterwarnings('ignore')\n",
    "\n",
    "credentials = service_account.Credentials.from_service_account_file(\n",
    "    \"/Users/miguelcouto/Downloads/zattoo-dataeng-e5f45785174f.json\"\n",
    ")\n",
    "\n",
    "project_id = \"zattoo-dataeng\"\n",
    "client = bigquery.Client(credentials=credentials, project=project_id)"
   ]
  },
  {
   "cell_type": "code",
   "execution_count": 205,
   "metadata": {
    "pycharm": {
     "name": "#%%\n"
    }
   },
   "outputs": [],
   "source": [
    "sql_calcs = \"\"\"\n",
    "   select mt.transaction_id,\n",
    "       mt.zuid,\n",
    "       mt.payment_method,\n",
    "       mt.sku,\n",
    "       mt.type_of_transaction,\n",
    "       case\n",
    "           when mt.country_name = 'Germany' then 'Germany'\n",
    "           when mt.country_name = 'Austria' then 'Austria'\n",
    "           else 'Switzerland' end as country_name,\n",
    "       mt.new_booking_net_CHF,\n",
    "       mt.renewal_booking_net_CHF,\n",
    "       mt.new_booking_net_EUR,\n",
    "       mt.renewal_booking_net_EUR,\n",
    "       mt.transaction_date,\n",
    "       mt.term_start,\n",
    "       mt.term_end,\n",
    "       product_service_view.zuya_account_permission as product_group_finance\n",
    "from b2c_middleware.middlelayer_transactions mt\n",
    "         LEFT JOIN b2c_middleware_import.product_product_view AS product_product_view\n",
    "                   ON mt.sku = product_product_view.sku\n",
    "                       AND DATE(mt.transaction_date) = product_product_view.inserted_at_date\n",
    "         LEFT JOIN b2c_middleware_import.product_subscriptionproduct_view AS product_subscriptionproduct_view\n",
    "                   ON product_product_view.id = product_subscriptionproduct_view.id\n",
    "                       AND\n",
    "                      product_product_view.inserted_at_date = product_subscriptionproduct_view.inserted_at_date\n",
    "         LEFT JOIN b2c_middleware_import.product_offer_view AS product_offer_view\n",
    "                   ON product_subscriptionproduct_view.offer_id = product_offer_view.id\n",
    "                       AND product_subscriptionproduct_view.inserted_at_date = product_offer_view.inserted_at_date\n",
    "         LEFT JOIN b2c_middleware_import.product_service_view AS product_service_view\n",
    "                   ON product_offer_view.service_id = product_service_view.id\n",
    "                       AND product_offer_view.inserted_at_date = product_service_view.inserted_at_date\n",
    "where true\n",
    "  and mt.app_shop_id = 'datatrans'\n",
    "  and mt.transaction_date >= '2022-02-01 00:00:00'\n",
    "  and mt.transaction_date <= '2022-02-28 23:59:59'\n",
    "-- NEW LINE! added on 2022-04-27\n",
    "  and mt.type_of_transaction != 'refund'\n",
    "           \"\"\""
   ]
  },
  {
   "cell_type": "code",
   "execution_count": 206,
   "metadata": {
    "pycharm": {
     "name": "#%%\n"
    }
   },
   "outputs": [],
   "source": [
    "## prepare dataframe\n",
    "df = pandas_gbq.read_gbq(sql_calcs, project_id=project_id, progress_bar_type=None)\n",
    "type_trans_lst = [\"new_sale\", \"renewal\", \"refund\"]\n",
    "\n",
    "parse_dates = [\"term_start\", \"term_end\"]\n",
    "mt_df = df[df[\"type_of_transaction\"].isin(type_trans_lst)].copy()\n",
    "\n",
    "for date in parse_dates:\n",
    "    mt_df[date] = pd.to_datetime(mt_df[date]).dt.tz_convert(None)"
   ]
  },
  {
   "cell_type": "code",
   "execution_count": 207,
   "metadata": {
    "pycharm": {
     "name": "#%%\n"
    }
   },
   "outputs": [],
   "source": [
    "## calculate total_booking_net columns\n",
    "mt_df[\"total_booking_net_CHF\"] = (\n",
    "        mt_df[\"new_booking_net_CHF\"] + mt_df[\"renewal_booking_net_CHF\"]\n",
    ")\n",
    "mt_df[\"total_booking_net_EUR\"] = (\n",
    "        mt_df[\"new_booking_net_EUR\"] + mt_df[\"renewal_booking_net_EUR\"]\n",
    ")"
   ]
  },
  {
   "cell_type": "code",
   "execution_count": 208,
   "metadata": {
    "pycharm": {
     "name": "#%%\n"
    }
   },
   "outputs": [],
   "source": [
    "## drop unnecessary columns\n",
    "mt_df.drop(\n",
    "    [\n",
    "        \"new_booking_net_EUR\",\n",
    "        \"new_booking_net_CHF\",\n",
    "        \"renewal_booking_net_CHF\",\n",
    "        \"renewal_booking_net_EUR\",\n",
    "    ],\n",
    "    axis=1,\n",
    "    inplace=True,\n",
    ")"
   ]
  },
  {
   "cell_type": "code",
   "execution_count": 209,
   "metadata": {
    "pycharm": {
     "name": "#%%\n"
    }
   },
   "outputs": [],
   "source": [
    "## calculate product_term_length_months\n",
    "mt_df[\"product_term_length_months\"] = (\n",
    "        (mt_df[\"term_end\"].dt.year - mt_df[\"term_start\"].dt.year) * 12\n",
    "        + (mt_df[\"term_end\"].dt.month - mt_df[\"term_start\"].dt.month)\n",
    "        + 1\n",
    ")\n",
    "\n",
    "mt_df[\"product_term_length_months\"][mt_df[\"product_term_length_months\"] < 0] = 0"
   ]
  },
  {
   "cell_type": "code",
   "execution_count": 210,
   "metadata": {
    "pycharm": {
     "name": "#%%\n"
    }
   },
   "outputs": [],
   "source": [
    "## reseting index\n",
    "mt_df = mt_df.reindex(mt_df.index.repeat(mt_df[\"product_term_length_months\"]))"
   ]
  },
  {
   "cell_type": "code",
   "execution_count": 211,
   "metadata": {
    "pycharm": {
     "name": "#%%\n"
    }
   },
   "outputs": [],
   "source": [
    "## add revenue_month_number\n",
    "mt_df[\"revenue_month_number\"] = mt_df.groupby([\"transaction_id\"]).cumcount() + 1"
   ]
  },
  {
   "cell_type": "code",
   "execution_count": 215,
   "metadata": {
    "pycharm": {
     "name": "#%%\n"
    }
   },
   "outputs": [],
   "source": [
    "## add revenue_month_date\n",
    "mt_df[\"revenue_month_date\"] = mt_df[\"term_start\"].to_numpy().astype(\"datetime64[M]\")\n",
    "mt_df[\"revenue_month_date\"][mt_df[\"type_of_transaction\"] == \"refund\"] = (\n",
    "    mt_df[\"transaction_date\"].to_numpy().astype(\"datetime64[M]\")\n",
    ")\n",
    "\n",
    "mt_df[\"revenue_month_date\"] = mt_df.apply(\n",
    "    lambda x: x[\"revenue_month_date\"]\n",
    "              + pd.offsets.MonthEnd(x[\"revenue_month_number\"])\n",
    "              + pd.offsets.MonthBegin(-1),\n",
    "    axis=1,\n",
    ")\n",
    "\n",
    "## NEW LINE! commenting out as we now have product_service_view.zuya_account_permission available\n",
    "# mt_df[\"product_group_finance\"] = np.nan\n",
    "\n",
    "mt_df[\"product_term_length\"] = mt_df[\"revenue_month_date\"].apply(\n",
    "    lambda t: pd.Period(t, freq=\"S\").days_in_month\n",
    ")\n",
    "\n",
    "mt_df[\"product_term_length\"][mt_df[\"term_start\"] > mt_df[\"revenue_month_date\"]] = (\n",
    "                                                                                          mt_df[\n",
    "                                                                                              \"term_start\"].dt.daysinmonth -\n",
    "                                                                                          mt_df[\"term_start\"].dt.day\n",
    "                                                                                  ) + 1"
   ]
  },
  {
   "cell_type": "code",
   "execution_count": 217,
   "metadata": {
    "pycharm": {
     "name": "#%%\n"
    }
   },
   "outputs": [],
   "source": [
    "## reseting index\n",
    "mt_df.reset_index(drop=True, inplace=True)"
   ]
  },
  {
   "cell_type": "code",
   "execution_count": 218,
   "metadata": {
    "pycharm": {
     "name": "#%%\n"
    }
   },
   "outputs": [],
   "source": [
    "## set active_sub_month_end = 1 by default\n",
    "mt_df[\"active_sub_month_end\"] = 1\n",
    "\n",
    "## get last indices of each transaction_id group\n",
    "last_idxs = (\n",
    "        len(mt_df)\n",
    "        - np.unique(\n",
    "    mt_df.transaction_id.values[::-1],\n",
    "    return_index=1,\n",
    ")[1]\n",
    "        - 1\n",
    ")\n",
    "\n",
    "mt_df[\"active_sub_month_end\"].iloc[last_idxs] = 0\n",
    "\n",
    "## mark all one transaction subscriptions as 1\n",
    "mt_df[\"active_sub_month_end\"][\n",
    "    (mt_df[\"revenue_month_number\"] <= 1) & (mt_df[\"product_term_length_months\"] <= 1)\n",
    "    ] = 1\n",
    "\n",
    "\n",
    "\n",
    "## mark all refund transactions as -1\n",
    "mt_df[\"active_sub_month_end\"][mt_df[\"type_of_transaction\"] == \"refund\"] = -1\n",
    "\n",
    "## mark all subscriptions with only 1 transaction as i\n",
    "mt_df[\"active_sub_month_end\"][mt_df[\"type_of_transaction\"] == \"refund\"] = -1"
   ]
  },
  {
   "cell_type": "code",
   "execution_count": 223,
   "metadata": {
    "pycharm": {
     "name": "#%%\n"
    }
   },
   "outputs": [],
   "source": [
    "## fix last position of product_term_length per transaction_id\n",
    "mt_df[\"product_term_length\"].iloc[last_idxs] = (\n",
    "                                                       mt_df[\"term_end\"].iloc[last_idxs] -\n",
    "                                                       mt_df[\"revenue_month_date\"].iloc[last_idxs]\n",
    "                                               ).dt.days #+ 1"
   ]
  },
  {
   "cell_type": "code",
   "execution_count": 224,
   "outputs": [
    {
     "data": {
      "text/plain": "       transaction_id     zuid payment_method                        sku  \\\n233612       35777994  6830309         paypal  zattoo_wdp_hiq_german_3mo   \n233613       35777994  6830309         paypal  zattoo_wdp_hiq_german_3mo   \n233614       35777994  6830309         paypal  zattoo_wdp_hiq_german_3mo   \n233615       35777994  6830309         paypal  zattoo_wdp_hiq_german_3mo   \n\n       type_of_transaction country_name    transaction_date  \\\n233612             renewal      Germany 2022-02-02 04:09:35   \n233613             renewal      Germany 2022-02-02 04:09:35   \n233614             renewal      Germany 2022-02-02 04:09:35   \n233615             renewal      Germany 2022-02-02 04:09:35   \n\n                term_start            term_end product_group_finance  \\\n233612 2022-02-03 18:31:53 2022-05-06 18:31:53              base_hiq   \n233613 2022-02-03 18:31:53 2022-05-06 18:31:53              base_hiq   \n233614 2022-02-03 18:31:53 2022-05-06 18:31:53              base_hiq   \n233615 2022-02-03 18:31:53 2022-05-06 18:31:53              base_hiq   \n\n        total_booking_net_CHF  total_booking_net_EUR  \\\n233612              24.566282              23.521008   \n233613              24.566282              23.521008   \n233614              24.566282              23.521008   \n233615              24.566282              23.521008   \n\n        product_term_length_months  revenue_month_number revenue_month_date  \\\n233612                           4                     1         2022-02-01   \n233613                           4                     2         2022-03-01   \n233614                           4                     3         2022-04-01   \n233615                           4                     4         2022-05-01   \n\n        product_term_length  active_sub_month_end  \n233612                   26                     1  \n233613                   31                     1  \n233614                   30                     1  \n233615                    6                     0  ",
      "text/html": "<div>\n<style scoped>\n    .dataframe tbody tr th:only-of-type {\n        vertical-align: middle;\n    }\n\n    .dataframe tbody tr th {\n        vertical-align: top;\n    }\n\n    .dataframe thead th {\n        text-align: right;\n    }\n</style>\n<table border=\"1\" class=\"dataframe\">\n  <thead>\n    <tr style=\"text-align: right;\">\n      <th></th>\n      <th>transaction_id</th>\n      <th>zuid</th>\n      <th>payment_method</th>\n      <th>sku</th>\n      <th>type_of_transaction</th>\n      <th>country_name</th>\n      <th>transaction_date</th>\n      <th>term_start</th>\n      <th>term_end</th>\n      <th>product_group_finance</th>\n      <th>total_booking_net_CHF</th>\n      <th>total_booking_net_EUR</th>\n      <th>product_term_length_months</th>\n      <th>revenue_month_number</th>\n      <th>revenue_month_date</th>\n      <th>product_term_length</th>\n      <th>active_sub_month_end</th>\n    </tr>\n  </thead>\n  <tbody>\n    <tr>\n      <th>233612</th>\n      <td>35777994</td>\n      <td>6830309</td>\n      <td>paypal</td>\n      <td>zattoo_wdp_hiq_german_3mo</td>\n      <td>renewal</td>\n      <td>Germany</td>\n      <td>2022-02-02 04:09:35</td>\n      <td>2022-02-03 18:31:53</td>\n      <td>2022-05-06 18:31:53</td>\n      <td>base_hiq</td>\n      <td>24.566282</td>\n      <td>23.521008</td>\n      <td>4</td>\n      <td>1</td>\n      <td>2022-02-01</td>\n      <td>26</td>\n      <td>1</td>\n    </tr>\n    <tr>\n      <th>233613</th>\n      <td>35777994</td>\n      <td>6830309</td>\n      <td>paypal</td>\n      <td>zattoo_wdp_hiq_german_3mo</td>\n      <td>renewal</td>\n      <td>Germany</td>\n      <td>2022-02-02 04:09:35</td>\n      <td>2022-02-03 18:31:53</td>\n      <td>2022-05-06 18:31:53</td>\n      <td>base_hiq</td>\n      <td>24.566282</td>\n      <td>23.521008</td>\n      <td>4</td>\n      <td>2</td>\n      <td>2022-03-01</td>\n      <td>31</td>\n      <td>1</td>\n    </tr>\n    <tr>\n      <th>233614</th>\n      <td>35777994</td>\n      <td>6830309</td>\n      <td>paypal</td>\n      <td>zattoo_wdp_hiq_german_3mo</td>\n      <td>renewal</td>\n      <td>Germany</td>\n      <td>2022-02-02 04:09:35</td>\n      <td>2022-02-03 18:31:53</td>\n      <td>2022-05-06 18:31:53</td>\n      <td>base_hiq</td>\n      <td>24.566282</td>\n      <td>23.521008</td>\n      <td>4</td>\n      <td>3</td>\n      <td>2022-04-01</td>\n      <td>30</td>\n      <td>1</td>\n    </tr>\n    <tr>\n      <th>233615</th>\n      <td>35777994</td>\n      <td>6830309</td>\n      <td>paypal</td>\n      <td>zattoo_wdp_hiq_german_3mo</td>\n      <td>renewal</td>\n      <td>Germany</td>\n      <td>2022-02-02 04:09:35</td>\n      <td>2022-02-03 18:31:53</td>\n      <td>2022-05-06 18:31:53</td>\n      <td>base_hiq</td>\n      <td>24.566282</td>\n      <td>23.521008</td>\n      <td>4</td>\n      <td>4</td>\n      <td>2022-05-01</td>\n      <td>6</td>\n      <td>0</td>\n    </tr>\n  </tbody>\n</table>\n</div>"
     },
     "execution_count": 224,
     "metadata": {},
     "output_type": "execute_result"
    }
   ],
   "source": [
    "mt_df[mt_df['transaction_id'] == '35777994']"
   ],
   "metadata": {
    "collapsed": false,
    "pycharm": {
     "name": "#%%\n"
    }
   }
  },
  {
   "cell_type": "code",
   "execution_count": 179,
   "metadata": {
    "pycharm": {
     "name": "#%%\n"
    }
   },
   "outputs": [],
   "source": [
    "## TEMP FIX to tackle dynamic term_end for refunds\n",
    "mt_df[\"product_term_length\"][mt_df[\"product_term_length\"] < 0] = 0"
   ]
  },
  {
   "cell_type": "code",
   "execution_count": 180,
   "metadata": {
    "pycharm": {
     "name": "#%%\n"
    }
   },
   "outputs": [],
   "source": [
    "## total_days of product_term_length per transaction_id\n",
    "mt_df[\"total_days\"] = mt_df.groupby(\"transaction_id\")[\"product_term_length\"].transform(\n",
    "    \"sum\"\n",
    ")"
   ]
  },
  {
   "cell_type": "code",
   "execution_count": 183,
   "outputs": [],
   "source": [
    "## NEW LINE! added on 2022-04-27\n",
    "## product_term_length fix for susbscriptions < 31 days (1, 3, 7 days)\n",
    "mt_df['product_term_length'][mt_df.sku.str.contains('day')] = (mt_df.term_end - mt_df.term_start).dt.days"
   ],
   "metadata": {
    "collapsed": false,
    "pycharm": {
     "name": "#%%\n"
    }
   }
  },
  {
   "cell_type": "code",
   "execution_count": 111,
   "metadata": {
    "pycharm": {
     "name": "#%%\n"
    }
   },
   "outputs": [],
   "source": [
    "## calculate total_revenue_net fields\n",
    "mt_df[\"total_revenue_net_EUR\"] = (\n",
    "        mt_df[\"total_booking_net_EUR\"] / mt_df[\"total_days\"] * mt_df[\"product_term_length\"]\n",
    ")\n",
    "\n",
    "mt_df[\"total_revenue_net_CHF\"] = (\n",
    "        mt_df[\"total_booking_net_CHF\"] / mt_df[\"total_days\"] * mt_df[\"product_term_length\"]\n",
    ")\n",
    "\n",
    "## remove total_booking values from all lines of group except first\n",
    "mt_df.loc[\n",
    "    mt_df[\"revenue_month_number\"] > 1,\n",
    "    [\"total_booking_net_CHF\", \"total_booking_net_EUR\"],\n",
    "] = 0.0\n",
    "\n",
    "## remove VAT values from all lines of group except first\n",
    "vat_cols = [\"vat_CHF\", \"vat_EUR\"]\n",
    "\n",
    "for col in vat_cols:\n",
    "    mt_df.loc[\n",
    "        mt_df[\"revenue_month_number\"] > 1,\n",
    "        [col, \"total_booking_net_EUR\"],\n",
    "    ] = 0.0"
   ]
  },
  {
   "cell_type": "code",
   "execution_count": 112,
   "metadata": {
    "pycharm": {
     "name": "#%%\n"
    }
   },
   "outputs": [],
   "source": [
    "## drop total_days column\n",
    "mt_df.drop(\n",
    "    [\"total_days\"],\n",
    "    axis=1,\n",
    "    inplace=True,\n",
    ")\n",
    "\n",
    "## reorder dataframe\n",
    "mt_df = mt_df[\n",
    "    [\n",
    "        \"transaction_id\",\n",
    "        \"zuid\",\n",
    "        \"payment_method\",\n",
    "        \"sku\",\n",
    "        \"type_of_transaction\",\n",
    "        \"country_name\",\n",
    "        \"transaction_date\",\n",
    "        \"total_booking_net_CHF\",\n",
    "        \"total_booking_net_EUR\",\n",
    "        \"vat_CHF\",\n",
    "        \"vat_EUR\",\n",
    "        \"term_start\",\n",
    "        \"term_end\",\n",
    "        \"product_term_length\",\n",
    "        #        \"total_days\",\n",
    "        \"product_term_length_months\",\n",
    "        \"product_group_finance\",\n",
    "        \"revenue_month_number\",\n",
    "        \"revenue_month_date\",\n",
    "        \"total_revenue_net_EUR\",\n",
    "        \"total_revenue_net_CHF\",\n",
    "        \"active_sub_month_end\",\n",
    "    ]\n",
    "]"
   ]
  },
  {
   "cell_type": "code",
   "execution_count": 113,
   "metadata": {
    "pycharm": {
     "name": "#%%\n"
    }
   },
   "outputs": [],
   "source": [
    "## prepare df_nocalcs for free trials and full discounts\n",
    "mt_df_nocalcs = df[~df[\"type_of_transaction\"].isin(type_trans_lst)].copy()\n",
    "\n",
    "for date in parse_dates:\n",
    "    mt_df_nocalcs[date] = pd.to_datetime(mt_df_nocalcs[date]).dt.tz_convert(None)"
   ]
  },
  {
   "cell_type": "code",
   "execution_count": 114,
   "metadata": {
    "pycharm": {
     "name": "#%%\n"
    }
   },
   "outputs": [],
   "source": [
    "## calculate total_booking_net columns\n",
    "mt_df_nocalcs[\"total_booking_net_CHF\"] = (\n",
    "        mt_df_nocalcs[\"new_booking_net_CHF\"] + mt_df_nocalcs[\"renewal_booking_net_CHF\"]\n",
    ")\n",
    "mt_df_nocalcs[\"total_booking_net_EUR\"] = (\n",
    "        mt_df_nocalcs[\"new_booking_net_EUR\"] + mt_df_nocalcs[\"renewal_booking_net_EUR\"]\n",
    ")"
   ]
  },
  {
   "cell_type": "code",
   "execution_count": 115,
   "metadata": {
    "pycharm": {
     "name": "#%%\n"
    }
   },
   "outputs": [],
   "source": [
    "## drop unnecessary columns\n",
    "mt_df_nocalcs.drop(\n",
    "    [\n",
    "        \"new_booking_net_EUR\",\n",
    "        \"new_booking_net_CHF\",\n",
    "        \"renewal_booking_net_CHF\",\n",
    "        \"renewal_booking_net_EUR\",\n",
    "    ],\n",
    "    axis=1,\n",
    "    inplace=True,\n",
    ")"
   ]
  },
  {
   "cell_type": "code",
   "execution_count": 116,
   "metadata": {
    "pycharm": {
     "name": "#%%\n"
    }
   },
   "outputs": [],
   "source": [
    "## append dataframes\n",
    "mt_df_final = mt_df.append(mt_df_nocalcs).reset_index(drop=True)\n",
    "\n",
    "## convert revenue_month_date to date\n",
    "mt_df_final[\"revenue_month_date\"] = pd.to_datetime(\n",
    "    mt_df_final[\"revenue_month_date\"]\n",
    ").dt.date"
   ]
  },
  {
   "cell_type": "code",
   "execution_count": 117,
   "outputs": [],
   "source": [
    "# mt_df_final['term_end_date'] = pd.to_datetime(mt_df_final[\"term_end\"].dt.strftime('%Y-%m-%d'))"
   ],
   "metadata": {
    "collapsed": false,
    "pycharm": {
     "name": "#%%\n"
    }
   }
  },
  {
   "cell_type": "code",
   "execution_count": 118,
   "outputs": [],
   "source": [
    "# mt_df_final"
   ],
   "metadata": {
    "collapsed": false,
    "pycharm": {
     "name": "#%%\n"
    }
   }
  },
  {
   "cell_type": "code",
   "execution_count": 119,
   "outputs": [],
   "source": [
    "# mt_df_final[mt_df_final.transaction_id == '27355744']"
   ],
   "metadata": {
    "collapsed": false,
    "pycharm": {
     "name": "#%%\n"
    }
   }
  },
  {
   "cell_type": "code",
   "execution_count": 120,
   "outputs": [],
   "source": [
    "# mt_df_final[['transaction_id','transaction_date','term_start', 'term_end', 'revenue_month_date','active_sub_month_end']][mt_df_final.transaction_id == '27716044']"
   ],
   "metadata": {
    "collapsed": false,
    "pycharm": {
     "name": "#%%\n"
    }
   }
  },
  {
   "cell_type": "code",
   "execution_count": 121,
   "outputs": [],
   "source": [
    "# mt_df_final[mt_df_final['term_end_date'] == '2021-06-30']"
   ],
   "metadata": {
    "collapsed": false,
    "pycharm": {
     "name": "#%%\n"
    }
   }
  },
  {
   "cell_type": "code",
   "execution_count": 122,
   "outputs": [],
   "source": [
    "## define table schema\n",
    "bq_schema = [\n",
    "    {\"name\": \"transaction_id\", \"type\": \"STRING\"},\n",
    "    {\"name\": \"zuid\", \"type\": \"INTEGER\"},\n",
    "    {\"name\": \"payment_method\", \"type\": \"STRING\"},\n",
    "    {\"name\": \"sku\", \"type\": \"STRING\"},\n",
    "    {\"name\": \"type_of_transaction\", \"type\": \"STRING\"},\n",
    "    {\"name\": \"transaction_date\", \"type\": \"TIMESTAMP\"},\n",
    "    {\"name\": \"country_name\", \"type\": \"STRING\"},\n",
    "    {\"name\": \"total_booking_net_CHF\", \"type\": \"FLOAT\"},\n",
    "    {\"name\": \"total_booking_net_EUR\", \"type\": \"FLOAT\"},\n",
    "    {\"name\": \"vat_CHF\", \"type\": \"FLOAT\"},\n",
    "    {\"name\": \"vat_EUR\", \"type\": \"FLOAT\"},\n",
    "    {\"name\": \"term_start\", \"type\": \"TIMESTAMP\"},\n",
    "    {\"name\": \"term_end\", \"type\": \"TIMESTAMP\"},\n",
    "    {\"name\": \"product_term_length\", \"type\": \"INTEGER\"},\n",
    "    {\"name\": \"product_term_length_months\", \"type\": \"INTEGER\"},\n",
    "    {\"name\": \"product_group_finance\", \"type\": \"STRING\"},\n",
    "    {\"name\": \"revenue_month_number\", \"type\": \"INTEGER\"},\n",
    "    {\"name\": \"revenue_month_date\", \"type\": \"DATE\"},\n",
    "    {\"name\": \"total_revenue_net_EUR\", \"type\": \"FLOAT\"},\n",
    "    {\"name\": \"total_revenue_net_CHF\", \"type\": \"FLOAT\"},\n",
    "    {\"name\": \"active_sub_month_end\", \"type\": \"INTEGER\"},\n",
    "]"
   ],
   "metadata": {
    "collapsed": false,
    "pycharm": {
     "name": "#%%\n"
    }
   }
  },
  {
   "cell_type": "code",
   "execution_count": 123,
   "outputs": [],
   "source": [
    "## export to BQ table\n",
    "pandas_gbq.to_gbq(\n",
    "    dataframe=mt_df_final,\n",
    "    destination_table=\"temp.pypayment_v2_1_022022\",\n",
    "    project_id=\"zattoo-dataeng\",\n",
    "    if_exists=\"replace\",\n",
    "    progress_bar=None,\n",
    "    table_schema=bq_schema,\n",
    ")"
   ],
   "metadata": {
    "collapsed": false,
    "pycharm": {
     "name": "#%%\n"
    }
   }
  },
  {
   "cell_type": "code",
   "execution_count": 124,
   "outputs": [],
   "source": [
    "## export to csv\n",
    "path = r\"/Users/miguelcouto/Desktop/\"\n",
    "\n",
    "mt_df_final.to_csv(os.path.join(path, r\"pypayment_v2_1_022022.csv\"))"
   ],
   "metadata": {
    "collapsed": false,
    "pycharm": {
     "name": "#%%\n"
    }
   }
  }
 ],
 "metadata": {
  "kernelspec": {
   "display_name": "Python 3",
   "language": "python",
   "name": "python3"
  },
  "language_info": {
   "codemirror_mode": {
    "name": "ipython",
    "version": 3
   },
   "file_extension": ".py",
   "mimetype": "text/x-python",
   "name": "python",
   "nbconvert_exporter": "python",
   "pygments_lexer": "ipython3",
   "version": "3.9.4"
  }
 },
 "nbformat": 4,
 "nbformat_minor": 4
}
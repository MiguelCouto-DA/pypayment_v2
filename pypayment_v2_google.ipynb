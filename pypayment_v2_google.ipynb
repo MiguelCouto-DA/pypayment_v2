{
 "cells": [
  {
   "cell_type": "code",
   "execution_count": 1,
   "outputs": [],
   "source": [
    "#%load_ext lab_black"
   ],
   "metadata": {
    "collapsed": false,
    "pycharm": {
     "name": "#%%\n"
    }
   }
  },
  {
   "cell_type": "code",
   "execution_count": 2,
   "outputs": [],
   "source": [
    "## Importing all needed libraries and modules\n",
    "## Setting up BigQuery access credentials for SQL parsing of reporting data\n",
    "from google.cloud import bigquery\n",
    "from google.oauth2 import service_account\n",
    "import pandas_gbq\n",
    "import pandas as pd\n",
    "import numpy as np\n",
    "import os\n",
    "import warnings\n",
    "import datetime\n",
    "\n",
    "pd.set_option('display.max_columns', None)\n",
    "warnings.filterwarnings('ignore')\n",
    "\n",
    "credentials = service_account.Credentials.from_service_account_file(\n",
    "    \"/Users/miguelcouto/Downloads/zattoo-dataeng-e5f45785174f.json\"\n",
    ")\n",
    "\n",
    "project_id = \"zattoo-dataeng\"\n",
    "client = bigquery.Client(credentials=credentials, project=project_id)"
   ],
   "metadata": {
    "collapsed": false,
    "pycharm": {
     "name": "#%%\n"
    }
   }
  },
  {
   "cell_type": "code",
   "execution_count": 3,
   "outputs": [],
   "source": [
    "## Prepare dataframe\n",
    "df = pd.read_csv('/Users/miguelcouto/PycharmProjects/pypayment_v2/raw/google/2022-03_google.csv')"
   ],
   "metadata": {
    "collapsed": false,
    "pycharm": {
     "name": "#%%\n"
    }
   }
  },
  {
   "cell_type": "code",
   "execution_count": 4,
   "outputs": [],
   "source": [
    "## Renaming and reordering the dataframe so it keeps consistency with the reports from the other app shops\n",
    "reporting_df = df[\n",
    "    ['Description', 'Transaction Date', 'Transaction Time', 'Tax Type', 'Transaction Type',\n",
    "     'Refund Type', 'Product Title', 'Sku Id', 'Buyer Country',\n",
    "     'Buyer Currency', 'Amount (Buyer Currency)', 'Currency Conversion Rate',\n",
    "     'Merchant Currency', 'Amount (Merchant Currency)', 'Offer ID']]\n",
    "\n",
    "reporting_df.rename({'Description': 'description',\n",
    "                     'Transaction Time': 'transaction_time',\n",
    "                     'Transaction Date': 'transaction_date',\n",
    "                     'Transaction Type': 'type_of_transaction',\n",
    "                     'Tax Type': 'tax_type',\n",
    "                     'Refund Type': 'refund_type',\n",
    "                     'Product Title': 'product_title',\n",
    "                     'Sku Id': 'vendor_sku',\n",
    "                     'Buyer Country': 'buyer_country_code',\n",
    "                     'Buyer Currency': 'buyer_currency',\n",
    "                     'Merchant Currency': 'merchant_currency',\n",
    "                     'Currency Conversion Rate': 'currency_conversion_rate',\n",
    "                     'Amount (Buyer Currency)': 'amount_buyer_currency',\n",
    "                     'Amount (Merchant Currency)': 'amount_chf',\n",
    "                     'Offer ID': 'offer_id',\n",
    "                     },\n",
    "                    axis=1, inplace=True)\n",
    "\n",
    "## Converting date columns to datetime and getting rid of unnecessary columns\n",
    "reporting_df['transaction_date'] = pd.to_datetime(df['Transaction Date'])\n",
    "reporting_df['transaction_time'] = pd.to_timedelta(df['Transaction Time'])\n",
    "\n",
    "reporting_df['transaction_date'] = pd.to_datetime(reporting_df['transaction_date'] + reporting_df['transaction_time'],\n",
    "                                                  format='%m-%d-%Y%H:%M:%S')\n",
    "\n",
    "reporting_df.drop('transaction_time', inplace=True, axis=1)"
   ],
   "metadata": {
    "collapsed": false,
    "pycharm": {
     "name": "#%%\n"
    }
   }
  },
  {
   "cell_type": "code",
   "execution_count": 5,
   "outputs": [],
   "source": [
    "## Since google has their own exchange rate we need to derive it from the amounts reported by them. Then we‘d have one fx rate we could also extend to the transactions paid in usd.\n",
    "exchange_rate_eur_to_chf = reporting_df['amount_chf'][reporting_df['buyer_currency'].str.lower() == 'eur'].sum() / reporting_df['amount_buyer_currency'][reporting_df['buyer_currency'].str.lower() == 'eur'].sum()\n",
    "\n",
    "reporting_df['exchange_rate_eur_to_chf'] = exchange_rate_eur_to_chf"
   ],
   "metadata": {
    "collapsed": false,
    "pycharm": {
     "name": "#%%\n"
    }
   }
  },
  {
   "cell_type": "code",
   "execution_count": 6,
   "outputs": [],
   "source": [
    "## We only report DE, CH, AT. Everything except DACH goes to CH attributed abroad in the column domestic_abroad.\n",
    "reporting_df['domestic_abroad'] = pd.np.where(\n",
    "    reporting_df['buyer_country_code'].str.lower() == 'de', 'domestic',\n",
    "    pd.np.where(reporting_df['buyer_country_code'].str.lower() == 'at', 'domestic',\n",
    "                pd.np.where(reporting_df['buyer_country_code'].str.lower() == 'ch', 'domestic', 'abroad')))\n",
    "\n",
    "reporting_df['country_code_clean'] = pd.np.where(\n",
    "    reporting_df['buyer_country_code'].str.lower() == 'de', 'DE',\n",
    "    pd.np.where(reporting_df['buyer_country_code'].str.lower() == 'at', 'AT',\n",
    "                pd.np.where(reporting_df['buyer_country_code'].str.lower() == 'ch', 'CH', 'CH')))"
   ],
   "metadata": {
    "collapsed": false,
    "pycharm": {
     "name": "#%%\n"
    }
   }
  },
  {
   "cell_type": "code",
   "execution_count": 7,
   "outputs": [],
   "source": [
    "## Finance Subs reporting will happen once at end of each month and for that the reporting_month will be defined based on the mode of the transaction_date.\n",
    "reporting_df['reporting_month'] = reporting_df['transaction_date'].dt.to_period('M').dt.strftime('%Y-%m')\n",
    "reporting_month = reporting_df.reporting_month.mode()\n",
    "reporting_df['reporting_month'] = reporting_df['reporting_month'].apply(lambda x: reporting_month)"
   ],
   "metadata": {
    "collapsed": false,
    "pycharm": {
     "name": "#%%\n"
    }
   }
  },
  {
   "cell_type": "code",
   "execution_count": 8,
   "outputs": [],
   "source": [
    "## Adding payment_method column\n",
    "reporting_df['payment_method'] = 'google'"
   ],
   "metadata": {
    "collapsed": false,
    "pycharm": {
     "name": "#%%\n"
    }
   }
  },
  {
   "cell_type": "code",
   "execution_count": 9,
   "outputs": [],
   "source": [
    "## SQL query to enrich the dataframe with more specific product data (class, detailed class, length)\n",
    "skus_list = str(set(reporting_df['vendor_sku'].to_list()))\n",
    "\n",
    "skus_expand = f\"\"\"select distinct rlv.SKU as sku,\n",
    "                rlv.product_class,\n",
    "                rlv.detailed_product_class,\n",
    "                rlv.product_length\n",
    "from b2c_middleware.reporting_layer_view rlv\n",
    "where true\n",
    "  and rlv.SKU in ({skus_list[1:-1]})\n",
    "  and rlv.app_shop_id = 'google'\n",
    "  and rlv.product_class is not null\n",
    "  and rlv.detailed_product_class is not null\n",
    "  ;\"\"\"\n",
    "\n",
    "df_skus_expand = pandas_gbq.read_gbq(skus_expand, project_id=project_id, progress_bar_type=None)\n",
    "\n",
    "reporting_df = reporting_df.merge(df_skus_expand, how='left',\n",
    "                                  left_on='vendor_sku', right_on='sku').drop('vendor_sku', axis=1)"
   ],
   "metadata": {
    "collapsed": false,
    "pycharm": {
     "name": "#%%\n"
    }
   }
  },
  {
   "cell_type": "code",
   "execution_count": 10,
   "outputs": [],
   "source": [
    "## Adding units column\n",
    "reporting_df['units'] = pd.np.where(\n",
    "    reporting_df['type_of_transaction'].str.lower() == 'charge', 1,\n",
    "    pd.np.where(reporting_df['type_of_transaction'].str.lower() == 'charge refund', -1, 0))"
   ],
   "metadata": {
    "collapsed": false,
    "pycharm": {
     "name": "#%%\n"
    }
   }
  },
  {
   "cell_type": "code",
   "execution_count": 11,
   "outputs": [],
   "source": [
    "## Creating product_length_months column\n",
    "reporting_df['product_length_months'] = reporting_df['product_length']\n",
    "\n",
    "reporting_df['product_length_months'] = reporting_df['product_length'].replace(\n",
    "    {31: 1, 92: 3, 365: 12})"
   ],
   "metadata": {
    "collapsed": false,
    "pycharm": {
     "name": "#%%\n"
    }
   }
  },
  {
   "cell_type": "code",
   "execution_count": 12,
   "outputs": [],
   "source": [
    "## Enriching google with data from our datamarts which already has a lot of clean business logic\n",
    "trxs_list = str(set(reporting_df['description'].to_list()))\n",
    "\n",
    "trxs_expand = f\"\"\"\n",
    "select rlv.transaction_id,\n",
    "       rlv.term_end,\n",
    "       pav.latest_receipt_orderid,\n",
    "       rlv.creation_time,\n",
    "       rlv.store_fees_applicable_percentage as store_fees_percentage,\n",
    "       rlv.vat_percentage,\n",
    "       rlv.is_renewal\n",
    "from b2c_middleware.middlelayer_androidtransaction rlv\n",
    "         left join b2c_middleware_import.payment_androidtransaction_view pav\n",
    "                   on pav.id = rlv.transaction_id\n",
    "where true\n",
    "  and pav.latest_receipt_orderid in ({trxs_list[1:-1]})\n",
    "\"\"\"\n",
    "\n",
    "df_trxs_expand = pandas_gbq.read_gbq(trxs_expand, project_id=project_id, progress_bar_type=None)\n",
    "\n",
    "reporting_df = reporting_df.merge(df_trxs_expand, how='left',\n",
    "                                  left_on='description', right_on='latest_receipt_orderid').drop(\n",
    "    'latest_receipt_orderid', axis=1)\n",
    "\n",
    "reporting_df.drop_duplicates(subset=[\"description\", 'type_of_transaction'], inplace=True)"
   ],
   "metadata": {
    "collapsed": false,
    "pycharm": {
     "name": "#%%\n"
    }
   }
  },
  {
   "cell_type": "code",
   "execution_count": 13,
   "outputs": [],
   "source": [
    "## 12M subs in DE and AT should be allocated to CH + abroad\n",
    "reporting_df['domestic_abroad'][(reporting_df['product_length_months'] == 12) & (\n",
    "    reporting_df['buyer_country_code'].str.lower().isin(['de', 'at']))] = 'abroad'\n",
    "\n",
    "reporting_df['country_code_clean'][\n",
    "    (reporting_df['product_length_months'] == 12) & (\n",
    "        reporting_df['buyer_country_code'].str.lower().isin(['de', 'at']))] = 'CH'"
   ],
   "metadata": {
    "collapsed": false,
    "pycharm": {
     "name": "#%%\n"
    }
   }
  },
  {
   "cell_type": "code",
   "execution_count": 14,
   "outputs": [],
   "source": [
    "## Build join to dim.countries and get country_names\n",
    "dim_countries = \"\"\"\n",
    "select distinct countrycode as country_code,\n",
    "                name as country_name\n",
    "from dim.countries\n",
    ";\n",
    "\"\"\"\n",
    "\n",
    "df_countries = pandas_gbq.read_gbq(dim_countries, project_id=project_id, progress_bar_type=None)\n",
    "\n",
    "reporting_df = reporting_df.merge(df_countries, how='left', left_on='country_code_clean', right_on='country_code')"
   ],
   "metadata": {
    "collapsed": false,
    "pycharm": {
     "name": "#%%\n"
    }
   }
  },
  {
   "cell_type": "code",
   "execution_count": 15,
   "outputs": [],
   "source": [
    "## Calculating VAT from google instead of getting them from our datamarts because google has its own exchange rates\n",
    "df_vat_chf = reporting_df[(reporting_df['type_of_transaction'].str.lower().isin(['tax', 'tax refund']))].groupby('description')[\n",
    "    'amount_chf'].sum().reset_index()\n",
    "\n",
    "df_vat_chf.rename({'amount_chf': 'vat_chf'\n",
    "                   },\n",
    "                  axis=1, inplace=True)\n",
    "\n",
    "reporting_df = reporting_df.merge(df_vat_chf, how='left', left_on='description', right_on='description')\n",
    "\n",
    "df_vat_buyer_currency = reporting_df[(reporting_df['type_of_transaction'].str.lower().isin(['tax', 'tax refund']))].groupby('description')[\n",
    "    'amount_buyer_currency'].sum().reset_index()\n",
    "\n",
    "df_vat_buyer_currency.rename({'amount_buyer_currency': 'vat_buyer_currency'\n",
    "                              },\n",
    "                             axis=1, inplace=True)\n",
    "\n",
    "reporting_df = reporting_df.merge(df_vat_buyer_currency, how='left', left_on='description',\n",
    "                                  right_on='description')\n",
    "\n",
    "reporting_df['vat_eur'] = reporting_df['vat_chf'] / exchange_rate_eur_to_chf\n",
    "\n",
    "## Clean up the house, yeah.\n",
    "reporting_df['vat_eur'].replace(np.nan, 0, inplace=True)\n",
    "reporting_df['vat_chf'].replace(np.nan, 0, inplace=True)\n",
    "reporting_df['vat_buyer_currency'].replace(np.nan, 0, inplace=True)"
   ],
   "metadata": {
    "collapsed": false,
    "pycharm": {
     "name": "#%%\n"
    }
   }
  },
  {
   "cell_type": "code",
   "execution_count": 16,
   "outputs": [],
   "source": [
    "## Calculating google fee refund\n",
    "df_fee_chf = reporting_df[(reporting_df['type_of_transaction'].str.lower().isin(['google fee refund', 'google fee']))].groupby(\n",
    "    'description')['amount_chf'].sum().reset_index()\n",
    "\n",
    "df_fee_chf.rename({'amount_chf': 'fee_chf'\n",
    "                   },\n",
    "                  axis=1, inplace=True)\n",
    "\n",
    "reporting_df = reporting_df.merge(df_fee_chf, how='left', left_on='description', right_on='description')\n",
    "\n",
    "reporting_df['fee_chf'] = reporting_df['fee_chf'].abs()\n",
    "\n",
    "df_fee_buyer_currency = reporting_df[(reporting_df['type_of_transaction'].str.lower().isin(['google fee refund', 'google fee']))].groupby(\n",
    "    'description')['amount_buyer_currency'].sum().reset_index()\n",
    "\n",
    "df_fee_buyer_currency.rename({'amount_buyer_currency': 'fee_buyer_currency'\n",
    "                              },\n",
    "                             axis=1, inplace=True)\n",
    "\n",
    "reporting_df = reporting_df.merge(df_fee_buyer_currency, how='left', left_on='description',\n",
    "                                  right_on='description')\n",
    "\n",
    "reporting_df['fee_buyer_currency'] = reporting_df['fee_buyer_currency'].abs()\n",
    "\n",
    "reporting_df['fee_eur'] = reporting_df['fee_chf'] / exchange_rate_eur_to_chf\n",
    "\n",
    "## Clean up the house, yeah.\n",
    "reporting_df['fee_eur'].replace(np.nan, 0, inplace=True)\n",
    "reporting_df['fee_chf'].replace(np.nan, 0, inplace=True)\n",
    "reporting_df['fee_buyer_currency'].replace(np.nan, 0, inplace=True)"
   ],
   "metadata": {
    "collapsed": false,
    "pycharm": {
     "name": "#%%\n"
    }
   }
  },
  {
   "cell_type": "code",
   "execution_count": 17,
   "outputs": [],
   "source": [
    "## And taking care of inverting the values for refunds and chargebacks\n",
    "reporting_df_negs = reporting_df[reporting_df['type_of_transaction'].str.lower() == 'charge refund']\n",
    "\n",
    "reporting_df.drop(reporting_df[reporting_df['type_of_transaction'].str.lower() == 'charge refund'].index, inplace=True)\n",
    "\n",
    "cols = ['fee_chf', 'fee_eur', 'fee_buyer_currency']\n",
    "\n",
    "## Exactly here is where the negative magic happens\n",
    "reporting_df_negs[cols] = - reporting_df_negs[cols]\n",
    "\n",
    "reporting_df = pd.concat([reporting_df, reporting_df_negs])"
   ],
   "metadata": {
    "collapsed": false,
    "pycharm": {
     "name": "#%%\n"
    }
   }
  },
  {
   "cell_type": "code",
   "execution_count": 18,
   "outputs": [],
   "source": [
    "## Calculating charge from google instead of getting them from our datamarts because google has its own exchange rates\n",
    "df_charge_chf = reporting_df[(reporting_df['type_of_transaction'].str.lower().isin(['charge', 'charge refund']))].groupby('description')[\n",
    "    'amount_chf'].sum().reset_index()\n",
    "\n",
    "df_charge_chf.rename({'amount_chf': 'charge_chf'\n",
    "                   },\n",
    "                  axis=1, inplace=True)\n",
    "\n",
    "reporting_df = reporting_df.merge(df_charge_chf, how='left', left_on='description', right_on='description')\n",
    "\n",
    "reporting_df['charge_chf'][~(reporting_df['type_of_transaction'].str.lower().isin(['charge', 'charge refund']))] = 0\n",
    "\n",
    "df_charge_buyer_currency = reporting_df[(reporting_df['type_of_transaction'].str.lower().isin(['charge', 'charge refund']))].groupby('description')[\n",
    "    'amount_buyer_currency'].sum().reset_index()\n",
    "\n",
    "df_charge_buyer_currency.rename({'amount_buyer_currency': 'charge_buyer_currency'\n",
    "                   },\n",
    "                  axis=1, inplace=True)\n",
    "\n",
    "reporting_df = reporting_df.merge(df_charge_buyer_currency, how='left', left_on='description', right_on='description')\n",
    "\n",
    "reporting_df['charge_buyer_currency'][~(reporting_df['type_of_transaction'].str.lower().isin(['charge', 'charge refund']))] = 0\n",
    "\n",
    "reporting_df['charge_eur'] = reporting_df['charge_chf'] / exchange_rate_eur_to_chf\n",
    "\n",
    "## Clean up the house, yeah.\n",
    "reporting_df['charge_eur'].replace(np.nan, 0, inplace=True)\n",
    "reporting_df['charge_chf'].replace(np.nan, 0, inplace=True)\n",
    "reporting_df['charge_buyer_currency'].replace(np.nan, 0, inplace=True)"
   ],
   "metadata": {
    "collapsed": false,
    "pycharm": {
     "name": "#%%\n"
    }
   }
  },
  {
   "cell_type": "code",
   "execution_count": 19,
   "outputs": [],
   "source": [
    "## A bit of housekeeping before moving values to new and renewal bookings\n",
    "reporting_df['is_renewal'].replace(np.nan, 0, inplace=True)"
   ],
   "metadata": {
    "collapsed": false,
    "pycharm": {
     "name": "#%%\n"
    }
   }
  },
  {
   "cell_type": "code",
   "execution_count": 20,
   "outputs": [],
   "source": [
    "## Calculating new net bookings from google instead of getting them from our datamarts because google has its own exchange rates\n",
    "reporting_df['new_booking_net_chf'] = reporting_df['charge_chf'][reporting_df['is_renewal'] == 0] - reporting_df['fee_chf'][reporting_df['is_renewal'] == 0]\n",
    "reporting_df['new_booking_net_eur'] = reporting_df['charge_eur'][reporting_df['is_renewal'] == 0] - reporting_df['fee_eur'][reporting_df['is_renewal'] == 0]\n",
    "reporting_df['new_booking_net_buyer_currency'] = reporting_df['charge_buyer_currency'][reporting_df['is_renewal'] == 0] - reporting_df['fee_buyer_currency'][reporting_df['is_renewal'] == 0]\n",
    "\n",
    "## Clean up the house, yeah.\n",
    "reporting_df['new_booking_net_chf'].replace(np.nan, 0, inplace=True)\n",
    "reporting_df['new_booking_net_eur'].replace(np.nan, 0, inplace=True)\n",
    "reporting_df['new_booking_net_buyer_currency'].replace(np.nan, 0, inplace=True)"
   ],
   "metadata": {
    "collapsed": false,
    "pycharm": {
     "name": "#%%\n"
    }
   }
  },
  {
   "cell_type": "code",
   "execution_count": 21,
   "outputs": [],
   "source": [
    "## Calculating renewal net bookings from google instead of getting them from our datamarts because google has its own exchange rates\n",
    "reporting_df['renewal_booking_net_chf'] = reporting_df['charge_chf'][reporting_df['is_renewal'] == 1] - reporting_df['fee_chf'][reporting_df['is_renewal'] == 1]\n",
    "reporting_df['renewal_booking_net_eur'] = reporting_df['charge_eur'][reporting_df['is_renewal'] == 1] - reporting_df['fee_eur'][reporting_df['is_renewal'] == 1]\n",
    "reporting_df['renewal_booking_net_buyer_currency'] = reporting_df['charge_buyer_currency'][reporting_df['is_renewal'] == 1] - reporting_df['fee_buyer_currency'][reporting_df['is_renewal'] == 1]\n",
    "\n",
    "## Clean up the house, yeah.\n",
    "reporting_df['renewal_booking_net_chf'].replace(np.nan, 0, inplace=True)\n",
    "reporting_df['renewal_booking_net_eur'].replace(np.nan, 0, inplace=True)\n",
    "reporting_df['renewal_booking_net_buyer_currency'].replace(np.nan, 0, inplace=True)"
   ],
   "metadata": {
    "collapsed": false,
    "pycharm": {
     "name": "#%%\n"
    }
   }
  },
  {
   "cell_type": "code",
   "execution_count": 22,
   "outputs": [],
   "source": [
    "## Calculating sales price from google instead of getting them from our datamarts because google has its own exchange rates\n",
    "reporting_df['sales_price_chf'] = reporting_df['charge_chf'] + reporting_df['vat_chf']\n",
    "reporting_df['sales_price_eur'] = reporting_df['charge_eur'] + reporting_df['vat_eur']\n",
    "reporting_df['sales_price_buyer_currency'] = reporting_df['charge_buyer_currency'] + reporting_df['vat_buyer_currency']\n",
    "\n",
    "## Clean up the house, yeah.\n",
    "reporting_df['sales_price_chf'].replace(np.nan, 0, inplace=True)\n",
    "reporting_df['sales_price_eur'].replace(np.nan, 0, inplace=True)\n",
    "reporting_df['sales_price_buyer_currency'].replace(np.nan, 0, inplace=True)"
   ],
   "metadata": {
    "collapsed": false,
    "pycharm": {
     "name": "#%%\n"
    }
   }
  },
  {
   "cell_type": "code",
   "execution_count": 23,
   "outputs": [],
   "source": [
    "## Calculating payout from google instead of getting them from our datamarts because google has its own exchange rates\n",
    "reporting_df['payout_chf'] = reporting_df['sales_price_chf'] - reporting_df['fee_chf']\n",
    "reporting_df['payout_eur'] = reporting_df['sales_price_eur'] - reporting_df['fee_eur']\n",
    "reporting_df['payout_buyer_currency'] = reporting_df['sales_price_buyer_currency'] - reporting_df['fee_buyer_currency']\n",
    "\n",
    "## Clean up the house, yeah.\n",
    "reporting_df['payout_chf'].replace(np.nan, 0, inplace=True)\n",
    "reporting_df['payout_eur'].replace(np.nan, 0, inplace=True)\n",
    "reporting_df['payout_buyer_currency'].replace(np.nan, 0, inplace=True)"
   ],
   "metadata": {
    "collapsed": false,
    "pycharm": {
     "name": "#%%\n"
    }
   }
  },
  {
   "cell_type": "code",
   "execution_count": 24,
   "outputs": [],
   "source": [
    "## avg_price_sales_per_sub calculation\n",
    "reporting_df['avg_price_sales_per_sub_chf'] = reporting_df['sales_price_chf'] / reporting_df['units']\n",
    "reporting_df['avg_price_sales_per_sub_eur'] = reporting_df['sales_price_eur'] / reporting_df['units']\n",
    "reporting_df['avg_price_sales_per_sub_buyer_currency'] = reporting_df['sales_price_buyer_currency'] / reporting_df['units']\n",
    "\n",
    "## Clean up the house, yeah.\n",
    "reporting_df['avg_price_sales_per_sub_chf'].replace(np.nan, 0, inplace=True)\n",
    "reporting_df['avg_price_sales_per_sub_eur'].replace(np.nan, 0, inplace=True)\n",
    "reporting_df['avg_price_sales_per_sub_buyer_currency'].replace(np.nan, 0, inplace=True)\n",
    "\n",
    "## Cleaning up a bit more\n",
    "reporting_df.replace(np.inf, 0, inplace=True)\n",
    "reporting_df.replace(-np.inf, 0, inplace=True)"
   ],
   "metadata": {
    "collapsed": false,
    "pycharm": {
     "name": "#%%\n"
    }
   }
  },
  {
   "cell_type": "code",
   "execution_count": 25,
   "outputs": [],
   "source": [
    "## After all the VAT, fee and sales price calculations, we can only keep the 'charge' and 'refund' transaction types\n",
    "reporting_df = reporting_df[reporting_df['type_of_transaction'].str.lower().isin(['charge', 'charge refund'])].reset_index(drop=True)"
   ],
   "metadata": {
    "collapsed": false,
    "pycharm": {
     "name": "#%%\n"
    }
   }
  },
  {
   "cell_type": "code",
   "execution_count": 26,
   "outputs": [],
   "source": [
    "## Removing UTC timezone from term_end\n",
    "reporting_df['term_end'] = pd.to_datetime(reporting_df['term_end'])\n",
    "reporting_df['term_end'] = reporting_df['term_end'].dt.strftime('%Y-%m-%d %H:%M:%S')\n",
    "reporting_df['term_end'] = pd.to_datetime(reporting_df['term_end'])"
   ],
   "metadata": {
    "collapsed": false,
    "pycharm": {
     "name": "#%%\n"
    }
   }
  },
  {
   "cell_type": "code",
   "execution_count": 27,
   "outputs": [],
   "source": [
    "## Adding artificially created term_end_date based on initial transaction_date\n",
    "reporting_df['term_end'] = reporting_df['transaction_date'] + reporting_df['product_length'].astype('timedelta64[D]')"
   ],
   "metadata": {
    "collapsed": false,
    "pycharm": {
     "name": "#%%\n"
    }
   }
  },
  {
   "cell_type": "code",
   "execution_count": 28,
   "outputs": [],
   "source": [
    "## Calculate product_term_length_months\n",
    "reporting_df[\"product_term_length_months\"] = (\n",
    "        (reporting_df[\"term_end\"].dt.year - reporting_df[\"transaction_date\"].dt.year) * 12\n",
    "        + (reporting_df[\"term_end\"].dt.month - reporting_df[\"transaction_date\"].dt.month)\n",
    "        + 1\n",
    ")\n",
    "\n",
    "## A bit of housekeeping\n",
    "reporting_df[\"product_term_length_months\"][reporting_df[\"product_term_length_months\"] < 0] = 0"
   ],
   "metadata": {
    "collapsed": false,
    "pycharm": {
     "name": "#%%\n"
    }
   }
  },
  {
   "cell_type": "code",
   "execution_count": 29,
   "outputs": [],
   "source": [
    "## Replacing product_term_length_months for exceptions where value is 2 instead of 1\n",
    "shorter_subs = (reporting_df['term_end'] - reporting_df['transaction_date']).dt.days <= 30\n",
    "shorter_subs_replacer = reporting_df[shorter_subs][\n",
    "    (reporting_df[\"product_term_length_months\"] == 2) & ((reporting_df['term_end']).dt.day == 1)].index.to_list()\n",
    "reporting_df[\"product_term_length_months\"].loc[shorter_subs_replacer] = 1"
   ],
   "metadata": {
    "collapsed": false,
    "pycharm": {
     "name": "#%%\n"
    }
   }
  },
  {
   "cell_type": "code",
   "execution_count": 30,
   "outputs": [],
   "source": [
    "## Cleaning up a bit\n",
    "reporting_df.replace(np.inf, 0, inplace=True)\n",
    "reporting_df.replace(-np.inf, 0, inplace=True)"
   ],
   "metadata": {
    "collapsed": false,
    "pycharm": {
     "name": "#%%\n"
    }
   }
  },
  {
   "cell_type": "code",
   "execution_count": 31,
   "outputs": [],
   "source": [
    "## Adding revenue_month_number - this will help in further calculations\n",
    "reporting_df = reporting_df.loc[reporting_df.index.repeat(reporting_df['product_term_length_months'])].reset_index(\n",
    "    drop=True)\n",
    "reporting_df['revenue_month_number'] = 1\n",
    "reporting_df['revenue_month_number'] = reporting_df.groupby([\"description\", 'type_of_transaction'])[\n",
    "    'revenue_month_number'].cumsum()"
   ],
   "metadata": {
    "collapsed": false,
    "pycharm": {
     "name": "#%%\n"
    }
   }
  },
  {
   "cell_type": "code",
   "execution_count": 32,
   "outputs": [],
   "source": [
    "## Adding max_month_date to tackle the specifications of active_sub_month_end\n",
    "reporting_df['max_month_date'] = reporting_df.groupby([reporting_df['term_end'].dt.to_period('M'), 'type_of_transaction'])[\n",
    "    'term_end'].transform('max')\n",
    "reporting_df['max_month_date'] = reporting_df['max_month_date'].dt.normalize() + pd.Timedelta('23:59:59')"
   ],
   "metadata": {
    "collapsed": false,
    "pycharm": {
     "name": "#%%\n"
    }
   }
  },
  {
   "cell_type": "code",
   "execution_count": 33,
   "outputs": [],
   "source": [
    "## Get last indices of each transaction_id group\n",
    "frames = reporting_df[reporting_df['type_of_transaction'].str.lower().isin(['charge', 'charge refund'])].reset_index().groupby([\"description\", 'type_of_transaction'])[\"index\"].last().to_frame()\n",
    "last_idxs_charges = np.array(frames['index'].to_list())\n",
    "\n",
    "## Add revenue_month_date\n",
    "reporting_df[\"revenue_month_date\"] = reporting_df[\"transaction_date\"].to_numpy().astype(\"datetime64[M]\")\n",
    "\n",
    "reporting_df[\"revenue_month_date\"][reporting_df[\"type_of_transaction\"].str.lower().isin(['google fee refund', 'charge refund'])] = (\n",
    "    reporting_df[\"transaction_date\"].to_numpy().astype(\"datetime64[M]\")\n",
    ")\n",
    "\n",
    "reporting_df[\"revenue_month_date\"] = reporting_df.apply(\n",
    "    lambda x: x[\"revenue_month_date\"]\n",
    "              + pd.offsets.MonthEnd(x[\"revenue_month_number\"])\n",
    "              + pd.offsets.MonthBegin(-1),\n",
    "    axis=1,\n",
    ")"
   ],
   "metadata": {
    "collapsed": false,
    "pycharm": {
     "name": "#%%\n"
    }
   }
  },
  {
   "cell_type": "code",
   "execution_count": 34,
   "outputs": [],
   "source": [
    "## Add product_term_length\n",
    "reporting_df[\"product_term_length\"] = reporting_df[\"revenue_month_date\"].apply(\n",
    "    lambda t: pd.Period(t, freq=\"S\").days_in_month\n",
    ")\n",
    "\n",
    "reporting_df[\"product_term_length\"][reporting_df[\"transaction_date\"] > reporting_df[\"revenue_month_date\"]] = (\n",
    "                                                                                                                     reporting_df[\n",
    "                                                                                                                         \"transaction_date\"].dt.daysinmonth -\n",
    "                                                                                                                     reporting_df[\n",
    "                                                                                                                         \"transaction_date\"].dt.day\n",
    "                                                                                                             ) + 1"
   ],
   "metadata": {
    "collapsed": false,
    "pycharm": {
     "name": "#%%\n"
    }
   }
  },
  {
   "cell_type": "code",
   "execution_count": 35,
   "outputs": [],
   "source": [
    "## Fix last position of product_term_length per transaction_id for charges\n",
    "reporting_df[\"product_term_length\"].iloc[last_idxs_charges] = (\n",
    "        reporting_df[\"term_end\"].iloc[last_idxs_charges] -\n",
    "        reporting_df[\"revenue_month_date\"].iloc[last_idxs_charges]\n",
    ").dt.days\n",
    "\n",
    "reporting_df = reporting_df[reporting_df['product_term_length'] > 0]"
   ],
   "metadata": {
    "collapsed": false,
    "pycharm": {
     "name": "#%%\n"
    }
   }
  },
  {
   "cell_type": "code",
   "execution_count": 36,
   "outputs": [],
   "source": [
    "## Set active_sub_month_end = 0 by default\n",
    "reporting_df['active_sub_month_end'] = 0\n",
    "# reporting_df['revenue_month_date'] = pd.to_datetime(reporting_df['revenue_month_date']).dt.date\n",
    "reporting_df['active_sub_month_end'][\n",
    "    (reporting_df['term_end'] > (reporting_df['revenue_month_date'] + pd.offsets.MonthBegin(1)))] = 1\n",
    "\n",
    "reporting_df[\"active_sub_month_end\"][reporting_df[\"type_of_transaction\"].str.lower() != \"charge\"] = reporting_df[\n",
    "                                                                                            'active_sub_month_end'] * -1\n",
    "\n",
    "reporting_df.reset_index(drop=True, inplace=True)"
   ],
   "metadata": {
    "collapsed": false,
    "pycharm": {
     "name": "#%%\n"
    }
   }
  },
  {
   "cell_type": "code",
   "execution_count": 37,
   "outputs": [],
   "source": [
    "## active_sub_content follows the same logic as active_sub_month_end except it doesn't count the last month\n",
    "reporting_df[\"active_sub_content\"] = reporting_df.active_sub_month_end\n",
    "\n",
    "reporting_df[\"active_sub_content\"][(reporting_df[\"revenue_month_number\"] > reporting_df['product_length_months'])] = 0\n",
    "\n",
    "## Total_days of product_term_length per transaction_id\n",
    "reporting_df[\"total_days\"] = reporting_df[reporting_df['type_of_transaction'].str.lower().isin(['charge', 'charge refund'])].groupby([\"description\", 'type_of_transaction'])[\n",
    "    \"product_term_length\"].transform(\"sum\")"
   ],
   "metadata": {
    "collapsed": false,
    "pycharm": {
     "name": "#%%\n"
    }
   }
  },
  {
   "cell_type": "code",
   "execution_count": 38,
   "outputs": [],
   "source": [
    "## Adding product_term_length_months\n",
    "reporting_df['product_term_length_months'] = reporting_df.groupby([\"description\", 'type_of_transaction'])[\n",
    "    'revenue_month_number'].transform('max')"
   ],
   "metadata": {
    "collapsed": false,
    "pycharm": {
     "name": "#%%\n"
    }
   }
  },
  {
   "cell_type": "code",
   "execution_count": 39,
   "outputs": [],
   "source": [
    "## A bit more housekeeping\n",
    "reporting_df[['new_booking_net_chf', 'new_booking_net_buyer_currency', 'renewal_booking_net_chf', 'renewal_booking_net_buyer_currency']].replace(np.nan, 0, inplace=True)"
   ],
   "metadata": {
    "collapsed": false,
    "pycharm": {
     "name": "#%%\n"
    }
   }
  },
  {
   "cell_type": "code",
   "execution_count": 40,
   "outputs": [],
   "source": [
    "## Calculate total_revenue_net fields\n",
    "reporting_df[\"total_revenue_net_chf\"] = (\n",
    "        (reporting_df[\"new_booking_net_chf\"] + reporting_df['renewal_booking_net_chf']) / reporting_df[\"total_days\"] * reporting_df[\"product_term_length\"]\n",
    ")\n",
    "reporting_df[\"total_revenue_net_eur\"] = (\n",
    "        (reporting_df[\"new_booking_net_eur\"] + reporting_df['renewal_booking_net_eur']) / reporting_df[\"total_days\"] * reporting_df[\"product_term_length\"]\n",
    ")\n",
    "\n",
    "reporting_df[\"total_revenue_net_buyer_currency\"] = (\n",
    "        (reporting_df[\"new_booking_net_buyer_currency\"] + reporting_df['renewal_booking_net_buyer_currency']) / reporting_df[\"total_days\"] * reporting_df[\"product_term_length\"]\n",
    ")"
   ],
   "metadata": {
    "collapsed": false,
    "pycharm": {
     "name": "#%%\n"
    }
   }
  },
  {
   "cell_type": "code",
   "execution_count": 41,
   "outputs": [],
   "source": [
    "## Remove values from all lines of cols group except first\n",
    "one_line_cols = [\"vat_eur\", 'vat_chf', 'vat_buyer_currency', 'payout_eur',\n",
    "                 'payout_chf', 'payout_buyer_currency'\n",
    "                 'sales_price_eur', 'sales_price_chf',\n",
    "                 'sales_price_buyer_currency', 'fee_eur',\n",
    "                 'fee_chf', 'fee_buyer_currency', 'new_booking_net_eur', 'new_booking_net_buyer_currency',\n",
    "                 'new_booking_net_chf', 'renewal_booking_net_eur', 'renewal_booking_net_buyer_currency',\n",
    "                 'renewal_booking_net_chf', 'store_fees_eur', 'store_fees_chf',\n",
    "                 'charge_eur', 'charge_buyer_currency', 'charge_chf',\n",
    "                 'vat_percentage',\n",
    "                 'avg_price_sales_per_sub', 'avg_price_sales_per_chf', 'avg_price_sales_per_buyer_currency'\n",
    "                 'units', 'amount_chf', 'amount_buyer_currency', 'store_fees_percentage', 'payout_buyer_currency', 'avg_price_sales_per_sub_chf',\n",
    "                 'avg_price_sales_per_sub_buyer_currency'\n",
    "                 ]\n",
    "\n",
    "for col in one_line_cols:\n",
    "    reporting_df.loc[\n",
    "        reporting_df[\"revenue_month_number\"] > 1,\n",
    "        [col],\n",
    "    ] = 0.0"
   ],
   "metadata": {
    "collapsed": false,
    "pycharm": {
     "name": "#%%\n"
    }
   }
  },
  {
   "cell_type": "code",
   "execution_count": 42,
   "outputs": [],
   "source": [
    "## Google reports tax only for CH. All other countries (DE, AT & CH abroad are not reported and therefore 0). The VAT for CH should be all 7.7%.\n",
    "reporting_df['vat_percentage'] = 7.7"
   ],
   "metadata": {
    "collapsed": false,
    "pycharm": {
     "name": "#%%\n"
    }
   }
  },
  {
   "cell_type": "code",
   "execution_count": 43,
   "outputs": [],
   "source": [
    "## Remove values from all lines of cols group except first\n",
    "reporting_df.loc[\n",
    "        reporting_df[\"revenue_month_number\"] > 1,\n",
    "        ['units', 'vat_percentage', 'sales_price_eur'],\n",
    "    ] = 0.0"
   ],
   "metadata": {
    "collapsed": false,
    "pycharm": {
     "name": "#%%\n"
    }
   }
  },
  {
   "cell_type": "code",
   "execution_count": 44,
   "outputs": [],
   "source": [
    "## Standardizing the report\n",
    "reporting_df[['product_group_finance']] = ''\n",
    "reporting_df[['currency', 'subscription_status']] = np.nan\n",
    "\n",
    "## We only have paid subs in google\n",
    "reporting_df['subscription_status'] = 'paid'"
   ],
   "metadata": {
    "collapsed": false,
    "pycharm": {
     "name": "#%%\n"
    }
   }
  },
  {
   "cell_type": "code",
   "execution_count": 45,
   "outputs": [],
   "source": [
    "## Dropping dups\n",
    "reporting_df = reporting_df.drop_duplicates()"
   ],
   "metadata": {
    "collapsed": false,
    "pycharm": {
     "name": "#%%\n"
    }
   }
  },
  {
   "cell_type": "code",
   "execution_count": 46,
   "outputs": [],
   "source": [
    "## A bit more housekeeping\n",
    "reporting_df[['fee_eur', 'vat_eur', 'charge_eur', 'new_booking_net_eur', 'renewal_booking_net_eur', 'payout_eur', 'new_booking_net_chf', 'renewal_booking_net_chf', 'total_revenue_net_chf', 'exchange_rate_eur_to_chf']].replace(np.nan, 0, inplace=True)"
   ],
   "metadata": {
    "collapsed": false,
    "pycharm": {
     "name": "#%%\n"
    }
   }
  },
  {
   "cell_type": "code",
   "execution_count": 47,
   "outputs": [],
   "source": [
    "## Final clean up\n",
    "reporting_df['store_fees_eur'].replace(np.nan, 0, inplace=True)\n",
    "reporting_df['store_fees_chf'].replace(np.nan, 0, inplace=True)\n",
    "reporting_df['store_fees_percentage'].replace(np.nan, 0, inplace=True)\n",
    "reporting_df['vat_percentage'].replace(np.nan, 0, inplace=True)\n",
    "\n",
    "reporting_df['total_revenue_net_chf'].replace(np.nan, 0, inplace=True)\n",
    "reporting_df['total_revenue_net_eur'].replace(np.nan, 0, inplace=True)\n",
    "\n",
    "reporting_df['revenue_month_date'] = pd.to_datetime(reporting_df['revenue_month_date'])"
   ],
   "metadata": {
    "collapsed": false,
    "pycharm": {
     "name": "#%%\n"
    }
   }
  },
  {
   "cell_type": "code",
   "execution_count": 64,
   "outputs": [],
   "source": [
    "## Logic to mark transactions that are upgrades\n",
    "def upgrade(s):\n",
    "    if (s['product_class'] == 'ultimate') and (s['product_length'] == 31) and (s['new_booking_net_eur'] > 0 or s['new_booking_net_chf'] > 0):\n",
    "        if (s['country_code'] == 'CH' and s['new_booking_net_chf'] <= 8) or (s['country_code'] == 'DE' and s['new_booking_net_eur'] <= 5) or (s['country_code'] == 'AT' and s['new_booking_net_eur'] <= 5):\n",
    "            return 1\n",
    "    else:\n",
    "        return 0\n",
    "\n",
    "reporting_df['is_upgrade'] = reporting_df.apply(upgrade, axis=1)"
   ],
   "metadata": {
    "collapsed": false,
    "pycharm": {
     "name": "#%%\n"
    }
   }
  },
  {
   "cell_type": "code",
   "execution_count": 67,
   "outputs": [],
   "source": [
    "## Reorder dataframe\n",
    "reporting_df = reporting_df[\n",
    "    [\n",
    "        # 'transaction_id',\n",
    "        'description',\n",
    "        'transaction_date',\n",
    "        'term_end',\n",
    "        'reporting_month',\n",
    "        'country_name',\n",
    "        'country_code',\n",
    "        # 'currency',\n",
    "        'buyer_currency',\n",
    "        # 'merchant_currency',\n",
    "        'sku',\n",
    "        'subscription_status',\n",
    "        'type_of_transaction',\n",
    "        'payment_method',\n",
    "        'product_class',\n",
    "        'product_group_finance',\n",
    "        'product_length',\n",
    "        'product_length_months',\n",
    "        'product_term_length',\n",
    "        'domestic_abroad',\n",
    "        'vat_percentage',\n",
    "        'exchange_rate_eur_to_chf',\n",
    "        'store_fees_eur',\n",
    "        'store_fees_chf',\n",
    "        'store_fees_percentage',\n",
    "        'units',\n",
    "        'charge_eur',\n",
    "        'sales_price_eur',\n",
    "        'fee_eur',\n",
    "        'vat_eur',\n",
    "        'new_booking_net_eur',\n",
    "        'renewal_booking_net_eur',\n",
    "        'payout_eur',\n",
    "        'total_revenue_net_eur',\n",
    "        'charge_chf',\n",
    "        'sales_price_chf',\n",
    "        'fee_chf',\n",
    "        'vat_chf',\n",
    "        'new_booking_net_chf',\n",
    "        'renewal_booking_net_chf',\n",
    "        'payout_chf',\n",
    "        'total_revenue_net_chf',\n",
    "        'revenue_month_number',\n",
    "        'revenue_month_date',\n",
    "        'active_sub_month_end',\n",
    "        'active_sub_content'\n",
    "    ]\n",
    "]\n",
    "\n",
    "## Define BQ table schema\n",
    "bq_schema = [\n",
    "    {\"name\": \"transaction_id\", \"type\": \"STRING\"},\n",
    "    {\"name\": \"transaction_date\", \"type\": \"TIMESTAMP\"},\n",
    "    {\"name\": \"term_end\", \"type\": \"TIMESTAMP\"},\n",
    "    {\"name\": \"reporting_month\", \"type\": \"STRING\"},\n",
    "    {\"name\": \"country_name\", \"type\": \"STRING\"},\n",
    "    {\"name\": \"country_code\", \"type\": \"STRING\"},\n",
    "    {\"name\": \"currency\", \"type\": \"STRING\"},\n",
    "    # {\"name\": \"buyer_currency\", \"type\": \"STRING\"},\n",
    "    # {\"name\": \"merchant_currency\", \"type\": \"STRING\"},\n",
    "    {\"name\": \"sku\", \"type\": \"STRING\"},\n",
    "    {\"name\": \"subscription_status\", \"type\": \"STRING\"},\n",
    "    {\"name\": \"type_of_transaction\", \"type\": \"STRING\"},\n",
    "    {\"name\": \"payment_method\", \"type\": \"STRING\"},\n",
    "    {\"name\": \"product_class\", \"type\": \"STRING\"},\n",
    "    {\"name\": \"product_group_finance\", \"type\": \"STRING\"},\n",
    "    {\"name\": \"product_length\", \"type\": \"INTEGER\"},\n",
    "    {\"name\": \"product_length_months\", \"type\": \"INTEGER\"},\n",
    "    {\"name\": \"product_term_length\", \"type\": \"INTEGER\"},\n",
    "    {\"name\": \"domestic_abroad\", \"type\": \"STRING\"},\n",
    "    {\"name\": \"vat_percentage\", \"type\": \"FLOAT\"},\n",
    "    {\"name\": \"exchange_rate_eur_to_chf\", \"type\": \"FLOAT\"},\n",
    "    {\"name\": \"store_fees_eur\", \"type\": \"INTEGER\"},\n",
    "    {\"name\": \"store_fees_chf\", \"type\": \"INTEGER\"},\n",
    "    {\"name\": \"store_fees_percentage\", \"type\": \"INTEGER\"},\n",
    "    {\"name\": \"units\", \"type\": \"INTEGER\"},\n",
    "    {\"name\": \"charge_eur\", \"type\": \"FLOAT\"},\n",
    "    {\"name\": \"sales_price_eur\", \"type\": \"FLOAT\"},\n",
    "    {\"name\": \"fee_eur\", \"type\": \"FLOAT\"},\n",
    "    {\"name\": \"vat_eur\", \"type\": \"FLOAT\"},\n",
    "    {\"name\": \"new_booking_net_eur\", \"type\": \"FLOAT\"},\n",
    "    {\"name\": \"renewal_booking_net_eur\", \"type\": \"FLOAT\"},\n",
    "    {\"name\": \"payout_eur\", \"type\": \"FLOAT\"},\n",
    "    {\"name\": \"total_revenue_net_eur\", \"type\": \"FLOAT\"},\n",
    "    {\"name\": \"charge_chf\", \"type\": \"FLOAT\"},\n",
    "    {\"name\": \"sales_price_chf\", \"type\": \"FLOAT\"},\n",
    "    {\"name\": \"fee_chf\", \"type\": \"FLOAT\"},\n",
    "    {\"name\": \"vat_chf\", \"type\": \"FLOAT\"},\n",
    "    {\"name\": \"new_booking_net_chf\", \"type\": \"FLOAT\"},\n",
    "    {\"name\": \"renewal_booking_net_chf\", \"type\": \"FLOAT\"},\n",
    "    {\"name\": \"payout_chf\", \"type\": \"FLOAT\"},\n",
    "    {\"name\": \"total_revenue_net_chf\", \"type\": \"FLOAT\"},\n",
    "    {\"name\": \"revenue_month_number\", \"type\": \"INTEGER\"},\n",
    "    {\"name\": \"revenue_month_date\", \"type\": \"TIMESTAMP\"},\n",
    "    {\"name\": \"active_sub_month_end\", \"type\": \"INTEGER\"},\n",
    "    {\"name\": \"active_sub_content\", \"type\": \"INTEGER\"}\n",
    "]"
   ],
   "metadata": {
    "collapsed": false,
    "pycharm": {
     "name": "#%%\n"
    }
   }
  },
  {
   "cell_type": "code",
   "execution_count": 68,
   "outputs": [],
   "source": [
    "## Final clean up before exporting\n",
    "reporting_df.rename({'buyer_currency': 'currency',\n",
    "                    'description': 'transaction_id'},\n",
    "                    axis=1, inplace=True)"
   ],
   "metadata": {
    "collapsed": false,
    "pycharm": {
     "name": "#%%\n"
    }
   }
  },
  {
   "cell_type": "code",
   "execution_count": 69,
   "outputs": [],
   "source": [
    "## Export to csv\n",
    "path = r\"/Users/miguelcouto/Desktop/\"\n",
    "\n",
    "reporting_df.to_csv(os.path.join(path, fr'subs_reporting_google{reporting_month[0].replace(\"-\", \"_\")}.csv'))"
   ],
   "metadata": {
    "collapsed": false,
    "pycharm": {
     "name": "#%%\n"
    }
   }
  },
  {
   "cell_type": "code",
   "execution_count": 70,
   "outputs": [],
   "source": [
    "## Export to BQ table\n",
    "pandas_gbq.to_gbq(\n",
    "    dataframe=reporting_df,\n",
    "    destination_table=f\"finance.subs_reporting_google{reporting_month[0].replace('-', '')}\",\n",
    "    project_id=\"zattoo-dataeng\",\n",
    "    if_exists=\"replace\",\n",
    "    progress_bar=None,\n",
    "    table_schema=bq_schema,\n",
    ")"
   ],
   "metadata": {
    "collapsed": false,
    "pycharm": {
     "name": "#%%\n"
    }
   }
  }
 ],
 "metadata": {
  "kernelspec": {
   "display_name": "Python 3",
   "language": "python",
   "name": "python3"
  },
  "language_info": {
   "codemirror_mode": {
    "name": "ipython",
    "version": 3
   },
   "file_extension": ".py",
   "mimetype": "text/x-python",
   "name": "python",
   "nbconvert_exporter": "python",
   "pygments_lexer": "ipython3",
   "version": "3.9.4"
  }
 },
 "nbformat": 4,
 "nbformat_minor": 4
}
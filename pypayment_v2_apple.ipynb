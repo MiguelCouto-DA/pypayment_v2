{
 "cells": [
  {
   "cell_type": "code",
   "execution_count": 1157,
   "outputs": [],
   "source": [
    "#%load_ext lab_black"
   ],
   "metadata": {
    "collapsed": false,
    "pycharm": {
     "name": "#%%\n"
    }
   }
  },
  {
   "cell_type": "code",
   "execution_count": 1158,
   "outputs": [],
   "source": [
    "## Importing all needed libraries and modules\n",
    "## Setting up BigQuery access credentials for SQL parsing of reporting data\n",
    "from google.cloud import bigquery\n",
    "from google.oauth2 import service_account\n",
    "import pandas_gbq\n",
    "import pandas as pd\n",
    "import numpy as np\n",
    "import os\n",
    "import warnings\n",
    "from datetime import datetime, timedelta\n",
    "\n",
    "pd.set_option('display.max_columns', None)\n",
    "warnings.filterwarnings('ignore')\n",
    "\n",
    "credentials = service_account.Credentials.from_service_account_file(\n",
    "    \"/Users/miguelcouto/Downloads/zattoo-dataeng-e5f45785174f.json\"\n",
    ")\n",
    "\n",
    "project_id = \"zattoo-dataeng\"\n",
    "client = bigquery.Client(credentials=credentials, project=project_id)"
   ],
   "metadata": {
    "collapsed": false,
    "pycharm": {
     "name": "#%%\n"
    }
   }
  },
  {
   "cell_type": "code",
   "execution_count": 1159,
   "outputs": [],
   "source": [
    "## Prepare dataframe\n",
    "dtype = ({'Apple Identifier': 'float64',\n",
    "          'SKU': 'object',\n",
    "          'Title': 'object',\n",
    "          'Developer Name': 'object',\n",
    "          'Product Type Identifier': 'object',\n",
    "          'Country of Sale': 'object',\n",
    "          'Quantity': 'float64',\n",
    "          'Partner Share': 'float64',\n",
    "          'Extended Partner Share': 'float64',\n",
    "          'Partner Share Currency': 'object',\n",
    "          'Customer Price': 'float64',\n",
    "          'Customer Currency': 'object',\n",
    "          'Sale or Return': 'object',\n",
    "          'Promo Code': 'object',\n",
    "          'Order Type': 'object',\n",
    "          'Region': 'object'})\n",
    "\n",
    "parse_dates = ['Transaction Date', 'Settlement Date']\n",
    "\n",
    "df1 = pd.read_csv('/Users/miguelcouto/PycharmProjects/pypayment_v2/raw/apple/FD_85087889_0322.txt', header=1,\n",
    "                  skiprows=3, delimiter=\"\\t\", names=['Transaction Date', 'Settlement Date', 'Apple Identifier', 'SKU',\n",
    "                                                     'Title', 'Developer Name', 'Product Type Identifier',\n",
    "                                                     'Country of Sale',\n",
    "                                                     'Quantity', 'Partner Share', 'Extended Partner Share',\n",
    "                                                     'Partner Share Currency', 'Customer Price', 'Customer Currency',\n",
    "                                                     'Sale or Return', 'Promo Code', 'Order Type', 'Region'],\n",
    "                  )\n",
    "\n",
    "df2 = pd.read_csv('/Users/miguelcouto/PycharmProjects/pypayment_v2/raw/apple/FD_85136436_0322.txt', header=1,\n",
    "                  skiprows=3, delimiter=\"\\t\", names=['Transaction Date', 'Settlement Date', 'Apple Identifier', 'SKU',\n",
    "                                                     'Title', 'Developer Name', 'Product Type Identifier',\n",
    "                                                     'Country of Sale',\n",
    "                                                     'Quantity', 'Partner Share', 'Extended Partner Share',\n",
    "                                                     'Partner Share Currency', 'Customer Price', 'Customer Currency',\n",
    "                                                     'Sale or Return', 'Promo Code', 'Order Type', 'Region'],\n",
    "                  )\n",
    "\n",
    "df1 = df1.reset_index().shift(1, axis=1)\n",
    "df1 = df1.loc[:, df1.columns != 'index']\n",
    "\n",
    "df2 = df2.reset_index().shift(1, axis=1)\n",
    "df2 = df2.loc[:, df2.columns != 'index']\n",
    "\n",
    "df = pd.concat([df1, df2])"
   ],
   "metadata": {
    "collapsed": false,
    "pycharm": {
     "name": "#%%\n"
    }
   }
  },
  {
   "cell_type": "code",
   "execution_count": 1160,
   "outputs": [],
   "source": [
    "## Renaming and reordering the dataframe so it keeps consistency with the reports from the other app shops\n",
    "reporting_df = df[\n",
    "    ['Settlement Date', 'SKU',\n",
    "     'Country of Sale', 'Quantity', 'Partner Share', 'Extended Partner Share',\n",
    "     'Partner Share Currency', 'Customer Price', 'Customer Currency',\n",
    "     'Sale or Return']]\n",
    "\n",
    "reporting_df.rename({\n",
    "    'Settlement Date': 'transaction_date',\n",
    "    'SKU': 'vendor_sku',\n",
    "    'Country of Sale': 'buyer_country_code',\n",
    "    'Customer Currency': 'buyer_currency',\n",
    "    'Partner Share': 'net_booking',\n",
    "    'Extended Partner Share': 'extended_net_booking',\n",
    "    'Partner Share Currency': 'merchant_currency',\n",
    "    'Currency Conversion Rate': 'currency_conversion_rate',\n",
    "    'Customer Price': 'sales_price',\n",
    "    'Quantity': 'units',\n",
    "    'Sale or Return': 'sale_return',\n",
    "},\n",
    "    axis=1, inplace=True)\n",
    "\n",
    "## Converting date columns to datetime and getting rid of unnecessary columns\n",
    "reporting_df['transaction_date'] = pd.to_datetime(reporting_df['transaction_date'])\n",
    "## Adding fake timestamp due to lack of it in the original apple reports\n",
    "reporting_df['transaction_date'] = reporting_df['transaction_date'] + timedelta(hours=23, minutes=59, seconds=59)"
   ],
   "metadata": {
    "collapsed": false,
    "pycharm": {
     "name": "#%%\n"
    }
   }
  },
  {
   "cell_type": "code",
   "execution_count": 1161,
   "outputs": [],
   "source": [
    "## We only report DE, CH, AT. Everything except DACH goes to CH attributed abroad in the column domestic_abroad.\n",
    "reporting_df['domestic_abroad'] = 'domestic'\n",
    "\n",
    "reporting_df['country_code_clean'] = pd.np.where(\n",
    "    reporting_df['buyer_country_code'].str.lower() == 'de', 'DE',\n",
    "    pd.np.where(reporting_df['buyer_country_code'].str.lower() == 'at', 'AT',\n",
    "                pd.np.where(reporting_df['buyer_country_code'].str.lower() == 'ch', 'CH', 'DE')))"
   ],
   "metadata": {
    "collapsed": false,
    "pycharm": {
     "name": "#%%\n"
    }
   }
  },
  {
   "cell_type": "code",
   "execution_count": 1162,
   "outputs": [],
   "source": [
    "## Finance Subs reporting will happen once at end of each month and for that the reporting_month will be defined based on the mode of the transaction_date.\n",
    "reporting_df['reporting_month'] = reporting_df['transaction_date'].dt.to_period('M').dt.strftime('%Y-%m')\n",
    "reporting_month = reporting_df.reporting_month.mode()\n",
    "reporting_df['reporting_month'] = reporting_df['reporting_month'].apply(lambda x: reporting_month)"
   ],
   "metadata": {
    "collapsed": false,
    "pycharm": {
     "name": "#%%\n"
    }
   }
  },
  {
   "cell_type": "code",
   "execution_count": 1163,
   "outputs": [],
   "source": [
    "## Adding payment_method column\n",
    "reporting_df['payment_method'] = 'apple'"
   ],
   "metadata": {
    "collapsed": false,
    "pycharm": {
     "name": "#%%\n"
    }
   }
  },
  {
   "cell_type": "code",
   "execution_count": 1164,
   "outputs": [],
   "source": [
    "## SQL query to enrich the dataframe with more specific product data (class, detailed class, length)\n",
    "skus_list = str(set(reporting_df['vendor_sku'].to_list()))\n",
    "\n",
    "skus_expand = f\"\"\"select distinct rlv.SKU as sku,\n",
    "                rlv.product_class,\n",
    "                rlv.detailed_product_class,\n",
    "                rlv.product_length\n",
    "from b2c_middleware.reporting_layer_view rlv\n",
    "where true\n",
    "  and rlv.SKU in ({skus_list[1:-1]})\n",
    "  and rlv.app_shop_id = 'apple'\n",
    "  and rlv.product_class is not null\n",
    "  and rlv.detailed_product_class is not null\n",
    "  ;\"\"\"\n",
    "\n",
    "df_skus_expand = pandas_gbq.read_gbq(skus_expand, project_id=project_id, progress_bar_type=None)\n",
    "\n",
    "reporting_df = reporting_df.merge(df_skus_expand, how='left',\n",
    "                                  left_on='vendor_sku', right_on='sku').drop('vendor_sku', axis=1)"
   ],
   "metadata": {
    "collapsed": false,
    "pycharm": {
     "name": "#%%\n"
    }
   }
  },
  {
   "cell_type": "code",
   "execution_count": 1165,
   "outputs": [],
   "source": [
    "## Creating product_length_months column\n",
    "reporting_df['product_length_months'] = reporting_df['product_length']\n",
    "\n",
    "reporting_df['product_length_months'] = reporting_df['product_length'].replace(\n",
    "    {31: 1, 92: 3, 365: 12})"
   ],
   "metadata": {
    "collapsed": false,
    "pycharm": {
     "name": "#%%\n"
    }
   }
  },
  {
   "cell_type": "code",
   "execution_count": 1166,
   "outputs": [],
   "source": [
    "## Build join to dim.countries and get country_names\n",
    "dim_countries = \"\"\"\n",
    "select distinct countrycode as country_code,\n",
    "                name as country_name\n",
    "from dim.countries\n",
    ";\n",
    "\"\"\"\n",
    "\n",
    "df_countries = pandas_gbq.read_gbq(dim_countries, project_id=project_id, progress_bar_type=None)\n",
    "\n",
    "reporting_df = reporting_df.merge(df_countries, how='left', left_on='country_code_clean', right_on='country_code')"
   ],
   "metadata": {
    "collapsed": false,
    "pycharm": {
     "name": "#%%\n"
    }
   }
  },
  {
   "cell_type": "code",
   "execution_count": 1167,
   "outputs": [],
   "source": [
    "## SQL query to enrich the dataframe with exchange rate data\n",
    "currencies = reporting_df[(~reporting_df['buyer_country_code'].isin(['CH', 'AT', 'DE'])) & (reporting_df['buyer_currency'] != 'EUR')]['buyer_currency'].unique()\n",
    "currencies_lst = str(set(reporting_df[(~reporting_df['buyer_country_code'].isin(['CH', 'AT', 'DE'])) & (reporting_df['buyer_currency'] != 'EUR')]['buyer_currency'].to_list()))\n",
    "\n",
    "currencies_expand = f\"\"\"\n",
    "select pe.day,\n",
    "       pe.from_currency,\n",
    "       pe.to_currency,\n",
    "       pe.exchange_rate,\n",
    "       pe_eur.exchange_rate AS exchange_rate_eur_to_chf,\n",
    "       pe.from_currency_quantity\n",
    "from b2c_middleware_import.payment_exchangerate pe\n",
    "         LEFT JOIN b2c_middleware_import.payment_exchangerate pe_eur\n",
    "                   ON pe_eur.from_currency = 'EUR' AND DATE_TRUNC(pe_eur.day, MONTH) =\n",
    "                           \"{reporting_month[0]}-01\"\n",
    "where true\n",
    "  and pe.from_currency in ('CHF', 'EUR', {currencies_lst[1:-1]})\n",
    "  and pe.day = \"{reporting_month[0]}-01\"\n",
    "  and pe_eur.day = \"{reporting_month[0]}-01\"\n",
    "  ;\"\"\"\n",
    "\n",
    "df_currencies_expand = pandas_gbq.read_gbq(currencies_expand, project_id=project_id, progress_bar_type=None)\n",
    "\n",
    "reporting_df = reporting_df.merge(df_currencies_expand, how='left',\n",
    "                                  left_on='buyer_currency', right_on='from_currency')"
   ],
   "metadata": {
    "collapsed": false,
    "pycharm": {
     "name": "#%%\n"
    }
   }
  },
  {
   "cell_type": "code",
   "execution_count": 1168,
   "outputs": [],
   "source": [
    "## Renaming fields for later calculations\n",
    "reporting_df.rename({'index': 'description'},\n",
    "                    axis=1, inplace=True)"
   ],
   "metadata": {
    "collapsed": false,
    "pycharm": {
     "name": "#%%\n"
    }
   }
  },
  {
   "cell_type": "code",
   "execution_count": 1169,
   "outputs": [],
   "source": [
    "## Adding is_refund field based on apple's sale_return\n",
    "reporting_df['is_refund'] = [0 if x  == \"S\" else 1 for x in reporting_df[\"sale_return\"]]"
   ],
   "metadata": {
    "collapsed": false,
    "pycharm": {
     "name": "#%%\n"
    }
   }
  },
  {
   "cell_type": "code",
   "execution_count": 1170,
   "outputs": [],
   "source": [
    "## Dropping unnecessary fields\n",
    "reporting_df.drop(['extended_net_booking', 'sale_return'], axis=1, inplace=True)"
   ],
   "metadata": {
    "collapsed": false,
    "pycharm": {
     "name": "#%%\n"
    }
   }
  },
  {
   "cell_type": "code",
   "execution_count": 1171,
   "outputs": [],
   "source": [
    "## Transforming units sign to negative for refunds\n",
    "reporting_df['net_booking'][reporting_df['units'] < 0] = reporting_df['net_booking'][reporting_df['units'] < 0] * -1\n",
    "\n",
    "reporting_df = reporting_df.loc[reporting_df.index.repeat(reporting_df.units.abs())].reset_index()\n",
    "reporting_df['units'] = [-1 if x < 0 else 1 if x > 0 else 0 for x in reporting_df[\"units\"]]"
   ],
   "metadata": {
    "collapsed": false,
    "pycharm": {
     "name": "#%%\n"
    }
   }
  },
  {
   "cell_type": "code",
   "execution_count": 1173,
   "outputs": [],
   "source": [
    "## Calculating new net bookings for apple\n",
    "reporting_df['new_booking_net_chf'] = reporting_df['net_booking'][(reporting_df['buyer_currency'] == 'CHF')]\n",
    "\n",
    "reporting_df['new_booking_net_chf'][(reporting_df.new_booking_net_chf.isna()) & (reporting_df.buyer_currency != 'CHF') & (reporting_df.buyer_currency == 'EUR')] = reporting_df['net_booking'][(reporting_df.new_booking_net_chf.isna()) & (reporting_df.buyer_currency != 'CHF') & (reporting_df.buyer_currency == 'EUR')] * reporting_df[(reporting_df.new_booking_net_chf.isna()) & (reporting_df.buyer_currency != 'CHF') & (reporting_df.buyer_currency == 'EUR')]['exchange_rate'] / reporting_df[(reporting_df.new_booking_net_chf.isna()) & (reporting_df.buyer_currency != 'CHF') & (reporting_df.buyer_currency == 'EUR')]['from_currency_quantity']\n",
    "\n",
    "reporting_df['new_booking_net_eur'] = 0\n",
    "\n",
    "reporting_df['new_booking_net_eur'][(reporting_df.buyer_currency == 'CHF') & (reporting_df.buyer_country_code == 'CH')] = reporting_df['net_booking'][(reporting_df.buyer_currency == 'CHF') & (reporting_df.buyer_country_code == 'CH')] / (reporting_df[(reporting_df.buyer_currency == 'CHF') & (reporting_df.buyer_country_code == 'CH')]['exchange_rate_eur_to_chf']) / (reporting_df[(reporting_df.buyer_currency == 'CHF') & (reporting_df.buyer_country_code == 'CH')]['from_currency_quantity'])\n",
    "\n",
    "## For those currencies != CHF and EUR and outside of CH will first need to convert to CHF and then EUR\n",
    "reporting_df['new_booking_net_eur'][(reporting_df.new_booking_net_chf.isna()) & (reporting_df.buyer_currency != 'CHF') & (reporting_df.buyer_currency != 'EUR')] = reporting_df['net_booking'][(reporting_df.new_booking_net_chf.isna()) & (reporting_df.buyer_currency != 'CHF') & (reporting_df.buyer_currency != 'EUR')] * (reporting_df[(reporting_df.new_booking_net_chf.isna()) & (reporting_df.buyer_currency != 'CHF') & (reporting_df.buyer_currency != 'EUR')]['exchange_rate']) / (reporting_df[(reporting_df.new_booking_net_chf.isna()) & (reporting_df.buyer_currency != 'CHF') & (reporting_df.buyer_currency != 'EUR')]['from_currency_quantity'])\n",
    "\n",
    "reporting_df['new_booking_net_eur'][(reporting_df.buyer_currency == 'EUR')] = reporting_df['net_booking'][(reporting_df.buyer_currency == 'EUR')]\n",
    "\n",
    "reporting_df['new_booking_net_chf'][(reporting_df.new_booking_net_chf.isna()) & (reporting_df.buyer_currency != 'CHF') & (reporting_df.buyer_currency != 'EUR')] = reporting_df['new_booking_net_eur'][(reporting_df.new_booking_net_chf.isna()) & (reporting_df.buyer_currency != 'CHF') & (reporting_df.buyer_currency != 'EUR')] * (reporting_df[(reporting_df.new_booking_net_chf.isna()) & (reporting_df.buyer_currency != 'CHF') & (reporting_df.buyer_currency != 'EUR')]['exchange_rate_eur_to_chf'])\n",
    "\n",
    "reporting_df['new_booking_net_chf'].replace(np.nan, 0, inplace=True)\n",
    "reporting_df['new_booking_net_eur'].replace(np.nan, 0, inplace=True)"
   ],
   "metadata": {
    "collapsed": false,
    "pycharm": {
     "name": "#%%\n"
    }
   }
  },
  {
   "cell_type": "code",
   "execution_count": 1174,
   "outputs": [],
   "source": [
    "## Calculating sales price for apple\n",
    "reporting_df['sales_price_chf'] = reporting_df['sales_price'][(reporting_df['buyer_currency'] == 'CHF')]\n",
    "\n",
    "reporting_df['sales_price_chf'][(reporting_df.sales_price_chf.isna()) & (reporting_df.buyer_currency != 'CHF') & (reporting_df.buyer_currency == 'EUR')] = reporting_df['sales_price'][(reporting_df.sales_price_chf.isna()) & (reporting_df.buyer_currency != 'CHF') & (reporting_df.buyer_currency == 'EUR')] * reporting_df[(reporting_df.sales_price_chf.isna()) & (reporting_df.buyer_currency != 'CHF') & (reporting_df.buyer_currency == 'EUR')]['exchange_rate'] / reporting_df[(reporting_df.sales_price_chf.isna()) & (reporting_df.buyer_currency != 'CHF') & (reporting_df.buyer_currency == 'EUR')]['from_currency_quantity']\n",
    "\n",
    "reporting_df['sales_price_eur'] = 0\n",
    "\n",
    "reporting_df['sales_price_eur'][(reporting_df.buyer_currency == 'CHF') & (reporting_df.buyer_country_code == 'CH')] = reporting_df['sales_price'][(reporting_df.buyer_currency == 'CHF') & (reporting_df.buyer_country_code == 'CH')] / (reporting_df[(reporting_df.buyer_currency == 'CHF') & (reporting_df.buyer_country_code == 'CH')]['exchange_rate_eur_to_chf']) / (reporting_df[(reporting_df.buyer_currency == 'CHF') & (reporting_df.buyer_country_code == 'CH')]['from_currency_quantity'])\n",
    "\n",
    "## For those currencies != CHF and EUR and outside of CH will first need to convert to CHF and then EUR\n",
    "reporting_df['sales_price_eur'][(reporting_df.sales_price_chf.isna()) & (reporting_df.buyer_currency != 'CHF') & (reporting_df.buyer_currency != 'EUR')] = reporting_df['sales_price'][(reporting_df.sales_price_chf.isna()) & (reporting_df.buyer_currency != 'CHF') & (reporting_df.buyer_currency != 'EUR')] * (reporting_df[(reporting_df.sales_price_chf.isna()) & (reporting_df.buyer_currency != 'CHF') & (reporting_df.buyer_currency != 'EUR')]['exchange_rate']) / (reporting_df[(reporting_df.sales_price_chf.isna()) & (reporting_df.buyer_currency != 'CHF') & (reporting_df.buyer_currency != 'EUR')]['from_currency_quantity'])\n",
    "\n",
    "reporting_df['sales_price_eur'][(reporting_df.buyer_currency == 'EUR')] = reporting_df['sales_price'][(reporting_df.buyer_currency == 'EUR')]\n",
    "\n",
    "reporting_df['sales_price_chf'][(reporting_df.sales_price_chf.isna()) & (reporting_df.buyer_currency != 'CHF') & (reporting_df.buyer_currency != 'EUR')] = reporting_df['sales_price_eur'][(reporting_df.sales_price_chf.isna()) & (reporting_df.buyer_currency != 'CHF') & (reporting_df.buyer_currency != 'EUR')] * (reporting_df[(reporting_df.sales_price_chf.isna()) & (reporting_df.buyer_currency != 'CHF') & (reporting_df.buyer_currency != 'EUR')]['exchange_rate_eur_to_chf'])\n",
    "\n",
    "reporting_df['sales_price_chf'].replace(np.nan, 0, inplace=True)\n",
    "reporting_df['sales_price_eur'].replace(np.nan, 0, inplace=True)"
   ],
   "metadata": {
    "collapsed": false,
    "pycharm": {
     "name": "#%%\n"
    }
   }
  },
  {
   "cell_type": "code",
   "execution_count": 1175,
   "outputs": [],
   "source": [
    "## Calculating store fees\n",
    "reporting_df['store_fees_percentage'] = 15\n",
    "reporting_df['fee_eur'] = reporting_df['sales_price_eur'] * reporting_df['store_fees_percentage'] / 100\n",
    "reporting_df['fee_chf'] = reporting_df['sales_price_chf'] * reporting_df['store_fees_percentage'] / 100"
   ],
   "metadata": {
    "collapsed": false,
    "pycharm": {
     "name": "#%%\n"
    }
   }
  },
  {
   "cell_type": "code",
   "execution_count": 1176,
   "outputs": [],
   "source": [
    "## Calculating payout for apple\n",
    "reporting_df['payout_chf'] = reporting_df['sales_price_chf'] - reporting_df['fee_chf']\n",
    "reporting_df['payout_eur'] = reporting_df['sales_price_eur'] - reporting_df['fee_eur']"
   ],
   "metadata": {
    "collapsed": false,
    "pycharm": {
     "name": "#%%\n"
    }
   }
  },
  {
   "cell_type": "code",
   "execution_count": 1177,
   "outputs": [],
   "source": [
    "## Calculating VAT for apple\n",
    "reporting_df['vat_chf'] = 0\n",
    "reporting_df['vat_eur'] = 0\n",
    "\n",
    "reporting_df['vat_chf'] = reporting_df['payout_chf'] - reporting_df['new_booking_net_chf']\n",
    "reporting_df['vat_eur'] = reporting_df['payout_eur'] - reporting_df['new_booking_net_eur']"
   ],
   "metadata": {
    "collapsed": false,
    "pycharm": {
     "name": "#%%\n"
    }
   }
  },
  {
   "cell_type": "code",
   "execution_count": 1178,
   "outputs": [],
   "source": [
    "## Calculating charge for apple\n",
    "reporting_df['charge_chf'] = reporting_df['sales_price_chf'] - reporting_df['vat_chf']\n",
    "reporting_df['charge_eur'] = reporting_df['sales_price_eur'] - reporting_df['vat_eur']"
   ],
   "metadata": {
    "collapsed": false,
    "pycharm": {
     "name": "#%%\n"
    }
   }
  },
  {
   "cell_type": "code",
   "execution_count": 1179,
   "outputs": [],
   "source": [
    "## apple vat percentage\n",
    "reporting_df['vat_percentage'] = 0\n",
    "\n",
    "reporting_df['vat_percentage'] = round(reporting_df['vat_chf'] / reporting_df['new_booking_net_chf'] * 100, 1)"
   ],
   "metadata": {
    "collapsed": false,
    "pycharm": {
     "name": "#%%\n"
    }
   }
  },
  {
   "cell_type": "code",
   "execution_count": 1180,
   "outputs": [],
   "source": [
    "# ## avg_price_sales_per_sub calculation\n",
    "reporting_df['avg_price_sales_per_sub_chf'] = reporting_df['sales_price_chf'] / reporting_df['units']\n",
    "reporting_df['avg_price_sales_per_sub_eur'] = reporting_df['sales_price_eur'] / reporting_df['units']\n",
    "\n",
    "## Clean up the house, yeah.\n",
    "reporting_df['avg_price_sales_per_sub_chf'].replace(np.nan, 0, inplace=True)\n",
    "reporting_df['avg_price_sales_per_sub_eur'].replace(np.nan, 0, inplace=True)\n",
    "\n",
    "## Cleaning up a bit more\n",
    "reporting_df.replace(np.inf, 0, inplace=True)\n",
    "reporting_df.replace(-np.inf, 0, inplace=True)"
   ],
   "metadata": {
    "collapsed": false,
    "pycharm": {
     "name": "#%%\n"
    }
   }
  },
  {
   "cell_type": "code",
   "execution_count": 1181,
   "outputs": [],
   "source": [
    "## Adding artificially created term_end_date based on initial transaction_date\n",
    "reporting_df['term_end'] = reporting_df['transaction_date'] + reporting_df['product_length'].astype('timedelta64[D]')"
   ],
   "metadata": {
    "collapsed": false,
    "pycharm": {
     "name": "#%%\n"
    }
   }
  },
  {
   "cell_type": "code",
   "execution_count": 1182,
   "outputs": [],
   "source": [
    "## Calculate product_term_length_months\n",
    "reporting_df[\"product_term_length_months\"] = (\n",
    "        (reporting_df[\"term_end\"].dt.year - reporting_df[\"transaction_date\"].dt.year) * 12\n",
    "        + (reporting_df[\"term_end\"].dt.month - reporting_df[\"transaction_date\"].dt.month)\n",
    "        + 1\n",
    ")\n",
    "\n",
    "## A bit of housekeeping\n",
    "reporting_df[\"product_term_length_months\"][reporting_df[\"product_term_length_months\"] < 0] = 0"
   ],
   "metadata": {
    "collapsed": false,
    "pycharm": {
     "name": "#%%\n"
    }
   }
  },
  {
   "cell_type": "code",
   "execution_count": 1183,
   "outputs": [],
   "source": [
    "## Replacing product_term_length_months for exceptions where value is 2 instead of 1\n",
    "shorter_subs = (reporting_df['term_end'] - reporting_df['transaction_date']).dt.days <= 30\n",
    "shorter_subs_replacer = reporting_df[shorter_subs][\n",
    "    (reporting_df[\"product_term_length_months\"] == 2) & ((reporting_df['term_end']).dt.day == 1)].index.to_list()\n",
    "reporting_df[\"product_term_length_months\"].loc[shorter_subs_replacer] = 1"
   ],
   "metadata": {
    "collapsed": false,
    "pycharm": {
     "name": "#%%\n"
    }
   }
  },
  {
   "cell_type": "code",
   "execution_count": 1184,
   "outputs": [],
   "source": [
    "## Adding revenue_month_number - this will help in further calculations\n",
    "reporting_df = reporting_df.loc[reporting_df.index.repeat(reporting_df['product_term_length_months'])].reset_index(\n",
    "    )\n",
    "reporting_df['revenue_month_number'] = 1\n",
    "reporting_df['revenue_month_number'] = reporting_df.groupby([\"level_0\"])[\n",
    "    'revenue_month_number'].cumsum()"
   ],
   "metadata": {
    "collapsed": false,
    "pycharm": {
     "name": "#%%\n"
    }
   }
  },
  {
   "cell_type": "code",
   "execution_count": 1185,
   "outputs": [],
   "source": [
    "## Renaming for better understanding of process throughout all reports\n",
    "reporting_df.rename({'level_0': 'description'}, axis=1, inplace=True)\n",
    "reporting_df.drop(\"index\", axis=1, inplace=True)"
   ],
   "metadata": {
    "collapsed": false,
    "pycharm": {
     "name": "#%%\n"
    }
   }
  },
  {
   "cell_type": "code",
   "execution_count": 1186,
   "outputs": [],
   "source": [
    "## Adding max_month_date to tackle the specifications of active_sub_month_end\n",
    "reporting_df['max_month_date'] = reporting_df.groupby([reporting_df['term_end'].dt.to_period('M')])[\n",
    "    'term_end'].transform('max')\n",
    "reporting_df['max_month_date'] = reporting_df['max_month_date'].dt.normalize() + pd.Timedelta('23:59:59')"
   ],
   "metadata": {
    "collapsed": false,
    "pycharm": {
     "name": "#%%\n"
    }
   }
  },
  {
   "cell_type": "code",
   "execution_count": 1187,
   "outputs": [],
   "source": [
    "## Get last indices of each transaction_id group\n",
    "frames = reporting_df.reset_index().groupby(\n",
    "    [\"description\"])[\"index\"].last().to_frame()\n",
    "last_idxs_charges = np.array(frames['index'].to_list())\n",
    "\n",
    "## Add revenue_month_date\n",
    "reporting_df[\"revenue_month_date\"] = reporting_df[\"transaction_date\"].to_numpy().astype(\"datetime64[M]\")"
   ],
   "metadata": {
    "collapsed": false,
    "pycharm": {
     "name": "#%%\n"
    }
   }
  },
  {
   "cell_type": "code",
   "execution_count": 1188,
   "outputs": [],
   "source": [
    "## Adding revenue_month_date\n",
    "reporting_df[\"revenue_month_date\"] = reporting_df.apply(\n",
    "    lambda x: x[\"revenue_month_date\"]\n",
    "              + pd.offsets.MonthEnd(x[\"revenue_month_number\"])\n",
    "              + pd.offsets.MonthBegin(-1),\n",
    "    axis=1,\n",
    ")"
   ],
   "metadata": {
    "collapsed": false,
    "pycharm": {
     "name": "#%%\n"
    }
   }
  },
  {
   "cell_type": "code",
   "execution_count": 1189,
   "outputs": [],
   "source": [
    "## Add product_term_length\n",
    "reporting_df[\"product_term_length\"] = reporting_df[\"revenue_month_date\"].apply(\n",
    "    lambda t: pd.Period(t, freq=\"S\").days_in_month\n",
    ")\n",
    "\n",
    "reporting_df[\"product_term_length\"][reporting_df[\"transaction_date\"] > reporting_df[\"revenue_month_date\"]] = (\n",
    "                                                                                                                     reporting_df[\n",
    "                                                                                                                         \"transaction_date\"].dt.daysinmonth -\n",
    "                                                                                                                     reporting_df[\n",
    "                                                                                                                         \"transaction_date\"].dt.day\n",
    "                                                                                                             ) + 1"
   ],
   "metadata": {
    "collapsed": false,
    "pycharm": {
     "name": "#%%\n"
    }
   }
  },
  {
   "cell_type": "code",
   "execution_count": 1190,
   "outputs": [],
   "source": [
    "## Fix last position of product_term_length per transaction_id for charges\n",
    "reporting_df[\"product_term_length\"].iloc[last_idxs_charges] = (\n",
    "        reporting_df[\"term_end\"].iloc[last_idxs_charges] -\n",
    "        reporting_df[\"revenue_month_date\"].iloc[last_idxs_charges]\n",
    ").dt.days\n",
    "\n",
    "reporting_df = reporting_df[reporting_df['product_term_length'] > 0]"
   ],
   "metadata": {
    "collapsed": false,
    "pycharm": {
     "name": "#%%\n"
    }
   }
  },
  {
   "cell_type": "code",
   "execution_count": 1191,
   "outputs": [],
   "source": [
    "## Set active_sub_month_end = 0 by default\n",
    "reporting_df['active_sub_month_end'] = 0\n",
    "\n",
    "reporting_df['active_sub_month_end'][\n",
    "    (reporting_df['term_end'] > (reporting_df['revenue_month_date'] + pd.offsets.MonthBegin(1)))] = 1\n",
    "\n",
    "reporting_df.reset_index(drop=True, inplace=True)"
   ],
   "metadata": {
    "collapsed": false,
    "pycharm": {
     "name": "#%%\n"
    }
   }
  },
  {
   "cell_type": "code",
   "execution_count": 1192,
   "outputs": [],
   "source": [
    "## active_sub_content follows the same logic as active_sub_month_end except it doesn't count the last month\n",
    "reporting_df[\"active_sub_content\"] = reporting_df.active_sub_month_end\n",
    "\n",
    "reporting_df[\"active_sub_content\"][(reporting_df[\"revenue_month_number\"] > reporting_df['product_length_months'])] = 0\n",
    "\n",
    "## Total_days of product_term_length per transaction_id\n",
    "reporting_df[\"total_days\"] = reporting_df.groupby(\n",
    "    [\"description\"])[\n",
    "    \"product_term_length\"].transform(\"sum\")\n",
    "\n",
    "## Turning them into negative for refunds\n",
    "reporting_df['active_sub_content'][reporting_df['units'] == -1] = reporting_df['active_sub_content'][reporting_df['units'] == -1] * -1\n",
    "reporting_df['active_sub_month_end'][reporting_df['units'] == -1] = reporting_df['active_sub_month_end'][reporting_df['units'] == -1] * -1"
   ],
   "metadata": {
    "collapsed": false,
    "pycharm": {
     "name": "#%%\n"
    }
   }
  },
  {
   "cell_type": "code",
   "execution_count": 1194,
   "outputs": [],
   "source": [
    "## Adding product_term_length_months\n",
    "reporting_df['product_term_length_months'] = reporting_df.groupby([\"description\"])[\n",
    "    'revenue_month_number'].transform('max')"
   ],
   "metadata": {
    "collapsed": false,
    "pycharm": {
     "name": "#%%\n"
    }
   }
  },
  {
   "cell_type": "code",
   "execution_count": 1195,
   "outputs": [],
   "source": [
    "## Calculate total_revenue_net fields\n",
    "reporting_df[\"total_revenue_net_chf\"] = (\n",
    "        (reporting_df[\"new_booking_net_chf\"]) / reporting_df[\"total_days\"] *\n",
    "        reporting_df[\"product_term_length\"]\n",
    ")\n",
    "\n",
    "reporting_df[\"total_revenue_net_eur\"] = (\n",
    "        (reporting_df[\"new_booking_net_eur\"]) / reporting_df[\"total_days\"] *\n",
    "        reporting_df[\"product_term_length\"]\n",
    ")"
   ],
   "metadata": {
    "collapsed": false,
    "pycharm": {
     "name": "#%%\n"
    }
   }
  },
  {
   "cell_type": "code",
   "execution_count": 1196,
   "outputs": [],
   "source": [
    "## Remove values from all lines of cols group except first\n",
    "reporting_df.loc[\n",
    "    reporting_df[\"revenue_month_number\"] > 1,\n",
    "    ['units', 'net_booking', 'renewal_booking_net_chf', 'new_booking_net_chf', 'renewal_booking_net_eur', 'new_booking_net_eur', 'sales_price_eur', 'sales_price_chf', 'vat_chf', 'vat_eur', 'charge_chf', 'charge_eur', 'payout_chf', 'payout_eur', 'vat_percentage', 'exchange_rate_eur_to_chf', 'store_fees_eur', 'store_fees_chf', 'store_fees_percentage', 'fee_eur', 'fee_chf'],\n",
    "] = 0.0"
   ],
   "metadata": {
    "collapsed": false,
    "pycharm": {
     "name": "#%%\n"
    }
   }
  },
  {
   "cell_type": "code",
   "execution_count": 1197,
   "outputs": [],
   "source": [
    "## Standardizing the report\n",
    "reporting_df[['product_group_finance']] = ''\n",
    "reporting_df[['subscription_status']] = np.nan\n",
    "reporting_df['store_fees_eur'] = 0\n",
    "reporting_df['store_fees_chf'] = 0\n",
    "\n",
    "## We only have paid subs in apple\n",
    "reporting_df['subscription_status'] = 'paid'"
   ],
   "metadata": {
    "collapsed": false,
    "pycharm": {
     "name": "#%%\n"
    }
   }
  },
  {
   "cell_type": "code",
   "execution_count": 1198,
   "outputs": [],
   "source": [
    "## type of transaction based on is_refund\n",
    "reporting_df['type_of_transaction'] = ['refund' if x  == 1 else 'sale' for x in reporting_df[\"is_refund\"]]"
   ],
   "metadata": {
    "collapsed": false,
    "pycharm": {
     "name": "#%%\n"
    }
   }
  },
  {
   "cell_type": "code",
   "execution_count": 1199,
   "outputs": [],
   "source": [
    "## Final clean up\n",
    "reporting_df['total_revenue_net_eur'].replace(np.nan, 0, inplace=True)\n",
    "reporting_df['total_revenue_net_chf'].replace(np.nan, 0, inplace=True)\n",
    "reporting_df['new_booking_net_chf'].replace(np.nan, 0, inplace=True)\n",
    "reporting_df['new_booking_net_eur'].replace(np.nan, 0, inplace=True)\n",
    "reporting_df['renewal_booking_net_chf'].replace(np.nan, 0, inplace=True)\n",
    "reporting_df['renewal_booking_net_eur'].replace(np.nan, 0, inplace=True)\n",
    "reporting_df['sales_price_eur'].replace(np.nan, 0, inplace=True)\n",
    "reporting_df['sales_price_chf'].replace(np.nan, 0, inplace=True)"
   ],
   "metadata": {
    "collapsed": false,
    "pycharm": {
     "name": "#%%\n"
    }
   }
  },
  {
   "cell_type": "code",
   "execution_count": 1201,
   "outputs": [],
   "source": [
    "## Reorder dataframe\n",
    "reporting_df = reporting_df[\n",
    "    [\n",
    "        # 'transaction_id',\n",
    "        'description',\n",
    "        'transaction_date',\n",
    "        'term_end',\n",
    "        'reporting_month',\n",
    "        'country_name',\n",
    "        'country_code',\n",
    "        # 'currency',\n",
    "        'buyer_currency',\n",
    "        # 'merchant_currency',\n",
    "        'sku',\n",
    "        'subscription_status',\n",
    "        'type_of_transaction',\n",
    "        'payment_method',\n",
    "        'product_class',\n",
    "        'product_group_finance',\n",
    "        'product_length',\n",
    "        'product_length_months',\n",
    "        'product_term_length',\n",
    "        'domestic_abroad',\n",
    "        'vat_percentage',\n",
    "        'exchange_rate_eur_to_chf',\n",
    "        'store_fees_eur',\n",
    "        'store_fees_chf',\n",
    "        'store_fees_percentage',\n",
    "        'units',\n",
    "        'charge_eur',\n",
    "        'sales_price_eur',\n",
    "        'fee_eur',\n",
    "        'vat_eur',\n",
    "        'new_booking_net_eur',\n",
    "        'renewal_booking_net_eur',\n",
    "        'payout_eur',\n",
    "        'total_revenue_net_eur',\n",
    "        'charge_chf',\n",
    "        'sales_price_chf',\n",
    "        'fee_chf',\n",
    "        'vat_chf',\n",
    "        'new_booking_net_chf',\n",
    "        'renewal_booking_net_chf',\n",
    "        'payout_chf',\n",
    "        'total_revenue_net_chf',\n",
    "        'revenue_month_number',\n",
    "        'revenue_month_date',\n",
    "        'active_sub_month_end',\n",
    "        'active_sub_content'\n",
    "    ]\n",
    "]\n",
    "\n",
    "## Define BQ table schema\n",
    "bq_schema = [\n",
    "    {\"name\": \"transaction_id\", \"type\": \"STRING\"},\n",
    "    {\"name\": \"transaction_date\", \"type\": \"TIMESTAMP\"},\n",
    "    {\"name\": \"term_end\", \"type\": \"TIMESTAMP\"},\n",
    "    {\"name\": \"reporting_month\", \"type\": \"STRING\"},\n",
    "    {\"name\": \"country_name\", \"type\": \"STRING\"},\n",
    "    {\"name\": \"country_code\", \"type\": \"STRING\"},\n",
    "    {\"name\": \"currency\", \"type\": \"STRING\"},\n",
    "    # {\"name\": \"buyer_currency\", \"type\": \"STRING\"},\n",
    "    # {\"name\": \"merchant_currency\", \"type\": \"STRING\"},\n",
    "    {\"name\": \"sku\", \"type\": \"STRING\"},\n",
    "    {\"name\": \"subscription_status\", \"type\": \"STRING\"},\n",
    "    {\"name\": \"type_of_transaction\", \"type\": \"STRING\"},\n",
    "    {\"name\": \"payment_method\", \"type\": \"STRING\"},\n",
    "    {\"name\": \"product_class\", \"type\": \"STRING\"},\n",
    "    {\"name\": \"product_group_finance\", \"type\": \"STRING\"},\n",
    "    {\"name\": \"product_length\", \"type\": \"INTEGER\"},\n",
    "    {\"name\": \"product_length_months\", \"type\": \"INTEGER\"},\n",
    "    {\"name\": \"product_term_length\", \"type\": \"INTEGER\"},\n",
    "    {\"name\": \"domestic_abroad\", \"type\": \"STRING\"},\n",
    "    {\"name\": \"vat_percentage\", \"type\": \"FLOAT\"},\n",
    "    {\"name\": \"exchange_rate_eur_to_chf\", \"type\": \"FLOAT\"},\n",
    "    {\"name\": \"store_fees_eur\", \"type\": \"FLOAT\"},\n",
    "    {\"name\": \"store_fees_chf\", \"type\": \"FLOAT\"},\n",
    "    {\"name\": \"store_fees_percentage\", \"type\": \"INTEGER\"},\n",
    "    {\"name\": \"units\", \"type\": \"INTEGER\"},\n",
    "    {\"name\": \"charge_eur\", \"type\": \"FLOAT\"},\n",
    "    {\"name\": \"sales_price_eur\", \"type\": \"FLOAT\"},\n",
    "    {\"name\": \"fee_eur\", \"type\": \"FLOAT\"},\n",
    "    {\"name\": \"vat_eur\", \"type\": \"FLOAT\"},\n",
    "    {\"name\": \"new_booking_net_eur\", \"type\": \"FLOAT\"},\n",
    "    {\"name\": \"renewal_booking_net_eur\", \"type\": \"FLOAT\"},\n",
    "    {\"name\": \"payout_eur\", \"type\": \"FLOAT\"},\n",
    "    {\"name\": \"total_revenue_net_eur\", \"type\": \"FLOAT\"},\n",
    "    {\"name\": \"charge_chf\", \"type\": \"FLOAT\"},\n",
    "    {\"name\": \"sales_price_chf\", \"type\": \"FLOAT\"},\n",
    "    {\"name\": \"fee_chf\", \"type\": \"FLOAT\"},\n",
    "    {\"name\": \"vat_chf\", \"type\": \"FLOAT\"},\n",
    "    {\"name\": \"new_booking_net_chf\", \"type\": \"FLOAT\"},\n",
    "    {\"name\": \"renewal_booking_net_chf\", \"type\": \"FLOAT\"},\n",
    "    {\"name\": \"payout_chf\", \"type\": \"FLOAT\"},\n",
    "    {\"name\": \"total_revenue_net_chf\", \"type\": \"FLOAT\"},\n",
    "    {\"name\": \"revenue_month_number\", \"type\": \"INTEGER\"},\n",
    "    {\"name\": \"revenue_month_date\", \"type\": \"TIMESTAMP\"},\n",
    "    {\"name\": \"active_sub_month_end\", \"type\": \"INTEGER\"},\n",
    "    {\"name\": \"active_sub_content\", \"type\": \"INTEGER\"}\n",
    "]"
   ],
   "metadata": {
    "collapsed": false,
    "pycharm": {
     "name": "#%%\n"
    }
   }
  },
  {
   "cell_type": "code",
   "execution_count": 1202,
   "outputs": [],
   "source": [
    "## Final clean up before exporting\n",
    "reporting_df.rename({'buyer_currency': 'currency',\n",
    "                     'description': 'transaction_id'},\n",
    "                    axis=1, inplace=True)"
   ],
   "metadata": {
    "collapsed": false,
    "pycharm": {
     "name": "#%%\n"
    }
   }
  },
  {
   "cell_type": "code",
   "execution_count": 1204,
   "outputs": [],
   "source": [
    "## Export to csv\n",
    "path = r\"/Users/miguelcouto/Desktop/\"\n",
    "\n",
    "reporting_df.to_csv(os.path.join(path, fr'subs_reporting_apple{reporting_month[0].replace(\"-\", \"_\")}.csv'))"
   ],
   "metadata": {
    "collapsed": false,
    "pycharm": {
     "name": "#%%\n"
    }
   }
  },
  {
   "cell_type": "code",
   "execution_count": 1205,
   "outputs": [],
   "source": [
    "## Export to BQ table\n",
    "pandas_gbq.to_gbq(\n",
    "    dataframe=reporting_df,\n",
    "    destination_table=f\"finance.subs_reporting_apple{reporting_month[0].replace('-', '')}\",\n",
    "    project_id=\"zattoo-dataeng\",\n",
    "    if_exists=\"replace\",\n",
    "    progress_bar=None,\n",
    "    table_schema=bq_schema,\n",
    ")"
   ],
   "metadata": {
    "collapsed": false,
    "pycharm": {
     "name": "#%%\n"
    }
   }
  }
 ],
 "metadata": {
  "kernelspec": {
   "display_name": "Python 3",
   "language": "python",
   "name": "python3"
  },
  "language_info": {
   "codemirror_mode": {
    "name": "ipython",
    "version": 3
   },
   "file_extension": ".py",
   "mimetype": "text/x-python",
   "name": "python",
   "nbconvert_exporter": "python",
   "pygments_lexer": "ipython3",
   "version": "3.9.4"
  }
 },
 "nbformat": 4,
 "nbformat_minor": 4
}
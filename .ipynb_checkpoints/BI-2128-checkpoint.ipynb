{
 "cells": [
  {
   "cell_type": "code",
   "execution_count": 1,
   "metadata": {},
   "outputs": [],
   "source": [
    "%load_ext lab_black"
   ]
  },
  {
   "cell_type": "code",
   "execution_count": 2,
   "metadata": {},
   "outputs": [],
   "source": [
    "from google.cloud import bigquery\n",
    "from google.oauth2 import service_account\n",
    "import pandas_gbq\n",
    "import pyarrow\n",
    "import pandas as pd\n",
    "import numpy as np\n",
    "import os\n",
    "\n",
    "credentials = service_account.Credentials.from_service_account_file(\n",
    "    \"/Users/miguelcouto/Downloads/zattoo-dataeng-e5f45785174f.json\"\n",
    ")\n",
    "\n",
    "project_id = \"zattoo-dataeng\"\n",
    "client = bigquery.Client(credentials=credentials, project=project_id)"
   ]
  },
  {
   "cell_type": "code",
   "execution_count": 3,
   "metadata": {},
   "outputs": [],
   "source": [
    "sql_calcs = \"\"\"\n",
    "   select mt.transaction_id,\n",
    "       mt.zuid,\n",
    "       mt.payment_method,\n",
    "       mt.sku,\n",
    "       mt.type_of_transaction,\n",
    "       case\n",
    "           when mt.country_name = 'Germany' then 'Germany'\n",
    "           when mt.country_name = 'Austria' then 'Austria'\n",
    "           else 'Switzerland' end as country_name,\n",
    "       mt.new_booking_net_CHF,\n",
    "       mt.renewal_booking_net_CHF,\n",
    "       mt.new_booking_net_EUR,\n",
    "       mt.renewal_booking_net_EUR,\n",
    "       mt.vat_CHF,\n",
    "       mt.vat_EUR,\n",
    "       mt.transaction_date,\n",
    "       mt.term_start,\n",
    "       mt.term_end\n",
    "from b2c_middleware.middlelayer_transactions mt\n",
    "where true\n",
    "  and mt.app_shop_id = 'datatrans'\n",
    "  and mt.transaction_date >= '2021-03-01 00:00:00'\n",
    "  and mt.transaction_date <= '2021-03-31 23:59:59'\n",
    "           \"\"\""
   ]
  },
  {
   "cell_type": "code",
   "execution_count": 4,
   "metadata": {},
   "outputs": [],
   "source": [
    "## prepare dataframe\n",
    "df = pandas_gbq.read_gbq(sql_calcs, project_id=project_id, progress_bar_type=None)\n",
    "type_trans_lst = [\"new_sale\", \"renewal\", \"refund\"]\n",
    "\n",
    "parse_dates = [\"term_start\", \"term_end\"]\n",
    "mt_df = df[df[\"type_of_transaction\"].isin(type_trans_lst)].copy()\n",
    "\n",
    "for date in parse_dates:\n",
    "    mt_df[date] = pd.to_datetime(mt_df[date]).dt.tz_convert(None)"
   ]
  },
  {
   "cell_type": "code",
   "execution_count": 5,
   "metadata": {},
   "outputs": [],
   "source": [
    "## calculate total_booking_net columns\n",
    "mt_df[\"total_booking_net_CHF\"] = (\n",
    "    mt_df[\"new_booking_net_CHF\"] + mt_df[\"renewal_booking_net_CHF\"]\n",
    ")\n",
    "mt_df[\"total_booking_net_EUR\"] = (\n",
    "    mt_df[\"new_booking_net_EUR\"] + mt_df[\"renewal_booking_net_EUR\"]\n",
    ")"
   ]
  },
  {
   "cell_type": "code",
   "execution_count": 6,
   "metadata": {},
   "outputs": [],
   "source": [
    "## drop unnecessary columns\n",
    "mt_df.drop(\n",
    "    [\n",
    "        \"new_booking_net_EUR\",\n",
    "        \"new_booking_net_CHF\",\n",
    "        \"renewal_booking_net_CHF\",\n",
    "        \"renewal_booking_net_EUR\",\n",
    "    ],\n",
    "    axis=1,\n",
    "    inplace=True,\n",
    ")"
   ]
  },
  {
   "cell_type": "code",
   "execution_count": 7,
   "metadata": {},
   "outputs": [
    {
     "name": "stderr",
     "output_type": "stream",
     "text": [
      "<ipython-input-7-1e86db48f586>:8: SettingWithCopyWarning: \n",
      "A value is trying to be set on a copy of a slice from a DataFrame\n",
      "\n",
      "See the caveats in the documentation: https://pandas.pydata.org/pandas-docs/stable/user_guide/indexing.html#returning-a-view-versus-a-copy\n",
      "  mt_df[\"product_term_length_months\"][mt_df[\"product_term_length_months\"] < 0] = 0\n"
     ]
    }
   ],
   "source": [
    "## calculate product_term_length_months\n",
    "mt_df[\"product_term_length_months\"] = (\n",
    "    (mt_df[\"term_end\"].dt.year - mt_df[\"term_start\"].dt.year) * 12\n",
    "    + (mt_df[\"term_end\"].dt.month - mt_df[\"term_start\"].dt.month)\n",
    "    + 1\n",
    ")\n",
    "\n",
    "mt_df[\"product_term_length_months\"][mt_df[\"product_term_length_months\"] < 0] = 0"
   ]
  },
  {
   "cell_type": "code",
   "execution_count": 8,
   "metadata": {},
   "outputs": [],
   "source": [
    "## reseting index\n",
    "mt_df = mt_df.reindex(mt_df.index.repeat(mt_df[\"product_term_length_months\"]))"
   ]
  },
  {
   "cell_type": "code",
   "execution_count": 9,
   "metadata": {},
   "outputs": [],
   "source": [
    "## add revenue_month_number\n",
    "mt_df[\"revenue_month_number\"] = mt_df.groupby([\"transaction_id\"]).cumcount() + 1"
   ]
  },
  {
   "cell_type": "code",
   "execution_count": 10,
   "metadata": {},
   "outputs": [
    {
     "name": "stderr",
     "output_type": "stream",
     "text": [
      "<ipython-input-10-6fe1ddd50dcc>:3: SettingWithCopyWarning: \n",
      "A value is trying to be set on a copy of a slice from a DataFrame\n",
      "\n",
      "See the caveats in the documentation: https://pandas.pydata.org/pandas-docs/stable/user_guide/indexing.html#returning-a-view-versus-a-copy\n",
      "  mt_df[\"revenue_month_date\"][mt_df[\"type_of_transaction\"] == \"refund\"] = (\n",
      "<ipython-input-10-6fe1ddd50dcc>:20: SettingWithCopyWarning: \n",
      "A value is trying to be set on a copy of a slice from a DataFrame\n",
      "\n",
      "See the caveats in the documentation: https://pandas.pydata.org/pandas-docs/stable/user_guide/indexing.html#returning-a-view-versus-a-copy\n",
      "  mt_df[\"product_term_length\"][mt_df[\"term_start\"] > mt_df[\"revenue_month_date\"]] = (\n"
     ]
    }
   ],
   "source": [
    "## add revenue_month_date\n",
    "mt_df[\"revenue_month_date\"] = mt_df[\"term_start\"].to_numpy().astype(\"datetime64[M]\")\n",
    "mt_df[\"revenue_month_date\"][mt_df[\"type_of_transaction\"] == \"refund\"] = (\n",
    "    mt_df[\"transaction_date\"].to_numpy().astype(\"datetime64[M]\")\n",
    ")\n",
    "\n",
    "mt_df[\"revenue_month_date\"] = mt_df.apply(\n",
    "    lambda x: x[\"revenue_month_date\"]\n",
    "    + pd.offsets.MonthEnd(x[\"revenue_month_number\"])\n",
    "    + pd.offsets.MonthBegin(-1),\n",
    "    axis=1,\n",
    ")\n",
    "\n",
    "mt_df[\"product_group_finance\"] = np.nan\n",
    "\n",
    "mt_df[\"product_term_length\"] = mt_df[\"revenue_month_date\"].apply(\n",
    "    lambda t: pd.Period(t, freq=\"S\").days_in_month\n",
    ")\n",
    "\n",
    "mt_df[\"product_term_length\"][mt_df[\"term_start\"] > mt_df[\"revenue_month_date\"]] = (\n",
    "    mt_df[\"term_start\"].dt.daysinmonth - mt_df[\"term_start\"].dt.day\n",
    ") + 1"
   ]
  },
  {
   "cell_type": "code",
   "execution_count": 11,
   "metadata": {},
   "outputs": [],
   "source": [
    "## reseting index\n",
    "mt_df.reset_index(drop=True, inplace=True)"
   ]
  },
  {
   "cell_type": "code",
   "execution_count": 12,
   "metadata": {},
   "outputs": [
    {
     "name": "stderr",
     "output_type": "stream",
     "text": [
      "/Users/miguelcouto/miniconda3/envs/pypayment_v2/lib/python3.9/site-packages/pandas/core/indexing.py:1637: SettingWithCopyWarning: \n",
      "A value is trying to be set on a copy of a slice from a DataFrame\n",
      "\n",
      "See the caveats in the documentation: https://pandas.pydata.org/pandas-docs/stable/user_guide/indexing.html#returning-a-view-versus-a-copy\n",
      "  self._setitem_single_block(indexer, value, name)\n",
      "<ipython-input-12-797b59a048b0>:17: SettingWithCopyWarning: \n",
      "A value is trying to be set on a copy of a slice from a DataFrame\n",
      "\n",
      "See the caveats in the documentation: https://pandas.pydata.org/pandas-docs/stable/user_guide/indexing.html#returning-a-view-versus-a-copy\n",
      "  mt_df[\"active_sub_content\"][\n",
      "<ipython-input-12-797b59a048b0>:22: SettingWithCopyWarning: \n",
      "A value is trying to be set on a copy of a slice from a DataFrame\n",
      "\n",
      "See the caveats in the documentation: https://pandas.pydata.org/pandas-docs/stable/user_guide/indexing.html#returning-a-view-versus-a-copy\n",
      "  mt_df[\"active_sub_content\"][mt_df[\"type_of_transaction\"] == \"refund\"] = -1\n",
      "<ipython-input-12-797b59a048b0>:25: SettingWithCopyWarning: \n",
      "A value is trying to be set on a copy of a slice from a DataFrame\n",
      "\n",
      "See the caveats in the documentation: https://pandas.pydata.org/pandas-docs/stable/user_guide/indexing.html#returning-a-view-versus-a-copy\n",
      "  mt_df[\"active_sub_content\"][mt_df[\"type_of_transaction\"] == \"refund\"] = -1\n"
     ]
    }
   ],
   "source": [
    "## set active_sub_content = 1 by default\n",
    "mt_df[\"active_sub_content\"] = 1\n",
    "\n",
    "## get last indices of each transaction_id group\n",
    "last_idxs = (\n",
    "    len(mt_df)\n",
    "    - np.unique(\n",
    "        mt_df.transaction_id.values[::-1],\n",
    "        return_index=1,\n",
    "    )[1]\n",
    "    - 1\n",
    ")\n",
    "\n",
    "mt_df[\"active_sub_content\"].iloc[last_idxs] = 0\n",
    "\n",
    "## mark all one transaction subscriptions as 1\n",
    "mt_df[\"active_sub_content\"][\n",
    "    (mt_df[\"revenue_month_number\"] <= 1) & (mt_df[\"product_term_length_months\"] <= 1)\n",
    "] = 1\n",
    "\n",
    "## mark all refund transactions as -1\n",
    "mt_df[\"active_sub_content\"][mt_df[\"type_of_transaction\"] == \"refund\"] = -1\n",
    "\n",
    "## mark all subscriptions with only 1 transaction as i\n",
    "mt_df[\"active_sub_content\"][mt_df[\"type_of_transaction\"] == \"refund\"] = -1"
   ]
  },
  {
   "cell_type": "code",
   "execution_count": 13,
   "metadata": {},
   "outputs": [
    {
     "name": "stderr",
     "output_type": "stream",
     "text": [
      "/Users/miguelcouto/miniconda3/envs/pypayment_v2/lib/python3.9/site-packages/pandas/core/indexing.py:1637: SettingWithCopyWarning: \n",
      "A value is trying to be set on a copy of a slice from a DataFrame\n",
      "\n",
      "See the caveats in the documentation: https://pandas.pydata.org/pandas-docs/stable/user_guide/indexing.html#returning-a-view-versus-a-copy\n",
      "  self._setitem_single_block(indexer, value, name)\n"
     ]
    }
   ],
   "source": [
    "## fix last position of product_term_length per transaction_id\n",
    "mt_df[\"product_term_length\"].iloc[last_idxs] = (\n",
    "    mt_df[\"term_end\"].iloc[last_idxs] - mt_df[\"revenue_month_date\"].iloc[last_idxs]\n",
    ").dt.days + 1"
   ]
  },
  {
   "cell_type": "code",
   "execution_count": 14,
   "metadata": {},
   "outputs": [
    {
     "name": "stderr",
     "output_type": "stream",
     "text": [
      "<ipython-input-14-05609e5792a7>:2: SettingWithCopyWarning: \n",
      "A value is trying to be set on a copy of a slice from a DataFrame\n",
      "\n",
      "See the caveats in the documentation: https://pandas.pydata.org/pandas-docs/stable/user_guide/indexing.html#returning-a-view-versus-a-copy\n",
      "  mt_df[\"product_term_length\"][mt_df[\"product_term_length\"] < 0] = 0\n"
     ]
    }
   ],
   "source": [
    "## TEMP FIX to tackle dynamic term_end for refunds\n",
    "mt_df[\"product_term_length\"][mt_df[\"product_term_length\"] < 0] = 0"
   ]
  },
  {
   "cell_type": "code",
   "execution_count": 15,
   "metadata": {},
   "outputs": [],
   "source": [
    "## total_days of product_term_length per transaction_id\n",
    "mt_df[\"total_days\"] = mt_df.groupby(\"transaction_id\")[\"product_term_length\"].transform(\n",
    "    \"sum\"\n",
    ")"
   ]
  },
  {
   "cell_type": "code",
   "execution_count": 16,
   "metadata": {},
   "outputs": [],
   "source": [
    "## calculate total_revenue_net fields\n",
    "mt_df[\"total_revenue_net_EUR\"] = (\n",
    "    mt_df[\"total_booking_net_EUR\"] / mt_df[\"total_days\"] * mt_df[\"product_term_length\"]\n",
    ")\n",
    "\n",
    "mt_df[\"total_revenue_net_CHF\"] = (\n",
    "    mt_df[\"total_booking_net_CHF\"] / mt_df[\"total_days\"] * mt_df[\"product_term_length\"]\n",
    ")\n",
    "\n",
    "## remove total_booking values from all lines of group except first\n",
    "mt_df.loc[\n",
    "    mt_df[\"revenue_month_number\"] > 1,\n",
    "    [\"total_booking_net_CHF\", \"total_booking_net_EUR\"],\n",
    "] = 0.0\n",
    "\n",
    "## remove VAT values from all lines of group except first\n",
    "vat_cols = [\"vat_CHF\", \"vat_EUR\"]\n",
    "\n",
    "for col in vat_cols:\n",
    "    mt_df.loc[\n",
    "        mt_df[\"revenue_month_number\"] > 1,\n",
    "        [col, \"total_booking_net_EUR\"],\n",
    "    ] = 0.0"
   ]
  },
  {
   "cell_type": "code",
   "execution_count": 17,
   "metadata": {},
   "outputs": [],
   "source": [
    "## drop total_days column\n",
    "mt_df.drop(\n",
    "    [\"total_days\"],\n",
    "    axis=1,\n",
    "    inplace=True,\n",
    ")\n",
    "\n",
    "## reorder dataframe\n",
    "mt_df = mt_df[\n",
    "    [\n",
    "        \"transaction_id\",\n",
    "        \"zuid\",\n",
    "        \"payment_method\",\n",
    "        \"sku\",\n",
    "        \"type_of_transaction\",\n",
    "        \"country_name\",\n",
    "        \"transaction_date\",\n",
    "        \"total_booking_net_CHF\",\n",
    "        \"total_booking_net_EUR\",\n",
    "        \"vat_CHF\",\n",
    "        \"vat_EUR\",\n",
    "        \"term_start\",\n",
    "        \"term_end\",\n",
    "        \"product_term_length\",\n",
    "        #        \"total_days\",\n",
    "        \"product_term_length_months\",\n",
    "        \"product_group_finance\",\n",
    "        \"revenue_month_number\",\n",
    "        \"revenue_month_date\",\n",
    "        \"total_revenue_net_EUR\",\n",
    "        \"total_revenue_net_CHF\",\n",
    "        \"active_sub_content\",\n",
    "    ]\n",
    "]"
   ]
  },
  {
   "cell_type": "code",
   "execution_count": 18,
   "metadata": {},
   "outputs": [],
   "source": [
    "## prepare df_nocalcs for free trials and full discounts\n",
    "mt_df_nocalcs = df[~df[\"type_of_transaction\"].isin(type_trans_lst)].copy()\n",
    "\n",
    "for date in parse_dates:\n",
    "    mt_df_nocalcs[date] = pd.to_datetime(mt_df_nocalcs[date]).dt.tz_convert(None)"
   ]
  },
  {
   "cell_type": "code",
   "execution_count": 19,
   "metadata": {},
   "outputs": [],
   "source": [
    "## calculate total_booking_net columns\n",
    "mt_df_nocalcs[\"total_booking_net_CHF\"] = (\n",
    "    mt_df_nocalcs[\"new_booking_net_CHF\"] + mt_df_nocalcs[\"renewal_booking_net_CHF\"]\n",
    ")\n",
    "mt_df_nocalcs[\"total_booking_net_EUR\"] = (\n",
    "    mt_df_nocalcs[\"new_booking_net_EUR\"] + mt_df_nocalcs[\"renewal_booking_net_EUR\"]\n",
    ")"
   ]
  },
  {
   "cell_type": "code",
   "execution_count": 20,
   "metadata": {},
   "outputs": [],
   "source": [
    "## drop unnecessary columns\n",
    "mt_df_nocalcs.drop(\n",
    "    [\n",
    "        \"new_booking_net_EUR\",\n",
    "        \"new_booking_net_CHF\",\n",
    "        \"renewal_booking_net_CHF\",\n",
    "        \"renewal_booking_net_EUR\",\n",
    "    ],\n",
    "    axis=1,\n",
    "    inplace=True,\n",
    ")"
   ]
  },
  {
   "cell_type": "code",
   "execution_count": 21,
   "metadata": {},
   "outputs": [],
   "source": [
    "## append dataframes\n",
    "mt_df_final = mt_df.append(mt_df_nocalcs).reset_index(drop=True)\n",
    "\n",
    "## convert revenue_month_date to date\n",
    "mt_df_final[\"revenue_month_date\"] = pd.to_datetime(\n",
    "    mt_df_final[\"revenue_month_date\"]\n",
    ").dt.date"
   ]
  },
  {
   "cell_type": "code",
   "execution_count": 22,
   "metadata": {},
   "outputs": [],
   "source": [
    "## define table schema\n",
    "bq_schema = [\n",
    "    {\"name\": \"transaction_id\", \"type\": \"STRING\"},\n",
    "    {\"name\": \"zuid\", \"type\": \"INTEGER\"},\n",
    "    {\"name\": \"payment_method\", \"type\": \"STRING\"},\n",
    "    {\"name\": \"sku\", \"type\": \"STRING\"},\n",
    "    {\"name\": \"type_of_transaction\", \"type\": \"STRING\"},\n",
    "    {\"name\": \"transaction_date\", \"type\": \"TIMESTAMP\"},\n",
    "    {\"name\": \"country_name\", \"type\": \"STRING\"},\n",
    "    {\"name\": \"total_booking_net_CHF\", \"type\": \"FLOAT\"},\n",
    "    {\"name\": \"total_booking_net_EUR\", \"type\": \"FLOAT\"},\n",
    "    {\"name\": \"vat_CHF\", \"type\": \"FLOAT\"},\n",
    "    {\"name\": \"vat_EUR\", \"type\": \"FLOAT\"},\n",
    "    {\"name\": \"term_start\", \"type\": \"TIMESTAMP\"},\n",
    "    {\"name\": \"term_end\", \"type\": \"TIMESTAMP\"},\n",
    "    {\"name\": \"product_term_length\", \"type\": \"INTEGER\"},\n",
    "    {\"name\": \"product_term_length_months\", \"type\": \"INTEGER\"},\n",
    "    {\"name\": \"product_group_finance\", \"type\": \"STRING\"},\n",
    "    {\"name\": \"revenue_month_number\", \"type\": \"INTEGER\"},\n",
    "    {\"name\": \"revenue_month_date\", \"type\": \"DATE\"},\n",
    "    {\"name\": \"total_revenue_net_EUR\", \"type\": \"FLOAT\"},\n",
    "    {\"name\": \"total_revenue_net_CHF\", \"type\": \"FLOAT\"},\n",
    "    {\"name\": \"active_sub_content\", \"type\": \"INTEGER\"},\n",
    "]"
   ]
  },
  {
   "cell_type": "code",
   "execution_count": 23,
   "metadata": {},
   "outputs": [],
   "source": [
    "## export to BQ table\n",
    "pandas_gbq.to_gbq(\n",
    "    dataframe=mt_df_final,\n",
    "    destination_table=\"temp.pypayment_v2_1_032021_2\",\n",
    "    project_id=\"zattoo-dataeng\",\n",
    "    if_exists=\"replace\",\n",
    "    progress_bar=None,\n",
    "    table_schema=bq_schema,\n",
    ")"
   ]
  },
  {
   "cell_type": "code",
   "execution_count": 24,
   "metadata": {},
   "outputs": [],
   "source": [
    "## export to csv\n",
    "path = r\"/Users/miguelcouto/Desktop/\"\n",
    "\n",
    "mt_df_final.to_csv(os.path.join(path, r\"pypayment_v2_1_full.csv\"))"
   ]
  }
 ],
 "metadata": {
  "kernelspec": {
   "display_name": "Python 3",
   "language": "python",
   "name": "python3"
  },
  "language_info": {
   "codemirror_mode": {
    "name": "ipython",
    "version": 3
   },
   "file_extension": ".py",
   "mimetype": "text/x-python",
   "name": "python",
   "nbconvert_exporter": "python",
   "pygments_lexer": "ipython3",
   "version": "3.9.4"
  }
 },
 "nbformat": 4,
 "nbformat_minor": 4
}
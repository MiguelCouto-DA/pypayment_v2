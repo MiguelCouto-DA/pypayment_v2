{
 "cells": [
  {
   "cell_type": "code",
   "execution_count": 1,
   "outputs": [],
   "source": [
    "#%load_ext lab_black"
   ],
   "metadata": {
    "collapsed": false,
    "pycharm": {
     "name": "#%%\n"
    }
   }
  },
  {
   "cell_type": "code",
   "execution_count": 2,
   "outputs": [],
   "source": [
    "## Importing all needed libraries and modules\n",
    "## Setting up BigQuery access credentials for SQL parsing of reporting data\n",
    "from google.cloud import bigquery\n",
    "from google.oauth2 import service_account\n",
    "import pandas_gbq\n",
    "import pandas as pd\n",
    "import numpy as np\n",
    "import os\n",
    "import warnings\n",
    "\n",
    "pd.set_option('display.max_columns', None)\n",
    "warnings.filterwarnings('ignore')\n",
    "\n",
    "credentials = service_account.Credentials.from_service_account_file(\n",
    "    \"/Users/miguelcouto/Downloads/zattoo-dataeng-e5f45785174f.json\"\n",
    ")\n",
    "\n",
    "project_id = \"zattoo-dataeng\"\n",
    "client = bigquery.Client(credentials=credentials, project=project_id)"
   ],
   "metadata": {
    "collapsed": false,
    "pycharm": {
     "name": "#%%\n"
    }
   }
  },
  {
   "cell_type": "code",
   "execution_count": 3,
   "metadata": {
    "pycharm": {
     "name": "#%%\n"
    }
   },
   "outputs": [],
   "source": [
    "## SQL query that will create the main reporting dataframe\n",
    "sql_calcs = \"\"\"\n",
    "select mt.transaction_id,\n",
    "       mt.zuid,\n",
    "       mt.payment_method,\n",
    "       mt.currency,\n",
    "       mt.exchange_rate_eur_to_chf,\n",
    "       mt.sku,\n",
    "       product_offer_view.length as product_length,\n",
    "       product_service_view.classification as product_class,\n",
    "       mt.type_of_transaction,\n",
    "       case\n",
    "           when mt.country_name = 'Germany' then 'Germany'\n",
    "           when mt.country_name = 'Austria' then 'Austria'\n",
    "           else 'Switzerland' end                   as country_name,\n",
    "       c.countrycode                                as country_code,\n",
    "       mt.new_booking_net_chf,\n",
    "       mt.renewal_booking_net_chf,\n",
    "       mt.new_booking_net_eur,\n",
    "       mt.renewal_booking_net_eur,\n",
    "       mt.transaction_date,\n",
    "       mt.term_start,\n",
    "       mt.term_end,\n",
    "       product_service_view.zuya_account_permission as product_group_finance,\n",
    "       mt.vat_eur,\n",
    "       mt.vat_chf,\n",
    "       mt.vat_percentage,\n",
    "       mt.store_fees_chf,\n",
    "       mt.store_fees_eur\n",
    "from b2c_middleware.middlelayer_transactions mt\n",
    "         left join dim.countries c on c.name = mt.country_name\n",
    "         LEFT JOIN b2c_middleware_import.product_product_view AS product_product_view\n",
    "                   ON mt.sku = product_product_view.sku\n",
    "                       AND DATE(mt.transaction_date) = product_product_view.inserted_at_date\n",
    "         LEFT JOIN b2c_middleware_import.product_subscriptionproduct_view AS product_subscriptionproduct_view\n",
    "                   ON product_product_view.id = product_subscriptionproduct_view.id\n",
    "                       AND\n",
    "                      product_product_view.inserted_at_date = product_subscriptionproduct_view.inserted_at_date\n",
    "         LEFT JOIN b2c_middleware_import.product_offer_view AS product_offer_view\n",
    "                   ON product_subscriptionproduct_view.offer_id = product_offer_view.id\n",
    "                       AND product_subscriptionproduct_view.inserted_at_date = product_offer_view.inserted_at_date\n",
    "         LEFT JOIN b2c_middleware_import.product_service_view AS product_service_view\n",
    "                   ON product_offer_view.service_id = product_service_view.id\n",
    "                       AND product_offer_view.inserted_at_date = product_service_view.inserted_at_date\n",
    "where true\n",
    "  and mt.app_shop_id = 'datatrans'\n",
    "  and mt.transaction_date >= '2022-03-01 00:00:00'\n",
    "  and mt.transaction_date <= '2022-03-31 23:59:59'\n",
    "-- Due to discrepancies, we will NOT be including refunds for now in datatrans\n",
    "  and mt.type_of_transaction != 'refund'\n",
    "           \"\"\""
   ]
  },
  {
   "cell_type": "code",
   "execution_count": 4,
   "outputs": [],
   "source": [
    "## Prepare dataframe\n",
    "df = pandas_gbq.read_gbq(sql_calcs, project_id=project_id, progress_bar_type=None)\n",
    "\n",
    "## List of transaction types (new and renewal) to be included in the dataframe (as mentioned before refunds will NOT be included in datatrans for now)\n",
    "type_trans_lst = [\"new_sale\",\n",
    "                  \"renewal\",\n",
    "                  # \"refund\"\n",
    "                  ]"
   ],
   "metadata": {
    "collapsed": false,
    "pycharm": {
     "name": "#%%\n"
    }
   }
  },
  {
   "cell_type": "code",
   "execution_count": 5,
   "outputs": [],
   "source": [
    "## Parsing date columns and converting them to datetime\n",
    "parse_dates = [\"term_start\", \"term_end\"]\n",
    "reporting_df = df[df[\"type_of_transaction\"].isin(type_trans_lst)].copy()\n",
    "\n",
    "for date in parse_dates:\n",
    "    reporting_df[date] = pd.to_datetime(reporting_df[date]).dt.tz_convert(None)"
   ],
   "metadata": {
    "collapsed": false,
    "pycharm": {
     "name": "#%%\n"
    }
   }
  },
  {
   "cell_type": "code",
   "execution_count": 6,
   "outputs": [],
   "source": [
    "## Finance Subs reporting will happen once at end of each month and for that the reporting_month will be defined based on the mode of the transaction_date\n",
    "reporting_month = reporting_df['transaction_date'].mode().dt.to_period('M').dt.strftime('%Y-%m')[0]\n",
    "reporting_df['reporting_month'] = reporting_month"
   ],
   "metadata": {
    "collapsed": false,
    "pycharm": {
     "name": "#%%\n"
    }
   }
  },
  {
   "cell_type": "code",
   "execution_count": 7,
   "metadata": {
    "pycharm": {
     "name": "#%%\n"
    }
   },
   "outputs": [],
   "source": [
    "## Calculate total_booking_net_eur/chf columns\n",
    "reporting_df[\"total_booking_net_chf\"] = (\n",
    "        reporting_df[\"new_booking_net_chf\"] + reporting_df[\"renewal_booking_net_chf\"]\n",
    ")\n",
    "reporting_df[\"total_booking_net_eur\"] = (\n",
    "        reporting_df[\"new_booking_net_eur\"] + reporting_df[\"renewal_booking_net_eur\"]\n",
    ")"
   ]
  },
  {
   "cell_type": "code",
   "execution_count": 8,
   "metadata": {
    "pycharm": {
     "name": "#%%\n"
    }
   },
   "outputs": [],
   "source": [
    "## Calculate product_length_months (the max number of months that each transaction_id is in - e.g., transaction_id 36385353 is a 1 month sub that started on\n",
    "## 23.03.22 18:45, which means product_length_months = 2 (March and April))\n",
    "reporting_df[\"product_length_months\"] = (\n",
    "        (reporting_df[\"term_end\"].dt.year - reporting_df[\"term_start\"].dt.year) * 12\n",
    "        + (reporting_df[\"term_end\"].dt.month - reporting_df[\"term_start\"].dt.month)\n",
    "        + 1\n",
    ")"
   ]
  },
  {
   "cell_type": "code",
   "execution_count": 9,
   "outputs": [],
   "source": [
    "## Some transactions have a weird behavior (probably refunds issued manually by Support), therefore product_length_months needs to be cleaned\n",
    "reporting_df[\"product_length_months\"][reporting_df[\"product_length_months\"] < 0] = 0"
   ],
   "metadata": {
    "collapsed": false,
    "pycharm": {
     "name": "#%%\n"
    }
   }
  },
  {
   "cell_type": "code",
   "execution_count": 10,
   "outputs": [],
   "source": [
    "## Replacing product_length_months for exceptions where value is 2 instead of 1\n",
    "shorter_subs = (reporting_df['term_end'] - reporting_df['term_start']).dt.days <= 30\n",
    "shorter_subs_replacer = reporting_df[shorter_subs][\n",
    "    (reporting_df[\"product_length_months\"] == 2) & ((reporting_df['term_end']).dt.day == 1)].index.to_list()\n",
    "reporting_df[\"product_length_months\"].loc[shorter_subs_replacer] = 1"
   ],
   "metadata": {
    "collapsed": false,
    "pycharm": {
     "name": "#%%\n"
    }
   }
  },
  {
   "cell_type": "code",
   "execution_count": 11,
   "metadata": {
    "pycharm": {
     "name": "#%%\n"
    }
   },
   "outputs": [],
   "source": [
    "## Reseting index\n",
    "reporting_df = reporting_df.reindex(reporting_df.index.repeat(reporting_df[\"product_length_months\"]))"
   ]
  },
  {
   "cell_type": "code",
   "execution_count": 12,
   "metadata": {
    "pycharm": {
     "name": "#%%\n"
    }
   },
   "outputs": [],
   "source": [
    "## Adding revenue_month_number (same logic as product_length_months but it iterates each month and adds +1)\n",
    "reporting_df[\"revenue_month_number\"] = reporting_df.groupby([\"transaction_id\"]).cumcount() + 1"
   ]
  },
  {
   "cell_type": "code",
   "execution_count": 13,
   "metadata": {
    "pycharm": {
     "name": "#%%\n"
    }
   },
   "outputs": [],
   "source": [
    "## Add revenue_month_date (same as revenue_month_number but with date for month begin)\n",
    "reporting_df[\"revenue_month_date\"] = reporting_df[\"term_start\"].to_numpy().astype(\"datetime64[M]\")\n",
    "reporting_df[\"revenue_month_date\"][reporting_df[\"type_of_transaction\"] == \"refund\"] = (\n",
    "    reporting_df[\"transaction_date\"].to_numpy().astype(\"datetime64[M]\")\n",
    ")\n",
    "\n",
    "reporting_df[\"revenue_month_date\"] = reporting_df.apply(\n",
    "    lambda x: x[\"revenue_month_date\"]\n",
    "              + pd.offsets.MonthEnd(x[\"revenue_month_number\"])\n",
    "              + pd.offsets.MonthBegin(-1),\n",
    "    axis=1,\n",
    ")\n",
    "\n",
    "reporting_df[\"product_term_length\"] = reporting_df[\"revenue_month_date\"].apply(\n",
    "    lambda t: pd.Period(t, freq=\"S\").days_in_month\n",
    ")\n",
    "\n",
    "reporting_df[\"product_term_length\"][reporting_df[\"term_start\"] > reporting_df[\"revenue_month_date\"]] = (\n",
    "                                                                                                               reporting_df[\n",
    "                                                                                                                   \"term_start\"].dt.daysinmonth -\n",
    "                                                                                                               reporting_df[\n",
    "                                                                                                                   \"term_start\"].dt.day\n",
    "                                                                                                       ) + 1"
   ]
  },
  {
   "cell_type": "code",
   "execution_count": 14,
   "metadata": {
    "pycharm": {
     "name": "#%%\n"
    }
   },
   "outputs": [],
   "source": [
    "## Reseting index\n",
    "reporting_df.reset_index(drop=True, inplace=True)"
   ]
  },
  {
   "cell_type": "code",
   "execution_count": 15,
   "metadata": {
    "pycharm": {
     "name": "#%%\n"
    }
   },
   "outputs": [],
   "source": [
    "## Set active_sub_month_end = 1 by default\n",
    "reporting_df[\"active_sub_month_end\"] = 1\n",
    "\n",
    "## Get last indices of each transaction_id group\n",
    "last_idxs = (\n",
    "        len(reporting_df)\n",
    "        - np.unique(\n",
    "    reporting_df.transaction_id.values[::-1],\n",
    "    return_index=1,\n",
    ")[1]\n",
    "        - 1\n",
    ")\n",
    "\n",
    "reporting_df[\"active_sub_month_end\"].iloc[last_idxs] = 0\n",
    "\n",
    "## Mark all one transaction subscriptions as 1\n",
    "reporting_df[\"active_sub_month_end\"][\n",
    "    (reporting_df[\"revenue_month_number\"] <= 1) & (reporting_df[\"product_length_months\"] <= 1)\n",
    "    ] = 1\n",
    "\n",
    "## Mark all refund transactions as -1\n",
    "reporting_df[\"active_sub_month_end\"][reporting_df[\"type_of_transaction\"] == \"refund\"] = -1"
   ]
  },
  {
   "cell_type": "code",
   "execution_count": 16,
   "outputs": [],
   "source": [
    "## Active_sub_content follows the same logic as active_sub_month_end except it doesn't count the last month\n",
    "reporting_df[\"active_sub_content\"] = reporting_df.active_sub_month_end\n",
    "\n",
    "reporting_df.loc[reporting_df.groupby('transaction_id')['active_sub_content'].tail(2).index, 'active_sub_content'] = 0"
   ],
   "metadata": {
    "collapsed": false,
    "pycharm": {
     "name": "#%%\n"
    }
   }
  },
  {
   "cell_type": "code",
   "execution_count": 17,
   "metadata": {
    "pycharm": {
     "name": "#%%\n"
    }
   },
   "outputs": [],
   "source": [
    "## Fix last position of product_term_length per transaction_id\n",
    "reporting_df[\"product_term_length\"].iloc[last_idxs] = (\n",
    "        reporting_df[\"term_end\"].iloc[last_idxs] -\n",
    "        reporting_df[\"revenue_month_date\"].iloc[last_idxs]\n",
    ").dt.days"
   ]
  },
  {
   "cell_type": "code",
   "execution_count": 18,
   "metadata": {
    "pycharm": {
     "name": "#%%\n"
    }
   },
   "outputs": [],
   "source": [
    "## Fix to tackle dynamic term_end for refunds (same as product_length_months)\n",
    "reporting_df[\"product_term_length\"][reporting_df[\"product_term_length\"] < 0] = 0"
   ]
  },
  {
   "cell_type": "code",
   "execution_count": 19,
   "metadata": {
    "pycharm": {
     "name": "#%%\n"
    }
   },
   "outputs": [],
   "source": [
    "## Total_days of product_term_length per transaction_id\n",
    "reporting_df[\"total_days\"] = reporting_df.groupby(\"transaction_id\")[\"product_term_length\"].transform(\n",
    "    \"sum\"\n",
    ")"
   ]
  },
  {
   "cell_type": "code",
   "execution_count": 20,
   "outputs": [],
   "source": [
    "## Get 12mo subs that didn't stay for 12 months for posterior treatment of exception\n",
    "reporting_df['max_revenue_month_number'] = reporting_df.groupby(['transaction_id'])['revenue_month_number'].transform(\n",
    "    max)\n",
    "\n",
    "# reporting_df[(reporting_df.sku.str.contains('zattoo_web_hiq_swiss_12mo')) & (reporting_df.max_revenue_month_number < 13)]"
   ],
   "metadata": {
    "collapsed": false,
    "pycharm": {
     "name": "#%%\n"
    }
   }
  },
  {
   "cell_type": "code",
   "execution_count": 21,
   "outputs": [],
   "source": [
    "## NEW LINE! added on 2022-04-27\n",
    "## Product_term_length fix for subscriptions < 31 days (1, 3, 7 days)\n",
    "reporting_df['product_term_length'][reporting_df.sku.str.contains('day')] = (\n",
    "        reporting_df.term_end - reporting_df.term_start).dt.days"
   ],
   "metadata": {
    "collapsed": false,
    "pycharm": {
     "name": "#%%\n"
    }
   }
  },
  {
   "cell_type": "code",
   "execution_count": 22,
   "outputs": [],
   "source": [
    "## Total_days fix for subscriptions < 31 days (1, 3, 7 days)\n",
    "reporting_df[\"total_days\"][\n",
    "    (reporting_df.product_term_length != reporting_df.total_days) & (reporting_df['product_length_months'] <= 1)] = reporting_df[\"product_term_length\"][\n",
    "    (reporting_df.product_term_length != reporting_df.total_days) & (reporting_df['product_length_months'] <= 1)]"
   ],
   "metadata": {
    "collapsed": false,
    "pycharm": {
     "name": "#%%\n"
    }
   }
  },
  {
   "cell_type": "code",
   "execution_count": 23,
   "metadata": {
    "pycharm": {
     "name": "#%%\n"
    }
   },
   "outputs": [],
   "source": [
    "## Calculate total_revenue_net fields\n",
    "reporting_df[\"total_revenue_net_eur\"] = (\n",
    "        reporting_df[\"total_booking_net_eur\"] / reporting_df[\"total_days\"] * reporting_df[\"product_term_length\"]\n",
    ")\n",
    "\n",
    "reporting_df[\"total_revenue_net_chf\"] = (\n",
    "        reporting_df[\"total_booking_net_chf\"] / reporting_df[\"total_days\"] * reporting_df[\"product_term_length\"]\n",
    ")\n",
    "\n",
    "## Remove total_booking values from all lines of group except first\n",
    "reporting_df.loc[\n",
    "    reporting_df[\"revenue_month_number\"] > 1,\n",
    "    [\"total_booking_net_chf\", \"total_booking_net_eur\"],\n",
    "] = 0.0"
   ]
  },
  {
   "cell_type": "code",
   "execution_count": 24,
   "outputs": [],
   "source": [
    "## Remove following values from all lines of group except first. This is done to avoid future aggregation issues\n",
    "one_line_cols = [\"vat_eur\", 'vat_chf', 'payout_eur', 'payout_chf', 'sales_price_eur', 'sales_price_chf', 'fee_eur', 'fee_chf', 'new_booking_net_eur',\n",
    "                 'new_booking_net_chf', 'renewal_booking_net_eur',\n",
    "                 'renewal_booking_net_chf','store_fees_eur', 'store_fees_chf',\n",
    "                 'charge_eur', 'charge_chf',\n",
    "                 'vat_percentage',\n",
    "                 'avg_price_sales_per_sub', 'units']\n",
    "\n",
    "for col in one_line_cols:\n",
    "    reporting_df.loc[\n",
    "        reporting_df[\"revenue_month_number\"] > 1,\n",
    "        [col, \"total_booking_net_eur\"],\n",
    "    ] = 0.0"
   ],
   "metadata": {
    "collapsed": false,
    "pycharm": {
     "name": "#%%\n"
    }
   }
  },
  {
   "cell_type": "code",
   "execution_count": 25,
   "metadata": {
    "pycharm": {
     "name": "#%%\n"
    }
   },
   "outputs": [],
   "source": [
    "## Prepare df_nocalcs for free trials and full discounts\n",
    "reporting_df_nocalcs = df[~df[\"type_of_transaction\"].isin(type_trans_lst)].copy()\n",
    "\n",
    "for date in parse_dates:\n",
    "    reporting_df_nocalcs[date] = pd.to_datetime(reporting_df_nocalcs[date]).dt.tz_convert(None)"
   ]
  },
  {
   "cell_type": "code",
   "execution_count": 26,
   "outputs": [],
   "source": [
    "## Extract list of transaction ids whose subscription float between one month and the other, and are 1, 3 or 7 days (== product_length < 31)\n",
    "trx_lst_more_1month_subs = reporting_df['transaction_id'][\n",
    "    (reporting_df[\"revenue_month_number\"] > 1) & (reporting_df.sku.str.contains('day'))]\n",
    "\n",
    "## This logic makes sure the days are allocated correctly for these very specific subscriptions\n",
    "reporting_df['product_term_length'][\n",
    "    (reporting_df.transaction_id.isin(trx_lst_more_1month_subs)) & (reporting_df.revenue_month_number == 1)] = - (\n",
    "        reporting_df.term_start - reporting_df.revenue_month_date.shift(1)).dt.days\n",
    "\n",
    "reporting_df['product_term_length'][\n",
    "    (reporting_df.transaction_id.isin(trx_lst_more_1month_subs)) & (reporting_df.revenue_month_number > 1)] = (\n",
    "        reporting_df.term_end - reporting_df.revenue_month_date).dt.days"
   ],
   "metadata": {
    "collapsed": false,
    "pycharm": {
     "name": "#%%\n"
    }
   }
  },
  {
   "cell_type": "code",
   "execution_count": 27,
   "outputs": [],
   "source": [
    "## Fix active_sub_month_end for subscriptions with only 1 revenue month and length < 30 days\n",
    "reporting_df['last_day_term_end'] = (pd.to_datetime(reporting_df['term_end'], format=\"%d\", unit='d')).dt.day\n",
    "reporting_df['last_day_month'] = (\n",
    "        pd.to_datetime(reporting_df['term_end'], format=\"%d\", unit='d') + pd.offsets.MonthEnd(n=1)).dt.day\n",
    "\n",
    "reporting_df[\"active_sub_month_end\"][reporting_df.last_day_term_end < reporting_df.last_day_month] = 0"
   ],
   "metadata": {
    "collapsed": false,
    "pycharm": {
     "name": "#%%\n"
    }
   }
  },
  {
   "cell_type": "code",
   "execution_count": 28,
   "outputs": [],
   "source": [
    "## Fix those one line transactions that still have wrong product_term_length\n",
    "trx_id_counts = reporting_df['transaction_id'].value_counts(sort=False)\n",
    "check_length_mask = reporting_df[\n",
    "    reporting_df['transaction_id'].isin(trx_id_counts.index[trx_id_counts == 1])].index.to_list()\n",
    "\n",
    "reporting_df[\"product_term_length\"].loc[check_length_mask] = reporting_df[\n",
    "                                                                 'term_end'].dt.day - reporting_df.term_start.dt.day"
   ],
   "metadata": {
    "collapsed": false,
    "pycharm": {
     "name": "#%%\n"
    }
   }
  },
  {
   "cell_type": "code",
   "execution_count": 29,
   "outputs": [
    {
     "data": {
      "text/plain": "[176,\n 931,\n 932,\n 933,\n 934,\n 935,\n 936,\n 937,\n 938,\n 939,\n 940,\n 941,\n 942,\n 943,\n 944,\n 945,\n 946,\n 947,\n 948,\n 949,\n 950,\n 951,\n 952,\n 953,\n 954,\n 955,\n 956,\n 957,\n 958,\n 959,\n 1220,\n 3118,\n 3119,\n 3120,\n 3559,\n 4870,\n 5654,\n 5687,\n 5710,\n 5763,\n 6791,\n 6982,\n 7324,\n 7657,\n 8651,\n 9046,\n 9465,\n 10064,\n 10131,\n 10899,\n 11256,\n 11367,\n 12158,\n 12493,\n 12494,\n 12495,\n 12496,\n 12497,\n 12498,\n 12499,\n 12500,\n 12705,\n 15053,\n 15640,\n 15649,\n 15862,\n 18323,\n 18900,\n 20594,\n 20839,\n 20840,\n 20841,\n 20842,\n 20843,\n 20844,\n 20845,\n 20846,\n 20847,\n 20848,\n 20849,\n 20850,\n 20851,\n 20852,\n 20853,\n 20854,\n 20855,\n 20856,\n 20857,\n 20858,\n 20859,\n 20860,\n 20861,\n 20862,\n 20863,\n 20864,\n 20865,\n 20866,\n 20978,\n 20994,\n 22323,\n 22711,\n 22816,\n 22817,\n 24542,\n 24641,\n 24744,\n 24763,\n 26520,\n 26885,\n 27101,\n 27104,\n 27189,\n 27208,\n 27303,\n 27314,\n 27341,\n 27712,\n 27931,\n 28086,\n 28657,\n 28660,\n 28743,\n 29974,\n 30253,\n 31662,\n 31895,\n 32314,\n 32735,\n 33176,\n 33177,\n 33178,\n 33179,\n 33180,\n 33181,\n 33182,\n 33183,\n 33184,\n 33185,\n 33186,\n 33885,\n 33906,\n 33907,\n 33908,\n 33909,\n 33910,\n 33911,\n 33912,\n 33913,\n 33914,\n 33915,\n 33916,\n 33917,\n 34297,\n 34436,\n 34594,\n 34696,\n 35470,\n 35690,\n 36730,\n 37143,\n 38517,\n 39772,\n 41599,\n 43883,\n 44856,\n 46994,\n 48069,\n 48070,\n 48071,\n 48072,\n 48073,\n 48074,\n 48075,\n 48076,\n 48077,\n 48078,\n 48079,\n 48080,\n 48081,\n 48082,\n 48083,\n 48084,\n 48085,\n 48571,\n 48582,\n 51007,\n 51090,\n 51275,\n 51740,\n 52244,\n 52245,\n 52246,\n 52247,\n 52248,\n 52249,\n 52250,\n 52251,\n 52252,\n 52253,\n 52254,\n 54437,\n 54920,\n 56149,\n 56688,\n 57209,\n 57920,\n 58563,\n 58564,\n 58565,\n 58566,\n 58567,\n 58570,\n 58821,\n 59122,\n 59826,\n 61919,\n 62012,\n 63870,\n 63871,\n 63872,\n 63873,\n 63874,\n 63875,\n 63876,\n 63877,\n 63878,\n 63879,\n 63880,\n 63881,\n 63916,\n 65767,\n 66015,\n 66781,\n 68031,\n 68339,\n 68340,\n 68341,\n 68342,\n 68375,\n 68382,\n 68843,\n 70979,\n 71060,\n 71073,\n 71076,\n 71101,\n 71136,\n 74665,\n 75996,\n 76025,\n 76038,\n 76881,\n 76973,\n 77122,\n 77125,\n 77134,\n 77250,\n 77269,\n 78844,\n 84023,\n 84848,\n 84849,\n 84850,\n 84851,\n 84852,\n 84853,\n 84854,\n 84855,\n 84856,\n 85213,\n 86092,\n 87718,\n 88577,\n 88578,\n 88579,\n 88580,\n 88581,\n 88582,\n 88583,\n 88584,\n 88585,\n 88586,\n 88587,\n 88588,\n 88589,\n 88590,\n 88864,\n 89183,\n 90119,\n 90140,\n 90143,\n 90284,\n 90661,\n 90740,\n 91089,\n 91476,\n 91585,\n 91722,\n 91961,\n 92116,\n 92245,\n 92420,\n 94356,\n 94479,\n 94508,\n 94529,\n 94868,\n 95151,\n 95978,\n 96971,\n 98208,\n 99705,\n 100891,\n 100974,\n 100975,\n 101018,\n 101029,\n 101122,\n 102211,\n 103543,\n 104926,\n 105061,\n 105154,\n 105303,\n 105626,\n 105727,\n 105736,\n 105793,\n 106270,\n 108195,\n 109409,\n 110122,\n 110215,\n 110862,\n 110865,\n 111078,\n 112451,\n 112848,\n 112851,\n 112880,\n 112901,\n 113397,\n 113398,\n 113399,\n 113400,\n 113401,\n 113440,\n 113996,\n 114101,\n 114102,\n 114103,\n 114104,\n 114563,\n 115150,\n 115523,\n 115846,\n 116227,\n 117660,\n 117661,\n 117662,\n 117663,\n 117664,\n 117665,\n 117666,\n 117667,\n 117668,\n 117669,\n 117670,\n 117711,\n 117808,\n 118505,\n 118672,\n 120542,\n 120616,\n 120670,\n 121035,\n 121751,\n 122190,\n 122738,\n 122847,\n 122860,\n 122889,\n 122892,\n 122917,\n 122922,\n 123157,\n 123180,\n 127465,\n 127916,\n 128039,\n 128228,\n 128423,\n 128490,\n 129981,\n 133551,\n 133552,\n 133553,\n 133618,\n 133637,\n 135781,\n 135873,\n 135887,\n 136061,\n 137165,\n 137410,\n 137413,\n 137478,\n 137479,\n 137652,\n 137823,\n 137824,\n 137825,\n 137826,\n 137827,\n 137828,\n 137829,\n 137830,\n 137831,\n 137832,\n 137833,\n 137834,\n 137835,\n 137836,\n 137837,\n 137838,\n 137839,\n 137840,\n 137841,\n 137862,\n 138220,\n 138677,\n 138755,\n 138821,\n 138861,\n 139190,\n 139623,\n 139676,\n 140560,\n 140589,\n 140598,\n 141145,\n 142330,\n 142631,\n 143852,\n 144691,\n 144744,\n 145208,\n 145731,\n 148076,\n 148149,\n 148166,\n 148237,\n 148304,\n 150747,\n 150748,\n 150749,\n 150750,\n 150751,\n 150752,\n 150753,\n 150754,\n 150755,\n 150756,\n 150757,\n 150758,\n 150759,\n 150760,\n 150761,\n 150762,\n 150763,\n 150764,\n 150917,\n 150970,\n 151743,\n 152118,\n 152977,\n 154219,\n 154220,\n 154233,\n 154397,\n 154690,\n 155068,\n 155174,\n 155622,\n 156343,\n 156726,\n 158905,\n 160434,\n 161126,\n 161127,\n 161128,\n 161129,\n 162052,\n 163079,\n 163276,\n 163433,\n 163525,\n 163695,\n 164844,\n 164845,\n 164846,\n 164847,\n 164848,\n 164849,\n 164850,\n 164851,\n 164852,\n 164853,\n 164854,\n 164855,\n 164856,\n 164857,\n 164858,\n 164859,\n 164992,\n 165029,\n 165082,\n 165489,\n 167466,\n 167477,\n 167889,\n 167918,\n 167919,\n 167948,\n 169991,\n 170004,\n 170602,\n 170694,\n 171546,\n 172407,\n 172732,\n 173040,\n 174967,\n 174968,\n 174969,\n 174970,\n 174971,\n 174972,\n 174973,\n 174974,\n 174975,\n 174976,\n 174977,\n 174978,\n 174979,\n 174980,\n 174981,\n 174982,\n 174983,\n 174984,\n 174985,\n 174986,\n 174987,\n 174988,\n 174989,\n 174990,\n 174991,\n 174992,\n 174993,\n 174994,\n 174995,\n 174996,\n 174997,\n 174998,\n 174999,\n 175000,\n 175001,\n 175002,\n 175003,\n 175004,\n 175005,\n 175006,\n 175007,\n 175008,\n 175009,\n 175010,\n 175011,\n 175012,\n 175013,\n 175014,\n 175015,\n 175016,\n 175017,\n 175018,\n 175019,\n 175020,\n 175021,\n 175022,\n 175023,\n 175024,\n 175025,\n 175026,\n 175027,\n 175028,\n 175029,\n 175912,\n 176340,\n 176381,\n 176392,\n 176665,\n 176706,\n 177863,\n 179499,\n 179500,\n 179501,\n 179502,\n 179503,\n 179504,\n 179753,\n 179754,\n 179755,\n 179756,\n 179757,\n 179758,\n 179759,\n 179760,\n 179761,\n 179822,\n 181960,\n 182405,\n 183689,\n 183690,\n 183813,\n 184887,\n 184954,\n 186121,\n 186329,\n 186422,\n 187043,\n 187124,\n 187149,\n 187686,\n 187751,\n 188238,\n 188397,\n 190548,\n 190839,\n 190856,\n 194877,\n 196927,\n 196928,\n 196929,\n 196943,\n 197512,\n 197569,\n 197766,\n 197901,\n 197902,\n 198683,\n 198826,\n 199209,\n 199328,\n 200231,\n 201750,\n 203025,\n 203666,\n 204009,\n 204010,\n 204011,\n 204012,\n 204013,\n 204014,\n 204015,\n 204016,\n 204017,\n 204018,\n 204019,\n 204020,\n 204021,\n 204022,\n 204023,\n 204024,\n 204025,\n 204026,\n 204027,\n 204947,\n 205714,\n 206691,\n 207122,\n 207841,\n 208052,\n 208111,\n 208112,\n 208113,\n 208114,\n 208115,\n 208116,\n 208117,\n 208118,\n 208119,\n 208120,\n 208121,\n 208122,\n 208123,\n 208124,\n 208125,\n 208126,\n 208127,\n 208128,\n 208129,\n 208130,\n 208131,\n 208132,\n 209035,\n 209212,\n 209607,\n 211060,\n 211253,\n 212324,\n 213069,\n 214273,\n 214274,\n 214275,\n 214276,\n 214277,\n 214278,\n 214279,\n 214280,\n 214281,\n 214282,\n 214283,\n 214284,\n 214285,\n 214286,\n 214287,\n 214288,\n 214289,\n 214290,\n 214291,\n 214292,\n 214293,\n 214802,\n 214823,\n 214948,\n 215311,\n 215388,\n 218685,\n 218734,\n 219289,\n 219734,\n 219735,\n 219736,\n 219737,\n 219738,\n 219739,\n 219740,\n 219741,\n 219742,\n 219743,\n 219744,\n 219745,\n 219746,\n 219747,\n 219748,\n 219749,\n 219750,\n 219751,\n 219752,\n 219753,\n 219754,\n 219755,\n 219756,\n 219757,\n 219758,\n 219759,\n 219760,\n 219761,\n 219766,\n 222012,\n 222067,\n 222272,\n 222273,\n 222582,\n 223055,\n 223948,\n 224095,\n 224096,\n 224097,\n 224098,\n 224099,\n 224100,\n 224101,\n 224102,\n 224103,\n 224104,\n 224105,\n 224106,\n 224107,\n 224247,\n 224248,\n 224249,\n 224250,\n 224251,\n 224252,\n 224253,\n 224254,\n 224255,\n 224256,\n 224257,\n 224258,\n 224259,\n 224260,\n 224261,\n 224262,\n 224263,\n 224264,\n 224265,\n 224266,\n 224267,\n 224268,\n 224269,\n 224270,\n 224524,\n 224525,\n 224726,\n 225689,\n 226612,\n 226995,\n 227113,\n 227138,\n 227732,\n 229403,\n 230932,\n 231285,\n 232622,\n 232870,\n 232902,\n 232991,\n 235292,\n 237384,\n 237385,\n 237386,\n 237387,\n 237388,\n 237389,\n 237390,\n 237391,\n 237392,\n 237393,\n 237394,\n 237395,\n 237396,\n 237397,\n 237398,\n 237399,\n 237400,\n 237401,\n 237402,\n 237403,\n 237404,\n 237405,\n 237406,\n 237407,\n 237408,\n 237409,\n 237410,\n 237411,\n 237566,\n 238608,\n 240058,\n 240589,\n 241118,\n 241137,\n 241156,\n 241167,\n 241220,\n 241235,\n 241236,\n 244053,\n 244809,\n 248305,\n 248306,\n 248307,\n 248588,\n 248609,\n 248746,\n 248997,\n 250046,\n 251038,\n 251638,\n 252654,\n 254586,\n 254587,\n 254588,\n 254589,\n 254590,\n 254591,\n 254592,\n 254593,\n 254594,\n 254971,\n 256367,\n 256368,\n 256369,\n 256431,\n 256432,\n 256433,\n 256434,\n 256435,\n 256436,\n 256437,\n 256808,\n 256809,\n 256810,\n 256811,\n 256812,\n 256813,\n 256814,\n 256815,\n 256816,\n 256817,\n 256818,\n 256819,\n 256820,\n 256821,\n 256822,\n 256823,\n 256824,\n 256825,\n 256826,\n 256827,\n 256828,\n 256829,\n 256830,\n 256831,\n 256832,\n 256833,\n 256834,\n 256835,\n 256836,\n 256837,\n 256838,\n 256839,\n 256840,\n 256841,\n 256842,\n 256843,\n 256844,\n 256845,\n 256846,\n 256847,\n 256848,\n 256849,\n 256850,\n 256851,\n 256852,\n 256853,\n 256854,\n 256855,\n 256856,\n 256857,\n 256858,\n 256859,\n 256860,\n 256861,\n 256862,\n 256863,\n 256864,\n 256865,\n 256866,\n 256867,\n 256868,\n 256869,\n 256870,\n 256892,\n 256998,\n 256999,\n 257000,\n 257001,\n 257002,\n 257003,\n 257004,\n 257005,\n 257006,\n 257007,\n 257008,\n 257009,\n 257010,\n 257011,\n 257012,\n 257013,\n 257014,\n 257015,\n 257016,\n 257017,\n 257018,\n 257019,\n 257020,\n 257021,\n 257022,\n 257033,\n 257164,\n 257750,\n 257783,\n 259026,\n 259211,\n 259268,\n 259275,\n 260342,\n 261799,\n ...]"
     },
     "execution_count": 29,
     "metadata": {},
     "output_type": "execute_result"
    }
   ],
   "source": [
    "check_length_mask"
   ],
   "metadata": {
    "collapsed": false,
    "pycharm": {
     "name": "#%%\n"
    }
   }
  },
  {
   "cell_type": "code",
   "execution_count": 30,
   "outputs": [],
   "source": [
    "## Calculate total_booking_net columns\n",
    "reporting_df_nocalcs[\"total_booking_net_chf\"] = (\n",
    "        reporting_df_nocalcs[\"new_booking_net_chf\"] + reporting_df_nocalcs[\"renewal_booking_net_chf\"]\n",
    ")\n",
    "reporting_df_nocalcs[\"total_booking_net_eur\"] = (\n",
    "        reporting_df_nocalcs[\"new_booking_net_eur\"] + reporting_df_nocalcs[\"renewal_booking_net_eur\"]\n",
    ")"
   ],
   "metadata": {
    "collapsed": false,
    "pycharm": {
     "name": "#%%\n"
    }
   }
  },
  {
   "cell_type": "code",
   "execution_count": 31,
   "outputs": [],
   "source": [
    "## Calculating sales_prices                                                                                                     errors='ignore')\n",
    "reporting_df['sales_price_eur'] = reporting_df['total_booking_net_eur'] * (\n",
    "        1 + (reporting_df['vat_percentage'] / 100))\n",
    "reporting_df['sales_price_chf'] = reporting_df['total_booking_net_chf'] * (\n",
    "        1 + (reporting_df['vat_percentage'] / 100))"
   ],
   "metadata": {
    "collapsed": false,
    "pycharm": {
     "name": "#%%\n"
    }
   }
  },
  {
   "cell_type": "code",
   "execution_count": 32,
   "outputs": [],
   "source": [
    "## Append dataframes\n",
    "reporting_df = reporting_df.append(reporting_df_nocalcs).reset_index(drop=True)\n",
    "\n",
    "## Convert revenue_month_date to date\n",
    "reporting_df[\"revenue_month_date\"] = pd.to_datetime(\n",
    "    reporting_df[\"revenue_month_date\"]\n",
    ").dt.date"
   ],
   "metadata": {
    "collapsed": false,
    "pycharm": {
     "name": "#%%\n"
    }
   }
  },
  {
   "cell_type": "code",
   "execution_count": 33,
   "outputs": [],
   "source": [
    "## Standardizing the report so it's in line with Amazon, Google and Apple\n",
    "reporting_df[['domestic_abroad', 'subscription_status']] = np.nan\n",
    "\n",
    "reporting_df[['charge_chf', 'charge_eur', 'units', 'store_fees_percentage', 'payout_chf', 'fee_eur', 'fee_chf',\n",
    "              'payout_eur']] = 0"
   ],
   "metadata": {
    "collapsed": false,
    "pycharm": {
     "name": "#%%\n"
    }
   }
  },
  {
   "cell_type": "code",
   "execution_count": 34,
   "outputs": [],
   "source": [
    "## Final clean up\n",
    "reporting_df['revenue_month_date'] = pd.to_datetime(reporting_df['revenue_month_date'])"
   ],
   "metadata": {
    "collapsed": false,
    "pycharm": {
     "name": "#%%\n"
    }
   }
  },
  {
   "cell_type": "code",
   "execution_count": 35,
   "outputs": [],
   "source": [
    "## Reorder dataframe\n",
    "reporting_df = reporting_df[\n",
    "    [\n",
    "        'transaction_id',\n",
    "        'transaction_date',\n",
    "        'term_end',\n",
    "        'reporting_month',\n",
    "        'country_name',\n",
    "        'country_code',\n",
    "        'currency',\n",
    "        'sku',\n",
    "        'subscription_status',\n",
    "        'type_of_transaction',\n",
    "        'payment_method',\n",
    "        'product_class',\n",
    "        'product_group_finance',\n",
    "        'product_length',\n",
    "        'product_length_months',\n",
    "        'product_term_length',\n",
    "        'domestic_abroad',\n",
    "        'vat_percentage',\n",
    "        'exchange_rate_eur_to_chf',\n",
    "        'store_fees_eur',\n",
    "        'store_fees_chf',\n",
    "        'store_fees_percentage',\n",
    "        'units',\n",
    "        'charge_eur',\n",
    "        'sales_price_eur',\n",
    "        'fee_eur',\n",
    "        'vat_eur',\n",
    "        'new_booking_net_eur',\n",
    "        'renewal_booking_net_eur',\n",
    "        'payout_eur',\n",
    "        'total_revenue_net_eur',\n",
    "        'charge_chf',\n",
    "        'sales_price_chf',\n",
    "        'fee_chf',\n",
    "        'vat_chf',\n",
    "        'new_booking_net_chf',\n",
    "        'renewal_booking_net_chf',\n",
    "        'payout_chf',\n",
    "        'total_revenue_net_chf',\n",
    "        'revenue_month_number',\n",
    "        'revenue_month_date',\n",
    "        'active_sub_month_end',\n",
    "        'active_sub_content'\n",
    "    ]\n",
    "]\n",
    "\n",
    "## Define BQ table schema\n",
    "bq_schema = [\n",
    "    {\"name\": \"transaction_id\", \"type\": \"STRING\"},\n",
    "    {\"name\": \"transaction_date\", \"type\": \"TIMESTAMP\"},\n",
    "    {\"name\": \"term_end\", \"type\": \"TIMESTAMP\"},\n",
    "    {\"name\": \"reporting_month\", \"type\": \"STRING\"},\n",
    "    {\"name\": \"country_name\", \"type\": \"STRING\"},\n",
    "    {\"name\": \"country_code\", \"type\": \"STRING\"},\n",
    "    {\"name\": \"currency\", \"type\": \"STRING\"},\n",
    "    {\"name\": \"sku\", \"type\": \"STRING\"},\n",
    "    {\"name\": \"subscription_status\", \"type\": \"STRING\"},\n",
    "    {\"name\": \"type_of_transaction\", \"type\": \"STRING\"},\n",
    "    {\"name\": \"payment_method\", \"type\": \"STRING\"},\n",
    "    {\"name\": \"product_class\", \"type\": \"STRING\"},\n",
    "    {\"name\": \"product_group_finance\", \"type\": \"STRING\"},\n",
    "    {\"name\": \"product_length\", \"type\": \"INTEGER\"},\n",
    "    {\"name\": \"product_length_months\", \"type\": \"INTEGER\"},\n",
    "    {\"name\": \"product_term_length\", \"type\": \"INTEGER\"},\n",
    "    {\"name\": \"domestic_abroad\", \"type\": \"STRING\"},\n",
    "    {\"name\": \"vat_percentage\", \"type\": \"FLOAT\"},\n",
    "    {\"name\": \"exchange_rate_eur_to_chf\", \"type\": \"FLOAT\"},\n",
    "    {\"name\": \"store_fees_eur\", \"type\": \"INTEGER\"},\n",
    "    {\"name\": \"store_fees_chf\", \"type\": \"INTEGER\"},\n",
    "    {\"name\": \"store_fees_percentage\", \"type\": \"INTEGER\"},\n",
    "    {\"name\": \"units\", \"type\": \"INTEGER\"},\n",
    "    {\"name\": \"charge_eur\", \"type\": \"FLOAT\"},\n",
    "    {\"name\": \"sales_price_eur\", \"type\": \"FLOAT\"},\n",
    "    {\"name\": \"fee_eur\", \"type\": \"FLOAT\"},\n",
    "    {\"name\": \"vat_eur\", \"type\": \"FLOAT\"},\n",
    "    {\"name\": \"new_booking_net_eur\", \"type\": \"FLOAT\"},\n",
    "    {\"name\": \"renewal_booking_net_eur\", \"type\": \"FLOAT\"},\n",
    "    {\"name\": \"payout_eur\", \"type\": \"FLOAT\"},\n",
    "    {\"name\": \"total_revenue_net_eur\", \"type\": \"FLOAT\"},\n",
    "    {\"name\": \"charge_chf\", \"type\": \"FLOAT\"},\n",
    "    {\"name\": \"sales_price_chf\", \"type\": \"FLOAT\"},\n",
    "    {\"name\": \"fee_chf\", \"type\": \"FLOAT\"},\n",
    "    {\"name\": \"vat_chf\", \"type\": \"FLOAT\"},\n",
    "    {\"name\": \"new_booking_net_chf\", \"type\": \"FLOAT\"},\n",
    "    {\"name\": \"renewal_booking_net_chf\", \"type\": \"FLOAT\"},\n",
    "    {\"name\": \"payout_chf\", \"type\": \"FLOAT\"},\n",
    "    {\"name\": \"total_revenue_net_chf\", \"type\": \"FLOAT\"},\n",
    "    {\"name\": \"revenue_month_number\", \"type\": \"INTEGER\"},\n",
    "    {\"name\": \"revenue_month_date\", \"type\": \"TIMESTAMP\"},\n",
    "    {\"name\": \"active_sub_month_end\", \"type\": \"INTEGER\"},\n",
    "    {\"name\": \"active_sub_content\", \"type\": \"INTEGER\"}\n",
    "]"
   ],
   "metadata": {
    "collapsed": false,
    "pycharm": {
     "name": "#%%\n"
    }
   }
  },
  {
   "cell_type": "code",
   "execution_count": 36,
   "outputs": [],
   "source": [
    "## Export to csv\n",
    "path = r\"/Users/miguelcouto/Desktop/\"\n",
    "\n",
    "reporting_df.to_csv(os.path.join(path, fr'subs_reporting_datatrans{reporting_month.replace(\"-\", \"_\")}.csv'))"
   ],
   "metadata": {
    "collapsed": false,
    "pycharm": {
     "name": "#%%\n"
    }
   }
  },
  {
   "cell_type": "code",
   "execution_count": 37,
   "outputs": [],
   "source": [
    "## Export to BQ table\n",
    "pandas_gbq.to_gbq(\n",
    "    dataframe=reporting_df,\n",
    "    destination_table=f\"finance.subs_reporting_datatrans{reporting_month.replace('-', '')}\",\n",
    "    project_id=\"zattoo-dataeng\",\n",
    "    if_exists=\"replace\",\n",
    "    progress_bar=None,\n",
    "    table_schema=bq_schema,\n",
    ")"
   ],
   "metadata": {
    "collapsed": false,
    "pycharm": {
     "name": "#%%\n"
    }
   }
  }
 ],
 "metadata": {
  "kernelspec": {
   "display_name": "Python 3",
   "language": "python",
   "name": "python3"
  },
  "language_info": {
   "codemirror_mode": {
    "name": "ipython",
    "version": 3
   },
   "file_extension": ".py",
   "mimetype": "text/x-python",
   "name": "python",
   "nbconvert_exporter": "python",
   "pygments_lexer": "ipython3",
   "version": "3.9.4"
  }
 },
 "nbformat": 4,
 "nbformat_minor": 4
}